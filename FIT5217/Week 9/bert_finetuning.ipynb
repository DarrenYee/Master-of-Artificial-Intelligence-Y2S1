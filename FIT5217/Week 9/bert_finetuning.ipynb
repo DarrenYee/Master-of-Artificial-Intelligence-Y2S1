{
  "cells": [
    {
      "cell_type": "markdown",
      "id": "f4fc8694-033b-4e8c-9e75-bbf0b644dbdf",
      "metadata": {
        "id": "f4fc8694-033b-4e8c-9e75-bbf0b644dbdf"
      },
      "source": [
        "#  BERT for sentiment classification \n",
        "\n",
        "Some figures are adapted from [_The Illustrated BERT, ELMo, and co._](https://jalammar.github.io/illustrated-bert/) by Jay Alammar."
      ]
    },
    {
      "cell_type": "code",
      "execution_count": null,
      "id": "c1b81ba4-1324-4dc6-984b-fddd7d364314",
      "metadata": {
        "scrolled": true,
        "tags": [],
        "colab": {
          "base_uri": "https://localhost:8080/"
        },
        "id": "c1b81ba4-1324-4dc6-984b-fddd7d364314",
        "outputId": "c4ed85cf-5798-4165-c937-01b1f4ae70d7"
      },
      "outputs": [
        {
          "output_type": "stream",
          "name": "stdout",
          "text": [
            "Requirement already satisfied: torch in /usr/local/lib/python3.7/dist-packages (1.10.0+cu111)\n",
            "Requirement already satisfied: torchtext in /usr/local/lib/python3.7/dist-packages (0.11.0)\n",
            "Requirement already satisfied: numpy in /usr/local/lib/python3.7/dist-packages (1.21.5)\n",
            "Requirement already satisfied: matplotlib in /usr/local/lib/python3.7/dist-packages (3.2.2)\n",
            "Requirement already satisfied: datasets in /usr/local/lib/python3.7/dist-packages (2.0.0)\n",
            "Requirement already satisfied: adapter-transformers in /usr/local/lib/python3.7/dist-packages (2.3.0)\n",
            "Requirement already satisfied: typing-extensions in /usr/local/lib/python3.7/dist-packages (from torch) (3.10.0.2)\n",
            "Requirement already satisfied: requests in /usr/local/lib/python3.7/dist-packages (from torchtext) (2.23.0)\n",
            "Requirement already satisfied: tqdm in /usr/local/lib/python3.7/dist-packages (from torchtext) (4.63.0)\n",
            "Requirement already satisfied: python-dateutil>=2.1 in /usr/local/lib/python3.7/dist-packages (from matplotlib) (2.8.2)\n",
            "Requirement already satisfied: kiwisolver>=1.0.1 in /usr/local/lib/python3.7/dist-packages (from matplotlib) (1.3.2)\n",
            "Requirement already satisfied: cycler>=0.10 in /usr/local/lib/python3.7/dist-packages (from matplotlib) (0.11.0)\n",
            "Requirement already satisfied: pyparsing!=2.0.4,!=2.1.2,!=2.1.6,>=2.0.1 in /usr/local/lib/python3.7/dist-packages (from matplotlib) (3.0.7)\n",
            "Requirement already satisfied: six>=1.5 in /usr/local/lib/python3.7/dist-packages (from python-dateutil>=2.1->matplotlib) (1.15.0)\n",
            "Requirement already satisfied: packaging in /usr/local/lib/python3.7/dist-packages (from datasets) (21.3)\n",
            "Requirement already satisfied: pandas in /usr/local/lib/python3.7/dist-packages (from datasets) (1.3.5)\n",
            "Requirement already satisfied: pyarrow>=5.0.0 in /usr/local/lib/python3.7/dist-packages (from datasets) (6.0.1)\n",
            "Requirement already satisfied: huggingface-hub<1.0.0,>=0.1.0 in /usr/local/lib/python3.7/dist-packages (from datasets) (0.4.0)\n",
            "Requirement already satisfied: responses<0.19 in /usr/local/lib/python3.7/dist-packages (from datasets) (0.18.0)\n",
            "Requirement already satisfied: fsspec[http]>=2021.05.0 in /usr/local/lib/python3.7/dist-packages (from datasets) (2022.2.0)\n",
            "Requirement already satisfied: importlib-metadata in /usr/local/lib/python3.7/dist-packages (from datasets) (4.11.2)\n",
            "Requirement already satisfied: multiprocess in /usr/local/lib/python3.7/dist-packages (from datasets) (0.70.12.2)\n",
            "Requirement already satisfied: aiohttp in /usr/local/lib/python3.7/dist-packages (from datasets) (3.8.1)\n",
            "Requirement already satisfied: dill in /usr/local/lib/python3.7/dist-packages (from datasets) (0.3.4)\n",
            "Requirement already satisfied: xxhash in /usr/local/lib/python3.7/dist-packages (from datasets) (3.0.0)\n",
            "Requirement already satisfied: pyyaml in /usr/local/lib/python3.7/dist-packages (from huggingface-hub<1.0.0,>=0.1.0->datasets) (6.0)\n",
            "Requirement already satisfied: filelock in /usr/local/lib/python3.7/dist-packages (from huggingface-hub<1.0.0,>=0.1.0->datasets) (3.6.0)\n",
            "Requirement already satisfied: idna<3,>=2.5 in /usr/local/lib/python3.7/dist-packages (from requests->torchtext) (2.10)\n",
            "Requirement already satisfied: urllib3!=1.25.0,!=1.25.1,<1.26,>=1.21.1 in /usr/local/lib/python3.7/dist-packages (from requests->torchtext) (1.25.11)\n",
            "Requirement already satisfied: certifi>=2017.4.17 in /usr/local/lib/python3.7/dist-packages (from requests->torchtext) (2021.10.8)\n",
            "Requirement already satisfied: chardet<4,>=3.0.2 in /usr/local/lib/python3.7/dist-packages (from requests->torchtext) (3.0.4)\n",
            "Requirement already satisfied: sacremoses in /usr/local/lib/python3.7/dist-packages (from adapter-transformers) (0.0.49)\n",
            "Requirement already satisfied: tokenizers<0.11,>=0.10.1 in /usr/local/lib/python3.7/dist-packages (from adapter-transformers) (0.10.3)\n",
            "Requirement already satisfied: regex!=2019.12.17 in /usr/local/lib/python3.7/dist-packages (from adapter-transformers) (2019.12.20)\n",
            "Requirement already satisfied: charset-normalizer<3.0,>=2.0 in /usr/local/lib/python3.7/dist-packages (from aiohttp->datasets) (2.0.12)\n",
            "Requirement already satisfied: async-timeout<5.0,>=4.0.0a3 in /usr/local/lib/python3.7/dist-packages (from aiohttp->datasets) (4.0.2)\n",
            "Requirement already satisfied: multidict<7.0,>=4.5 in /usr/local/lib/python3.7/dist-packages (from aiohttp->datasets) (6.0.2)\n",
            "Requirement already satisfied: asynctest==0.13.0 in /usr/local/lib/python3.7/dist-packages (from aiohttp->datasets) (0.13.0)\n",
            "Requirement already satisfied: frozenlist>=1.1.1 in /usr/local/lib/python3.7/dist-packages (from aiohttp->datasets) (1.3.0)\n",
            "Requirement already satisfied: yarl<2.0,>=1.0 in /usr/local/lib/python3.7/dist-packages (from aiohttp->datasets) (1.7.2)\n",
            "Requirement already satisfied: attrs>=17.3.0 in /usr/local/lib/python3.7/dist-packages (from aiohttp->datasets) (21.4.0)\n",
            "Requirement already satisfied: aiosignal>=1.1.2 in /usr/local/lib/python3.7/dist-packages (from aiohttp->datasets) (1.2.0)\n",
            "Requirement already satisfied: zipp>=0.5 in /usr/local/lib/python3.7/dist-packages (from importlib-metadata->datasets) (3.7.0)\n",
            "Requirement already satisfied: pytz>=2017.3 in /usr/local/lib/python3.7/dist-packages (from pandas->datasets) (2018.9)\n",
            "Requirement already satisfied: click in /usr/local/lib/python3.7/dist-packages (from sacremoses->adapter-transformers) (7.1.2)\n",
            "Requirement already satisfied: joblib in /usr/local/lib/python3.7/dist-packages (from sacremoses->adapter-transformers) (1.1.0)\n"
          ]
        }
      ],
      "source": [
        "!pip3 install torch torchtext numpy matplotlib datasets adapter-transformers"
      ]
    },
    {
      "cell_type": "code",
      "source": [
        "import torch\n",
        "device = torch.device(\"cuda\" if torch.cuda.is_available() else \"cpu\")"
      ],
      "metadata": {
        "id": "DtbJitzhJztp"
      },
      "id": "DtbJitzhJztp",
      "execution_count": 27,
      "outputs": []
    },
    {
      "cell_type": "markdown",
      "id": "4094eb91-a249-42c5-8972-31918307e8b2",
      "metadata": {
        "id": "4094eb91-a249-42c5-8972-31918307e8b2"
      },
      "source": [
        "## Part 1 - Introduction to BERT"
      ]
    },
    {
      "cell_type": "markdown",
      "id": "cf5605e3-220b-4028-ad6a-82aabeb4e7a5",
      "metadata": {
        "id": "cf5605e3-220b-4028-ad6a-82aabeb4e7a5"
      },
      "source": [
        "[BERT](https://arxiv.org/abs/1810.04805) has been wildly successful on a variety of tasks in NLP. They compute vector-space representations of natural language that are suitable for use in many downstream tasks. The BERT family of models uses the Transformer encoder architecture to process each token of input text in the full context of all tokens before and after, hence the name: Bidirectional Encoder Representations from Transformers. \n",
        "\n",
        "BERT is pretrained with masked language modeling task. Masked language modeling task is a type of cloze tasks where some words are masked out and the jobs of the model is to predict the original words.\n",
        "\n",
        "![cloze](https://jalammar.github.io/images/BERT-language-modeling-masked-lm.png)\n"
      ]
    },
    {
      "cell_type": "markdown",
      "source": [
        "In this tutorial, we will learn to finetune the pretrained BERT for text classification problem."
      ],
      "metadata": {
        "id": "mw_k9nGUVWo-"
      },
      "id": "mw_k9nGUVWo-"
    },
    {
      "cell_type": "markdown",
      "id": "60ebaaca-fa79-49a7-933b-b156a17f281a",
      "metadata": {
        "id": "60ebaaca-fa79-49a7-933b-b156a17f281a"
      },
      "source": [
        "### BERT Tokenizer\n",
        "We will first learn to process raw text sentence into the proper inputs for BERT using BERTTokenizer. We will use BERT base architecture(_bert-base-uncased_) in this tutorial. There are [other pretrained models](https://huggingface.co/models) available as well.\n"
      ]
    },
    {
      "cell_type": "code",
      "execution_count": 18,
      "id": "34e05749-7995-47ee-aa9a-52de1cd16ce2",
      "metadata": {
        "id": "34e05749-7995-47ee-aa9a-52de1cd16ce2"
      },
      "outputs": [],
      "source": [
        "from transformers import BertTokenizer\n",
        "tokenizer = BertTokenizer.from_pretrained('bert-base-uncased')"
      ]
    },
    {
      "cell_type": "markdown",
      "source": [
        "To handle huge numbers of vocabulary, BERT use subword units (called _wordpiece_) instead of word-level vocabulary. The idea is to break up rare words into smaller and more frequent units (subwords), hence reduces the amount of unknown words."
      ],
      "metadata": {
        "id": "2BeBiAKRX4Gr"
      },
      "id": "2BeBiAKRX4Gr"
    },
    {
      "cell_type": "code",
      "execution_count": 4,
      "id": "b1cd54d0-db5b-4fbc-99d6-6a457452c887",
      "metadata": {
        "scrolled": true,
        "tags": [],
        "colab": {
          "base_uri": "https://localhost:8080/"
        },
        "id": "b1cd54d0-db5b-4fbc-99d6-6a457452c887",
        "outputId": "ff025adb-7c90-41e3-da5f-75ebe3d0c4d3"
      },
      "outputs": [
        {
          "output_type": "execute_result",
          "data": {
            "text/plain": [
              "odict_keys(['[PAD]', '[unused0]', '[unused1]', '[unused2]', '[unused3]', '[unused4]', '[unused5]', '[unused6]', '[unused7]', '[unused8]', '[unused9]', '[unused10]', '[unused11]', '[unused12]', '[unused13]', '[unused14]', '[unused15]', '[unused16]', '[unused17]', '[unused18]', '[unused19]', '[unused20]', '[unused21]', '[unused22]', '[unused23]', '[unused24]', '[unused25]', '[unused26]', '[unused27]', '[unused28]', '[unused29]', '[unused30]', '[unused31]', '[unused32]', '[unused33]', '[unused34]', '[unused35]', '[unused36]', '[unused37]', '[unused38]', '[unused39]', '[unused40]', '[unused41]', '[unused42]', '[unused43]', '[unused44]', '[unused45]', '[unused46]', '[unused47]', '[unused48]', '[unused49]', '[unused50]', '[unused51]', '[unused52]', '[unused53]', '[unused54]', '[unused55]', '[unused56]', '[unused57]', '[unused58]', '[unused59]', '[unused60]', '[unused61]', '[unused62]', '[unused63]', '[unused64]', '[unused65]', '[unused66]', '[unused67]', '[unused68]', '[unused69]', '[unused70]', '[unused71]', '[unused72]', '[unused73]', '[unused74]', '[unused75]', '[unused76]', '[unused77]', '[unused78]', '[unused79]', '[unused80]', '[unused81]', '[unused82]', '[unused83]', '[unused84]', '[unused85]', '[unused86]', '[unused87]', '[unused88]', '[unused89]', '[unused90]', '[unused91]', '[unused92]', '[unused93]', '[unused94]', '[unused95]', '[unused96]', '[unused97]', '[unused98]', '[UNK]', '[CLS]', '[SEP]', '[MASK]', '[unused99]', '[unused100]', '[unused101]', '[unused102]', '[unused103]', '[unused104]', '[unused105]', '[unused106]', '[unused107]', '[unused108]', '[unused109]', '[unused110]', '[unused111]', '[unused112]', '[unused113]', '[unused114]', '[unused115]', '[unused116]', '[unused117]', '[unused118]', '[unused119]', '[unused120]', '[unused121]', '[unused122]', '[unused123]', '[unused124]', '[unused125]', '[unused126]', '[unused127]', '[unused128]', '[unused129]', '[unused130]', '[unused131]', '[unused132]', '[unused133]', '[unused134]', '[unused135]', '[unused136]', '[unused137]', '[unused138]', '[unused139]', '[unused140]', '[unused141]', '[unused142]', '[unused143]', '[unused144]', '[unused145]', '[unused146]', '[unused147]', '[unused148]', '[unused149]', '[unused150]', '[unused151]', '[unused152]', '[unused153]', '[unused154]', '[unused155]', '[unused156]', '[unused157]', '[unused158]', '[unused159]', '[unused160]', '[unused161]', '[unused162]', '[unused163]', '[unused164]', '[unused165]', '[unused166]', '[unused167]', '[unused168]', '[unused169]', '[unused170]', '[unused171]', '[unused172]', '[unused173]', '[unused174]', '[unused175]', '[unused176]', '[unused177]', '[unused178]', '[unused179]', '[unused180]', '[unused181]', '[unused182]', '[unused183]', '[unused184]', '[unused185]', '[unused186]', '[unused187]', '[unused188]', '[unused189]', '[unused190]', '[unused191]', '[unused192]', '[unused193]', '[unused194]', '[unused195]', '[unused196]', '[unused197]', '[unused198]', '[unused199]', '[unused200]', '[unused201]', '[unused202]', '[unused203]', '[unused204]', '[unused205]', '[unused206]', '[unused207]', '[unused208]', '[unused209]', '[unused210]', '[unused211]', '[unused212]', '[unused213]', '[unused214]', '[unused215]', '[unused216]', '[unused217]', '[unused218]', '[unused219]', '[unused220]', '[unused221]', '[unused222]', '[unused223]', '[unused224]', '[unused225]', '[unused226]', '[unused227]', '[unused228]', '[unused229]', '[unused230]', '[unused231]', '[unused232]', '[unused233]', '[unused234]', '[unused235]', '[unused236]', '[unused237]', '[unused238]', '[unused239]', '[unused240]', '[unused241]', '[unused242]', '[unused243]', '[unused244]', '[unused245]', '[unused246]', '[unused247]', '[unused248]', '[unused249]', '[unused250]', '[unused251]', '[unused252]', '[unused253]', '[unused254]', '[unused255]', '[unused256]', '[unused257]', '[unused258]', '[unused259]', '[unused260]', '[unused261]', '[unused262]', '[unused263]', '[unused264]', '[unused265]', '[unused266]', '[unused267]', '[unused268]', '[unused269]', '[unused270]', '[unused271]', '[unused272]', '[unused273]', '[unused274]', '[unused275]', '[unused276]', '[unused277]', '[unused278]', '[unused279]', '[unused280]', '[unused281]', '[unused282]', '[unused283]', '[unused284]', '[unused285]', '[unused286]', '[unused287]', '[unused288]', '[unused289]', '[unused290]', '[unused291]', '[unused292]', '[unused293]', '[unused294]', '[unused295]', '[unused296]', '[unused297]', '[unused298]', '[unused299]', '[unused300]', '[unused301]', '[unused302]', '[unused303]', '[unused304]', '[unused305]', '[unused306]', '[unused307]', '[unused308]', '[unused309]', '[unused310]', '[unused311]', '[unused312]', '[unused313]', '[unused314]', '[unused315]', '[unused316]', '[unused317]', '[unused318]', '[unused319]', '[unused320]', '[unused321]', '[unused322]', '[unused323]', '[unused324]', '[unused325]', '[unused326]', '[unused327]', '[unused328]', '[unused329]', '[unused330]', '[unused331]', '[unused332]', '[unused333]', '[unused334]', '[unused335]', '[unused336]', '[unused337]', '[unused338]', '[unused339]', '[unused340]', '[unused341]', '[unused342]', '[unused343]', '[unused344]', '[unused345]', '[unused346]', '[unused347]', '[unused348]', '[unused349]', '[unused350]', '[unused351]', '[unused352]', '[unused353]', '[unused354]', '[unused355]', '[unused356]', '[unused357]', '[unused358]', '[unused359]', '[unused360]', '[unused361]', '[unused362]', '[unused363]', '[unused364]', '[unused365]', '[unused366]', '[unused367]', '[unused368]', '[unused369]', '[unused370]', '[unused371]', '[unused372]', '[unused373]', '[unused374]', '[unused375]', '[unused376]', '[unused377]', '[unused378]', '[unused379]', '[unused380]', '[unused381]', '[unused382]', '[unused383]', '[unused384]', '[unused385]', '[unused386]', '[unused387]', '[unused388]', '[unused389]', '[unused390]', '[unused391]', '[unused392]', '[unused393]', '[unused394]', '[unused395]', '[unused396]', '[unused397]', '[unused398]', '[unused399]', '[unused400]', '[unused401]', '[unused402]', '[unused403]', '[unused404]', '[unused405]', '[unused406]', '[unused407]', '[unused408]', '[unused409]', '[unused410]', '[unused411]', '[unused412]', '[unused413]', '[unused414]', '[unused415]', '[unused416]', '[unused417]', '[unused418]', '[unused419]', '[unused420]', '[unused421]', '[unused422]', '[unused423]', '[unused424]', '[unused425]', '[unused426]', '[unused427]', '[unused428]', '[unused429]', '[unused430]', '[unused431]', '[unused432]', '[unused433]', '[unused434]', '[unused435]', '[unused436]', '[unused437]', '[unused438]', '[unused439]', '[unused440]', '[unused441]', '[unused442]', '[unused443]', '[unused444]', '[unused445]', '[unused446]', '[unused447]', '[unused448]', '[unused449]', '[unused450]', '[unused451]', '[unused452]', '[unused453]', '[unused454]', '[unused455]', '[unused456]', '[unused457]', '[unused458]', '[unused459]', '[unused460]', '[unused461]', '[unused462]', '[unused463]', '[unused464]', '[unused465]', '[unused466]', '[unused467]', '[unused468]', '[unused469]', '[unused470]', '[unused471]', '[unused472]', '[unused473]', '[unused474]', '[unused475]', '[unused476]', '[unused477]', '[unused478]', '[unused479]', '[unused480]', '[unused481]', '[unused482]', '[unused483]', '[unused484]', '[unused485]', '[unused486]', '[unused487]', '[unused488]', '[unused489]', '[unused490]', '[unused491]', '[unused492]', '[unused493]', '[unused494]', '[unused495]', '[unused496]', '[unused497]', '[unused498]', '[unused499]', '[unused500]', '[unused501]', '[unused502]', '[unused503]', '[unused504]', '[unused505]', '[unused506]', '[unused507]', '[unused508]', '[unused509]', '[unused510]', '[unused511]', '[unused512]', '[unused513]', '[unused514]', '[unused515]', '[unused516]', '[unused517]', '[unused518]', '[unused519]', '[unused520]', '[unused521]', '[unused522]', '[unused523]', '[unused524]', '[unused525]', '[unused526]', '[unused527]', '[unused528]', '[unused529]', '[unused530]', '[unused531]', '[unused532]', '[unused533]', '[unused534]', '[unused535]', '[unused536]', '[unused537]', '[unused538]', '[unused539]', '[unused540]', '[unused541]', '[unused542]', '[unused543]', '[unused544]', '[unused545]', '[unused546]', '[unused547]', '[unused548]', '[unused549]', '[unused550]', '[unused551]', '[unused552]', '[unused553]', '[unused554]', '[unused555]', '[unused556]', '[unused557]', '[unused558]', '[unused559]', '[unused560]', '[unused561]', '[unused562]', '[unused563]', '[unused564]', '[unused565]', '[unused566]', '[unused567]', '[unused568]', '[unused569]', '[unused570]', '[unused571]', '[unused572]', '[unused573]', '[unused574]', '[unused575]', '[unused576]', '[unused577]', '[unused578]', '[unused579]', '[unused580]', '[unused581]', '[unused582]', '[unused583]', '[unused584]', '[unused585]', '[unused586]', '[unused587]', '[unused588]', '[unused589]', '[unused590]', '[unused591]', '[unused592]', '[unused593]', '[unused594]', '[unused595]', '[unused596]', '[unused597]', '[unused598]', '[unused599]', '[unused600]', '[unused601]', '[unused602]', '[unused603]', '[unused604]', '[unused605]', '[unused606]', '[unused607]', '[unused608]', '[unused609]', '[unused610]', '[unused611]', '[unused612]', '[unused613]', '[unused614]', '[unused615]', '[unused616]', '[unused617]', '[unused618]', '[unused619]', '[unused620]', '[unused621]', '[unused622]', '[unused623]', '[unused624]', '[unused625]', '[unused626]', '[unused627]', '[unused628]', '[unused629]', '[unused630]', '[unused631]', '[unused632]', '[unused633]', '[unused634]', '[unused635]', '[unused636]', '[unused637]', '[unused638]', '[unused639]', '[unused640]', '[unused641]', '[unused642]', '[unused643]', '[unused644]', '[unused645]', '[unused646]', '[unused647]', '[unused648]', '[unused649]', '[unused650]', '[unused651]', '[unused652]', '[unused653]', '[unused654]', '[unused655]', '[unused656]', '[unused657]', '[unused658]', '[unused659]', '[unused660]', '[unused661]', '[unused662]', '[unused663]', '[unused664]', '[unused665]', '[unused666]', '[unused667]', '[unused668]', '[unused669]', '[unused670]', '[unused671]', '[unused672]', '[unused673]', '[unused674]', '[unused675]', '[unused676]', '[unused677]', '[unused678]', '[unused679]', '[unused680]', '[unused681]', '[unused682]', '[unused683]', '[unused684]', '[unused685]', '[unused686]', '[unused687]', '[unused688]', '[unused689]', '[unused690]', '[unused691]', '[unused692]', '[unused693]', '[unused694]', '[unused695]', '[unused696]', '[unused697]', '[unused698]', '[unused699]', '[unused700]', '[unused701]', '[unused702]', '[unused703]', '[unused704]', '[unused705]', '[unused706]', '[unused707]', '[unused708]', '[unused709]', '[unused710]', '[unused711]', '[unused712]', '[unused713]', '[unused714]', '[unused715]', '[unused716]', '[unused717]', '[unused718]', '[unused719]', '[unused720]', '[unused721]', '[unused722]', '[unused723]', '[unused724]', '[unused725]', '[unused726]', '[unused727]', '[unused728]', '[unused729]', '[unused730]', '[unused731]', '[unused732]', '[unused733]', '[unused734]', '[unused735]', '[unused736]', '[unused737]', '[unused738]', '[unused739]', '[unused740]', '[unused741]', '[unused742]', '[unused743]', '[unused744]', '[unused745]', '[unused746]', '[unused747]', '[unused748]', '[unused749]', '[unused750]', '[unused751]', '[unused752]', '[unused753]', '[unused754]', '[unused755]', '[unused756]', '[unused757]', '[unused758]', '[unused759]', '[unused760]', '[unused761]', '[unused762]', '[unused763]', '[unused764]', '[unused765]', '[unused766]', '[unused767]', '[unused768]', '[unused769]', '[unused770]', '[unused771]', '[unused772]', '[unused773]', '[unused774]', '[unused775]', '[unused776]', '[unused777]', '[unused778]', '[unused779]', '[unused780]', '[unused781]', '[unused782]', '[unused783]', '[unused784]', '[unused785]', '[unused786]', '[unused787]', '[unused788]', '[unused789]', '[unused790]', '[unused791]', '[unused792]', '[unused793]', '[unused794]', '[unused795]', '[unused796]', '[unused797]', '[unused798]', '[unused799]', '[unused800]', '[unused801]', '[unused802]', '[unused803]', '[unused804]', '[unused805]', '[unused806]', '[unused807]', '[unused808]', '[unused809]', '[unused810]', '[unused811]', '[unused812]', '[unused813]', '[unused814]', '[unused815]', '[unused816]', '[unused817]', '[unused818]', '[unused819]', '[unused820]', '[unused821]', '[unused822]', '[unused823]', '[unused824]', '[unused825]', '[unused826]', '[unused827]', '[unused828]', '[unused829]', '[unused830]', '[unused831]', '[unused832]', '[unused833]', '[unused834]', '[unused835]', '[unused836]', '[unused837]', '[unused838]', '[unused839]', '[unused840]', '[unused841]', '[unused842]', '[unused843]', '[unused844]', '[unused845]', '[unused846]', '[unused847]', '[unused848]', '[unused849]', '[unused850]', '[unused851]', '[unused852]', '[unused853]', '[unused854]', '[unused855]', '[unused856]', '[unused857]', '[unused858]', '[unused859]', '[unused860]', '[unused861]', '[unused862]', '[unused863]', '[unused864]', '[unused865]', '[unused866]', '[unused867]', '[unused868]', '[unused869]', '[unused870]', '[unused871]', '[unused872]', '[unused873]', '[unused874]', '[unused875]', '[unused876]', '[unused877]', '[unused878]', '[unused879]', '[unused880]', '[unused881]', '[unused882]', '[unused883]', '[unused884]', '[unused885]', '[unused886]', '[unused887]', '[unused888]', '[unused889]', '[unused890]', '[unused891]', '[unused892]', '[unused893]', '[unused894]', '[unused895]', '[unused896]', '[unused897]', '[unused898]', '[unused899]', '[unused900]', '[unused901]', '[unused902]', '[unused903]', '[unused904]', '[unused905]', '[unused906]', '[unused907]', '[unused908]', '[unused909]', '[unused910]', '[unused911]', '[unused912]', '[unused913]', '[unused914]', '[unused915]', '[unused916]', '[unused917]', '[unused918]', '[unused919]', '[unused920]', '[unused921]', '[unused922]', '[unused923]', '[unused924]', '[unused925]', '[unused926]', '[unused927]', '[unused928]', '[unused929]', '[unused930]', '[unused931]', '[unused932]', '[unused933]', '[unused934]', '[unused935]', '[unused936]', '[unused937]', '[unused938]', '[unused939]', '[unused940]', '[unused941]', '[unused942]', '[unused943]', '[unused944]', '[unused945]', '[unused946]', '[unused947]', '[unused948]', '[unused949]', '[unused950]', '[unused951]', '[unused952]', '[unused953]', '[unused954]', '[unused955]', '[unused956]', '[unused957]', '[unused958]', '[unused959]', '[unused960]', '[unused961]', '[unused962]', '[unused963]', '[unused964]', '[unused965]', '[unused966]', '[unused967]', '[unused968]', '[unused969]', '[unused970]', '[unused971]', '[unused972]', '[unused973]', '[unused974]', '[unused975]', '[unused976]', '[unused977]', '[unused978]', '[unused979]', '[unused980]', '[unused981]', '[unused982]', '[unused983]', '[unused984]', '[unused985]', '[unused986]', '[unused987]', '[unused988]', '[unused989]', '[unused990]', '[unused991]', '[unused992]', '[unused993]', '!', '\"', '#', '$', '%', '&', \"'\", '(', ')', '*', '+', ',', '-', '.', '/', '0', '1', '2', '3', '4', '5', '6', '7', '8', '9', ':', ';', '<', '=', '>', '?', '@', '[', '\\\\', ']', '^', '_', '`', 'a', 'b', 'c', 'd', 'e', 'f', 'g', 'h', 'i', 'j', 'k', 'l', 'm', 'n', 'o', 'p', 'q', 'r', 's', 't', 'u', 'v', 'w', 'x', 'y', 'z', '{', '|', '}', '~', '¡', '¢', '£', '¤', '¥', '¦', '§', '¨', '©', 'ª', '«', '¬', '®', '°', '±', '²', '³', '´', 'µ', '¶', '·', '¹', 'º', '»', '¼', '½', '¾', '¿', '×', 'ß', 'æ', 'ð', '÷', 'ø', 'þ', 'đ', 'ħ', 'ı', 'ł', 'ŋ', 'œ', 'ƒ', 'ɐ', 'ɑ', 'ɒ', 'ɔ', 'ɕ', 'ə', 'ɛ', 'ɡ', 'ɣ', 'ɨ', 'ɪ', 'ɫ', 'ɬ', 'ɯ', 'ɲ', 'ɴ', 'ɹ', 'ɾ', 'ʀ', 'ʁ', 'ʂ', 'ʃ', 'ʉ', 'ʊ', 'ʋ', 'ʌ', 'ʎ', 'ʐ', 'ʑ', 'ʒ', 'ʔ', 'ʰ', 'ʲ', 'ʳ', 'ʷ', 'ʸ', 'ʻ', 'ʼ', 'ʾ', 'ʿ', 'ˈ', 'ː', 'ˡ', 'ˢ', 'ˣ', 'ˤ', 'α', 'β', 'γ', 'δ', 'ε', 'ζ', 'η', 'θ', 'ι', 'κ', 'λ', 'μ', 'ν', 'ξ', 'ο', 'π', 'ρ', 'ς', 'σ', 'τ', 'υ', 'φ', 'χ', 'ψ', 'ω', 'а', 'б', 'в', 'г', 'д', 'е', 'ж', 'з', 'и', 'к', 'л', 'м', 'н', 'о', 'п', 'р', 'с', 'т', 'у', 'ф', 'х', 'ц', 'ч', 'ш', 'щ', 'ъ', 'ы', 'ь', 'э', 'ю', 'я', 'ђ', 'є', 'і', 'ј', 'љ', 'њ', 'ћ', 'ӏ', 'ա', 'բ', 'գ', 'դ', 'ե', 'թ', 'ի', 'լ', 'կ', 'հ', 'մ', 'յ', 'ն', 'ո', 'պ', 'ս', 'վ', 'տ', 'ր', 'ւ', 'ք', '־', 'א', 'ב', 'ג', 'ד', 'ה', 'ו', 'ז', 'ח', 'ט', 'י', 'ך', 'כ', 'ל', 'ם', 'מ', 'ן', 'נ', 'ס', 'ע', 'ף', 'פ', 'ץ', 'צ', 'ק', 'ר', 'ש', 'ת', '،', 'ء', 'ا', 'ب', 'ة', 'ت', 'ث', 'ج', 'ح', 'خ', 'د', 'ذ', 'ر', 'ز', 'س', 'ش', 'ص', 'ض', 'ط', 'ظ', 'ع', 'غ', 'ـ', 'ف', 'ق', 'ك', 'ل', 'م', 'ن', 'ه', 'و', 'ى', 'ي', 'ٹ', 'پ', 'چ', 'ک', 'گ', 'ں', 'ھ', 'ہ', 'ی', 'ے', 'अ', 'आ', 'उ', 'ए', 'क', 'ख', 'ग', 'च', 'ज', 'ट', 'ड', 'ण', 'त', 'थ', 'द', 'ध', 'न', 'प', 'ब', 'भ', 'म', 'य', 'र', 'ल', 'व', 'श', 'ष', 'स', 'ह', 'ा', 'ि', 'ी', 'ो', '।', '॥', 'ং', 'অ', 'আ', 'ই', 'উ', 'এ', 'ও', 'ক', 'খ', 'গ', 'চ', 'ছ', 'জ', 'ট', 'ড', 'ণ', 'ত', 'থ', 'দ', 'ধ', 'ন', 'প', 'ব', 'ভ', 'ম', 'য', 'র', 'ল', 'শ', 'ষ', 'স', 'হ', 'া', 'ি', 'ী', 'ে', 'க', 'ச', 'ட', 'த', 'ந', 'ன', 'ப', 'ம', 'ய', 'ர', 'ல', 'ள', 'வ', 'ா', 'ி', 'ு', 'ே', 'ை', 'ನ', 'ರ', 'ಾ', 'ක', 'ය', 'ර', 'ල', 'ව', 'ා', 'ก', 'ง', 'ต', 'ท', 'น', 'พ', 'ม', 'ย', 'ร', 'ล', 'ว', 'ส', 'อ', 'า', 'เ', '་', '།', 'ག', 'ང', 'ད', 'ན', 'པ', 'བ', 'མ', 'འ', 'ར', 'ལ', 'ས', 'မ', 'ა', 'ბ', 'გ', 'დ', 'ე', 'ვ', 'თ', 'ი', 'კ', 'ლ', 'მ', 'ნ', 'ო', 'რ', 'ს', 'ტ', 'უ', 'ᄀ', 'ᄂ', 'ᄃ', 'ᄅ', 'ᄆ', 'ᄇ', 'ᄉ', 'ᄊ', 'ᄋ', 'ᄌ', 'ᄎ', 'ᄏ', 'ᄐ', 'ᄑ', 'ᄒ', 'ᅡ', 'ᅢ', 'ᅥ', 'ᅦ', 'ᅧ', 'ᅩ', 'ᅪ', 'ᅭ', 'ᅮ', 'ᅯ', 'ᅲ', 'ᅳ', 'ᅴ', 'ᅵ', 'ᆨ', 'ᆫ', 'ᆯ', 'ᆷ', 'ᆸ', 'ᆼ', 'ᴬ', 'ᴮ', 'ᴰ', 'ᴵ', 'ᴺ', 'ᵀ', 'ᵃ', 'ᵇ', 'ᵈ', 'ᵉ', 'ᵍ', 'ᵏ', 'ᵐ', 'ᵒ', 'ᵖ', 'ᵗ', 'ᵘ', 'ᵢ', 'ᵣ', 'ᵤ', 'ᵥ', 'ᶜ', 'ᶠ', '‐', '‑', '‒', '–', '—', '―', '‖', '‘', '’', '‚', '“', '”', '„', '†', '‡', '•', '…', '‰', '′', '″', '›', '‿', '⁄', '⁰', 'ⁱ', '⁴', '⁵', '⁶', '⁷', '⁸', '⁹', '⁺', '⁻', 'ⁿ', '₀', '₁', '₂', '₃', '₄', '₅', '₆', '₇', '₈', '₉', '₊', '₍', '₎', 'ₐ', 'ₑ', 'ₒ', 'ₓ', 'ₕ', 'ₖ', 'ₗ', 'ₘ', 'ₙ', 'ₚ', 'ₛ', 'ₜ', '₤', '₩', '€', '₱', '₹', 'ℓ', '№', 'ℝ', '™', '⅓', '⅔', '←', '↑', '→', '↓', '↔', '↦', '⇄', '⇌', '⇒', '∂', '∅', '∆', '∇', '∈', '−', '∗', '∘', '√', '∞', '∧', '∨', '∩', '∪', '≈', '≡', '≤', '≥', '⊂', '⊆', '⊕', '⊗', '⋅', '─', '│', '■', '▪', '●', '★', '☆', '☉', '♠', '♣', '♥', '♦', '♭', '♯', '⟨', '⟩', 'ⱼ', '⺩', '⺼', '⽥', '、', '。', '〈', '〉', '《', '》', '「', '」', '『', '』', '〜', 'あ', 'い', 'う', 'え', 'お', 'か', 'き', 'く', 'け', 'こ', 'さ', 'し', 'す', 'せ', 'そ', 'た', 'ち', 'っ', 'つ', 'て', 'と', 'な', 'に', 'ぬ', 'ね', 'の', 'は', 'ひ', 'ふ', 'へ', 'ほ', 'ま', 'み', 'む', 'め', 'も', 'や', 'ゆ', 'よ', 'ら', 'り', 'る', 'れ', 'ろ', 'を', 'ん', 'ァ', 'ア', 'ィ', 'イ', 'ウ', 'ェ', 'エ', 'オ', 'カ', 'キ', 'ク', 'ケ', 'コ', 'サ', 'シ', 'ス', 'セ', 'タ', 'チ', 'ッ', 'ツ', 'テ', 'ト', 'ナ', 'ニ', 'ノ', 'ハ', 'ヒ', 'フ', 'ヘ', 'ホ', 'マ', 'ミ', 'ム', 'メ', 'モ', 'ャ', 'ュ', 'ョ', 'ラ', 'リ', 'ル', 'レ', 'ロ', 'ワ', 'ン', '・', 'ー', '一', '三', '上', '下', '不', '世', '中', '主', '久', '之', '也', '事', '二', '五', '井', '京', '人', '亻', '仁', '介', '代', '仮', '伊', '会', '佐', '侍', '保', '信', '健', '元', '光', '八', '公', '内', '出', '分', '前', '劉', '力', '加', '勝', '北', '区', '十', '千', '南', '博', '原', '口', '古', '史', '司', '合', '吉', '同', '名', '和', '囗', '四', '国', '國', '土', '地', '坂', '城', '堂', '場', '士', '夏', '外', '大', '天', '太', '夫', '奈', '女', '子', '学', '宀', '宇', '安', '宗', '定', '宣', '宮', '家', '宿', '寺', '將', '小', '尚', '山', '岡', '島', '崎', '川', '州', '巿', '帝', '平', '年', '幸', '广', '弘', '張', '彳', '後', '御', '德', '心', '忄', '志', '忠', '愛', '成', '我', '戦', '戸', '手', '扌', '政', '文', '新', '方', '日', '明', '星', '春', '昭', '智', '曲', '書', '月', '有', '朝', '木', '本', '李', '村', '東', '松', '林', '森', '楊', '樹', '橋', '歌', '止', '正', '武', '比', '氏', '民', '水', '氵', '氷', '永', '江', '沢', '河', '治', '法', '海', '清', '漢', '瀬', '火', '版', '犬', '王', '生', '田', '男', '疒', '発', '白', '的', '皇', '目', '相', '省', '真', '石', '示', '社', '神', '福', '禾', '秀', '秋', '空', '立', '章', '竹', '糹', '美', '義', '耳', '良', '艹', '花', '英', '華', '葉', '藤', '行', '街', '西', '見', '訁', '語', '谷', '貝', '貴', '車', '軍', '辶', '道', '郎', '郡', '部', '都', '里', '野', '金', '鈴', '镇', '長', '門', '間', '阝', '阿', '陳', '陽', '雄', '青', '面', '風', '食', '香', '馬', '高', '龍', '龸', 'ﬁ', 'ﬂ', '！', '（', '）', '，', '－', '．', '／', '：', '？', '～', 'the', 'of', 'and', 'in', 'to', 'was', 'he', 'is', 'as', 'for', 'on', 'with', 'that', 'it', 'his', 'by', 'at', 'from', 'her', '##s', 'she', 'you', 'had', 'an', 'were', 'but', 'be', 'this', 'are', 'not', 'my', 'they', 'one', 'which', 'or', 'have', 'him', 'me', 'first', 'all', 'also', 'their', 'has', 'up', 'who', 'out', 'been', 'when', 'after', 'there', 'into', 'new', 'two', 'its', '##a', 'time', 'would', 'no', 'what', 'about', 'said', 'we', 'over', 'then', 'other', 'so', 'more', '##e', 'can', 'if', 'like', 'back', 'them', 'only', 'some', 'could', '##i', 'where', 'just', '##ing', 'during', 'before', '##n', 'do', '##o', 'made', 'school', 'through', 'than', 'now', 'years', 'most', 'world', 'may', 'between', 'down', 'well', 'three', '##d', 'year', 'while', 'will', '##ed', '##r', '##y', 'later', '##t', 'city', 'under', 'around', 'did', 'such', 'being', 'used', 'state', 'people', 'part', 'know', 'against', 'your', 'many', 'second', 'university', 'both', 'national', '##er', 'these', 'don', 'known', 'off', 'way', 'until', 're', 'how', 'even', 'get', 'head', '...', 'didn', '##ly', 'team', 'american', 'because', 'de', '##l', 'born', 'united', 'film', 'since', 'still', 'long', 'work', 'south', 'us', 'became', 'any', 'high', 'again', 'day', 'family', 'see', 'right', 'man', 'eyes', 'house', 'season', 'war', 'states', 'including', 'took', 'life', 'north', 'same', 'each', 'called', 'name', 'much', 'place', 'however', 'go', 'four', 'group', 'another', 'found', 'won', 'area', 'here', 'going', '10', 'away', 'series', 'left', 'home', 'music', 'best', 'make', 'hand', 'number', 'company', 'several', 'never', 'last', 'john', '000', 'very', 'album', 'take', 'end', 'good', 'too', 'following', 'released', 'game', 'played', 'little', 'began', 'district', '##m', 'old', 'want', 'those', 'side', 'held', 'own', 'early', 'county', 'll', 'league', 'use', 'west', '##u', 'face', 'think', '##es', '2010', 'government', '##h', 'march', 'came', 'small', 'general', 'town', 'june', '##on', 'line', 'based', 'something', '##k', 'september', 'thought', 'looked', 'along', 'international', '2011', 'air', 'july', 'club', 'went', 'january', 'october', 'our', 'august', 'april', 'york', '12', 'few', '2012', '2008', 'east', 'show', 'member', 'college', '2009', 'father', 'public', '##us', 'come', 'men', 'five', 'set', 'station', 'church', '##c', 'next', 'former', 'november', 'room', 'party', 'located', 'december', '2013', 'age', 'got', '2007', '##g', 'system', 'let', 'love', '2006', 'though', 'every', '2014', 'look', 'song', 'water', 'century', 'without', 'body', 'black', 'night', 'within', 'great', 'women', 'single', 've', 'building', 'large', 'population', 'river', 'named', 'band', 'white', 'started', '##an', 'once', '15', '20', 'should', '18', '2015', 'service', 'top', 'built', 'british', 'open', 'death', 'king', 'moved', 'local', 'times', 'children', 'february', 'book', 'why', '11', 'door', 'need', 'president', 'order', 'final', 'road', 'wasn', 'although', 'due', 'major', 'died', 'village', 'third', 'knew', '2016', 'asked', 'turned', 'st', 'wanted', 'say', '##p', 'together', 'received', 'main', 'son', 'served', 'different', '##en', 'behind', 'himself', 'felt', 'members', 'power', 'football', 'law', 'voice', 'play', '##in', 'near', 'park', 'history', '30', 'having', '2005', '16', '##man', 'saw', 'mother', '##al', 'army', 'point', 'front', 'help', 'english', 'street', 'art', 'late', 'hands', 'games', 'award', '##ia', 'young', '14', 'put', 'published', 'country', 'division', 'across', 'told', '13', 'often', 'ever', 'french', 'london', 'center', 'six', 'red', '2017', 'led', 'days', 'include', 'light', '25', 'find', 'tell', 'among', 'species', 'really', 'according', 'central', 'half', '2004', 'form', 'original', 'gave', 'office', 'making', 'enough', 'lost', 'full', 'opened', 'must', 'included', 'live', 'given', 'german', 'player', 'run', 'business', 'woman', 'community', 'cup', 'might', 'million', 'land', '2000', 'court', 'development', '17', 'short', 'round', 'ii', 'km', 'seen', 'class', 'story', 'always', 'become', 'sure', 'research', 'almost', 'director', 'council', 'la', '##2', 'career', 'things', 'using', 'island', '##z', 'couldn', 'car', '##is', '24', 'close', 'force', '##1', 'better', 'free', 'support', 'control', 'field', 'students', '2003', 'education', 'married', '##b', 'nothing', 'worked', 'others', 'record', 'big', 'inside', 'level', 'anything', 'continued', 'give', 'james', '##3', 'military', 'established', 'non', 'returned', 'feel', 'does', 'title', 'written', 'thing', 'feet', 'william', 'far', 'co', 'association', 'hard', 'already', '2002', '##ra', 'championship', 'human', 'western', '100', '##na', 'department', 'hall', 'role', 'various', 'production', '21', '19', 'heart', '2001', 'living', 'fire', 'version', '##ers', '##f', 'television', 'royal', '##4', 'produced', 'working', 'act', 'case', 'society', 'region', 'present', 'radio', 'period', 'looking', 'least', 'total', 'keep', 'england', 'wife', 'program', 'per', 'brother', 'mind', 'special', '22', '##le', 'am', 'works', 'soon', '##6', 'political', 'george', 'services', 'taken', 'created', '##7', 'further', 'able', 'reached', 'david', 'union', 'joined', 'upon', 'done', 'important', 'social', 'information', 'either', '##ic', '##x', 'appeared', 'position', 'ground', 'lead', 'rock', 'dark', 'election', '23', 'board', 'france', 'hair', 'course', 'arms', 'site', 'police', 'girl', 'instead', 'real', 'sound', '##v', 'words', 'moment', '##te', 'someone', '##8', 'summer', 'project', 'announced', 'san', 'less', 'wrote', 'past', 'followed', '##5', 'blue', 'founded', 'al', 'finally', 'india', 'taking', 'records', 'america', '##ne', '1999', 'design', 'considered', 'northern', 'god', 'stop', 'battle', 'toward', 'european', 'outside', 'described', 'track', 'today', 'playing', 'language', '28', 'call', '26', 'heard', 'professional', 'low', 'australia', 'miles', 'california', 'win', 'yet', 'green', '##ie', 'trying', 'blood', '##ton', 'southern', 'science', 'maybe', 'everything', 'match', 'square', '27', 'mouth', 'video', 'race', 'recorded', 'leave', 'above', '##9', 'daughter', 'points', 'space', '1998', 'museum', 'change', 'middle', 'common', '##0', 'move', 'tv', 'post', '##ta', 'lake', 'seven', 'tried', 'elected', 'closed', 'ten', 'paul', 'minister', '##th', 'months', 'start', 'chief', 'return', 'canada', 'person', 'sea', 'release', 'similar', 'modern', 'brought', 'rest', 'hit', 'formed', 'mr', '##la', '1997', 'floor', 'event', 'doing', 'thomas', '1996', 'robert', 'care', 'killed', 'training', 'star', 'week', 'needed', 'turn', 'finished', 'railway', 'rather', 'news', 'health', 'sent', 'example', 'ran', 'term', 'michael', 'coming', 'currently', 'yes', 'forces', 'despite', 'gold', 'areas', '50', 'stage', 'fact', '29', 'dead', 'says', 'popular', '2018', 'originally', 'germany', 'probably', 'developed', 'result', 'pulled', 'friend', 'stood', 'money', 'running', 'mi', 'signed', 'word', 'songs', 'child', 'eventually', 'met', 'tour', 'average', 'teams', 'minutes', 'festival', 'current', 'deep', 'kind', '1995', 'decided', 'usually', 'eastern', 'seemed', '##ness', 'episode', 'bed', 'added', 'table', 'indian', 'private', 'charles', 'route', 'available', 'idea', 'throughout', 'centre', 'addition', 'appointed', 'style', '1994', 'books', 'eight', 'construction', 'press', 'mean', 'wall', 'friends', 'remained', 'schools', 'study', '##ch', '##um', 'institute', 'oh', 'chinese', 'sometimes', 'events', 'possible', '1992', 'australian', 'type', 'brown', 'forward', 'talk', 'process', 'food', 'debut', 'seat', 'performance', 'committee', 'features', 'character', 'arts', 'herself', 'else', 'lot', 'strong', 'russian', 'range', 'hours', 'peter', 'arm', '##da', 'morning', 'dr', 'sold', '##ry', 'quickly', 'directed', '1993', 'guitar', 'china', '##w', '31', 'list', '##ma', 'performed', 'media', 'uk', 'players', 'smile', '##rs', 'myself', '40', 'placed', 'coach', 'province', 'towards', 'wouldn', 'leading', 'whole', 'boy', 'official', 'designed', 'grand', 'census', '##el', 'europe', 'attack', 'japanese', 'henry', '1991', '##re', '##os', 'cross', 'getting', 'alone', 'action', 'lower', 'network', 'wide', 'washington', 'japan', '1990', 'hospital', 'believe', 'changed', 'sister', '##ar', 'hold', 'gone', 'sir', 'hadn', 'ship', '##ka', 'studies', 'academy', 'shot', 'rights', 'below', 'base', 'bad', 'involved', 'kept', 'largest', '##ist', 'bank', 'future', 'especially', 'beginning', 'mark', 'movement', 'section', 'female', 'magazine', 'plan', 'professor', 'lord', 'longer', '##ian', 'sat', 'walked', 'hill', 'actually', 'civil', 'energy', 'model', 'families', 'size', 'thus', 'aircraft', 'completed', 'includes', 'data', 'captain', '##or', 'fight', 'vocals', 'featured', 'richard', 'bridge', 'fourth', '1989', 'officer', 'stone', 'hear', '##ism', 'means', 'medical', 'groups', 'management', 'self', 'lips', 'competition', 'entire', 'lived', 'technology', 'leaving', 'federal', 'tournament', 'bit', 'passed', 'hot', 'independent', 'awards', 'kingdom', 'mary', 'spent', 'fine', 'doesn', 'reported', '##ling', 'jack', 'fall', 'raised', 'itself', 'stay', 'true', 'studio', '1988', 'sports', 'replaced', 'paris', 'systems', 'saint', 'leader', 'theatre', 'whose', 'market', 'capital', 'parents', 'spanish', 'canadian', 'earth', '##ity', 'cut', 'degree', 'writing', 'bay', 'christian', 'awarded', 'natural', 'higher', 'bill', '##as', 'coast', 'provided', 'previous', 'senior', 'ft', 'valley', 'organization', 'stopped', 'onto', 'countries', 'parts', 'conference', 'queen', 'security', 'interest', 'saying', 'allowed', 'master', 'earlier', 'phone', 'matter', 'smith', 'winning', 'try', 'happened', 'moving', 'campaign', 'los', '##ley', 'breath', 'nearly', 'mid', '1987', 'certain', 'girls', 'date', 'italian', 'african', 'standing', 'fell', 'artist', '##ted', 'shows', 'deal', 'mine', 'industry', '1986', '##ng', 'everyone', 'republic', 'provide', 'collection', 'library', 'student', '##ville', 'primary', 'owned', 'older', 'via', 'heavy', '1st', 'makes', '##able', 'attention', 'anyone', 'africa', '##ri', 'stated', 'length', 'ended', 'fingers', 'command', 'staff', 'skin', 'foreign', 'opening', 'governor', 'okay', 'medal', 'kill', 'sun', 'cover', 'job', '1985', 'introduced', 'chest', 'hell', 'feeling', '##ies', 'success', 'meet', 'reason', 'standard', 'meeting', 'novel', '1984', 'trade', 'source', 'buildings', '##land', 'rose', 'guy', 'goal', '##ur', 'chapter', 'native', 'husband', 'previously', 'unit', 'limited', 'entered', 'weeks', 'producer', 'operations', 'mountain', 'takes', 'covered', 'forced', 'related', 'roman', 'complete', 'successful', 'key', 'texas', 'cold', '##ya', 'channel', '1980', 'traditional', 'films', 'dance', 'clear', 'approximately', '500', 'nine', 'van', 'prince', 'question', 'active', 'tracks', 'ireland', 'regional', 'silver', 'author', 'personal', 'sense', 'operation', '##ine', 'economic', '1983', 'holding', 'twenty', 'isbn', 'additional', 'speed', 'hour', 'edition', 'regular', 'historic', 'places', 'whom', 'shook', 'movie', 'km²', 'secretary', 'prior', 'report', 'chicago', 'read', 'foundation', 'view', 'engine', 'scored', '1982', 'units', 'ask', 'airport', 'property', 'ready', 'immediately', 'lady', 'month', 'listed', 'contract', '##de', 'manager', 'themselves', 'lines', '##ki', 'navy', 'writer', 'meant', '##ts', 'runs', '##ro', 'practice', 'championships', 'singer', 'glass', 'commission', 'required', 'forest', 'starting', 'culture', 'generally', 'giving', 'access', 'attended', 'test', 'couple', 'stand', 'catholic', 'martin', 'caught', 'executive', '##less', 'eye', '##ey', 'thinking', 'chair', 'quite', 'shoulder', '1979', 'hope', 'decision', 'plays', 'defeated', 'municipality', 'whether', 'structure', 'offered', 'slowly', 'pain', 'ice', 'direction', '##ion', 'paper', 'mission', '1981', 'mostly', '200', 'noted', 'individual', 'managed', 'nature', 'lives', 'plant', '##ha', 'helped', 'except', 'studied', 'computer', 'figure', 'relationship', 'issue', 'significant', 'loss', 'die', 'smiled', 'gun', 'ago', 'highest', '1972', '##am', 'male', 'bring', 'goals', 'mexico', 'problem', 'distance', 'commercial', 'completely', 'location', 'annual', 'famous', 'drive', '1976', 'neck', '1978', 'surface', 'caused', 'italy', 'understand', 'greek', 'highway', 'wrong', 'hotel', 'comes', 'appearance', 'joseph', 'double', 'issues', 'musical', 'companies', 'castle', 'income', 'review', 'assembly', 'bass', 'initially', 'parliament', 'artists', 'experience', '1974', 'particular', 'walk', 'foot', 'engineering', 'talking', 'window', 'dropped', '##ter', 'miss', 'baby', 'boys', 'break', '1975', 'stars', 'edge', 'remember', 'policy', 'carried', 'train', 'stadium', 'bar', 'sex', 'angeles', 'evidence', '##ge', 'becoming', 'assistant', 'soviet', '1977', 'upper', 'step', 'wing', '1970', 'youth', 'financial', 'reach', '##ll', 'actor', 'numerous', '##se', '##st', 'nodded', 'arrived', '##ation', 'minute', '##nt', 'believed', 'sorry', 'complex', 'beautiful', 'victory', 'associated', 'temple', '1968', '1973', 'chance', 'perhaps', 'metal', '##son', '1945', 'bishop', '##et', 'lee', 'launched', 'particularly', 'tree', 'le', 'retired', 'subject', 'prize', 'contains', 'yeah', 'theory', 'empire', '##ce', 'suddenly', 'waiting', 'trust', 'recording', '##to', 'happy', 'terms', 'camp', 'champion', '1971', 'religious', 'pass', 'zealand', 'names', '2nd', 'port', 'ancient', 'tom', 'corner', 'represented', 'watch', 'legal', 'anti', 'justice', 'cause', 'watched', 'brothers', '45', 'material', 'changes', 'simply', 'response', 'louis', 'fast', '##ting', 'answer', '60', 'historical', '1969', 'stories', 'straight', 'create', 'feature', 'increased', 'rate', 'administration', 'virginia', 'el', 'activities', 'cultural', 'overall', 'winner', 'programs', 'basketball', 'legs', 'guard', 'beyond', 'cast', 'doctor', 'mm', 'flight', 'results', 'remains', 'cost', 'effect', 'winter', '##ble', 'larger', 'islands', 'problems', 'chairman', 'grew', 'commander', 'isn', '1967', 'pay', 'failed', 'selected', 'hurt', 'fort', 'box', 'regiment', 'majority', 'journal', '35', 'edward', 'plans', '##ke', '##ni', 'shown', 'pretty', 'irish', 'characters', 'directly', 'scene', 'likely', 'operated', 'allow', 'spring', '##j', 'junior', 'matches', 'looks', 'mike', 'houses', 'fellow', '##tion', 'beach', 'marriage', '##ham', '##ive', 'rules', 'oil', '65', 'florida', 'expected', 'nearby', 'congress', 'sam', 'peace', 'recent', 'iii', 'wait', 'subsequently', 'cell', '##do', 'variety', 'serving', 'agreed', 'please', 'poor', 'joe', 'pacific', 'attempt', 'wood', 'democratic', 'piece', 'prime', '##ca', 'rural', 'mile', 'touch', 'appears', 'township', '1964', '1966', 'soldiers', '##men', '##ized', '1965', 'pennsylvania', 'closer', 'fighting', 'claimed', 'score', 'jones', 'physical', 'editor', '##ous', 'filled', 'genus', 'specific', 'sitting', 'super', 'mom', '##va', 'therefore', 'supported', 'status', 'fear', 'cases', 'store', 'meaning', 'wales', 'minor', 'spain', 'tower', 'focus', 'vice', 'frank', 'follow', 'parish', 'separate', 'golden', 'horse', 'fifth', 'remaining', 'branch', '32', 'presented', 'stared', '##id', 'uses', 'secret', 'forms', '##co', 'baseball', 'exactly', '##ck', 'choice', 'note', 'discovered', 'travel', 'composed', 'truth', 'russia', 'ball', 'color', 'kiss', 'dad', 'wind', 'continue', 'ring', 'referred', 'numbers', 'digital', 'greater', '##ns', 'metres', 'slightly', 'direct', 'increase', '1960', 'responsible', 'crew', 'rule', 'trees', 'troops', '##no', 'broke', 'goes', 'individuals', 'hundred', 'weight', 'creek', 'sleep', 'memory', 'defense', 'provides', 'ordered', 'code', 'value', 'jewish', 'windows', '1944', 'safe', 'judge', 'whatever', 'corps', 'realized', 'growing', 'pre', '##ga', 'cities', 'alexander', 'gaze', 'lies', 'spread', 'scott', 'letter', 'showed', 'situation', 'mayor', 'transport', 'watching', 'workers', 'extended', '##li', 'expression', 'normal', '##ment', 'chart', 'multiple', 'border', '##ba', 'host', '##ner', 'daily', 'mrs', 'walls', 'piano', '##ko', 'heat', 'cannot', '##ate', 'earned', 'products', 'drama', 'era', 'authority', 'seasons', 'join', 'grade', '##io', 'sign', 'difficult', 'machine', '1963', 'territory', 'mainly', '##wood', 'stations', 'squadron', '1962', 'stepped', 'iron', '19th', '##led', 'serve', 'appear', 'sky', 'speak', 'broken', 'charge', 'knowledge', 'kilometres', 'removed', 'ships', 'article', 'campus', 'simple', '##ty', 'pushed', 'britain', '##ve', 'leaves', 'recently', 'cd', 'soft', 'boston', 'latter', 'easy', 'acquired', 'poland', '##sa', 'quality', 'officers', 'presence', 'planned', 'nations', 'mass', 'broadcast', 'jean', 'share', 'image', 'influence', 'wild', 'offer', 'emperor', 'electric', 'reading', 'headed', 'ability', 'promoted', 'yellow', 'ministry', '1942', 'throat', 'smaller', 'politician', '##by', 'latin', 'spoke', 'cars', 'williams', 'males', 'lack', 'pop', '80', '##ier', 'acting', 'seeing', 'consists', '##ti', 'estate', '1961', 'pressure', 'johnson', 'newspaper', 'jr', 'chris', 'olympics', 'online', 'conditions', 'beat', 'elements', 'walking', 'vote', '##field', 'needs', 'carolina', 'text', 'featuring', 'global', 'block', 'shirt', 'levels', 'francisco', 'purpose', 'females', 'et', 'dutch', 'duke', 'ahead', 'gas', 'twice', 'safety', 'serious', 'turning', 'highly', 'lieutenant', 'firm', 'maria', 'amount', 'mixed', 'daniel', 'proposed', 'perfect', 'agreement', 'affairs', '3rd', 'seconds', 'contemporary', 'paid', '1943', 'prison', 'save', 'kitchen', 'label', 'administrative', 'intended', 'constructed', 'academic', 'nice', 'teacher', 'races', '1956', 'formerly', 'corporation', 'ben', 'nation', 'issued', 'shut', '1958', 'drums', 'housing', 'victoria', 'seems', 'opera', '1959', 'graduated', 'function', 'von', 'mentioned', 'picked', 'build', 'recognized', 'shortly', 'protection', 'picture', 'notable', 'exchange', 'elections', '1980s', 'loved', 'percent', 'racing', 'fish', 'elizabeth', 'garden', 'volume', 'hockey', '1941', 'beside', 'settled', '##ford', '1940', 'competed', 'replied', 'drew', '1948', 'actress', 'marine', 'scotland', 'steel', 'glanced', 'farm', 'steve', '1957', 'risk', 'tonight', 'positive', 'magic', 'singles', 'effects', 'gray', 'screen', 'dog', '##ja', 'residents', 'bus', 'sides', 'none', 'secondary', 'literature', 'polish', 'destroyed', 'flying', 'founder', 'households', '1939', 'lay', 'reserve', 'usa', 'gallery', '##ler', '1946', 'industrial', 'younger', 'approach', 'appearances', 'urban', 'ones', '1950', 'finish', 'avenue', 'powerful', 'fully', 'growth', 'page', 'honor', 'jersey', 'projects', 'advanced', 'revealed', 'basic', '90', 'infantry', 'pair', 'equipment', 'visit', '33', 'evening', 'search', 'grant', 'effort', 'solo', 'treatment', 'buried', 'republican', 'primarily', 'bottom', 'owner', '1970s', 'israel', 'gives', 'jim', 'dream', 'bob', 'remain', 'spot', '70', 'notes', 'produce', 'champions', 'contact', 'ed', 'soul', 'accepted', 'ways', 'del', '##ally', 'losing', 'split', 'price', 'capacity', 'basis', 'trial', 'questions', '##ina', '1955', '20th', 'guess', 'officially', 'memorial', 'naval', 'initial', '##ization', 'whispered', 'median', 'engineer', '##ful', 'sydney', '##go', 'columbia', 'strength', '300', '1952', 'tears', 'senate', '00', 'card', 'asian', 'agent', '1947', 'software', '44', 'draw', 'warm', 'supposed', 'com', 'pro', '##il', 'transferred', 'leaned', '##at', 'candidate', 'escape', 'mountains', 'asia', 'potential', 'activity', 'entertainment', 'seem', 'traffic', 'jackson', 'murder', '36', 'slow', 'product', 'orchestra', 'haven', 'agency', 'bbc', 'taught', 'website', 'comedy', 'unable', 'storm', 'planning', 'albums', 'rugby', 'environment', 'scientific', 'grabbed', 'protect', '##hi', 'boat', 'typically', '1954', '1953', 'damage', 'principal', 'divided', 'dedicated', 'mount', 'ohio', '##berg', 'pick', 'fought', 'driver', '##der', 'empty', 'shoulders', 'sort', 'thank', 'berlin', 'prominent', 'account', 'freedom', 'necessary', 'efforts', 'alex', 'headquarters', 'follows', 'alongside', 'des', 'simon', 'andrew', 'suggested', 'operating', 'learning', 'steps', '1949', 'sweet', 'technical', 'begin', 'easily', '34', 'teeth', 'speaking', 'settlement', 'scale', '##sh', 'renamed', 'ray', 'max', 'enemy', 'semi', 'joint', 'compared', '##rd', 'scottish', 'leadership', 'analysis', 'offers', 'georgia', 'pieces', 'captured', 'animal', 'deputy', 'guest', 'organized', '##lin', 'tony', 'combined', 'method', 'challenge', '1960s', 'huge', 'wants', 'battalion', 'sons', 'rise', 'crime', 'types', 'facilities', 'telling', 'path', '1951', 'platform', 'sit', '1990s', '##lo', 'tells', 'assigned', 'rich', 'pull', '##ot', 'commonly', 'alive', '##za', 'letters', 'concept', 'conducted', 'wearing', 'happen', 'bought', 'becomes', 'holy', 'gets', 'ocean', 'defeat', 'languages', 'purchased', 'coffee', 'occurred', 'titled', '##q', 'declared', 'applied', 'sciences', 'concert', 'sounds', 'jazz', 'brain', '##me', 'painting', 'fleet', 'tax', 'nick', '##ius', 'michigan', 'count', 'animals', 'leaders', 'episodes', '##line', 'content', '##den', 'birth', '##it', 'clubs', '64', 'palace', 'critical', 'refused', 'fair', 'leg', 'laughed', 'returning', 'surrounding', 'participated', 'formation', 'lifted', 'pointed', 'connected', 'rome', 'medicine', 'laid', 'taylor', 'santa', 'powers', 'adam', 'tall', 'shared', 'focused', 'knowing', 'yards', 'entrance', 'falls', '##wa', 'calling', '##ad', 'sources', 'chosen', 'beneath', 'resources', 'yard', '##ite', 'nominated', 'silence', 'zone', 'defined', '##que', 'gained', 'thirty', '38', 'bodies', 'moon', '##ard', 'adopted', 'christmas', 'widely', 'register', 'apart', 'iran', 'premier', 'serves', 'du', 'unknown', 'parties', '##les', 'generation', '##ff', 'continues', 'quick', 'fields', 'brigade', 'quiet', 'teaching', 'clothes', 'impact', 'weapons', 'partner', 'flat', 'theater', 'supreme', '1938', '37', 'relations', '##tor', 'plants', 'suffered', '1936', 'wilson', 'kids', 'begins', '##age', '1918', 'seats', 'armed', 'internet', 'models', 'worth', 'laws', '400', 'communities', 'classes', 'background', 'knows', 'thanks', 'quarter', 'reaching', 'humans', 'carry', 'killing', 'format', 'kong', 'hong', 'setting', '75', 'architecture', 'disease', 'railroad', 'inc', 'possibly', 'wish', 'arthur', 'thoughts', 'harry', 'doors', 'density', '##di', 'crowd', 'illinois', 'stomach', 'tone', 'unique', 'reports', 'anyway', '##ir', 'liberal', 'der', 'vehicle', 'thick', 'dry', 'drug', 'faced', 'largely', 'facility', 'theme', 'holds', 'creation', 'strange', 'colonel', '##mi', 'revolution', 'bell', 'politics', 'turns', 'silent', 'rail', 'relief', 'independence', 'combat', 'shape', 'write', 'determined', 'sales', 'learned', '4th', 'finger', 'oxford', 'providing', '1937', 'heritage', 'fiction', 'situated', 'designated', 'allowing', 'distribution', 'hosted', '##est', 'sight', 'interview', 'estimated', 'reduced', '##ria', 'toronto', 'footballer', 'keeping', 'guys', 'damn', 'claim', 'motion', 'sport', 'sixth', 'stayed', '##ze', 'en', 'rear', 'receive', 'handed', 'twelve', 'dress', 'audience', 'granted', 'brazil', '##well', 'spirit', '##ated', 'noticed', 'etc', 'olympic', 'representative', 'eric', 'tight', 'trouble', 'reviews', 'drink', 'vampire', 'missing', 'roles', 'ranked', 'newly', 'household', 'finals', 'wave', 'critics', '##ee', 'phase', 'massachusetts', 'pilot', 'unlike', 'philadelphia', 'bright', 'guns', 'crown', 'organizations', 'roof', '42', 'respectively', 'clearly', 'tongue', 'marked', 'circle', 'fox', 'korea', 'bronze', 'brian', 'expanded', 'sexual', 'supply', 'yourself', 'inspired', 'labour', 'fc', '##ah', 'reference', 'vision', 'draft', 'connection', 'brand', 'reasons', '1935', 'classic', 'driving', 'trip', 'jesus', 'cells', 'entry', '1920', 'neither', 'trail', 'claims', 'atlantic', 'orders', 'labor', 'nose', 'afraid', 'identified', 'intelligence', 'calls', 'cancer', 'attacked', 'passing', 'stephen', 'positions', 'imperial', 'grey', 'jason', '39', 'sunday', '48', 'swedish', 'avoid', 'extra', 'uncle', 'message', 'covers', 'allows', 'surprise', 'materials', 'fame', 'hunter', '##ji', '1930', 'citizens', 'figures', 'davis', 'environmental', 'confirmed', 'shit', 'titles', 'di', 'performing', 'difference', 'acts', 'attacks', '##ov', 'existing', 'votes', 'opportunity', 'nor', 'shop', 'entirely', 'trains', 'opposite', 'pakistan', '##pa', 'develop', 'resulted', 'representatives', 'actions', 'reality', 'pressed', '##ish', 'barely', 'wine', 'conversation', 'faculty', 'northwest', 'ends', 'documentary', 'nuclear', 'stock', 'grace', 'sets', 'eat', 'alternative', '##ps', 'bag', 'resulting', 'creating', 'surprised', 'cemetery', '1919', 'drop', 'finding', 'sarah', 'cricket', 'streets', 'tradition', 'ride', '1933', 'exhibition', 'target', 'ear', 'explained', 'rain', 'composer', 'injury', 'apartment', 'municipal', 'educational', 'occupied', 'netherlands', 'clean', 'billion', 'constitution', 'learn', '1914', 'maximum', 'classical', 'francis', 'lose', 'opposition', 'jose', 'ontario', 'bear', 'core', 'hills', 'rolled', 'ending', 'drawn', 'permanent', 'fun', '##tes', '##lla', 'lewis', 'sites', 'chamber', 'ryan', '##way', 'scoring', 'height', '1934', '##house', 'lyrics', 'staring', '55', 'officials', '1917', 'snow', 'oldest', '##tic', 'orange', '##ger', 'qualified', 'interior', 'apparently', 'succeeded', 'thousand', 'dinner', 'lights', 'existence', 'fans', 'heavily', '41', 'greatest', 'conservative', 'send', 'bowl', 'plus', 'enter', 'catch', '##un', 'economy', 'duty', '1929', 'speech', 'authorities', 'princess', 'performances', 'versions', 'shall', 'graduate', 'pictures', 'effective', 'remembered', 'poetry', 'desk', 'crossed', 'starring', 'starts', 'passenger', 'sharp', '##ant', 'acres', 'ass', 'weather', 'falling', 'rank', 'fund', 'supporting', 'check', 'adult', 'publishing', 'heads', 'cm', 'southeast', 'lane', '##burg', 'application', 'bc', '##ura', 'les', 'condition', 'transfer', 'prevent', 'display', 'ex', 'regions', 'earl', 'federation', 'cool', 'relatively', 'answered', 'besides', '1928', 'obtained', 'portion', '##town', 'mix', '##ding', 'reaction', 'liked', 'dean', 'express', 'peak', '1932', '##tte', 'counter', 'religion', 'chain', 'rare', 'miller', 'convention', 'aid', 'lie', 'vehicles', 'mobile', 'perform', 'squad', 'wonder', 'lying', 'crazy', 'sword', '##ping', 'attempted', 'centuries', 'weren', 'philosophy', 'category', '##ize', 'anna', 'interested', '47', 'sweden', 'wolf', 'frequently', 'abandoned', 'kg', 'literary', 'alliance', 'task', 'entitled', '##ay', 'threw', 'promotion', 'factory', 'tiny', 'soccer', 'visited', 'matt', 'fm', 'achieved', '52', 'defence', 'internal', 'persian', '43', 'methods', '##ging', 'arrested', 'otherwise', 'cambridge', 'programming', 'villages', 'elementary', 'districts', 'rooms', 'criminal', 'conflict', 'worry', 'trained', '1931', 'attempts', 'waited', 'signal', 'bird', 'truck', 'subsequent', 'programme', '##ol', 'ad', '49', 'communist', 'details', 'faith', 'sector', 'patrick', 'carrying', 'laugh', '##ss', 'controlled', 'korean', 'showing', 'origin', 'fuel', 'evil', '1927', '##ent', 'brief', 'identity', 'darkness', 'address', 'pool', 'missed', 'publication', 'web', 'planet', 'ian', 'anne', 'wings', 'invited', '##tt', 'briefly', 'standards', 'kissed', '##be', 'ideas', 'climate', 'causing', 'walter', 'worse', 'albert', 'articles', 'winners', 'desire', 'aged', 'northeast', 'dangerous', 'gate', 'doubt', '1922', 'wooden', 'multi', '##ky', 'poet', 'rising', 'funding', '46', 'communications', 'communication', 'violence', 'copies', 'prepared', 'ford', 'investigation', 'skills', '1924', 'pulling', 'electronic', '##ak', '##ial', '##han', 'containing', 'ultimately', 'offices', 'singing', 'understanding', 'restaurant', 'tomorrow', 'fashion', 'christ', 'ward', 'da', 'pope', 'stands', '5th', 'flow', 'studios', 'aired', 'commissioned', 'contained', 'exist', 'fresh', 'americans', '##per', 'wrestling', 'approved', 'kid', 'employed', 'respect', 'suit', '1925', 'angel', 'asking', 'increasing', 'frame', 'angry', 'selling', '1950s', 'thin', 'finds', '##nd', 'temperature', 'statement', 'ali', 'explain', 'inhabitants', 'towns', 'extensive', 'narrow', '51', 'jane', 'flowers', 'images', 'promise', 'somewhere', 'object', 'fly', 'closely', '##ls', '1912', 'bureau', 'cape', '1926', 'weekly', 'presidential', 'legislative', '1921', '##ai', '##au', 'launch', 'founding', '##ny', '978', '##ring', 'artillery', 'strike', 'un', 'institutions', 'roll', 'writers', 'landing', 'chose', 'kevin', 'anymore', 'pp', '##ut', 'attorney', 'fit', 'dan', 'billboard', 'receiving', 'agricultural', 'breaking', 'sought', 'dave', 'admitted', 'lands', 'mexican', '##bury', 'charlie', 'specifically', 'hole', 'iv', 'howard', 'credit', 'moscow', 'roads', 'accident', '1923', 'proved', 'wear', 'struck', 'hey', 'guards', 'stuff', 'slid', 'expansion', '1915', 'cat', 'anthony', '##kin', 'melbourne', 'opposed', 'sub', 'southwest', 'architect', 'failure', 'plane', '1916', '##ron', 'map', 'camera', 'tank', 'listen', 'regarding', 'wet', 'introduction', 'metropolitan', 'link', 'ep', 'fighter', 'inch', 'grown', 'gene', 'anger', 'fixed', 'buy', 'dvd', 'khan', 'domestic', 'worldwide', 'chapel', 'mill', 'functions', 'examples', '##head', 'developing', '1910', 'turkey', 'hits', 'pocket', 'antonio', 'papers', 'grow', 'unless', 'circuit', '18th', 'concerned', 'attached', 'journalist', 'selection', 'journey', 'converted', 'provincial', 'painted', 'hearing', 'aren', 'bands', 'negative', 'aside', 'wondered', 'knight', 'lap', 'survey', 'ma', '##ow', 'noise', 'billy', '##ium', 'shooting', 'guide', 'bedroom', 'priest', 'resistance', 'motor', 'homes', 'sounded', 'giant', '##mer', '150', 'scenes', 'equal', 'comic', 'patients', 'hidden', 'solid', 'actual', 'bringing', 'afternoon', 'touched', 'funds', 'wedding', 'consisted', 'marie', 'canal', 'sr', 'kim', 'treaty', 'turkish', 'recognition', 'residence', 'cathedral', 'broad', 'knees', 'incident', 'shaped', 'fired', 'norwegian', 'handle', 'cheek', 'contest', 'represent', '##pe', 'representing', 'beauty', '##sen', 'birds', 'advantage', 'emergency', 'wrapped', 'drawing', 'notice', 'pink', 'broadcasting', '##ong', 'somehow', 'bachelor', 'seventh', 'collected', 'registered', 'establishment', 'alan', 'assumed', 'chemical', 'personnel', 'roger', 'retirement', 'jeff', 'portuguese', 'wore', 'tied', 'device', 'threat', 'progress', 'advance', '##ised', 'banks', 'hired', 'manchester', 'nfl', 'teachers', 'structures', 'forever', '##bo', 'tennis', 'helping', 'saturday', 'sale', 'applications', 'junction', 'hip', 'incorporated', 'neighborhood', 'dressed', 'ceremony', '##ds', 'influenced', 'hers', 'visual', 'stairs', 'decades', 'inner', 'kansas', 'hung', 'hoped', 'gain', 'scheduled', 'downtown', 'engaged', 'austria', 'clock', 'norway', 'certainly', 'pale', 'protected', '1913', 'victor', 'employees', 'plate', 'putting', 'surrounded', '##ists', 'finishing', 'blues', 'tropical', '##ries', 'minnesota', 'consider', 'philippines', 'accept', '54', 'retrieved', '1900', 'concern', 'anderson', 'properties', 'institution', 'gordon', 'successfully', 'vietnam', '##dy', 'backing', 'outstanding', 'muslim', 'crossing', 'folk', 'producing', 'usual', 'demand', 'occurs', 'observed', 'lawyer', 'educated', '##ana', 'kelly', 'string', 'pleasure', 'budget', 'items', 'quietly', 'colorado', 'philip', 'typical', '##worth', 'derived', '600', 'survived', 'asks', 'mental', '##ide', '56', 'jake', 'jews', 'distinguished', 'ltd', '1911', 'sri', 'extremely', '53', 'athletic', 'loud', 'thousands', 'worried', 'shadow', 'transportation', 'horses', 'weapon', 'arena', 'importance', 'users', 'tim', 'objects', 'contributed', 'dragon', 'douglas', 'aware', 'senator', 'johnny', 'jordan', 'sisters', 'engines', 'flag', 'investment', 'samuel', 'shock', 'capable', 'clark', 'row', 'wheel', 'refers', 'session', 'familiar', 'biggest', 'wins', 'hate', 'maintained', 'drove', 'hamilton', 'request', 'expressed', 'injured', 'underground', 'churches', 'walker', 'wars', 'tunnel', 'passes', 'stupid', 'agriculture', 'softly', 'cabinet', 'regarded', 'joining', 'indiana', '##ea', '##ms', 'push', 'dates', 'spend', 'behavior', 'woods', 'protein', 'gently', 'chase', 'morgan', 'mention', 'burning', 'wake', 'combination', 'occur', 'mirror', 'leads', 'jimmy', 'indeed', 'impossible', 'singapore', 'paintings', 'covering', '##nes', 'soldier', 'locations', 'attendance', 'sell', 'historian', 'wisconsin', 'invasion', 'argued', 'painter', 'diego', 'changing', 'egypt', '##don', 'experienced', 'inches', '##ku', 'missouri', 'vol', 'grounds', 'spoken', 'switzerland', '##gan', 'reform', 'rolling', 'ha', 'forget', 'massive', 'resigned', 'burned', 'allen', 'tennessee', 'locked', 'values', 'improved', '##mo', 'wounded', 'universe', 'sick', 'dating', 'facing', 'pack', 'purchase', 'user', '##pur', 'moments', '##ul', 'merged', 'anniversary', '1908', 'coal', 'brick', 'understood', 'causes', 'dynasty', 'queensland', 'establish', 'stores', 'crisis', 'promote', 'hoping', 'views', 'cards', 'referee', 'extension', '##si', 'raise', 'arizona', 'improve', 'colonial', 'formal', 'charged', '##rt', 'palm', 'lucky', 'hide', 'rescue', 'faces', '95', 'feelings', 'candidates', 'juan', '##ell', 'goods', '6th', 'courses', 'weekend', '59', 'luke', 'cash', 'fallen', '##om', 'delivered', 'affected', 'installed', 'carefully', 'tries', 'swiss', 'hollywood', 'costs', 'lincoln', 'responsibility', '##he', 'shore', 'file', 'proper', 'normally', 'maryland', 'assistance', 'jump', 'constant', 'offering', 'friendly', 'waters', 'persons', 'realize', 'contain', 'trophy', '800', 'partnership', 'factor', '58', 'musicians', 'cry', 'bound', 'oregon', 'indicated', 'hero', 'houston', 'medium', '##ure', 'consisting', 'somewhat', '##ara', '57', 'cycle', '##che', 'beer', 'moore', 'frederick', 'gotten', 'eleven', 'worst', 'weak', 'approached', 'arranged', 'chin', 'loan', 'universal', 'bond', 'fifteen', 'pattern', 'disappeared', '##ney', 'translated', '##zed', 'lip', 'arab', 'capture', 'interests', 'insurance', '##chi', 'shifted', 'cave', 'prix', 'warning', 'sections', 'courts', 'coat', 'plot', 'smell', 'feed', 'golf', 'favorite', 'maintain', 'knife', 'vs', 'voted', 'degrees', 'finance', 'quebec', 'opinion', 'translation', 'manner', 'ruled', 'operate', 'productions', 'choose', 'musician', 'discovery', 'confused', 'tired', 'separated', 'stream', 'techniques', 'committed', 'attend', 'ranking', 'kings', 'throw', 'passengers', 'measure', 'horror', 'fan', 'mining', 'sand', 'danger', 'salt', 'calm', 'decade', 'dam', 'require', 'runner', '##ik', 'rush', 'associate', 'greece', '##ker', 'rivers', 'consecutive', 'matthew', '##ski', 'sighed', 'sq', 'documents', 'steam', 'edited', 'closing', 'tie', 'accused', '1905', '##ini', 'islamic', 'distributed', 'directors', 'organisation', 'bruce', '7th', 'breathing', 'mad', 'lit', 'arrival', 'concrete', 'taste', '08', 'composition', 'shaking', 'faster', 'amateur', 'adjacent', 'stating', '1906', 'twin', 'flew', '##ran', 'tokyo', 'publications', '##tone', 'obviously', 'ridge', 'storage', '1907', 'carl', 'pages', 'concluded', 'desert', 'driven', 'universities', 'ages', 'terminal', 'sequence', 'borough', '250', 'constituency', 'creative', 'cousin', 'economics', 'dreams', 'margaret', 'notably', 'reduce', 'montreal', 'mode', '17th', 'ears', 'saved', 'jan', 'vocal', '##ica', '1909', 'andy', '##jo', 'riding', 'roughly', 'threatened', '##ise', 'meters', 'meanwhile', 'landed', 'compete', 'repeated', 'grass', 'czech', 'regularly', 'charges', 'tea', 'sudden', 'appeal', '##ung', 'solution', 'describes', 'pierre', 'classification', 'glad', 'parking', '##ning', 'belt', 'physics', '99', 'rachel', 'add', 'hungarian', 'participate', 'expedition', 'damaged', 'gift', 'childhood', '85', 'fifty', '##red', 'mathematics', 'jumped', 'letting', 'defensive', 'mph', '##ux', '##gh', 'testing', '##hip', 'hundreds', 'shoot', 'owners', 'matters', 'smoke', 'israeli', 'kentucky', 'dancing', 'mounted', 'grandfather', 'emma', 'designs', 'profit', 'argentina', '##gs', 'truly', 'li', 'lawrence', 'cole', 'begun', 'detroit', 'willing', 'branches', 'smiling', 'decide', 'miami', 'enjoyed', 'recordings', '##dale', 'poverty', 'ethnic', 'gay', '##bi', 'gary', 'arabic', '09', 'accompanied', '##one', '##ons', 'fishing', 'determine', 'residential', 'acid', '##ary', 'alice', 'returns', 'starred', 'mail', '##ang', 'jonathan', 'strategy', '##ue', 'net', 'forty', 'cook', 'businesses', 'equivalent', 'commonwealth', 'distinct', 'ill', '##cy', 'seriously', '##ors', '##ped', 'shift', 'harris', 'replace', 'rio', 'imagine', 'formula', 'ensure', '##ber', 'additionally', 'scheme', 'conservation', 'occasionally', 'purposes', 'feels', 'favor', '##and', '##ore', '1930s', 'contrast', 'hanging', 'hunt', 'movies', '1904', 'instruments', 'victims', 'danish', 'christopher', 'busy', 'demon', 'sugar', 'earliest', 'colony', 'studying', 'balance', 'duties', '##ks', 'belgium', 'slipped', 'carter', '05', 'visible', 'stages', 'iraq', 'fifa', '##im', 'commune', 'forming', 'zero', '07', 'continuing', 'talked', 'counties', 'legend', 'bathroom', 'option', 'tail', 'clay', 'daughters', 'afterwards', 'severe', 'jaw', 'visitors', '##ded', 'devices', 'aviation', 'russell', 'kate', '##vi', 'entering', 'subjects', '##ino', 'temporary', 'swimming', 'forth', 'smooth', 'ghost', 'audio', 'bush', 'operates', 'rocks', 'movements', 'signs', 'eddie', '##tz', 'ann', 'voices', 'honorary', '06', 'memories', 'dallas', 'pure', 'measures', 'racial', 'promised', '66', 'harvard', 'ceo', '16th', 'parliamentary', 'indicate', 'benefit', 'flesh', 'dublin', 'louisiana', '1902', '1901', 'patient', 'sleeping', '1903', 'membership', 'coastal', 'medieval', 'wanting', 'element', 'scholars', 'rice', '62', 'limit', 'survive', 'makeup', 'rating', 'definitely', 'collaboration', 'obvious', '##tan', 'boss', 'ms', 'baron', 'birthday', 'linked', 'soil', 'diocese', '##lan', 'ncaa', '##mann', 'offensive', 'shell', 'shouldn', 'waist', '##tus', 'plain', 'ross', 'organ', 'resolution', 'manufacturing', 'adding', 'relative', 'kennedy', '98', 'whilst', 'moth', 'marketing', 'gardens', 'crash', '72', 'heading', 'partners', 'credited', 'carlos', 'moves', 'cable', '##zi', 'marshall', '##out', 'depending', 'bottle', 'represents', 'rejected', 'responded', 'existed', '04', 'jobs', 'denmark', 'lock', '##ating', 'treated', 'graham', 'routes', 'talent', 'commissioner', 'drugs', 'secure', 'tests', 'reign', 'restored', 'photography', '##gi', 'contributions', 'oklahoma', 'designer', 'disc', 'grin', 'seattle', 'robin', 'paused', 'atlanta', 'unusual', '##gate', 'praised', 'las', 'laughing', 'satellite', 'hungary', 'visiting', '##sky', 'interesting', 'factors', 'deck', 'poems', 'norman', '##water', 'stuck', 'speaker', 'rifle', 'domain', 'premiered', '##her', 'dc', 'comics', 'actors', '01', 'reputation', 'eliminated', '8th', 'ceiling', 'prisoners', 'script', '##nce', 'leather', 'austin', 'mississippi', 'rapidly', 'admiral', 'parallel', 'charlotte', 'guilty', 'tools', 'gender', 'divisions', 'fruit', '##bs', 'laboratory', 'nelson', 'fantasy', 'marry', 'rapid', 'aunt', 'tribe', 'requirements', 'aspects', 'suicide', 'amongst', 'adams', 'bone', 'ukraine', 'abc', 'kick', 'sees', 'edinburgh', 'clothing', 'column', 'rough', 'gods', 'hunting', 'broadway', 'gathered', 'concerns', '##ek', 'spending', 'ty', '12th', 'snapped', 'requires', 'solar', 'bones', 'cavalry', '##tta', 'iowa', 'drinking', 'waste', 'index', 'franklin', 'charity', 'thompson', 'stewart', 'tip', 'flash', 'landscape', 'friday', 'enjoy', 'singh', 'poem', 'listening', '##back', 'eighth', 'fred', 'differences', 'adapted', 'bomb', 'ukrainian', 'surgery', 'corporate', 'masters', 'anywhere', '##more', 'waves', 'odd', 'sean', 'portugal', 'orleans', 'dick', 'debate', 'kent', 'eating', 'puerto', 'cleared', '96', 'expect', 'cinema', '97', 'guitarist', 'blocks', 'electrical', 'agree', 'involving', 'depth', 'dying', 'panel', 'struggle', '##ged', 'peninsula', 'adults', 'novels', 'emerged', 'vienna', 'metro', 'debuted', 'shoes', 'tamil', 'songwriter', 'meets', 'prove', 'beating', 'instance', 'heaven', 'scared', 'sending', 'marks', 'artistic', 'passage', 'superior', '03', 'significantly', 'shopping', '##tive', 'retained', '##izing', 'malaysia', 'technique', 'cheeks', '##ola', 'warren', 'maintenance', 'destroy', 'extreme', 'allied', '120', 'appearing', '##yn', 'fill', 'advice', 'alabama', 'qualifying', 'policies', 'cleveland', 'hat', 'battery', 'smart', 'authors', '10th', 'soundtrack', 'acted', 'dated', 'lb', 'glance', 'equipped', 'coalition', 'funny', 'outer', 'ambassador', 'roy', 'possibility', 'couples', 'campbell', 'dna', 'loose', 'ethan', 'supplies', '1898', 'gonna', '88', 'monster', '##res', 'shake', 'agents', 'frequency', 'springs', 'dogs', 'practices', '61', 'gang', 'plastic', 'easier', 'suggests', 'gulf', 'blade', 'exposed', 'colors', 'industries', 'markets', 'pan', 'nervous', 'electoral', 'charts', 'legislation', 'ownership', '##idae', 'mac', 'appointment', 'shield', 'copy', 'assault', 'socialist', 'abbey', 'monument', 'license', 'throne', 'employment', 'jay', '93', 'replacement', 'charter', 'cloud', 'powered', 'suffering', 'accounts', 'oak', 'connecticut', 'strongly', 'wright', 'colour', 'crystal', '13th', 'context', 'welsh', 'networks', 'voiced', 'gabriel', 'jerry', '##cing', 'forehead', 'mp', '##ens', 'manage', 'schedule', 'totally', 'remix', '##ii', 'forests', 'occupation', 'print', 'nicholas', 'brazilian', 'strategic', 'vampires', 'engineers', '76', 'roots', 'seek', 'correct', 'instrumental', 'und', 'alfred', 'backed', 'hop', '##des', 'stanley', 'robinson', 'traveled', 'wayne', 'welcome', 'austrian', 'achieve', '67', 'exit', 'rates', '1899', 'strip', 'whereas', '##cs', 'sing', 'deeply', 'adventure', 'bobby', 'rick', 'jamie', 'careful', 'components', 'cap', 'useful', 'personality', 'knee', '##shi', 'pushing', 'hosts', '02', 'protest', 'ca', 'ottoman', 'symphony', '##sis', '63', 'boundary', '1890', 'processes', 'considering', 'considerable', 'tons', '##work', '##ft', '##nia', 'cooper', 'trading', 'dear', 'conduct', '91', 'illegal', 'apple', 'revolutionary', 'holiday', 'definition', 'harder', '##van', 'jacob', 'circumstances', 'destruction', '##lle', 'popularity', 'grip', 'classified', 'liverpool', 'donald', 'baltimore', 'flows', 'seeking', 'honour', 'approval', '92', 'mechanical', 'till', 'happening', 'statue', 'critic', 'increasingly', 'immediate', 'describe', 'commerce', 'stare', '##ster', 'indonesia', 'meat', 'rounds', 'boats', 'baker', 'orthodox', 'depression', 'formally', 'worn', 'naked', 'claire', 'muttered', 'sentence', '11th', 'emily', 'document', '77', 'criticism', 'wished', 'vessel', 'spiritual', 'bent', 'virgin', 'parker', 'minimum', 'murray', 'lunch', 'danny', 'printed', 'compilation', 'keyboards', 'false', 'blow', 'belonged', '68', 'raising', '78', 'cutting', '##board', 'pittsburgh', '##up', '9th', 'shadows', '81', 'hated', 'indigenous', 'jon', '15th', 'barry', 'scholar', 'ah', '##zer', 'oliver', '##gy', 'stick', 'susan', 'meetings', 'attracted', 'spell', 'romantic', '##ver', 'ye', '1895', 'photo', 'demanded', 'customers', '##ac', '1896', 'logan', 'revival', 'keys', 'modified', 'commanded', 'jeans', '##ious', 'upset', 'raw', 'phil', 'detective', 'hiding', 'resident', 'vincent', '##bly', 'experiences', 'diamond', 'defeating', 'coverage', 'lucas', 'external', 'parks', 'franchise', 'helen', 'bible', 'successor', 'percussion', 'celebrated', 'il', 'lift', 'profile', 'clan', 'romania', '##ied', 'mills', '##su', 'nobody', 'achievement', 'shrugged', 'fault', '1897', 'rhythm', 'initiative', 'breakfast', 'carbon', '700', '69', 'lasted', 'violent', '74', 'wound', 'ken', 'killer', 'gradually', 'filmed', '°c', 'dollars', 'processing', '94', 'remove', 'criticized', 'guests', 'sang', 'chemistry', '##vin', 'legislature', 'disney', '##bridge', 'uniform', 'escaped', 'integrated', 'proposal', 'purple', 'denied', 'liquid', 'karl', 'influential', 'morris', 'nights', 'stones', 'intense', 'experimental', 'twisted', '71', '84', '##ld', 'pace', 'nazi', 'mitchell', 'ny', 'blind', 'reporter', 'newspapers', '14th', 'centers', 'burn', 'basin', 'forgotten', 'surviving', 'filed', 'collections', 'monastery', 'losses', 'manual', 'couch', 'description', 'appropriate', 'merely', 'tag', 'missions', 'sebastian', 'restoration', 'replacing', 'triple', '73', 'elder', 'julia', 'warriors', 'benjamin', 'julian', 'convinced', 'stronger', 'amazing', 'declined', 'versus', 'merchant', 'happens', 'output', 'finland', 'bare', 'barbara', 'absence', 'ignored', 'dawn', 'injuries', '##port', 'producers', '##ram', '82', 'luis', '##ities', 'kw', 'admit', 'expensive', 'electricity', 'nba', 'exception', 'symbol', '##ving', 'ladies', 'shower', 'sheriff', 'characteristics', '##je', 'aimed', 'button', 'ratio', 'effectively', 'summit', 'angle', 'jury', 'bears', 'foster', 'vessels', 'pants', 'executed', 'evans', 'dozen', 'advertising', 'kicked', 'patrol', '1889', 'competitions', 'lifetime', 'principles', 'athletics', '##logy', 'birmingham', 'sponsored', '89', 'rob', 'nomination', '1893', 'acoustic', '##sm', 'creature', 'longest', '##tra', 'credits', 'harbor', 'dust', 'josh', '##so', 'territories', 'milk', 'infrastructure', 'completion', 'thailand', 'indians', 'leon', 'archbishop', '##sy', 'assist', 'pitch', 'blake', 'arrangement', 'girlfriend', 'serbian', 'operational', 'hence', 'sad', 'scent', 'fur', 'dj', 'sessions', 'hp', 'refer', 'rarely', '##ora', 'exists', '1892', '##ten', 'scientists', 'dirty', 'penalty', 'burst', 'portrait', 'seed', '79', 'pole', 'limits', 'rival', '1894', 'stable', 'alpha', 'grave', 'constitutional', 'alcohol', 'arrest', 'flower', 'mystery', 'devil', 'architectural', 'relationships', 'greatly', 'habitat', '##istic', 'larry', 'progressive', 'remote', 'cotton', '##ics', '##ok', 'preserved', 'reaches', '##ming', 'cited', '86', 'vast', 'scholarship', 'decisions', 'cbs', 'joy', 'teach', '1885', 'editions', 'knocked', 'eve', 'searching', 'partly', 'participation', 'gap', 'animated', 'fate', 'excellent', '##ett', 'na', '87', 'alternate', 'saints', 'youngest', '##ily', 'climbed', '##ita', '##tors', 'suggest', '##ct', 'discussion', 'staying', 'choir', 'lakes', 'jacket', 'revenue', 'nevertheless', 'peaked', 'instrument', 'wondering', 'annually', 'managing', 'neil', '1891', 'signing', 'terry', '##ice', 'apply', 'clinical', 'brooklyn', 'aim', 'catherine', 'fuck', 'farmers', 'figured', 'ninth', 'pride', 'hugh', 'evolution', 'ordinary', 'involvement', 'comfortable', 'shouted', 'tech', 'encouraged', 'taiwan', 'representation', 'sharing', '##lia', '##em', 'panic', 'exact', 'cargo', 'competing', 'fat', 'cried', '83', '1920s', 'occasions', 'pa', 'cabin', 'borders', 'utah', 'marcus', '##isation', 'badly', 'muscles', '##ance', 'victorian', 'transition', 'warner', 'bet', 'permission', '##rin', 'slave', 'terrible', 'similarly', 'shares', 'seth', 'uefa', 'possession', 'medals', 'benefits', 'colleges', 'lowered', 'perfectly', 'mall', 'transit', '##ye', '##kar', 'publisher', '##ened', 'harrison', 'deaths', 'elevation', '##ae', 'asleep', 'machines', 'sigh', 'ash', 'hardly', 'argument', 'occasion', 'parent', 'leo', 'decline', '1888', 'contribution', '##ua', 'concentration', '1000', 'opportunities', 'hispanic', 'guardian', 'extent', 'emotions', 'hips', 'mason', 'volumes', 'bloody', 'controversy', 'diameter', 'steady', 'mistake', 'phoenix', 'identify', 'violin', '##sk', 'departure', 'richmond', 'spin', 'funeral', 'enemies', '1864', 'gear', 'literally', 'connor', 'random', 'sergeant', 'grab', 'confusion', '1865', 'transmission', 'informed', 'op', 'leaning', 'sacred', 'suspended', 'thinks', 'gates', 'portland', 'luck', 'agencies', 'yours', 'hull', 'expert', 'muscle', 'layer', 'practical', 'sculpture', 'jerusalem', 'latest', 'lloyd', 'statistics', 'deeper', 'recommended', 'warrior', 'arkansas', 'mess', 'supports', 'greg', 'eagle', '1880', 'recovered', 'rated', 'concerts', 'rushed', '##ano', 'stops', 'eggs', 'files', 'premiere', 'keith', '##vo', 'delhi', 'turner', 'pit', 'affair', 'belief', 'paint', '##zing', 'mate', '##ach', '##ev', 'victim', '##ology', 'withdrew', 'bonus', 'styles', 'fled', '##ud', 'glasgow', 'technologies', 'funded', 'nbc', 'adaptation', '##ata', 'portrayed', 'cooperation', 'supporters', 'judges', 'bernard', 'justin', 'hallway', 'ralph', '##ick', 'graduating', 'controversial', 'distant', 'continental', 'spider', 'bite', '##ho', 'recognize', 'intention', 'mixing', '##ese', 'egyptian', 'bow', 'tourism', 'suppose', 'claiming', 'tiger', 'dominated', 'participants', 'vi', '##ru', 'nurse', 'partially', 'tape', '##rum', 'psychology', '##rn', 'essential', 'touring', 'duo', 'voting', 'civilian', 'emotional', 'channels', '##king', 'apparent', 'hebrew', '1887', 'tommy', 'carrier', 'intersection', 'beast', 'hudson', '##gar', '##zo', 'lab', 'nova', 'bench', 'discuss', 'costa', '##ered', 'detailed', 'behalf', 'drivers', 'unfortunately', 'obtain', '##lis', 'rocky', '##dae', 'siege', 'friendship', 'honey', '##rian', '1861', 'amy', 'hang', 'posted', 'governments', 'collins', 'respond', 'wildlife', 'preferred', 'operator', '##po', 'laura', 'pregnant', 'videos', 'dennis', 'suspected', 'boots', 'instantly', 'weird', 'automatic', 'businessman', 'alleged', 'placing', 'throwing', 'ph', 'mood', '1862', 'perry', 'venue', 'jet', 'remainder', '##lli', '##ci', 'passion', 'biological', 'boyfriend', '1863', 'dirt', 'buffalo', 'ron', 'segment', 'fa', 'abuse', '##era', 'genre', 'thrown', 'stroke', 'colored', 'stress', 'exercise', 'displayed', '##gen', 'struggled', '##tti', 'abroad', 'dramatic', 'wonderful', 'thereafter', 'madrid', 'component', 'widespread', '##sed', 'tale', 'citizen', 'todd', 'monday', '1886', 'vancouver', 'overseas', 'forcing', 'crying', 'descent', '##ris', 'discussed', 'substantial', 'ranks', 'regime', '1870', 'provinces', 'switch', 'drum', 'zane', 'ted', 'tribes', 'proof', 'lp', 'cream', 'researchers', 'volunteer', 'manor', 'silk', 'milan', 'donated', 'allies', 'venture', 'principle', 'delivery', 'enterprise', '##ves', '##ans', 'bars', 'traditionally', 'witch', 'reminded', 'copper', '##uk', 'pete', 'inter', 'links', 'colin', 'grinned', 'elsewhere', 'competitive', 'frequent', '##oy', 'scream', '##hu', 'tension', 'texts', 'submarine', 'finnish', 'defending', 'defend', 'pat', 'detail', '1884', 'affiliated', 'stuart', 'themes', 'villa', 'periods', 'tool', 'belgian', 'ruling', 'crimes', 'answers', 'folded', 'licensed', 'resort', 'demolished', 'hans', 'lucy', '1881', 'lion', 'traded', 'photographs', 'writes', 'craig', '##fa', 'trials', 'generated', 'beth', 'noble', 'debt', 'percentage', 'yorkshire', 'erected', 'ss', 'viewed', 'grades', 'confidence', 'ceased', 'islam', 'telephone', 'retail', '##ible', 'chile', 'm²', 'roberts', 'sixteen', '##ich', 'commented', 'hampshire', 'innocent', 'dual', 'pounds', 'checked', 'regulations', 'afghanistan', 'sung', 'rico', 'liberty', 'assets', 'bigger', 'options', 'angels', 'relegated', 'tribute', 'wells', 'attending', 'leaf', '##yan', 'butler', 'romanian', 'forum', 'monthly', 'lisa', 'patterns', 'gmina', '##tory', 'madison', 'hurricane', 'rev', '##ians', 'bristol', '##ula', 'elite', 'valuable', 'disaster', 'democracy', 'awareness', 'germans', 'freyja', '##ins', 'loop', 'absolutely', 'paying', 'populations', 'maine', 'sole', 'prayer', 'spencer', 'releases', 'doorway', 'bull', '##ani', 'lover', 'midnight', 'conclusion', '##sson', 'thirteen', 'lily', 'mediterranean', '##lt', 'nhl', 'proud', 'sample', '##hill', 'drummer', 'guinea', '##ova', 'murphy', 'climb', '##ston', 'instant', 'attributed', 'horn', 'ain', 'railways', 'steven', '##ao', 'autumn', 'ferry', 'opponent', 'root', 'traveling', 'secured', 'corridor', 'stretched', 'tales', 'sheet', 'trinity', 'cattle', 'helps', 'indicates', 'manhattan', 'murdered', 'fitted', '1882', 'gentle', 'grandmother', 'mines', 'shocked', 'vegas', 'produces', '##light', 'caribbean', '##ou', 'belong', 'continuous', 'desperate', 'drunk', 'historically', 'trio', 'waved', 'raf', 'dealing', 'nathan', 'bat', 'murmured', 'interrupted', 'residing', 'scientist', 'pioneer', 'harold', 'aaron', '##net', 'delta', 'attempting', 'minority', 'mini', 'believes', 'chorus', 'tend', 'lots', 'eyed', 'indoor', 'load', 'shots', 'updated', 'jail', '##llo', 'concerning', 'connecting', 'wealth', '##ved', 'slaves', 'arrive', 'rangers', 'sufficient', 'rebuilt', '##wick', 'cardinal', 'flood', 'muhammad', 'whenever', 'relation', 'runners', 'moral', 'repair', 'viewers', 'arriving', 'revenge', 'punk', 'assisted', 'bath', 'fairly', 'breathe', 'lists', 'innings', 'illustrated', 'whisper', 'nearest', 'voters', 'clinton', 'ties', 'ultimate', 'screamed', 'beijing', 'lions', 'andre', 'fictional', 'gathering', 'comfort', 'radar', 'suitable', 'dismissed', 'hms', 'ban', 'pine', 'wrist', 'atmosphere', 'voivodeship', 'bid', 'timber', '##ned', '##nan', 'giants', '##ane', 'cameron', 'recovery', 'uss', 'identical', 'categories', 'switched', 'serbia', 'laughter', 'noah', 'ensemble', 'therapy', 'peoples', 'touching', '##off', 'locally', 'pearl', 'platforms', 'everywhere', 'ballet', 'tables', 'lanka', 'herbert', 'outdoor', 'toured', 'derek', '1883', 'spaces', 'contested', 'swept', '1878', 'exclusive', 'slight', 'connections', '##dra', 'winds', 'prisoner', 'collective', 'bangladesh', 'tube', 'publicly', 'wealthy', 'thai', '##ys', 'isolated', 'select', '##ric', 'insisted', 'pen', 'fortune', 'ticket', 'spotted', 'reportedly', 'animation', 'enforcement', 'tanks', '110', 'decides', 'wider', 'lowest', 'owen', '##time', 'nod', 'hitting', '##hn', 'gregory', 'furthermore', 'magazines', 'fighters', 'solutions', '##ery', 'pointing', 'requested', 'peru', 'reed', 'chancellor', 'knights', 'mask', 'worker', 'eldest', 'flames', 'reduction', '1860', 'volunteers', '##tis', 'reporting', '##hl', 'wire', 'advisory', 'endemic', 'origins', 'settlers', 'pursue', 'knock', 'consumer', '1876', 'eu', 'compound', 'creatures', 'mansion', 'sentenced', 'ivan', 'deployed', 'guitars', 'frowned', 'involves', 'mechanism', 'kilometers', 'perspective', 'shops', 'maps', 'terminus', 'duncan', 'alien', 'fist', 'bridges', '##pers', 'heroes', 'fed', 'derby', 'swallowed', '##ros', 'patent', 'sara', 'illness', 'characterized', 'adventures', 'slide', 'hawaii', 'jurisdiction', '##op', 'organised', '##side', 'adelaide', 'walks', 'biology', 'se', '##ties', 'rogers', 'swing', 'tightly', 'boundaries', '##rie', 'prepare', 'implementation', 'stolen', '##sha', 'certified', 'colombia', 'edwards', 'garage', '##mm', 'recalled', '##ball', 'rage', 'harm', 'nigeria', 'breast', '##ren', 'furniture', 'pupils', 'settle', '##lus', 'cuba', 'balls', 'client', 'alaska', '21st', 'linear', 'thrust', 'celebration', 'latino', 'genetic', 'terror', '##cia', '##ening', 'lightning', 'fee', 'witness', 'lodge', 'establishing', 'skull', '##ique', 'earning', 'hood', '##ei', 'rebellion', 'wang', 'sporting', 'warned', 'missile', 'devoted', 'activist', 'porch', 'worship', 'fourteen', 'package', '1871', 'decorated', '##shire', 'housed', '##ock', 'chess', 'sailed', 'doctors', 'oscar', 'joan', 'treat', 'garcia', 'harbour', 'jeremy', '##ire', 'traditions', 'dominant', 'jacques', '##gon', '##wan', 'relocated', '1879', 'amendment', 'sized', 'companion', 'simultaneously', 'volleyball', 'spun', 'acre', 'increases', 'stopping', 'loves', 'belongs', 'affect', 'drafted', 'tossed', 'scout', 'battles', '1875', 'filming', 'shoved', 'munich', 'tenure', 'vertical', 'romance', 'pc', '##cher', 'argue', '##ical', 'craft', 'ranging', 'www', 'opens', 'honest', 'tyler', 'yesterday', 'virtual', '##let', 'muslims', 'reveal', 'snake', 'immigrants', 'radical', 'screaming', 'speakers', 'firing', 'saving', 'belonging', 'ease', 'lighting', 'prefecture', 'blame', 'farmer', 'hungry', 'grows', 'rubbed', 'beam', 'sur', 'subsidiary', '##cha', 'armenian', 'sao', 'dropping', 'conventional', '##fer', 'microsoft', 'reply', 'qualify', 'spots', '1867', 'sweat', 'festivals', '##ken', 'immigration', 'physician', 'discover', 'exposure', 'sandy', 'explanation', 'isaac', 'implemented', '##fish', 'hart', 'initiated', 'connect', 'stakes', 'presents', 'heights', 'householder', 'pleased', 'tourist', 'regardless', 'slip', 'closest', '##ction', 'surely', 'sultan', 'brings', 'riley', 'preparation', 'aboard', 'slammed', 'baptist', 'experiment', 'ongoing', 'interstate', 'organic', 'playoffs', '##ika', '1877', '130', '##tar', 'hindu', 'error', 'tours', 'tier', 'plenty', 'arrangements', 'talks', 'trapped', 'excited', 'sank', 'ho', 'athens', '1872', 'denver', 'welfare', 'suburb', 'athletes', 'trick', 'diverse', 'belly', 'exclusively', 'yelled', '1868', '##med', 'conversion', '##ette', '1874', 'internationally', 'computers', 'conductor', 'abilities', 'sensitive', 'hello', 'dispute', 'measured', 'globe', 'rocket', 'prices', 'amsterdam', 'flights', 'tigers', 'inn', 'municipalities', 'emotion', 'references', '3d', '##mus', 'explains', 'airlines', 'manufactured', 'pm', 'archaeological', '1873', 'interpretation', 'devon', 'comment', '##ites', 'settlements', 'kissing', 'absolute', 'improvement', 'suite', 'impressed', 'barcelona', 'sullivan', 'jefferson', 'towers', 'jesse', 'julie', '##tin', '##lu', 'grandson', 'hi', 'gauge', 'regard', 'rings', 'interviews', 'trace', 'raymond', 'thumb', 'departments', 'burns', 'serial', 'bulgarian', 'scores', 'demonstrated', '##ix', '1866', 'kyle', 'alberta', 'underneath', 'romanized', '##ward', 'relieved', 'acquisition', 'phrase', 'cliff', 'reveals', 'han', 'cuts', 'merger', 'custom', '##dar', 'nee', 'gilbert', 'graduation', '##nts', 'assessment', 'cafe', 'difficulty', 'demands', 'swung', 'democrat', 'jennifer', 'commons', '1940s', 'grove', '##yo', 'completing', 'focuses', 'sum', 'substitute', 'bearing', 'stretch', 'reception', '##py', 'reflected', 'essentially', 'destination', 'pairs', '##ched', 'survival', 'resource', '##bach', 'promoting', 'doubles', 'messages', 'tear', '##down', '##fully', 'parade', 'florence', 'harvey', 'incumbent', 'partial', 'framework', '900', 'pedro', 'frozen', 'procedure', 'olivia', 'controls', '##mic', 'shelter', 'personally', 'temperatures', '##od', 'brisbane', 'tested', 'sits', 'marble', 'comprehensive', 'oxygen', 'leonard', '##kov', 'inaugural', 'iranian', 'referring', 'quarters', 'attitude', '##ivity', 'mainstream', 'lined', 'mars', 'dakota', 'norfolk', 'unsuccessful', '##°', 'explosion', 'helicopter', 'congressional', '##sing', 'inspector', 'bitch', 'seal', 'departed', 'divine', '##ters', 'coaching', 'examination', 'punishment', 'manufacturer', 'sink', 'columns', 'unincorporated', 'signals', 'nevada', 'squeezed', 'dylan', 'dining', 'photos', 'martial', 'manuel', 'eighteen', 'elevator', 'brushed', 'plates', 'ministers', 'ivy', 'congregation', '##len', 'slept', 'specialized', 'taxes', 'curve', 'restricted', 'negotiations', 'likes', 'statistical', 'arnold', 'inspiration', 'execution', 'bold', 'intermediate', 'significance', 'margin', 'ruler', 'wheels', 'gothic', 'intellectual', 'dependent', 'listened', 'eligible', 'buses', 'widow', 'syria', 'earn', 'cincinnati', 'collapsed', 'recipient', 'secrets', 'accessible', 'philippine', 'maritime', 'goddess', 'clerk', 'surrender', 'breaks', 'playoff', 'database', '##ified', '##lon', 'ideal', 'beetle', 'aspect', 'soap', 'regulation', 'strings', 'expand', 'anglo', 'shorter', 'crosses', 'retreat', 'tough', 'coins', 'wallace', 'directions', 'pressing', '##oon', 'shipping', 'locomotives', 'comparison', 'topics', 'nephew', '##mes', 'distinction', 'honors', 'travelled', 'sierra', 'ibn', '##over', 'fortress', 'sa', 'recognised', 'carved', '1869', 'clients', '##dan', 'intent', '##mar', 'coaches', 'describing', 'bread', '##ington', 'beaten', 'northwestern', '##ona', 'merit', 'youtube', 'collapse', 'challenges', 'em', 'historians', 'objective', 'submitted', 'virus', 'attacking', 'drake', 'assume', '##ere', 'diseases', 'marc', 'stem', 'leeds', '##cus', '##ab', 'farming', 'glasses', '##lock', 'visits', 'nowhere', 'fellowship', 'relevant', 'carries', 'restaurants', 'experiments', '101', 'constantly', 'bases', 'targets', 'shah', 'tenth', 'opponents', 'verse', 'territorial', '##ira', 'writings', 'corruption', '##hs', 'instruction', 'inherited', 'reverse', 'emphasis', '##vic', 'employee', 'arch', 'keeps', 'rabbi', 'watson', 'payment', 'uh', '##ala', 'nancy', '##tre', 'venice', 'fastest', 'sexy', 'banned', 'adrian', 'properly', 'ruth', 'touchdown', 'dollar', 'boards', 'metre', 'circles', 'edges', 'favour', 'comments', 'ok', 'travels', 'liberation', 'scattered', 'firmly', '##ular', 'holland', 'permitted', 'diesel', 'kenya', 'den', 'originated', '##ral', 'demons', 'resumed', 'dragged', 'rider', '##rus', 'servant', 'blinked', 'extend', 'torn', '##ias', '##sey', 'input', 'meal', 'everybody', 'cylinder', 'kinds', 'camps', '##fe', 'bullet', 'logic', '##wn', 'croatian', 'evolved', 'healthy', 'fool', 'chocolate', 'wise', 'preserve', 'pradesh', '##ess', 'respective', '1850', '##ew', 'chicken', 'artificial', 'gross', 'corresponding', 'convicted', 'cage', 'caroline', 'dialogue', '##dor', 'narrative', 'stranger', 'mario', 'br', 'christianity', 'failing', 'trent', 'commanding', 'buddhist', '1848', 'maurice', 'focusing', 'yale', 'bike', 'altitude', '##ering', 'mouse', 'revised', '##sley', 'veteran', '##ig', 'pulls', 'theology', 'crashed', 'campaigns', 'legion', '##ability', 'drag', 'excellence', 'customer', 'cancelled', 'intensity', 'excuse', '##lar', 'liga', 'participating', 'contributing', 'printing', '##burn', 'variable', '##rk', 'curious', 'bin', 'legacy', 'renaissance', '##my', 'symptoms', 'binding', 'vocalist', 'dancer', '##nie', 'grammar', 'gospel', 'democrats', 'ya', 'enters', 'sc', 'diplomatic', 'hitler', '##ser', 'clouds', 'mathematical', 'quit', 'defended', 'oriented', '##heim', 'fundamental', 'hardware', 'impressive', 'equally', 'convince', 'confederate', 'guilt', 'chuck', 'sliding', '##ware', 'magnetic', 'narrowed', 'petersburg', 'bulgaria', 'otto', 'phd', 'skill', '##ama', 'reader', 'hopes', 'pitcher', 'reservoir', 'hearts', 'automatically', 'expecting', 'mysterious', 'bennett', 'extensively', 'imagined', 'seeds', 'monitor', 'fix', '##ative', 'journalism', 'struggling', 'signature', 'ranch', 'encounter', 'photographer', 'observation', 'protests', '##pin', 'influences', '##hr', 'calendar', '##all', 'cruz', 'croatia', 'locomotive', 'hughes', 'naturally', 'shakespeare', 'basement', 'hook', 'uncredited', 'faded', 'theories', 'approaches', 'dare', 'phillips', 'filling', 'fury', 'obama', '##ain', 'efficient', 'arc', 'deliver', 'min', 'raid', 'breeding', 'inducted', 'leagues', 'efficiency', 'axis', 'montana', 'eagles', '##ked', 'supplied', 'instructions', 'karen', 'picking', 'indicating', 'trap', 'anchor', 'practically', 'christians', 'tomb', 'vary', 'occasional', 'electronics', 'lords', 'readers', 'newcastle', 'faint', 'innovation', 'collect', 'situations', 'engagement', '160', 'claude', 'mixture', '##feld', 'peer', 'tissue', 'logo', 'lean', '##ration', '°f', 'floors', '##ven', 'architects', 'reducing', '##our', '##ments', 'rope', '1859', 'ottawa', '##har', 'samples', 'banking', 'declaration', 'proteins', 'resignation', 'francois', 'saudi', 'advocate', 'exhibited', 'armor', 'twins', 'divorce', '##ras', 'abraham', 'reviewed', 'jo', 'temporarily', 'matrix', 'physically', 'pulse', 'curled', '##ena', 'difficulties', 'bengal', 'usage', '##ban', 'annie', 'riders', 'certificate', '##pi', 'holes', 'warsaw', 'distinctive', 'jessica', '##mon', 'mutual', '1857', 'customs', 'circular', 'eugene', 'removal', 'loaded', 'mere', 'vulnerable', 'depicted', 'generations', 'dame', 'heir', 'enormous', 'lightly', 'climbing', 'pitched', 'lessons', 'pilots', 'nepal', 'ram', 'google', 'preparing', 'brad', 'louise', 'renowned', '##₂', 'liam', '##ably', 'plaza', 'shaw', 'sophie', 'brilliant', 'bills', '##bar', '##nik', 'fucking', 'mainland', 'server', 'pleasant', 'seized', 'veterans', 'jerked', 'fail', 'beta', 'brush', 'radiation', 'stored', 'warmth', 'southeastern', 'nate', 'sin', 'raced', 'berkeley', 'joke', 'athlete', 'designation', 'trunk', '##low', 'roland', 'qualification', 'archives', 'heels', 'artwork', 'receives', 'judicial', 'reserves', '##bed', 'woke', 'installation', 'abu', 'floating', 'fake', 'lesser', 'excitement', 'interface', 'concentrated', 'addressed', 'characteristic', 'amanda', 'saxophone', 'monk', 'auto', '##bus', 'releasing', 'egg', 'dies', 'interaction', 'defender', 'ce', 'outbreak', 'glory', 'loving', '##bert', 'sequel', 'consciousness', 'http', 'awake', 'ski', 'enrolled', '##ress', 'handling', 'rookie', 'brow', 'somebody', 'biography', 'warfare', 'amounts', 'contracts', 'presentation', 'fabric', 'dissolved', 'challenged', 'meter', 'psychological', 'lt', 'elevated', 'rally', 'accurate', '##tha', 'hospitals', 'undergraduate', 'specialist', 'venezuela', 'exhibit', 'shed', 'nursing', 'protestant', 'fluid', 'structural', 'footage', 'jared', 'consistent', 'prey', '##ska', 'succession', 'reflect', 'exile', 'lebanon', 'wiped', 'suspect', 'shanghai', 'resting', 'integration', 'preservation', 'marvel', 'variant', 'pirates', 'sheep', 'rounded', 'capita', 'sailing', 'colonies', 'manuscript', 'deemed', 'variations', 'clarke', 'functional', 'emerging', 'boxing', 'relaxed', 'curse', 'azerbaijan', 'heavyweight', 'nickname', 'editorial', 'rang', 'grid', 'tightened', 'earthquake', 'flashed', 'miguel', 'rushing', '##ches', 'improvements', 'boxes', 'brooks', '180', 'consumption', 'molecular', 'felix', 'societies', 'repeatedly', 'variation', 'aids', 'civic', 'graphics', 'professionals', 'realm', 'autonomous', 'receiver', 'delayed', 'workshop', 'militia', 'chairs', 'trump', 'canyon', '##point', 'harsh', 'extending', 'lovely', 'happiness', '##jan', 'stake', 'eyebrows', 'embassy', 'wellington', 'hannah', '##ella', 'sony', 'corners', 'bishops', 'swear', 'cloth', 'contents', 'xi', 'namely', 'commenced', '1854', 'stanford', 'nashville', 'courage', 'graphic', 'commitment', 'garrison', '##bin', 'hamlet', 'clearing', 'rebels', 'attraction', 'literacy', 'cooking', 'ruins', 'temples', 'jenny', 'humanity', 'celebrate', 'hasn', 'freight', 'sixty', 'rebel', 'bastard', '##art', 'newton', '##ada', 'deer', '##ges', '##ching', 'smiles', 'delaware', 'singers', '##ets', 'approaching', 'assists', 'flame', '##ph', 'boulevard', 'barrel', 'planted', '##ome', 'pursuit', '##sia', 'consequences', 'posts', 'shallow', 'invitation', 'rode', 'depot', 'ernest', 'kane', 'rod', 'concepts', 'preston', 'topic', 'chambers', 'striking', 'blast', 'arrives', 'descendants', 'montgomery', 'ranges', 'worlds', '##lay', '##ari', 'span', 'chaos', 'praise', '##ag', 'fewer', '1855', 'sanctuary', 'mud', 'fbi', '##ions', 'programmes', 'maintaining', 'unity', 'harper', 'bore', 'handsome', 'closure', 'tournaments', 'thunder', 'nebraska', 'linda', 'facade', 'puts', 'satisfied', 'argentine', 'dale', 'cork', 'dome', 'panama', '##yl', '1858', 'tasks', 'experts', '##ates', 'feeding', 'equation', '##las', '##ida', '##tu', 'engage', 'bryan', '##ax', 'um', 'quartet', 'melody', 'disbanded', 'sheffield', 'blocked', 'gasped', 'delay', 'kisses', 'maggie', 'connects', '##non', 'sts', 'poured', 'creator', 'publishers', '##we', 'guided', 'ellis', 'extinct', 'hug', 'gaining', '##ord', 'complicated', '##bility', 'poll', 'clenched', 'investigate', '##use', 'thereby', 'quantum', 'spine', 'cdp', 'humor', 'kills', 'administered', 'semifinals', '##du', 'encountered', 'ignore', '##bu', 'commentary', '##maker', 'bother', 'roosevelt', '140', 'plains', 'halfway', 'flowing', 'cultures', 'crack', 'imprisoned', 'neighboring', 'airline', '##ses', '##view', '##mate', '##ec', 'gather', 'wolves', 'marathon', 'transformed', '##ill', 'cruise', 'organisations', 'carol', 'punch', 'exhibitions', 'numbered', 'alarm', 'ratings', 'daddy', 'silently', '##stein', 'queens', 'colours', 'impression', 'guidance', 'liu', 'tactical', '##rat', 'marshal', 'della', 'arrow', '##ings', 'rested', 'feared', 'tender', 'owns', 'bitter', 'advisor', 'escort', '##ides', 'spare', 'farms', 'grants', '##ene', 'dragons', 'encourage', 'colleagues', 'cameras', '##und', 'sucked', 'pile', 'spirits', 'prague', 'statements', 'suspension', 'landmark', 'fence', 'torture', 'recreation', 'bags', 'permanently', 'survivors', 'pond', 'spy', 'predecessor', 'bombing', 'coup', '##og', 'protecting', 'transformation', 'glow', '##lands', '##book', 'dug', 'priests', 'andrea', 'feat', 'barn', 'jumping', '##chen', '##ologist', '##con', 'casualties', 'stern', 'auckland', 'pipe', 'serie', 'revealing', 'ba', '##bel', 'trevor', 'mercy', 'spectrum', 'yang', 'consist', 'governing', 'collaborated', 'possessed', 'epic', 'comprises', 'blew', 'shane', '##ack', 'lopez', 'honored', 'magical', 'sacrifice', 'judgment', 'perceived', 'hammer', 'mtv', 'baronet', 'tune', 'das', 'missionary', 'sheets', '350', 'neutral', 'oral', 'threatening', 'attractive', 'shade', 'aims', 'seminary', '##master', 'estates', '1856', 'michel', 'wounds', 'refugees', 'manufacturers', '##nic', 'mercury', 'syndrome', 'porter', '##iya', '##din', 'hamburg', 'identification', 'upstairs', 'purse', 'widened', 'pause', 'cared', 'breathed', 'affiliate', 'santiago', 'prevented', 'celtic', 'fisher', '125', 'recruited', 'byzantine', 'reconstruction', 'farther', '##mp', 'diet', 'sake', 'au', 'spite', 'sensation', '##ert', 'blank', 'separation', '105', '##hon', 'vladimir', 'armies', 'anime', '##lie', 'accommodate', 'orbit', 'cult', 'sofia', 'archive', '##ify', '##box', 'founders', 'sustained', 'disorder', 'honours', 'northeastern', 'mia', 'crops', 'violet', 'threats', 'blanket', 'fires', 'canton', 'followers', 'southwestern', 'prototype', 'voyage', 'assignment', 'altered', 'moderate', 'protocol', 'pistol', '##eo', 'questioned', 'brass', 'lifting', '1852', 'math', 'authored', '##ual', 'doug', 'dimensional', 'dynamic', '##san', '1851', 'pronounced', 'grateful', 'quest', 'uncomfortable', 'boom', 'presidency', 'stevens', 'relating', 'politicians', 'chen', 'barrier', 'quinn', 'diana', 'mosque', 'tribal', 'cheese', 'palmer', 'portions', 'sometime', 'chester', 'treasure', 'wu', 'bend', 'download', 'millions', 'reforms', 'registration', '##osa', 'consequently', 'monitoring', 'ate', 'preliminary', 'brandon', 'invented', 'ps', 'eaten', 'exterior', 'intervention', 'ports', 'documented', 'log', 'displays', 'lecture', 'sally', 'favourite', '##itz', 'vermont', 'lo', 'invisible', 'isle', 'breed', '##ator', 'journalists', 'relay', 'speaks', 'backward', 'explore', 'midfielder', 'actively', 'stefan', 'procedures', 'cannon', 'blond', 'kenneth', 'centered', 'servants', 'chains', 'libraries', 'malcolm', 'essex', 'henri', 'slavery', '##hal', 'facts', 'fairy', 'coached', 'cassie', 'cats', 'washed', 'cop', '##fi', 'announcement', 'item', '2000s', 'vinyl', 'activated', 'marco', 'frontier', 'growled', 'curriculum', '##das', 'loyal', 'accomplished', 'leslie', 'ritual', 'kenny', '##00', 'vii', 'napoleon', 'hollow', 'hybrid', 'jungle', 'stationed', 'friedrich', 'counted', '##ulated', 'platinum', 'theatrical', 'seated', 'col', 'rubber', 'glen', '1840', 'diversity', 'healing', 'extends', 'id', 'provisions', 'administrator', 'columbus', '##oe', 'tributary', 'te', 'assured', 'org', '##uous', 'prestigious', 'examined', 'lectures', 'grammy', 'ronald', 'associations', 'bailey', 'allan', 'essays', 'flute', 'believing', 'consultant', 'proceedings', 'travelling', '1853', 'kit', 'kerala', 'yugoslavia', 'buddy', 'methodist', '##ith', 'burial', 'centres', 'batman', '##nda', 'discontinued', 'bo', 'dock', 'stockholm', 'lungs', 'severely', '##nk', 'citing', 'manga', '##ugh', 'steal', 'mumbai', 'iraqi', 'robot', 'celebrity', 'bride', 'broadcasts', 'abolished', 'pot', 'joel', 'overhead', 'franz', 'packed', 'reconnaissance', 'johann', 'acknowledged', 'introduce', 'handled', 'doctorate', 'developments', 'drinks', 'alley', 'palestine', '##nis', '##aki', 'proceeded', 'recover', 'bradley', 'grain', 'patch', 'afford', 'infection', 'nationalist', 'legendary', '##ath', 'interchange', 'virtually', 'gen', 'gravity', 'exploration', 'amber', 'vital', 'wishes', 'powell', 'doctrine', 'elbow', 'screenplay', '##bird', 'contribute', 'indonesian', 'pet', 'creates', '##com', 'enzyme', 'kylie', 'discipline', 'drops', 'manila', 'hunger', '##ien', 'layers', 'suffer', 'fever', 'bits', 'monica', 'keyboard', 'manages', '##hood', 'searched', 'appeals', '##bad', 'testament', 'grande', 'reid', '##war', 'beliefs', 'congo', '##ification', '##dia', 'si', 'requiring', '##via', 'casey', '1849', 'regret', 'streak', 'rape', 'depends', 'syrian', 'sprint', 'pound', 'tourists', 'upcoming', 'pub', '##xi', 'tense', '##els', 'practiced', 'echo', 'nationwide', 'guild', 'motorcycle', 'liz', '##zar', 'chiefs', 'desired', 'elena', 'bye', 'precious', 'absorbed', 'relatives', 'booth', 'pianist', '##mal', 'citizenship', 'exhausted', 'wilhelm', '##ceae', '##hed', 'noting', 'quarterback', 'urge', 'hectares', '##gue', 'ace', 'holly', '##tal', 'blonde', 'davies', 'parked', 'sustainable', 'stepping', 'twentieth', 'airfield', 'galaxy', 'nest', 'chip', '##nell', 'tan', 'shaft', 'paulo', 'requirement', '##zy', 'paradise', 'tobacco', 'trans', 'renewed', 'vietnamese', '##cker', '##ju', 'suggesting', 'catching', 'holmes', 'enjoying', 'md', 'trips', 'colt', 'holder', 'butterfly', 'nerve', 'reformed', 'cherry', 'bowling', 'trailer', 'carriage', 'goodbye', 'appreciate', 'toy', 'joshua', 'interactive', 'enabled', 'involve', '##kan', 'collar', 'determination', 'bunch', 'facebook', 'recall', 'shorts', 'superintendent', 'episcopal', 'frustration', 'giovanni', 'nineteenth', 'laser', 'privately', 'array', 'circulation', '##ovic', 'armstrong', 'deals', 'painful', 'permit', 'discrimination', '##wi', 'aires', 'retiring', 'cottage', 'ni', '##sta', 'horizon', 'ellen', 'jamaica', 'ripped', 'fernando', 'chapters', 'playstation', 'patron', 'lecturer', 'navigation', 'behaviour', 'genes', 'georgian', 'export', 'solomon', 'rivals', 'swift', 'seventeen', 'rodriguez', 'princeton', 'independently', 'sox', '1847', 'arguing', 'entity', 'casting', 'hank', 'criteria', 'oakland', 'geographic', 'milwaukee', 'reflection', 'expanding', 'conquest', 'dubbed', '##tv', 'halt', 'brave', 'brunswick', 'doi', 'arched', 'curtis', 'divorced', 'predominantly', 'somerset', 'streams', 'ugly', 'zoo', 'horrible', 'curved', 'buenos', 'fierce', 'dictionary', 'vector', 'theological', 'unions', 'handful', 'stability', 'chan', 'punjab', 'segments', '##lly', 'altar', 'ignoring', 'gesture', 'monsters', 'pastor', '##stone', 'thighs', 'unexpected', 'operators', 'abruptly', 'coin', 'compiled', 'associates', 'improving', 'migration', 'pin', '##ose', 'compact', 'collegiate', 'reserved', '##urs', 'quarterfinals', 'roster', 'restore', 'assembled', 'hurry', 'oval', '##cies', '1846', 'flags', 'martha', '##del', 'victories', 'sharply', '##rated', 'argues', 'deadly', 'neo', 'drawings', 'symbols', 'performer', '##iel', 'griffin', 'restrictions', 'editing', 'andrews', 'java', 'journals', 'arabia', 'compositions', 'dee', 'pierce', 'removing', 'hindi', 'casino', 'runway', 'civilians', 'minds', 'nasa', 'hotels', '##zation', 'refuge', 'rent', 'retain', 'potentially', 'conferences', 'suburban', 'conducting', '##tto', '##tions', '##tle', 'descended', 'massacre', '##cal', 'ammunition', 'terrain', 'fork', 'souls', 'counts', 'chelsea', 'durham', 'drives', 'cab', '##bank', 'perth', 'realizing', 'palestinian', 'finn', 'simpson', '##dal', 'betty', '##ule', 'moreover', 'particles', 'cardinals', 'tent', 'evaluation', 'extraordinary', '##oid', 'inscription', '##works', 'wednesday', 'chloe', 'maintains', 'panels', 'ashley', 'trucks', '##nation', 'cluster', 'sunlight', 'strikes', 'zhang', '##wing', 'dialect', 'canon', '##ap', 'tucked', '##ws', 'collecting', '##mas', '##can', '##sville', 'maker', 'quoted', 'evan', 'franco', 'aria', 'buying', 'cleaning', 'eva', 'closet', 'provision', 'apollo', 'clinic', 'rat', '##ez', 'necessarily', 'ac', '##gle', '##ising', 'venues', 'flipped', 'cent', 'spreading', 'trustees', 'checking', 'authorized', '##sco', 'disappointed', '##ado', 'notion', 'duration', 'trumpet', 'hesitated', 'topped', 'brussels', 'rolls', 'theoretical', 'hint', 'define', 'aggressive', 'repeat', 'wash', 'peaceful', 'optical', 'width', 'allegedly', 'mcdonald', 'strict', 'copyright', '##illa', 'investors', 'mar', 'jam', 'witnesses', 'sounding', 'miranda', 'michelle', 'privacy', 'hugo', 'harmony', '##pp', 'valid', 'lynn', 'glared', 'nina', '102', 'headquartered', 'diving', 'boarding', 'gibson', '##ncy', 'albanian', 'marsh', 'routine', 'dealt', 'enhanced', 'er', 'intelligent', 'substance', 'targeted', 'enlisted', 'discovers', 'spinning', 'observations', 'pissed', 'smoking', 'rebecca', 'capitol', 'visa', 'varied', 'costume', 'seemingly', 'indies', 'compensation', 'surgeon', 'thursday', 'arsenal', 'westminster', 'suburbs', 'rid', 'anglican', '##ridge', 'knots', 'foods', 'alumni', 'lighter', 'fraser', 'whoever', 'portal', 'scandal', '##ray', 'gavin', 'advised', 'instructor', 'flooding', 'terrorist', '##ale', 'teenage', 'interim', 'senses', 'duck', 'teen', 'thesis', 'abby', 'eager', 'overcome', '##ile', 'newport', 'glenn', 'rises', 'shame', '##cc', 'prompted', 'priority', 'forgot', 'bomber', 'nicolas', 'protective', '360', 'cartoon', 'katherine', 'breeze', 'lonely', 'trusted', 'henderson', 'richardson', 'relax', 'banner', 'candy', 'palms', 'remarkable', '##rio', 'legends', 'cricketer', 'essay', 'ordained', 'edmund', 'rifles', 'trigger', '##uri', '##away', 'sail', 'alert', '1830', 'audiences', 'penn', 'sussex', 'siblings', 'pursued', 'indianapolis', 'resist', 'rosa', 'consequence', 'succeed', 'avoided', '1845', '##ulation', 'inland', '##tie', '##nna', 'counsel', 'profession', 'chronicle', 'hurried', '##una', 'eyebrow', 'eventual', 'bleeding', 'innovative', 'cure', '##dom', 'committees', 'accounting', 'con', 'scope', 'hardy', 'heather', 'tenor', 'gut', 'herald', 'codes', 'tore', 'scales', 'wagon', '##oo', 'luxury', 'tin', 'prefer', 'fountain', 'triangle', 'bonds', 'darling', 'convoy', 'dried', 'traced', 'beings', 'troy', 'accidentally', 'slam', 'findings', 'smelled', 'joey', 'lawyers', 'outcome', 'steep', 'bosnia', 'configuration', 'shifting', 'toll', 'brook', 'performers', 'lobby', 'philosophical', 'construct', 'shrine', 'aggregate', 'boot', 'cox', 'phenomenon', 'savage', 'insane', 'solely', 'reynolds', 'lifestyle', '##ima', 'nationally', 'holdings', 'consideration', 'enable', 'edgar', 'mo', 'mama', '##tein', 'fights', 'relegation', 'chances', 'atomic', 'hub', 'conjunction', 'awkward', 'reactions', 'currency', 'finale', 'kumar', 'underwent', 'steering', 'elaborate', 'gifts', 'comprising', 'melissa', 'veins', 'reasonable', 'sunshine', 'chi', 'solve', 'trails', 'inhabited', 'elimination', 'ethics', 'huh', 'ana', 'molly', 'consent', 'apartments', 'layout', 'marines', '##ces', 'hunters', 'bulk', '##oma', 'hometown', '##wall', '##mont', 'cracked', 'reads', 'neighbouring', 'withdrawn', 'admission', 'wingspan', 'damned', 'anthology', 'lancashire', 'brands', 'batting', 'forgive', 'cuban', 'awful', '##lyn', '104', 'dimensions', 'imagination', '##ade', 'dante', '##ship', 'tracking', 'desperately', 'goalkeeper', '##yne', 'groaned', 'workshops', 'confident', 'burton', 'gerald', 'milton', 'circus', 'uncertain', 'slope', 'copenhagen', 'sophia', 'fog', 'philosopher', 'portraits', 'accent', 'cycling', 'varying', 'gripped', 'larvae', 'garrett', 'specified', 'scotia', 'mature', 'luther', 'kurt', 'rap', '##kes', 'aerial', '750', 'ferdinand', 'heated', 'es', 'transported', '##shan', 'safely', 'nonetheless', '##orn', '##gal', 'motors', 'demanding', '##sburg', 'startled', '##brook', 'ally', 'generate', 'caps', 'ghana', 'stained', 'demo', 'mentions', 'beds', 'ap', 'afterward', 'diary', '##bling', 'utility', '##iro', 'richards', '1837', 'conspiracy', 'conscious', 'shining', 'footsteps', 'observer', 'cyprus', 'urged', 'loyalty', 'developer', 'probability', 'olive', 'upgraded', 'gym', 'miracle', 'insects', 'graves', '1844', 'ourselves', 'hydrogen', 'amazon', 'katie', 'tickets', 'poets', '##pm', 'planes', '##pan', 'prevention', 'witnessed', 'dense', 'jin', 'randy', 'tang', 'warehouse', 'monroe', 'bang', 'archived', 'elderly', 'investigations', 'alec', 'granite', 'mineral', 'conflicts', 'controlling', 'aboriginal', 'carlo', '##zu', 'mechanics', 'stan', 'stark', 'rhode', 'skirt', 'est', '##berry', 'bombs', 'respected', '##horn', 'imposed', 'limestone', 'deny', 'nominee', 'memphis', 'grabbing', 'disabled', '##als', 'amusement', 'aa', 'frankfurt', 'corn', 'referendum', 'varies', 'slowed', 'disk', 'firms', 'unconscious', 'incredible', 'clue', 'sue', '##zhou', 'twist', '##cio', 'joins', 'idaho', 'chad', 'developers', 'computing', 'destroyer', '103', 'mortal', 'tucker', 'kingston', 'choices', 'yu', 'carson', '1800', 'os', 'whitney', 'geneva', 'pretend', 'dimension', 'staged', 'plateau', 'maya', '##une', 'freestyle', '##bc', 'rovers', 'hiv', '##ids', 'tristan', 'classroom', 'prospect', '##hus', 'honestly', 'diploma', 'lied', 'thermal', 'auxiliary', 'feast', 'unlikely', 'iata', '##tel', 'morocco', 'pounding', 'treasury', 'lithuania', 'considerably', '1841', 'dish', '1812', 'geological', 'matching', 'stumbled', 'destroying', 'marched', 'brien', 'advances', 'cake', 'nicole', 'belle', 'settling', 'measuring', 'directing', '##mie', 'tuesday', 'bassist', 'capabilities', 'stunned', 'fraud', 'torpedo', '##list', '##phone', 'anton', 'wisdom', 'surveillance', 'ruined', '##ulate', 'lawsuit', 'healthcare', 'theorem', 'halls', 'trend', 'aka', 'horizontal', 'dozens', 'acquire', 'lasting', 'swim', 'hawk', 'gorgeous', 'fees', 'vicinity', 'decrease', 'adoption', 'tactics', '##ography', 'pakistani', '##ole', 'draws', '##hall', 'willie', 'burke', 'heath', 'algorithm', 'integral', 'powder', 'elliott', 'brigadier', 'jackie', 'tate', 'varieties', 'darker', '##cho', 'lately', 'cigarette', 'specimens', 'adds', '##ree', '##ensis', '##inger', 'exploded', 'finalist', 'cia', 'murders', 'wilderness', 'arguments', 'nicknamed', 'acceptance', 'onwards', 'manufacture', 'robertson', 'jets', 'tampa', 'enterprises', 'blog', 'loudly', 'composers', 'nominations', '1838', 'ai', 'malta', 'inquiry', 'automobile', 'hosting', 'viii', 'rays', 'tilted', 'grief', 'museums', 'strategies', 'furious', 'euro', 'equality', 'cohen', 'poison', 'surrey', 'wireless', 'governed', 'ridiculous', 'moses', '##esh', '##room', 'vanished', '##ito', 'barnes', 'attract', 'morrison', 'istanbul', '##iness', 'absent', 'rotation', 'petition', 'janet', '##logical', 'satisfaction', 'custody', 'deliberately', 'observatory', 'comedian', 'surfaces', 'pinyin', 'novelist', 'strictly', 'canterbury', 'oslo', 'monks', 'embrace', 'ibm', 'jealous', 'photograph', 'continent', 'dorothy', 'marina', 'doc', 'excess', 'holden', 'allegations', 'explaining', 'stack', 'avoiding', 'lance', 'storyline', 'majesty', 'poorly', 'spike', 'dos', 'bradford', 'raven', 'travis', 'classics', 'proven', 'voltage', 'pillow', 'fists', 'butt', '1842', 'interpreted', '##car', '1839', 'gage', 'telegraph', 'lens', 'promising', 'expelled', 'casual', 'collector', 'zones', '##min', 'silly', 'nintendo', '##kh', '##bra', 'downstairs', 'chef', 'suspicious', 'afl', 'flies', 'vacant', 'uganda', 'pregnancy', 'condemned', 'lutheran', 'estimates', 'cheap', 'decree', 'saxon', 'proximity', 'stripped', 'idiot', 'deposits', 'contrary', 'presenter', 'magnus', 'glacier', 'im', 'offense', 'edwin', '##ori', 'upright', '##long', 'bolt', '##ois', 'toss', 'geographical', '##izes', 'environments', 'delicate', 'marking', 'abstract', 'xavier', 'nails', 'windsor', 'plantation', 'occurring', 'equity', 'saskatchewan', 'fears', 'drifted', 'sequences', 'vegetation', 'revolt', '##stic', '1843', 'sooner', 'fusion', 'opposing', 'nato', 'skating', '1836', 'secretly', 'ruin', 'lease', '##oc', 'edit', '##nne', 'flora', 'anxiety', 'ruby', '##ological', '##mia', 'tel', 'bout', 'taxi', 'emmy', 'frost', 'rainbow', 'compounds', 'foundations', 'rainfall', 'assassination', 'nightmare', 'dominican', '##win', 'achievements', 'deserve', 'orlando', 'intact', 'armenia', '##nte', 'calgary', 'valentine', '106', 'marion', 'proclaimed', 'theodore', 'bells', 'courtyard', 'thigh', 'gonzalez', 'console', 'troop', 'minimal', 'monte', 'everyday', '##ence', '##if', 'supporter', 'terrorism', 'buck', 'openly', 'presbyterian', 'activists', 'carpet', '##iers', 'rubbing', 'uprising', '##yi', 'cute', 'conceived', 'legally', '##cht', 'millennium', 'cello', 'velocity', 'ji', 'rescued', 'cardiff', '1835', 'rex', 'concentrate', 'senators', 'beard', 'rendered', 'glowing', 'battalions', 'scouts', 'competitors', 'sculptor', 'catalogue', 'arctic', 'ion', 'raja', 'bicycle', 'wow', 'glancing', 'lawn', '##woman', 'gentleman', 'lighthouse', 'publish', 'predicted', 'calculated', '##val', 'variants', '##gne', 'strain', '##ui', 'winston', 'deceased', '##nus', 'touchdowns', 'brady', 'caleb', 'sinking', 'echoed', 'crush', 'hon', 'blessed', 'protagonist', 'hayes', 'endangered', 'magnitude', 'editors', '##tine', 'estimate', 'responsibilities', '##mel', 'backup', 'laying', 'consumed', 'sealed', 'zurich', 'lovers', 'frustrated', '##eau', 'ahmed', 'kicking', 'mit', 'treasurer', '1832', 'biblical', 'refuse', 'terrified', 'pump', 'agrees', 'genuine', 'imprisonment', 'refuses', 'plymouth', '##hen', 'lou', '##nen', 'tara', 'trembling', 'antarctic', 'ton', 'learns', '##tas', 'crap', 'crucial', 'faction', 'atop', '##borough', 'wrap', 'lancaster', 'odds', 'hopkins', 'erik', 'lyon', '##eon', 'bros', '##ode', 'snap', 'locality', 'tips', 'empress', 'crowned', 'cal', 'acclaimed', 'chuckled', '##ory', 'clara', 'sends', 'mild', 'towel', '##fl', '##day', '##а', 'wishing', 'assuming', 'interviewed', '##bal', '##die', 'interactions', 'eden', 'cups', 'helena', '##lf', 'indie', 'beck', '##fire', 'batteries', 'filipino', 'wizard', 'parted', '##lam', 'traces', '##born', 'rows', 'idol', 'albany', 'delegates', '##ees', '##sar', 'discussions', '##ex', 'notre', 'instructed', 'belgrade', 'highways', 'suggestion', 'lauren', 'possess', 'orientation', 'alexandria', 'abdul', 'beats', 'salary', 'reunion', 'ludwig', 'alright', 'wagner', 'intimate', 'pockets', 'slovenia', 'hugged', 'brighton', 'merchants', 'cruel', 'stole', 'trek', 'slopes', 'repairs', 'enrollment', 'politically', 'underlying', 'promotional', 'counting', 'boeing', '##bb', 'isabella', 'naming', '##и', 'keen', 'bacteria', 'listing', 'separately', 'belfast', 'ussr', '450', 'lithuanian', 'anybody', 'ribs', 'sphere', 'martinez', 'cock', 'embarrassed', 'proposals', 'fragments', 'nationals', '##fs', '##wski', 'premises', 'fin', '1500', 'alpine', 'matched', 'freely', 'bounded', 'jace', 'sleeve', '##af', 'gaming', 'pier', 'populated', 'evident', '##like', 'frances', 'flooded', '##dle', 'frightened', 'pour', 'trainer', 'framed', 'visitor', 'challenging', 'pig', 'wickets', '##fold', 'infected', 'email', '##pes', 'arose', '##aw', 'reward', 'ecuador', 'oblast', 'vale', 'ch', 'shuttle', '##usa', 'bach', 'rankings', 'forbidden', 'cornwall', 'accordance', 'salem', 'consumers', 'bruno', 'fantastic', 'toes', 'machinery', 'resolved', 'julius', 'remembering', 'propaganda', 'iceland', 'bombardment', 'tide', 'contacts', 'wives', '##rah', 'concerto', 'macdonald', 'albania', 'implement', 'daisy', 'tapped', 'sudan', 'helmet', 'angela', 'mistress', '##lic', 'crop', 'sunk', 'finest', '##craft', 'hostile', '##ute', '##tsu', 'boxer', 'fr', 'paths', 'adjusted', 'habit', 'ballot', 'supervision', 'soprano', '##zen', 'bullets', 'wicked', 'sunset', 'regiments', 'disappear', 'lamp', 'performs', 'app', '##gia', '##oa', 'rabbit', 'digging', 'incidents', 'entries', '##cion', 'dishes', '##oi', 'introducing', '##ati', '##fied', 'freshman', 'slot', 'jill', 'tackles', 'baroque', 'backs', '##iest', 'lone', 'sponsor', 'destiny', 'altogether', 'convert', '##aro', 'consensus', 'shapes', 'demonstration', 'basically', 'feminist', 'auction', 'artifacts', '##bing', 'strongest', 'twitter', 'halifax', '2019', 'allmusic', 'mighty', 'smallest', 'precise', 'alexandra', 'viola', '##los', '##ille', 'manuscripts', '##illo', 'dancers', 'ari', 'managers', 'monuments', 'blades', 'barracks', 'springfield', 'maiden', 'consolidated', 'electron', '##end', 'berry', 'airing', 'wheat', 'nobel', 'inclusion', 'blair', 'payments', 'geography', 'bee', 'cc', 'eleanor', 'react', '##hurst', 'afc', 'manitoba', '##yu', 'su', 'lineup', 'fitness', 'recreational', 'investments', 'airborne', 'disappointment', '##dis', 'edmonton', 'viewing', '##row', 'renovation', '##cast', 'infant', 'bankruptcy', 'roses', 'aftermath', 'pavilion', '##yer', 'carpenter', 'withdrawal', 'ladder', '##hy', 'discussing', 'popped', 'reliable', 'agreements', 'rochester', '##abad', 'curves', 'bombers', '220', 'rao', 'reverend', 'decreased', 'choosing', '107', 'stiff', 'consulting', 'naples', 'crawford', 'tracy', 'ka', 'ribbon', 'cops', '##lee', 'crushed', 'deciding', 'unified', 'teenager', 'accepting', 'flagship', 'explorer', 'poles', 'sanchez', 'inspection', 'revived', 'skilled', 'induced', 'exchanged', 'flee', 'locals', 'tragedy', 'swallow', 'loading', 'hanna', 'demonstrate', '##ela', 'salvador', 'flown', 'contestants', 'civilization', '##ines', 'wanna', 'rhodes', 'fletcher', 'hector', 'knocking', 'considers', '##ough', 'nash', 'mechanisms', 'sensed', 'mentally', 'walt', 'unclear', '##eus', 'renovated', 'madame', '##cks', 'crews', 'governmental', '##hin', 'undertaken', 'monkey', '##ben', '##ato', 'fatal', 'armored', 'copa', 'caves', 'governance', 'grasp', 'perception', 'certification', 'froze', 'damp', 'tugged', 'wyoming', '##rg', '##ero', 'newman', '##lor', 'nerves', 'curiosity', 'graph', '115', '##ami', 'withdraw', 'tunnels', 'dull', 'meredith', 'moss', 'exhibits', 'neighbors', 'communicate', 'accuracy', 'explored', 'raiders', 'republicans', 'secular', 'kat', 'superman', 'penny', 'criticised', '##tch', 'freed', 'update', 'conviction', 'wade', 'ham', 'likewise', 'delegation', 'gotta', 'doll', 'promises', 'technological', 'myth', 'nationality', 'resolve', 'convent', '##mark', 'sharon', 'dig', 'sip', 'coordinator', 'entrepreneur', 'fold', '##dine', 'capability', 'councillor', 'synonym', 'blown', 'swan', 'cursed', '1815', 'jonas', 'haired', 'sofa', 'canvas', 'keeper', 'rivalry', '##hart', 'rapper', 'speedway', 'swords', 'postal', 'maxwell', 'estonia', 'potter', 'recurring', '##nn', '##ave', 'errors', '##oni', 'cognitive', '1834', '##²', 'claws', 'nadu', 'roberto', 'bce', 'wrestler', 'ellie', '##ations', 'infinite', 'ink', '##tia', 'presumably', 'finite', 'staircase', '108', 'noel', 'patricia', 'nacional', '##cation', 'chill', 'eternal', 'tu', 'preventing', 'prussia', 'fossil', 'limbs', '##logist', 'ernst', 'frog', 'perez', 'rene', '##ace', 'pizza', 'prussian', '##ios', '##vy', 'molecules', 'regulatory', 'answering', 'opinions', 'sworn', 'lengths', 'supposedly', 'hypothesis', 'upward', 'habitats', 'seating', 'ancestors', 'drank', 'yield', 'hd', 'synthesis', 'researcher', 'modest', '##var', 'mothers', 'peered', 'voluntary', 'homeland', '##the', 'acclaim', '##igan', 'static', 'valve', 'luxembourg', 'alto', 'carroll', 'fe', 'receptor', 'norton', 'ambulance', '##tian', 'johnston', 'catholics', 'depicting', 'jointly', 'elephant', 'gloria', 'mentor', 'badge', 'ahmad', 'distinguish', 'remarked', 'councils', 'precisely', 'allison', 'advancing', 'detection', 'crowded', '##10', 'cooperative', 'ankle', 'mercedes', 'dagger', 'surrendered', 'pollution', 'commit', 'subway', 'jeffrey', 'lesson', 'sculptures', 'provider', '##fication', 'membrane', 'timothy', 'rectangular', 'fiscal', 'heating', 'teammate', 'basket', 'particle', 'anonymous', 'deployment', '##ple', 'missiles', 'courthouse', 'proportion', 'shoe', 'sec', '##ller', 'complaints', 'forbes', 'blacks', 'abandon', 'remind', 'sizes', 'overwhelming', 'autobiography', 'natalie', '##awa', 'risks', 'contestant', 'countryside', 'babies', 'scorer', 'invaded', 'enclosed', 'proceed', 'hurling', 'disorders', '##cu', 'reflecting', 'continuously', 'cruiser', 'graduates', 'freeway', 'investigated', 'ore', 'deserved', 'maid', 'blocking', 'phillip', 'jorge', 'shakes', 'dove', 'mann', 'variables', 'lacked', 'burden', 'accompanying', 'que', 'consistently', 'organizing', 'provisional', 'complained', 'endless', '##rm', 'tubes', 'juice', 'georges', 'krishna', 'mick', 'labels', 'thriller', '##uch', 'laps', 'arcade', 'sage', 'snail', '##table', 'shannon', 'fi', 'laurence', 'seoul', 'vacation', 'presenting', 'hire', 'churchill', 'surprisingly', 'prohibited', 'savannah', 'technically', '##oli', '170', '##lessly', 'testimony', 'suited', 'speeds', 'toys', 'romans', 'mlb', 'flowering', 'measurement', 'talented', 'kay', 'settings', 'charleston', 'expectations', 'shattered', 'achieving', 'triumph', 'ceremonies', 'portsmouth', 'lanes', 'mandatory', 'loser', 'stretching', 'cologne', 'realizes', 'seventy', 'cornell', 'careers', 'webb', '##ulating', 'americas', 'budapest', 'ava', 'suspicion', '##ison', 'yo', 'conrad', '##hai', 'sterling', 'jessie', 'rector', '##az', '1831', 'transform', 'organize', 'loans', 'christine', 'volcanic', 'warrant', 'slender', 'summers', 'subfamily', 'newer', 'danced', 'dynamics', 'rhine', 'proceeds', 'heinrich', 'gastropod', 'commands', 'sings', 'facilitate', 'easter', 'ra', 'positioned', 'responses', 'expense', 'fruits', 'yanked', 'imported', '25th', 'velvet', 'vic', 'primitive', 'tribune', 'baldwin', 'neighbourhood', 'donna', 'rip', 'hay', 'pr', '##uro', '1814', 'espn', 'welcomed', '##aria', 'qualifier', 'glare', 'highland', 'timing', '##cted', 'shells', 'eased', 'geometry', 'louder', 'exciting', 'slovakia', '##sion', '##iz', '##lot', 'savings', 'prairie', '##ques', 'marching', 'rafael', 'tonnes', '##lled', 'curtain', 'preceding', 'shy', 'heal', 'greene', 'worthy', '##pot', 'detachment', 'bury', 'sherman', '##eck', 'reinforced', 'seeks', 'bottles', 'contracted', 'duchess', 'outfit', 'walsh', '##sc', 'mickey', '##ase', 'geoffrey', 'archer', 'squeeze', 'dawson', 'eliminate', 'invention', '##enberg', 'neal', '##eth', 'stance', 'dealer', 'coral', 'maple', 'retire', 'polo', 'simplified', '##ht', '1833', 'hid', 'watts', 'backwards', 'jules', '##oke', 'genesis', 'mt', 'frames', 'rebounds', 'burma', 'woodland', 'moist', 'santos', 'whispers', 'drained', 'subspecies', '##aa', 'streaming', 'ulster', 'burnt', 'correspondence', 'maternal', 'gerard', 'denis', 'stealing', '##load', 'genius', 'duchy', '##oria', 'inaugurated', 'momentum', 'suits', 'placement', 'sovereign', 'clause', 'thames', '##hara', 'confederation', 'reservation', 'sketch', 'yankees', 'lets', 'rotten', 'charm', 'hal', 'verses', 'ultra', 'commercially', 'dot', 'salon', 'citation', 'adopt', 'winnipeg', 'mist', 'allocated', 'cairo', '##boy', 'jenkins', 'interference', 'objectives', '##wind', '1820', 'portfolio', 'armoured', 'sectors', '##eh', 'initiatives', '##world', 'integrity', 'exercises', 'robe', 'tap', 'ab', 'gazed', '##tones', 'distracted', 'rulers', '111', 'favorable', 'jerome', 'tended', 'cart', 'factories', '##eri', 'diplomat', 'valued', 'gravel', 'charitable', '##try', 'calvin', 'exploring', 'chang', 'shepherd', 'terrace', 'pdf', 'pupil', '##ural', 'reflects', 'ups', '##rch', 'governors', 'shelf', 'depths', '##nberg', 'trailed', 'crest', 'tackle', '##nian', '##ats', 'hatred', '##kai', 'clare', 'makers', 'ethiopia', 'longtime', 'detected', 'embedded', 'lacking', 'slapped', 'rely', 'thomson', 'anticipation', 'iso', 'morton', 'successive', 'agnes', 'screenwriter', 'straightened', 'philippe', 'playwright', 'haunted', 'licence', 'iris', 'intentions', 'sutton', '112', 'logical', 'correctly', '##weight', 'branded', 'licked', 'tipped', 'silva', 'ricky', 'narrator', 'requests', '##ents', 'greeted', 'supernatural', 'cow', '##wald', 'lung', 'refusing', 'employer', 'strait', 'gaelic', 'liner', '##piece', 'zoe', 'sabha', '##mba', 'driveway', 'harvest', 'prints', 'bates', 'reluctantly', 'threshold', 'algebra', 'ira', 'wherever', 'coupled', '240', 'assumption', 'picks', '##air', 'designers', 'raids', 'gentlemen', '##ean', 'roller', 'blowing', 'leipzig', 'locks', 'screw', 'dressing', 'strand', '##lings', 'scar', 'dwarf', 'depicts', '##nu', 'nods', '##mine', 'differ', 'boris', '##eur', 'yuan', 'flip', '##gie', 'mob', 'invested', 'questioning', 'applying', '##ture', 'shout', '##sel', 'gameplay', 'blamed', 'illustrations', 'bothered', 'weakness', 'rehabilitation', '##of', '##zes', 'envelope', 'rumors', 'miners', 'leicester', 'subtle', 'kerry', '##ico', 'ferguson', '##fu', 'premiership', 'ne', '##cat', 'bengali', 'prof', 'catches', 'remnants', 'dana', '##rily', 'shouting', 'presidents', 'baltic', 'ought', 'ghosts', 'dances', 'sailors', 'shirley', 'fancy', 'dominic', '##bie', 'madonna', '##rick', 'bark', 'buttons', 'gymnasium', 'ashes', 'liver', 'toby', 'oath', 'providence', 'doyle', 'evangelical', 'nixon', 'cement', 'carnegie', 'embarked', 'hatch', 'surroundings', 'guarantee', 'needing', 'pirate', 'essence', '##bee', 'filter', 'crane', 'hammond', 'projected', 'immune', 'percy', 'twelfth', '##ult', 'regent', 'doctoral', 'damon', 'mikhail', '##ichi', 'lu', 'critically', 'elect', 'realised', 'abortion', 'acute', 'screening', 'mythology', 'steadily', '##fc', 'frown', 'nottingham', 'kirk', 'wa', 'minneapolis', '##rra', 'module', 'algeria', 'mc', 'nautical', 'encounters', 'surprising', 'statues', 'availability', 'shirts', 'pie', 'alma', 'brows', 'munster', 'mack', 'soup', 'crater', 'tornado', 'sanskrit', 'cedar', 'explosive', 'bordered', 'dixon', 'planets', 'stamp', 'exam', 'happily', '##bble', 'carriers', 'kidnapped', '##vis', 'accommodation', 'emigrated', '##met', 'knockout', 'correspondent', 'violation', 'profits', 'peaks', 'lang', 'specimen', 'agenda', 'ancestry', 'pottery', 'spelling', 'equations', 'obtaining', 'ki', 'linking', '1825', 'debris', 'asylum', '##20', 'buddhism', 'teddy', '##ants', 'gazette', '##nger', '##sse', 'dental', 'eligibility', 'utc', 'fathers', 'averaged', 'zimbabwe', 'francesco', 'coloured', 'hissed', 'translator', 'lynch', 'mandate', 'humanities', 'mackenzie', 'uniforms', 'lin', '##iana', '##gio', 'asset', 'mhz', 'fitting', 'samantha', 'genera', 'wei', 'rim', 'beloved', 'shark', 'riot', 'entities', 'expressions', 'indo', 'carmen', 'slipping', 'owing', 'abbot', 'neighbor', 'sidney', '##av', 'rats', 'recommendations', 'encouraging', 'squadrons', 'anticipated', 'commanders', 'conquered', '##oto', 'donations', 'diagnosed', '##mond', 'divide', '##iva', 'guessed', 'decoration', 'vernon', 'auditorium', 'revelation', 'conversations', '##kers', '##power', 'herzegovina', 'dash', 'alike', 'protested', 'lateral', 'herman', 'accredited', 'mg', '##gent', 'freeman', 'mel', 'fiji', 'crow', 'crimson', '##rine', 'livestock', '##pped', 'humanitarian', 'bored', 'oz', 'whip', '##lene', '##ali', 'legitimate', 'alter', 'grinning', 'spelled', 'anxious', 'oriental', 'wesley', '##nin', '##hole', 'carnival', 'controller', 'detect', '##ssa', 'bowed', 'educator', 'kosovo', 'macedonia', '##sin', 'occupy', 'mastering', 'stephanie', 'janeiro', 'para', 'unaware', 'nurses', 'noon', '135', 'cam', 'hopefully', 'ranger', 'combine', 'sociology', 'polar', 'rica', '##eer', 'neill', '##sman', 'holocaust', '##ip', 'doubled', 'lust', '1828', '109', 'decent', 'cooling', 'unveiled', '##card', '1829', 'nsw', 'homer', 'chapman', 'meyer', '##gin', 'dive', 'mae', 'reagan', 'expertise', '##gled', 'darwin', 'brooke', 'sided', 'prosecution', 'investigating', 'comprised', 'petroleum', 'genres', 'reluctant', 'differently', 'trilogy', 'johns', 'vegetables', 'corpse', 'highlighted', 'lounge', 'pension', 'unsuccessfully', 'elegant', 'aided', 'ivory', 'beatles', 'amelia', 'cain', 'dubai', 'sunny', 'immigrant', 'babe', 'click', '##nder', 'underwater', 'pepper', 'combining', 'mumbled', 'atlas', 'horns', 'accessed', 'ballad', 'physicians', 'homeless', 'gestured', 'rpm', 'freak', 'louisville', 'corporations', 'patriots', 'prizes', 'rational', 'warn', 'modes', 'decorative', 'overnight', 'din', 'troubled', 'phantom', '##ort', 'monarch', 'sheer', '##dorf', 'generals', 'guidelines', 'organs', 'addresses', '##zon', 'enhance', 'curling', 'parishes', 'cord', '##kie', 'linux', 'caesar', 'deutsche', 'bavaria', '##bia', 'coleman', 'cyclone', '##eria', 'bacon', 'petty', '##yama', '##old', 'hampton', 'diagnosis', '1824', 'throws', 'complexity', 'rita', 'disputed', '##₃', 'pablo', '##sch', 'marketed', 'trafficking', '##ulus', 'examine', 'plague', 'formats', '##oh', 'vault', 'faithful', '##bourne', 'webster', '##ox', 'highlights', '##ient', '##ann', 'phones', 'vacuum', 'sandwich', 'modeling', '##gated', 'bolivia', 'clergy', 'qualities', 'isabel', '##nas', '##ars', 'wears', 'screams', 'reunited', 'annoyed', 'bra', '##ancy', '##rate', 'differential', 'transmitter', 'tattoo', 'container', 'poker', '##och', 'excessive', 'resides', 'cowboys', '##tum', 'augustus', 'trash', 'providers', 'statute', 'retreated', 'balcony', 'reversed', 'void', 'storey', 'preceded', 'masses', 'leap', 'laughs', 'neighborhoods', 'wards', 'schemes', 'falcon', 'santo', 'battlefield', 'pad', 'ronnie', 'thread', 'lesbian', 'venus', '##dian', 'beg', 'sandstone', 'daylight', 'punched', 'gwen', 'analog', 'stroked', 'wwe', 'acceptable', 'measurements', 'dec', 'toxic', '##kel', 'adequate', 'surgical', 'economist', 'parameters', 'varsity', '##sberg', 'quantity', 'ella', '##chy', '##rton', 'countess', 'generating', 'precision', 'diamonds', 'expressway', 'ga', '##ı', '1821', 'uruguay', 'talents', 'galleries', 'expenses', 'scanned', 'colleague', 'outlets', 'ryder', 'lucien', '##ila', 'paramount', '##bon', 'syracuse', 'dim', 'fangs', 'gown', 'sweep', '##sie', 'toyota', 'missionaries', 'websites', '##nsis', 'sentences', 'adviser', 'val', 'trademark', 'spells', '##plane', 'patience', 'starter', 'slim', '##borg', 'toe', 'incredibly', 'shoots', 'elliot', 'nobility', '##wyn', 'cowboy', 'endorsed', 'gardner', 'tendency', 'persuaded', 'organisms', 'emissions', 'kazakhstan', 'amused', 'boring', 'chips', 'themed', '##hand', 'llc', 'constantinople', 'chasing', 'systematic', 'guatemala', 'borrowed', 'erin', 'carey', '##hard', 'highlands', 'struggles', '1810', '##ifying', '##ced', 'wong', 'exceptions', 'develops', 'enlarged', 'kindergarten', 'castro', '##ern', '##rina', 'leigh', 'zombie', 'juvenile', '##most', 'consul', '##nar', 'sailor', 'hyde', 'clarence', 'intensive', 'pinned', 'nasty', 'useless', 'jung', 'clayton', 'stuffed', 'exceptional', 'ix', 'apostolic', '230', 'transactions', '##dge', 'exempt', 'swinging', 'cove', 'religions', '##ash', 'shields', 'dairy', 'bypass', '190', 'pursuing', 'bug', 'joyce', 'bombay', 'chassis', 'southampton', 'chat', 'interact', 'redesignated', '##pen', 'nascar', 'pray', 'salmon', 'rigid', 'regained', 'malaysian', 'grim', 'publicity', 'constituted', 'capturing', 'toilet', 'delegate', 'purely', 'tray', 'drift', 'loosely', 'striker', 'weakened', 'trinidad', 'mitch', 'itv', 'defines', 'transmitted', 'ming', 'scarlet', 'nodding', 'fitzgerald', 'fu', 'narrowly', 'sp', 'tooth', 'standings', 'virtue', '##₁', '##wara', '##cting', 'chateau', 'gloves', 'lid', '##nel', 'hurting', 'conservatory', '##pel', 'sinclair', 'reopened', 'sympathy', 'nigerian', 'strode', 'advocated', 'optional', 'chronic', 'discharge', '##rc', 'suck', 'compatible', 'laurel', 'stella', 'shi', 'fails', 'wage', 'dodge', '128', 'informal', 'sorts', 'levi', 'buddha', 'villagers', '##aka', 'chronicles', 'heavier', 'summoned', 'gateway', '3000', 'eleventh', 'jewelry', 'translations', 'accordingly', 'seas', '##ency', 'fiber', 'pyramid', 'cubic', 'dragging', '##ista', 'caring', '##ops', 'android', 'contacted', 'lunar', '##dt', 'kai', 'lisbon', 'patted', '1826', 'sacramento', 'theft', 'madagascar', 'subtropical', 'disputes', 'ta', 'holidays', 'piper', 'willow', 'mare', 'cane', 'itunes', 'newfoundland', 'benny', 'companions', 'dong', 'raj', 'observe', 'roar', 'charming', 'plaque', 'tibetan', 'fossils', 'enacted', 'manning', 'bubble', 'tina', 'tanzania', '##eda', '##hir', 'funk', 'swamp', 'deputies', 'cloak', 'ufc', 'scenario', 'par', 'scratch', 'metals', 'anthem', 'guru', 'engaging', 'specially', '##boat', 'dialects', 'nineteen', 'cecil', 'duet', 'disability', 'messenger', 'unofficial', '##lies', 'defunct', 'eds', 'moonlight', 'drainage', 'surname', 'puzzle', 'honda', 'switching', 'conservatives', 'mammals', 'knox', 'broadcaster', 'sidewalk', 'cope', '##ried', 'benson', 'princes', 'peterson', '##sal', 'bedford', 'sharks', 'eli', 'wreck', 'alberto', 'gasp', 'archaeology', 'lgbt', 'teaches', 'securities', 'madness', 'compromise', 'waving', 'coordination', 'davidson', 'visions', 'leased', 'possibilities', 'eighty', 'jun', 'fernandez', 'enthusiasm', 'assassin', 'sponsorship', 'reviewer', 'kingdoms', 'estonian', 'laboratories', '##fy', '##nal', 'applies', 'verb', 'celebrations', '##zzo', 'rowing', 'lightweight', 'sadness', 'submit', 'mvp', 'balanced', 'dude', '##vas', 'explicitly', 'metric', 'magnificent', 'mound', 'brett', 'mohammad', 'mistakes', 'irregular', '##hing', '##ass', 'sanders', 'betrayed', 'shipped', 'surge', '##enburg', 'reporters', 'termed', 'georg', 'pity', 'verbal', 'bulls', 'abbreviated', 'enabling', 'appealed', '##are', '##atic', 'sicily', 'sting', 'heel', 'sweetheart', 'bart', 'spacecraft', 'brutal', 'monarchy', '##tter', 'aberdeen', 'cameo', 'diane', '##ub', 'survivor', 'clyde', '##aries', 'complaint', '##makers', 'clarinet', 'delicious', 'chilean', 'karnataka', 'coordinates', '1818', 'panties', '##rst', 'pretending', 'ar', 'dramatically', 'kiev', 'bella', 'tends', 'distances', '113', 'catalog', 'launching', 'instances', 'telecommunications', 'portable', 'lindsay', 'vatican', '##eim', 'angles', 'aliens', 'marker', 'stint', 'screens', 'bolton', '##rne', 'judy', 'wool', 'benedict', 'plasma', 'europa', 'spark', 'imaging', 'filmmaker', 'swiftly', '##een', 'contributor', '##nor', 'opted', 'stamps', 'apologize', 'financing', 'butter', 'gideon', 'sophisticated', 'alignment', 'avery', 'chemicals', 'yearly', 'speculation', 'prominence', 'professionally', '##ils', 'immortal', 'institutional', 'inception', 'wrists', 'identifying', 'tribunal', 'derives', 'gains', '##wo', 'papal', 'preference', 'linguistic', 'vince', 'operative', 'brewery', '##ont', 'unemployment', 'boyd', '##ured', '##outs', 'albeit', 'prophet', '1813', 'bi', '##rr', '##face', '##rad', 'quarterly', 'asteroid', 'cleaned', 'radius', 'temper', '##llen', 'telugu', 'jerk', 'viscount', 'menu', '##ote', 'glimpse', '##aya', 'yacht', 'hawaiian', 'baden', '##rl', 'laptop', 'readily', '##gu', 'monetary', 'offshore', 'scots', 'watches', '##yang', '##arian', 'upgrade', 'needle', 'xbox', 'lea', 'encyclopedia', 'flank', 'fingertips', '##pus', 'delight', 'teachings', 'confirm', 'roth', 'beaches', 'midway', 'winters', '##iah', 'teasing', 'daytime', 'beverly', 'gambling', 'bonnie', '##backs', 'regulated', 'clement', 'hermann', 'tricks', 'knot', '##shing', '##uring', '##vre', 'detached', 'ecological', 'owed', 'specialty', 'byron', 'inventor', 'bats', 'stays', 'screened', 'unesco', 'midland', 'trim', 'affection', '##ander', '##rry', 'jess', 'thoroughly', 'feedback', '##uma', 'chennai', 'strained', 'heartbeat', 'wrapping', 'overtime', 'pleaded', '##sworth', 'mon', 'leisure', 'oclc', '##tate', '##ele', 'feathers', 'angelo', 'thirds', 'nuts', 'surveys', 'clever', 'gill', 'commentator', '##dos', 'darren', 'rides', 'gibraltar', '##nc', '##mu', 'dissolution', 'dedication', 'shin', 'meals', 'saddle', 'elvis', 'reds', 'chaired', 'taller', 'appreciation', 'functioning', 'niece', 'favored', 'advocacy', 'robbie', 'criminals', 'suffolk', 'yugoslav', 'passport', 'constable', 'congressman', 'hastings', 'vera', '##rov', 'consecrated', 'sparks', 'ecclesiastical', 'confined', '##ovich', 'muller', 'floyd', 'nora', '1822', 'paved', '1827', 'cumberland', 'ned', 'saga', 'spiral', '##flow', 'appreciated', 'yi', 'collaborative', 'treating', 'similarities', 'feminine', 'finishes', '##ib', 'jade', 'import', '##nse', '##hot', 'champagne', 'mice', 'securing', 'celebrities', 'helsinki', 'attributes', '##gos', 'cousins', 'phases', 'ache', 'lucia', 'gandhi', 'submission', 'vicar', 'spear', 'shine', 'tasmania', 'biting', 'detention', 'constitute', 'tighter', 'seasonal', '##gus', 'terrestrial', 'matthews', '##oka', 'effectiveness', 'parody', 'philharmonic', '##onic', '1816', 'strangers', 'encoded', 'consortium', 'guaranteed', 'regards', 'shifts', 'tortured', 'collision', 'supervisor', 'inform', 'broader', 'insight', 'theaters', 'armour', 'emeritus', 'blink', 'incorporates', 'mapping', '##50', '##ein', 'handball', 'flexible', '##nta', 'substantially', 'generous', 'thief', '##own', 'carr', 'loses', '1793', 'prose', 'ucla', 'romeo', 'generic', 'metallic', 'realization', 'damages', 'mk', 'commissioners', 'zach', 'default', '##ther', 'helicopters', 'lengthy', 'stems', 'spa', 'partnered', 'spectators', 'rogue', 'indication', 'penalties', 'teresa', '1801', 'sen', '##tric', 'dalton', '##wich', 'irving', 'photographic', '##vey', 'dell', 'deaf', 'peters', 'excluded', 'unsure', '##vable', 'patterson', 'crawled', '##zio', 'resided', 'whipped', 'latvia', 'slower', 'ecole', 'pipes', 'employers', 'maharashtra', 'comparable', 'va', 'textile', 'pageant', '##gel', 'alphabet', 'binary', 'irrigation', 'chartered', 'choked', 'antoine', 'offs', 'waking', 'supplement', '##wen', 'quantities', 'demolition', 'regain', 'locate', 'urdu', 'folks', 'alt', '114', '##mc', 'scary', 'andreas', 'whites', '##ava', 'classrooms', 'mw', 'aesthetic', 'publishes', 'valleys', 'guides', 'cubs', 'johannes', 'bryant', 'conventions', 'affecting', '##itt', 'drain', 'awesome', 'isolation', 'prosecutor', 'ambitious', 'apology', 'captive', 'downs', 'atmospheric', 'lorenzo', 'aisle', 'beef', 'foul', '##onia', 'kidding', 'composite', 'disturbed', 'illusion', 'natives', '##ffer', 'emi', 'rockets', 'riverside', 'wartime', 'painters', 'adolf', 'melted', '##ail', 'uncertainty', 'simulation', 'hawks', 'progressed', 'meantime', 'builder', 'spray', 'breach', 'unhappy', 'regina', 'russians', '##urg', 'determining', '##tation', 'tram', '1806', '##quin', 'aging', '##12', '1823', 'garion', 'rented', 'mister', 'diaz', 'terminated', 'clip', '1817', 'depend', 'nervously', 'disco', 'owe', 'defenders', 'shiva', 'notorious', 'disbelief', 'shiny', 'worcester', '##gation', '##yr', 'trailing', 'undertook', 'islander', 'belarus', 'limitations', 'watershed', 'fuller', 'overlooking', 'utilized', 'raphael', '1819', 'synthetic', 'breakdown', 'klein', '##nate', 'moaned', 'memoir', 'lamb', 'practicing', '##erly', 'cellular', 'arrows', 'exotic', '##graphy', 'witches', '117', 'charted', 'rey', 'hut', 'hierarchy', 'subdivision', 'freshwater', 'giuseppe', 'aloud', 'reyes', 'qatar', 'marty', 'sideways', 'utterly', 'sexually', 'jude', 'prayers', 'mccarthy', 'softball', 'blend', 'damien', '##gging', '##metric', 'wholly', 'erupted', 'lebanese', 'negro', 'revenues', 'tasted', 'comparative', 'teamed', 'transaction', 'labeled', 'maori', 'sovereignty', 'parkway', 'trauma', 'gran', 'malay', '121', 'advancement', 'descendant', '2020', 'buzz', 'salvation', 'inventory', 'symbolic', '##making', 'antarctica', 'mps', '##gas', '##bro', 'mohammed', 'myanmar', 'holt', 'submarines', 'tones', '##lman', 'locker', 'patriarch', 'bangkok', 'emerson', 'remarks', 'predators', 'kin', 'afghan', 'confession', 'norwich', 'rental', 'emerge', 'advantages', '##zel', 'rca', '##hold', 'shortened', 'storms', 'aidan', '##matic', 'autonomy', 'compliance', '##quet', 'dudley', 'atp', '##osis', '1803', 'motto', 'documentation', 'summary', 'professors', 'spectacular', 'christina', 'archdiocese', 'flashing', 'innocence', 'remake', '##dell', 'psychic', 'reef', 'scare', 'employ', 'rs', 'sticks', 'meg', 'gus', 'leans', '##ude', 'accompany', 'bergen', 'tomas', '##iko', 'doom', 'wages', 'pools', '##nch', '##bes', 'breasts', 'scholarly', 'alison', 'outline', 'brittany', 'breakthrough', 'willis', 'realistic', '##cut', '##boro', 'competitor', '##stan', 'pike', 'picnic', 'icon', 'designing', 'commercials', 'washing', 'villain', 'skiing', 'micro', 'costumes', 'auburn', 'halted', 'executives', '##hat', 'logistics', 'cycles', 'vowel', 'applicable', 'barrett', 'exclaimed', 'eurovision', 'eternity', 'ramon', '##umi', '##lls', 'modifications', 'sweeping', 'disgust', '##uck', 'torch', 'aviv', 'ensuring', 'rude', 'dusty', 'sonic', 'donovan', 'outskirts', 'cu', 'pathway', '##band', '##gun', '##lines', 'disciplines', 'acids', 'cadet', 'paired', '##40', 'sketches', '##sive', 'marriages', '##⁺', 'folding', 'peers', 'slovak', 'implies', 'admired', '##beck', '1880s', 'leopold', 'instinct', 'attained', 'weston', 'megan', 'horace', '##ination', 'dorsal', 'ingredients', 'evolutionary', '##its', 'complications', 'deity', 'lethal', 'brushing', 'levy', 'deserted', 'institutes', 'posthumously', 'delivering', 'telescope', 'coronation', 'motivated', 'rapids', 'luc', 'flicked', 'pays', 'volcano', 'tanner', 'weighed', '##nica', 'crowds', 'frankie', 'gifted', 'addressing', 'granddaughter', 'winding', '##rna', 'constantine', 'gomez', '##front', 'landscapes', 'rudolf', 'anthropology', 'slate', 'werewolf', '##lio', 'astronomy', 'circa', 'rouge', 'dreaming', 'sack', 'knelt', 'drowned', 'naomi', 'prolific', 'tracked', 'freezing', 'herb', '##dium', 'agony', 'randall', 'twisting', 'wendy', 'deposit', 'touches', 'vein', 'wheeler', '##bbled', '##bor', 'batted', 'retaining', 'tire', 'presently', 'compare', 'specification', 'daemon', 'nigel', '##grave', 'merry', 'recommendation', 'czechoslovakia', 'sandra', 'ng', 'roma', '##sts', 'lambert', 'inheritance', 'sheikh', 'winchester', 'cries', 'examining', '##yle', 'comeback', 'cuisine', 'nave', '##iv', 'ko', 'retrieve', 'tomatoes', 'barker', 'polished', 'defining', 'irene', 'lantern', 'personalities', 'begging', 'tract', 'swore', '1809', '175', '##gic', 'omaha', 'brotherhood', '##rley', 'haiti', '##ots', 'exeter', '##ete', '##zia', 'steele', 'dumb', 'pearson', '210', 'surveyed', 'elisabeth', 'trends', '##ef', 'fritz', '##rf', 'premium', 'bugs', 'fraction', 'calmly', 'viking', '##birds', 'tug', 'inserted', 'unusually', '##ield', 'confronted', 'distress', 'crashing', 'brent', 'turks', 'resign', '##olo', 'cambodia', 'gabe', 'sauce', '##kal', 'evelyn', '116', 'extant', 'clusters', 'quarry', 'teenagers', 'luna', '##lers', '##ister', 'affiliation', 'drill', '##ashi', 'panthers', 'scenic', 'libya', 'anita', 'strengthen', 'inscriptions', '##cated', 'lace', 'sued', 'judith', 'riots', '##uted', 'mint', '##eta', 'preparations', 'midst', 'dub', 'challenger', '##vich', 'mock', 'cf', 'displaced', 'wicket', 'breaths', 'enables', 'schmidt', 'analyst', '##lum', 'ag', 'highlight', 'automotive', 'axe', 'josef', 'newark', 'sufficiently', 'resembles', '50th', '##pal', 'flushed', 'mum', 'traits', '##ante', 'commodore', 'incomplete', 'warming', 'titular', 'ceremonial', 'ethical', '118', 'celebrating', 'eighteenth', 'cao', 'lima', 'medalist', 'mobility', 'strips', 'snakes', '##city', 'miniature', 'zagreb', 'barton', 'escapes', 'umbrella', 'automated', 'doubted', 'differs', 'cooled', 'georgetown', 'dresden', 'cooked', 'fade', 'wyatt', 'rna', 'jacobs', 'carlton', 'abundant', 'stereo', 'boost', 'madras', 'inning', '##hia', 'spur', 'ip', 'malayalam', 'begged', 'osaka', 'groan', 'escaping', 'charging', 'dose', 'vista', '##aj', 'bud', 'papa', 'communists', 'advocates', 'edged', 'tri', '##cent', 'resemble', 'peaking', 'necklace', 'fried', 'montenegro', 'saxony', 'goose', 'glances', 'stuttgart', 'curator', 'recruit', 'grocery', 'sympathetic', '##tting', '##fort', '127', 'lotus', 'randolph', 'ancestor', '##rand', 'succeeding', 'jupiter', '1798', 'macedonian', '##heads', 'hiking', '1808', 'handing', 'fischer', '##itive', 'garbage', 'node', '##pies', 'prone', 'singular', 'papua', 'inclined', 'attractions', 'italia', 'pouring', 'motioned', 'grandma', 'garnered', 'jacksonville', 'corp', 'ego', 'ringing', 'aluminum', '##hausen', 'ordering', '##foot', 'drawer', 'traders', 'synagogue', '##play', '##kawa', 'resistant', 'wandering', 'fragile', 'fiona', 'teased', 'var', 'hardcore', 'soaked', 'jubilee', 'decisive', 'exposition', 'mercer', 'poster', 'valencia', 'hale', 'kuwait', '1811', '##ises', '##wr', '##eed', 'tavern', 'gamma', '122', 'johan', '##uer', 'airways', 'amino', 'gil', '##ury', 'vocational', 'domains', 'torres', '##sp', 'generator', 'folklore', 'outcomes', '##keeper', 'canberra', 'shooter', 'fl', 'beams', 'confrontation', '##lling', '##gram', 'feb', 'aligned', 'forestry', 'pipeline', 'jax', 'motorway', 'conception', 'decay', '##tos', 'coffin', '##cott', 'stalin', '1805', 'escorted', 'minded', '##nam', 'sitcom', 'purchasing', 'twilight', 'veronica', 'additions', 'passive', 'tensions', 'straw', '123', 'frequencies', '1804', 'refugee', 'cultivation', '##iate', 'christie', 'clary', 'bulletin', 'crept', 'disposal', '##rich', '##zong', 'processor', 'crescent', '##rol', 'bmw', 'emphasized', 'whale', 'nazis', 'aurora', '##eng', 'dwelling', 'hauled', 'sponsors', 'toledo', 'mega', 'ideology', 'theatres', 'tessa', 'cerambycidae', 'saves', 'turtle', 'cone', 'suspects', 'kara', 'rusty', 'yelling', 'greeks', 'mozart', 'shades', 'cocked', 'participant', '##tro', 'shire', 'spit', 'freeze', 'necessity', '##cos', 'inmates', 'nielsen', 'councillors', 'loaned', 'uncommon', 'omar', 'peasants', 'botanical', 'offspring', 'daniels', 'formations', 'jokes', '1794', 'pioneers', 'sigma', 'licensing', '##sus', 'wheelchair', 'polite', '1807', 'liquor', 'pratt', 'trustee', '##uta', 'forewings', 'balloon', '##zz', 'kilometre', 'camping', 'explicit', 'casually', 'shawn', 'foolish', 'teammates', 'nm', 'hassan', 'carrie', 'judged', 'satisfy', 'vanessa', 'knives', 'selective', 'cnn', 'flowed', '##lice', 'eclipse', 'stressed', 'eliza', 'mathematician', 'cease', 'cultivated', '##roy', 'commissions', 'browns', '##ania', 'destroyers', 'sheridan', 'meadow', '##rius', 'minerals', '##cial', 'downstream', 'clash', 'gram', 'memoirs', 'ventures', 'baha', 'seymour', 'archie', 'midlands', 'edith', 'fare', 'flynn', 'invite', 'canceled', 'tiles', 'stabbed', 'boulder', 'incorporate', 'amended', 'camden', 'facial', 'mollusk', 'unreleased', 'descriptions', 'yoga', 'grabs', '550', 'raises', 'ramp', 'shiver', '##rose', 'coined', 'pioneering', 'tunes', 'qing', 'warwick', 'tops', '119', 'melanie', 'giles', '##rous', 'wandered', '##inal', 'annexed', 'nov', '30th', 'unnamed', '##ished', 'organizational', 'airplane', 'normandy', 'stoke', 'whistle', 'blessing', 'violations', 'chased', 'holders', 'shotgun', '##ctic', 'outlet', 'reactor', '##vik', 'tires', 'tearing', 'shores', 'fortified', 'mascot', 'constituencies', 'nc', 'columnist', 'productive', 'tibet', '##rta', 'lineage', 'hooked', 'oct', 'tapes', 'judging', 'cody', '##gger', 'hansen', 'kashmir', 'triggered', '##eva', 'solved', 'cliffs', '##tree', 'resisted', 'anatomy', 'protesters', 'transparent', 'implied', '##iga', 'injection', 'mattress', 'excluding', '##mbo', 'defenses', 'helpless', 'devotion', '##elli', 'growl', 'liberals', 'weber', 'phenomena', 'atoms', 'plug', '##iff', 'mortality', 'apprentice', 'howe', 'convincing', 'aaa', 'swimmer', 'barber', 'leone', 'promptly', 'sodium', 'def', 'nowadays', 'arise', '##oning', 'gloucester', 'corrected', 'dignity', 'norm', 'erie', '##ders', 'elders', 'evacuated', 'sylvia', 'compression', '##yar', 'hartford', 'pose', 'backpack', 'reasoning', 'accepts', '24th', 'wipe', 'millimetres', 'marcel', '##oda', 'dodgers', 'albion', '1790', 'overwhelmed', 'aerospace', 'oaks', '1795', 'showcase', 'acknowledge', 'recovering', 'nolan', 'ashe', 'hurts', 'geology', 'fashioned', 'disappearance', 'farewell', 'swollen', 'shrug', 'marquis', 'wimbledon', '124', 'rue', '1792', 'commemorate', 'reduces', 'experiencing', 'inevitable', 'calcutta', 'intel', '##court', 'murderer', 'sticking', 'fisheries', 'imagery', 'bloom', '280', 'brake', '##inus', 'gustav', 'hesitation', 'memorable', 'po', 'viral', 'beans', 'accidents', 'tunisia', 'antenna', 'spilled', 'consort', 'treatments', 'aye', 'perimeter', '##gard', 'donation', 'hostage', 'migrated', 'banker', 'addiction', 'apex', 'lil', 'trout', '##ously', 'conscience', '##nova', 'rams', 'sands', 'genome', 'passionate', 'troubles', '##lets', '##set', 'amid', '##ibility', '##ret', 'higgins', 'exceed', 'vikings', '##vie', 'payne', '##zan', 'muscular', '##ste', 'defendant', 'sucking', '##wal', 'ibrahim', 'fuselage', 'claudia', 'vfl', 'europeans', 'snails', 'interval', '##garh', 'preparatory', 'statewide', 'tasked', 'lacrosse', 'viktor', '##lation', 'angola', '##hra', 'flint', 'implications', 'employs', 'teens', 'patrons', 'stall', 'weekends', 'barriers', 'scrambled', 'nucleus', 'tehran', 'jenna', 'parsons', 'lifelong', 'robots', 'displacement', '5000', '##bles', 'precipitation', '##gt', 'knuckles', 'clutched', '1802', 'marrying', 'ecology', 'marx', 'accusations', 'declare', 'scars', 'kolkata', 'mat', 'meadows', 'bermuda', 'skeleton', 'finalists', 'vintage', 'crawl', 'coordinate', 'affects', 'subjected', 'orchestral', 'mistaken', '##tc', 'mirrors', 'dipped', 'relied', '260', 'arches', 'candle', '##nick', 'incorporating', 'wildly', 'fond', 'basilica', 'owl', 'fringe', 'rituals', 'whispering', 'stirred', 'feud', 'tertiary', 'slick', 'goat', 'honorable', 'whereby', 'skip', 'ricardo', 'stripes', 'parachute', 'adjoining', 'submerged', 'synthesizer', '##gren', 'intend', 'positively', 'ninety', 'phi', 'beaver', 'partition', 'fellows', 'alexis', 'prohibition', 'carlisle', 'bizarre', 'fraternity', '##bre', 'doubts', 'icy', 'cbc', 'aquatic', 'sneak', 'sonny', 'combines', 'airports', 'crude', 'supervised', 'spatial', 'merge', 'alfonso', '##bic', 'corrupt', 'scan', 'undergo', '##ams', 'disabilities', 'colombian', 'comparing', 'dolphins', 'perkins', '##lish', 'reprinted', 'unanimous', 'bounced', 'hairs', 'underworld', 'midwest', 'semester', 'bucket', 'paperback', 'miniseries', 'coventry', 'demise', '##leigh', 'demonstrations', 'sensor', 'rotating', 'yan', '##hler', 'arrange', 'soils', '##idge', 'hyderabad', 'labs', '##dr', 'brakes', 'grandchildren', '##nde', 'negotiated', 'rover', 'ferrari', 'continuation', 'directorate', 'augusta', 'stevenson', 'counterpart', 'gore', '##rda', 'nursery', 'rican', 'ave', 'collectively', 'broadly', 'pastoral', 'repertoire', 'asserted', 'discovering', 'nordic', 'styled', 'fiba', 'cunningham', 'harley', 'middlesex', 'survives', 'tumor', 'tempo', 'zack', 'aiming', 'lok', 'urgent', '##rade', '##nto', 'devils', '##ement', 'contractor', 'turin', '##wl', '##ool', 'bliss', 'repaired', 'simmons', 'moan', 'astronomical', 'cr', 'negotiate', 'lyric', '1890s', 'lara', 'bred', 'clad', 'angus', 'pbs', '##ience', 'engineered', 'posed', '##lk', 'hernandez', 'possessions', 'elbows', 'psychiatric', 'strokes', 'confluence', 'electorate', 'lifts', 'campuses', 'lava', 'alps', '##ep', '##ution', '##date', 'physicist', 'woody', '##page', '##ographic', '##itis', 'juliet', 'reformation', 'sparhawk', '320', 'complement', 'suppressed', 'jewel', '##½', 'floated', '##kas', 'continuity', 'sadly', '##ische', 'inability', 'melting', 'scanning', 'paula', 'flour', 'judaism', 'safer', 'vague', '##lm', 'solving', 'curb', '##stown', 'financially', 'gable', 'bees', 'expired', 'miserable', 'cassidy', 'dominion', '1789', 'cupped', '145', 'robbery', 'facto', 'amos', 'warden', 'resume', 'tallest', 'marvin', 'ing', 'pounded', 'usd', 'declaring', 'gasoline', '##aux', 'darkened', '270', '650', 'sophomore', '##mere', 'erection', 'gossip', 'televised', 'risen', 'dial', '##eu', 'pillars', '##link', 'passages', 'profound', '##tina', 'arabian', 'ashton', 'silicon', 'nail', '##ead', '##lated', '##wer', '##hardt', 'fleming', 'firearms', 'ducked', 'circuits', 'blows', 'waterloo', 'titans', '##lina', 'atom', 'fireplace', 'cheshire', 'financed', 'activation', 'algorithms', '##zzi', 'constituent', 'catcher', 'cherokee', 'partnerships', 'sexuality', 'platoon', 'tragic', 'vivian', 'guarded', 'whiskey', 'meditation', 'poetic', '##late', '##nga', '##ake', 'porto', 'listeners', 'dominance', 'kendra', 'mona', 'chandler', 'factions', '22nd', 'salisbury', 'attitudes', 'derivative', '##ido', '##haus', 'intake', 'paced', 'javier', 'illustrator', 'barrels', 'bias', 'cockpit', 'burnett', 'dreamed', 'ensuing', '##anda', 'receptors', 'someday', 'hawkins', 'mattered', '##lal', 'slavic', '1799', 'jesuit', 'cameroon', 'wasted', 'tai', 'wax', 'lowering', 'victorious', 'freaking', 'outright', 'hancock', 'librarian', 'sensing', 'bald', 'calcium', 'myers', 'tablet', 'announcing', 'barack', 'shipyard', 'pharmaceutical', '##uan', 'greenwich', 'flush', 'medley', 'patches', 'wolfgang', 'pt', 'speeches', 'acquiring', 'exams', 'nikolai', '##gg', 'hayden', 'kannada', '##type', 'reilly', '##pt', 'waitress', 'abdomen', 'devastated', 'capped', 'pseudonym', 'pharmacy', 'fulfill', 'paraguay', '1796', 'clicked', '##trom', 'archipelago', 'syndicated', '##hman', 'lumber', 'orgasm', 'rejection', 'clifford', 'lorraine', 'advent', 'mafia', 'rodney', 'brock', '##ght', '##used', '##elia', 'cassette', 'chamberlain', 'despair', 'mongolia', 'sensors', 'developmental', 'upstream', '##eg', '##alis', 'spanning', '165', 'trombone', 'basque', 'seeded', 'interred', 'renewable', 'rhys', 'leapt', 'revision', 'molecule', '##ages', 'chord', 'vicious', 'nord', 'shivered', '23rd', 'arlington', 'debts', 'corpus', 'sunrise', 'bays', 'blackburn', 'centimetres', '##uded', 'shuddered', 'gm', 'strangely', 'gripping', 'cartoons', 'isabelle', 'orbital', '##ppa', 'seals', 'proving', '##lton', 'refusal', 'strengthened', 'bust', 'assisting', 'baghdad', 'batsman', 'portrayal', 'mara', 'pushes', 'spears', 'og', '##cock', 'reside', 'nathaniel', 'brennan', '1776', 'confirmation', 'caucus', '##worthy', 'markings', 'yemen', 'nobles', 'ku', 'lazy', 'viewer', 'catalan', 'encompasses', 'sawyer', '##fall', 'sparked', 'substances', 'patents', 'braves', 'arranger', 'evacuation', 'sergio', 'persuade', 'dover', 'tolerance', 'penguin', 'cum', 'jockey', 'insufficient', 'townships', 'occupying', 'declining', 'plural', 'processed', 'projection', 'puppet', 'flanders', 'introduces', 'liability', '##yon', 'gymnastics', 'antwerp', 'taipei', 'hobart', 'candles', 'jeep', 'wes', 'observers', '126', 'chaplain', 'bundle', 'glorious', '##hine', 'hazel', 'flung', 'sol', 'excavations', 'dumped', 'stares', 'sh', 'bangalore', 'triangular', 'icelandic', 'intervals', 'expressing', 'turbine', '##vers', 'songwriting', 'crafts', '##igo', 'jasmine', 'ditch', 'rite', '##ways', 'entertaining', 'comply', 'sorrow', 'wrestlers', 'basel', 'emirates', 'marian', 'rivera', 'helpful', '##some', 'caution', 'downward', 'networking', '##atory', '##tered', 'darted', 'genocide', 'emergence', 'replies', 'specializing', 'spokesman', 'convenient', 'unlocked', 'fading', 'augustine', 'concentrations', 'resemblance', 'elijah', 'investigator', 'andhra', '##uda', 'promotes', 'bean', '##rrell', 'fleeing', 'wan', 'simone', 'announcer', '##ame', '##bby', 'lydia', 'weaver', '132', 'residency', 'modification', '##fest', 'stretches', '##ast', 'alternatively', 'nat', 'lowe', 'lacks', '##ented', 'pam', 'tile', 'concealed', 'inferior', 'abdullah', 'residences', 'tissues', 'vengeance', '##ided', 'moisture', 'peculiar', 'groove', 'zip', 'bologna', 'jennings', 'ninja', 'oversaw', 'zombies', 'pumping', 'batch', 'livingston', 'emerald', 'installations', '1797', 'peel', 'nitrogen', 'rama', '##fying', '##star', 'schooling', 'strands', 'responding', 'werner', '##ost', 'lime', 'casa', 'accurately', 'targeting', '##rod', 'underway', '##uru', 'hemisphere', 'lester', '##yard', 'occupies', '2d', 'griffith', 'angrily', 'reorganized', '##owing', 'courtney', 'deposited', '##dd', '##30', 'estadio', '##ifies', 'dunn', 'exiled', '##ying', 'checks', '##combe', '##о', '##fly', 'successes', 'unexpectedly', 'blu', 'assessed', '##flower', '##ه', 'observing', 'sacked', 'spiders', 'kn', '##tail', 'mu', 'nodes', 'prosperity', 'audrey', 'divisional', '155', 'broncos', 'tangled', 'adjust', 'feeds', 'erosion', 'paolo', 'surf', 'directory', 'snatched', 'humid', 'admiralty', 'screwed', 'gt', 'reddish', '##nese', 'modules', 'trench', 'lamps', 'bind', 'leah', 'bucks', 'competes', '##nz', '##form', 'transcription', '##uc', 'isles', 'violently', 'clutching', 'pga', 'cyclist', 'inflation', 'flats', 'ragged', 'unnecessary', '##hian', 'stubborn', 'coordinated', 'harriet', 'baba', 'disqualified', '330', 'insect', 'wolfe', '##fies', 'reinforcements', 'rocked', 'duel', 'winked', 'embraced', 'bricks', '##raj', 'hiatus', 'defeats', 'pending', 'brightly', 'jealousy', '##xton', '##hm', '##uki', 'lena', 'gdp', 'colorful', '##dley', 'stein', 'kidney', '##shu', 'underwear', 'wanderers', '##haw', '##icus', 'guardians', 'm³', 'roared', 'habits', '##wise', 'permits', 'gp', 'uranium', 'punished', 'disguise', 'bundesliga', 'elise', 'dundee', 'erotic', 'partisan', 'pi', 'collectors', 'float', 'individually', 'rendering', 'behavioral', 'bucharest', 'ser', 'hare', 'valerie', 'corporal', 'nutrition', 'proportional', '##isa', 'immense', '##kis', 'pavement', '##zie', '##eld', 'sutherland', 'crouched', '1775', '##lp', 'suzuki', 'trades', 'endurance', 'operas', 'crosby', 'prayed', 'priory', 'rory', 'socially', '##urn', 'gujarat', '##pu', 'walton', 'cube', 'pasha', 'privilege', 'lennon', 'floods', 'thorne', 'waterfall', 'nipple', 'scouting', 'approve', '##lov', 'minorities', 'voter', 'dwight', 'extensions', 'assure', 'ballroom', 'slap', 'dripping', 'privileges', 'rejoined', 'confessed', 'demonstrating', 'patriotic', 'yell', 'investor', '##uth', 'pagan', 'slumped', 'squares', '##cle', '##kins', 'confront', 'bert', 'embarrassment', '##aid', 'aston', 'urging', 'sweater', 'starr', 'yuri', 'brains', 'williamson', 'commuter', 'mortar', 'structured', 'selfish', 'exports', '##jon', 'cds', '##him', 'unfinished', '##rre', 'mortgage', 'destinations', '##nagar', 'canoe', 'solitary', 'buchanan', 'delays', 'magistrate', 'fk', '##pling', 'motivation', '##lier', '##vier', 'recruiting', 'assess', '##mouth', 'malik', 'antique', '1791', 'pius', 'rahman', 'reich', 'tub', 'zhou', 'smashed', 'airs', 'galway', 'xii', 'conditioning', 'honduras', 'discharged', 'dexter', '##pf', 'lionel', '129', 'debates', 'lemon', 'tiffany', 'volunteered', 'dom', 'dioxide', 'procession', 'devi', 'sic', 'tremendous', 'advertisements', 'colts', 'transferring', 'verdict', 'hanover', 'decommissioned', 'utter', 'relate', 'pac', 'racism', '##top', 'beacon', 'limp', 'similarity', 'terra', 'occurrence', 'ant', '##how', 'becky', 'capt', 'updates', 'armament', 'richie', 'pal', '##graph', 'halloween', 'mayo', '##ssen', '##bone', 'cara', 'serena', 'fcc', 'dolls', 'obligations', '##dling', 'violated', 'lafayette', 'jakarta', 'exploitation', '##ime', 'infamous', 'iconic', '##lah', '##park', 'kitty', 'moody', 'reginald', 'dread', 'spill', 'crystals', 'olivier', 'modeled', 'bluff', 'equilibrium', 'separating', 'notices', 'ordnance', 'extinction', 'onset', 'cosmic', 'attachment', 'sammy', 'expose', 'privy', 'anchored', '##bil', 'abbott', 'admits', 'bending', 'baritone', 'emmanuel', 'policeman', 'vaughan', 'winged', 'climax', 'dresses', 'denny', 'polytechnic', 'mohamed', 'burmese', 'authentic', 'nikki', 'genetics', 'grandparents', 'homestead', 'gaza', 'postponed', 'metacritic', 'una', '##sby', '##bat', 'unstable', 'dissertation', '##rial', '##cian', 'curls', 'obscure', 'uncovered', 'bronx', 'praying', 'disappearing', '##hoe', 'prehistoric', 'coke', 'turret', 'mutations', 'nonprofit', 'pits', 'monaco', '##ي', '##usion', 'prominently', 'dispatched', 'podium', '##mir', 'uci', '##uation', '133', 'fortifications', 'birthplace', 'kendall', '##lby', '##oll', 'preacher', 'rack', 'goodman', '##rman', 'persistent', '##ott', 'countless', 'jaime', 'recorder', 'lexington', 'persecution', 'jumps', 'renewal', 'wagons', '##11', 'crushing', '##holder', 'decorations', '##lake', 'abundance', 'wrath', 'laundry', '£1', 'garde', '##rp', 'jeanne', 'beetles', 'peasant', '##sl', 'splitting', 'caste', 'sergei', '##rer', '##ema', 'scripts', '##ively', 'rub', 'satellites', '##vor', 'inscribed', 'verlag', 'scrapped', 'gale', 'packages', 'chick', 'potato', 'slogan', 'kathleen', 'arabs', '##culture', 'counterparts', 'reminiscent', 'choral', '##tead', 'rand', 'retains', 'bushes', 'dane', 'accomplish', 'courtesy', 'closes', '##oth', 'slaughter', 'hague', 'krakow', 'lawson', 'tailed', 'elias', 'ginger', '##ttes', 'canopy', 'betrayal', 'rebuilding', 'turf', '##hof', 'frowning', 'allegiance', 'brigades', 'kicks', 'rebuild', 'polls', 'alias', 'nationalism', 'td', 'rowan', 'audition', 'bowie', 'fortunately', 'recognizes', 'harp', 'dillon', 'horrified', '##oro', 'renault', '##tics', 'ropes', '##α', 'presumed', 'rewarded', 'infrared', 'wiping', 'accelerated', 'illustration', '##rid', 'presses', 'practitioners', 'badminton', '##iard', 'detained', '##tera', 'recognizing', 'relates', 'misery', '##sies', '##tly', 'reproduction', 'piercing', 'potatoes', 'thornton', 'esther', 'manners', 'hbo', '##aan', 'ours', 'bullshit', 'ernie', 'perennial', 'sensitivity', 'illuminated', 'rupert', '##jin', '##iss', '##ear', 'rfc', 'nassau', '##dock', 'staggered', 'socialism', '##haven', 'appointments', 'nonsense', 'prestige', 'sharma', 'haul', '##tical', 'solidarity', 'gps', '##ook', '##rata', 'igor', 'pedestrian', '##uit', 'baxter', 'tenants', 'wires', 'medication', 'unlimited', 'guiding', 'impacts', 'diabetes', '##rama', 'sasha', 'pas', 'clive', 'extraction', '131', 'continually', 'constraints', '##bilities', 'sonata', 'hunted', 'sixteenth', 'chu', 'planting', 'quote', 'mayer', 'pretended', 'abs', 'spat', '##hua', 'ceramic', '##cci', 'curtains', 'pigs', 'pitching', '##dad', 'latvian', 'sore', 'dayton', '##sted', '##qi', 'patrols', 'slice', 'playground', '##nted', 'shone', 'stool', 'apparatus', 'inadequate', 'mates', 'treason', '##ija', 'desires', '##liga', '##croft', 'somalia', 'laurent', 'mir', 'leonardo', 'oracle', 'grape', 'obliged', 'chevrolet', 'thirteenth', 'stunning', 'enthusiastic', '##ede', 'accounted', 'concludes', 'currents', 'basil', '##kovic', 'drought', '##rica', 'mai', '##aire', 'shove', 'posting', '##shed', 'pilgrimage', 'humorous', 'packing', 'fry', 'pencil', 'wines', 'smells', '144', 'marilyn', 'aching', 'newest', 'clung', 'bon', 'neighbours', 'sanctioned', '##pie', 'mug', '##stock', 'drowning', '##mma', 'hydraulic', '##vil', 'hiring', 'reminder', 'lilly', 'investigators', '##ncies', 'sour', '##eous', 'compulsory', 'packet', '##rion', '##graphic', '##elle', 'cannes', '##inate', 'depressed', '##rit', 'heroic', 'importantly', 'theresa', '##tled', 'conway', 'saturn', 'marginal', 'rae', '##xia', 'corresponds', 'royce', 'pact', 'jasper', 'explosives', 'packaging', 'aluminium', '##ttered', 'denotes', 'rhythmic', 'spans', 'assignments', 'hereditary', 'outlined', 'originating', 'sundays', 'lad', 'reissued', 'greeting', 'beatrice', '##dic', 'pillar', 'marcos', 'plots', 'handbook', 'alcoholic', 'judiciary', 'avant', 'slides', 'extract', 'masculine', 'blur', '##eum', '##force', 'homage', 'trembled', 'owens', 'hymn', 'trey', 'omega', 'signaling', 'socks', 'accumulated', 'reacted', 'attic', 'theo', 'lining', 'angie', 'distraction', 'primera', 'talbot', '##key', '1200', 'ti', 'creativity', 'billed', '##hey', 'deacon', 'eduardo', 'identifies', 'proposition', 'dizzy', 'gunner', 'hogan', '##yam', '##pping', '##hol', 'ja', '##chan', 'jensen', 'reconstructed', '##berger', 'clearance', 'darius', '##nier', 'abe', 'harlem', 'plea', 'dei', 'circled', 'emotionally', 'notation', 'fascist', 'neville', 'exceeded', 'upwards', 'viable', 'ducks', '##fo', 'workforce', 'racer', 'limiting', 'shri', '##lson', 'possesses', '1600', 'kerr', 'moths', 'devastating', 'laden', 'disturbing', 'locking', '##cture', 'gal', 'fearing', 'accreditation', 'flavor', 'aide', '1870s', 'mountainous', '##baum', 'melt', '##ures', 'motel', 'texture', 'servers', 'soda', '##mb', 'herd', '##nium', 'erect', 'puzzled', 'hum', 'peggy', 'examinations', 'gould', 'testified', 'geoff', 'ren', 'devised', 'sacks', '##law', 'denial', 'posters', 'grunted', 'cesar', 'tutor', 'ec', 'gerry', 'offerings', 'byrne', 'falcons', 'combinations', 'ct', 'incoming', 'pardon', 'rocking', '26th', 'avengers', 'flared', 'mankind', 'seller', 'uttar', 'loch', 'nadia', 'stroking', 'exposing', '##hd', 'fertile', 'ancestral', 'instituted', '##has', 'noises', 'prophecy', 'taxation', 'eminent', 'vivid', 'pol', '##bol', 'dart', 'indirect', 'multimedia', 'notebook', 'upside', 'displaying', 'adrenaline', 'referenced', 'geometric', '##iving', 'progression', '##ddy', 'blunt', 'announce', '##far', 'implementing', '##lav', 'aggression', 'liaison', 'cooler', 'cares', 'headache', 'plantations', 'gorge', 'dots', 'impulse', 'thickness', 'ashamed', 'averaging', 'kathy', 'obligation', 'precursor', '137', 'fowler', 'symmetry', 'thee', '225', 'hears', '##rai', 'undergoing', 'ads', 'butcher', 'bowler', '##lip', 'cigarettes', 'subscription', 'goodness', '##ically', 'browne', '##hos', '##tech', 'kyoto', 'donor', '##erty', 'damaging', 'friction', 'drifting', 'expeditions', 'hardened', 'prostitution', '152', 'fauna', 'blankets', 'claw', 'tossing', 'snarled', 'butterflies', 'recruits', 'investigative', 'coated', 'healed', '138', 'communal', 'hai', 'xiii', 'academics', 'boone', 'psychologist', 'restless', 'lahore', 'stephens', 'mba', 'brendan', 'foreigners', 'printer', '##pc', 'ached', 'explode', '27th', 'deed', 'scratched', 'dared', '##pole', 'cardiac', '1780', 'okinawa', 'proto', 'commando', 'compelled', 'oddly', 'electrons', '##base', 'replica', 'thanksgiving', '##rist', 'sheila', 'deliberate', 'stafford', 'tidal', 'representations', 'hercules', 'ou', '##path', '##iated', 'kidnapping', 'lenses', '##tling', 'deficit', 'samoa', 'mouths', 'consuming', 'computational', 'maze', 'granting', 'smirk', 'razor', 'fixture', 'ideals', 'inviting', 'aiden', 'nominal', '##vs', 'issuing', 'julio', 'pitt', 'ramsey', 'docks', '##oss', 'exhaust', '##owed', 'bavarian', 'draped', 'anterior', 'mating', 'ethiopian', 'explores', 'noticing', '##nton', 'discarded', 'convenience', 'hoffman', 'endowment', 'beasts', 'cartridge', 'mormon', 'paternal', 'probe', 'sleeves', 'interfere', 'lump', 'deadline', '##rail', 'jenks', 'bulldogs', 'scrap', 'alternating', 'justified', 'reproductive', 'nam', 'seize', 'descending', 'secretariat', 'kirby', 'coupe', 'grouped', 'smash', 'panther', 'sedan', 'tapping', '##18', 'lola', 'cheer', 'germanic', 'unfortunate', '##eter', 'unrelated', '##fan', 'subordinate', '##sdale', 'suzanne', 'advertisement', '##ility', 'horsepower', '##lda', 'cautiously', 'discourse', 'luigi', '##mans', '##fields', 'noun', 'prevalent', 'mao', 'schneider', 'everett', 'surround', 'governorate', 'kira', '##avia', 'westward', '##take', 'misty', 'rails', 'sustainability', '134', 'unused', '##rating', 'packs', 'toast', 'unwilling', 'regulate', 'thy', 'suffrage', 'nile', 'awe', 'assam', 'definitions', 'travelers', 'affordable', '##rb', 'conferred', 'sells', 'undefeated', 'beneficial', 'torso', 'basal', 'repeating', 'remixes', '##pass', 'bahrain', 'cables', 'fang', '##itated', 'excavated', 'numbering', 'statutory', '##rey', 'deluxe', '##lian', 'forested', 'ramirez', 'derbyshire', 'zeus', 'slamming', 'transfers', 'astronomer', 'banana', 'lottery', 'berg', 'histories', 'bamboo', '##uchi', 'resurrection', 'posterior', 'bowls', 'vaguely', '##thi', 'thou', 'preserving', 'tensed', 'offence', '##inas', 'meyrick', 'callum', 'ridden', 'watt', 'langdon', 'tying', 'lowland', 'snorted', 'daring', 'truman', '##hale', '##girl', 'aura', 'overly', 'filing', 'weighing', 'goa', 'infections', 'philanthropist', 'saunders', 'eponymous', '##owski', 'latitude', 'perspectives', 'reviewing', 'mets', 'commandant', 'radial', '##kha', 'flashlight', 'reliability', 'koch', 'vowels', 'amazed', 'ada', 'elaine', 'supper', '##rth', '##encies', 'predator', 'debated', 'soviets', 'cola', '##boards', '##nah', 'compartment', 'crooked', 'arbitrary', 'fourteenth', '##ctive', 'havana', 'majors', 'steelers', 'clips', 'profitable', 'ambush', 'exited', 'packers', '##tile', 'nude', 'cracks', 'fungi', '##е', 'limb', 'trousers', 'josie', 'shelby', 'tens', 'frederic', '##ος', 'definite', 'smoothly', 'constellation', 'insult', 'baton', 'discs', 'lingering', '##nco', 'conclusions', 'lent', 'staging', 'becker', 'grandpa', 'shaky', '##tron', 'einstein', 'obstacles', 'sk', 'adverse', 'elle', 'economically', '##moto', 'mccartney', 'thor', 'dismissal', 'motions', 'readings', 'nostrils', 'treatise', '##pace', 'squeezing', 'evidently', 'prolonged', '1783', 'venezuelan', 'je', 'marguerite', 'beirut', 'takeover', 'shareholders', '##vent', 'denise', 'digit', 'airplay', 'norse', '##bbling', 'imaginary', 'pills', 'hubert', 'blaze', 'vacated', 'eliminating', '##ello', 'vine', 'mansfield', '##tty', 'retrospective', 'barrow', 'borne', 'clutch', 'bail', 'forensic', 'weaving', '##nett', '##witz', 'desktop', 'citadel', 'promotions', 'worrying', 'dorset', 'ieee', 'subdivided', '##iating', 'manned', 'expeditionary', 'pickup', 'synod', 'chuckle', '185', 'barney', '##rz', '##ffin', 'functionality', 'karachi', 'litigation', 'meanings', 'uc', 'lick', 'turbo', 'anders', '##ffed', 'execute', 'curl', 'oppose', 'ankles', 'typhoon', '##د', '##ache', '##asia', 'linguistics', 'compassion', 'pressures', 'grazing', 'perfection', '##iting', 'immunity', 'monopoly', 'muddy', 'backgrounds', '136', 'namibia', 'francesca', 'monitors', 'attracting', 'stunt', 'tuition', '##ии', 'vegetable', '##mates', '##quent', 'mgm', 'jen', 'complexes', 'forts', '##ond', 'cellar', 'bites', 'seventeenth', 'royals', 'flemish', 'failures', 'mast', 'charities', '##cular', 'peruvian', 'capitals', 'macmillan', 'ipswich', 'outward', 'frigate', 'postgraduate', 'folds', 'employing', '##ouse', 'concurrently', 'fiery', '##tai', 'contingent', 'nightmares', 'monumental', 'nicaragua', '##kowski', 'lizard', 'mal', 'fielding', 'gig', 'reject', '##pad', 'harding', '##ipe', 'coastline', '##cin', '##nos', 'beethoven', 'humphrey', 'innovations', '##tam', '##nge', 'norris', 'doris', 'solicitor', 'huang', 'obey', '141', '##lc', 'niagara', '##tton', 'shelves', 'aug', 'bourbon', 'curry', 'nightclub', 'specifications', 'hilton', '##ndo', 'centennial', 'dispersed', 'worm', 'neglected', 'briggs', 'sm', 'font', 'kuala', 'uneasy', 'plc', '##nstein', '##bound', '##aking', '##burgh', 'awaiting', 'pronunciation', '##bbed', '##quest', 'eh', 'optimal', 'zhu', 'raped', 'greens', 'presided', 'brenda', 'worries', '##life', 'venetian', 'marxist', 'turnout', '##lius', 'refined', 'braced', 'sins', 'grasped', 'sunderland', 'nickel', 'speculated', 'lowell', 'cyrillic', 'communism', 'fundraising', 'resembling', 'colonists', 'mutant', 'freddie', 'usc', '##mos', 'gratitude', '##run', 'mural', '##lous', 'chemist', 'wi', 'reminds', '28th', 'steals', 'tess', 'pietro', '##ingen', 'promoter', 'ri', 'microphone', 'honoured', 'rai', 'sant', '##qui', 'feather', '##nson', 'burlington', 'kurdish', 'terrorists', 'deborah', 'sickness', '##wed', '##eet', 'hazard', 'irritated', 'desperation', 'veil', 'clarity', '##rik', 'jewels', 'xv', '##gged', '##ows', '##cup', 'berkshire', 'unfair', 'mysteries', 'orchid', 'winced', 'exhaustion', 'renovations', 'stranded', 'obe', 'infinity', '##nies', 'adapt', 'redevelopment', 'thanked', 'registry', 'olga', 'domingo', 'noir', 'tudor', 'ole', '##atus', 'commenting', 'behaviors', '##ais', 'crisp', 'pauline', 'probable', 'stirling', 'wigan', '##bian', 'paralympics', 'panting', 'surpassed', '##rew', 'luca', 'barred', 'pony', 'famed', '##sters', 'cassandra', 'waiter', 'carolyn', 'exported', '##orted', 'andres', 'destructive', 'deeds', 'jonah', 'castles', 'vacancy', 'suv', '##glass', '1788', 'orchard', 'yep', 'famine', 'belarusian', 'sprang', '##forth', 'skinny', '##mis', 'administrators', 'rotterdam', 'zambia', 'zhao', 'boiler', 'discoveries', '##ride', '##physics', 'lucius', 'disappointing', 'outreach', 'spoon', '##frame', 'qualifications', 'unanimously', 'enjoys', 'regency', '##iidae', 'stade', 'realism', 'veterinary', 'rodgers', 'dump', 'alain', 'chestnut', 'castile', 'censorship', 'rumble', 'gibbs', '##itor', 'communion', 'reggae', 'inactivated', 'logs', 'loads', '##houses', 'homosexual', '##iano', 'ale', 'informs', '##cas', 'phrases', 'plaster', 'linebacker', 'ambrose', 'kaiser', 'fascinated', '850', 'limerick', 'recruitment', 'forge', 'mastered', '##nding', 'leinster', 'rooted', 'threaten', '##strom', 'borneo', '##hes', 'suggestions', 'scholarships', 'propeller', 'documentaries', 'patronage', 'coats', 'constructing', 'invest', 'neurons', 'comet', 'entirety', 'shouts', 'identities', 'annoying', 'unchanged', 'wary', '##antly', '##ogy', 'neat', 'oversight', '##kos', 'phillies', 'replay', 'constance', '##kka', 'incarnation', 'humble', 'skies', 'minus', '##acy', 'smithsonian', '##chel', 'guerrilla', 'jar', 'cadets', '##plate', 'surplus', 'audit', '##aru', 'cracking', 'joanna', 'louisa', 'pacing', '##lights', 'intentionally', '##iri', 'diner', 'nwa', 'imprint', 'australians', 'tong', 'unprecedented', 'bunker', 'naive', 'specialists', 'ark', 'nichols', 'railing', 'leaked', 'pedal', '##uka', 'shrub', 'longing', 'roofs', 'v8', 'captains', 'neural', 'tuned', '##ntal', '##jet', 'emission', 'medina', 'frantic', 'codex', 'definitive', 'sid', 'abolition', 'intensified', 'stocks', 'enrique', 'sustain', 'genoa', 'oxide', '##written', 'clues', 'cha', '##gers', 'tributaries', 'fragment', 'venom', '##rity', '##ente', '##sca', 'muffled', 'vain', 'sire', 'laos', '##ingly', '##hana', 'hastily', 'snapping', 'surfaced', 'sentiment', 'motive', '##oft', 'contests', 'approximate', 'mesa', 'luckily', 'dinosaur', 'exchanges', 'propelled', 'accord', 'bourne', 'relieve', 'tow', 'masks', 'offended', '##ues', 'cynthia', '##mmer', 'rains', 'bartender', 'zinc', 'reviewers', 'lois', '##sai', 'legged', 'arrogant', 'rafe', 'rosie', 'comprise', 'handicap', 'blockade', 'inlet', 'lagoon', 'copied', 'drilling', 'shelley', 'petals', '##inian', 'mandarin', 'obsolete', '##inated', 'onward', 'arguably', 'productivity', 'cindy', 'praising', 'seldom', 'busch', 'discusses', 'raleigh', 'shortage', 'ranged', 'stanton', 'encouragement', 'firstly', 'conceded', 'overs', 'temporal', '##uke', 'cbe', '##bos', 'woo', 'certainty', 'pumps', '##pton', 'stalked', '##uli', 'lizzie', 'periodic', 'thieves', 'weaker', '##night', 'gases', 'shoving', 'chooses', 'wc', '##chemical', 'prompting', 'weights', '##kill', 'robust', 'flanked', 'sticky', 'hu', 'tuberculosis', '##eb', '##eal', 'christchurch', 'resembled', 'wallet', 'reese', 'inappropriate', 'pictured', 'distract', 'fixing', 'fiddle', 'giggled', 'burger', 'heirs', 'hairy', 'mechanic', 'torque', 'apache', 'obsessed', 'chiefly', 'cheng', 'logging', '##tag', 'extracted', 'meaningful', 'numb', '##vsky', 'gloucestershire', 'reminding', '##bay', 'unite', '##lit', 'breeds', 'diminished', 'clown', 'glove', '1860s', '##ن', '##ug', 'archibald', 'focal', 'freelance', 'sliced', 'depiction', '##yk', 'organism', 'switches', 'sights', 'stray', 'crawling', '##ril', 'lever', 'leningrad', 'interpretations', 'loops', 'anytime', 'reel', 'alicia', 'delighted', '##ech', 'inhaled', 'xiv', 'suitcase', 'bernie', 'vega', 'licenses', 'northampton', 'exclusion', 'induction', 'monasteries', 'racecourse', 'homosexuality', '##right', '##sfield', '##rky', 'dimitri', 'michele', 'alternatives', 'ions', 'commentators', 'genuinely', 'objected', 'pork', 'hospitality', 'fencing', 'stephan', 'warships', 'peripheral', 'wit', 'drunken', 'wrinkled', 'quentin', 'spends', 'departing', 'chung', 'numerical', 'spokesperson', '##zone', 'johannesburg', 'caliber', 'killers', '##udge', 'assumes', 'neatly', 'demographic', 'abigail', 'bloc', '##vel', 'mounting', '##lain', 'bentley', 'slightest', 'xu', 'recipients', '##jk', 'merlin', '##writer', 'seniors', 'prisons', 'blinking', 'hindwings', 'flickered', 'kappa', '##hel', '80s', 'strengthening', 'appealing', 'brewing', 'gypsy', 'mali', 'lashes', 'hulk', 'unpleasant', 'harassment', 'bio', 'treaties', 'predict', 'instrumentation', 'pulp', 'troupe', 'boiling', 'mantle', '##ffe', 'ins', '##vn', 'dividing', 'handles', 'verbs', '##onal', 'coconut', 'senegal', '340', 'thorough', 'gum', 'momentarily', '##sto', 'cocaine', 'panicked', 'destined', '##turing', 'teatro', 'denying', 'weary', 'captained', 'mans', '##hawks', '##code', 'wakefield', 'bollywood', 'thankfully', '##16', 'cyril', '##wu', 'amendments', '##bahn', 'consultation', 'stud', 'reflections', 'kindness', '1787', 'internally', '##ovo', 'tex', 'mosaic', 'distribute', 'paddy', 'seeming', '143', '##hic', 'piers', '##15', '##mura', '##verse', 'popularly', 'winger', 'kang', 'sentinel', 'mccoy', '##anza', 'covenant', '##bag', 'verge', 'fireworks', 'suppress', 'thrilled', 'dominate', '##jar', 'swansea', '##60', '142', 'reconciliation', '##ndi', 'stiffened', 'cue', 'dorian', '##uf', 'damascus', 'amor', 'ida', 'foremost', '##aga', 'porsche', 'unseen', 'dir', '##had', '##azi', 'stony', 'lexi', 'melodies', '##nko', 'angular', 'integer', 'podcast', 'ants', 'inherent', 'jaws', 'justify', 'persona', '##olved', 'josephine', '##nr', '##ressed', 'customary', 'flashes', 'gala', 'cyrus', 'glaring', 'backyard', 'ariel', 'physiology', 'greenland', 'html', 'stir', 'avon', 'atletico', 'finch', 'methodology', 'ked', '##lent', 'mas', 'catholicism', 'townsend', 'branding', 'quincy', 'fits', 'containers', '1777', 'ashore', 'aragon', '##19', 'forearm', 'poisoning', '##sd', 'adopting', 'conquer', 'grinding', 'amnesty', 'keller', 'finances', 'evaluate', 'forged', 'lankan', 'instincts', '##uto', 'guam', 'bosnian', 'photographed', 'workplace', 'desirable', 'protector', '##dog', 'allocation', 'intently', 'encourages', 'willy', '##sten', 'bodyguard', 'electro', 'brighter', '##ν', 'bihar', '##chev', 'lasts', 'opener', 'amphibious', 'sal', 'verde', 'arte', '##cope', 'captivity', 'vocabulary', 'yields', '##tted', 'agreeing', 'desmond', 'pioneered', '##chus', 'strap', 'campaigned', 'railroads', '##ович', 'emblem', '##dre', 'stormed', '501', '##ulous', 'marijuana', 'northumberland', '##gn', '##nath', 'bowen', 'landmarks', 'beaumont', '##qua', 'danube', '##bler', 'attorneys', 'th', 'ge', 'flyers', 'critique', 'villains', 'cass', 'mutation', 'acc', '##0s', 'colombo', 'mckay', 'motif', 'sampling', 'concluding', 'syndicate', '##rell', 'neon', 'stables', 'ds', 'warnings', 'clint', 'mourning', 'wilkinson', '##tated', 'merrill', 'leopard', 'evenings', 'exhaled', 'emil', 'sonia', 'ezra', 'discrete', 'stove', 'farrell', 'fifteenth', 'prescribed', 'superhero', '##rier', 'worms', 'helm', 'wren', '##duction', '##hc', 'expo', '##rator', 'hq', 'unfamiliar', 'antony', 'prevents', 'acceleration', 'fiercely', 'mari', 'painfully', 'calculations', 'cheaper', 'ign', 'clifton', 'irvine', 'davenport', 'mozambique', '##np', 'pierced', '##evich', 'wonders', '##wig', '##cate', '##iling', 'crusade', 'ware', '##uel', 'enzymes', 'reasonably', 'mls', '##coe', 'mater', 'ambition', 'bunny', 'eliot', 'kernel', '##fin', 'asphalt', 'headmaster', 'torah', 'aden', 'lush', 'pins', 'waived', '##care', '##yas', 'joao', 'substrate', 'enforce', '##grad', '##ules', 'alvarez', 'selections', 'epidemic', 'tempted', '##bit', 'bremen', 'translates', 'ensured', 'waterfront', '29th', 'forrest', 'manny', 'malone', 'kramer', 'reigning', 'cookies', 'simpler', 'absorption', '205', 'engraved', '##ffy', 'evaluated', '1778', 'haze', '146', 'comforting', 'crossover', '##abe', 'thorn', '##rift', '##imo', '##pop', 'suppression', 'fatigue', 'cutter', '##tr', '201', 'wurttemberg', '##orf', 'enforced', 'hovering', 'proprietary', 'gb', 'samurai', 'syllable', 'ascent', 'lacey', 'tick', 'lars', 'tractor', 'merchandise', 'rep', 'bouncing', 'defendants', '##yre', 'huntington', '##ground', '##oko', 'standardized', '##hor', '##hima', 'assassinated', 'nu', 'predecessors', 'rainy', 'liar', 'assurance', 'lyrical', '##uga', 'secondly', 'flattened', 'ios', 'parameter', 'undercover', '##mity', 'bordeaux', 'punish', 'ridges', 'markers', 'exodus', 'inactive', 'hesitate', 'debbie', 'nyc', 'pledge', 'savoy', 'nagar', 'offset', 'organist', '##tium', 'hesse', 'marin', 'converting', '##iver', 'diagram', 'propulsion', 'pu', 'validity', 'reverted', 'supportive', '##dc', 'ministries', 'clans', 'responds', 'proclamation', '##inae', '##ø', '##rea', 'ein', 'pleading', 'patriot', 'sf', 'birch', 'islanders', 'strauss', 'hates', '##dh', 'brandenburg', 'concession', 'rd', '##ob', '1900s', 'killings', 'textbook', 'antiquity', 'cinematography', 'wharf', 'embarrassing', 'setup', 'creed', 'farmland', 'inequality', 'centred', 'signatures', 'fallon', '370', '##ingham', '##uts', 'ceylon', 'gazing', 'directive', 'laurie', '##tern', 'globally', '##uated', '##dent', 'allah', 'excavation', 'threads', '##cross', '148', 'frantically', 'icc', 'utilize', 'determines', 'respiratory', 'thoughtful', 'receptions', '##dicate', 'merging', 'chandra', 'seine', '147', 'builders', 'builds', 'diagnostic', 'dev', 'visibility', 'goddamn', 'analyses', 'dhaka', 'cho', 'proves', 'chancel', 'concurrent', 'curiously', 'canadians', 'pumped', 'restoring', '1850s', 'turtles', 'jaguar', 'sinister', 'spinal', 'traction', 'declan', 'vows', '1784', 'glowed', 'capitalism', 'swirling', 'install', 'universidad', '##lder', '##oat', 'soloist', '##genic', '##oor', 'coincidence', 'beginnings', 'nissan', 'dip', 'resorts', 'caucasus', 'combustion', 'infectious', '##eno', 'pigeon', 'serpent', '##itating', 'conclude', 'masked', 'salad', 'jew', '##gr', 'surreal', 'toni', '##wc', 'harmonica', '151', '##gins', '##etic', '##coat', 'fishermen', 'intending', 'bravery', '##wave', 'klaus', 'titan', 'wembley', 'taiwanese', 'ransom', '40th', 'incorrect', 'hussein', 'eyelids', 'jp', 'cooke', 'dramas', 'utilities', '##etta', '##print', 'eisenhower', 'principally', 'granada', 'lana', '##rak', 'openings', 'concord', '##bl', 'bethany', 'connie', 'morality', 'sega', '##mons', '##nard', 'earnings', '##kara', '##cine', 'wii', 'communes', '##rel', 'coma', 'composing', 'softened', 'severed', 'grapes', '##17', 'nguyen', 'analyzed', 'warlord', 'hubbard', 'heavenly', 'behave', 'slovenian', '##hit', '##ony', 'hailed', 'filmmakers', 'trance', 'caldwell', 'skye', 'unrest', 'coward', 'likelihood', '##aging', 'bern', 'sci', 'taliban', 'honolulu', 'propose', '##wang', '1700', 'browser', 'imagining', 'cobra', 'contributes', 'dukes', 'instinctively', 'conan', 'violinist', '##ores', 'accessories', 'gradual', '##amp', 'quotes', 'sioux', '##dating', 'undertake', 'intercepted', 'sparkling', 'compressed', '139', 'fungus', 'tombs', 'haley', 'imposing', 'rests', 'degradation', 'lincolnshire', 'retailers', 'wetlands', 'tulsa', 'distributor', 'dungeon', 'nun', 'greenhouse', 'convey', 'atlantis', 'aft', 'exits', 'oman', 'dresser', 'lyons', '##sti', 'joking', 'eddy', 'judgement', 'omitted', 'digits', '##cts', '##game', 'juniors', '##rae', 'cents', 'stricken', 'une', '##ngo', 'wizards', 'weir', 'breton', 'nan', 'technician', 'fibers', 'liking', 'royalty', '##cca', '154', 'persia', 'terribly', 'magician', '##rable', '##unt', 'vance', 'cafeteria', 'booker', 'camille', 'warmer', '##static', 'consume', 'cavern', 'gaps', 'compass', 'contemporaries', 'foyer', 'soothing', 'graveyard', 'maj', 'plunged', 'blush', '##wear', 'cascade', 'demonstrates', 'ordinance', '##nov', 'boyle', '##lana', 'rockefeller', 'shaken', 'banjo', 'izzy', '##ense', 'breathless', 'vines', '##32', '##eman', 'alterations', 'chromosome', 'dwellings', 'feudal', 'mole', '153', 'catalonia', 'relics', 'tenant', 'mandated', '##fm', 'fridge', 'hats', 'honesty', 'patented', 'raul', 'heap', 'cruisers', 'accusing', 'enlightenment', 'infants', 'wherein', 'chatham', 'contractors', 'zen', 'affinity', 'hc', 'osborne', 'piston', '156', 'traps', 'maturity', '##rana', 'lagos', '##zal', 'peering', '##nay', 'attendant', 'dealers', 'protocols', 'subset', 'prospects', 'biographical', '##cre', 'artery', '##zers', 'insignia', 'nuns', 'endured', '##eration', 'recommend', 'schwartz', 'serbs', 'berger', 'cromwell', 'crossroads', '##ctor', 'enduring', 'clasped', 'grounded', '##bine', 'marseille', 'twitched', 'abel', 'choke', 'https', 'catalyst', 'moldova', 'italians', '##tist', 'disastrous', 'wee', '##oured', '##nti', 'wwf', 'nope', '##piration', '##asa', 'expresses', 'thumbs', '167', '##nza', 'coca', '1781', 'cheating', '##ption', 'skipped', 'sensory', 'heidelberg', 'spies', 'satan', 'dangers', 'semifinal', '202', 'bohemia', 'whitish', 'confusing', 'shipbuilding', 'relies', 'surgeons', 'landings', 'ravi', 'baku', 'moor', 'suffix', 'alejandro', '##yana', 'litre', 'upheld', '##unk', 'rajasthan', '##rek', 'coaster', 'insists', 'posture', 'scenarios', 'etienne', 'favoured', 'appoint', 'transgender', 'elephants', 'poked', 'greenwood', 'defences', 'fulfilled', 'militant', 'somali', '1758', 'chalk', 'potent', '##ucci', 'migrants', 'wink', 'assistants', 'nos', 'restriction', 'activism', 'niger', '##ario', 'colon', 'shaun', '##sat', 'daphne', '##erated', 'swam', 'congregations', 'reprise', 'considerations', 'magnet', 'playable', 'xvi', '##р', 'overthrow', 'tobias', 'knob', 'chavez', 'coding', '##mers', 'propped', 'katrina', 'orient', 'newcomer', '##suke', 'temperate', '##pool', 'farmhouse', 'interrogation', '##vd', 'committing', '##vert', 'forthcoming', 'strawberry', 'joaquin', 'macau', 'ponds', 'shocking', 'siberia', '##cellular', 'chant', 'contributors', '##nant', '##ologists', 'sped', 'absorb', 'hail', '1782', 'spared', '##hore', 'barbados', 'karate', 'opus', 'originates', 'saul', '##xie', 'evergreen', 'leaped', '##rock', 'correlation', 'exaggerated', 'weekday', 'unification', 'bump', 'tracing', 'brig', 'afb', 'pathways', 'utilizing', '##ners', 'mod', 'mb', 'disturbance', 'kneeling', '##stad', '##guchi', '100th', 'pune', '##thy', 'decreasing', '168', 'manipulation', 'miriam', 'academia', 'ecosystem', 'occupational', 'rbi', '##lem', 'rift', '##14', 'rotary', 'stacked', 'incorporation', 'awakening', 'generators', 'guerrero', 'racist', '##omy', 'cyber', 'derivatives', 'culminated', 'allie', 'annals', 'panzer', 'sainte', 'wikipedia', 'pops', 'zu', 'austro', '##vate', 'algerian', 'politely', 'nicholson', 'mornings', 'educate', 'tastes', 'thrill', 'dartmouth', '##gating', 'db', '##jee', 'regan', 'differing', 'concentrating', 'choreography', 'divinity', '##media', 'pledged', 'alexandre', 'routing', 'gregor', 'madeline', '##idal', 'apocalypse', '##hora', 'gunfire', 'culminating', 'elves', 'fined', 'liang', 'lam', 'programmed', 'tar', 'guessing', 'transparency', 'gabrielle', '##gna', 'cancellation', 'flexibility', '##lining', 'accession', 'shea', 'stronghold', 'nets', 'specializes', '##rgan', 'abused', 'hasan', 'sgt', 'ling', 'exceeding', '##₄', 'admiration', 'supermarket', '##ark', 'photographers', 'specialised', 'tilt', 'resonance', 'hmm', 'perfume', '380', 'sami', 'threatens', 'garland', 'botany', 'guarding', 'boiled', 'greet', 'puppy', 'russo', 'supplier', 'wilmington', 'vibrant', 'vijay', '##bius', 'paralympic', 'grumbled', 'paige', 'faa', 'licking', 'margins', 'hurricanes', '##gong', 'fest', 'grenade', 'ripping', '##uz', 'counseling', 'weigh', '##sian', 'needles', 'wiltshire', 'edison', 'costly', '##not', 'fulton', 'tramway', 'redesigned', 'staffordshire', 'cache', 'gasping', 'watkins', 'sleepy', 'candidacy', '##group', 'monkeys', 'timeline', 'throbbing', '##bid', '##sos', 'berth', 'uzbekistan', 'vanderbilt', 'bothering', 'overturned', 'ballots', 'gem', '##iger', 'sunglasses', 'subscribers', 'hooker', 'compelling', 'ang', 'exceptionally', 'saloon', 'stab', '##rdi', 'carla', 'terrifying', 'rom', '##vision', 'coil', '##oids', 'satisfying', 'vendors', '31st', 'mackay', 'deities', 'overlooked', 'ambient', 'bahamas', 'felipe', 'olympia', 'whirled', 'botanist', 'advertised', 'tugging', '##dden', 'disciples', 'morales', 'unionist', 'rites', 'foley', 'morse', 'motives', 'creepy', '##₀', 'soo', '##sz', 'bargain', 'highness', 'frightening', 'turnpike', 'tory', 'reorganization', '##cer', 'depict', 'biographer', '##walk', 'unopposed', 'manifesto', '##gles', 'institut', 'emile', 'accidental', 'kapoor', '##dam', 'kilkenny', 'cortex', 'lively', '##13', 'romanesque', 'jain', 'shan', 'cannons', '##ood', '##ske', 'petrol', 'echoing', 'amalgamated', 'disappears', 'cautious', 'proposes', 'sanctions', 'trenton', '##ر', 'flotilla', 'aus', 'contempt', 'tor', 'canary', 'cote', 'theirs', '##hun', 'conceptual', 'deleted', 'fascinating', 'paso', 'blazing', 'elf', 'honourable', 'hutchinson', '##eiro', '##outh', '##zin', 'surveyor', 'tee', 'amidst', 'wooded', 'reissue', 'intro', '##ono', 'cobb', 'shelters', 'newsletter', 'hanson', 'brace', 'encoding', 'confiscated', 'dem', 'caravan', 'marino', 'scroll', 'melodic', 'cows', 'imam', '##adi', '##aneous', 'northward', 'searches', 'biodiversity', 'cora', '310', 'roaring', '##bers', 'connell', 'theologian', 'halo', 'compose', 'pathetic', 'unmarried', 'dynamo', '##oot', 'az', 'calculation', 'toulouse', 'deserves', 'humour', 'nr', 'forgiveness', 'tam', 'undergone', 'martyr', 'pamela', 'myths', 'whore', 'counselor', 'hicks', '290', 'heavens', 'battleship', 'electromagnetic', '##bbs', 'stellar', 'establishments', 'presley', 'hopped', '##chin', 'temptation', '90s', 'wills', 'nas', '##yuan', 'nhs', '##nya', 'seminars', '##yev', 'adaptations', 'gong', 'asher', 'lex', 'indicator', 'sikh', 'tobago', 'cites', 'goin', '##yte', 'satirical', '##gies', 'characterised', 'correspond', 'bubbles', 'lure', 'participates', '##vid', 'eruption', 'skate', 'therapeutic', '1785', 'canals', 'wholesale', 'defaulted', 'sac', '460', 'petit', '##zzled', 'virgil', 'leak', 'ravens', '256', 'portraying', '##yx', 'ghetto', 'creators', 'dams', 'portray', 'vicente', '##rington', 'fae', 'namesake', 'bounty', '##arium', 'joachim', '##ota', '##iser', 'aforementioned', 'axle', 'snout', 'depended', 'dismantled', 'reuben', '480', '##ibly', 'gallagher', '##lau', '##pd', 'earnest', '##ieu', '##iary', 'inflicted', 'objections', '##llar', 'asa', 'gritted', '##athy', 'jericho', '##sea', '##was', 'flick', 'underside', 'ceramics', 'undead', 'substituted', '195', 'eastward', 'undoubtedly', 'wheeled', 'chimney', '##iche', 'guinness', 'cb', '##ager', 'siding', '##bell', 'traitor', 'baptiste', 'disguised', 'inauguration', '149', 'tipperary', 'choreographer', 'perched', 'warmed', 'stationary', 'eco', '##ike', '##ntes', 'bacterial', '##aurus', 'flores', 'phosphate', '##core', 'attacker', 'invaders', 'alvin', 'intersects', 'a1', 'indirectly', 'immigrated', 'businessmen', 'cornelius', 'valves', 'narrated', 'pill', 'sober', 'ul', 'nationale', 'monastic', 'applicants', 'scenery', '##jack', '161', 'motifs', 'constitutes', 'cpu', '##osh', 'jurisdictions', 'sd', 'tuning', 'irritation', 'woven', '##uddin', 'fertility', 'gao', '##erie', 'antagonist', 'impatient', 'glacial', 'hides', 'boarded', 'denominations', 'interception', '##jas', 'cookie', 'nicola', '##tee', 'algebraic', 'marquess', 'bahn', 'parole', 'buyers', 'bait', 'turbines', 'paperwork', 'bestowed', 'natasha', 'renee', 'oceans', 'purchases', '157', 'vaccine', '215', '##tock', 'fixtures', 'playhouse', 'integrate', 'jai', 'oswald', 'intellectuals', '##cky', 'booked', 'nests', 'mortimer', '##isi', 'obsession', 'sept', '##gler', '##sum', '440', 'scrutiny', 'simultaneous', 'squinted', '##shin', 'collects', 'oven', 'shankar', 'penned', 'remarkably', '##я', 'slips', 'luggage', 'spectral', '1786', 'collaborations', 'louie', 'consolidation', '##ailed', '##ivating', '420', 'hoover', 'blackpool', 'harness', 'ignition', 'vest', 'tails', 'belmont', 'mongol', 'skinner', '##nae', 'visually', 'mage', 'derry', '##tism', '##unce', 'stevie', 'transitional', '##rdy', 'redskins', 'drying', 'prep', 'prospective', '##21', 'annoyance', 'oversee', '##loaded', 'fills', '##books', '##iki', 'announces', 'fda', 'scowled', 'respects', 'prasad', 'mystic', 'tucson', '##vale', 'revue', 'springer', 'bankrupt', '1772', 'aristotle', 'salvatore', 'habsburg', '##geny', 'dal', 'natal', 'nut', 'pod', 'chewing', 'darts', 'moroccan', 'walkover', 'rosario', 'lenin', 'punjabi', '##ße', 'grossed', 'scattering', 'wired', 'invasive', 'hui', 'polynomial', 'corridors', 'wakes', 'gina', 'portrays', '##cratic', 'arid', 'retreating', 'erich', 'irwin', 'sniper', '##dha', 'linen', 'lindsey', 'maneuver', 'butch', 'shutting', 'socio', 'bounce', 'commemorative', 'postseason', 'jeremiah', 'pines', '275', 'mystical', 'beads', 'bp', 'abbas', 'furnace', 'bidding', 'consulted', 'assaulted', 'empirical', 'rubble', 'enclosure', 'sob', 'weakly', 'cancel', 'polly', 'yielded', '##emann', 'curly', 'prediction', 'battered', '70s', 'vhs', 'jacqueline', 'render', 'sails', 'barked', 'detailing', 'grayson', 'riga', 'sloane', 'raging', '##yah', 'herbs', 'bravo', '##athlon', 'alloy', 'giggle', 'imminent', 'suffers', 'assumptions', 'waltz', '##itate', 'accomplishments', '##ited', 'bathing', 'remixed', 'deception', 'prefix', '##emia', 'deepest', '##tier', '##eis', 'balkan', 'frogs', '##rong', 'slab', '##pate', 'philosophers', 'peterborough', 'grains', 'imports', 'dickinson', 'rwanda', '##atics', '1774', 'dirk', 'lan', 'tablets', '##rove', 'clone', '##rice', 'caretaker', 'hostilities', 'mclean', '##gre', 'regimental', 'treasures', 'norms', 'impose', 'tsar', 'tango', 'diplomacy', 'variously', 'complain', '192', 'recognise', 'arrests', '1779', 'celestial', 'pulitzer', '##dus', 'bing', 'libretto', '##moor', 'adele', 'splash', '##rite', 'expectation', 'lds', 'confronts', '##izer', 'spontaneous', 'harmful', 'wedge', 'entrepreneurs', 'buyer', '##ope', 'bilingual', 'translate', 'rugged', 'conner', 'circulated', 'uae', 'eaton', '##gra', '##zzle', 'lingered', 'lockheed', 'vishnu', 'reelection', 'alonso', '##oom', 'joints', 'yankee', 'headline', 'cooperate', 'heinz', 'laureate', 'invading', '##sford', 'echoes', 'scandinavian', '##dham', 'hugging', 'vitamin', 'salute', 'micah', 'hind', 'trader', '##sper', 'radioactive', '##ndra', 'militants', 'poisoned', 'ratified', 'remark', 'campeonato', 'deprived', 'wander', 'prop', '##dong', 'outlook', '##tani', '##rix', '##eye', 'chiang', 'darcy', '##oping', 'mandolin', 'spice', 'statesman', 'babylon', '182', 'walled', 'forgetting', 'afro', '##cap', '158', 'giorgio', 'buffer', '##polis', 'planetary', '##gis', 'overlap', 'terminals', 'kinda', 'centenary', '##bir', 'arising', 'manipulate', 'elm', 'ke', '1770', 'ak', '##tad', 'chrysler', 'mapped', 'moose', 'pomeranian', 'quad', 'macarthur', 'assemblies', 'shoreline', 'recalls', 'stratford', '##rted', 'noticeable', '##evic', 'imp', '##rita', '##sque', 'accustomed', 'supplying', 'tents', 'disgusted', 'vogue', 'sipped', 'filters', 'khz', 'reno', 'selecting', 'luftwaffe', 'mcmahon', 'tyne', 'masterpiece', 'carriages', 'collided', 'dunes', 'exercised', 'flare', 'remembers', 'muzzle', '##mobile', 'heck', '##rson', 'burgess', 'lunged', 'middleton', 'boycott', 'bilateral', '##sity', 'hazardous', 'lumpur', 'multiplayer', 'spotlight', 'jackets', 'goldman', 'liege', 'porcelain', 'rag', 'waterford', 'benz', 'attracts', 'hopeful', 'battling', 'ottomans', 'kensington', 'baked', 'hymns', 'cheyenne', 'lattice', 'levine', 'borrow', 'polymer', 'clashes', 'michaels', 'monitored', 'commitments', 'denounced', '##25', '##von', 'cavity', '##oney', 'hobby', 'akin', '##holders', 'futures', 'intricate', 'cornish', 'patty', '##oned', 'illegally', 'dolphin', '##lag', 'barlow', 'yellowish', 'maddie', 'apologized', 'luton', 'plagued', '##puram', 'nana', '##rds', 'sway', 'fanny', 'łodz', '##rino', 'psi', 'suspicions', 'hanged', '##eding', 'initiate', 'charlton', '##por', 'nak', 'competent', '235', 'analytical', 'annex', 'wardrobe', 'reservations', '##rma', 'sect', '162', 'fairfax', 'hedge', 'piled', 'buckingham', 'uneven', 'bauer', 'simplicity', 'snyder', 'interpret', 'accountability', 'donors', 'moderately', 'byrd', 'continents', '##cite', '##max', 'disciple', 'hr', 'jamaican', 'ping', 'nominees', '##uss', 'mongolian', 'diver', 'attackers', 'eagerly', 'ideological', 'pillows', 'miracles', 'apartheid', 'revolver', 'sulfur', 'clinics', 'moran', '163', '##enko', 'ile', 'katy', 'rhetoric', '##icated', 'chronology', 'recycling', '##hrer', 'elongated', 'mughal', 'pascal', 'profiles', 'vibration', 'databases', 'domination', '##fare', '##rant', 'matthias', 'digest', 'rehearsal', 'polling', 'weiss', 'initiation', 'reeves', 'clinging', 'flourished', 'impress', 'ngo', '##hoff', '##ume', 'buckley', 'symposium', 'rhythms', 'weed', 'emphasize', 'transforming', '##taking', '##gence', '##yman', 'accountant', 'analyze', 'flicker', 'foil', 'priesthood', 'voluntarily', 'decreases', '##80', '##hya', 'slater', 'sv', 'charting', 'mcgill', '##lde', 'moreno', '##iu', 'besieged', 'zur', 'robes', '##phic', 'admitting', 'api', 'deported', 'turmoil', 'peyton', 'earthquakes', '##ares', 'nationalists', 'beau', 'clair', 'brethren', 'interrupt', 'welch', 'curated', 'galerie', 'requesting', '164', '##ested', 'impending', 'steward', 'viper', '##vina', 'complaining', 'beautifully', 'brandy', 'foam', 'nl', '1660', '##cake', 'alessandro', 'punches', 'laced', 'explanations', '##lim', 'attribute', 'clit', 'reggie', 'discomfort', '##cards', 'smoothed', 'whales', '##cene', 'adler', 'countered', 'duffy', 'disciplinary', 'widening', 'recipe', 'reliance', 'conducts', 'goats', 'gradient', 'preaching', '##shaw', 'matilda', 'quasi', 'striped', 'meridian', 'cannabis', 'cordoba', 'certificates', '##agh', '##tering', 'graffiti', 'hangs', 'pilgrims', 'repeats', '##ych', 'revive', 'urine', 'etat', '##hawk', 'fueled', 'belts', 'fuzzy', 'susceptible', '##hang', 'mauritius', 'salle', 'sincere', 'beers', 'hooks', '##cki', 'arbitration', 'entrusted', 'advise', 'sniffed', 'seminar', 'junk', 'donnell', 'processors', 'principality', 'strapped', 'celia', 'mendoza', 'everton', 'fortunes', 'prejudice', 'starving', 'reassigned', 'steamer', '##lund', 'tuck', 'evenly', 'foreman', '##ffen', 'dans', '375', 'envisioned', 'slit', '##xy', 'baseman', 'liberia', 'rosemary', '##weed', 'electrified', 'periodically', 'potassium', 'stride', 'contexts', 'sperm', 'slade', 'mariners', 'influx', 'bianca', 'subcommittee', '##rane', 'spilling', 'icao', 'estuary', '##nock', 'delivers', 'iphone', '##ulata', 'isa', 'mira', 'bohemian', 'dessert', '##sbury', 'welcoming', 'proudly', 'slowing', '##chs', 'musee', 'ascension', 'russ', '##vian', 'waits', '##psy', 'africans', 'exploit', '##morphic', 'gov', 'eccentric', 'crab', 'peck', '##ull', 'entrances', 'formidable', 'marketplace', 'groom', 'bolted', 'metabolism', 'patton', 'robbins', 'courier', 'payload', 'endure', '##ifier', 'andes', 'refrigerator', '##pr', 'ornate', '##uca', 'ruthless', 'illegitimate', 'masonry', 'strasbourg', 'bikes', 'adobe', '##³', 'apples', 'quintet', 'willingly', 'niche', 'bakery', 'corpses', 'energetic', '##cliffe', '##sser', '##ards', '177', 'centimeters', 'centro', 'fuscous', 'cretaceous', 'rancho', '##yde', 'andrei', 'telecom', 'tottenham', 'oasis', 'ordination', 'vulnerability', 'presiding', 'corey', 'cp', 'penguins', 'sims', '##pis', 'malawi', 'piss', '##48', 'correction', '##cked', '##ffle', '##ryn', 'countdown', 'detectives', 'psychiatrist', 'psychedelic', 'dinosaurs', 'blouse', '##get', 'choi', 'vowed', '##oz', 'randomly', '##pol', '49ers', 'scrub', 'blanche', 'bruins', 'dusseldorf', '##using', 'unwanted', '##ums', '212', 'dominique', 'elevations', 'headlights', 'om', 'laguna', '##oga', '1750', 'famously', 'ignorance', 'shrewsbury', '##aine', 'ajax', 'breuning', 'che', 'confederacy', 'greco', 'overhaul', '##screen', 'paz', 'skirts', 'disagreement', 'cruelty', 'jagged', 'phoebe', 'shifter', 'hovered', 'viruses', '##wes', 'mandy', '##lined', '##gc', 'landlord', 'squirrel', 'dashed', '##ι', 'ornamental', 'gag', 'wally', 'grange', 'literal', 'spurs', 'undisclosed', 'proceeding', 'yin', '##text', 'billie', 'orphan', 'spanned', 'humidity', 'indy', 'weighted', 'presentations', 'explosions', 'lucian', '##tary', 'vaughn', 'hindus', '##anga', '##hell', 'psycho', '171', 'daytona', 'protects', 'efficiently', 'rematch', 'sly', 'tandem', '##oya', 'rebranded', 'impaired', 'hee', 'metropolis', 'peach', 'godfrey', 'diaspora', 'ethnicity', 'prosperous', 'gleaming', 'dar', 'grossing', 'playback', '##rden', 'stripe', 'pistols', '##tain', 'births', 'labelled', '##cating', '172', 'rudy', 'alba', '##onne', 'aquarium', 'hostility', '##gb', '##tase', 'shudder', 'sumatra', 'hardest', 'lakers', 'consonant', 'creeping', 'demos', 'homicide', 'capsule', 'zeke', 'liberties', 'expulsion', 'pueblo', '##comb', 'trait', 'transporting', '##ddin', '##neck', '##yna', 'depart', 'gregg', 'mold', 'ledge', 'hangar', 'oldham', 'playboy', 'termination', 'analysts', 'gmbh', 'romero', '##itic', 'insist', 'cradle', 'filthy', 'brightness', 'slash', 'shootout', 'deposed', 'bordering', '##truct', 'isis', 'microwave', 'tumbled', 'sheltered', 'cathy', 'werewolves', 'messy', 'andersen', 'convex', 'clapped', 'clinched', 'satire', 'wasting', 'edo', 'vc', 'rufus', '##jak', 'mont', '##etti', 'poznan', '##keeping', 'restructuring', 'transverse', '##rland', 'azerbaijani', 'slovene', 'gestures', 'roommate', 'choking', 'shear', '##quist', 'vanguard', 'oblivious', '##hiro', 'disagreed', 'baptism', '##lich', 'coliseum', '##aceae', 'salvage', 'societe', 'cory', 'locke', 'relocation', 'relying', 'versailles', 'ahl', 'swelling', '##elo', 'cheerful', '##word', '##edes', 'gin', 'sarajevo', 'obstacle', 'diverted', '##nac', 'messed', 'thoroughbred', 'fluttered', 'utrecht', 'chewed', 'acquaintance', 'assassins', 'dispatch', 'mirza', '##wart', 'nike', 'salzburg', 'swell', 'yen', '##gee', 'idle', 'ligue', 'samson', '##nds', '##igh', 'playful', 'spawned', '##cise', 'tease', '##case', 'burgundy', '##bot', 'stirring', 'skeptical', 'interceptions', 'marathi', '##dies', 'bedrooms', 'aroused', 'pinch', '##lik', 'preferences', 'tattoos', 'buster', 'digitally', 'projecting', 'rust', '##ital', 'kitten', 'priorities', 'addison', 'pseudo', '##guard', 'dusk', 'icons', 'sermon', '##psis', '##iba', 'bt', '##lift', '##xt', 'ju', 'truce', 'rink', '##dah', '##wy', 'defects', 'psychiatry', 'offences', 'calculate', 'glucose', '##iful', '##rized', '##unda', 'francaise', '##hari', 'richest', 'warwickshire', 'carly', '1763', 'purity', 'redemption', 'lending', '##cious', 'muse', 'bruises', 'cerebral', 'aero', 'carving', '##name', 'preface', 'terminology', 'invade', 'monty', '##int', 'anarchist', 'blurred', '##iled', 'rossi', 'treats', 'guts', 'shu', 'foothills', 'ballads', 'undertaking', 'premise', 'cecilia', 'affiliates', 'blasted', 'conditional', 'wilder', 'minors', 'drone', 'rudolph', 'buffy', 'swallowing', 'horton', 'attested', '##hop', 'rutherford', 'howell', 'primetime', 'livery', 'penal', '##bis', 'minimize', 'hydro', 'wrecked', 'wrought', 'palazzo', '##gling', 'cans', 'vernacular', 'friedman', 'nobleman', 'shale', 'walnut', 'danielle', '##ection', '##tley', 'sears', '##kumar', 'chords', 'lend', 'flipping', 'streamed', 'por', 'dracula', 'gallons', 'sacrifices', 'gamble', 'orphanage', '##iman', 'mckenzie', '##gible', 'boxers', 'daly', '##balls', '##ان', '208', '##ific', '##rative', '##iq', 'exploited', 'slated', '##uity', 'circling', 'hillary', 'pinched', 'goldberg', 'provost', 'campaigning', 'lim', 'piles', 'ironically', 'jong', 'mohan', 'successors', 'usaf', '##tem', '##ught', 'autobiographical', 'haute', 'preserves', '##ending', 'acquitted', 'comparisons', '203', 'hydroelectric', 'gangs', 'cypriot', 'torpedoes', 'rushes', 'chrome', 'derive', 'bumps', 'instability', 'fiat', 'pets', '##mbe', 'silas', 'dye', 'reckless', 'settler', '##itation', 'info', 'heats', '##writing', '176', 'canonical', 'maltese', 'fins', 'mushroom', 'stacy', 'aspen', 'avid', '##kur', '##loading', 'vickers', 'gaston', 'hillside', 'statutes', 'wilde', 'gail', 'kung', 'sabine', 'comfortably', 'motorcycles', '##rgo', '169', 'pneumonia', 'fetch', '##sonic', 'axel', 'faintly', 'parallels', '##oop', 'mclaren', 'spouse', 'compton', 'interdisciplinary', 'miner', '##eni', '181', 'clamped', '##chal', '##llah', 'separates', 'versa', '##mler', 'scarborough', 'labrador', '##lity', '##osing', 'rutgers', 'hurdles', 'como', '166', 'burt', 'divers', '##100', 'wichita', 'cade', 'coincided', '##erson', 'bruised', 'mla', '##pper', 'vineyard', '##ili', '##brush', 'notch', 'mentioning', 'jase', 'hearted', 'kits', 'doe', '##acle', 'pomerania', '##ady', 'ronan', 'seizure', 'pavel', 'problematic', '##zaki', 'domenico', '##ulin', 'catering', 'penelope', 'dependence', 'parental', 'emilio', 'ministerial', 'atkinson', '##bolic', 'clarkson', 'chargers', 'colby', 'grill', 'peeked', 'arises', 'summon', '##aged', 'fools', '##grapher', 'faculties', 'qaeda', '##vial', 'garner', 'refurbished', '##hwa', 'geelong', 'disasters', 'nudged', 'bs', 'shareholder', 'lori', 'algae', 'reinstated', 'rot', '##ades', '##nous', 'invites', 'stainless', '183', 'inclusive', '##itude', 'diocesan', 'til', '##icz', 'denomination', '##xa', 'benton', 'floral', 'registers', '##ider', '##erman', '##kell', 'absurd', 'brunei', 'guangzhou', 'hitter', 'retaliation', '##uled', '##eve', 'blanc', 'nh', 'consistency', 'contamination', '##eres', '##rner', 'dire', 'palermo', 'broadcasters', 'diaries', 'inspire', 'vols', 'brewer', 'tightening', 'ky', 'mixtape', 'hormone', '##tok', 'stokes', '##color', '##dly', '##ssi', 'pg', '##ometer', '##lington', 'sanitation', '##tility', 'intercontinental', 'apps', '##adt', '¹⁄₂', 'cylinders', 'economies', 'favourable', 'unison', 'croix', 'gertrude', 'odyssey', 'vanity', 'dangling', '##logists', 'upgrades', 'dice', 'middleweight', 'practitioner', '##ight', '206', 'henrik', 'parlor', 'orion', 'angered', 'lac', 'python', 'blurted', '##rri', 'sensual', 'intends', 'swings', 'angled', '##phs', 'husky', 'attain', 'peerage', 'precinct', 'textiles', 'cheltenham', 'shuffled', 'dai', 'confess', 'tasting', 'bhutan', '##riation', 'tyrone', 'segregation', 'abrupt', 'ruiz', '##rish', 'smirked', 'blackwell', 'confidential', 'browning', 'amounted', '##put', 'vase', 'scarce', 'fabulous', 'raided', 'staple', 'guyana', 'unemployed', 'glider', 'shay', '##tow', 'carmine', 'troll', 'intervene', 'squash', 'superstar', '##uce', 'cylindrical', 'len', 'roadway', 'researched', 'handy', '##rium', '##jana', 'meta', 'lao', 'declares', '##rring', '##tadt', '##elin', '##kova', 'willem', 'shrubs', 'napoleonic', 'realms', 'skater', 'qi', 'volkswagen', '##ł', 'tad', 'hara', 'archaeologist', 'awkwardly', 'eerie', '##kind', 'wiley', '##heimer', '##24', 'titus', 'organizers', 'cfl', 'crusaders', 'lama', 'usb', 'vent', 'enraged', 'thankful', 'occupants', 'maximilian', '##gaard', 'possessing', 'textbooks', '##oran', 'collaborator', 'quaker', '##ulo', 'avalanche', 'mono', 'silky', 'straits', 'isaiah', 'mustang', 'surged', 'resolutions', 'potomac', 'descend', 'cl', 'kilograms', 'plato', 'strains', 'saturdays', '##olin', 'bernstein', '##ype', 'holstein', 'ponytail', '##watch', 'belize', 'conversely', 'heroine', 'perpetual', '##ylus', 'charcoal', 'piedmont', 'glee', 'negotiating', 'backdrop', 'prologue', '##jah', '##mmy', 'pasadena', 'climbs', 'ramos', 'sunni', '##holm', '##tner', '##tri', 'anand', 'deficiency', 'hertfordshire', 'stout', '##avi', 'aperture', 'orioles', '##irs', 'doncaster', 'intrigued', 'bombed', 'coating', 'otis', '##mat', 'cocktail', '##jit', '##eto', 'amir', 'arousal', 'sar', '##proof', '##act', '##ories', 'dixie', 'pots', '##bow', 'whereabouts', '159', '##fted', 'drains', 'bullying', 'cottages', 'scripture', 'coherent', 'fore', 'poe', 'appetite', '##uration', 'sampled', '##ators', '##dp', 'derrick', 'rotor', 'jays', 'peacock', 'installment', '##rro', 'advisors', '##coming', 'rodeo', 'scotch', '##mot', '##db', '##fen', '##vant', 'ensued', 'rodrigo', 'dictatorship', 'martyrs', 'twenties', '##н', 'towed', 'incidence', 'marta', 'rainforest', 'sai', 'scaled', '##cles', 'oceanic', 'qualifiers', 'symphonic', 'mcbride', 'dislike', 'generalized', 'aubrey', 'colonization', '##iation', '##lion', '##ssing', 'disliked', 'lublin', 'salesman', '##ulates', 'spherical', 'whatsoever', 'sweating', 'avalon', 'contention', 'punt', 'severity', 'alderman', 'atari', '##dina', '##grant', '##rop', 'scarf', 'seville', 'vertices', 'annexation', 'fairfield', 'fascination', 'inspiring', 'launches', 'palatinate', 'regretted', '##rca', 'feral', '##iom', 'elk', 'nap', 'olsen', 'reddy', 'yong', '##leader', '##iae', 'garment', 'transports', 'feng', 'gracie', 'outrage', 'viceroy', 'insides', '##esis', 'breakup', 'grady', 'organizer', 'softer', 'grimaced', '222', 'murals', 'galicia', 'arranging', 'vectors', '##rsten', 'bas', '##sb', '##cens', 'sloan', '##eka', 'bitten', 'ara', 'fender', 'nausea', 'bumped', 'kris', 'banquet', 'comrades', 'detector', 'persisted', '##llan', 'adjustment', 'endowed', 'cinemas', '##shot', 'sellers', '##uman', 'peek', 'epa', 'kindly', 'neglect', 'simpsons', 'talon', 'mausoleum', 'runaway', 'hangul', 'lookout', '##cic', 'rewards', 'coughed', 'acquainted', 'chloride', '##ald', 'quicker', 'accordion', 'neolithic', '##qa', 'artemis', 'coefficient', 'lenny', 'pandora', 'tx', '##xed', 'ecstasy', 'litter', 'segunda', 'chairperson', 'gemma', 'hiss', 'rumor', 'vow', 'nasal', 'antioch', 'compensate', 'patiently', 'transformers', '##eded', 'judo', 'morrow', 'penis', 'posthumous', 'philips', 'bandits', 'husbands', 'denote', 'flaming', '##any', '##phones', 'langley', 'yorker', '1760', 'walters', '##uo', '##kle', 'gubernatorial', 'fatty', 'samsung', 'leroy', 'outlaw', '##nine', 'unpublished', 'poole', 'jakob', '##ᵢ', '##ₙ', 'crete', 'distorted', 'superiority', '##dhi', 'intercept', 'crust', 'mig', 'claus', 'crashes', 'positioning', '188', 'stallion', '301', 'frontal', 'armistice', '##estinal', 'elton', 'aj', 'encompassing', 'camel', 'commemorated', 'malaria', 'woodward', 'calf', 'cigar', 'penetrate', '##oso', 'willard', '##rno', '##uche', 'illustrate', 'amusing', 'convergence', 'noteworthy', '##lma', '##rva', 'journeys', 'realise', 'manfred', '##sable', '410', '##vocation', 'hearings', 'fiance', '##posed', 'educators', 'provoked', 'adjusting', '##cturing', 'modular', 'stockton', 'paterson', 'vlad', 'rejects', 'electors', 'selena', 'maureen', '##tres', 'uber', '##rce', 'swirled', '##num', 'proportions', 'nanny', 'pawn', 'naturalist', 'parma', 'apostles', 'awoke', 'ethel', 'wen', '##bey', 'monsoon', 'overview', '##inating', 'mccain', 'rendition', 'risky', 'adorned', '##ih', 'equestrian', 'germain', 'nj', 'conspicuous', 'confirming', '##yoshi', 'shivering', '##imeter', 'milestone', 'rumours', 'flinched', 'bounds', 'smacked', 'token', '##bei', 'lectured', 'automobiles', '##shore', 'impacted', '##iable', 'nouns', 'nero', '##leaf', 'ismail', 'prostitute', 'trams', '##lace', 'bridget', 'sud', 'stimulus', 'impressions', 'reins', 'revolves', '##oud', '##gned', 'giro', 'honeymoon', '##swell', 'criterion', '##sms', '##uil', 'libyan', 'prefers', '##osition', '211', 'preview', 'sucks', 'accusation', 'bursts', 'metaphor', 'diffusion', 'tolerate', 'faye', 'betting', 'cinematographer', 'liturgical', 'specials', 'bitterly', 'humboldt', '##ckle', 'flux', 'rattled', '##itzer', 'archaeologists', 'odor', 'authorised', 'marshes', 'discretion', '##ов', 'alarmed', 'archaic', 'inverse', '##leton', 'explorers', '##pine', 'drummond', 'tsunami', 'woodlands', '##minate', '##tland', 'booklet', 'insanity', 'owning', 'insert', 'crafted', 'calculus', '##tore', 'receivers', '##bt', 'stung', '##eca', '##nched', 'prevailing', 'travellers', 'eyeing', 'lila', 'graphs', '##borne', '178', 'julien', '##won', 'morale', 'adaptive', 'therapist', 'erica', 'cw', 'libertarian', 'bowman', 'pitches', 'vita', '##ional', 'crook', '##ads', '##entation', 'caledonia', 'mutiny', '##sible', '1840s', 'automation', '##ß', 'flock', '##pia', 'ironic', 'pathology', '##imus', 'remarried', '##22', 'joker', 'withstand', 'energies', '##att', 'shropshire', 'hostages', 'madeleine', 'tentatively', 'conflicting', 'mateo', 'recipes', 'euros', 'ol', 'mercenaries', 'nico', '##ndon', 'albuquerque', 'augmented', 'mythical', 'bel', 'freud', '##child', 'cough', '##lica', '365', 'freddy', 'lillian', 'genetically', 'nuremberg', 'calder', '209', 'bonn', 'outdoors', 'paste', 'suns', 'urgency', 'vin', 'restraint', 'tyson', '##cera', '##selle', 'barrage', 'bethlehem', 'kahn', '##par', 'mounts', 'nippon', 'barony', 'happier', 'ryu', 'makeshift', 'sheldon', 'blushed', 'castillo', 'barking', 'listener', 'taped', 'bethel', 'fluent', 'headlines', 'pornography', 'rum', 'disclosure', 'sighing', 'mace', 'doubling', 'gunther', 'manly', '##plex', 'rt', 'interventions', 'physiological', 'forwards', 'emerges', '##tooth', '##gny', 'compliment', 'rib', 'recession', 'visibly', 'barge', 'faults', 'connector', 'exquisite', 'prefect', '##rlin', 'patio', '##cured', 'elevators', 'brandt', 'italics', 'pena', '173', 'wasp', 'satin', 'ea', 'botswana', 'graceful', 'respectable', '##jima', '##rter', '##oic', 'franciscan', 'generates', '##dl', 'alfredo', 'disgusting', '##olate', '##iously', 'sherwood', 'warns', 'cod', 'promo', 'cheryl', 'sino', '##ة', '##escu', 'twitch', '##zhi', 'brownish', 'thom', 'ortiz', '##dron', 'densely', '##beat', 'carmel', 'reinforce', '##bana', '187', 'anastasia', 'downhill', 'vertex', 'contaminated', 'remembrance', 'harmonic', 'homework', '##sol', 'fiancee', 'gears', 'olds', 'angelica', 'loft', 'ramsay', 'quiz', 'colliery', 'sevens', '##cape', 'autism', '##hil', 'walkway', '##boats', 'ruben', 'abnormal', 'ounce', 'khmer', '##bbe', 'zachary', 'bedside', 'morphology', 'punching', '##olar', 'sparrow', 'convinces', '##35', 'hewitt', 'queer', 'remastered', 'rods', 'mabel', 'solemn', 'notified', 'lyricist', 'symmetric', '##xide', '174', 'encore', 'passports', 'wildcats', '##uni', 'baja', '##pac', 'mildly', '##ease', 'bleed', 'commodity', 'mounds', 'glossy', 'orchestras', '##omo', 'damian', 'prelude', 'ambitions', '##vet', 'awhile', 'remotely', '##aud', 'asserts', 'imply', '##iques', 'distinctly', 'modelling', 'remedy', '##dded', 'windshield', 'dani', 'xiao', '##endra', 'audible', 'powerplant', '1300', 'invalid', 'elemental', 'acquisitions', '##hala', 'immaculate', 'libby', 'plata', 'smuggling', 'ventilation', 'denoted', 'minh', '##morphism', '430', 'differed', 'dion', 'kelley', 'lore', 'mocking', 'sabbath', 'spikes', 'hygiene', 'drown', 'runoff', 'stylized', 'tally', 'liberated', 'aux', 'interpreter', 'righteous', 'aba', 'siren', 'reaper', 'pearce', 'millie', '##cier', '##yra', 'gaius', '##iso', 'captures', '##ttering', 'dorm', 'claudio', '##sic', 'benches', 'knighted', 'blackness', '##ored', 'discount', 'fumble', 'oxidation', 'routed', '##ς', 'novak', 'perpendicular', 'spoiled', 'fracture', 'splits', '##urt', 'pads', 'topology', '##cats', 'axes', 'fortunate', 'offenders', 'protestants', 'esteem', '221', 'broadband', 'convened', 'frankly', 'hound', 'prototypes', 'isil', 'facilitated', 'keel', '##sher', 'sahara', 'awaited', 'bubba', 'orb', 'prosecutors', '186', 'hem', '520', '##xing', 'relaxing', 'remnant', 'romney', 'sorted', 'slalom', 'stefano', 'ulrich', '##active', 'exemption', 'folder', 'pauses', 'foliage', 'hitchcock', 'epithet', '204', 'criticisms', '##aca', 'ballistic', 'brody', 'hinduism', 'chaotic', 'youths', 'equals', '##pala', 'pts', 'thicker', 'analogous', 'capitalist', 'improvised', 'overseeing', 'sinatra', 'ascended', 'beverage', '##tl', 'straightforward', '##kon', 'curran', '##west', 'bois', '325', 'induce', 'surveying', 'emperors', 'sax', 'unpopular', '##kk', 'cartoonist', 'fused', '##mble', 'unto', '##yuki', 'localities', '##cko', '##ln', 'darlington', 'slain', 'academie', 'lobbying', 'sediment', 'puzzles', '##grass', 'defiance', 'dickens', 'manifest', 'tongues', 'alumnus', 'arbor', 'coincide', '184', 'appalachian', 'mustafa', 'examiner', 'cabaret', 'traumatic', 'yves', 'bracelet', 'draining', 'heroin', 'magnum', 'baths', 'odessa', 'consonants', 'mitsubishi', '##gua', 'kellan', 'vaudeville', '##fr', 'joked', 'null', 'straps', 'probation', '##ław', 'ceded', 'interfaces', '##pas', '##zawa', 'blinding', 'viet', '224', 'rothschild', 'museo', '640', 'huddersfield', '##vr', 'tactic', '##storm', 'brackets', 'dazed', 'incorrectly', '##vu', 'reg', 'glazed', 'fearful', 'manifold', 'benefited', 'irony', '##sun', 'stumbling', '##rte', 'willingness', 'balkans', 'mei', 'wraps', '##aba', 'injected', '##lea', 'gu', 'syed', 'harmless', '##hammer', 'bray', 'takeoff', 'poppy', 'timor', 'cardboard', 'astronaut', 'purdue', 'weeping', 'southbound', 'cursing', 'stalls', 'diagonal', '##neer', 'lamar', 'bryce', 'comte', 'weekdays', 'harrington', '##uba', 'negatively', '##see', 'lays', 'grouping', '##cken', '##henko', 'affirmed', 'halle', 'modernist', '##lai', 'hodges', 'smelling', 'aristocratic', 'baptized', 'dismiss', 'justification', 'oilers', '##now', 'coupling', 'qin', 'snack', 'healer', '##qing', 'gardener', 'layla', 'battled', 'formulated', 'stephenson', 'gravitational', '##gill', '##jun', '1768', 'granny', 'coordinating', 'suites', '##cd', '##ioned', 'monarchs', '##cote', '##hips', 'sep', 'blended', 'apr', 'barrister', 'deposition', 'fia', 'mina', 'policemen', 'paranoid', '##pressed', 'churchyard', 'covert', 'crumpled', 'creep', 'abandoning', 'tr', 'transmit', 'conceal', 'barr', 'understands', 'readiness', 'spire', '##cology', '##enia', '##erry', '610', 'startling', 'unlock', 'vida', 'bowled', 'slots', '##nat', '##islav', 'spaced', 'trusting', 'admire', 'rig', '##ink', 'slack', '##70', 'mv', '207', 'casualty', '##wei', 'classmates', '##odes', '##rar', '##rked', 'amherst', 'furnished', 'evolve', 'foundry', 'menace', 'mead', '##lein', 'flu', 'wesleyan', '##kled', 'monterey', 'webber', '##vos', 'wil', '##mith', '##на', 'bartholomew', 'justices', 'restrained', '##cke', 'amenities', '191', 'mediated', 'sewage', 'trenches', 'ml', 'mainz', '##thus', '1800s', '##cula', '##inski', 'caine', 'bonding', '213', 'converts', 'spheres', 'superseded', 'marianne', 'crypt', 'sweaty', 'ensign', 'historia', '##br', 'spruce', '##post', '##ask', 'forks', 'thoughtfully', 'yukon', 'pamphlet', 'ames', '##uter', 'karma', '##yya', 'bryn', 'negotiation', 'sighs', 'incapable', '##mbre', '##ntial', 'actresses', 'taft', '##mill', 'luce', 'prevailed', '##amine', '1773', 'motionless', 'envoy', 'testify', 'investing', 'sculpted', 'instructors', 'provence', 'kali', 'cullen', 'horseback', '##while', 'goodwin', '##jos', 'gaa', 'norte', '##ldon', 'modify', 'wavelength', 'abd', '214', 'skinned', 'sprinter', 'forecast', 'scheduling', 'marries', 'squared', 'tentative', '##chman', 'boer', '##isch', 'bolts', 'swap', 'fisherman', 'assyrian', 'impatiently', 'guthrie', 'martins', 'murdoch', '194', 'tanya', 'nicely', 'dolly', 'lacy', 'med', '##45', 'syn', 'decks', 'fashionable', 'millionaire', '##ust', 'surfing', '##ml', '##ision', 'heaved', 'tammy', 'consulate', 'attendees', 'routinely', '197', 'fuse', 'saxophonist', 'backseat', 'malaya', '##lord', 'scowl', 'tau', '##ishly', '193', 'sighted', 'steaming', '##rks', '303', '911', '##holes', '##hong', 'ching', '##wife', 'bless', 'conserved', 'jurassic', 'stacey', 'unix', 'zion', 'chunk', 'rigorous', 'blaine', '198', 'peabody', 'slayer', 'dismay', 'brewers', 'nz', '##jer', 'det', '##glia', 'glover', 'postwar', 'int', 'penetration', 'sylvester', 'imitation', 'vertically', 'airlift', 'heiress', 'knoxville', 'viva', '##uin', '390', 'macon', '##rim', '##fighter', '##gonal', 'janice', '##orescence', '##wari', 'marius', 'belongings', 'leicestershire', '196', 'blanco', 'inverted', 'preseason', 'sanity', 'sobbing', '##due', '##elt', '##dled', 'collingwood', 'regeneration', 'flickering', 'shortest', '##mount', '##osi', 'feminism', '##lat', 'sherlock', 'cabinets', 'fumbled', 'northbound', 'precedent', 'snaps', '##mme', 'researching', '##akes', 'guillaume', 'insights', 'manipulated', 'vapor', 'neighbour', 'sap', 'gangster', 'frey', 'f1', 'stalking', 'scarcely', 'callie', 'barnett', 'tendencies', 'audi', 'doomed', 'assessing', 'slung', 'panchayat', 'ambiguous', 'bartlett', '##etto', 'distributing', 'violating', 'wolverhampton', '##hetic', 'swami', 'histoire', '##urus', 'liable', 'pounder', 'groin', 'hussain', 'larsen', 'popping', 'surprises', '##atter', 'vie', 'curt', '##station', 'mute', 'relocate', 'musicals', 'authorization', 'richter', '##sef', 'immortality', 'tna', 'bombings', '##press', 'deteriorated', 'yiddish', '##acious', 'robbed', 'colchester', 'cs', 'pmid', 'ao', 'verified', 'balancing', 'apostle', 'swayed', 'recognizable', 'oxfordshire', 'retention', 'nottinghamshire', 'contender', 'judd', 'invitational', 'shrimp', 'uhf', '##icient', 'cleaner', 'longitudinal', 'tanker', '##mur', 'acronym', 'broker', 'koppen', 'sundance', 'suppliers', '##gil', '4000', 'clipped', 'fuels', 'petite', '##anne', 'landslide', 'helene', 'diversion', 'populous', 'landowners', 'auspices', 'melville', 'quantitative', '##xes', 'ferries', 'nicky', '##llus', 'doo', 'haunting', 'roche', 'carver', 'downed', 'unavailable', '##pathy', 'approximation', 'hiroshima', '##hue', 'garfield', 'valle', 'comparatively', 'keyboardist', 'traveler', '##eit', 'congestion', 'calculating', 'subsidiaries', '##bate', 'serb', 'modernization', 'fairies', 'deepened', 'ville', 'averages', '##lore', 'inflammatory', 'tonga', '##itch', 'co₂', 'squads', '##hea', 'gigantic', 'serum', 'enjoyment', 'retailer', 'verona', '35th', 'cis', '##phobic', 'magna', 'technicians', '##vati', 'arithmetic', '##sport', 'levin', '##dation', 'amtrak', 'chow', 'sienna', '##eyer', 'backstage', 'entrepreneurship', '##otic', 'learnt', 'tao', '##udy', 'worcestershire', 'formulation', 'baggage', 'hesitant', 'bali', 'sabotage', '##kari', 'barren', 'enhancing', 'murmur', 'pl', 'freshly', 'putnam', 'syntax', 'aces', 'medicines', 'resentment', 'bandwidth', '##sier', 'grins', 'chili', 'guido', '##sei', 'framing', 'implying', 'gareth', 'lissa', 'genevieve', 'pertaining', 'admissions', 'geo', 'thorpe', 'proliferation', 'sato', 'bela', 'analyzing', 'parting', '##gor', 'awakened', '##isman', 'huddled', 'secrecy', '##kling', 'hush', 'gentry', '540', 'dungeons', '##ego', 'coasts', '##utz', 'sacrificed', '##chule', 'landowner', 'mutually', 'prevalence', 'programmer', 'adolescent', 'disrupted', 'seaside', 'gee', 'trusts', 'vamp', 'georgie', '##nesian', '##iol', 'schedules', 'sindh', '##market', 'etched', 'hm', 'sparse', 'bey', 'beaux', 'scratching', 'gliding', 'unidentified', '216', 'collaborating', 'gems', 'jesuits', 'oro', 'accumulation', 'shaping', 'mbe', 'anal', '##xin', '231', 'enthusiasts', 'newscast', '##egan', 'janata', 'dewey', 'parkinson', '179', 'ankara', 'biennial', 'towering', 'dd', 'inconsistent', '950', '##chet', 'thriving', 'terminate', 'cabins', 'furiously', 'eats', 'advocating', 'donkey', 'marley', 'muster', 'phyllis', 'leiden', '##user', 'grassland', 'glittering', 'iucn', 'loneliness', '217', 'memorandum', 'armenians', '##ddle', 'popularized', 'rhodesia', '60s', 'lame', '##illon', 'sans', 'bikini', 'header', 'orbits', '##xx', '##finger', '##ulator', 'sharif', 'spines', 'biotechnology', 'strolled', 'naughty', 'yates', '##wire', 'fremantle', 'milo', '##mour', 'abducted', 'removes', '##atin', 'humming', 'wonderland', '##chrome', '##ester', 'hume', 'pivotal', '##rates', 'armand', 'grams', 'believers', 'elector', 'rte', 'apron', 'bis', 'scraped', '##yria', 'endorsement', 'initials', '##llation', 'eps', 'dotted', 'hints', 'buzzing', 'emigration', 'nearer', '##tom', 'indicators', '##ulu', 'coarse', 'neutron', 'protectorate', '##uze', 'directional', 'exploits', 'pains', 'loire', '1830s', 'proponents', 'guggenheim', 'rabbits', 'ritchie', '305', 'hectare', 'inputs', 'hutton', '##raz', 'verify', '##ako', 'boilers', 'longitude', '##lev', 'skeletal', 'yer', 'emilia', 'citrus', 'compromised', '##gau', 'pokemon', 'prescription', 'paragraph', 'eduard', 'cadillac', 'attire', 'categorized', 'kenyan', 'weddings', 'charley', '##bourg', 'entertain', 'monmouth', '##lles', 'nutrients', 'davey', 'mesh', 'incentive', 'practised', 'ecosystems', 'kemp', 'subdued', 'overheard', '##rya', 'bodily', 'maxim', '##nius', 'apprenticeship', 'ursula', '##fight', 'lodged', 'rug', 'silesian', 'unconstitutional', 'patel', 'inspected', 'coyote', 'unbeaten', '##hak', '34th', 'disruption', 'convict', 'parcel', '##cl', '##nham', 'collier', 'implicated', 'mallory', '##iac', '##lab', 'susannah', 'winkler', '##rber', 'shia', 'phelps', 'sediments', 'graphical', 'robotic', '##sner', 'adulthood', 'mart', 'smoked', '##isto', 'kathryn', 'clarified', '##aran', 'divides', 'convictions', 'oppression', 'pausing', 'burying', '##mt', 'federico', 'mathias', 'eileen', '##tana', 'kite', 'hunched', '##acies', '189', '##atz', 'disadvantage', 'liza', 'kinetic', 'greedy', 'paradox', 'yokohama', 'dowager', 'trunks', 'ventured', '##gement', 'gupta', 'vilnius', 'olaf', '##thest', 'crimean', 'hopper', '##ej', 'progressively', 'arturo', 'mouthed', 'arrondissement', '##fusion', 'rubin', 'simulcast', 'oceania', '##orum', '##stra', '##rred', 'busiest', 'intensely', 'navigator', 'cary', '##vine', '##hini', '##bies', 'fife', 'rowe', 'rowland', 'posing', 'insurgents', 'shafts', 'lawsuits', 'activate', 'conor', 'inward', 'culturally', 'garlic', '265', '##eering', 'eclectic', '##hui', '##kee', '##nl', 'furrowed', 'vargas', 'meteorological', 'rendezvous', '##aus', 'culinary', 'commencement', '##dition', 'quota', '##notes', 'mommy', 'salaries', 'overlapping', 'mule', '##iology', '##mology', 'sums', 'wentworth', '##isk', '##zione', 'mainline', 'subgroup', '##illy', 'hack', 'plaintiff', 'verdi', 'bulb', 'differentiation', 'engagements', 'multinational', 'supplemented', 'bertrand', 'caller', 'regis', '##naire', '##sler', '##arts', '##imated', 'blossom', 'propagation', 'kilometer', 'viaduct', 'vineyards', '##uate', 'beckett', 'optimization', 'golfer', 'songwriters', 'seminal', 'semitic', 'thud', 'volatile', 'evolving', 'ridley', '##wley', 'trivial', 'distributions', 'scandinavia', 'jiang', '##ject', 'wrestled', 'insistence', '##dio', 'emphasizes', 'napkin', '##ods', 'adjunct', 'rhyme', '##ricted', '##eti', 'hopeless', 'surrounds', 'tremble', '32nd', 'smoky', '##ntly', 'oils', 'medicinal', 'padded', 'steer', 'wilkes', '219', '255', 'concessions', 'hue', 'uniquely', 'blinded', 'landon', 'yahoo', '##lane', 'hendrix', 'commemorating', 'dex', 'specify', 'chicks', '##ggio', 'intercity', '1400', 'morley', '##torm', 'highlighting', '##oting', 'pang', 'oblique', 'stalled', '##liner', 'flirting', 'newborn', '1769', 'bishopric', 'shaved', '232', 'currie', '##ush', 'dharma', 'spartan', '##ooped', 'favorites', 'smug', 'novella', 'sirens', 'abusive', 'creations', 'espana', '##lage', 'paradigm', 'semiconductor', 'sheen', '##rdo', '##yen', '##zak', 'nrl', 'renew', '##pose', '##tur', 'adjutant', 'marches', 'norma', '##enity', 'ineffective', 'weimar', 'grunt', '##gat', 'lordship', 'plotting', 'expenditure', 'infringement', 'lbs', 'refrain', 'av', 'mimi', 'mistakenly', 'postmaster', '1771', '##bara', 'ras', 'motorsports', 'tito', '199', 'subjective', '##zza', 'bully', 'stew', '##kaya', 'prescott', '1a', '##raphic', '##zam', 'bids', 'styling', 'paranormal', 'reeve', 'sneaking', 'exploding', 'katz', 'akbar', 'migrant', 'syllables', 'indefinitely', '##ogical', 'destroys', 'replaces', 'applause', '##phine', 'pest', '##fide', '218', 'articulated', 'bertie', '##thing', '##cars', '##ptic', 'courtroom', 'crowley', 'aesthetics', 'cummings', 'tehsil', 'hormones', 'titanic', 'dangerously', '##ibe', 'stadion', 'jaenelle', 'auguste', 'ciudad', '##chu', 'mysore', 'partisans', '##sio', 'lucan', 'philipp', '##aly', 'debating', 'henley', 'interiors', '##rano', '##tious', 'homecoming', 'beyonce', 'usher', 'henrietta', 'prepares', 'weeds', '##oman', 'ely', 'plucked', '##pire', '##dable', 'luxurious', '##aq', 'artifact', 'password', 'pasture', 'juno', 'maddy', 'minsk', '##dder', '##ologies', '##rone', 'assessments', 'martian', 'royalist', '1765', 'examines', '##mani', '##rge', 'nino', '223', 'parry', 'scooped', 'relativity', '##eli', '##uting', '##cao', 'congregational', 'noisy', 'traverse', '##agawa', 'strikeouts', 'nickelodeon', 'obituary', 'transylvania', 'binds', 'depictions', 'polk', 'trolley', '##yed', '##lard', 'breeders', '##under', 'dryly', 'hokkaido', '1762', 'strengths', 'stacks', 'bonaparte', 'connectivity', 'neared', 'prostitutes', 'stamped', 'anaheim', 'gutierrez', 'sinai', '##zzling', 'bram', 'fresno', 'madhya', '##86', 'proton', '##lena', '##llum', '##phon', 'reelected', 'wanda', '##anus', '##lb', 'ample', 'distinguishing', '##yler', 'grasping', 'sermons', 'tomato', 'bland', 'stimulation', 'avenues', '##eux', 'spreads', 'scarlett', 'fern', 'pentagon', 'assert', 'baird', 'chesapeake', 'ir', 'calmed', 'distortion', 'fatalities', '##olis', 'correctional', 'pricing', '##astic', '##gina', 'prom', 'dammit', 'ying', 'collaborate', '##chia', 'welterweight', '33rd', 'pointer', 'substitution', 'bonded', 'umpire', 'communicating', 'multitude', 'paddle', '##obe', 'federally', 'intimacy', '##insky', 'betray', 'ssr', '##lett', '##lean', '##lves', '##therapy', 'airbus', '##tery', 'functioned', 'ud', 'bearer', 'biomedical', 'netflix', '##hire', '##nca', 'condom', 'brink', 'ik', '##nical', 'macy', '##bet', 'flap', 'gma', 'experimented', 'jelly', 'lavender', '##icles', '##ulia', 'munro', '##mian', '##tial', 'rye', '##rle', '60th', 'gigs', 'hottest', 'rotated', 'predictions', 'fuji', 'bu', '##erence', '##omi', 'barangay', '##fulness', '##sas', 'clocks', '##rwood', '##liness', 'cereal', 'roe', 'wight', 'decker', 'uttered', 'babu', 'onion', 'xml', 'forcibly', '##df', 'petra', 'sarcasm', 'hartley', 'peeled', 'storytelling', '##42', '##xley', '##ysis', '##ffa', 'fibre', 'kiel', 'auditor', 'fig', 'harald', 'greenville', '##berries', 'geographically', 'nell', 'quartz', '##athic', 'cemeteries', '##lr', 'crossings', 'nah', 'holloway', 'reptiles', 'chun', 'sichuan', 'snowy', '660', 'corrections', '##ivo', 'zheng', 'ambassadors', 'blacksmith', 'fielded', 'fluids', 'hardcover', 'turnover', 'medications', 'melvin', 'academies', '##erton', 'ro', 'roach', 'absorbing', 'spaniards', 'colton', '##founded', 'outsider', 'espionage', 'kelsey', '245', 'edible', '##ulf', 'dora', 'establishes', '##sham', '##tries', 'contracting', '##tania', 'cinematic', 'costello', 'nesting', '##uron', 'connolly', 'duff', '##nology', 'mma', '##mata', 'fergus', 'sexes', 'gi', 'optics', 'spectator', 'woodstock', 'banning', '##hee', '##fle', 'differentiate', 'outfielder', 'refinery', '226', '312', 'gerhard', 'horde', 'lair', 'drastically', '##udi', 'landfall', '##cheng', 'motorsport', 'odi', '##achi', 'predominant', 'quay', 'skins', '##ental', 'edna', 'harshly', 'complementary', 'murdering', '##aves', 'wreckage', '##90', 'ono', 'outstretched', 'lennox', 'munitions', 'galen', 'reconcile', '470', 'scalp', 'bicycles', 'gillespie', 'questionable', 'rosenberg', 'guillermo', 'hostel', 'jarvis', 'kabul', 'volvo', 'opium', 'yd', '##twined', 'abuses', 'decca', 'outpost', '##cino', 'sensible', 'neutrality', '##64', 'ponce', 'anchorage', 'atkins', 'turrets', 'inadvertently', 'disagree', 'libre', 'vodka', 'reassuring', 'weighs', '##yal', 'glide', 'jumper', 'ceilings', 'repertory', 'outs', 'stain', '##bial', 'envy', '##ucible', 'smashing', 'heightened', 'policing', 'hyun', 'mixes', 'lai', 'prima', '##ples', 'celeste', '##bina', 'lucrative', 'intervened', 'kc', 'manually', '##rned', 'stature', 'staffed', 'bun', 'bastards', 'nairobi', 'priced', '##auer', 'thatcher', '##kia', 'tripped', 'comune', '##ogan', '##pled', 'brasil', 'incentives', 'emanuel', 'hereford', 'musica', '##kim', 'benedictine', 'biennale', '##lani', 'eureka', 'gardiner', 'rb', 'knocks', 'sha', '##ael', '##elled', '##onate', 'efficacy', 'ventura', 'masonic', 'sanford', 'maize', 'leverage', '##feit', 'capacities', 'santana', '##aur', 'novelty', 'vanilla', '##cter', '##tour', 'benin', '##oir', '##rain', 'neptune', 'drafting', 'tallinn', '##cable', 'humiliation', '##boarding', 'schleswig', 'fabian', 'bernardo', 'liturgy', 'spectacle', 'sweeney', 'pont', 'routledge', '##tment', 'cosmos', 'ut', 'hilt', 'sleek', 'universally', '##eville', '##gawa', 'typed', '##dry', 'favors', 'allegheny', 'glaciers', '##rly', 'recalling', 'aziz', '##log', 'parasite', 'requiem', 'auf', '##berto', '##llin', 'illumination', '##breaker', '##issa', 'festivities', 'bows', 'govern', 'vibe', 'vp', '333', 'sprawled', 'larson', 'pilgrim', 'bwf', 'leaping', '##rts', '##ssel', 'alexei', 'greyhound', 'hoarse', '##dler', '##oration', 'seneca', '##cule', 'gaping', '##ulously', '##pura', 'cinnamon', '##gens', '##rricular', 'craven', 'fantasies', 'houghton', 'engined', 'reigned', 'dictator', 'supervising', '##oris', 'bogota', 'commentaries', 'unnatural', 'fingernails', 'spirituality', 'tighten', '##tm', 'canadiens', 'protesting', 'intentional', 'cheers', 'sparta', '##ytic', '##iere', '##zine', 'widen', 'belgarath', 'controllers', 'dodd', 'iaaf', 'navarre', '##ication', 'defect', 'squire', 'steiner', 'whisky', '##mins', '560', 'inevitably', 'tome', '##gold', 'chew', '##uid', '##lid', 'elastic', '##aby', 'streaked', 'alliances', 'jailed', 'regal', '##ined', '##phy', 'czechoslovak', 'narration', 'absently', '##uld', 'bluegrass', 'guangdong', 'quran', 'criticizing', 'hose', 'hari', '##liest', '##owa', 'skier', 'streaks', 'deploy', '##lom', 'raft', 'bose', 'dialed', 'huff', '##eira', 'haifa', 'simplest', 'bursting', 'endings', 'ib', 'sultanate', '##titled', 'franks', 'whitman', 'ensures', 'sven', '##ggs', 'collaborators', 'forster', 'organising', 'ui', 'banished', 'napier', 'injustice', 'teller', 'layered', 'thump', '##otti', 'roc', 'battleships', 'evidenced', 'fugitive', 'sadie', 'robotics', '##roud', 'equatorial', 'geologist', '##iza', 'yielding', '##bron', '##sr', 'internationale', 'mecca', '##diment', 'sbs', 'skyline', 'toad', 'uploaded', 'reflective', 'undrafted', 'lal', 'leafs', 'bayern', '##dai', 'lakshmi', 'shortlisted', '##stick', '##wicz', 'camouflage', 'donate', 'af', 'christi', 'lau', '##acio', 'disclosed', 'nemesis', '1761', 'assemble', 'straining', 'northamptonshire', 'tal', '##asi', 'bernardino', 'premature', 'heidi', '42nd', 'coefficients', 'galactic', 'reproduce', 'buzzed', 'sensations', 'zionist', 'monsieur', 'myrtle', '##eme', 'archery', 'strangled', 'musically', 'viewpoint', 'antiquities', 'bei', 'trailers', 'seahawks', 'cured', 'pee', 'preferring', 'tasmanian', 'lange', 'sul', '##mail', '##working', 'colder', 'overland', 'lucivar', 'massey', 'gatherings', 'haitian', '##smith', 'disapproval', 'flaws', '##cco', '##enbach', '1766', 'npr', '##icular', 'boroughs', 'creole', 'forums', 'techno', '1755', 'dent', 'abdominal', 'streetcar', '##eson', '##stream', 'procurement', 'gemini', 'predictable', '##tya', 'acheron', 'christoph', 'feeder', 'fronts', 'vendor', 'bernhard', 'jammu', 'tumors', 'slang', '##uber', 'goaltender', 'twists', 'curving', 'manson', 'vuelta', 'mer', 'peanut', 'confessions', 'pouch', 'unpredictable', 'allowance', 'theodor', 'vascular', '##factory', 'bala', 'authenticity', 'metabolic', 'coughing', 'nanjing', '##cea', 'pembroke', '##bard', 'splendid', '36th', 'ff', 'hourly', '##ahu', 'elmer', 'handel', '##ivate', 'awarding', 'thrusting', 'dl', 'experimentation', '##hesion', '##46', 'caressed', 'entertained', 'steak', '##rangle', 'biologist', 'orphans', 'baroness', 'oyster', 'stepfather', '##dridge', 'mirage', 'reefs', 'speeding', '##31', 'barons', '1764', '227', 'inhabit', 'preached', 'repealed', '##tral', 'honoring', 'boogie', 'captives', 'administer', 'johanna', '##imate', 'gel', 'suspiciously', '1767', 'sobs', '##dington', 'backbone', 'hayward', 'garry', '##folding', '##nesia', 'maxi', '##oof', '##ppe', 'ellison', 'galileo', '##stand', 'crimea', 'frenzy', 'amour', 'bumper', 'matrices', 'natalia', 'baking', 'garth', 'palestinians', '##grove', 'smack', 'conveyed', 'ensembles', 'gardening', '##manship', '##rup', '##stituting', '1640', 'harvesting', 'topography', 'jing', 'shifters', 'dormitory', '##carriage', '##lston', 'ist', 'skulls', '##stadt', 'dolores', 'jewellery', 'sarawak', '##wai', '##zier', 'fences', 'christy', 'confinement', 'tumbling', 'credibility', 'fir', 'stench', '##bria', '##plication', '##nged', '##sam', 'virtues', '##belt', 'marjorie', 'pba', '##eem', '##made', 'celebrates', 'schooner', 'agitated', 'barley', 'fulfilling', 'anthropologist', '##pro', 'restrict', 'novi', 'regulating', '##nent', 'padres', '##rani', '##hesive', 'loyola', 'tabitha', 'milky', 'olson', 'proprietor', 'crambidae', 'guarantees', 'intercollegiate', 'ljubljana', 'hilda', '##sko', 'ignorant', 'hooded', '##lts', 'sardinia', '##lidae', '##vation', 'frontman', 'privileged', 'witchcraft', '##gp', 'jammed', 'laude', 'poking', '##than', 'bracket', 'amazement', 'yunnan', '##erus', 'maharaja', 'linnaeus', '264', 'commissioning', 'milano', 'peacefully', '##logies', 'akira', 'rani', 'regulator', '##36', 'grasses', '##rance', 'luzon', 'crows', 'compiler', 'gretchen', 'seaman', 'edouard', 'tab', 'buccaneers', 'ellington', 'hamlets', 'whig', 'socialists', '##anto', 'directorial', 'easton', 'mythological', '##kr', '##vary', 'rhineland', 'semantic', 'taut', 'dune', 'inventions', 'succeeds', '##iter', 'replication', 'branched', '##pired', 'jul', 'prosecuted', 'kangaroo', 'penetrated', '##avian', 'middlesbrough', 'doses', 'bleak', 'madam', 'predatory', 'relentless', '##vili', 'reluctance', '##vir', 'hailey', 'crore', 'silvery', '1759', 'monstrous', 'swimmers', 'transmissions', 'hawthorn', 'informing', '##eral', 'toilets', 'caracas', 'crouch', 'kb', '##sett', '295', 'cartel', 'hadley', '##aling', 'alexia', 'yvonne', '##biology', 'cinderella', 'eton', 'superb', 'blizzard', 'stabbing', 'industrialist', 'maximus', '##gm', '##orus', 'groves', 'maud', 'clade', 'oversized', 'comedic', '##bella', 'rosen', 'nomadic', 'fulham', 'montane', 'beverages', 'galaxies', 'redundant', 'swarm', '##rot', '##folia', '##llis', 'buckinghamshire', 'fen', 'bearings', 'bahadur', '##rom', 'gilles', 'phased', 'dynamite', 'faber', 'benoit', 'vip', '##ount', '##wd', 'booking', 'fractured', 'tailored', 'anya', 'spices', 'westwood', 'cairns', 'auditions', 'inflammation', 'steamed', '##rocity', '##acion', '##urne', 'skyla', 'thereof', 'watford', 'torment', 'archdeacon', 'transforms', 'lulu', 'demeanor', 'fucked', 'serge', '##sor', 'mckenna', 'minas', 'entertainer', '##icide', 'caress', 'originate', 'residue', '##sty', '1740', '##ilised', '##org', 'beech', '##wana', 'subsidies', '##ghton', 'emptied', 'gladstone', 'ru', 'firefighters', 'voodoo', '##rcle', 'het', 'nightingale', 'tamara', 'edmond', 'ingredient', 'weaknesses', 'silhouette', '285', 'compatibility', 'withdrawing', 'hampson', '##mona', 'anguish', 'giggling', '##mber', 'bookstore', '##jiang', 'southernmost', 'tilting', '##vance', 'bai', 'economical', 'rf', 'briefcase', 'dreadful', 'hinted', 'projections', 'shattering', 'totaling', '##rogate', 'analogue', 'indicted', 'periodical', 'fullback', '##dman', 'haynes', '##tenberg', '##ffs', '##ishment', '1745', 'thirst', 'stumble', 'penang', 'vigorous', '##ddling', '##kor', '##lium', 'octave', '##ove', '##enstein', '##inen', '##ones', 'siberian', '##uti', 'cbn', 'repeal', 'swaying', '##vington', 'khalid', 'tanaka', 'unicorn', 'otago', 'plastered', 'lobe', 'riddle', '##rella', 'perch', '##ishing', 'croydon', 'filtered', 'graeme', 'tripoli', '##ossa', 'crocodile', '##chers', 'sufi', 'mined', '##tung', 'inferno', 'lsu', '##phi', 'swelled', 'utilizes', '£2', 'cale', 'periodicals', 'styx', 'hike', 'informally', 'coop', 'lund', '##tidae', 'ala', 'hen', 'qui', 'transformations', 'disposed', 'sheath', 'chickens', '##cade', 'fitzroy', 'sas', 'silesia', 'unacceptable', 'odisha', '1650', 'sabrina', 'pe', 'spokane', 'ratios', 'athena', 'massage', 'shen', 'dilemma', '##drum', '##riz', '##hul', 'corona', 'doubtful', 'niall', '##pha', '##bino', 'fines', 'cite', 'acknowledging', 'bangor', 'ballard', 'bathurst', '##resh', 'huron', 'mustered', 'alzheimer', 'garments', 'kinase', 'tyre', 'warship', '##cp', 'flashback', 'pulmonary', 'braun', 'cheat', 'kamal', 'cyclists', 'constructions', 'grenades', 'ndp', 'traveller', 'excuses', 'stomped', 'signalling', 'trimmed', 'futsal', 'mosques', 'relevance', '##wine', 'wta', '##23', '##vah', '##lter', 'hoc', '##riding', 'optimistic', '##´s', 'deco', 'sim', 'interacting', 'rejecting', 'moniker', 'waterways', '##ieri', '##oku', 'mayors', 'gdansk', 'outnumbered', 'pearls', '##ended', '##hampton', 'fairs', 'totals', 'dominating', '262', 'notions', 'stairway', 'compiling', 'pursed', 'commodities', 'grease', 'yeast', '##jong', 'carthage', 'griffiths', 'residual', 'amc', 'contraction', 'laird', 'sapphire', '##marine', '##ivated', 'amalgamation', 'dissolve', 'inclination', 'lyle', 'packaged', 'altitudes', 'suez', 'canons', 'graded', 'lurched', 'narrowing', 'boasts', 'guise', 'wed', 'enrico', '##ovsky', 'rower', 'scarred', 'bree', 'cub', 'iberian', 'protagonists', 'bargaining', 'proposing', 'trainers', 'voyages', 'vans', 'fishes', '##aea', '##ivist', '##verance', 'encryption', 'artworks', 'kazan', 'sabre', 'cleopatra', 'hepburn', 'rotting', 'supremacy', 'mecklenburg', '##brate', 'burrows', 'hazards', 'outgoing', 'flair', 'organizes', '##ctions', 'scorpion', '##usions', 'boo', '234', 'chevalier', 'dunedin', 'slapping', '##34', 'ineligible', 'pensions', '##38', '##omic', 'manufactures', 'emails', 'bismarck', '238', 'weakening', 'blackish', 'ding', 'mcgee', 'quo', '##rling', 'northernmost', 'xx', 'manpower', 'greed', 'sampson', 'clicking', '##ange', '##horpe', '##inations', '##roving', 'torre', '##eptive', '##moral', 'symbolism', '38th', 'asshole', 'meritorious', 'outfits', 'splashed', 'biographies', 'sprung', 'astros', '##tale', '302', '737', 'filly', 'raoul', 'nw', 'tokugawa', 'linden', 'clubhouse', '##apa', 'tracts', 'romano', '##pio', 'putin', 'tags', '##note', 'chained', 'dickson', 'gunshot', 'moe', 'gunn', 'rashid', '##tails', 'zipper', '##bas', '##nea', 'contrasted', '##ply', '##udes', 'plum', 'pharaoh', '##pile', 'aw', 'comedies', 'ingrid', 'sandwiches', 'subdivisions', '1100', 'mariana', 'nokia', 'kamen', 'hz', 'delaney', 'veto', 'herring', '##words', 'possessive', 'outlines', '##roup', 'siemens', 'stairwell', 'rc', 'gallantry', 'messiah', 'palais', 'yells', '233', 'zeppelin', '##dm', 'bolivar', '##cede', 'smackdown', 'mckinley', '##mora', '##yt', 'muted', 'geologic', 'finely', 'unitary', 'avatar', 'hamas', 'maynard', 'rees', 'bog', 'contrasting', '##rut', 'liv', 'chico', 'disposition', 'pixel', '##erate', 'becca', 'dmitry', 'yeshiva', 'narratives', '##lva', '##ulton', 'mercenary', 'sharpe', 'tempered', 'navigate', 'stealth', 'amassed', 'keynes', '##lini', 'untouched', '##rrie', 'havoc', 'lithium', '##fighting', 'abyss', 'graf', 'southward', 'wolverine', 'balloons', 'implements', 'ngos', 'transitions', '##icum', 'ambushed', 'concacaf', 'dormant', 'economists', '##dim', 'costing', 'csi', 'rana', 'universite', 'boulders', 'verity', '##llon', 'collin', 'mellon', 'misses', 'cypress', 'fluorescent', 'lifeless', 'spence', '##ulla', 'crewe', 'shepard', 'pak', 'revelations', '##م', 'jolly', 'gibbons', 'paw', '##dro', '##quel', 'freeing', '##test', 'shack', 'fries', 'palatine', '##51', '##hiko', 'accompaniment', 'cruising', 'recycled', '##aver', 'erwin', 'sorting', 'synthesizers', 'dyke', 'realities', 'sg', 'strides', 'enslaved', 'wetland', '##ghan', 'competence', 'gunpowder', 'grassy', 'maroon', 'reactors', 'objection', '##oms', 'carlson', 'gearbox', 'macintosh', 'radios', 'shelton', '##sho', 'clergyman', 'prakash', '254', 'mongols', 'trophies', 'oricon', '228', 'stimuli', 'twenty20', 'cantonese', 'cortes', 'mirrored', '##saurus', 'bhp', 'cristina', 'melancholy', '##lating', 'enjoyable', 'nuevo', '##wny', 'downfall', 'schumacher', '##ind', 'banging', 'lausanne', 'rumbled', 'paramilitary', 'reflex', 'ax', 'amplitude', 'migratory', '##gall', '##ups', 'midi', 'barnard', 'lastly', 'sherry', '##hp', '##nall', 'keystone', '##kra', 'carleton', 'slippery', '##53', 'coloring', 'foe', 'socket', 'otter', '##rgos', 'mats', '##tose', 'consultants', 'bafta', 'bison', 'topping', '##km', '490', 'primal', 'abandonment', 'transplant', 'atoll', 'hideous', 'mort', 'pained', 'reproduced', 'tae', 'howling', '##turn', 'unlawful', 'billionaire', 'hotter', 'poised', 'lansing', '##chang', 'dinamo', 'retro', 'messing', 'nfc', 'domesday', '##mina', 'blitz', 'timed', '##athing', '##kley', 'ascending', 'gesturing', '##izations', 'signaled', 'tis', 'chinatown', 'mermaid', 'savanna', 'jameson', '##aint', 'catalina', '##pet', '##hers', 'cochrane', 'cy', 'chatting', '##kus', 'alerted', 'computation', 'mused', 'noelle', 'majestic', 'mohawk', 'campo', 'octagonal', '##sant', '##hend', '241', 'aspiring', '##mart', 'comprehend', 'iona', 'paralyzed', 'shimmering', 'swindon', 'rhone', '##eley', 'reputed', 'configurations', 'pitchfork', 'agitation', 'francais', 'gillian', 'lipstick', '##ilo', 'outsiders', 'pontifical', 'resisting', 'bitterness', 'sewer', 'rockies', '##edd', '##ucher', 'misleading', '1756', 'exiting', 'galloway', '##nging', 'risked', '##heart', '246', 'commemoration', 'schultz', '##rka', 'integrating', '##rsa', 'poses', 'shrieked', '##weiler', 'guineas', 'gladys', 'jerking', 'owls', 'goldsmith', 'nightly', 'penetrating', '##unced', 'lia', '##33', 'ignited', 'betsy', '##aring', '##thorpe', 'follower', 'vigorously', '##rave', 'coded', 'kiran', 'knit', 'zoology', 'tbilisi', '##28', '##bered', 'repository', 'govt', 'deciduous', 'dino', 'growling', '##bba', 'enhancement', 'unleashed', 'chanting', 'pussy', 'biochemistry', '##eric', 'kettle', 'repression', 'toxicity', 'nrhp', '##arth', '##kko', '##bush', 'ernesto', 'commended', 'outspoken', '242', 'mca', 'parchment', 'sms', 'kristen', '##aton', 'bisexual', 'raked', 'glamour', 'navajo', 'a2', 'conditioned', 'showcased', '##hma', 'spacious', 'youthful', '##esa', 'usl', 'appliances', 'junta', 'brest', 'layne', 'conglomerate', 'enchanted', 'chao', 'loosened', 'picasso', 'circulating', 'inspect', 'montevideo', '##centric', '##kti', 'piazza', 'spurred', '##aith', 'bari', 'freedoms', 'poultry', 'stamford', 'lieu', '##ect', 'indigo', 'sarcastic', 'bahia', 'stump', 'attach', 'dvds', 'frankenstein', 'lille', 'approx', 'scriptures', 'pollen', '##script', 'nmi', 'overseen', '##ivism', 'tides', 'proponent', 'newmarket', 'inherit', 'milling', '##erland', 'centralized', '##rou', 'distributors', 'credentials', 'drawers', 'abbreviation', '##lco', '##xon', 'downing', 'uncomfortably', 'ripe', '##oes', 'erase', 'franchises', '##ever', 'populace', '##bery', '##khar', 'decomposition', 'pleas', '##tet', 'daryl', 'sabah', '##stle', '##wide', 'fearless', 'genie', 'lesions', 'annette', '##ogist', 'oboe', 'appendix', 'nair', 'dripped', 'petitioned', 'maclean', 'mosquito', 'parrot', 'rpg', 'hampered', '1648', 'operatic', 'reservoirs', '##tham', 'irrelevant', 'jolt', 'summarized', '##fp', 'medallion', '##taff', '##−', 'clawed', 'harlow', 'narrower', 'goddard', 'marcia', 'bodied', 'fremont', 'suarez', 'altering', 'tempest', 'mussolini', 'porn', '##isms', 'sweetly', 'oversees', 'walkers', 'solitude', 'grimly', 'shrines', 'hk', 'ich', 'supervisors', 'hostess', 'dietrich', 'legitimacy', 'brushes', 'expressive', '##yp', 'dissipated', '##rse', 'localized', 'systemic', '##nikov', 'gettysburg', '##js', '##uaries', 'dialogues', 'muttering', '251', 'housekeeper', 'sicilian', 'discouraged', '##frey', 'beamed', 'kaladin', 'halftime', 'kidnap', '##amo', '##llet', '1754', 'synonymous', 'depleted', 'instituto', 'insulin', 'reprised', '##opsis', 'clashed', '##ctric', 'interrupting', 'radcliffe', 'insisting', 'medici', '1715', 'ejected', 'playfully', 'turbulent', '##47', 'starvation', '##rini', 'shipment', 'rebellious', 'petersen', 'verification', 'merits', '##rified', 'cakes', '##charged', '1757', 'milford', 'shortages', 'spying', 'fidelity', '##aker', 'emitted', 'storylines', 'harvested', 'seismic', '##iform', 'cheung', 'kilda', 'theoretically', 'barbie', 'lynx', '##rgy', '##tius', 'goblin', 'mata', 'poisonous', '##nburg', 'reactive', 'residues', 'obedience', '##евич', 'conjecture', '##rac', '401', 'hating', 'sixties', 'kicker', 'moaning', 'motown', '##bha', 'emancipation', 'neoclassical', '##hering', 'consoles', 'ebert', 'professorship', '##tures', 'sustaining', 'assaults', 'obeyed', 'affluent', 'incurred', 'tornadoes', '##eber', '##zow', 'emphasizing', 'highlanders', 'cheated', 'helmets', '##ctus', 'internship', 'terence', 'bony', 'executions', 'legislators', 'berries', 'peninsular', 'tinged', '##aco', '1689', 'amplifier', 'corvette', 'ribbons', 'lavish', 'pennant', '##lander', 'worthless', '##chfield', '##forms', 'mariano', 'pyrenees', 'expenditures', '##icides', 'chesterfield', 'mandir', 'tailor', '39th', 'sergey', 'nestled', 'willed', 'aristocracy', 'devotees', 'goodnight', 'raaf', 'rumored', 'weaponry', 'remy', 'appropriations', 'harcourt', 'burr', 'riaa', '##lence', 'limitation', 'unnoticed', 'guo', 'soaking', 'swamps', '##tica', 'collapsing', 'tatiana', 'descriptive', 'brigham', 'psalm', '##chment', 'maddox', '##lization', 'patti', 'caliph', '##aja', 'akron', 'injuring', 'serra', '##ganj', 'basins', '##sari', 'astonished', 'launcher', '##church', 'hilary', 'wilkins', 'sewing', '##sf', 'stinging', '##fia', '##ncia', 'underwood', 'startup', '##ition', 'compilations', 'vibrations', 'embankment', 'jurist', '##nity', 'bard', 'juventus', 'groundwater', 'kern', 'palaces', 'helium', 'boca', 'cramped', 'marissa', 'soto', '##worm', 'jae', 'princely', '##ggy', 'faso', 'bazaar', 'warmly', '##voking', '229', 'pairing', '##lite', '##grate', '##nets', 'wien', 'freaked', 'ulysses', 'rebirth', '##alia', '##rent', 'mummy', 'guzman', 'jimenez', 'stilled', '##nitz', 'trajectory', 'tha', 'woken', 'archival', 'professions', '##pts', '##pta', 'hilly', 'shadowy', 'shrink', '##bolt', 'norwood', 'glued', 'migrate', 'stereotypes', 'devoid', '##pheus', '625', 'evacuate', 'horrors', 'infancy', 'gotham', 'knowles', 'optic', 'downloaded', 'sachs', 'kingsley', 'parramatta', 'darryl', 'mor', '##onale', 'shady', 'commence', 'confesses', 'kan', '##meter', '##placed', 'marlborough', 'roundabout', 'regents', 'frigates', 'io', '##imating', 'gothenburg', 'revoked', 'carvings', 'clockwise', 'convertible', 'intruder', '##sche', 'banged', '##ogo', 'vicky', 'bourgeois', '##mony', 'dupont', 'footing', '##gum', 'pd', '##real', 'buckle', 'yun', 'penthouse', 'sane', '720', 'serviced', 'stakeholders', 'neumann', 'bb', '##eers', 'comb', '##gam', 'catchment', 'pinning', 'rallies', 'typing', '##elles', 'forefront', 'freiburg', 'sweetie', 'giacomo', 'widowed', 'goodwill', 'worshipped', 'aspirations', 'midday', '##vat', 'fishery', '##trick', 'bournemouth', 'turk', '243', 'hearth', 'ethanol', 'guadalajara', 'murmurs', 'sl', '##uge', 'afforded', 'scripted', '##hta', 'wah', '##jn', 'coroner', 'translucent', '252', 'memorials', 'puck', 'progresses', 'clumsy', '##race', '315', 'candace', 'recounted', '##27', '##slin', '##uve', 'filtering', '##mac', 'howl', 'strata', 'heron', 'leveled', '##ays', 'dubious', '##oja', '##т', '##wheel', 'citations', 'exhibiting', '##laya', '##mics', '##pods', 'turkic', '##lberg', 'injunction', '##ennial', '##mit', 'antibodies', '##44', 'organise', '##rigues', 'cardiovascular', 'cushion', 'inverness', '##zquez', 'dia', 'cocoa', 'sibling', '##tman', '##roid', 'expanse', 'feasible', 'tunisian', 'algiers', '##relli', 'rus', 'bloomberg', 'dso', 'westphalia', 'bro', 'tacoma', '281', 'downloads', '##ours', 'konrad', 'duran', '##hdi', 'continuum', 'jett', 'compares', 'legislator', 'secession', '##nable', '##gues', '##zuka', 'translating', 'reacher', '##gley', '##ła', 'aleppo', '##agi', 'tc', 'orchards', 'trapping', 'linguist', 'versatile', 'drumming', 'postage', 'calhoun', 'superiors', '##mx', 'barefoot', 'leary', '##cis', 'ignacio', 'alfa', 'kaplan', '##rogen', 'bratislava', 'mori', '##vot', 'disturb', 'haas', '313', 'cartridges', 'gilmore', 'radiated', 'salford', 'tunic', 'hades', '##ulsive', 'archeological', 'delilah', 'magistrates', 'auditioned', 'brewster', 'charters', 'empowerment', 'blogs', 'cappella', 'dynasties', 'iroquois', 'whipping', '##krishna', 'raceway', 'truths', 'myra', 'weaken', 'judah', 'mcgregor', '##horse', 'mic', 'refueling', '37th', 'burnley', 'bosses', 'markus', 'premio', 'query', '##gga', 'dunbar', '##economic', 'darkest', 'lyndon', 'sealing', 'commendation', 'reappeared', '##mun', 'addicted', 'ezio', 'slaughtered', 'satisfactory', 'shuffle', '##eves', '##thic', '##uj', 'fortification', 'warrington', '##otto', 'resurrected', 'fargo', 'mane', '##utable', '##lei', '##space', 'foreword', 'ox', '##aris', '##vern', 'abrams', 'hua', '##mento', 'sakura', '##alo', 'uv', 'sentimental', '##skaya', 'midfield', '##eses', 'sturdy', 'scrolls', 'macleod', '##kyu', 'entropy', '##lance', 'mitochondrial', 'cicero', 'excelled', 'thinner', 'convoys', 'perceive', '##oslav', '##urable', 'systematically', 'grind', 'burkina', '287', '##tagram', 'ops', '##aman', 'guantanamo', '##cloth', '##tite', 'forcefully', 'wavy', '##jou', 'pointless', '##linger', '##tze', 'layton', 'portico', 'superficial', 'clerical', 'outlaws', '##hism', 'burials', 'muir', '##inn', 'creditors', 'hauling', 'rattle', '##leg', 'calais', 'monde', 'archers', 'reclaimed', 'dwell', 'wexford', 'hellenic', 'falsely', 'remorse', '##tek', 'dough', 'furnishings', '##uttered', 'gabon', 'neurological', 'novice', '##igraphy', 'contemplated', 'pulpit', 'nightstand', 'saratoga', '##istan', 'documenting', 'pulsing', 'taluk', '##firmed', 'busted', 'marital', '##rien', 'disagreements', 'wasps', '##yes', 'hodge', 'mcdonnell', 'mimic', 'fran', 'pendant', 'dhabi', 'musa', '##nington', 'congratulations', 'argent', 'darrell', 'concussion', 'losers', 'regrets', 'thessaloniki', 'reversal', 'donaldson', 'hardwood', 'thence', 'achilles', 'ritter', '##eran', 'demonic', 'jurgen', 'prophets', 'goethe', 'eki', 'classmate', 'buff', '##cking', 'yank', 'irrational', '##inging', 'perished', 'seductive', 'qur', 'sourced', '##crat', '##typic', 'mustard', 'ravine', 'barre', 'horizontally', 'characterization', 'phylogenetic', 'boise', '##dit', '##runner', '##tower', 'brutally', 'intercourse', 'seduce', '##bbing', 'fay', 'ferris', 'ogden', 'amar', 'nik', 'unarmed', '##inator', 'evaluating', 'kyrgyzstan', 'sweetness', '##lford', '##oki', 'mccormick', 'meiji', 'notoriety', 'stimulate', 'disrupt', 'figuring', 'instructional', 'mcgrath', '##zoo', 'groundbreaking', '##lto', 'flinch', 'khorasan', 'agrarian', 'bengals', 'mixer', 'radiating', '##sov', 'ingram', 'pitchers', 'nad', 'tariff', '##cript', 'tata', '##codes', '##emi', '##ungen', 'appellate', 'lehigh', '##bled', '##giri', 'brawl', 'duct', 'texans', '##ciation', '##ropolis', 'skipper', 'speculative', 'vomit', 'doctrines', 'stresses', '253', 'davy', 'graders', 'whitehead', 'jozef', 'timely', 'cumulative', 'haryana', 'paints', 'appropriately', 'boon', 'cactus', '##ales', '##pid', 'dow', 'legions', '##pit', 'perceptions', '1730', 'picturesque', '##yse', 'periphery', 'rune', 'wr', '##aha', 'celtics', 'sentencing', 'whoa', '##erin', 'confirms', 'variance', '425', 'moines', 'mathews', 'spade', 'rave', 'm1', 'fronted', 'fx', 'blending', 'alleging', 'reared', '##gl', '237', '##paper', 'grassroots', 'eroded', '##free', '##physical', 'directs', 'ordeal', '##sław', 'accelerate', 'hacker', 'rooftop', '##inia', 'lev', 'buys', 'cebu', 'devote', '##lce', 'specialising', '##ulsion', 'choreographed', 'repetition', 'warehouses', '##ryl', 'paisley', 'tuscany', 'analogy', 'sorcerer', 'hash', 'huts', 'shards', 'descends', 'exclude', 'nix', 'chaplin', 'gaga', 'ito', 'vane', '##drich', 'causeway', 'misconduct', 'limo', 'orchestrated', 'glands', 'jana', '##kot', 'u2', '##mple', '##sons', 'branching', 'contrasts', 'scoop', 'longed', '##virus', 'chattanooga', '##75', 'syrup', 'cornerstone', '##tized', '##mind', '##iaceae', 'careless', 'precedence', 'frescoes', '##uet', 'chilled', 'consult', 'modelled', 'snatch', 'peat', '##thermal', 'caucasian', 'humane', 'relaxation', 'spins', 'temperance', '##lbert', 'occupations', 'lambda', 'hybrids', 'moons', 'mp3', '##oese', '247', 'rolf', 'societal', 'yerevan', 'ness', '##ssler', 'befriended', 'mechanized', 'nominate', 'trough', 'boasted', 'cues', 'seater', '##hom', 'bends', '##tangle', 'conductors', 'emptiness', '##lmer', 'eurasian', 'adriatic', 'tian', '##cie', 'anxiously', 'lark', 'propellers', 'chichester', 'jock', 'ev', '2a', '##holding', 'credible', 'recounts', 'tori', 'loyalist', 'abduction', '##hoot', '##redo', 'nepali', '##mite', 'ventral', 'tempting', '##ango', '##crats', 'steered', '##wice', 'javelin', 'dipping', 'laborers', 'prentice', 'looming', 'titanium', '##ː', 'badges', 'emir', 'tensor', '##ntation', 'egyptians', 'rash', 'denies', 'hawthorne', 'lombard', 'showers', 'wehrmacht', 'dietary', 'trojan', '##reus', 'welles', 'executing', 'horseshoe', 'lifeboat', '##lak', 'elsa', 'infirmary', 'nearing', 'roberta', 'boyer', 'mutter', 'trillion', 'joanne', '##fine', '##oked', 'sinks', 'vortex', 'uruguayan', 'clasp', 'sirius', '##block', 'accelerator', 'prohibit', 'sunken', 'byu', 'chronological', 'diplomats', 'ochreous', '510', 'symmetrical', '1644', 'maia', '##tology', 'salts', 'reigns', 'atrocities', '##ия', 'hess', 'bared', 'issn', '##vyn', 'cater', 'saturated', '##cycle', '##isse', 'sable', 'voyager', 'dyer', 'yusuf', '##inge', 'fountains', 'wolff', '##39', '##nni', 'engraving', 'rollins', 'atheist', 'ominous', '##ault', 'herr', 'chariot', 'martina', 'strung', '##fell', '##farlane', 'horrific', 'sahib', 'gazes', 'saetan', 'erased', 'ptolemy', '##olic', 'flushing', 'lauderdale', 'analytic', '##ices', '530', 'navarro', 'beak', 'gorilla', 'herrera', 'broom', 'guadalupe', 'raiding', 'sykes', '311', 'bsc', 'deliveries', '1720', 'invasions', 'carmichael', 'tajikistan', 'thematic', 'ecumenical', 'sentiments', 'onstage', '##rians', '##brand', '##sume', 'catastrophic', 'flanks', 'molten', '##arns', 'waller', 'aimee', 'terminating', '##icing', 'alternately', '##oche', 'nehru', 'printers', 'outraged', '##eving', 'empires', 'template', 'banners', 'repetitive', 'za', '##oise', 'vegetarian', '##tell', 'guiana', 'opt', 'cavendish', 'lucknow', 'synthesized', '##hani', '##mada', 'finalized', '##ctable', 'fictitious', 'mayoral', 'unreliable', '##enham', 'embracing', 'peppers', 'rbis', '##chio', '##neo', 'inhibition', 'slashed', 'togo', 'orderly', 'embroidered', 'safari', 'salty', '236', 'barron', 'benito', 'totaled', '##dak', 'pubs', 'simulated', 'caden', 'devin', 'tolkien', 'momma', 'welding', 'sesame', '##ept', 'gottingen', 'hardness', '630', 'shaman', 'temeraire', '620', 'adequately', 'pediatric', '##kit', 'ck', 'assertion', 'radicals', 'composure', 'cadence', 'seafood', 'beaufort', 'lazarus', 'mani', 'warily', 'cunning', 'kurdistan', '249', 'cantata', '##kir', 'ares', '##41', '##clusive', 'nape', 'townland', 'geared', 'insulted', 'flutter', 'boating', 'violate', 'draper', 'dumping', 'malmo', '##hh', '##romatic', 'firearm', 'alta', 'bono', 'obscured', '##clave', 'exceeds', 'panorama', 'unbelievable', '##train', 'preschool', '##essed', 'disconnected', 'installing', 'rescuing', 'secretaries', 'accessibility', '##castle', '##drive', '##ifice', '##film', 'bouts', 'slug', 'waterway', 'mindanao', '##buro', '##ratic', 'halves', '##ل', 'calming', 'liter', 'maternity', 'adorable', 'bragg', 'electrification', 'mcc', '##dote', 'roxy', 'schizophrenia', '##body', 'munoz', 'kaye', 'whaling', '239', 'mil', 'tingling', 'tolerant', '##ago', 'unconventional', 'volcanoes', '##finder', 'deportivo', '##llie', 'robson', 'kaufman', 'neuroscience', 'wai', 'deportation', 'masovian', 'scraping', 'converse', '##bh', 'hacking', 'bulge', '##oun', 'administratively', 'yao', '580', 'amp', 'mammoth', 'booster', 'claremont', 'hooper', 'nomenclature', 'pursuits', 'mclaughlin', 'melinda', '##sul', 'catfish', 'barclay', 'substrates', 'taxa', 'zee', 'originals', 'kimberly', 'packets', 'padma', '##ality', 'borrowing', 'ostensibly', 'solvent', '##bri', '##genesis', '##mist', 'lukas', 'shreveport', 'veracruz', '##ь', '##lou', '##wives', 'cheney', 'tt', 'anatolia', 'hobbs', '##zyn', 'cyclic', 'radiant', 'alistair', 'greenish', 'siena', 'dat', 'independents', '##bation', 'conform', 'pieter', 'hyper', 'applicant', 'bradshaw', 'spores', 'telangana', 'vinci', 'inexpensive', 'nuclei', '322', 'jang', 'nme', 'soho', 'spd', '##ign', 'cradled', 'receptionist', 'pow', '##43', '##rika', 'fascism', '##ifer', 'experimenting', '##ading', '##iec', '##region', '345', 'jocelyn', 'maris', 'stair', 'nocturnal', 'toro', 'constabulary', 'elgin', '##kker', 'msc', '##giving', '##schen', '##rase', 'doherty', 'doping', 'sarcastically', 'batter', 'maneuvers', '##cano', '##apple', '##gai', '##git', 'intrinsic', '##nst', '##stor', '1753', 'showtime', 'cafes', 'gasps', 'lviv', 'ushered', '##thed', 'fours', 'restart', 'astonishment', 'transmitting', 'flyer', 'shrugs', '##sau', 'intriguing', 'cones', 'dictated', 'mushrooms', 'medial', '##kovsky', '##elman', 'escorting', 'gaped', '##26', 'godfather', '##door', '##sell', 'djs', 'recaptured', 'timetable', 'vila', '1710', '3a', 'aerodrome', 'mortals', 'scientology', '##orne', 'angelina', 'mag', 'convection', 'unpaid', 'insertion', 'intermittent', 'lego', '##nated', 'endeavor', 'kota', 'pereira', '##lz', '304', 'bwv', 'glamorgan', 'insults', 'agatha', 'fey', '##cend', 'fleetwood', 'mahogany', 'protruding', 'steamship', 'zeta', '##arty', 'mcguire', 'suspense', '##sphere', 'advising', 'urges', '##wala', 'hurriedly', 'meteor', 'gilded', 'inline', 'arroyo', 'stalker', '##oge', 'excitedly', 'revered', '##cure', 'earle', 'introductory', '##break', '##ilde', 'mutants', 'puff', 'pulses', 'reinforcement', '##haling', 'curses', 'lizards', 'stalk', 'correlated', '##fixed', 'fallout', 'macquarie', '##unas', 'bearded', 'denton', 'heaving', '802', '##ocation', 'winery', 'assign', 'dortmund', '##lkirk', 'everest', 'invariant', 'charismatic', 'susie', '##elling', 'bled', 'lesley', 'telegram', 'sumner', 'bk', '##ogen', '##к', 'wilcox', 'needy', 'colbert', 'duval', '##iferous', '##mbled', 'allotted', 'attends', 'imperative', '##hita', 'replacements', 'hawker', '##inda', 'insurgency', '##zee', '##eke', 'casts', '##yla', '680', 'ives', 'transitioned', '##pack', '##powering', 'authoritative', 'baylor', 'flex', 'cringed', 'plaintiffs', 'woodrow', '##skie', 'drastic', 'ape', 'aroma', 'unfolded', 'commotion', 'nt', 'preoccupied', 'theta', 'routines', 'lasers', 'privatization', 'wand', 'domino', 'ek', 'clenching', 'nsa', 'strategically', 'showered', 'bile', 'handkerchief', 'pere', 'storing', 'christophe', 'insulting', '316', 'nakamura', 'romani', 'asiatic', 'magdalena', 'palma', 'cruises', 'stripping', '405', 'konstantin', 'soaring', '##berman', 'colloquially', 'forerunner', 'havilland', 'incarcerated', 'parasites', 'sincerity', '##utus', 'disks', 'plank', 'saigon', '##ining', 'corbin', 'homo', 'ornaments', 'powerhouse', '##tlement', 'chong', 'fastened', 'feasibility', 'idf', 'morphological', 'usable', '##nish', '##zuki', 'aqueduct', 'jaguars', 'keepers', '##flies', 'aleksandr', 'faust', 'assigns', 'ewing', 'bacterium', 'hurled', 'tricky', 'hungarians', 'integers', 'wallis', '321', 'yamaha', '##isha', 'hushed', 'oblivion', 'aviator', 'evangelist', 'friars', '##eller', 'monograph', 'ode', '##nary', 'airplanes', 'labourers', 'charms', '##nee', '1661', 'hagen', 'tnt', 'rudder', 'fiesta', 'transcript', 'dorothea', 'ska', 'inhibitor', 'maccabi', 'retorted', 'raining', 'encompassed', 'clauses', 'menacing', '1642', 'lineman', '##gist', 'vamps', '##ape', '##dick', 'gloom', '##rera', 'dealings', 'easing', 'seekers', '##nut', '##pment', 'helens', 'unmanned', '##anu', '##isson', 'basics', '##amy', '##ckman', 'adjustments', '1688', 'brutality', 'horne', '##zell', 'sui', '##55', '##mable', 'aggregator', '##thal', 'rhino', '##drick', '##vira', 'counters', 'zoom', '##01', '##rting', 'mn', 'montenegrin', 'packard', '##unciation', '##♭', '##kki', 'reclaim', 'scholastic', 'thugs', 'pulsed', '##icia', 'syriac', 'quan', 'saddam', 'banda', 'kobe', 'blaming', 'buddies', 'dissent', '##lusion', '##usia', 'corbett', 'jaya', 'delle', 'erratic', 'lexie', '##hesis', '435', 'amiga', 'hermes', '##pressing', '##leen', 'chapels', 'gospels', 'jamal', '##uating', 'compute', 'revolving', 'warp', '##sso', '##thes', 'armory', '##eras', '##gol', 'antrim', 'loki', '##kow', '##asian', '##good', '##zano', 'braid', 'handwriting', 'subdistrict', 'funky', 'pantheon', '##iculate', 'concurrency', 'estimation', 'improper', 'juliana', '##his', 'newcomers', 'johnstone', 'staten', 'communicated', '##oco', '##alle', 'sausage', 'stormy', '##stered', '##tters', 'superfamily', '##grade', 'acidic', 'collateral', 'tabloid', '##oped', '##rza', 'bladder', 'austen', '##ellant', 'mcgraw', '##hay', 'hannibal', 'mein', 'aquino', 'lucifer', 'wo', 'badger', 'boar', 'cher', 'christensen', 'greenberg', 'interruption', '##kken', 'jem', '244', 'mocked', 'bottoms', 'cambridgeshire', '##lide', 'sprawling', '##bbly', 'eastwood', 'ghent', 'synth', '##buck', 'advisers', '##bah', 'nominally', 'hapoel', 'qu', 'daggers', 'estranged', 'fabricated', 'towels', 'vinnie', 'wcw', 'misunderstanding', 'anglia', 'nothin', 'unmistakable', '##dust', '##lova', 'chilly', 'marquette', 'truss', '##edge', '##erine', 'reece', '##lty', '##chemist', '##connected', '272', '308', '41st', 'bash', 'raion', 'waterfalls', '##ump', '##main', 'labyrinth', 'queue', 'theorist', '##istle', 'bharatiya', 'flexed', 'soundtracks', 'rooney', 'leftist', 'patrolling', 'wharton', 'plainly', 'alleviate', 'eastman', 'schuster', 'topographic', 'engages', 'immensely', 'unbearable', 'fairchild', '1620', 'dona', 'lurking', 'parisian', 'oliveira', 'ia', 'indictment', 'hahn', 'bangladeshi', '##aster', 'vivo', '##uming', '##ential', 'antonia', 'expects', 'indoors', 'kildare', 'harlan', '##logue', '##ogenic', '##sities', 'forgiven', '##wat', 'childish', 'tavi', '##mide', '##orra', 'plausible', 'grimm', 'successively', 'scooted', '##bola', '##dget', '##rith', 'spartans', 'emery', 'flatly', 'azure', 'epilogue', '##wark', 'flourish', '##iny', '##tracted', '##overs', '##oshi', 'bestseller', 'distressed', 'receipt', 'spitting', 'hermit', 'topological', '##cot', 'drilled', 'subunit', 'francs', '##layer', 'eel', '##fk', '##itas', 'octopus', 'footprint', 'petitions', 'ufo', '##say', '##foil', 'interfering', 'leaking', 'palo', '##metry', 'thistle', 'valiant', '##pic', 'narayan', 'mcpherson', '##fast', 'gonzales', '##ym', '##enne', 'dustin', 'novgorod', 'solos', '##zman', 'doin', '##raph', '##patient', '##meyer', 'soluble', 'ashland', 'cuffs', 'carole', 'pendleton', 'whistling', 'vassal', '##river', 'deviation', 'revisited', 'constituents', 'rallied', 'rotate', 'loomed', '##eil', '##nting', 'amateurs', 'augsburg', 'auschwitz', 'crowns', 'skeletons', '##cona', 'bonnet', '257', 'dummy', 'globalization', 'simeon', 'sleeper', 'mandal', 'differentiated', '##crow', '##mare', 'milne', 'bundled', 'exasperated', 'talmud', 'owes', 'segregated', '##feng', '##uary', 'dentist', 'piracy', 'props', '##rang', 'devlin', '##torium', 'malicious', 'paws', '##laid', 'dependency', '##ergy', '##fers', '##enna', '258', 'pistons', 'rourke', 'jed', 'grammatical', 'tres', 'maha', 'wig', '512', 'ghostly', 'jayne', '##achal', '##creen', '##ilis', '##lins', '##rence', 'designate', '##with', 'arrogance', 'cambodian', 'clones', 'showdown', 'throttle', 'twain', '##ception', 'lobes', 'metz', 'nagoya', '335', 'braking', '##furt', '385', 'roaming', '##minster', 'amin', 'crippled', '##37', '##llary', 'indifferent', 'hoffmann', 'idols', 'intimidating', '1751', '261', 'influenza', 'memo', 'onions', '1748', 'bandage', 'consciously', '##landa', '##rage', 'clandestine', 'observes', 'swiped', 'tangle', '##ener', '##jected', '##trum', '##bill', '##lta', 'hugs', 'congresses', 'josiah', 'spirited', '##dek', 'humanist', 'managerial', 'filmmaking', 'inmate', 'rhymes', 'debuting', 'grimsby', 'ur', '##laze', 'duplicate', 'vigor', '##tf', 'republished', 'bolshevik', 'refurbishment', 'antibiotics', 'martini', 'methane', 'newscasts', 'royale', 'horizons', 'levant', 'iain', 'visas', '##ischen', 'paler', '##around', 'manifestation', 'snuck', 'alf', 'chop', 'futile', 'pedestal', 'rehab', '##kat', 'bmg', 'kerman', 'res', 'fairbanks', 'jarrett', 'abstraction', 'saharan', '##zek', '1746', 'procedural', 'clearer', 'kincaid', 'sash', 'luciano', '##ffey', 'crunch', 'helmut', '##vara', 'revolutionaries', '##tute', 'creamy', 'leach', '##mmon', '1747', 'permitting', 'nes', 'plight', 'wendell', '##lese', 'contra', 'ts', 'clancy', 'ipa', 'mach', 'staples', 'autopsy', 'disturbances', 'nueva', 'karin', 'pontiac', '##uding', 'proxy', 'venerable', 'haunt', 'leto', 'bergman', 'expands', '##helm', 'wal', '##pipe', 'canning', 'celine', 'cords', 'obesity', '##enary', 'intrusion', 'planner', '##phate', 'reasoned', 'sequencing', '307', 'harrow', '##chon', '##dora', 'marred', 'mcintyre', 'repay', 'tarzan', 'darting', '248', 'harrisburg', 'margarita', 'repulsed', '##hur', '##lding', 'belinda', 'hamburger', 'novo', 'compliant', 'runways', 'bingham', 'registrar', 'skyscraper', 'ic', 'cuthbert', 'improvisation', 'livelihood', '##corp', '##elial', 'admiring', '##dened', 'sporadic', 'believer', 'casablanca', 'popcorn', '##29', 'asha', 'shovel', '##bek', '##dice', 'coiled', 'tangible', '##dez', 'casper', 'elsie', 'resin', 'tenderness', 'rectory', '##ivision', 'avail', 'sonar', '##mori', 'boutique', '##dier', 'guerre', 'bathed', 'upbringing', 'vaulted', 'sandals', 'blessings', '##naut', '##utnant', '1680', '306', 'foxes', 'pia', 'corrosion', 'hesitantly', 'confederates', 'crystalline', 'footprints', 'shapiro', 'tirana', 'valentin', 'drones', '45th', 'microscope', 'shipments', 'texted', 'inquisition', 'wry', 'guernsey', 'unauthorized', 'resigning', '760', 'ripple', 'schubert', 'stu', 'reassure', 'felony', '##ardo', 'brittle', 'koreans', '##havan', '##ives', 'dun', 'implicit', 'tyres', '##aldi', '##lth', 'magnolia', '##ehan', '##puri', '##poulos', 'aggressively', 'fei', 'gr', 'familiarity', '##poo', 'indicative', '##trust', 'fundamentally', 'jimmie', 'overrun', '395', 'anchors', 'moans', '##opus', 'britannia', 'armagh', '##ggle', 'purposely', 'seizing', '##vao', 'bewildered', 'mundane', 'avoidance', 'cosmopolitan', 'geometridae', 'quartermaster', 'caf', '415', 'chatter', 'engulfed', 'gleam', 'purge', '##icate', 'juliette', 'jurisprudence', 'guerra', 'revisions', '##bn', 'casimir', 'brew', '##jm', '1749', 'clapton', 'cloudy', 'conde', 'hermitage', '278', 'simulations', 'torches', 'vincenzo', 'matteo', '##rill', 'hidalgo', 'booming', 'westbound', 'accomplishment', 'tentacles', 'unaffected', '##sius', 'annabelle', 'flopped', 'sloping', '##litz', 'dreamer', 'interceptor', 'vu', '##loh', 'consecration', 'copying', 'messaging', 'breaker', 'climates', 'hospitalized', '1752', 'torino', 'afternoons', 'winfield', 'witnessing', '##teacher', 'breakers', 'choirs', 'sawmill', 'coldly', '##ege', 'sipping', 'haste', 'uninhabited', 'conical', 'bibliography', 'pamphlets', 'severn', 'edict', '##oca', 'deux', 'illnesses', 'grips', '##pl', 'rehearsals', 'sis', 'thinkers', 'tame', '##keepers', '1690', 'acacia', 'reformer', '##osed', '##rys', 'shuffling', '##iring', '##shima', 'eastbound', 'ionic', 'rhea', 'flees', 'littered', '##oum', 'rocker', 'vomiting', 'groaning', 'champ', 'overwhelmingly', 'civilizations', 'paces', 'sloop', 'adoptive', '##tish', 'skaters', '##vres', 'aiding', 'mango', '##joy', 'nikola', 'shriek', '##ignon', 'pharmaceuticals', '##mg', 'tuna', 'calvert', 'gustavo', 'stocked', 'yearbook', '##urai', '##mana', 'computed', 'subsp', 'riff', 'hanoi', 'kelvin', 'hamid', 'moors', 'pastures', 'summons', 'jihad', 'nectar', '##ctors', 'bayou', 'untitled', 'pleasing', 'vastly', 'republics', 'intellect', '##η', '##ulio', '##tou', 'crumbling', 'stylistic', 'sb', '##ی', 'consolation', 'frequented', 'h₂o', 'walden', 'widows', '##iens', '404', '##ignment', 'chunks', 'improves', '288', 'grit', 'recited', '##dev', 'snarl', 'sociological', '##arte', '##gul', 'inquired', '##held', 'bruise', 'clube', 'consultancy', 'homogeneous', 'hornets', 'multiplication', 'pasta', 'prick', 'savior', '##grin', '##kou', '##phile', 'yoon', '##gara', 'grimes', 'vanishing', 'cheering', 'reacting', 'bn', 'distillery', '##quisite', '##vity', 'coe', 'dockyard', 'massif', '##jord', 'escorts', 'voss', '##valent', 'byte', 'chopped', 'hawke', 'illusions', 'workings', 'floats', '##koto', '##vac', 'kv', 'annapolis', 'madden', '##onus', 'alvaro', 'noctuidae', '##cum', '##scopic', 'avenge', 'steamboat', 'forte', 'illustrates', 'erika', '##trip', '570', 'dew', 'nationalities', 'bran', 'manifested', 'thirsty', 'diversified', 'muscled', 'reborn', '##standing', 'arson', '##lessness', '##dran', '##logram', '##boys', '##kushima', '##vious', 'willoughby', '##phobia', '286', 'alsace', 'dashboard', 'yuki', '##chai', 'granville', 'myspace', 'publicized', 'tricked', '##gang', 'adjective', '##ater', 'relic', 'reorganisation', 'enthusiastically', 'indications', 'saxe', '##lassified', 'consolidate', 'iec', 'padua', 'helplessly', 'ramps', 'renaming', 'regulars', 'pedestrians', 'accents', 'convicts', 'inaccurate', 'lowers', 'mana', '##pati', 'barrie', 'bjp', 'outta', 'someplace', 'berwick', 'flanking', 'invoked', 'marrow', 'sparsely', 'excerpts', 'clothed', 'rei', '##ginal', 'wept', '##straße', '##vish', 'alexa', 'excel', '##ptive', 'membranes', 'aquitaine', 'creeks', 'cutler', 'sheppard', 'implementations', 'ns', '##dur', 'fragrance', 'budge', 'concordia', 'magnesium', 'marcelo', '##antes', 'gladly', 'vibrating', '##rral', '##ggles', 'montrose', '##omba', 'lew', 'seamus', '1630', 'cocky', '##ament', '##uen', 'bjorn', '##rrick', 'fielder', 'fluttering', '##lase', 'methyl', 'kimberley', 'mcdowell', 'reductions', 'barbed', '##jic', '##tonic', 'aeronautical', 'condensed', 'distracting', '##promising', 'huffed', '##cala', '##sle', 'claudius', 'invincible', 'missy', 'pious', 'balthazar', 'ci', '##lang', 'butte', 'combo', 'orson', '##dication', 'myriad', '1707', 'silenced', '##fed', '##rh', 'coco', 'netball', 'yourselves', '##oza', 'clarify', 'heller', 'peg', 'durban', 'etudes', 'offender', 'roast', 'blackmail', 'curvature', '##woods', 'vile', '309', 'illicit', 'suriname', '##linson', 'overture', '1685', 'bubbling', 'gymnast', 'tucking', '##mming', '##ouin', 'maldives', '##bala', 'gurney', '##dda', '##eased', '##oides', 'backside', 'pinto', 'jars', 'racehorse', 'tending', '##rdial', 'baronetcy', 'wiener', 'duly', '##rke', 'barbarian', 'cupping', 'flawed', '##thesis', 'bertha', 'pleistocene', 'puddle', 'swearing', '##nob', '##tically', 'fleeting', 'prostate', 'amulet', 'educating', '##mined', '##iti', '##tler', '75th', 'jens', 'respondents', 'analytics', 'cavaliers', 'papacy', 'raju', '##iente', '##ulum', '##tip', 'funnel', '271', 'disneyland', '##lley', 'sociologist', '##iam', '2500', 'faulkner', 'louvre', 'menon', '##dson', '276', '##ower', 'afterlife', 'mannheim', 'peptide', 'referees', 'comedians', 'meaningless', '##anger', '##laise', 'fabrics', 'hurley', 'renal', 'sleeps', '##bour', '##icle', 'breakout', 'kristin', 'roadside', 'animator', 'clover', 'disdain', 'unsafe', 'redesign', '##urity', 'firth', 'barnsley', 'portage', 'reset', 'narrows', '268', 'commandos', 'expansive', 'speechless', 'tubular', '##lux', 'essendon', 'eyelashes', 'smashwords', '##yad', '##bang', '##claim', 'craved', 'sprinted', 'chet', 'somme', 'astor', 'wrocław', 'orton', '266', 'bane', '##erving', '##uing', 'mischief', '##amps', '##sund', 'scaling', 'terre', '##xious', 'impairment', 'offenses', 'undermine', 'moi', 'soy', 'contiguous', 'arcadia', 'inuit', 'seam', '##tops', 'macbeth', 'rebelled', '##icative', '##iot', '590', 'elaborated', 'frs', 'uniformed', '##dberg', '259', 'powerless', 'priscilla', 'stimulated', '980', 'qc', 'arboretum', 'frustrating', 'trieste', 'bullock', '##nified', 'enriched', 'glistening', 'intern', '##adia', 'locus', 'nouvelle', 'ollie', 'ike', 'lash', 'starboard', 'ee', 'tapestry', 'headlined', 'hove', 'rigged', '##vite', 'pollock', '##yme', 'thrive', 'clustered', 'cas', 'roi', 'gleamed', 'olympiad', '##lino', 'pressured', 'regimes', '##hosis', '##lick', 'ripley', '##ophone', 'kickoff', 'gallon', 'rockwell', '##arable', 'crusader', 'glue', 'revolutions', 'scrambling', '1714', 'grover', '##jure', 'englishman', 'aztec', '263', 'contemplating', 'coven', 'ipad', 'preach', 'triumphant', 'tufts', '##esian', 'rotational', '##phus', '328', 'falkland', '##brates', 'strewn', 'clarissa', 'rejoin', 'environmentally', 'glint', 'banded', 'drenched', 'moat', 'albanians', 'johor', 'rr', 'maestro', 'malley', 'nouveau', 'shaded', 'taxonomy', 'v6', 'adhere', 'bunk', 'airfields', '##ritan', '1741', 'encompass', 'remington', 'tran', '##erative', 'amelie', 'mazda', 'friar', 'morals', 'passions', '##zai', 'breadth', 'vis', '##hae', 'argus', 'burnham', 'caressing', 'insider', 'rudd', '##imov', '##mini', '##rso', 'italianate', 'murderous', 'textual', 'wainwright', 'armada', 'bam', 'weave', 'timer', '##taken', '##nh', 'fra', '##crest', 'ardent', 'salazar', 'taps', 'tunis', '##ntino', 'allegro', 'gland', 'philanthropic', '##chester', 'implication', '##optera', 'esq', 'judas', 'noticeably', 'wynn', '##dara', 'inched', 'indexed', 'crises', 'villiers', 'bandit', 'royalties', 'patterned', 'cupboard', 'interspersed', 'accessory', 'isla', 'kendrick', 'entourage', 'stitches', '##esthesia', 'headwaters', '##ior', 'interlude', 'distraught', 'draught', '1727', '##basket', 'biased', 'sy', 'transient', 'triad', 'subgenus', 'adapting', 'kidd', 'shortstop', '##umatic', 'dimly', 'spiked', 'mcleod', 'reprint', 'nellie', 'pretoria', 'windmill', '##cek', 'singled', '##mps', '273', 'reunite', '##orous', '747', 'bankers', 'outlying', '##omp', '##ports', '##tream', 'apologies', 'cosmetics', 'patsy', '##deh', '##ocks', '##yson', 'bender', 'nantes', 'serene', '##nad', 'lucha', 'mmm', '323', '##cius', '##gli', 'cmll', 'coinage', 'nestor', 'juarez', '##rook', 'smeared', 'sprayed', 'twitching', 'sterile', 'irina', 'embodied', 'juveniles', 'enveloped', 'miscellaneous', 'cancers', 'dq', 'gulped', 'luisa', 'crested', 'swat', 'donegal', 'ref', '##anov', '##acker', 'hearst', 'mercantile', '##lika', 'doorbell', 'ua', 'vicki', '##alla', '##som', 'bilbao', 'psychologists', 'stryker', 'sw', 'horsemen', 'turkmenistan', 'wits', '##national', 'anson', 'mathew', 'screenings', '##umb', 'rihanna', '##agne', '##nessy', 'aisles', '##iani', '##osphere', 'hines', 'kenton', 'saskatoon', 'tasha', 'truncated', '##champ', '##itan', 'mildred', 'advises', 'fredrik', 'interpreting', 'inhibitors', '##athi', 'spectroscopy', '##hab', '##kong', 'karim', 'panda', '##oia', '##nail', '##vc', 'conqueror', 'kgb', 'leukemia', '##dity', 'arrivals', 'cheered', 'pisa', 'phosphorus', 'shielded', '##riated', 'mammal', 'unitarian', 'urgently', 'chopin', 'sanitary', '##mission', 'spicy', 'drugged', 'hinges', '##tort', 'tipping', 'trier', 'impoverished', 'westchester', '##caster', '267', 'epoch', 'nonstop', '##gman', '##khov', 'aromatic', 'centrally', 'cerro', '##tively', '##vio', 'billions', 'modulation', 'sedimentary', '283', 'facilitating', 'outrageous', 'goldstein', '##eak', '##kt', 'ld', 'maitland', 'penultimate', 'pollard', '##dance', 'fleets', 'spaceship', 'vertebrae', '##nig', 'alcoholism', 'als', 'recital', '##bham', '##ference', '##omics', 'm2', '##bm', 'trois', '##tropical', '##в', 'commemorates', '##meric', 'marge', '##raction', '1643', '670', 'cosmetic', 'ravaged', '##ige', 'catastrophe', 'eng', '##shida', 'albrecht', 'arterial', 'bellamy', 'decor', 'harmon', '##rde', 'bulbs', 'synchronized', 'vito', 'easiest', 'shetland', 'shielding', 'wnba', '##glers', '##ssar', '##riam', 'brianna', 'cumbria', '##aceous', '##rard', 'cores', 'thayer', '##nsk', 'brood', 'hilltop', 'luminous', 'carts', 'keynote', 'larkin', 'logos', '##cta', '##ا', '##mund', '##quay', 'lilith', 'tinted', '277', 'wrestle', 'mobilization', '##uses', 'sequential', 'siam', 'bloomfield', 'takahashi', '274', '##ieving', 'presenters', 'ringo', 'blazed', 'witty', '##oven', '##ignant', 'devastation', 'haydn', 'harmed', 'newt', 'therese', '##peed', 'gershwin', 'molina', 'rabbis', 'sudanese', '001', 'innate', 'restarted', '##sack', '##fus', 'slices', 'wb', '##shah', 'enroll', 'hypothetical', 'hysterical', '1743', 'fabio', 'indefinite', 'warped', '##hg', 'exchanging', '525', 'unsuitable', '##sboro', 'gallo', '1603', 'bret', 'cobalt', 'homemade', '##hunter', 'mx', 'operatives', '##dhar', 'terraces', 'durable', 'latch', 'pens', 'whorls', '##ctuated', '##eaux', 'billing', 'ligament', 'succumbed', '##gly', 'regulators', 'spawn', '##brick', '##stead', 'filmfare', 'rochelle', '##nzo', '1725', 'circumstance', 'saber', 'supplements', '##nsky', '##tson', 'crowe', 'wellesley', 'carrot', '##9th', '##movable', 'primate', 'drury', 'sincerely', 'topical', '##mad', '##rao', 'callahan', 'kyiv', 'smarter', 'tits', 'undo', '##yeh', 'announcements', 'anthologies', 'barrio', 'nebula', '##islaus', '##shaft', '##tyn', 'bodyguards', '2021', 'assassinate', 'barns', 'emmett', 'scully', '##mah', '##yd', '##eland', '##tino', '##itarian', 'demoted', 'gorman', 'lashed', 'prized', 'adventist', 'writ', '##gui', 'alla', 'invertebrates', '##ausen', '1641', 'amman', '1742', 'align', 'healy', 'redistribution', '##gf', '##rize', 'insulation', '##drop', 'adherents', 'hezbollah', 'vitro', 'ferns', 'yanking', '269', 'php', 'registering', 'uppsala', 'cheerleading', 'confines', 'mischievous', 'tully', '##ross', '49th', 'docked', 'roam', 'stipulated', 'pumpkin', '##bry', 'prompt', '##ezer', 'blindly', 'shuddering', 'craftsmen', 'frail', 'scented', 'katharine', 'scramble', 'shaggy', 'sponge', 'helix', 'zaragoza', '279', '##52', '43rd', 'backlash', 'fontaine', 'seizures', 'posse', 'cowan', 'nonfiction', 'telenovela', 'wwii', 'hammered', 'undone', '##gpur', 'encircled', 'irs', '##ivation', 'artefacts', 'oneself', 'searing', 'smallpox', '##belle', '##osaurus', 'shandong', 'breached', 'upland', 'blushing', 'rankin', 'infinitely', 'psyche', 'tolerated', 'docking', 'evicted', '##col', 'unmarked', '##lving', 'gnome', 'lettering', 'litres', 'musique', '##oint', 'benevolent', '##jal', 'blackened', '##anna', 'mccall', 'racers', 'tingle', '##ocene', '##orestation', 'introductions', 'radically', '292', '##hiff', '##باد', '1610', '1739', 'munchen', 'plead', '##nka', 'condo', 'scissors', '##sight', '##tens', 'apprehension', '##cey', '##yin', 'hallmark', 'watering', 'formulas', 'sequels', '##llas', 'aggravated', 'bae', 'commencing', '##building', 'enfield', 'prohibits', 'marne', 'vedic', 'civilized', 'euclidean', 'jagger', 'beforehand', 'blasts', 'dumont', '##arney', '##nem', '740', 'conversions', 'hierarchical', 'rios', 'simulator', '##dya', '##lellan', 'hedges', 'oleg', 'thrusts', 'shadowed', 'darby', 'maximize', '1744', 'gregorian', '##nded', '##routed', 'sham', 'unspecified', '##hog', 'emory', 'factual', '##smo', '##tp', 'fooled', '##rger', 'ortega', 'wellness', 'marlon', '##oton', '##urance', 'casket', 'keating', 'ley', 'enclave', '##ayan', 'char', 'influencing', 'jia', '##chenko', '412', 'ammonia', 'erebidae', 'incompatible', 'violins', 'cornered', '##arat', 'grooves', 'astronauts', 'columbian', 'rampant', 'fabrication', 'kyushu', 'mahmud', 'vanish', '##dern', 'mesopotamia', '##lete', 'ict', '##rgen', 'caspian', 'kenji', 'pitted', '##vered', '999', 'grimace', 'roanoke', 'tchaikovsky', 'twinned', '##analysis', '##awan', 'xinjiang', 'arias', 'clemson', 'kazakh', 'sizable', '1662', '##khand', '##vard', 'plunge', 'tatum', 'vittorio', '##nden', 'cholera', '##dana', '##oper', 'bracing', 'indifference', 'projectile', 'superliga', '##chee', 'realises', 'upgrading', '299', 'porte', 'retribution', '##vies', 'nk', 'stil', '##resses', 'ama', 'bureaucracy', 'blackberry', 'bosch', 'testosterone', 'collapses', 'greer', '##pathic', 'ioc', 'fifties', 'malls', '##erved', 'bao', 'baskets', 'adolescents', 'siegfried', '##osity', '##tosis', 'mantra', 'detecting', 'existent', 'fledgling', '##cchi', 'dissatisfied', 'gan', 'telecommunication', 'mingled', 'sobbed', '6000', 'controversies', 'outdated', 'taxis', '##raus', 'fright', 'slams', '##lham', '##fect', '##tten', 'detectors', 'fetal', 'tanned', '##uw', 'fray', 'goth', 'olympian', 'skipping', 'mandates', 'scratches', 'sheng', 'unspoken', 'hyundai', 'tracey', 'hotspur', 'restrictive', '##buch', 'americana', 'mundo', '##bari', 'burroughs', 'diva', 'vulcan', '##6th', 'distinctions', 'thumping', '##ngen', 'mikey', 'sheds', 'fide', 'rescues', 'springsteen', 'vested', 'valuation', '##ece', '##ely', 'pinnacle', 'rake', 'sylvie', '##edo', 'almond', 'quivering', '##irus', 'alteration', 'faltered', '##wad', '51st', 'hydra', 'ticked', '##kato', 'recommends', '##dicated', 'antigua', 'arjun', 'stagecoach', 'wilfred', 'trickle', 'pronouns', '##pon', 'aryan', 'nighttime', '##anian', 'gall', 'pea', 'stitch', '##hei', 'leung', 'milos', '##dini', 'eritrea', 'nexus', 'starved', 'snowfall', 'kant', 'parasitic', 'cot', 'discus', 'hana', 'strikers', 'appleton', 'kitchens', '##erina', '##partisan', '##itha', '##vius', 'disclose', 'metis', '##channel', '1701', 'tesla', '##vera', 'fitch', '1735', 'blooded', '##tila', 'decimal', '##tang', '##bai', 'cyclones', 'eun', 'bottled', 'peas', 'pensacola', 'basha', 'bolivian', 'crabs', 'boil', 'lanterns', 'partridge', 'roofed', '1645', 'necks', '##phila', 'opined', 'patting', '##kla', '##lland', 'chuckles', 'volta', 'whereupon', '##nche', 'devout', 'euroleague', 'suicidal', '##dee', 'inherently', 'involuntary', 'knitting', 'nasser', '##hide', 'puppets', 'colourful', 'courageous', 'southend', 'stills', 'miraculous', 'hodgson', 'richer', 'rochdale', 'ethernet', 'greta', 'uniting', 'prism', 'umm', '##haya', '##itical', '##utation', 'deterioration', 'pointe', 'prowess', '##ropriation', 'lids', 'scranton', 'billings', 'subcontinent', '##koff', '##scope', 'brute', 'kellogg', 'psalms', 'degraded', '##vez', 'stanisław', '##ructured', 'ferreira', 'pun', 'astonishing', 'gunnar', '##yat', 'arya', 'prc', 'gottfried', '##tight', 'excursion', '##ographer', 'dina', '##quil', '##nare', 'huffington', 'illustrious', 'wilbur', 'gundam', 'verandah', '##zard', 'naacp', '##odle', 'constructive', 'fjord', 'kade', '##naud', 'generosity', 'thrilling', 'baseline', 'cayman', 'frankish', 'plastics', 'accommodations', 'zoological', '##fting', 'cedric', 'qb', 'motorized', '##dome', '##otted', 'squealed', 'tackled', 'canucks', 'budgets', 'situ', 'asthma', 'dail', 'gabled', 'grasslands', 'whimpered', 'writhing', 'judgments', '##65', 'minnie', 'pv', '##carbon', 'bananas', 'grille', 'domes', 'monique', 'odin', 'maguire', 'markham', 'tierney', '##estra', '##chua', 'libel', 'poke', 'speedy', 'atrium', 'laval', 'notwithstanding', '##edly', 'fai', 'kala', '##sur', 'robb', '##sma', 'listings', 'luz', 'supplementary', 'tianjin', '##acing', 'enzo', 'jd', 'ric', 'scanner', 'croats', 'transcribed', '##49', 'arden', 'cv', '##hair', '##raphy', '##lver', '##uy', '357', 'seventies', 'staggering', 'alam', 'horticultural', 'hs', 'regression', 'timbers', 'blasting', '##ounded', 'montagu', 'manipulating', '##cit', 'catalytic', '1550', 'troopers', '##meo', 'condemnation', 'fitzpatrick', '##oire', '##roved', 'inexperienced', '1670', 'castes', '##lative', 'outing', '314', 'dubois', 'flicking', 'quarrel', 'ste', 'learners', '1625', 'iq', 'whistled', '##class', '282', 'classify', 'tariffs', 'temperament', '355', 'folly', 'liszt', '##yles', 'immersed', 'jordanian', 'ceasefire', 'apparel', 'extras', 'maru', 'fished', '##bio', 'harta', 'stockport', 'assortment', 'craftsman', 'paralysis', 'transmitters', '##cola', 'blindness', '##wk', 'fatally', 'proficiency', 'solemnly', '##orno', 'repairing', 'amore', 'groceries', 'ultraviolet', '##chase', 'schoolhouse', '##tua', 'resurgence', 'nailed', '##otype', '##×', 'ruse', 'saliva', 'diagrams', '##tructing', 'albans', 'rann', 'thirties', '1b', 'antennas', 'hilarious', 'cougars', 'paddington', 'stats', '##eger', 'breakaway', 'ipod', 'reza', 'authorship', 'prohibiting', 'scoffed', '##etz', '##ttle', 'conscription', 'defected', 'trondheim', '##fires', 'ivanov', 'keenan', '##adan', '##ciful', '##fb', '##slow', 'locating', '##ials', '##tford', 'cadiz', 'basalt', 'blankly', 'interned', 'rags', 'rattling', '##tick', 'carpathian', 'reassured', 'sync', 'bum', 'guildford', 'iss', 'staunch', '##onga', 'astronomers', 'sera', 'sofie', 'emergencies', 'susquehanna', '##heard', 'duc', 'mastery', 'vh1', 'williamsburg', 'bayer', 'buckled', 'craving', '##khan', '##rdes', 'bloomington', '##write', 'alton', 'barbecue', '##bians', 'justine', '##hri', '##ndt', 'delightful', 'smartphone', 'newtown', 'photon', 'retrieval', 'peugeot', 'hissing', '##monium', '##orough', 'flavors', 'lighted', 'relaunched', 'tainted', '##games', '##lysis', 'anarchy', 'microscopic', 'hopping', 'adept', 'evade', 'evie', '##beau', 'inhibit', 'sinn', 'adjustable', 'hurst', 'intuition', 'wilton', 'cisco', '44th', 'lawful', 'lowlands', 'stockings', 'thierry', '##dalen', '##hila', '##nai', 'fates', 'prank', 'tb', 'maison', 'lobbied', 'provocative', '1724', '4a', 'utopia', '##qual', 'carbonate', 'gujarati', 'purcell', '##rford', 'curtiss', '##mei', 'overgrown', 'arenas', 'mediation', 'swallows', '##rnik', 'respectful', 'turnbull', '##hedron', '##hope', 'alyssa', 'ozone', '##ʻi', 'ami', 'gestapo', 'johansson', 'snooker', 'canteen', 'cuff', 'declines', 'empathy', 'stigma', '##ags', '##iner', '##raine', 'taxpayers', 'gui', 'volga', '##wright', '##copic', 'lifespan', 'overcame', 'tattooed', 'enactment', 'giggles', '##ador', '##camp', 'barrington', 'bribe', 'obligatory', 'orbiting', 'peng', '##enas', 'elusive', 'sucker', '##vating', 'cong', 'hardship', 'empowered', 'anticipating', 'estrada', 'cryptic', 'greasy', 'detainees', 'planck', 'sudbury', 'plaid', 'dod', 'marriott', 'kayla', '##ears', '##vb', '##zd', 'mortally', '##hein', 'cognition', 'radha', '319', 'liechtenstein', 'meade', 'richly', 'argyle', 'harpsichord', 'liberalism', 'trumpets', 'lauded', 'tyrant', 'salsa', 'tiled', 'lear', 'promoters', 'reused', 'slicing', 'trident', '##chuk', '##gami', '##lka', 'cantor', 'checkpoint', '##points', 'gaul', 'leger', 'mammalian', '##tov', '##aar', '##schaft', 'doha', 'frenchman', 'nirvana', '##vino', 'delgado', 'headlining', '##eron', '##iography', 'jug', 'tko', '1649', 'naga', 'intersections', '##jia', 'benfica', 'nawab', '##suka', 'ashford', 'gulp', '##deck', '##vill', '##rug', 'brentford', 'frazier', 'pleasures', 'dunne', 'potsdam', 'shenzhen', 'dentistry', '##tec', 'flanagan', '##dorff', '##hear', 'chorale', 'dinah', 'prem', 'quezon', '##rogated', 'relinquished', 'sutra', 'terri', '##pani', 'flaps', '##rissa', 'poly', '##rnet', 'homme', 'aback', '##eki', 'linger', 'womb', '##kson', '##lewood', 'doorstep', 'orthodoxy', 'threaded', 'westfield', '##rval', 'dioceses', 'fridays', 'subsided', '##gata', 'loyalists', '##biotic', '##ettes', 'letterman', 'lunatic', 'prelate', 'tenderly', 'invariably', 'souza', 'thug', 'winslow', '##otide', 'furlongs', 'gogh', 'jeopardy', '##runa', 'pegasus', '##umble', 'humiliated', 'standalone', 'tagged', '##roller', 'freshmen', 'klan', '##bright', 'attaining', 'initiating', 'transatlantic', 'logged', 'viz', '##uance', '1723', 'combatants', 'intervening', 'stephane', 'chieftain', 'despised', 'grazed', '317', 'cdc', 'galveston', 'godzilla', 'macro', 'simulate', '##planes', 'parades', '##esses', '960', '##ductive', '##unes', 'equator', 'overdose', '##cans', '##hosh', '##lifting', 'joshi', 'epstein', 'sonora', 'treacherous', 'aquatics', 'manchu', 'responsive', '##sation', 'supervisory', '##christ', '##llins', '##ibar', '##balance', '##uso', 'kimball', 'karlsruhe', 'mab', '##emy', 'ignores', 'phonetic', 'reuters', 'spaghetti', '820', 'almighty', 'danzig', 'rumbling', 'tombstone', 'designations', 'lured', 'outset', '##felt', 'supermarkets', '##wt', 'grupo', 'kei', 'kraft', 'susanna', '##blood', 'comprehension', 'genealogy', '##aghan', '##verted', 'redding', '##ythe', '1722', 'bowing', '##pore', '##roi', 'lest', 'sharpened', 'fulbright', 'valkyrie', 'sikhs', '##unds', 'swans', 'bouquet', 'merritt', '##tage', '##venting', 'commuted', 'redhead', 'clerks', 'leasing', 'cesare', 'dea', 'hazy', '##vances', 'fledged', 'greenfield', 'servicemen', '##gical', 'armando', 'blackout', 'dt', 'sagged', 'downloadable', 'intra', 'potion', 'pods', '##4th', '##mism', 'xp', 'attendants', 'gambia', 'stale', '##ntine', 'plump', 'asteroids', 'rediscovered', 'buds', 'flea', 'hive', '##neas', '1737', 'classifications', 'debuts', '##eles', 'olympus', 'scala', '##eurs', '##gno', '##mute', 'hummed', 'sigismund', 'visuals', 'wiggled', 'await', 'pilasters', 'clench', 'sulfate', '##ances', 'bellevue', 'enigma', 'trainee', 'snort', '##sw', 'clouded', 'denim', '##rank', '##rder', 'churning', 'hartman', 'lodges', 'riches', 'sima', '##missible', 'accountable', 'socrates', 'regulates', 'mueller', '##cr', '1702', 'avoids', 'solids', 'himalayas', 'nutrient', 'pup', '##jevic', 'squat', 'fades', 'nec', '##lates', '##pina', '##rona', '##ου', 'privateer', 'tequila', '##gative', '##mpton', 'apt', 'hornet', 'immortals', '##dou', 'asturias', 'cleansing', 'dario', '##rries', '##anta', 'etymology', 'servicing', 'zhejiang', '##venor', '##nx', 'horned', 'erasmus', 'rayon', 'relocating', '£10', '##bags', 'escalated', 'promenade', 'stubble', '2010s', 'artisans', 'axial', 'liquids', 'mora', 'sho', 'yoo', '##tsky', 'bundles', 'oldies', '##nally', 'notification', 'bastion', '##ths', 'sparkle', '##lved', '1728', 'leash', 'pathogen', 'highs', '##hmi', 'immature', '880', 'gonzaga', 'ignatius', 'mansions', 'monterrey', 'sweets', 'bryson', '##loe', 'polled', 'regatta', 'brightest', 'pei', 'rosy', 'squid', 'hatfield', 'payroll', 'addict', 'meath', 'cornerback', 'heaviest', 'lodging', '##mage', 'capcom', 'rippled', '##sily', 'barnet', 'mayhem', 'ymca', 'snuggled', 'rousseau', '##cute', 'blanchard', '284', 'fragmented', 'leighton', 'chromosomes', 'risking', '##md', '##strel', '##utter', 'corinne', 'coyotes', 'cynical', 'hiroshi', 'yeomanry', '##ractive', 'ebook', 'grading', 'mandela', 'plume', 'agustin', 'magdalene', '##rkin', 'bea', 'femme', 'trafford', '##coll', '##lun', '##tance', '52nd', 'fourier', 'upton', '##mental', 'camilla', 'gust', 'iihf', 'islamabad', 'longevity', '##kala', 'feldman', 'netting', '##rization', 'endeavour', 'foraging', 'mfa', 'orr', '##open', 'greyish', 'contradiction', 'graz', '##ruff', 'handicapped', 'marlene', 'tweed', 'oaxaca', 'spp', 'campos', 'miocene', 'pri', 'configured', 'cooks', 'pluto', 'cozy', 'pornographic', '##entes', '70th', 'fairness', 'glided', 'jonny', 'lynne', 'rounding', 'sired', '##emon', '##nist', 'remade', 'uncover', '##mack', 'complied', 'lei', 'newsweek', '##jured', '##parts', '##enting', '##pg', '293', 'finer', 'guerrillas', 'athenian', 'deng', 'disused', 'stepmother', 'accuse', 'gingerly', 'seduction', '521', 'confronting', '##walker', '##going', 'gora', 'nostalgia', 'sabres', 'virginity', 'wrenched', '##minated', 'syndication', 'wielding', 'eyre', '##56', '##gnon', '##igny', 'behaved', 'taxpayer', 'sweeps', '##growth', 'childless', 'gallant', '##ywood', 'amplified', 'geraldine', 'scrape', '##ffi', 'babylonian', 'fresco', '##rdan', '##kney', '##position', '1718', 'restricting', 'tack', 'fukuoka', 'osborn', 'selector', 'partnering', '##dlow', '318', 'gnu', 'kia', 'tak', 'whitley', 'gables', '##54', '##mania', 'mri', 'softness', 'immersion', '##bots', '##evsky', '1713', 'chilling', 'insignificant', 'pcs', '##uis', 'elites', 'lina', 'purported', 'supplemental', 'teaming', '##americana', '##dding', '##inton', 'proficient', 'rouen', '##nage', '##rret', 'niccolo', 'selects', '##bread', 'fluffy', '1621', 'gruff', 'knotted', 'mukherjee', 'polgara', 'thrash', 'nicholls', 'secluded', 'smoothing', 'thru', 'corsica', 'loaf', 'whitaker', 'inquiries', '##rrier', '##kam', 'indochina', '289', 'marlins', 'myles', 'peking', '##tea', 'extracts', 'pastry', 'superhuman', 'connacht', 'vogel', '##ditional', '##het', '##udged', '##lash', 'gloss', 'quarries', 'refit', 'teaser', '##alic', '##gaon', '20s', 'materialized', 'sling', 'camped', 'pickering', 'tung', 'tracker', 'pursuant', '##cide', 'cranes', 'soc', '##cini', '##typical', '##viere', 'anhalt', 'overboard', 'workout', 'chores', 'fares', 'orphaned', 'stains', '##logie', 'fenton', 'surpassing', 'joyah', 'triggers', '##itte', 'grandmaster', '##lass', '##lists', 'clapping', 'fraudulent', 'ledger', 'nagasaki', '##cor', '##nosis', '##tsa', 'eucalyptus', 'tun', '##icio', '##rney', '##tara', 'dax', 'heroism', 'ina', 'wrexham', 'onboard', 'unsigned', '##dates', 'moshe', 'galley', 'winnie', 'droplets', 'exiles', 'praises', 'watered', 'noodles', '##aia', 'fein', 'adi', 'leland', 'multicultural', 'stink', 'bingo', 'comets', 'erskine', 'modernized', 'canned', 'constraint', 'domestically', 'chemotherapy', 'featherweight', 'stifled', '##mum', 'darkly', 'irresistible', 'refreshing', 'hasty', 'isolate', '##oys', 'kitchener', 'planners', '##wehr', 'cages', 'yarn', 'implant', 'toulon', 'elects', 'childbirth', 'yue', '##lind', '##lone', 'cn', 'rightful', 'sportsman', 'junctions', 'remodeled', 'specifies', '##rgh', '291', '##oons', 'complimented', '##urgent', 'lister', 'ot', '##logic', 'bequeathed', 'cheekbones', 'fontana', 'gabby', '##dial', 'amadeus', 'corrugated', 'maverick', 'resented', 'triangles', '##hered', '##usly', 'nazareth', 'tyrol', '1675', 'assent', 'poorer', 'sectional', 'aegean', '##cous', '296', 'nylon', 'ghanaian', '##egorical', '##weig', 'cushions', 'forbid', 'fusiliers', 'obstruction', 'somerville', '##scia', 'dime', 'earrings', 'elliptical', 'leyte', 'oder', 'polymers', 'timmy', 'atm', 'midtown', 'piloted', 'settles', 'continual', 'externally', 'mayfield', '##uh', 'enrichment', 'henson', 'keane', 'persians', '1733', 'benji', 'braden', 'pep', '324', '##efe', 'contenders', 'pepsi', 'valet', '##isches', '298', '##asse', '##earing', 'goofy', 'stroll', '##amen', 'authoritarian', 'occurrences', 'adversary', 'ahmedabad', 'tangent', 'toppled', 'dorchester', '1672', 'modernism', 'marxism', 'islamist', 'charlemagne', 'exponential', 'racks', 'unicode', 'brunette', 'mbc', 'pic', 'skirmish', '##bund', '##lad', '##powered', '##yst', 'hoisted', 'messina', 'shatter', '##ctum', 'jedi', 'vantage', '##music', '##neil', 'clemens', 'mahmoud', 'corrupted', 'authentication', 'lowry', 'nils', '##washed', 'omnibus', 'wounding', 'jillian', '##itors', '##opped', 'serialized', 'narcotics', 'handheld', '##arm', '##plicity', 'intersecting', 'stimulating', '##onis', 'crate', 'fellowships', 'hemingway', 'casinos', 'climatic', 'fordham', 'copeland', 'drip', 'beatty', 'leaflets', 'robber', 'brothel', 'madeira', '##hedral', 'sphinx', 'ultrasound', '##vana', 'valor', 'forbade', 'leonid', 'villas', '##aldo', 'duane', 'marquez', '##cytes', 'disadvantaged', 'forearms', 'kawasaki', 'reacts', 'consular', 'lax', 'uncles', 'uphold', '##hopper', 'concepcion', 'dorsey', 'lass', '##izan', 'arching', 'passageway', '1708', 'researches', 'tia', 'internationals', '##graphs', '##opers', 'distinguishes', 'javanese', 'divert', '##uven', 'plotted', '##listic', '##rwin', '##erik', '##tify', 'affirmative', 'signifies', 'validation', '##bson', 'kari', 'felicity', 'georgina', 'zulu', '##eros', '##rained', '##rath', 'overcoming', '##dot', 'argyll', '##rbin', '1734', 'chiba', 'ratification', 'windy', 'earls', 'parapet', '##marks', 'hunan', 'pristine', 'astrid', 'punta', '##gart', 'brodie', '##kota', '##oder', 'malaga', 'minerva', 'rouse', '##phonic', 'bellowed', 'pagoda', 'portals', 'reclamation', '##gur', '##odies', '##⁄₄', 'parentheses', 'quoting', 'allergic', 'palette', 'showcases', 'benefactor', 'heartland', 'nonlinear', '##tness', 'bladed', 'cheerfully', 'scans', '##ety', '##hone', '1666', 'girlfriends', 'pedersen', 'hiram', 'sous', '##liche', '##nator', '1683', '##nery', '##orio', '##umen', 'bobo', 'primaries', 'smiley', '##cb', 'unearthed', 'uniformly', 'fis', 'metadata', '1635', 'ind', '##oted', 'recoil', '##titles', '##tura', '##ια', '406', 'hilbert', 'jamestown', 'mcmillan', 'tulane', 'seychelles', '##frid', 'antics', 'coli', 'fated', 'stucco', '##grants', '1654', 'bulky', 'accolades', 'arrays', 'caledonian', 'carnage', 'optimism', 'puebla', '##tative', '##cave', 'enforcing', 'rotherham', 'seo', 'dunlop', 'aeronautics', 'chimed', 'incline', 'zoning', 'archduke', 'hellenistic', '##oses', '##sions', 'candi', 'thong', '##ople', 'magnate', 'rustic', '##rsk', 'projective', 'slant', '##offs', 'danes', 'hollis', 'vocalists', '##ammed', 'congenital', 'contend', 'gesellschaft', '##ocating', '##pressive', 'douglass', 'quieter', '##cm', '##kshi', 'howled', 'salim', 'spontaneously', 'townsville', 'buena', 'southport', '##bold', 'kato', '1638', 'faerie', 'stiffly', '##vus', '##rled', '297', 'flawless', 'realising', 'taboo', '##7th', 'bytes', 'straightening', '356', 'jena', '##hid', '##rmin', 'cartwright', 'berber', 'bertram', 'soloists', '411', 'noses', '417', 'coping', 'fission', 'hardin', 'inca', '##cen', '1717', 'mobilized', 'vhf', '##raf', 'biscuits', 'curate', '##85', '##anial', '331', 'gaunt', 'neighbourhoods', '1540', '##abas', 'blanca', 'bypassed', 'sockets', 'behold', 'coincidentally', '##bane', 'nara', 'shave', 'splinter', 'terrific', '##arion', '##erian', 'commonplace', 'juris', 'redwood', 'waistband', 'boxed', 'caitlin', 'fingerprints', 'jennie', 'naturalized', '##ired', 'balfour', 'craters', 'jody', 'bungalow', 'hugely', 'quilt', 'glitter', 'pigeons', 'undertaker', 'bulging', 'constrained', 'goo', '##sil', '##akh', 'assimilation', 'reworked', '##person', 'persuasion', '##pants', 'felicia', '##cliff', '##ulent', '1732', 'explodes', '##dun', '##inium', '##zic', 'lyman', 'vulture', 'hog', 'overlook', 'begs', 'northwards', 'ow', 'spoil', '##urer', 'fatima', 'favorably', 'accumulate', 'sargent', 'sorority', 'corresponded', 'dispersal', 'kochi', 'toned', '##imi', '##lita', 'internacional', 'newfound', '##agger', '##lynn', '##rigue', 'booths', 'peanuts', '##eborg', 'medicare', 'muriel', 'nur', '##uram', 'crates', 'millennia', 'pajamas', 'worsened', '##breakers', 'jimi', 'vanuatu', 'yawned', '##udeau', 'carousel', '##hony', 'hurdle', '##ccus', '##mounted', '##pod', 'rv', '##eche', 'airship', 'ambiguity', 'compulsion', 'recapture', '##claiming', 'arthritis', '##osomal', '1667', 'asserting', 'ngc', 'sniffing', 'dade', 'discontent', 'glendale', 'ported', '##amina', 'defamation', 'rammed', '##scent', 'fling', 'livingstone', '##fleet', '875', '##ppy', 'apocalyptic', 'comrade', 'lcd', '##lowe', 'cessna', 'eine', 'persecuted', 'subsistence', 'demi', 'hoop', 'reliefs', '710', 'coptic', 'progressing', 'stemmed', 'perpetrators', '1665', 'priestess', '##nio', 'dobson', 'ebony', 'rooster', 'itf', 'tortricidae', '##bbon', '##jian', 'cleanup', '##jean', '##øy', '1721', 'eighties', 'taxonomic', 'holiness', '##hearted', '##spar', 'antilles', 'showcasing', 'stabilized', '##nb', 'gia', 'mascara', 'michelangelo', 'dawned', '##uria', '##vinsky', 'extinguished', 'fitz', 'grotesque', '£100', '##fera', '##loid', '##mous', 'barges', 'neue', 'throbbed', 'cipher', 'johnnie', '##a1', '##mpt', 'outburst', '##swick', 'spearheaded', 'administrations', 'c1', 'heartbreak', 'pixels', 'pleasantly', '##enay', 'lombardy', 'plush', '##nsed', 'bobbie', '##hly', 'reapers', 'tremor', 'xiang', 'minogue', 'substantive', 'hitch', 'barak', '##wyl', 'kwan', '##encia', '910', 'obscene', 'elegance', 'indus', 'surfer', 'bribery', 'conserve', '##hyllum', '##masters', 'horatio', '##fat', 'apes', 'rebound', 'psychotic', '##pour', 'iteration', '##mium', '##vani', 'botanic', 'horribly', 'antiques', 'dispose', 'paxton', '##hli', '##wg', 'timeless', '1704', 'disregard', 'engraver', 'hounds', '##bau', '##version', 'looted', 'uno', 'facilitates', 'groans', 'masjid', 'rutland', 'antibody', 'disqualification', 'decatur', 'footballers', 'quake', 'slacks', '48th', 'rein', 'scribe', 'stabilize', 'commits', 'exemplary', 'tho', '##hort', '##chison', 'pantry', 'traversed', '##hiti', 'disrepair', 'identifiable', 'vibrated', 'baccalaureate', '##nnis', 'csa', 'interviewing', '##iensis', '##raße', 'greaves', 'wealthiest', '343', 'classed', 'jogged', '£5', '##58', '##atal', 'illuminating', 'knicks', 'respecting', '##uno', 'scrubbed', '##iji', '##dles', 'kruger', 'moods', 'growls', 'raider', 'silvia', 'chefs', 'kam', 'vr', 'cree', 'percival', '##terol', 'gunter', 'counterattack', 'defiant', 'henan', 'ze', '##rasia', '##riety', 'equivalence', 'submissions', '##fra', '##thor', 'bautista', 'mechanically', '##heater', 'cornice', 'herbal', 'templar', '##mering', 'outputs', 'ruining', 'ligand', 'renumbered', 'extravagant', 'mika', 'blockbuster', 'eta', 'insurrection', '##ilia', 'darkening', 'ferocious', 'pianos', 'strife', 'kinship', '##aer', 'melee', '##anor', '##iste', '##may', '##oue', 'decidedly', 'weep', '##jad', '##missive', '##ppel', '354', 'puget', 'unease', '##gnant', '1629', 'hammering', 'kassel', 'ob', 'wessex', '##lga', 'bromwich', 'egan', 'paranoia', 'utilization', '##atable', '##idad', 'contradictory', 'provoke', '##ols', '##ouring', '##tangled', 'knesset', '##very', '##lette', 'plumbing', '##sden', '##¹', 'greensboro', 'occult', 'sniff', '338', 'zev', 'beaming', 'gamer', 'haggard', 'mahal', '##olt', '##pins', 'mendes', 'utmost', 'briefing', 'gunnery', '##gut', '##pher', '##zh', '##rok', '1679', 'khalifa', 'sonya', '##boot', 'principals', 'urbana', 'wiring', '##liffe', '##minating', '##rrado', 'dahl', 'nyu', 'skepticism', 'np', 'townspeople', 'ithaca', 'lobster', 'somethin', '##fur', '##arina', '##−1', 'freighter', 'zimmerman', 'biceps', 'contractual', '##herton', 'amend', 'hurrying', 'subconscious', '##anal', '336', 'meng', 'clermont', 'spawning', '##eia', '##lub', 'dignitaries', 'impetus', 'snacks', 'spotting', 'twigs', '##bilis', '##cz', '##ouk', 'libertadores', 'nic', 'skylar', '##aina', '##firm', 'gustave', 'asean', '##anum', 'dieter', 'legislatures', 'flirt', 'bromley', 'trolls', 'umar', '##bbies', '##tyle', 'blah', 'parc', 'bridgeport', 'crank', 'negligence', '##nction', '46th', 'constantin', 'molded', 'bandages', 'seriousness', '00pm', 'siegel', 'carpets', 'compartments', 'upbeat', 'statehood', '##dner', '##edging', 'marko', '730', 'platt', '##hane', 'paving', '##iy', '1738', 'abbess', 'impatience', 'limousine', 'nbl', '##talk', '441', 'lucille', 'mojo', 'nightfall', 'robbers', '##nais', 'karel', 'brisk', 'calves', 'replicate', 'ascribed', 'telescopes', '##olf', 'intimidated', '##reen', 'ballast', 'specialization', '##sit', 'aerodynamic', 'caliphate', 'rainer', 'visionary', '##arded', 'epsilon', '##aday', '##onte', 'aggregation', 'auditory', 'boosted', 'reunification', 'kathmandu', 'loco', 'robyn', '402', 'acknowledges', 'appointing', 'humanoid', 'newell', 'redeveloped', 'restraints', '##tained', 'barbarians', 'chopper', '1609', 'italiana', '##lez', '##lho', 'investigates', 'wrestlemania', '##anies', '##bib', '690', '##falls', 'creaked', 'dragoons', 'gravely', 'minions', 'stupidity', 'volley', '##harat', '##week', 'musik', '##eries', '##uously', 'fungal', 'massimo', 'semantics', 'malvern', '##ahl', '##pee', 'discourage', 'embryo', 'imperialism', '1910s', 'profoundly', '##ddled', 'jiangsu', 'sparkled', 'stat', '##holz', 'sweatshirt', 'tobin', '##iction', 'sneered', '##cheon', '##oit', 'brit', 'causal', 'smyth', '##neuve', 'diffuse', 'perrin', 'silvio', '##ipes', '##recht', 'detonated', 'iqbal', 'selma', '##nism', '##zumi', 'roasted', '##riders', 'tay', '##ados', '##mament', '##mut', '##rud', '840', 'completes', 'nipples', 'cfa', 'flavour', 'hirsch', '##laus', 'calderon', 'sneakers', 'moravian', '##ksha', '1622', 'rq', '294', '##imeters', 'bodo', '##isance', '##pre', '##ronia', 'anatomical', 'excerpt', '##lke', 'dh', 'kunst', '##tablished', '##scoe', 'biomass', 'panted', 'unharmed', 'gael', 'housemates', 'montpellier', '##59', 'coa', 'rodents', 'tonic', 'hickory', 'singleton', '##taro', '451', '1719', 'aldo', 'breaststroke', 'dempsey', 'och', 'rocco', '##cuit', 'merton', 'dissemination', 'midsummer', 'serials', '##idi', 'haji', 'polynomials', '##rdon', 'gs', 'enoch', 'prematurely', 'shutter', 'taunton', '£3', '##grating', '##inates', 'archangel', 'harassed', '##asco', '326', 'archway', 'dazzling', '##ecin', '1736', 'sumo', 'wat', '##kovich', '1086', 'honneur', '##ently', '##nostic', '##ttal', '##idon', '1605', '403', '1716', 'blogger', 'rents', '##gnan', 'hires', '##ikh', '##dant', 'howie', '##rons', 'handler', 'retracted', 'shocks', '1632', 'arun', 'duluth', 'kepler', 'trumpeter', '##lary', 'peeking', 'seasoned', 'trooper', '##mara', 'laszlo', '##iciencies', '##rti', 'heterosexual', '##inatory', '##ssion', 'indira', 'jogging', '##inga', '##lism', 'beit', 'dissatisfaction', 'malice', '##ately', 'nedra', 'peeling', '##rgeon', '47th', 'stadiums', '475', 'vertigo', '##ains', 'iced', 'restroom', '##plify', '##tub', 'illustrating', 'pear', '##chner', '##sibility', 'inorganic', 'rappers', 'receipts', 'watery', '##kura', 'lucinda', '##oulos', 'reintroduced', '##8th', '##tched', 'gracefully', 'saxons', 'nutritional', 'wastewater', 'rained', 'favourites', 'bedrock', 'fisted', 'hallways', 'likeness', 'upscale', '##lateral', '1580', 'blinds', 'prequel', '##pps', '##tama', 'deter', 'humiliating', 'restraining', 'tn', 'vents', '1659', 'laundering', 'recess', 'rosary', 'tractors', 'coulter', 'federer', '##ifiers', '##plin', 'persistence', '##quitable', 'geschichte', 'pendulum', 'quakers', '##beam', 'bassett', 'pictorial', 'buffet', 'koln', '##sitor', 'drills', 'reciprocal', 'shooters', '##57', '##cton', '##tees', 'converge', 'pip', 'dmitri', 'donnelly', 'yamamoto', 'aqua', 'azores', 'demographics', 'hypnotic', 'spitfire', 'suspend', 'wryly', 'roderick', '##rran', 'sebastien', '##asurable', 'mavericks', '##fles', '##200', 'himalayan', 'prodigy', '##iance', 'transvaal', 'demonstrators', 'handcuffs', 'dodged', 'mcnamara', 'sublime', '1726', 'crazed', '##efined', '##till', 'ivo', 'pondered', 'reconciled', 'shrill', 'sava', '##duk', 'bal', 'cad', 'heresy', 'jaipur', 'goran', '##nished', '341', 'lux', 'shelly', 'whitehall', '##hre', 'israelis', 'peacekeeping', '##wled', '1703', 'demetrius', 'ousted', '##arians', '##zos', 'beale', 'anwar', 'backstroke', 'raged', 'shrinking', 'cremated', '##yck', 'benign', 'towing', 'wadi', 'darmstadt', 'landfill', 'parana', 'soothe', 'colleen', 'sidewalks', 'mayfair', 'tumble', 'hepatitis', 'ferrer', 'superstructure', '##gingly', '##urse', '##wee', 'anthropological', 'translators', '##mies', 'closeness', 'hooves', '##pw', 'mondays', '##roll', '##vita', 'landscaping', '##urized', 'purification', 'sock', 'thorns', 'thwarted', 'jalan', 'tiberius', '##taka', 'saline', '##rito', 'confidently', 'khyber', 'sculptors', '##ij', 'brahms', 'hammersmith', 'inspectors', 'battista', 'fivb', 'fragmentation', 'hackney', '##uls', 'arresting', 'exercising', 'antoinette', 'bedfordshire', '##zily', 'dyed', '##hema', '1656', 'racetrack', 'variability', '##tique', '1655', 'austrians', 'deteriorating', 'madman', 'theorists', 'aix', 'lehman', 'weathered', '1731', 'decreed', 'eruptions', '1729', 'flaw', 'quinlan', 'sorbonne', 'flutes', 'nunez', '1711', 'adored', 'downwards', 'fable', 'rasped', '1712', 'moritz', 'mouthful', 'renegade', 'shivers', 'stunts', 'dysfunction', 'restrain', 'translit', '327', 'pancakes', '##avio', '##cision', '##tray', '351', 'vial', '##lden', 'bain', '##maid', '##oxide', 'chihuahua', 'malacca', 'vimes', '##rba', '##rnier', '1664', 'donnie', 'plaques', '##ually', '337', 'bangs', 'floppy', 'huntsville', 'loretta', 'nikolay', '##otte', 'eater', 'handgun', 'ubiquitous', '##hett', 'eras', 'zodiac', '1634', '##omorphic', '1820s', '##zog', 'cochran', '##bula', '##lithic', 'warring', '##rada', 'dalai', 'excused', 'blazers', 'mcconnell', 'reeling', 'bot', 'este', '##abi', 'geese', 'hoax', 'taxon', '##bla', 'guitarists', '##icon', 'condemning', 'hunts', 'inversion', 'moffat', 'taekwondo', '##lvis', '1624', 'stammered', '##rest', '##rzy', 'sousa', 'fundraiser', 'marylebone', 'navigable', 'uptown', 'cabbage', 'daniela', 'salman', 'shitty', 'whimper', '##kian', '##utive', 'programmers', 'protections', 'rm', '##rmi', '##rued', 'forceful', '##enes', 'fuss', '##tao', '##wash', 'brat', 'oppressive', 'reykjavik', 'spartak', 'ticking', '##inkles', '##kiewicz', 'adolph', 'horst', 'maui', 'protege', 'straighten', 'cpc', 'landau', 'concourse', 'clements', 'resultant', '##ando', 'imaginative', 'joo', 'reactivated', '##rem', '##ffled', '##uising', 'consultative', '##guide', 'flop', 'kaitlyn', 'mergers', 'parenting', 'somber', '##vron', 'supervise', 'vidhan', '##imum', 'courtship', 'exemplified', 'harmonies', 'medallist', 'refining', '##rrow', '##ка', 'amara', '##hum', '780', 'goalscorer', 'sited', 'overshadowed', 'rohan', 'displeasure', 'secretive', 'multiplied', 'osman', '##orth', 'engravings', 'padre', '##kali', '##veda', 'miniatures', 'mis', '##yala', 'clap', 'pali', 'rook', '##cana', '1692', '57th', 'antennae', 'astro', 'oskar', '1628', 'bulldog', 'crotch', 'hackett', 'yucatan', '##sure', 'amplifiers', 'brno', 'ferrara', 'migrating', '##gree', 'thanking', 'turing', '##eza', 'mccann', 'ting', 'andersson', 'onslaught', 'gaines', 'ganga', 'incense', 'standardization', '##mation', 'sentai', 'scuba', 'stuffing', 'turquoise', 'waivers', 'alloys', '##vitt', 'regaining', 'vaults', '##clops', '##gizing', 'digger', 'furry', 'memorabilia', 'probing', '##iad', 'payton', 'rec', 'deutschland', 'filippo', 'opaque', 'seamen', 'zenith', 'afrikaans', '##filtration', 'disciplined', 'inspirational', '##merie', 'banco', 'confuse', 'grafton', 'tod', '##dgets', 'championed', 'simi', 'anomaly', 'biplane', '##ceptive', 'electrode', '##para', '1697', 'cleavage', 'crossbow', 'swirl', 'informant', '##lars', '##osta', 'afi', 'bonfire', 'spec', '##oux', 'lakeside', 'slump', '##culus', '##lais', '##qvist', '##rrigan', '1016', 'facades', 'borg', 'inwardly', 'cervical', 'xl', 'pointedly', '050', 'stabilization', '##odon', 'chests', '1699', 'hacked', 'ctv', 'orthogonal', 'suzy', '##lastic', 'gaulle', 'jacobite', 'rearview', '##cam', '##erted', 'ashby', '##drik', '##igate', '##mise', '##zbek', 'affectionately', 'canine', 'disperse', 'latham', '##istles', '##ivar', 'spielberg', '##orin', '##idium', 'ezekiel', 'cid', '##sg', 'durga', 'middletown', '##cina', 'customized', 'frontiers', 'harden', '##etano', '##zzy', '1604', 'bolsheviks', '##66', 'coloration', 'yoko', '##bedo', 'briefs', 'slabs', 'debra', 'liquidation', 'plumage', '##oin', 'blossoms', 'dementia', 'subsidy', '1611', 'proctor', 'relational', 'jerseys', 'parochial', 'ter', '##ici', 'esa', 'peshawar', 'cavalier', 'loren', 'cpi', 'idiots', 'shamrock', '1646', 'dutton', 'malabar', 'mustache', '##endez', '##ocytes', 'referencing', 'terminates', 'marche', 'yarmouth', '##sop', 'acton', 'mated', 'seton', 'subtly', 'baptised', 'beige', 'extremes', 'jolted', 'kristina', 'telecast', '##actic', 'safeguard', 'waldo', '##baldi', '##bular', 'endeavors', 'sloppy', 'subterranean', '##ensburg', '##itung', 'delicately', 'pigment', 'tq', '##scu', '1626', '##ound', 'collisions', 'coveted', 'herds', '##personal', '##meister', '##nberger', 'chopra', '##ricting', 'abnormalities', 'defective', 'galician', 'lucie', '##dilly', 'alligator', 'likened', '##genase', 'burundi', 'clears', 'complexion', 'derelict', 'deafening', 'diablo', 'fingered', 'champaign', 'dogg', 'enlist', 'isotope', 'labeling', 'mrna', '##erre', 'brilliance', 'marvelous', '##ayo', '1652', 'crawley', 'ether', 'footed', 'dwellers', 'deserts', 'hamish', 'rubs', 'warlock', 'skimmed', '##lizer', '870', 'buick', 'embark', 'heraldic', 'irregularities', '##ajan', 'kiara', '##kulam', '##ieg', 'antigen', 'kowalski', '##lge', 'oakley', 'visitation', '##mbit', 'vt', '##suit', '1570', 'murderers', '##miento', '##rites', 'chimneys', '##sling', 'condemn', 'custer', 'exchequer', 'havre', '##ghi', 'fluctuations', '##rations', 'dfb', 'hendricks', 'vaccines', '##tarian', 'nietzsche', 'biking', 'juicy', '##duced', 'brooding', 'scrolling', 'selangor', '##ragan', '352', 'annum', 'boomed', 'seminole', 'sugarcane', '##dna', 'departmental', 'dismissing', 'innsbruck', 'arteries', 'ashok', 'batavia', 'daze', 'kun', 'overtook', '##rga', '##tlan', 'beheaded', 'gaddafi', 'holm', 'electronically', 'faulty', 'galilee', 'fractures', 'kobayashi', '##lized', 'gunmen', 'magma', 'aramaic', 'mala', 'eastenders', 'inference', 'messengers', 'bf', '##qu', '407', 'bathrooms', '##vere', '1658', 'flashbacks', 'ideally', 'misunderstood', '##jali', '##weather', 'mendez', '##grounds', '505', 'uncanny', '##iii', '1709', 'friendships', '##nbc', 'sacrament', 'accommodated', 'reiterated', 'logistical', 'pebbles', 'thumped', '##escence', 'administering', 'decrees', 'drafts', '##flight', '##cased', '##tula', 'futuristic', 'picket', 'intimidation', 'winthrop', '##fahan', 'interfered', '339', 'afar', 'francoise', 'morally', 'uta', 'cochin', 'croft', 'dwarfs', '##bruck', '##dents', '##nami', 'biker', '##hner', '##meral', 'nano', '##isen', '##ometric', '##pres', '##ан', 'brightened', 'meek', 'parcels', 'securely', 'gunners', '##jhl', '##zko', 'agile', 'hysteria', '##lten', '##rcus', 'bukit', 'champs', 'chevy', 'cuckoo', 'leith', 'sadler', 'theologians', 'welded', '##section', '1663', 'jj', 'plurality', 'xander', '##rooms', '##formed', 'shredded', 'temps', 'intimately', 'pau', 'tormented', '##lok', '##stellar', '1618', 'charred', 'ems', 'essen', '##mmel', 'alarms', 'spraying', 'ascot', 'blooms', 'twinkle', '##abia', '##apes', 'internment', 'obsidian', '##chaft', 'snoop', '##dav', '##ooping', 'malibu', '##tension', 'quiver', '##itia', 'hays', 'mcintosh', 'travers', 'walsall', '##ffie', '1623', 'beverley', 'schwarz', 'plunging', 'structurally', 'm3', 'rosenthal', 'vikram', '##tsk', '770', 'ghz', '##onda', '##tiv', 'chalmers', 'groningen', 'pew', 'reckon', 'unicef', '##rvis', '55th', '##gni', '1651', 'sulawesi', 'avila', 'cai', 'metaphysical', 'screwing', 'turbulence', '##mberg', 'augusto', 'samba', '56th', 'baffled', 'momentary', 'toxin', '##urian', '##wani', 'aachen', 'condoms', 'dali', 'steppe', '##3d', '##app', '##oed', '##year', 'adolescence', 'dauphin', 'electrically', 'inaccessible', 'microscopy', 'nikita', '##ega', 'atv', '##cel', '##enter', '##oles', '##oteric', '##ы', 'accountants', 'punishments', 'wrongly', 'bribes', 'adventurous', 'clinch', 'flinders', 'southland', '##hem', '##kata', 'gough', '##ciency', 'lads', 'soared', '##ה', 'undergoes', 'deformation', 'outlawed', 'rubbish', '##arus', '##mussen', '##nidae', '##rzburg', 'arcs', '##ingdon', '##tituted', '1695', 'wheelbase', 'wheeling', 'bombardier', 'campground', 'zebra', '##lices', '##oj', '##bain', 'lullaby', '##ecure', 'donetsk', 'wylie', 'grenada', '##arding', '##ης', 'squinting', 'eireann', 'opposes', '##andra', 'maximal', 'runes', '##broken', '##cuting', '##iface', '##ror', '##rosis', 'additive', 'britney', 'adultery', 'triggering', '##drome', 'detrimental', 'aarhus', 'containment', 'jc', 'swapped', 'vichy', '##ioms', 'madly', '##oric', '##rag', 'brant', '##ckey', '##trix', '1560', '1612', 'broughton', 'rustling', '##stems', '##uder', 'asbestos', 'mentoring', '##nivorous', 'finley', 'leaps', '##isan', 'apical', 'pry', 'slits', 'substitutes', '##dict', 'intuitive', 'fantasia', 'insistent', 'unreasonable', '##igen', '##vna', 'domed', 'hannover', 'margot', 'ponder', '##zziness', 'impromptu', 'jian', 'lc', 'rampage', 'stemming', '##eft', 'andrey', 'gerais', 'whichever', 'amnesia', 'appropriated', 'anzac', 'clicks', 'modifying', 'ultimatum', 'cambrian', 'maids', 'verve', 'yellowstone', '##mbs', 'conservatoire', '##scribe', 'adherence', 'dinners', 'spectra', 'imperfect', 'mysteriously', 'sidekick', 'tatar', 'tuba', '##aks', '##ifolia', 'distrust', '##athan', '##zle', 'c2', 'ronin', 'zac', '##pse', 'celaena', 'instrumentalist', 'scents', 'skopje', '##mbling', 'comical', 'compensated', 'vidal', 'condor', 'intersect', 'jingle', 'wavelengths', '##urrent', 'mcqueen', '##izzly', 'carp', 'weasel', '422', 'kanye', 'militias', 'postdoctoral', 'eugen', 'gunslinger', '##ɛ', 'faux', 'hospice', '##for', 'appalled', 'derivation', 'dwarves', '##elis', 'dilapidated', '##folk', 'astoria', 'philology', '##lwyn', '##otho', '##saka', 'inducing', 'philanthropy', '##bf', '##itative', 'geek', 'markedly', 'sql', '##yce', 'bessie', 'indices', 'rn', '##flict', '495', 'frowns', 'resolving', 'weightlifting', 'tugs', 'cleric', 'contentious', '1653', 'mania', 'rms', '##miya', '##reate', '##ruck', '##tucket', 'bien', 'eels', 'marek', '##ayton', '##cence', 'discreet', 'unofficially', '##ife', 'leaks', '##bber', '1705', '332', 'dung', 'compressor', 'hillsborough', 'pandit', 'shillings', 'distal', '##skin', '381', '##tat', '##you', 'nosed', '##nir', 'mangrove', 'undeveloped', '##idia', 'textures', '##inho', '##500', '##rise', 'ae', 'irritating', 'nay', 'amazingly', 'bancroft', 'apologetic', 'compassionate', 'kata', 'symphonies', '##lovic', 'airspace', '##lch', '930', 'gifford', 'precautions', 'fulfillment', 'sevilla', 'vulgar', 'martinique', '##urities', 'looting', 'piccolo', 'tidy', '##dermott', 'quadrant', 'armchair', 'incomes', 'mathematicians', 'stampede', 'nilsson', '##inking', '##scan', 'foo', 'quarterfinal', '##ostal', 'shang', 'shouldered', 'squirrels', '##owe', '344', 'vinegar', '##bner', '##rchy', '##systems', 'delaying', '##trics', 'ars', 'dwyer', 'rhapsody', 'sponsoring', '##gration', 'bipolar', 'cinder', 'starters', '##olio', '##urst', '421', 'signage', '##nty', 'aground', 'figurative', 'mons', 'acquaintances', 'duets', 'erroneously', 'soyuz', 'elliptic', 'recreated', '##cultural', '##quette', '##ssed', '##tma', '##zcz', 'moderator', 'scares', '##itaire', '##stones', '##udence', 'juniper', 'sighting', '##just', '##nsen', 'britten', 'calabria', 'ry', 'bop', 'cramer', 'forsyth', 'stillness', '##л', 'airmen', 'gathers', 'unfit', '##umber', '##upt', 'taunting', '##rip', 'seeker', 'streamlined', '##bution', 'holster', 'schumann', 'tread', 'vox', '##gano', '##onzo', 'strive', 'dil', 'reforming', 'covent', 'newbury', 'predicting', '##orro', 'decorate', 'tre', '##puted', 'andover', 'ie', 'asahi', 'dept', 'dunkirk', 'gills', '##tori', 'buren', 'huskies', '##stis', '##stov', 'abstracts', 'bets', 'loosen', '##opa', '1682', 'yearning', '##glio', '##sir', 'berman', 'effortlessly', 'enamel', 'napoli', 'persist', '##peration', '##uez', 'attache', 'elisa', 'b1', 'invitations', '##kic', 'accelerating', 'reindeer', 'boardwalk', 'clutches', 'nelly', 'polka', 'starbucks', '##kei', 'adamant', 'huey', 'lough', 'unbroken', 'adventurer', 'embroidery', 'inspecting', 'stanza', '##ducted', 'naia', 'taluka', '##pone', '##roids', 'chases', 'deprivation', 'florian', '##jing', '##ppet', 'earthly', '##lib', '##ssee', 'colossal', 'foreigner', 'vet', 'freaks', 'patrice', 'rosewood', 'triassic', 'upstate', '##pkins', 'dominates', 'ata', 'chants', 'ks', 'vo', '##400', '##bley', '##raya', '##rmed', '555', 'agra', 'infiltrate', '##ailing', '##ilation', '##tzer', '##uppe', '##werk', 'binoculars', 'enthusiast', 'fujian', 'squeak', '##avs', 'abolitionist', 'almeida', 'boredom', 'hampstead', 'marsden', 'rations', '##ands', 'inflated', '334', 'bonuses', 'rosalie', 'patna', '##rco', '329', 'detachments', 'penitentiary', '54th', 'flourishing', 'woolf', '##dion', '##etched', 'papyrus', '##lster', '##nsor', '##toy', 'bobbed', 'dismounted', 'endelle', 'inhuman', 'motorola', 'tbs', 'wince', 'wreath', '##ticus', 'hideout', 'inspections', 'sanjay', 'disgrace', 'infused', 'pudding', 'stalks', '##urbed', 'arsenic', 'leases', '##hyl', '##rrard', 'collarbone', '##waite', '##wil', 'dowry', '##bant', '##edance', 'genealogical', 'nitrate', 'salamanca', 'scandals', 'thyroid', 'necessitated', '##!', '##\"', '###', '##$', '##%', '##&', \"##'\", '##(', '##)', '##*', '##+', '##,', '##-', '##.', '##/', '##:', '##;', '##<', '##=', '##>', '##?', '##@', '##[', '##\\\\', '##]', '##^', '##_', '##`', '##{', '##|', '##}', '##~', '##¡', '##¢', '##£', '##¤', '##¥', '##¦', '##§', '##¨', '##©', '##ª', '##«', '##¬', '##®', '##±', '##´', '##µ', '##¶', '##·', '##º', '##»', '##¼', '##¾', '##¿', '##æ', '##ð', '##÷', '##þ', '##đ', '##ħ', '##ŋ', '##œ', '##ƒ', '##ɐ', '##ɑ', '##ɒ', '##ɔ', '##ɕ', '##ə', '##ɡ', '##ɣ', '##ɨ', '##ɪ', '##ɫ', '##ɬ', '##ɯ', '##ɲ', '##ɴ', '##ɹ', '##ɾ', '##ʀ', '##ʁ', '##ʂ', '##ʃ', '##ʉ', '##ʊ', '##ʋ', '##ʌ', '##ʎ', '##ʐ', '##ʑ', '##ʒ', '##ʔ', '##ʰ', '##ʲ', '##ʳ', '##ʷ', '##ʸ', '##ʻ', '##ʼ', '##ʾ', '##ʿ', '##ˈ', '##ˡ', '##ˢ', '##ˣ', '##ˤ', '##β', '##γ', '##δ', '##ε', '##ζ', '##θ', '##κ', '##λ', '##μ', '##ξ', '##ο', '##π', '##ρ', '##σ', '##τ', '##υ', '##φ', '##χ', '##ψ', '##ω', '##б', '##г', '##д', '##ж', '##з', '##м', '##п', '##с', '##у', '##ф', '##х', '##ц', '##ч', '##ш', '##щ', '##ъ', '##э', '##ю', '##ђ', '##є', '##і', '##ј', '##љ', '##њ', '##ћ', '##ӏ', '##ա', '##բ', '##գ', '##դ', '##ե', '##թ', '##ի', '##լ', '##կ', '##հ', '##մ', '##յ', '##ն', '##ո', '##պ', '##ս', '##վ', '##տ', '##ր', '##ւ', '##ք', '##־', '##א', '##ב', '##ג', '##ד', '##ו', '##ז', '##ח', '##ט', '##י', '##ך', '##כ', '##ל', '##ם', '##מ', '##ן', '##נ', '##ס', '##ע', '##ף', '##פ', '##ץ', '##צ', '##ק', '##ר', '##ש', '##ת', '##،', '##ء', '##ب', '##ت', '##ث', '##ج', '##ح', '##خ', '##ذ', '##ز', '##س', '##ش', '##ص', '##ض', '##ط', '##ظ', '##ع', '##غ', '##ـ', '##ف', '##ق', '##ك', '##و', '##ى', '##ٹ', '##پ', '##چ', '##ک', '##گ', '##ں', '##ھ', '##ہ', '##ے', '##अ', '##आ', '##उ', '##ए', '##क', '##ख', '##ग', '##च', '##ज', '##ट', '##ड', '##ण', '##त', '##थ', '##द', '##ध', '##न', '##प', '##ब', '##भ', '##म', '##य', '##र', '##ल', '##व', '##श', '##ष', '##स', '##ह', '##ा', '##ि', '##ी', '##ो', '##।', '##॥', '##ং', '##অ', '##আ', '##ই', '##উ', '##এ', '##ও', '##ক', '##খ', '##গ', '##চ', '##ছ', '##জ', '##ট', '##ড', '##ণ', '##ত', '##থ', '##দ', '##ধ', '##ন', '##প', '##ব', '##ভ', '##ম', '##য', '##র', '##ল', '##শ', '##ষ', '##স', '##হ', '##া', '##ি', '##ী', '##ে', '##க', '##ச', '##ட', '##த', '##ந', '##ன', '##ப', '##ம', '##ய', '##ர', '##ல', '##ள', '##வ', '##ா', '##ி', '##ு', '##ே', '##ை', '##ನ', '##ರ', '##ಾ', '##ක', '##ය', '##ර', '##ල', '##ව', '##ා', '##ก', '##ง', '##ต', '##ท', '##น', '##พ', '##ม', '##ย', '##ร', '##ล', '##ว', '##ส', '##อ', '##า', '##เ', '##་', '##།', '##ག', '##ང', '##ད', '##ན', '##པ', '##བ', '##མ', '##འ', '##ར', '##ལ', '##ས', '##မ', '##ა', '##ბ', '##გ', '##დ', '##ე', '##ვ', '##თ', '##ი', '##კ', '##ლ', '##მ', '##ნ', '##ო', '##რ', '##ს', '##ტ', '##უ', '##ᄀ', '##ᄂ', '##ᄃ', '##ᄅ', '##ᄆ', '##ᄇ', '##ᄉ', '##ᄊ', '##ᄋ', '##ᄌ', '##ᄎ', '##ᄏ', '##ᄐ', '##ᄑ', '##ᄒ', '##ᅡ', '##ᅢ', '##ᅥ', '##ᅦ', '##ᅧ', '##ᅩ', '##ᅪ', '##ᅭ', '##ᅮ', '##ᅯ', '##ᅲ', '##ᅳ', '##ᅴ', '##ᅵ', '##ᆨ', '##ᆫ', '##ᆯ', '##ᆷ', '##ᆸ', '##ᆼ', '##ᴬ', '##ᴮ', '##ᴰ', '##ᴵ', '##ᴺ', '##ᵀ', '##ᵃ', '##ᵇ', '##ᵈ', '##ᵉ', '##ᵍ', '##ᵏ', '##ᵐ', '##ᵒ', '##ᵖ', '##ᵗ', '##ᵘ', '##ᵣ', '##ᵤ', '##ᵥ', '##ᶜ', '##ᶠ', '##‐', '##‑', '##‒', '##–', '##—', '##―', '##‖', '##‘', '##’', '##‚', '##“', '##”', '##„', '##†', '##‡', '##•', '##…', '##‰', '##′', '##″', '##›', '##‿', '##⁄', '##⁰', '##ⁱ', '##⁴', '##⁵', '##⁶', '##⁷', '##⁸', '##⁹', '##⁻', '##ⁿ', '##₅', '##₆', '##₇', '##₈', '##₉', '##₊', '##₍', '##₎', '##ₐ', '##ₑ', '##ₒ', '##ₓ', '##ₕ', '##ₖ', '##ₗ', '##ₘ', '##ₚ', '##ₛ', '##ₜ', '##₤', '##₩', '##€', '##₱', '##₹', '##ℓ', '##№', '##ℝ', '##™', '##⅓', '##⅔', '##←', '##↑', '##→', '##↓', '##↔', '##↦', '##⇄', '##⇌', '##⇒', '##∂', '##∅', '##∆', '##∇', '##∈', '##∗', '##∘', '##√', '##∞', '##∧', '##∨', '##∩', '##∪', '##≈', '##≡', '##≤', '##≥', '##⊂', '##⊆', '##⊕', '##⊗', '##⋅', '##─', '##│', '##■', '##▪', '##●', '##★', '##☆', '##☉', '##♠', '##♣', '##♥', '##♦', '##♯', '##⟨', '##⟩', '##ⱼ', '##⺩', '##⺼', '##⽥', '##、', '##。', '##〈', '##〉', '##《', '##》', '##「', '##」', '##『', '##』', '##〜', '##あ', '##い', '##う', '##え', '##お', '##か', '##き', '##く', '##け', '##こ', '##さ', '##し', '##す', '##せ', '##そ', '##た', '##ち', '##っ', '##つ', '##て', '##と', '##な', '##に', '##ぬ', '##ね', '##の', '##は', '##ひ', '##ふ', '##へ', '##ほ', '##ま', '##み', '##む', '##め', '##も', '##や', '##ゆ', '##よ', '##ら', '##り', '##る', '##れ', '##ろ', '##を', '##ん', '##ァ', '##ア', '##ィ', '##イ', '##ウ', '##ェ', '##エ', '##オ', '##カ', '##キ', '##ク', '##ケ', '##コ', '##サ', '##シ', '##ス', '##セ', '##タ', '##チ', '##ッ', '##ツ', '##テ', '##ト', '##ナ', '##ニ', '##ノ', '##ハ', '##ヒ', '##フ', '##ヘ', '##ホ', '##マ', '##ミ', '##ム', '##メ', '##モ', '##ャ', '##ュ', '##ョ', '##ラ', '##リ', '##ル', '##レ', '##ロ', '##ワ', '##ン', '##・', '##ー', '##一', '##三', '##上', '##下', '##不', '##世', '##中', '##主', '##久', '##之', '##也', '##事', '##二', '##五', '##井', '##京', '##人', '##亻', '##仁', '##介', '##代', '##仮', '##伊', '##会', '##佐', '##侍', '##保', '##信', '##健', '##元', '##光', '##八', '##公', '##内', '##出', '##分', '##前', '##劉', '##力', '##加', '##勝', '##北', '##区', '##十', '##千', '##南', '##博', '##原', '##口', '##古', '##史', '##司', '##合', '##吉', '##同', '##名', '##和', '##囗', '##四', '##国', '##國', '##土', '##地', '##坂', '##城', '##堂', '##場', '##士', '##夏', '##外', '##大', '##天', '##太', '##夫', '##奈', '##女', '##子', '##学', '##宀', '##宇', '##安', '##宗', '##定', '##宣', '##宮', '##家', '##宿', '##寺', '##將', '##小', '##尚', '##山', '##岡', '##島', '##崎', '##川', '##州', '##巿', '##帝', '##平', '##年', '##幸', '##广', '##弘', '##張', '##彳', '##後', '##御', '##德', '##心', '##忄', '##志', '##忠', '##愛', '##成', '##我', '##戦', '##戸', '##手', '##扌', '##政', '##文', '##新', '##方', '##日', '##明', '##星', '##春', '##昭', '##智', '##曲', '##書', '##月', '##有', '##朝', '##木', '##本', '##李', '##村', '##東', '##松', '##林', '##森', '##楊', '##樹', '##橋', '##歌', '##止', '##正', '##武', '##比', '##氏', '##民', '##水', '##氵', '##氷', '##永', '##江', '##沢', '##河', '##治', '##法', '##海', '##清', '##漢', '##瀬', '##火', '##版', '##犬', '##王', '##生', '##田', '##男', '##疒', '##発', '##白', '##的', '##皇', '##目', '##相', '##省', '##真', '##石', '##示', '##社', '##神', '##福', '##禾', '##秀', '##秋', '##空', '##立', '##章', '##竹', '##糹', '##美', '##義', '##耳', '##良', '##艹', '##花', '##英', '##華', '##葉', '##藤', '##行', '##街', '##西', '##見', '##訁', '##語', '##谷', '##貝', '##貴', '##車', '##軍', '##辶', '##道', '##郎', '##郡', '##部', '##都', '##里', '##野', '##金', '##鈴', '##镇', '##長', '##門', '##間', '##阝', '##阿', '##陳', '##陽', '##雄', '##青', '##面', '##風', '##食', '##香', '##馬', '##高', '##龍', '##龸', '##ﬁ', '##ﬂ', '##！', '##（', '##）', '##，', '##－', '##．', '##／', '##：', '##？', '##～'])"
            ]
          },
          "metadata": {},
          "execution_count": 4
        }
      ],
      "source": [
        "tokenizer.vocab.keys()"
      ]
    },
    {
      "cell_type": "code",
      "execution_count": 5,
      "id": "e3263c15-d5a4-4482-898f-39cdd36e186a",
      "metadata": {
        "scrolled": true,
        "tags": [],
        "colab": {
          "base_uri": "https://localhost:8080/"
        },
        "id": "e3263c15-d5a4-4482-898f-39cdd36e186a",
        "outputId": "a42ec1a1-46ad-4529-96b4-ad62038af30d"
      },
      "outputs": [
        {
          "output_type": "execute_result",
          "data": {
            "text/plain": [
              "['everybody',\n",
              " 'knows',\n",
              " 'bid',\n",
              " '##ire',\n",
              " '##ction',\n",
              " '##al',\n",
              " 'conditioning',\n",
              " 'would',\n",
              " 'allow',\n",
              " 'each',\n",
              " 'word',\n",
              " 'to',\n",
              " 'indirectly',\n",
              " 'see',\n",
              " 'itself',\n",
              " 'in',\n",
              " 'a',\n",
              " 'multi',\n",
              " '-',\n",
              " 'layered',\n",
              " 'context',\n",
              " '.']"
            ]
          },
          "metadata": {},
          "execution_count": 5
        }
      ],
      "source": [
        "tokenizer.tokenize(\"Everybody knows bidirectional conditioning would allow each word to indirectly see itself in a multi-layered context.\") "
      ]
    },
    {
      "cell_type": "markdown",
      "source": [
        "Let's convert this sentence to tensors so that BERT can consume."
      ],
      "metadata": {
        "id": "gfTvUld3ZLOB"
      },
      "id": "gfTvUld3ZLOB"
    },
    {
      "cell_type": "code",
      "execution_count": 6,
      "id": "f8072cc4-9fbf-4b6d-9922-f7bb89519173",
      "metadata": {
        "colab": {
          "base_uri": "https://localhost:8080/"
        },
        "id": "f8072cc4-9fbf-4b6d-9922-f7bb89519173",
        "outputId": "8ae2ca96-f530-43db-8cff-30f5116d7831"
      },
      "outputs": [
        {
          "output_type": "execute_result",
          "data": {
            "text/plain": [
              "{'input_ids': [101, 7955, 4282, 7226, 7442, 7542, 2389, 14372, 2052, 3499, 2169, 2773, 2000, 17351, 2156, 2993, 1999, 1037, 4800, 1011, 21323, 6123, 1012, 102], 'token_type_ids': [0, 0, 0, 0, 0, 0, 0, 0, 0, 0, 0, 0, 0, 0, 0, 0, 0, 0, 0, 0, 0, 0, 0, 0], 'attention_mask': [1, 1, 1, 1, 1, 1, 1, 1, 1, 1, 1, 1, 1, 1, 1, 1, 1, 1, 1, 1, 1, 1, 1, 1]}"
            ]
          },
          "metadata": {},
          "execution_count": 6
        }
      ],
      "source": [
        "inputs = tokenizer(\"Everybody knows bidirectional conditioning would allow each word to indirectly see itself in a multi-layered context.\")\n",
        "inputs"
      ]
    },
    {
      "cell_type": "code",
      "execution_count": 19,
      "id": "6f3fd5ca-f1be-44ec-9c92-032445856780",
      "metadata": {
        "colab": {
          "base_uri": "https://localhost:8080/"
        },
        "id": "6f3fd5ca-f1be-44ec-9c92-032445856780",
        "outputId": "5137e14c-2d48-475a-d739-4816d1089349"
      },
      "outputs": [
        {
          "output_type": "stream",
          "name": "stderr",
          "text": [
            "Some weights of BertForPreTraining were not initialized from the model checkpoint at bert-base-uncased and are newly initialized: ['cls.predictions.decoder.bias']\n",
            "You should probably TRAIN this model on a down-stream task to be able to use it for predictions and inference.\n"
          ]
        }
      ],
      "source": [
        "from transformers import BertForPreTraining\n",
        "model = BertForPreTraining.from_pretrained(\"bert-base-uncased\")"
      ]
    },
    {
      "cell_type": "markdown",
      "id": "0d23b764-5930-4eaf-b5fe-b04fcf5bbdab",
      "metadata": {
        "id": "0d23b764-5930-4eaf-b5fe-b04fcf5bbdab"
      },
      "source": [
        "Loading BERT from HuggingFace transformers library."
      ]
    },
    {
      "cell_type": "code",
      "execution_count": 20,
      "id": "fb1530ae-b407-4991-8bca-cac5af0adaab",
      "metadata": {
        "scrolled": true,
        "tags": [],
        "colab": {
          "base_uri": "https://localhost:8080/"
        },
        "id": "fb1530ae-b407-4991-8bca-cac5af0adaab",
        "outputId": "fbd38732-5602-48a5-a15f-a59884890a25"
      },
      "outputs": [
        {
          "output_type": "stream",
          "name": "stderr",
          "text": [
            "Some weights of the model checkpoint at bert-base-uncased were not used when initializing BertModel: ['cls.seq_relationship.bias', 'cls.seq_relationship.weight', 'cls.predictions.bias', 'cls.predictions.decoder.weight', 'cls.predictions.transform.LayerNorm.bias', 'cls.predictions.transform.dense.bias', 'cls.predictions.transform.dense.weight', 'cls.predictions.transform.LayerNorm.weight']\n",
            "- This IS expected if you are initializing BertModel from the checkpoint of a model trained on another task or with another architecture (e.g. initializing a BertForSequenceClassification model from a BertForPreTraining model).\n",
            "- This IS NOT expected if you are initializing BertModel from the checkpoint of a model that you expect to be exactly identical (initializing a BertForSequenceClassification model from a BertForSequenceClassification model).\n"
          ]
        },
        {
          "output_type": "execute_result",
          "data": {
            "text/plain": [
              "BertModel(\n",
              "  (shared_parameters): ModuleDict()\n",
              "  (invertible_adapters): ModuleDict()\n",
              "  (embeddings): BertEmbeddings(\n",
              "    (word_embeddings): Embedding(30522, 768, padding_idx=0)\n",
              "    (position_embeddings): Embedding(512, 768)\n",
              "    (token_type_embeddings): Embedding(2, 768)\n",
              "    (LayerNorm): LayerNorm((768,), eps=1e-12, elementwise_affine=True)\n",
              "    (dropout): Dropout(p=0.1, inplace=False)\n",
              "  )\n",
              "  (encoder): BertEncoder(\n",
              "    (layer): ModuleList(\n",
              "      (0): BertLayer(\n",
              "        (attention): BertAttention(\n",
              "          (self): BertSelfAttention(\n",
              "            (query): Linear(in_features=768, out_features=768, bias=True)\n",
              "            (key): Linear(in_features=768, out_features=768, bias=True)\n",
              "            (value): Linear(in_features=768, out_features=768, bias=True)\n",
              "            (dropout): Dropout(p=0.1, inplace=False)\n",
              "            (prefix_tuning): PrefixTuningShim(\n",
              "              (pool): PrefixTuningPool(\n",
              "                (prefix_tunings): ModuleDict()\n",
              "              )\n",
              "            )\n",
              "          )\n",
              "          (output): BertSelfOutput(\n",
              "            (dense): Linear(in_features=768, out_features=768, bias=True)\n",
              "            (LayerNorm): LayerNorm((768,), eps=1e-12, elementwise_affine=True)\n",
              "            (dropout): Dropout(p=0.1, inplace=False)\n",
              "            (adapters): ModuleDict()\n",
              "            (adapter_fusion_layer): ModuleDict()\n",
              "          )\n",
              "        )\n",
              "        (intermediate): BertIntermediate(\n",
              "          (dense): Linear(in_features=768, out_features=3072, bias=True)\n",
              "          (intermediate_act_fn): GELUActivation()\n",
              "        )\n",
              "        (output): BertOutput(\n",
              "          (dense): Linear(in_features=3072, out_features=768, bias=True)\n",
              "          (LayerNorm): LayerNorm((768,), eps=1e-12, elementwise_affine=True)\n",
              "          (dropout): Dropout(p=0.1, inplace=False)\n",
              "          (adapters): ModuleDict()\n",
              "          (adapter_fusion_layer): ModuleDict()\n",
              "        )\n",
              "      )\n",
              "      (1): BertLayer(\n",
              "        (attention): BertAttention(\n",
              "          (self): BertSelfAttention(\n",
              "            (query): Linear(in_features=768, out_features=768, bias=True)\n",
              "            (key): Linear(in_features=768, out_features=768, bias=True)\n",
              "            (value): Linear(in_features=768, out_features=768, bias=True)\n",
              "            (dropout): Dropout(p=0.1, inplace=False)\n",
              "            (prefix_tuning): PrefixTuningShim(\n",
              "              (pool): PrefixTuningPool(\n",
              "                (prefix_tunings): ModuleDict()\n",
              "              )\n",
              "            )\n",
              "          )\n",
              "          (output): BertSelfOutput(\n",
              "            (dense): Linear(in_features=768, out_features=768, bias=True)\n",
              "            (LayerNorm): LayerNorm((768,), eps=1e-12, elementwise_affine=True)\n",
              "            (dropout): Dropout(p=0.1, inplace=False)\n",
              "            (adapters): ModuleDict()\n",
              "            (adapter_fusion_layer): ModuleDict()\n",
              "          )\n",
              "        )\n",
              "        (intermediate): BertIntermediate(\n",
              "          (dense): Linear(in_features=768, out_features=3072, bias=True)\n",
              "          (intermediate_act_fn): GELUActivation()\n",
              "        )\n",
              "        (output): BertOutput(\n",
              "          (dense): Linear(in_features=3072, out_features=768, bias=True)\n",
              "          (LayerNorm): LayerNorm((768,), eps=1e-12, elementwise_affine=True)\n",
              "          (dropout): Dropout(p=0.1, inplace=False)\n",
              "          (adapters): ModuleDict()\n",
              "          (adapter_fusion_layer): ModuleDict()\n",
              "        )\n",
              "      )\n",
              "      (2): BertLayer(\n",
              "        (attention): BertAttention(\n",
              "          (self): BertSelfAttention(\n",
              "            (query): Linear(in_features=768, out_features=768, bias=True)\n",
              "            (key): Linear(in_features=768, out_features=768, bias=True)\n",
              "            (value): Linear(in_features=768, out_features=768, bias=True)\n",
              "            (dropout): Dropout(p=0.1, inplace=False)\n",
              "            (prefix_tuning): PrefixTuningShim(\n",
              "              (pool): PrefixTuningPool(\n",
              "                (prefix_tunings): ModuleDict()\n",
              "              )\n",
              "            )\n",
              "          )\n",
              "          (output): BertSelfOutput(\n",
              "            (dense): Linear(in_features=768, out_features=768, bias=True)\n",
              "            (LayerNorm): LayerNorm((768,), eps=1e-12, elementwise_affine=True)\n",
              "            (dropout): Dropout(p=0.1, inplace=False)\n",
              "            (adapters): ModuleDict()\n",
              "            (adapter_fusion_layer): ModuleDict()\n",
              "          )\n",
              "        )\n",
              "        (intermediate): BertIntermediate(\n",
              "          (dense): Linear(in_features=768, out_features=3072, bias=True)\n",
              "          (intermediate_act_fn): GELUActivation()\n",
              "        )\n",
              "        (output): BertOutput(\n",
              "          (dense): Linear(in_features=3072, out_features=768, bias=True)\n",
              "          (LayerNorm): LayerNorm((768,), eps=1e-12, elementwise_affine=True)\n",
              "          (dropout): Dropout(p=0.1, inplace=False)\n",
              "          (adapters): ModuleDict()\n",
              "          (adapter_fusion_layer): ModuleDict()\n",
              "        )\n",
              "      )\n",
              "      (3): BertLayer(\n",
              "        (attention): BertAttention(\n",
              "          (self): BertSelfAttention(\n",
              "            (query): Linear(in_features=768, out_features=768, bias=True)\n",
              "            (key): Linear(in_features=768, out_features=768, bias=True)\n",
              "            (value): Linear(in_features=768, out_features=768, bias=True)\n",
              "            (dropout): Dropout(p=0.1, inplace=False)\n",
              "            (prefix_tuning): PrefixTuningShim(\n",
              "              (pool): PrefixTuningPool(\n",
              "                (prefix_tunings): ModuleDict()\n",
              "              )\n",
              "            )\n",
              "          )\n",
              "          (output): BertSelfOutput(\n",
              "            (dense): Linear(in_features=768, out_features=768, bias=True)\n",
              "            (LayerNorm): LayerNorm((768,), eps=1e-12, elementwise_affine=True)\n",
              "            (dropout): Dropout(p=0.1, inplace=False)\n",
              "            (adapters): ModuleDict()\n",
              "            (adapter_fusion_layer): ModuleDict()\n",
              "          )\n",
              "        )\n",
              "        (intermediate): BertIntermediate(\n",
              "          (dense): Linear(in_features=768, out_features=3072, bias=True)\n",
              "          (intermediate_act_fn): GELUActivation()\n",
              "        )\n",
              "        (output): BertOutput(\n",
              "          (dense): Linear(in_features=3072, out_features=768, bias=True)\n",
              "          (LayerNorm): LayerNorm((768,), eps=1e-12, elementwise_affine=True)\n",
              "          (dropout): Dropout(p=0.1, inplace=False)\n",
              "          (adapters): ModuleDict()\n",
              "          (adapter_fusion_layer): ModuleDict()\n",
              "        )\n",
              "      )\n",
              "      (4): BertLayer(\n",
              "        (attention): BertAttention(\n",
              "          (self): BertSelfAttention(\n",
              "            (query): Linear(in_features=768, out_features=768, bias=True)\n",
              "            (key): Linear(in_features=768, out_features=768, bias=True)\n",
              "            (value): Linear(in_features=768, out_features=768, bias=True)\n",
              "            (dropout): Dropout(p=0.1, inplace=False)\n",
              "            (prefix_tuning): PrefixTuningShim(\n",
              "              (pool): PrefixTuningPool(\n",
              "                (prefix_tunings): ModuleDict()\n",
              "              )\n",
              "            )\n",
              "          )\n",
              "          (output): BertSelfOutput(\n",
              "            (dense): Linear(in_features=768, out_features=768, bias=True)\n",
              "            (LayerNorm): LayerNorm((768,), eps=1e-12, elementwise_affine=True)\n",
              "            (dropout): Dropout(p=0.1, inplace=False)\n",
              "            (adapters): ModuleDict()\n",
              "            (adapter_fusion_layer): ModuleDict()\n",
              "          )\n",
              "        )\n",
              "        (intermediate): BertIntermediate(\n",
              "          (dense): Linear(in_features=768, out_features=3072, bias=True)\n",
              "          (intermediate_act_fn): GELUActivation()\n",
              "        )\n",
              "        (output): BertOutput(\n",
              "          (dense): Linear(in_features=3072, out_features=768, bias=True)\n",
              "          (LayerNorm): LayerNorm((768,), eps=1e-12, elementwise_affine=True)\n",
              "          (dropout): Dropout(p=0.1, inplace=False)\n",
              "          (adapters): ModuleDict()\n",
              "          (adapter_fusion_layer): ModuleDict()\n",
              "        )\n",
              "      )\n",
              "      (5): BertLayer(\n",
              "        (attention): BertAttention(\n",
              "          (self): BertSelfAttention(\n",
              "            (query): Linear(in_features=768, out_features=768, bias=True)\n",
              "            (key): Linear(in_features=768, out_features=768, bias=True)\n",
              "            (value): Linear(in_features=768, out_features=768, bias=True)\n",
              "            (dropout): Dropout(p=0.1, inplace=False)\n",
              "            (prefix_tuning): PrefixTuningShim(\n",
              "              (pool): PrefixTuningPool(\n",
              "                (prefix_tunings): ModuleDict()\n",
              "              )\n",
              "            )\n",
              "          )\n",
              "          (output): BertSelfOutput(\n",
              "            (dense): Linear(in_features=768, out_features=768, bias=True)\n",
              "            (LayerNorm): LayerNorm((768,), eps=1e-12, elementwise_affine=True)\n",
              "            (dropout): Dropout(p=0.1, inplace=False)\n",
              "            (adapters): ModuleDict()\n",
              "            (adapter_fusion_layer): ModuleDict()\n",
              "          )\n",
              "        )\n",
              "        (intermediate): BertIntermediate(\n",
              "          (dense): Linear(in_features=768, out_features=3072, bias=True)\n",
              "          (intermediate_act_fn): GELUActivation()\n",
              "        )\n",
              "        (output): BertOutput(\n",
              "          (dense): Linear(in_features=3072, out_features=768, bias=True)\n",
              "          (LayerNorm): LayerNorm((768,), eps=1e-12, elementwise_affine=True)\n",
              "          (dropout): Dropout(p=0.1, inplace=False)\n",
              "          (adapters): ModuleDict()\n",
              "          (adapter_fusion_layer): ModuleDict()\n",
              "        )\n",
              "      )\n",
              "      (6): BertLayer(\n",
              "        (attention): BertAttention(\n",
              "          (self): BertSelfAttention(\n",
              "            (query): Linear(in_features=768, out_features=768, bias=True)\n",
              "            (key): Linear(in_features=768, out_features=768, bias=True)\n",
              "            (value): Linear(in_features=768, out_features=768, bias=True)\n",
              "            (dropout): Dropout(p=0.1, inplace=False)\n",
              "            (prefix_tuning): PrefixTuningShim(\n",
              "              (pool): PrefixTuningPool(\n",
              "                (prefix_tunings): ModuleDict()\n",
              "              )\n",
              "            )\n",
              "          )\n",
              "          (output): BertSelfOutput(\n",
              "            (dense): Linear(in_features=768, out_features=768, bias=True)\n",
              "            (LayerNorm): LayerNorm((768,), eps=1e-12, elementwise_affine=True)\n",
              "            (dropout): Dropout(p=0.1, inplace=False)\n",
              "            (adapters): ModuleDict()\n",
              "            (adapter_fusion_layer): ModuleDict()\n",
              "          )\n",
              "        )\n",
              "        (intermediate): BertIntermediate(\n",
              "          (dense): Linear(in_features=768, out_features=3072, bias=True)\n",
              "          (intermediate_act_fn): GELUActivation()\n",
              "        )\n",
              "        (output): BertOutput(\n",
              "          (dense): Linear(in_features=3072, out_features=768, bias=True)\n",
              "          (LayerNorm): LayerNorm((768,), eps=1e-12, elementwise_affine=True)\n",
              "          (dropout): Dropout(p=0.1, inplace=False)\n",
              "          (adapters): ModuleDict()\n",
              "          (adapter_fusion_layer): ModuleDict()\n",
              "        )\n",
              "      )\n",
              "      (7): BertLayer(\n",
              "        (attention): BertAttention(\n",
              "          (self): BertSelfAttention(\n",
              "            (query): Linear(in_features=768, out_features=768, bias=True)\n",
              "            (key): Linear(in_features=768, out_features=768, bias=True)\n",
              "            (value): Linear(in_features=768, out_features=768, bias=True)\n",
              "            (dropout): Dropout(p=0.1, inplace=False)\n",
              "            (prefix_tuning): PrefixTuningShim(\n",
              "              (pool): PrefixTuningPool(\n",
              "                (prefix_tunings): ModuleDict()\n",
              "              )\n",
              "            )\n",
              "          )\n",
              "          (output): BertSelfOutput(\n",
              "            (dense): Linear(in_features=768, out_features=768, bias=True)\n",
              "            (LayerNorm): LayerNorm((768,), eps=1e-12, elementwise_affine=True)\n",
              "            (dropout): Dropout(p=0.1, inplace=False)\n",
              "            (adapters): ModuleDict()\n",
              "            (adapter_fusion_layer): ModuleDict()\n",
              "          )\n",
              "        )\n",
              "        (intermediate): BertIntermediate(\n",
              "          (dense): Linear(in_features=768, out_features=3072, bias=True)\n",
              "          (intermediate_act_fn): GELUActivation()\n",
              "        )\n",
              "        (output): BertOutput(\n",
              "          (dense): Linear(in_features=3072, out_features=768, bias=True)\n",
              "          (LayerNorm): LayerNorm((768,), eps=1e-12, elementwise_affine=True)\n",
              "          (dropout): Dropout(p=0.1, inplace=False)\n",
              "          (adapters): ModuleDict()\n",
              "          (adapter_fusion_layer): ModuleDict()\n",
              "        )\n",
              "      )\n",
              "      (8): BertLayer(\n",
              "        (attention): BertAttention(\n",
              "          (self): BertSelfAttention(\n",
              "            (query): Linear(in_features=768, out_features=768, bias=True)\n",
              "            (key): Linear(in_features=768, out_features=768, bias=True)\n",
              "            (value): Linear(in_features=768, out_features=768, bias=True)\n",
              "            (dropout): Dropout(p=0.1, inplace=False)\n",
              "            (prefix_tuning): PrefixTuningShim(\n",
              "              (pool): PrefixTuningPool(\n",
              "                (prefix_tunings): ModuleDict()\n",
              "              )\n",
              "            )\n",
              "          )\n",
              "          (output): BertSelfOutput(\n",
              "            (dense): Linear(in_features=768, out_features=768, bias=True)\n",
              "            (LayerNorm): LayerNorm((768,), eps=1e-12, elementwise_affine=True)\n",
              "            (dropout): Dropout(p=0.1, inplace=False)\n",
              "            (adapters): ModuleDict()\n",
              "            (adapter_fusion_layer): ModuleDict()\n",
              "          )\n",
              "        )\n",
              "        (intermediate): BertIntermediate(\n",
              "          (dense): Linear(in_features=768, out_features=3072, bias=True)\n",
              "          (intermediate_act_fn): GELUActivation()\n",
              "        )\n",
              "        (output): BertOutput(\n",
              "          (dense): Linear(in_features=3072, out_features=768, bias=True)\n",
              "          (LayerNorm): LayerNorm((768,), eps=1e-12, elementwise_affine=True)\n",
              "          (dropout): Dropout(p=0.1, inplace=False)\n",
              "          (adapters): ModuleDict()\n",
              "          (adapter_fusion_layer): ModuleDict()\n",
              "        )\n",
              "      )\n",
              "      (9): BertLayer(\n",
              "        (attention): BertAttention(\n",
              "          (self): BertSelfAttention(\n",
              "            (query): Linear(in_features=768, out_features=768, bias=True)\n",
              "            (key): Linear(in_features=768, out_features=768, bias=True)\n",
              "            (value): Linear(in_features=768, out_features=768, bias=True)\n",
              "            (dropout): Dropout(p=0.1, inplace=False)\n",
              "            (prefix_tuning): PrefixTuningShim(\n",
              "              (pool): PrefixTuningPool(\n",
              "                (prefix_tunings): ModuleDict()\n",
              "              )\n",
              "            )\n",
              "          )\n",
              "          (output): BertSelfOutput(\n",
              "            (dense): Linear(in_features=768, out_features=768, bias=True)\n",
              "            (LayerNorm): LayerNorm((768,), eps=1e-12, elementwise_affine=True)\n",
              "            (dropout): Dropout(p=0.1, inplace=False)\n",
              "            (adapters): ModuleDict()\n",
              "            (adapter_fusion_layer): ModuleDict()\n",
              "          )\n",
              "        )\n",
              "        (intermediate): BertIntermediate(\n",
              "          (dense): Linear(in_features=768, out_features=3072, bias=True)\n",
              "          (intermediate_act_fn): GELUActivation()\n",
              "        )\n",
              "        (output): BertOutput(\n",
              "          (dense): Linear(in_features=3072, out_features=768, bias=True)\n",
              "          (LayerNorm): LayerNorm((768,), eps=1e-12, elementwise_affine=True)\n",
              "          (dropout): Dropout(p=0.1, inplace=False)\n",
              "          (adapters): ModuleDict()\n",
              "          (adapter_fusion_layer): ModuleDict()\n",
              "        )\n",
              "      )\n",
              "      (10): BertLayer(\n",
              "        (attention): BertAttention(\n",
              "          (self): BertSelfAttention(\n",
              "            (query): Linear(in_features=768, out_features=768, bias=True)\n",
              "            (key): Linear(in_features=768, out_features=768, bias=True)\n",
              "            (value): Linear(in_features=768, out_features=768, bias=True)\n",
              "            (dropout): Dropout(p=0.1, inplace=False)\n",
              "            (prefix_tuning): PrefixTuningShim(\n",
              "              (pool): PrefixTuningPool(\n",
              "                (prefix_tunings): ModuleDict()\n",
              "              )\n",
              "            )\n",
              "          )\n",
              "          (output): BertSelfOutput(\n",
              "            (dense): Linear(in_features=768, out_features=768, bias=True)\n",
              "            (LayerNorm): LayerNorm((768,), eps=1e-12, elementwise_affine=True)\n",
              "            (dropout): Dropout(p=0.1, inplace=False)\n",
              "            (adapters): ModuleDict()\n",
              "            (adapter_fusion_layer): ModuleDict()\n",
              "          )\n",
              "        )\n",
              "        (intermediate): BertIntermediate(\n",
              "          (dense): Linear(in_features=768, out_features=3072, bias=True)\n",
              "          (intermediate_act_fn): GELUActivation()\n",
              "        )\n",
              "        (output): BertOutput(\n",
              "          (dense): Linear(in_features=3072, out_features=768, bias=True)\n",
              "          (LayerNorm): LayerNorm((768,), eps=1e-12, elementwise_affine=True)\n",
              "          (dropout): Dropout(p=0.1, inplace=False)\n",
              "          (adapters): ModuleDict()\n",
              "          (adapter_fusion_layer): ModuleDict()\n",
              "        )\n",
              "      )\n",
              "      (11): BertLayer(\n",
              "        (attention): BertAttention(\n",
              "          (self): BertSelfAttention(\n",
              "            (query): Linear(in_features=768, out_features=768, bias=True)\n",
              "            (key): Linear(in_features=768, out_features=768, bias=True)\n",
              "            (value): Linear(in_features=768, out_features=768, bias=True)\n",
              "            (dropout): Dropout(p=0.1, inplace=False)\n",
              "            (prefix_tuning): PrefixTuningShim(\n",
              "              (pool): PrefixTuningPool(\n",
              "                (prefix_tunings): ModuleDict()\n",
              "              )\n",
              "            )\n",
              "          )\n",
              "          (output): BertSelfOutput(\n",
              "            (dense): Linear(in_features=768, out_features=768, bias=True)\n",
              "            (LayerNorm): LayerNorm((768,), eps=1e-12, elementwise_affine=True)\n",
              "            (dropout): Dropout(p=0.1, inplace=False)\n",
              "            (adapters): ModuleDict()\n",
              "            (adapter_fusion_layer): ModuleDict()\n",
              "          )\n",
              "        )\n",
              "        (intermediate): BertIntermediate(\n",
              "          (dense): Linear(in_features=768, out_features=3072, bias=True)\n",
              "          (intermediate_act_fn): GELUActivation()\n",
              "        )\n",
              "        (output): BertOutput(\n",
              "          (dense): Linear(in_features=3072, out_features=768, bias=True)\n",
              "          (LayerNorm): LayerNorm((768,), eps=1e-12, elementwise_affine=True)\n",
              "          (dropout): Dropout(p=0.1, inplace=False)\n",
              "          (adapters): ModuleDict()\n",
              "          (adapter_fusion_layer): ModuleDict()\n",
              "        )\n",
              "      )\n",
              "    )\n",
              "  )\n",
              "  (pooler): BertPooler(\n",
              "    (dense): Linear(in_features=768, out_features=768, bias=True)\n",
              "    (activation): Tanh()\n",
              "  )\n",
              "  (prefix_tuning): PrefixTuningPool(\n",
              "    (prefix_tunings): ModuleDict()\n",
              "  )\n",
              ")"
            ]
          },
          "metadata": {},
          "execution_count": 20
        }
      ],
      "source": [
        "from transformers import BertModel\n",
        "bert = BertModel.from_pretrained(\"bert-base-uncased\")\n",
        "bert"
      ]
    },
    {
      "cell_type": "code",
      "execution_count": 24,
      "id": "f5a11c2c-a2ce-499b-a434-a144ee2d7a22",
      "metadata": {
        "id": "f5a11c2c-a2ce-499b-a434-a144ee2d7a22"
      },
      "outputs": [],
      "source": [
        "def count_parameters(model):\n",
        "    total  = sum(p.numel() for p in model.parameters())\n",
        "    trainable = sum(p.numel() for p in model.parameters() if p.requires_grad)\n",
        "    print(f\"Trainable parameters {trainable}/{total}\")"
      ]
    },
    {
      "cell_type": "code",
      "execution_count": 10,
      "id": "8a29156c-5d24-443b-a41e-1d7a52932401",
      "metadata": {
        "colab": {
          "base_uri": "https://localhost:8080/"
        },
        "id": "8a29156c-5d24-443b-a41e-1d7a52932401",
        "outputId": "947eb459-474b-4016-c2f7-645908be6393"
      },
      "outputs": [
        {
          "output_type": "stream",
          "name": "stdout",
          "text": [
            "Trainable parameters 110106428/110106428\n"
          ]
        }
      ],
      "source": [
        "count_parameters(model)"
      ]
    },
    {
      "cell_type": "markdown",
      "id": "39cf7940-56e4-46b7-8cdb-51398ff2617f",
      "metadata": {
        "id": "39cf7940-56e4-46b7-8cdb-51398ff2617f"
      },
      "source": [
        "## Part 2 - BERT for text classification\n",
        "\n",
        "We will use BERT to train a spam detection classifier on `sms_spam` dataset. Let's load the dataset from [Huggingface datasets](https://huggingface.co/docs/datasets/index) and inspect the dataset."
      ]
    },
    {
      "cell_type": "code",
      "execution_count": null,
      "id": "f9022091-9291-479f-86d7-7e98e3c58bf7",
      "metadata": {
        "id": "f9022091-9291-479f-86d7-7e98e3c58bf7"
      },
      "outputs": [],
      "source": [
        "from datasets import load_dataset\n",
        "sms = load_dataset(\"sms_spam\")"
      ]
    },
    {
      "cell_type": "code",
      "execution_count": 2,
      "id": "c81b4a9d-2610-484c-b6d2-2e214c654388",
      "metadata": {
        "colab": {
          "base_uri": "https://localhost:8080/"
        },
        "id": "c81b4a9d-2610-484c-b6d2-2e214c654388",
        "outputId": "bda2eaac-eebe-4e90-9ae1-f8d8001c158a"
      },
      "outputs": [
        {
          "output_type": "execute_result",
          "data": {
            "text/plain": [
              "{'label': 0,\n",
              " 'sms': 'Go until jurong point, crazy.. Available only in bugis n great world la e buffet... Cine there got amore wat...\\n'}"
            ]
          },
          "metadata": {},
          "execution_count": 2
        }
      ],
      "source": [
        "sms[\"train\"][0]"
      ]
    },
    {
      "cell_type": "code",
      "execution_count": 3,
      "id": "03aa847d-6237-4b12-afaf-a69605993b7f",
      "metadata": {
        "colab": {
          "base_uri": "https://localhost:8080/"
        },
        "id": "03aa847d-6237-4b12-afaf-a69605993b7f",
        "outputId": "b5ec6f63-94a0-4b5b-d1db-c4fc15d9df9f"
      },
      "outputs": [
        {
          "output_type": "execute_result",
          "data": {
            "text/plain": [
              "DatasetDict({\n",
              "    train: Dataset({\n",
              "        features: ['sms', 'label'],\n",
              "        num_rows: 5574\n",
              "    })\n",
              "})"
            ]
          },
          "metadata": {},
          "execution_count": 3
        }
      ],
      "source": [
        "sms"
      ]
    },
    {
      "cell_type": "markdown",
      "id": "009813cb-a71a-4f52-8ea3-54e88151210f",
      "metadata": {
        "id": "009813cb-a71a-4f52-8ea3-54e88151210f"
      },
      "source": [
        "The sms_spam dataset contains 5574 training examples and do not have any validation and testset associated. We will split 1000 examples as validation set for model selection."
      ]
    },
    {
      "cell_type": "code",
      "execution_count": 4,
      "id": "5b975ff5-539b-4845-bc60-2a87bf9ff68c",
      "metadata": {
        "colab": {
          "base_uri": "https://localhost:8080/"
        },
        "id": "5b975ff5-539b-4845-bc60-2a87bf9ff68c",
        "outputId": "cc3c01a3-4d60-48b7-df74-19ad3d1b0736"
      },
      "outputs": [
        {
          "output_type": "execute_result",
          "data": {
            "text/plain": [
              "DatasetDict({\n",
              "    train: Dataset({\n",
              "        features: ['sms', 'label'],\n",
              "        num_rows: 4574\n",
              "    })\n",
              "    test: Dataset({\n",
              "        features: ['sms', 'label'],\n",
              "        num_rows: 1000\n",
              "    })\n",
              "})"
            ]
          },
          "metadata": {},
          "execution_count": 4
        }
      ],
      "source": [
        "train_valid_dict = sms['train'].train_test_split(test_size=1000, shuffle=True, seed=123)\n",
        "train_valid_dict"
      ]
    },
    {
      "cell_type": "code",
      "execution_count": 5,
      "id": "06f94fb6-37a1-46f7-a326-502f36c1a4b6",
      "metadata": {
        "id": "06f94fb6-37a1-46f7-a326-502f36c1a4b6"
      },
      "outputs": [],
      "source": [
        "train_dataset = train_valid_dict['train']\n",
        "valid_dataset = train_valid_dict['test']"
      ]
    },
    {
      "cell_type": "code",
      "execution_count": 6,
      "id": "09bda0db-ed99-4d1d-9798-e6afbba9645f",
      "metadata": {
        "colab": {
          "base_uri": "https://localhost:8080/"
        },
        "id": "09bda0db-ed99-4d1d-9798-e6afbba9645f",
        "outputId": "8273b2a5-0de1-49c7-842c-4453b6a7da4c"
      },
      "outputs": [
        {
          "output_type": "execute_result",
          "data": {
            "text/plain": [
              "Dataset({\n",
              "    features: ['sms', 'label'],\n",
              "    num_rows: 4574\n",
              "})"
            ]
          },
          "metadata": {},
          "execution_count": 6
        }
      ],
      "source": [
        "train_dataset"
      ]
    },
    {
      "cell_type": "code",
      "execution_count": 7,
      "id": "f513852f-d585-4d54-a694-48dcc365f742",
      "metadata": {
        "colab": {
          "base_uri": "https://localhost:8080/"
        },
        "id": "f513852f-d585-4d54-a694-48dcc365f742",
        "outputId": "709018a4-5d6a-41ea-c6eb-c0b1e4a16670"
      },
      "outputs": [
        {
          "output_type": "execute_result",
          "data": {
            "text/plain": [
              "Dataset({\n",
              "    features: ['sms', 'label'],\n",
              "    num_rows: 1000\n",
              "})"
            ]
          },
          "metadata": {},
          "execution_count": 7
        }
      ],
      "source": [
        "valid_dataset"
      ]
    },
    {
      "cell_type": "markdown",
      "source": [
        "We will use BertTokenizer to tokenize the dataset and create dataloaders."
      ],
      "metadata": {
        "id": "gUN7cLFrNgpW"
      },
      "id": "gUN7cLFrNgpW"
    },
    {
      "cell_type": "code",
      "source": [
        "import torch"
      ],
      "metadata": {
        "id": "G5tOY-hrHxmR"
      },
      "id": "G5tOY-hrHxmR",
      "execution_count": 13,
      "outputs": []
    },
    {
      "cell_type": "code",
      "execution_count": 14,
      "id": "41720d63-6e70-4f8e-9edd-67af6ce12dbf",
      "metadata": {
        "colab": {
          "base_uri": "https://localhost:8080/",
          "height": 87,
          "referenced_widgets": [
            "6939e3087cb44a61887f56417ba5bee9",
            "446dae73310449f0a20596f778a6eefe",
            "5f270115bc0845eba5f3b12a32b8eca3",
            "bb913b90a8294b0292a86ea09431d838",
            "f44007f0bc6c4233a589d3933d8e2c9a",
            "752561a7aab84e45bb32205c08adb6cb",
            "70822781528b415395892f8903083740",
            "93f05d7ee4bf4f62a802e3edd096bf26",
            "1d5ad1744cc5461a809ead02a4267da7",
            "c8e7683594134ee9834868bd1b473660",
            "82557793e59e47b6bbe81b954f4fed7c"
          ]
        },
        "id": "41720d63-6e70-4f8e-9edd-67af6ce12dbf",
        "outputId": "a95bc85b-7809-4fbe-bdf8-603610224b81"
      },
      "outputs": [
        {
          "output_type": "stream",
          "name": "stderr",
          "text": [
            "Loading cached processed dataset at /root/.cache/huggingface/datasets/sms_spam/plain_text/1.0.0/53f051d3b5f62d99d61792c91acefe4f1577ad3e4c216fb0ad39e30b9f20019c/cache-65afa8994f94467a.arrow\n"
          ]
        },
        {
          "output_type": "display_data",
          "data": {
            "text/plain": [
              "  0%|          | 0/1 [00:00<?, ?ba/s]"
            ],
            "application/vnd.jupyter.widget-view+json": {
              "version_major": 2,
              "version_minor": 0,
              "model_id": "6939e3087cb44a61887f56417ba5bee9"
            }
          },
          "metadata": {}
        }
      ],
      "source": [
        "### tokenize dataset and create dataloader\n",
        "def tokenize_and_create_dataloader(dataset, shuffle=True, batch_size=8):\n",
        "    dataset = dataset.rename_column('label', 'labels')\n",
        "    dataset = dataset.map(lambda e: tokenizer(e['sms'], truncation=True, padding='max_length'), batched=True)\n",
        "    dataset.set_format(type='torch', columns=['input_ids', 'token_type_ids', 'attention_mask', 'labels'])    \n",
        "    dataloader = torch.utils.data.DataLoader(dataset, batch_size=batch_size, shuffle=shuffle)\n",
        "    return dataloader\n",
        "\n",
        "train_dataloader = tokenize_and_create_dataloader(train_dataset)\n",
        "valid_dataloader = tokenize_and_create_dataloader(valid_dataset, shuffle=False)"
      ]
    },
    {
      "cell_type": "code",
      "execution_count": 15,
      "id": "9e7491d4-b3d2-43e0-a596-22035949057f",
      "metadata": {
        "colab": {
          "base_uri": "https://localhost:8080/"
        },
        "id": "9e7491d4-b3d2-43e0-a596-22035949057f",
        "outputId": "942895c6-0b5d-4ac5-89bb-f27a3faefc86"
      },
      "outputs": [
        {
          "output_type": "execute_result",
          "data": {
            "text/plain": [
              "{'attention_mask': tensor([[1, 1, 1,  ..., 0, 0, 0],\n",
              "         [1, 1, 1,  ..., 0, 0, 0],\n",
              "         [1, 1, 1,  ..., 0, 0, 0],\n",
              "         ...,\n",
              "         [1, 1, 1,  ..., 0, 0, 0],\n",
              "         [1, 1, 1,  ..., 0, 0, 0],\n",
              "         [1, 1, 1,  ..., 0, 0, 0]]),\n",
              " 'input_ids': tensor([[  101,  2204,  1012,  ...,     0,     0,     0],\n",
              "         [  101,  1045,  1005,  ...,     0,     0,     0],\n",
              "         [  101,  1045,  1005,  ...,     0,     0,     0],\n",
              "         ...,\n",
              "         [  101, 14145,  2080,  ...,     0,     0,     0],\n",
              "         [  101,  2469,  2021,  ...,     0,     0,     0],\n",
              "         [  101,  2129,  2106,  ...,     0,     0,     0]]),\n",
              " 'labels': tensor([0, 0, 0, 0, 0, 0, 0, 0]),\n",
              " 'token_type_ids': tensor([[0, 0, 0,  ..., 0, 0, 0],\n",
              "         [0, 0, 0,  ..., 0, 0, 0],\n",
              "         [0, 0, 0,  ..., 0, 0, 0],\n",
              "         ...,\n",
              "         [0, 0, 0,  ..., 0, 0, 0],\n",
              "         [0, 0, 0,  ..., 0, 0, 0],\n",
              "         [0, 0, 0,  ..., 0, 0, 0]])}"
            ]
          },
          "metadata": {},
          "execution_count": 15
        }
      ],
      "source": [
        "next(iter(train_dataloader))"
      ]
    },
    {
      "cell_type": "markdown",
      "source": [
        "#### Finetuning BERT\n",
        "\n",
        "The pretrained BERT provides feature representation of the given input. To use BERT for text classification, a classifier is added on top of BERT to predict the class label given the feature extracted by BERT. The classifier is usually a one-layer feed forward network followed by a softmax layer. The first output of BERT corresponding to the first token in the input (**[CLS]**) is used as the input to the classifier.\n",
        "\n",
        "\n",
        "![finetuning](https://jalammar.github.io/images/bert-classifier.png)"
      ],
      "metadata": {
        "id": "XX1muGEXN6EB"
      },
      "id": "XX1muGEXN6EB"
    },
    {
      "cell_type": "markdown",
      "source": [
        "We now define our classifer MyBertForSequenceClassification model. This implementation is adapted from BertForSequenceClassification model in huggingface transformers library with some obmitted details for illustration purpose."
      ],
      "metadata": {
        "id": "HgozrhR-c_-W"
      },
      "id": "HgozrhR-c_-W"
    },
    {
      "cell_type": "code",
      "execution_count": 16,
      "id": "1661195f-f223-406f-b287-105d53a3363a",
      "metadata": {
        "id": "1661195f-f223-406f-b287-105d53a3363a"
      },
      "outputs": [],
      "source": [
        "import torch\n",
        "import torch.nn as nn\n",
        "from transformers import BertPreTrainedModel\n",
        "from typing import List, Optional, Tuple, Union\n",
        "\n",
        "class MyBertForSequenceClassification(BertPreTrainedModel):\n",
        "    def __init__(self, config):\n",
        "        super().__init__(config)\n",
        "        self.num_labels = config.num_labels\n",
        "        self.config = config\n",
        "\n",
        "        self.bert = BertModel(config)\n",
        "        classifier_dropout = (\n",
        "            config.classifier_dropout if config.classifier_dropout is not None else config.hidden_dropout_prob\n",
        "        )\n",
        "        self.dropout = nn.Dropout(classifier_dropout)\n",
        "        self.classifier = nn.Linear(config.hidden_size, config.num_labels)\n",
        "\n",
        "        # Initialize weights and apply final processing\n",
        "        self.init_weights()\n",
        "        \n",
        "    def forward(\n",
        "        self,\n",
        "        input_ids: Optional[torch.Tensor] = None,\n",
        "        attention_mask: Optional[torch.Tensor] = None,\n",
        "        token_type_ids: Optional[torch.Tensor] = None,\n",
        "        position_ids: Optional[torch.Tensor] = None,\n",
        "        head_mask: Optional[torch.Tensor] = None,\n",
        "        inputs_embeds: Optional[torch.Tensor] = None,\n",
        "        labels: Optional[torch.Tensor] = None,\n",
        "        output_attentions: Optional[bool] = None,\n",
        "        output_hidden_states: Optional[bool] = None,\n",
        "        return_dict: Optional[bool] = None,\n",
        "    ):\n",
        "        return_dict = return_dict if return_dict is not None else self.config.use_return_dict\n",
        "\n",
        "        outputs = self.bert(\n",
        "            input_ids,\n",
        "            attention_mask=attention_mask,\n",
        "            token_type_ids=token_type_ids,\n",
        "            position_ids=position_ids,\n",
        "            head_mask=head_mask,\n",
        "            inputs_embeds=inputs_embeds,\n",
        "            output_attentions=output_attentions,\n",
        "            output_hidden_states=output_hidden_states,\n",
        "            return_dict=return_dict,\n",
        "        )\n",
        "\n",
        "        pooled_output = outputs[1]\n",
        "\n",
        "        pooled_output = self.dropout(pooled_output)\n",
        "        logits = self.classifier(pooled_output)\n",
        "\n",
        "        return logits, outputs"
      ]
    },
    {
      "cell_type": "code",
      "execution_count": 21,
      "id": "569c53f2-b586-4883-980d-24a8126a596f",
      "metadata": {
        "colab": {
          "base_uri": "https://localhost:8080/"
        },
        "id": "569c53f2-b586-4883-980d-24a8126a596f",
        "outputId": "e9842c80-6302-418e-84c3-111d9abfe8e7"
      },
      "outputs": [
        {
          "output_type": "stream",
          "name": "stderr",
          "text": [
            "Some weights of the model checkpoint at bert-base-uncased were not used when initializing MyBertForSequenceClassification: ['cls.seq_relationship.bias', 'cls.seq_relationship.weight', 'cls.predictions.bias', 'cls.predictions.decoder.weight', 'cls.predictions.transform.LayerNorm.bias', 'cls.predictions.transform.dense.bias', 'cls.predictions.transform.dense.weight', 'cls.predictions.transform.LayerNorm.weight']\n",
            "- This IS expected if you are initializing MyBertForSequenceClassification from the checkpoint of a model trained on another task or with another architecture (e.g. initializing a BertForSequenceClassification model from a BertForPreTraining model).\n",
            "- This IS NOT expected if you are initializing MyBertForSequenceClassification from the checkpoint of a model that you expect to be exactly identical (initializing a BertForSequenceClassification model from a BertForSequenceClassification model).\n",
            "Some weights of MyBertForSequenceClassification were not initialized from the model checkpoint at bert-base-uncased and are newly initialized: ['classifier.bias', 'classifier.weight']\n",
            "You should probably TRAIN this model on a down-stream task to be able to use it for predictions and inference.\n"
          ]
        }
      ],
      "source": [
        "model = MyBertForSequenceClassification.from_pretrained('bert-base-uncased', num_labels=2)"
      ]
    },
    {
      "cell_type": "code",
      "execution_count": 22,
      "id": "2aa51a33-e8df-4366-b6da-a87fcb2d5f32",
      "metadata": {
        "scrolled": true,
        "tags": [],
        "colab": {
          "base_uri": "https://localhost:8080/"
        },
        "id": "2aa51a33-e8df-4366-b6da-a87fcb2d5f32",
        "outputId": "f0fc76a2-681d-4451-f99a-37f3a4946d32"
      },
      "outputs": [
        {
          "output_type": "execute_result",
          "data": {
            "text/plain": [
              "MyBertForSequenceClassification(\n",
              "  (bert): BertModel(\n",
              "    (shared_parameters): ModuleDict()\n",
              "    (invertible_adapters): ModuleDict()\n",
              "    (embeddings): BertEmbeddings(\n",
              "      (word_embeddings): Embedding(30522, 768, padding_idx=0)\n",
              "      (position_embeddings): Embedding(512, 768)\n",
              "      (token_type_embeddings): Embedding(2, 768)\n",
              "      (LayerNorm): LayerNorm((768,), eps=1e-12, elementwise_affine=True)\n",
              "      (dropout): Dropout(p=0.1, inplace=False)\n",
              "    )\n",
              "    (encoder): BertEncoder(\n",
              "      (layer): ModuleList(\n",
              "        (0): BertLayer(\n",
              "          (attention): BertAttention(\n",
              "            (self): BertSelfAttention(\n",
              "              (query): Linear(in_features=768, out_features=768, bias=True)\n",
              "              (key): Linear(in_features=768, out_features=768, bias=True)\n",
              "              (value): Linear(in_features=768, out_features=768, bias=True)\n",
              "              (dropout): Dropout(p=0.1, inplace=False)\n",
              "              (prefix_tuning): PrefixTuningShim(\n",
              "                (pool): PrefixTuningPool(\n",
              "                  (prefix_tunings): ModuleDict()\n",
              "                )\n",
              "              )\n",
              "            )\n",
              "            (output): BertSelfOutput(\n",
              "              (dense): Linear(in_features=768, out_features=768, bias=True)\n",
              "              (LayerNorm): LayerNorm((768,), eps=1e-12, elementwise_affine=True)\n",
              "              (dropout): Dropout(p=0.1, inplace=False)\n",
              "              (adapters): ModuleDict()\n",
              "              (adapter_fusion_layer): ModuleDict()\n",
              "            )\n",
              "          )\n",
              "          (intermediate): BertIntermediate(\n",
              "            (dense): Linear(in_features=768, out_features=3072, bias=True)\n",
              "            (intermediate_act_fn): GELUActivation()\n",
              "          )\n",
              "          (output): BertOutput(\n",
              "            (dense): Linear(in_features=3072, out_features=768, bias=True)\n",
              "            (LayerNorm): LayerNorm((768,), eps=1e-12, elementwise_affine=True)\n",
              "            (dropout): Dropout(p=0.1, inplace=False)\n",
              "            (adapters): ModuleDict()\n",
              "            (adapter_fusion_layer): ModuleDict()\n",
              "          )\n",
              "        )\n",
              "        (1): BertLayer(\n",
              "          (attention): BertAttention(\n",
              "            (self): BertSelfAttention(\n",
              "              (query): Linear(in_features=768, out_features=768, bias=True)\n",
              "              (key): Linear(in_features=768, out_features=768, bias=True)\n",
              "              (value): Linear(in_features=768, out_features=768, bias=True)\n",
              "              (dropout): Dropout(p=0.1, inplace=False)\n",
              "              (prefix_tuning): PrefixTuningShim(\n",
              "                (pool): PrefixTuningPool(\n",
              "                  (prefix_tunings): ModuleDict()\n",
              "                )\n",
              "              )\n",
              "            )\n",
              "            (output): BertSelfOutput(\n",
              "              (dense): Linear(in_features=768, out_features=768, bias=True)\n",
              "              (LayerNorm): LayerNorm((768,), eps=1e-12, elementwise_affine=True)\n",
              "              (dropout): Dropout(p=0.1, inplace=False)\n",
              "              (adapters): ModuleDict()\n",
              "              (adapter_fusion_layer): ModuleDict()\n",
              "            )\n",
              "          )\n",
              "          (intermediate): BertIntermediate(\n",
              "            (dense): Linear(in_features=768, out_features=3072, bias=True)\n",
              "            (intermediate_act_fn): GELUActivation()\n",
              "          )\n",
              "          (output): BertOutput(\n",
              "            (dense): Linear(in_features=3072, out_features=768, bias=True)\n",
              "            (LayerNorm): LayerNorm((768,), eps=1e-12, elementwise_affine=True)\n",
              "            (dropout): Dropout(p=0.1, inplace=False)\n",
              "            (adapters): ModuleDict()\n",
              "            (adapter_fusion_layer): ModuleDict()\n",
              "          )\n",
              "        )\n",
              "        (2): BertLayer(\n",
              "          (attention): BertAttention(\n",
              "            (self): BertSelfAttention(\n",
              "              (query): Linear(in_features=768, out_features=768, bias=True)\n",
              "              (key): Linear(in_features=768, out_features=768, bias=True)\n",
              "              (value): Linear(in_features=768, out_features=768, bias=True)\n",
              "              (dropout): Dropout(p=0.1, inplace=False)\n",
              "              (prefix_tuning): PrefixTuningShim(\n",
              "                (pool): PrefixTuningPool(\n",
              "                  (prefix_tunings): ModuleDict()\n",
              "                )\n",
              "              )\n",
              "            )\n",
              "            (output): BertSelfOutput(\n",
              "              (dense): Linear(in_features=768, out_features=768, bias=True)\n",
              "              (LayerNorm): LayerNorm((768,), eps=1e-12, elementwise_affine=True)\n",
              "              (dropout): Dropout(p=0.1, inplace=False)\n",
              "              (adapters): ModuleDict()\n",
              "              (adapter_fusion_layer): ModuleDict()\n",
              "            )\n",
              "          )\n",
              "          (intermediate): BertIntermediate(\n",
              "            (dense): Linear(in_features=768, out_features=3072, bias=True)\n",
              "            (intermediate_act_fn): GELUActivation()\n",
              "          )\n",
              "          (output): BertOutput(\n",
              "            (dense): Linear(in_features=3072, out_features=768, bias=True)\n",
              "            (LayerNorm): LayerNorm((768,), eps=1e-12, elementwise_affine=True)\n",
              "            (dropout): Dropout(p=0.1, inplace=False)\n",
              "            (adapters): ModuleDict()\n",
              "            (adapter_fusion_layer): ModuleDict()\n",
              "          )\n",
              "        )\n",
              "        (3): BertLayer(\n",
              "          (attention): BertAttention(\n",
              "            (self): BertSelfAttention(\n",
              "              (query): Linear(in_features=768, out_features=768, bias=True)\n",
              "              (key): Linear(in_features=768, out_features=768, bias=True)\n",
              "              (value): Linear(in_features=768, out_features=768, bias=True)\n",
              "              (dropout): Dropout(p=0.1, inplace=False)\n",
              "              (prefix_tuning): PrefixTuningShim(\n",
              "                (pool): PrefixTuningPool(\n",
              "                  (prefix_tunings): ModuleDict()\n",
              "                )\n",
              "              )\n",
              "            )\n",
              "            (output): BertSelfOutput(\n",
              "              (dense): Linear(in_features=768, out_features=768, bias=True)\n",
              "              (LayerNorm): LayerNorm((768,), eps=1e-12, elementwise_affine=True)\n",
              "              (dropout): Dropout(p=0.1, inplace=False)\n",
              "              (adapters): ModuleDict()\n",
              "              (adapter_fusion_layer): ModuleDict()\n",
              "            )\n",
              "          )\n",
              "          (intermediate): BertIntermediate(\n",
              "            (dense): Linear(in_features=768, out_features=3072, bias=True)\n",
              "            (intermediate_act_fn): GELUActivation()\n",
              "          )\n",
              "          (output): BertOutput(\n",
              "            (dense): Linear(in_features=3072, out_features=768, bias=True)\n",
              "            (LayerNorm): LayerNorm((768,), eps=1e-12, elementwise_affine=True)\n",
              "            (dropout): Dropout(p=0.1, inplace=False)\n",
              "            (adapters): ModuleDict()\n",
              "            (adapter_fusion_layer): ModuleDict()\n",
              "          )\n",
              "        )\n",
              "        (4): BertLayer(\n",
              "          (attention): BertAttention(\n",
              "            (self): BertSelfAttention(\n",
              "              (query): Linear(in_features=768, out_features=768, bias=True)\n",
              "              (key): Linear(in_features=768, out_features=768, bias=True)\n",
              "              (value): Linear(in_features=768, out_features=768, bias=True)\n",
              "              (dropout): Dropout(p=0.1, inplace=False)\n",
              "              (prefix_tuning): PrefixTuningShim(\n",
              "                (pool): PrefixTuningPool(\n",
              "                  (prefix_tunings): ModuleDict()\n",
              "                )\n",
              "              )\n",
              "            )\n",
              "            (output): BertSelfOutput(\n",
              "              (dense): Linear(in_features=768, out_features=768, bias=True)\n",
              "              (LayerNorm): LayerNorm((768,), eps=1e-12, elementwise_affine=True)\n",
              "              (dropout): Dropout(p=0.1, inplace=False)\n",
              "              (adapters): ModuleDict()\n",
              "              (adapter_fusion_layer): ModuleDict()\n",
              "            )\n",
              "          )\n",
              "          (intermediate): BertIntermediate(\n",
              "            (dense): Linear(in_features=768, out_features=3072, bias=True)\n",
              "            (intermediate_act_fn): GELUActivation()\n",
              "          )\n",
              "          (output): BertOutput(\n",
              "            (dense): Linear(in_features=3072, out_features=768, bias=True)\n",
              "            (LayerNorm): LayerNorm((768,), eps=1e-12, elementwise_affine=True)\n",
              "            (dropout): Dropout(p=0.1, inplace=False)\n",
              "            (adapters): ModuleDict()\n",
              "            (adapter_fusion_layer): ModuleDict()\n",
              "          )\n",
              "        )\n",
              "        (5): BertLayer(\n",
              "          (attention): BertAttention(\n",
              "            (self): BertSelfAttention(\n",
              "              (query): Linear(in_features=768, out_features=768, bias=True)\n",
              "              (key): Linear(in_features=768, out_features=768, bias=True)\n",
              "              (value): Linear(in_features=768, out_features=768, bias=True)\n",
              "              (dropout): Dropout(p=0.1, inplace=False)\n",
              "              (prefix_tuning): PrefixTuningShim(\n",
              "                (pool): PrefixTuningPool(\n",
              "                  (prefix_tunings): ModuleDict()\n",
              "                )\n",
              "              )\n",
              "            )\n",
              "            (output): BertSelfOutput(\n",
              "              (dense): Linear(in_features=768, out_features=768, bias=True)\n",
              "              (LayerNorm): LayerNorm((768,), eps=1e-12, elementwise_affine=True)\n",
              "              (dropout): Dropout(p=0.1, inplace=False)\n",
              "              (adapters): ModuleDict()\n",
              "              (adapter_fusion_layer): ModuleDict()\n",
              "            )\n",
              "          )\n",
              "          (intermediate): BertIntermediate(\n",
              "            (dense): Linear(in_features=768, out_features=3072, bias=True)\n",
              "            (intermediate_act_fn): GELUActivation()\n",
              "          )\n",
              "          (output): BertOutput(\n",
              "            (dense): Linear(in_features=3072, out_features=768, bias=True)\n",
              "            (LayerNorm): LayerNorm((768,), eps=1e-12, elementwise_affine=True)\n",
              "            (dropout): Dropout(p=0.1, inplace=False)\n",
              "            (adapters): ModuleDict()\n",
              "            (adapter_fusion_layer): ModuleDict()\n",
              "          )\n",
              "        )\n",
              "        (6): BertLayer(\n",
              "          (attention): BertAttention(\n",
              "            (self): BertSelfAttention(\n",
              "              (query): Linear(in_features=768, out_features=768, bias=True)\n",
              "              (key): Linear(in_features=768, out_features=768, bias=True)\n",
              "              (value): Linear(in_features=768, out_features=768, bias=True)\n",
              "              (dropout): Dropout(p=0.1, inplace=False)\n",
              "              (prefix_tuning): PrefixTuningShim(\n",
              "                (pool): PrefixTuningPool(\n",
              "                  (prefix_tunings): ModuleDict()\n",
              "                )\n",
              "              )\n",
              "            )\n",
              "            (output): BertSelfOutput(\n",
              "              (dense): Linear(in_features=768, out_features=768, bias=True)\n",
              "              (LayerNorm): LayerNorm((768,), eps=1e-12, elementwise_affine=True)\n",
              "              (dropout): Dropout(p=0.1, inplace=False)\n",
              "              (adapters): ModuleDict()\n",
              "              (adapter_fusion_layer): ModuleDict()\n",
              "            )\n",
              "          )\n",
              "          (intermediate): BertIntermediate(\n",
              "            (dense): Linear(in_features=768, out_features=3072, bias=True)\n",
              "            (intermediate_act_fn): GELUActivation()\n",
              "          )\n",
              "          (output): BertOutput(\n",
              "            (dense): Linear(in_features=3072, out_features=768, bias=True)\n",
              "            (LayerNorm): LayerNorm((768,), eps=1e-12, elementwise_affine=True)\n",
              "            (dropout): Dropout(p=0.1, inplace=False)\n",
              "            (adapters): ModuleDict()\n",
              "            (adapter_fusion_layer): ModuleDict()\n",
              "          )\n",
              "        )\n",
              "        (7): BertLayer(\n",
              "          (attention): BertAttention(\n",
              "            (self): BertSelfAttention(\n",
              "              (query): Linear(in_features=768, out_features=768, bias=True)\n",
              "              (key): Linear(in_features=768, out_features=768, bias=True)\n",
              "              (value): Linear(in_features=768, out_features=768, bias=True)\n",
              "              (dropout): Dropout(p=0.1, inplace=False)\n",
              "              (prefix_tuning): PrefixTuningShim(\n",
              "                (pool): PrefixTuningPool(\n",
              "                  (prefix_tunings): ModuleDict()\n",
              "                )\n",
              "              )\n",
              "            )\n",
              "            (output): BertSelfOutput(\n",
              "              (dense): Linear(in_features=768, out_features=768, bias=True)\n",
              "              (LayerNorm): LayerNorm((768,), eps=1e-12, elementwise_affine=True)\n",
              "              (dropout): Dropout(p=0.1, inplace=False)\n",
              "              (adapters): ModuleDict()\n",
              "              (adapter_fusion_layer): ModuleDict()\n",
              "            )\n",
              "          )\n",
              "          (intermediate): BertIntermediate(\n",
              "            (dense): Linear(in_features=768, out_features=3072, bias=True)\n",
              "            (intermediate_act_fn): GELUActivation()\n",
              "          )\n",
              "          (output): BertOutput(\n",
              "            (dense): Linear(in_features=3072, out_features=768, bias=True)\n",
              "            (LayerNorm): LayerNorm((768,), eps=1e-12, elementwise_affine=True)\n",
              "            (dropout): Dropout(p=0.1, inplace=False)\n",
              "            (adapters): ModuleDict()\n",
              "            (adapter_fusion_layer): ModuleDict()\n",
              "          )\n",
              "        )\n",
              "        (8): BertLayer(\n",
              "          (attention): BertAttention(\n",
              "            (self): BertSelfAttention(\n",
              "              (query): Linear(in_features=768, out_features=768, bias=True)\n",
              "              (key): Linear(in_features=768, out_features=768, bias=True)\n",
              "              (value): Linear(in_features=768, out_features=768, bias=True)\n",
              "              (dropout): Dropout(p=0.1, inplace=False)\n",
              "              (prefix_tuning): PrefixTuningShim(\n",
              "                (pool): PrefixTuningPool(\n",
              "                  (prefix_tunings): ModuleDict()\n",
              "                )\n",
              "              )\n",
              "            )\n",
              "            (output): BertSelfOutput(\n",
              "              (dense): Linear(in_features=768, out_features=768, bias=True)\n",
              "              (LayerNorm): LayerNorm((768,), eps=1e-12, elementwise_affine=True)\n",
              "              (dropout): Dropout(p=0.1, inplace=False)\n",
              "              (adapters): ModuleDict()\n",
              "              (adapter_fusion_layer): ModuleDict()\n",
              "            )\n",
              "          )\n",
              "          (intermediate): BertIntermediate(\n",
              "            (dense): Linear(in_features=768, out_features=3072, bias=True)\n",
              "            (intermediate_act_fn): GELUActivation()\n",
              "          )\n",
              "          (output): BertOutput(\n",
              "            (dense): Linear(in_features=3072, out_features=768, bias=True)\n",
              "            (LayerNorm): LayerNorm((768,), eps=1e-12, elementwise_affine=True)\n",
              "            (dropout): Dropout(p=0.1, inplace=False)\n",
              "            (adapters): ModuleDict()\n",
              "            (adapter_fusion_layer): ModuleDict()\n",
              "          )\n",
              "        )\n",
              "        (9): BertLayer(\n",
              "          (attention): BertAttention(\n",
              "            (self): BertSelfAttention(\n",
              "              (query): Linear(in_features=768, out_features=768, bias=True)\n",
              "              (key): Linear(in_features=768, out_features=768, bias=True)\n",
              "              (value): Linear(in_features=768, out_features=768, bias=True)\n",
              "              (dropout): Dropout(p=0.1, inplace=False)\n",
              "              (prefix_tuning): PrefixTuningShim(\n",
              "                (pool): PrefixTuningPool(\n",
              "                  (prefix_tunings): ModuleDict()\n",
              "                )\n",
              "              )\n",
              "            )\n",
              "            (output): BertSelfOutput(\n",
              "              (dense): Linear(in_features=768, out_features=768, bias=True)\n",
              "              (LayerNorm): LayerNorm((768,), eps=1e-12, elementwise_affine=True)\n",
              "              (dropout): Dropout(p=0.1, inplace=False)\n",
              "              (adapters): ModuleDict()\n",
              "              (adapter_fusion_layer): ModuleDict()\n",
              "            )\n",
              "          )\n",
              "          (intermediate): BertIntermediate(\n",
              "            (dense): Linear(in_features=768, out_features=3072, bias=True)\n",
              "            (intermediate_act_fn): GELUActivation()\n",
              "          )\n",
              "          (output): BertOutput(\n",
              "            (dense): Linear(in_features=3072, out_features=768, bias=True)\n",
              "            (LayerNorm): LayerNorm((768,), eps=1e-12, elementwise_affine=True)\n",
              "            (dropout): Dropout(p=0.1, inplace=False)\n",
              "            (adapters): ModuleDict()\n",
              "            (adapter_fusion_layer): ModuleDict()\n",
              "          )\n",
              "        )\n",
              "        (10): BertLayer(\n",
              "          (attention): BertAttention(\n",
              "            (self): BertSelfAttention(\n",
              "              (query): Linear(in_features=768, out_features=768, bias=True)\n",
              "              (key): Linear(in_features=768, out_features=768, bias=True)\n",
              "              (value): Linear(in_features=768, out_features=768, bias=True)\n",
              "              (dropout): Dropout(p=0.1, inplace=False)\n",
              "              (prefix_tuning): PrefixTuningShim(\n",
              "                (pool): PrefixTuningPool(\n",
              "                  (prefix_tunings): ModuleDict()\n",
              "                )\n",
              "              )\n",
              "            )\n",
              "            (output): BertSelfOutput(\n",
              "              (dense): Linear(in_features=768, out_features=768, bias=True)\n",
              "              (LayerNorm): LayerNorm((768,), eps=1e-12, elementwise_affine=True)\n",
              "              (dropout): Dropout(p=0.1, inplace=False)\n",
              "              (adapters): ModuleDict()\n",
              "              (adapter_fusion_layer): ModuleDict()\n",
              "            )\n",
              "          )\n",
              "          (intermediate): BertIntermediate(\n",
              "            (dense): Linear(in_features=768, out_features=3072, bias=True)\n",
              "            (intermediate_act_fn): GELUActivation()\n",
              "          )\n",
              "          (output): BertOutput(\n",
              "            (dense): Linear(in_features=3072, out_features=768, bias=True)\n",
              "            (LayerNorm): LayerNorm((768,), eps=1e-12, elementwise_affine=True)\n",
              "            (dropout): Dropout(p=0.1, inplace=False)\n",
              "            (adapters): ModuleDict()\n",
              "            (adapter_fusion_layer): ModuleDict()\n",
              "          )\n",
              "        )\n",
              "        (11): BertLayer(\n",
              "          (attention): BertAttention(\n",
              "            (self): BertSelfAttention(\n",
              "              (query): Linear(in_features=768, out_features=768, bias=True)\n",
              "              (key): Linear(in_features=768, out_features=768, bias=True)\n",
              "              (value): Linear(in_features=768, out_features=768, bias=True)\n",
              "              (dropout): Dropout(p=0.1, inplace=False)\n",
              "              (prefix_tuning): PrefixTuningShim(\n",
              "                (pool): PrefixTuningPool(\n",
              "                  (prefix_tunings): ModuleDict()\n",
              "                )\n",
              "              )\n",
              "            )\n",
              "            (output): BertSelfOutput(\n",
              "              (dense): Linear(in_features=768, out_features=768, bias=True)\n",
              "              (LayerNorm): LayerNorm((768,), eps=1e-12, elementwise_affine=True)\n",
              "              (dropout): Dropout(p=0.1, inplace=False)\n",
              "              (adapters): ModuleDict()\n",
              "              (adapter_fusion_layer): ModuleDict()\n",
              "            )\n",
              "          )\n",
              "          (intermediate): BertIntermediate(\n",
              "            (dense): Linear(in_features=768, out_features=3072, bias=True)\n",
              "            (intermediate_act_fn): GELUActivation()\n",
              "          )\n",
              "          (output): BertOutput(\n",
              "            (dense): Linear(in_features=3072, out_features=768, bias=True)\n",
              "            (LayerNorm): LayerNorm((768,), eps=1e-12, elementwise_affine=True)\n",
              "            (dropout): Dropout(p=0.1, inplace=False)\n",
              "            (adapters): ModuleDict()\n",
              "            (adapter_fusion_layer): ModuleDict()\n",
              "          )\n",
              "        )\n",
              "      )\n",
              "    )\n",
              "    (pooler): BertPooler(\n",
              "      (dense): Linear(in_features=768, out_features=768, bias=True)\n",
              "      (activation): Tanh()\n",
              "    )\n",
              "    (prefix_tuning): PrefixTuningPool(\n",
              "      (prefix_tunings): ModuleDict()\n",
              "    )\n",
              "  )\n",
              "  (dropout): Dropout(p=0.1, inplace=False)\n",
              "  (classifier): Linear(in_features=768, out_features=2, bias=True)\n",
              ")"
            ]
          },
          "metadata": {},
          "execution_count": 22
        }
      ],
      "source": [
        "model"
      ]
    },
    {
      "cell_type": "code",
      "execution_count": 25,
      "id": "b3d05326-bfb0-4d76-92e1-127f9559a741",
      "metadata": {
        "colab": {
          "base_uri": "https://localhost:8080/"
        },
        "id": "b3d05326-bfb0-4d76-92e1-127f9559a741",
        "outputId": "1413a371-77a3-48cd-e526-8b9f2f7e5db0"
      },
      "outputs": [
        {
          "output_type": "stream",
          "name": "stdout",
          "text": [
            "Trainable parameters 109483778/109483778\n"
          ]
        }
      ],
      "source": [
        "count_parameters(model)"
      ]
    },
    {
      "cell_type": "markdown",
      "source": [
        "Let take a look into the model output"
      ],
      "metadata": {
        "id": "rqnPTuJ_O9XZ"
      },
      "id": "rqnPTuJ_O9XZ"
    },
    {
      "cell_type": "code",
      "execution_count": 28,
      "id": "a2817c9e-e699-46b1-bf7a-eb1f58f6289d",
      "metadata": {
        "id": "a2817c9e-e699-46b1-bf7a-eb1f58f6289d",
        "colab": {
          "base_uri": "https://localhost:8080/"
        },
        "outputId": "0c139943-f7b5-450d-adfe-c8cc3ebd6742"
      },
      "outputs": [
        {
          "output_type": "execute_result",
          "data": {
            "text/plain": [
              "(tensor([[ 0.1789, -0.0224],\n",
              "         [ 0.4072,  0.1287],\n",
              "         [ 0.2268,  0.0664],\n",
              "         [ 0.3116, -0.0427],\n",
              "         [ 0.3225, -0.0212],\n",
              "         [ 0.3390,  0.0223],\n",
              "         [ 0.3463,  0.0511],\n",
              "         [ 0.2727, -0.1566]], device='cuda:0', grad_fn=<AddmmBackward0>),\n",
              " BaseModelOutputWithPoolingAndCrossAttentions([('last_hidden_state',\n",
              "                                                tensor([[[-0.0769,  0.1937, -0.3338,  ..., -0.5710,  0.2593,  0.3583],\n",
              "                                                         [ 0.1374, -0.0499,  0.5627,  ..., -0.5415,  0.7170, -0.2493],\n",
              "                                                         [ 0.0302, -0.0515,  0.3874,  ..., -0.7065, -0.0927, -0.2982],\n",
              "                                                         ...,\n",
              "                                                         [-0.2385, -0.3429,  0.1231,  ...,  0.2292,  0.0366, -0.2076],\n",
              "                                                         [ 0.0880, -0.2386,  0.4422,  ...,  0.0630,  0.0386, -0.0437],\n",
              "                                                         [ 0.0397, -0.1853,  0.4781,  ...,  0.0311,  0.1027,  0.0319]],\n",
              "                                                \n",
              "                                                        [[ 0.1010,  0.7258, -0.0423,  ..., -0.3905,  0.5052,  0.4248],\n",
              "                                                         [-0.0537,  0.4630,  0.6975,  ...,  0.0591,  0.9260,  0.7059],\n",
              "                                                         [ 0.3508,  0.8857,  0.7800,  ...,  0.1068,  0.2700,  0.3415],\n",
              "                                                         ...,\n",
              "                                                         [ 0.1843,  0.3991,  0.5692,  ..., -0.0109,  0.0138,  0.1475],\n",
              "                                                         [-0.0957,  0.1514,  0.5993,  ...,  0.1867,  0.1682,  0.0200],\n",
              "                                                         [ 0.1380,  0.2170,  0.5082,  ...,  0.1106,  0.0918, -0.0022]],\n",
              "                                                \n",
              "                                                        [[-0.0377,  0.0096,  0.1938,  ..., -0.7707,  0.3261,  0.4306],\n",
              "                                                         [-0.3049,  0.0055,  0.2954,  ..., -0.5501,  1.1662,  0.4767],\n",
              "                                                         [ 0.3478, -0.3181,  0.7447,  ..., -0.6600,  0.6982, -0.6647],\n",
              "                                                         ...,\n",
              "                                                         [-0.3434, -0.5174,  0.4534,  ...,  0.3207, -0.0505, -0.3235],\n",
              "                                                         [ 0.3590, -0.1626,  0.6909,  ...,  0.2608, -0.0427,  0.0141],\n",
              "                                                         [-0.1078, -0.4915,  0.7046,  ...,  0.1853, -0.0346, -0.1646]],\n",
              "                                                \n",
              "                                                        ...,\n",
              "                                                \n",
              "                                                        [[ 0.2691,  0.1899,  0.5259,  ..., -0.5308,  0.5576,  0.0868],\n",
              "                                                         [ 0.0430, -0.1314,  1.1611,  ..., -0.7130,  0.7781,  0.1920],\n",
              "                                                         [-0.5584, -0.2228,  1.3357,  ..., -0.7374,  0.6473, -0.3690],\n",
              "                                                         ...,\n",
              "                                                         [ 0.1859, -0.7448,  0.7033,  ...,  0.0304,  0.3217, -0.8436],\n",
              "                                                         [ 0.1470, -0.7631,  0.6123,  ...,  0.0409,  0.3227, -0.8386],\n",
              "                                                         [ 0.2254, -0.4357,  0.7502,  ..., -0.1911,  0.1920, -0.3303]],\n",
              "                                                \n",
              "                                                        [[ 0.2972,  0.1963,  0.3156,  ..., -0.6368,  0.2988,  0.1084],\n",
              "                                                         [ 0.5455,  0.5709,  1.1108,  ..., -0.6482,  0.5959, -0.0017],\n",
              "                                                         [ 0.3207,  0.1247,  0.3746,  ..., -0.4172,  0.9394, -0.4443],\n",
              "                                                         ...,\n",
              "                                                         [ 0.1573, -0.0674,  0.6478,  ...,  0.0684,  0.2565, -0.2364],\n",
              "                                                         [ 0.0294, -0.1060,  0.1114,  ...,  0.2331,  0.2352, -0.2271],\n",
              "                                                         [ 0.1121, -0.0921,  0.7818,  ..., -0.0919,  0.2343, -0.2479]],\n",
              "                                                \n",
              "                                                        [[-0.3192,  0.0132,  0.3007,  ..., -0.4916,  0.1359,  0.3935],\n",
              "                                                         [ 0.1580, -0.1521,  0.2751,  ..., -0.3564, -0.1662,  0.1795],\n",
              "                                                         [ 0.2048, -0.2238,  0.2416,  ..., -0.3248,  0.3986, -0.5856],\n",
              "                                                         ...,\n",
              "                                                         [-0.1439, -0.4733,  0.7690,  ...,  0.1801,  0.2198, -0.4860],\n",
              "                                                         [-0.0122, -0.6852,  0.7916,  ...,  0.2087,  0.3923, -0.5146],\n",
              "                                                         [ 0.1124, -0.3361,  0.8159,  ..., -0.1103,  0.1753, -0.4261]]],\n",
              "                                                       device='cuda:0', grad_fn=<NativeLayerNormBackward0>)),\n",
              "                                               ('pooler_output',\n",
              "                                                tensor([[-0.8942, -0.5614, -0.9130,  ..., -0.7003, -0.7693,  0.9409],\n",
              "                                                        [-0.8116, -0.3165, -0.8551,  ..., -0.7064, -0.5810,  0.9194],\n",
              "                                                        [-0.9029, -0.4810, -0.7926,  ..., -0.5584, -0.7208,  0.9428],\n",
              "                                                        ...,\n",
              "                                                        [-0.7555, -0.4313, -0.9371,  ..., -0.7638, -0.6486,  0.8834],\n",
              "                                                        [-0.6677, -0.4404, -0.8637,  ..., -0.6848, -0.6520,  0.8541],\n",
              "                                                        [-0.9000, -0.5409, -0.9825,  ..., -0.9034, -0.8304,  0.9008]],\n",
              "                                                       device='cuda:0', grad_fn=<TanhBackward0>))]))"
            ]
          },
          "metadata": {},
          "execution_count": 28
        }
      ],
      "source": [
        "batch = next(iter(train_dataloader))\n",
        "batch = {k: v.to(device) for k, v in batch.items()}\n",
        "model.to(device)\n",
        "outputs = model(**batch)\n",
        "outputs"
      ]
    },
    {
      "cell_type": "markdown",
      "id": "1427c35e-518d-416c-9e60-6a6c80f6fdcb",
      "metadata": {
        "id": "1427c35e-518d-416c-9e60-6a6c80f6fdcb"
      },
      "source": [
        "Training loop"
      ]
    },
    {
      "cell_type": "code",
      "execution_count": 29,
      "id": "6494d8ac-9a34-4539-a417-53323a37a9c2",
      "metadata": {
        "id": "6494d8ac-9a34-4539-a417-53323a37a9c2"
      },
      "outputs": [],
      "source": [
        "from tqdm import tqdm\n",
        "loss_fn = nn.CrossEntropyLoss()\n",
        "num_labels = 2\n",
        "\n",
        "\n",
        "def validate(epoch, model):\n",
        "    loss_sum = 0\n",
        "    valid_size = len(valid_dataset)\n",
        "    with torch.no_grad():\n",
        "        for i, batch in enumerate(tqdm(valid_dataloader)):\n",
        "            batch = {k: v.to(device) for k, v in batch.items()}\n",
        "            labels = batch['labels']\n",
        "            logits = outputs[0]\n",
        "            loss = loss_fn(logits.view(-1, num_labels), labels.view(-1))\n",
        "            loss_sum += loss.item()\n",
        "    loss_sum /= valid_size\n",
        "    print(f\"Valid loss: {loss_sum}\")\n",
        "    \n",
        "def train_one_epoch(epoch, model, optimizer):\n",
        "    plot_losses = []\n",
        "    for i, batch in enumerate(tqdm(train_dataloader)):\n",
        "        batch = {k: v.to(device) for k, v in batch.items()}\n",
        "        labels = batch['labels']\n",
        "        outputs = model(**batch)\n",
        "        logits = outputs[0]\n",
        "        loss = loss_fn(logits.view(-1, num_labels), labels.view(-1))\n",
        "        # Backpropagation\n",
        "        optimizer.zero_grad()\n",
        "        loss.backward()\n",
        "        optimizer.step()\n",
        "        if i % 100 == 0:\n",
        "            print(f\"loss: {loss}\")\n",
        "            plot_losses.append(loss.cpu().item())\n",
        "    print(f\"loss: {loss}\")\n",
        "    validate(epoch, model)\n",
        "    return plot_losses"
      ]
    },
    {
      "cell_type": "code",
      "source": [
        "import matplotlib.pyplot as plt\n",
        "plt.switch_backend('agg')\n",
        "import matplotlib.ticker as ticker\n",
        "import numpy as np\n",
        "%matplotlib inline\n",
        "    \n",
        "def showPlot(points):\n",
        "    plt.figure()\n",
        "    fig, ax = plt.subplots()\n",
        "    # this locator puts ticks at regular intervals\n",
        "    loc = ticker.MultipleLocator(base=0.2)\n",
        "    ax.yaxis.set_major_locator(loc)\n",
        "    plt.plot(points)"
      ],
      "metadata": {
        "id": "M4vf3UUXPitC"
      },
      "id": "M4vf3UUXPitC",
      "execution_count": 30,
      "outputs": []
    },
    {
      "cell_type": "code",
      "execution_count": 31,
      "id": "6a761254-3cc1-45f6-a1ba-79bba09987b7",
      "metadata": {
        "id": "6a761254-3cc1-45f6-a1ba-79bba09987b7"
      },
      "outputs": [],
      "source": [
        "import time\n",
        "def train_iters(model, num_epochs=2, learning_rate=5e-5):\n",
        "  start = time.time()\n",
        "  optimizer = torch.optim.Adam(model.parameters(), lr=learning_rate)\n",
        "  plot_losses = []\n",
        "  for iter in range(1, num_epochs + 1):\n",
        "    losses = train_one_epoch(iter, model, optimizer)\n",
        "    plot_losses.extend(losses)\n",
        "  elapsed = time.time() - start\n",
        "  print(f\"Finish training in {elapsed} seconds ({time.strftime('%H:%M:%S', time.gmtime(elapsed))})\")\n",
        "  showPlot(plot_losses)\n"
      ]
    },
    {
      "cell_type": "code",
      "source": [
        "train_iters(model)"
      ],
      "metadata": {
        "colab": {
          "base_uri": "https://localhost:8080/",
          "height": 658
        },
        "id": "ZTf2e45EWMeq",
        "outputId": "cfbc593e-f5c3-40ab-d76e-8ae1567f49b3"
      },
      "id": "ZTf2e45EWMeq",
      "execution_count": 32,
      "outputs": [
        {
          "output_type": "stream",
          "name": "stderr",
          "text": [
            "  0%|          | 1/572 [00:01<13:44,  1.44s/it]"
          ]
        },
        {
          "output_type": "stream",
          "name": "stdout",
          "text": [
            "loss: 0.6423611640930176\n"
          ]
        },
        {
          "output_type": "stream",
          "name": "stderr",
          "text": [
            " 18%|█▊        | 101/572 [02:14<10:40,  1.36s/it]"
          ]
        },
        {
          "output_type": "stream",
          "name": "stdout",
          "text": [
            "loss: 0.012480862438678741\n"
          ]
        },
        {
          "output_type": "stream",
          "name": "stderr",
          "text": [
            " 35%|███▌      | 201/572 [04:27<08:20,  1.35s/it]"
          ]
        },
        {
          "output_type": "stream",
          "name": "stdout",
          "text": [
            "loss: 0.018549101427197456\n"
          ]
        },
        {
          "output_type": "stream",
          "name": "stderr",
          "text": [
            " 53%|█████▎    | 301/572 [06:41<06:03,  1.34s/it]"
          ]
        },
        {
          "output_type": "stream",
          "name": "stdout",
          "text": [
            "loss: 0.002374887466430664\n"
          ]
        },
        {
          "output_type": "stream",
          "name": "stderr",
          "text": [
            " 70%|███████   | 401/572 [08:54<03:49,  1.34s/it]"
          ]
        },
        {
          "output_type": "stream",
          "name": "stdout",
          "text": [
            "loss: 0.006853816565126181\n"
          ]
        },
        {
          "output_type": "stream",
          "name": "stderr",
          "text": [
            " 88%|████████▊ | 501/572 [11:08<01:35,  1.34s/it]"
          ]
        },
        {
          "output_type": "stream",
          "name": "stdout",
          "text": [
            "loss: 0.006559280678629875\n"
          ]
        },
        {
          "output_type": "stream",
          "name": "stderr",
          "text": [
            "100%|██████████| 572/572 [12:42<00:00,  1.33s/it]\n"
          ]
        },
        {
          "output_type": "stream",
          "name": "stdout",
          "text": [
            "loss: 0.06563235074281693\n"
          ]
        },
        {
          "output_type": "stream",
          "name": "stderr",
          "text": [
            "100%|██████████| 125/125 [00:00<00:00, 182.41it/s]\n"
          ]
        },
        {
          "output_type": "stream",
          "name": "stdout",
          "text": [
            "Valid loss: 0.07456368941068649\n"
          ]
        },
        {
          "output_type": "stream",
          "name": "stderr",
          "text": [
            "  0%|          | 1/572 [00:01<12:42,  1.34s/it]"
          ]
        },
        {
          "output_type": "stream",
          "name": "stdout",
          "text": [
            "loss: 0.005928687751293182\n"
          ]
        },
        {
          "output_type": "stream",
          "name": "stderr",
          "text": [
            " 18%|█▊        | 101/572 [02:14<10:32,  1.34s/it]"
          ]
        },
        {
          "output_type": "stream",
          "name": "stdout",
          "text": [
            "loss: 0.0028384742327034473\n"
          ]
        },
        {
          "output_type": "stream",
          "name": "stderr",
          "text": [
            " 35%|███▌      | 201/572 [04:27<08:17,  1.34s/it]"
          ]
        },
        {
          "output_type": "stream",
          "name": "stdout",
          "text": [
            "loss: 0.0031062704510986805\n"
          ]
        },
        {
          "output_type": "stream",
          "name": "stderr",
          "text": [
            " 53%|█████▎    | 301/572 [06:41<06:04,  1.34s/it]"
          ]
        },
        {
          "output_type": "stream",
          "name": "stdout",
          "text": [
            "loss: 0.003994924481958151\n"
          ]
        },
        {
          "output_type": "stream",
          "name": "stderr",
          "text": [
            " 70%|███████   | 401/572 [08:54<03:49,  1.34s/it]"
          ]
        },
        {
          "output_type": "stream",
          "name": "stdout",
          "text": [
            "loss: 0.0053444006480276585\n"
          ]
        },
        {
          "output_type": "stream",
          "name": "stderr",
          "text": [
            " 88%|████████▊ | 501/572 [11:07<01:35,  1.34s/it]"
          ]
        },
        {
          "output_type": "stream",
          "name": "stdout",
          "text": [
            "loss: 0.0039217215962708\n"
          ]
        },
        {
          "output_type": "stream",
          "name": "stderr",
          "text": [
            "100%|██████████| 572/572 [12:42<00:00,  1.33s/it]\n"
          ]
        },
        {
          "output_type": "stream",
          "name": "stdout",
          "text": [
            "loss: 0.0029615259263664484\n"
          ]
        },
        {
          "output_type": "stream",
          "name": "stderr",
          "text": [
            "100%|██████████| 125/125 [00:00<00:00, 187.23it/s]\n"
          ]
        },
        {
          "output_type": "stream",
          "name": "stdout",
          "text": [
            "Valid loss: 0.07456368941068649\n",
            "Finish training in 1526.2948710918427 seconds (00:25:26)\n"
          ]
        },
        {
          "output_type": "display_data",
          "data": {
            "text/plain": [
              "<Figure size 432x288 with 0 Axes>"
            ]
          },
          "metadata": {}
        },
        {
          "output_type": "display_data",
          "data": {
            "text/plain": [
              "<Figure size 432x288 with 1 Axes>"
            ],
            "image/png": "[encoded data removed]"
          },
          "metadata": {
            "needs_background": "light"
          }
        }
      ]
    },
    {
      "cell_type": "code",
      "source": [
        "model.cpu()\n",
        "torch.cuda.empty_cache()"
      ],
      "metadata": {
        "id": "P6pJIFK1is1I"
      },
      "id": "P6pJIFK1is1I",
      "execution_count": 33,
      "outputs": []
    },
    {
      "cell_type": "markdown",
      "id": "df95d494-5070-492f-9322-7c7370ab232b",
      "metadata": {
        "id": "df95d494-5070-492f-9322-7c7370ab232b"
      },
      "source": [
        "### Freezing BERT layers\n",
        "Freezing layers means disabling gradient computation and backpropagation for the weights of these layers. It is a common technique to reduce overfit of a pretrained model on small dataset as well as reduce the computation cost. The bottom layers often encode universal features while the top layers captures task-specific informations. Therefore, we often freeze the bottom layers and only finetune a few top layers on downstream task."
      ]
    },
    {
      "cell_type": "code",
      "execution_count": 34,
      "id": "5268b19b-bbdc-44da-b039-0b6a85916ea0",
      "metadata": {
        "id": "5268b19b-bbdc-44da-b039-0b6a85916ea0"
      },
      "outputs": [],
      "source": [
        "def freeze_module_params(m):\n",
        "    if m is not None:\n",
        "        for p in m.parameters():\n",
        "            p.requires_grad = False"
      ]
    },
    {
      "cell_type": "markdown",
      "id": "dd5446c4-9bfd-4963-84d9-12c3de5373df",
      "metadata": {
        "id": "dd5446c4-9bfd-4963-84d9-12c3de5373df"
      },
      "source": [
        "Freeze the bottom 10 layers"
      ]
    },
    {
      "cell_type": "code",
      "execution_count": 35,
      "id": "31ccddd3-0123-4d47-a417-f11303125794",
      "metadata": {
        "id": "31ccddd3-0123-4d47-a417-f11303125794",
        "colab": {
          "base_uri": "https://localhost:8080/"
        },
        "outputId": "edc73d8b-abda-450e-8892-f6f4b623eb4e"
      },
      "outputs": [
        {
          "output_type": "stream",
          "name": "stderr",
          "text": [
            "Some weights of the model checkpoint at bert-base-uncased were not used when initializing MyBertForSequenceClassification: ['cls.seq_relationship.bias', 'cls.seq_relationship.weight', 'cls.predictions.bias', 'cls.predictions.decoder.weight', 'cls.predictions.transform.LayerNorm.bias', 'cls.predictions.transform.dense.bias', 'cls.predictions.transform.dense.weight', 'cls.predictions.transform.LayerNorm.weight']\n",
            "- This IS expected if you are initializing MyBertForSequenceClassification from the checkpoint of a model trained on another task or with another architecture (e.g. initializing a BertForSequenceClassification model from a BertForPreTraining model).\n",
            "- This IS NOT expected if you are initializing MyBertForSequenceClassification from the checkpoint of a model that you expect to be exactly identical (initializing a BertForSequenceClassification model from a BertForSequenceClassification model).\n",
            "Some weights of MyBertForSequenceClassification were not initialized from the model checkpoint at bert-base-uncased and are newly initialized: ['classifier.bias', 'classifier.weight']\n",
            "You should probably TRAIN this model on a down-stream task to be able to use it for predictions and inference.\n"
          ]
        }
      ],
      "source": [
        "freeze_model = MyBertForSequenceClassification.from_pretrained('bert-base-uncased', num_labels=2)\n",
        "for i in range(10):\n",
        "    freeze_module_params(freeze_model.bert.encoder.layer[i])"
      ]
    },
    {
      "cell_type": "code",
      "execution_count": 36,
      "id": "598e1f8a-37ca-4980-9a71-e3f453e279e9",
      "metadata": {
        "id": "598e1f8a-37ca-4980-9a71-e3f453e279e9",
        "colab": {
          "base_uri": "https://localhost:8080/"
        },
        "outputId": "e6f6f048-7405-43b3-8a02-1269006f4ea1"
      },
      "outputs": [
        {
          "output_type": "stream",
          "name": "stdout",
          "text": [
            "Trainable parameters 38605058/109483778\n"
          ]
        }
      ],
      "source": [
        "count_parameters(freeze_model)"
      ]
    },
    {
      "cell_type": "markdown",
      "id": "1c22c901-81be-4d12-8bf8-a72eaa345ccf",
      "metadata": {
        "id": "1c22c901-81be-4d12-8bf8-a72eaa345ccf"
      },
      "source": [
        "Train freeze models"
      ]
    },
    {
      "cell_type": "code",
      "source": [
        "freeze_model.to(device)\n",
        "train_iters(freeze_model)"
      ],
      "metadata": {
        "colab": {
          "base_uri": "https://localhost:8080/",
          "height": 660
        },
        "id": "OMvZxRfuiPtm",
        "outputId": "b612105f-3842-4406-b504-8260357354b9"
      },
      "id": "OMvZxRfuiPtm",
      "execution_count": 37,
      "outputs": [
        {
          "output_type": "stream",
          "name": "stderr",
          "text": [
            "  0%|          | 1/572 [00:01<11:07,  1.17s/it]"
          ]
        },
        {
          "output_type": "stream",
          "name": "stdout",
          "text": [
            "loss: 0.5333032011985779\n"
          ]
        },
        {
          "output_type": "stream",
          "name": "stderr",
          "text": [
            " 18%|█▊        | 101/572 [01:45<08:16,  1.05s/it]"
          ]
        },
        {
          "output_type": "stream",
          "name": "stdout",
          "text": [
            "loss: 0.005200885236263275\n"
          ]
        },
        {
          "output_type": "stream",
          "name": "stderr",
          "text": [
            " 35%|███▌      | 201/572 [03:30<06:30,  1.05s/it]"
          ]
        },
        {
          "output_type": "stream",
          "name": "stdout",
          "text": [
            "loss: 0.576810359954834\n"
          ]
        },
        {
          "output_type": "stream",
          "name": "stderr",
          "text": [
            " 53%|█████▎    | 301/572 [05:15<04:45,  1.05s/it]"
          ]
        },
        {
          "output_type": "stream",
          "name": "stdout",
          "text": [
            "loss: 0.02321488969027996\n"
          ]
        },
        {
          "output_type": "stream",
          "name": "stderr",
          "text": [
            " 70%|███████   | 401/572 [07:00<03:00,  1.06s/it]"
          ]
        },
        {
          "output_type": "stream",
          "name": "stdout",
          "text": [
            "loss: 0.021850798279047012\n"
          ]
        },
        {
          "output_type": "stream",
          "name": "stderr",
          "text": [
            " 88%|████████▊ | 501/572 [08:44<01:14,  1.05s/it]"
          ]
        },
        {
          "output_type": "stream",
          "name": "stdout",
          "text": [
            "loss: 0.003393069375306368\n"
          ]
        },
        {
          "output_type": "stream",
          "name": "stderr",
          "text": [
            "100%|██████████| 572/572 [09:58<00:00,  1.05s/it]\n"
          ]
        },
        {
          "output_type": "stream",
          "name": "stdout",
          "text": [
            "loss: 0.0012984712375327945\n"
          ]
        },
        {
          "output_type": "stream",
          "name": "stderr",
          "text": [
            "100%|██████████| 125/125 [00:00<00:00, 191.26it/s]\n"
          ]
        },
        {
          "output_type": "stream",
          "name": "stdout",
          "text": [
            "Valid loss: 0.07456368941068649\n"
          ]
        },
        {
          "output_type": "stream",
          "name": "stderr",
          "text": [
            "  0%|          | 1/572 [00:01<10:02,  1.05s/it]"
          ]
        },
        {
          "output_type": "stream",
          "name": "stdout",
          "text": [
            "loss: 0.0012465919135138392\n"
          ]
        },
        {
          "output_type": "stream",
          "name": "stderr",
          "text": [
            " 18%|█▊        | 101/572 [01:45<08:16,  1.05s/it]"
          ]
        },
        {
          "output_type": "stream",
          "name": "stdout",
          "text": [
            "loss: 0.001112085417844355\n"
          ]
        },
        {
          "output_type": "stream",
          "name": "stderr",
          "text": [
            " 35%|███▌      | 201/572 [03:30<06:25,  1.04s/it]"
          ]
        },
        {
          "output_type": "stream",
          "name": "stdout",
          "text": [
            "loss: 0.00043935218127444386\n"
          ]
        },
        {
          "output_type": "stream",
          "name": "stderr",
          "text": [
            " 53%|█████▎    | 301/572 [05:15<04:45,  1.05s/it]"
          ]
        },
        {
          "output_type": "stream",
          "name": "stdout",
          "text": [
            "loss: 0.0006123420316725969\n"
          ]
        },
        {
          "output_type": "stream",
          "name": "stderr",
          "text": [
            " 70%|███████   | 401/572 [07:00<03:00,  1.05s/it]"
          ]
        },
        {
          "output_type": "stream",
          "name": "stdout",
          "text": [
            "loss: 0.000582114967983216\n"
          ]
        },
        {
          "output_type": "stream",
          "name": "stderr",
          "text": [
            " 88%|████████▊ | 501/572 [08:44<01:14,  1.05s/it]"
          ]
        },
        {
          "output_type": "stream",
          "name": "stdout",
          "text": [
            "loss: 0.0002832615573424846\n"
          ]
        },
        {
          "output_type": "stream",
          "name": "stderr",
          "text": [
            "100%|██████████| 572/572 [09:58<00:00,  1.05s/it]\n"
          ]
        },
        {
          "output_type": "stream",
          "name": "stdout",
          "text": [
            "loss: 0.00016731326468288898\n"
          ]
        },
        {
          "output_type": "stream",
          "name": "stderr",
          "text": [
            "100%|██████████| 125/125 [00:00<00:00, 191.65it/s]\n"
          ]
        },
        {
          "output_type": "stream",
          "name": "stdout",
          "text": [
            "Valid loss: 0.07456368941068649\n",
            "Finish training in 1199.3290600776672 seconds (00:19:59)\n"
          ]
        },
        {
          "output_type": "display_data",
          "data": {
            "text/plain": [
              "<Figure size 432x288 with 0 Axes>"
            ]
          },
          "metadata": {}
        },
        {
          "output_type": "display_data",
          "data": {
            "text/plain": [
              "<Figure size 432x288 with 1 Axes>"
            ],
            "image/png": "[encoded data removed]"
          },
          "metadata": {
            "needs_background": "light"
          }
        }
      ]
    },
    {
      "cell_type": "code",
      "source": [
        "freeze_model.cpu()\n",
        "torch.cuda.empty_cache()"
      ],
      "metadata": {
        "id": "CbbVRF91sq9o"
      },
      "id": "CbbVRF91sq9o",
      "execution_count": 38,
      "outputs": []
    },
    {
      "cell_type": "markdown",
      "id": "7079adaf-f01d-46be-a836-d08a6da259ae",
      "metadata": {
        "id": "7079adaf-f01d-46be-a836-d08a6da259ae"
      },
      "source": [
        "### Adapters\n",
        "Adapter is an alternative method to fine-tuning BERT model on downstream tasks. Adapter is a lightweight feedforward layer added to every BERT layer to fast adapt BERT representation to the downstream task. While training adapters, other BERT parameters are frozen, i.e. not updated."
      ]
    },
    {
      "cell_type": "code",
      "execution_count": 39,
      "id": "6e19c7ee-a620-403e-aaec-05efdfb56864",
      "metadata": {
        "id": "6e19c7ee-a620-403e-aaec-05efdfb56864",
        "colab": {
          "base_uri": "https://localhost:8080/"
        },
        "outputId": "bd145f24-5f17-4ab2-bac0-703fe68b156e"
      },
      "outputs": [
        {
          "output_type": "stream",
          "name": "stderr",
          "text": [
            "Some weights of the model checkpoint at bert-base-uncased were not used when initializing BertForSequenceClassification: ['cls.seq_relationship.bias', 'cls.seq_relationship.weight', 'cls.predictions.bias', 'cls.predictions.decoder.weight', 'cls.predictions.transform.LayerNorm.bias', 'cls.predictions.transform.dense.bias', 'cls.predictions.transform.dense.weight', 'cls.predictions.transform.LayerNorm.weight']\n",
            "- This IS expected if you are initializing BertForSequenceClassification from the checkpoint of a model trained on another task or with another architecture (e.g. initializing a BertForSequenceClassification model from a BertForPreTraining model).\n",
            "- This IS NOT expected if you are initializing BertForSequenceClassification from the checkpoint of a model that you expect to be exactly identical (initializing a BertForSequenceClassification model from a BertForSequenceClassification model).\n",
            "Some weights of BertForSequenceClassification were not initialized from the model checkpoint at bert-base-uncased and are newly initialized: ['classifier.bias', 'classifier.weight']\n",
            "You should probably TRAIN this model on a down-stream task to be able to use it for predictions and inference.\n"
          ]
        }
      ],
      "source": [
        "from transformers import BertConfig, BertForSequenceClassification \n",
        "\n",
        "config = BertConfig.from_pretrained(\n",
        "    \"bert-base-uncased\",\n",
        "    num_labels=2,\n",
        ")\n",
        "adapter_model = BertForSequenceClassification.from_pretrained(\n",
        "    \"bert-base-uncased\",\n",
        "    config=config,\n",
        ")"
      ]
    },
    {
      "cell_type": "code",
      "execution_count": 40,
      "id": "2aae3c26-bd96-45f4-acdd-624c0d984ba2",
      "metadata": {
        "id": "2aae3c26-bd96-45f4-acdd-624c0d984ba2"
      },
      "outputs": [],
      "source": [
        "adapter_model.add_adapter('sms')"
      ]
    },
    {
      "cell_type": "code",
      "execution_count": 41,
      "id": "d93b2e8d-a7fa-4c8b-899d-a638a8851b98",
      "metadata": {
        "id": "d93b2e8d-a7fa-4c8b-899d-a638a8851b98",
        "colab": {
          "base_uri": "https://localhost:8080/"
        },
        "outputId": "413196e8-7050-44b0-9a2a-589b1a2e2130"
      },
      "outputs": [
        {
          "output_type": "execute_result",
          "data": {
            "text/plain": [
              "BertForSequenceClassification(\n",
              "  (shared_parameters): ModuleDict()\n",
              "  (bert): BertModel(\n",
              "    (shared_parameters): ModuleDict()\n",
              "    (invertible_adapters): ModuleDict()\n",
              "    (embeddings): BertEmbeddings(\n",
              "      (word_embeddings): Embedding(30522, 768, padding_idx=0)\n",
              "      (position_embeddings): Embedding(512, 768)\n",
              "      (token_type_embeddings): Embedding(2, 768)\n",
              "      (LayerNorm): LayerNorm((768,), eps=1e-12, elementwise_affine=True)\n",
              "      (dropout): Dropout(p=0.1, inplace=False)\n",
              "    )\n",
              "    (encoder): BertEncoder(\n",
              "      (layer): ModuleList(\n",
              "        (0): BertLayer(\n",
              "          (attention): BertAttention(\n",
              "            (self): BertSelfAttention(\n",
              "              (query): Linear(in_features=768, out_features=768, bias=True)\n",
              "              (key): Linear(in_features=768, out_features=768, bias=True)\n",
              "              (value): Linear(in_features=768, out_features=768, bias=True)\n",
              "              (dropout): Dropout(p=0.1, inplace=False)\n",
              "              (prefix_tuning): PrefixTuningShim(\n",
              "                (pool): PrefixTuningPool(\n",
              "                  (prefix_tunings): ModuleDict()\n",
              "                )\n",
              "              )\n",
              "            )\n",
              "            (output): BertSelfOutput(\n",
              "              (dense): Linear(in_features=768, out_features=768, bias=True)\n",
              "              (LayerNorm): LayerNorm((768,), eps=1e-12, elementwise_affine=True)\n",
              "              (dropout): Dropout(p=0.1, inplace=False)\n",
              "              (adapters): ModuleDict()\n",
              "              (adapter_fusion_layer): ModuleDict()\n",
              "            )\n",
              "          )\n",
              "          (intermediate): BertIntermediate(\n",
              "            (dense): Linear(in_features=768, out_features=3072, bias=True)\n",
              "            (intermediate_act_fn): GELUActivation()\n",
              "          )\n",
              "          (output): BertOutput(\n",
              "            (dense): Linear(in_features=3072, out_features=768, bias=True)\n",
              "            (LayerNorm): LayerNorm((768,), eps=1e-12, elementwise_affine=True)\n",
              "            (dropout): Dropout(p=0.1, inplace=False)\n",
              "            (adapters): ModuleDict(\n",
              "              (sms): Adapter(\n",
              "                (non_linearity): Activation_Function_Class(\n",
              "                  (f): ReLU()\n",
              "                )\n",
              "                (adapter_down): Sequential(\n",
              "                  (0): Linear(in_features=768, out_features=48, bias=True)\n",
              "                  (1): Activation_Function_Class(\n",
              "                    (f): ReLU()\n",
              "                  )\n",
              "                )\n",
              "                (adapter_up): Linear(in_features=48, out_features=768, bias=True)\n",
              "              )\n",
              "            )\n",
              "            (adapter_fusion_layer): ModuleDict()\n",
              "          )\n",
              "        )\n",
              "        (1): BertLayer(\n",
              "          (attention): BertAttention(\n",
              "            (self): BertSelfAttention(\n",
              "              (query): Linear(in_features=768, out_features=768, bias=True)\n",
              "              (key): Linear(in_features=768, out_features=768, bias=True)\n",
              "              (value): Linear(in_features=768, out_features=768, bias=True)\n",
              "              (dropout): Dropout(p=0.1, inplace=False)\n",
              "              (prefix_tuning): PrefixTuningShim(\n",
              "                (pool): PrefixTuningPool(\n",
              "                  (prefix_tunings): ModuleDict()\n",
              "                )\n",
              "              )\n",
              "            )\n",
              "            (output): BertSelfOutput(\n",
              "              (dense): Linear(in_features=768, out_features=768, bias=True)\n",
              "              (LayerNorm): LayerNorm((768,), eps=1e-12, elementwise_affine=True)\n",
              "              (dropout): Dropout(p=0.1, inplace=False)\n",
              "              (adapters): ModuleDict()\n",
              "              (adapter_fusion_layer): ModuleDict()\n",
              "            )\n",
              "          )\n",
              "          (intermediate): BertIntermediate(\n",
              "            (dense): Linear(in_features=768, out_features=3072, bias=True)\n",
              "            (intermediate_act_fn): GELUActivation()\n",
              "          )\n",
              "          (output): BertOutput(\n",
              "            (dense): Linear(in_features=3072, out_features=768, bias=True)\n",
              "            (LayerNorm): LayerNorm((768,), eps=1e-12, elementwise_affine=True)\n",
              "            (dropout): Dropout(p=0.1, inplace=False)\n",
              "            (adapters): ModuleDict(\n",
              "              (sms): Adapter(\n",
              "                (non_linearity): Activation_Function_Class(\n",
              "                  (f): ReLU()\n",
              "                )\n",
              "                (adapter_down): Sequential(\n",
              "                  (0): Linear(in_features=768, out_features=48, bias=True)\n",
              "                  (1): Activation_Function_Class(\n",
              "                    (f): ReLU()\n",
              "                  )\n",
              "                )\n",
              "                (adapter_up): Linear(in_features=48, out_features=768, bias=True)\n",
              "              )\n",
              "            )\n",
              "            (adapter_fusion_layer): ModuleDict()\n",
              "          )\n",
              "        )\n",
              "        (2): BertLayer(\n",
              "          (attention): BertAttention(\n",
              "            (self): BertSelfAttention(\n",
              "              (query): Linear(in_features=768, out_features=768, bias=True)\n",
              "              (key): Linear(in_features=768, out_features=768, bias=True)\n",
              "              (value): Linear(in_features=768, out_features=768, bias=True)\n",
              "              (dropout): Dropout(p=0.1, inplace=False)\n",
              "              (prefix_tuning): PrefixTuningShim(\n",
              "                (pool): PrefixTuningPool(\n",
              "                  (prefix_tunings): ModuleDict()\n",
              "                )\n",
              "              )\n",
              "            )\n",
              "            (output): BertSelfOutput(\n",
              "              (dense): Linear(in_features=768, out_features=768, bias=True)\n",
              "              (LayerNorm): LayerNorm((768,), eps=1e-12, elementwise_affine=True)\n",
              "              (dropout): Dropout(p=0.1, inplace=False)\n",
              "              (adapters): ModuleDict()\n",
              "              (adapter_fusion_layer): ModuleDict()\n",
              "            )\n",
              "          )\n",
              "          (intermediate): BertIntermediate(\n",
              "            (dense): Linear(in_features=768, out_features=3072, bias=True)\n",
              "            (intermediate_act_fn): GELUActivation()\n",
              "          )\n",
              "          (output): BertOutput(\n",
              "            (dense): Linear(in_features=3072, out_features=768, bias=True)\n",
              "            (LayerNorm): LayerNorm((768,), eps=1e-12, elementwise_affine=True)\n",
              "            (dropout): Dropout(p=0.1, inplace=False)\n",
              "            (adapters): ModuleDict(\n",
              "              (sms): Adapter(\n",
              "                (non_linearity): Activation_Function_Class(\n",
              "                  (f): ReLU()\n",
              "                )\n",
              "                (adapter_down): Sequential(\n",
              "                  (0): Linear(in_features=768, out_features=48, bias=True)\n",
              "                  (1): Activation_Function_Class(\n",
              "                    (f): ReLU()\n",
              "                  )\n",
              "                )\n",
              "                (adapter_up): Linear(in_features=48, out_features=768, bias=True)\n",
              "              )\n",
              "            )\n",
              "            (adapter_fusion_layer): ModuleDict()\n",
              "          )\n",
              "        )\n",
              "        (3): BertLayer(\n",
              "          (attention): BertAttention(\n",
              "            (self): BertSelfAttention(\n",
              "              (query): Linear(in_features=768, out_features=768, bias=True)\n",
              "              (key): Linear(in_features=768, out_features=768, bias=True)\n",
              "              (value): Linear(in_features=768, out_features=768, bias=True)\n",
              "              (dropout): Dropout(p=0.1, inplace=False)\n",
              "              (prefix_tuning): PrefixTuningShim(\n",
              "                (pool): PrefixTuningPool(\n",
              "                  (prefix_tunings): ModuleDict()\n",
              "                )\n",
              "              )\n",
              "            )\n",
              "            (output): BertSelfOutput(\n",
              "              (dense): Linear(in_features=768, out_features=768, bias=True)\n",
              "              (LayerNorm): LayerNorm((768,), eps=1e-12, elementwise_affine=True)\n",
              "              (dropout): Dropout(p=0.1, inplace=False)\n",
              "              (adapters): ModuleDict()\n",
              "              (adapter_fusion_layer): ModuleDict()\n",
              "            )\n",
              "          )\n",
              "          (intermediate): BertIntermediate(\n",
              "            (dense): Linear(in_features=768, out_features=3072, bias=True)\n",
              "            (intermediate_act_fn): GELUActivation()\n",
              "          )\n",
              "          (output): BertOutput(\n",
              "            (dense): Linear(in_features=3072, out_features=768, bias=True)\n",
              "            (LayerNorm): LayerNorm((768,), eps=1e-12, elementwise_affine=True)\n",
              "            (dropout): Dropout(p=0.1, inplace=False)\n",
              "            (adapters): ModuleDict(\n",
              "              (sms): Adapter(\n",
              "                (non_linearity): Activation_Function_Class(\n",
              "                  (f): ReLU()\n",
              "                )\n",
              "                (adapter_down): Sequential(\n",
              "                  (0): Linear(in_features=768, out_features=48, bias=True)\n",
              "                  (1): Activation_Function_Class(\n",
              "                    (f): ReLU()\n",
              "                  )\n",
              "                )\n",
              "                (adapter_up): Linear(in_features=48, out_features=768, bias=True)\n",
              "              )\n",
              "            )\n",
              "            (adapter_fusion_layer): ModuleDict()\n",
              "          )\n",
              "        )\n",
              "        (4): BertLayer(\n",
              "          (attention): BertAttention(\n",
              "            (self): BertSelfAttention(\n",
              "              (query): Linear(in_features=768, out_features=768, bias=True)\n",
              "              (key): Linear(in_features=768, out_features=768, bias=True)\n",
              "              (value): Linear(in_features=768, out_features=768, bias=True)\n",
              "              (dropout): Dropout(p=0.1, inplace=False)\n",
              "              (prefix_tuning): PrefixTuningShim(\n",
              "                (pool): PrefixTuningPool(\n",
              "                  (prefix_tunings): ModuleDict()\n",
              "                )\n",
              "              )\n",
              "            )\n",
              "            (output): BertSelfOutput(\n",
              "              (dense): Linear(in_features=768, out_features=768, bias=True)\n",
              "              (LayerNorm): LayerNorm((768,), eps=1e-12, elementwise_affine=True)\n",
              "              (dropout): Dropout(p=0.1, inplace=False)\n",
              "              (adapters): ModuleDict()\n",
              "              (adapter_fusion_layer): ModuleDict()\n",
              "            )\n",
              "          )\n",
              "          (intermediate): BertIntermediate(\n",
              "            (dense): Linear(in_features=768, out_features=3072, bias=True)\n",
              "            (intermediate_act_fn): GELUActivation()\n",
              "          )\n",
              "          (output): BertOutput(\n",
              "            (dense): Linear(in_features=3072, out_features=768, bias=True)\n",
              "            (LayerNorm): LayerNorm((768,), eps=1e-12, elementwise_affine=True)\n",
              "            (dropout): Dropout(p=0.1, inplace=False)\n",
              "            (adapters): ModuleDict(\n",
              "              (sms): Adapter(\n",
              "                (non_linearity): Activation_Function_Class(\n",
              "                  (f): ReLU()\n",
              "                )\n",
              "                (adapter_down): Sequential(\n",
              "                  (0): Linear(in_features=768, out_features=48, bias=True)\n",
              "                  (1): Activation_Function_Class(\n",
              "                    (f): ReLU()\n",
              "                  )\n",
              "                )\n",
              "                (adapter_up): Linear(in_features=48, out_features=768, bias=True)\n",
              "              )\n",
              "            )\n",
              "            (adapter_fusion_layer): ModuleDict()\n",
              "          )\n",
              "        )\n",
              "        (5): BertLayer(\n",
              "          (attention): BertAttention(\n",
              "            (self): BertSelfAttention(\n",
              "              (query): Linear(in_features=768, out_features=768, bias=True)\n",
              "              (key): Linear(in_features=768, out_features=768, bias=True)\n",
              "              (value): Linear(in_features=768, out_features=768, bias=True)\n",
              "              (dropout): Dropout(p=0.1, inplace=False)\n",
              "              (prefix_tuning): PrefixTuningShim(\n",
              "                (pool): PrefixTuningPool(\n",
              "                  (prefix_tunings): ModuleDict()\n",
              "                )\n",
              "              )\n",
              "            )\n",
              "            (output): BertSelfOutput(\n",
              "              (dense): Linear(in_features=768, out_features=768, bias=True)\n",
              "              (LayerNorm): LayerNorm((768,), eps=1e-12, elementwise_affine=True)\n",
              "              (dropout): Dropout(p=0.1, inplace=False)\n",
              "              (adapters): ModuleDict()\n",
              "              (adapter_fusion_layer): ModuleDict()\n",
              "            )\n",
              "          )\n",
              "          (intermediate): BertIntermediate(\n",
              "            (dense): Linear(in_features=768, out_features=3072, bias=True)\n",
              "            (intermediate_act_fn): GELUActivation()\n",
              "          )\n",
              "          (output): BertOutput(\n",
              "            (dense): Linear(in_features=3072, out_features=768, bias=True)\n",
              "            (LayerNorm): LayerNorm((768,), eps=1e-12, elementwise_affine=True)\n",
              "            (dropout): Dropout(p=0.1, inplace=False)\n",
              "            (adapters): ModuleDict(\n",
              "              (sms): Adapter(\n",
              "                (non_linearity): Activation_Function_Class(\n",
              "                  (f): ReLU()\n",
              "                )\n",
              "                (adapter_down): Sequential(\n",
              "                  (0): Linear(in_features=768, out_features=48, bias=True)\n",
              "                  (1): Activation_Function_Class(\n",
              "                    (f): ReLU()\n",
              "                  )\n",
              "                )\n",
              "                (adapter_up): Linear(in_features=48, out_features=768, bias=True)\n",
              "              )\n",
              "            )\n",
              "            (adapter_fusion_layer): ModuleDict()\n",
              "          )\n",
              "        )\n",
              "        (6): BertLayer(\n",
              "          (attention): BertAttention(\n",
              "            (self): BertSelfAttention(\n",
              "              (query): Linear(in_features=768, out_features=768, bias=True)\n",
              "              (key): Linear(in_features=768, out_features=768, bias=True)\n",
              "              (value): Linear(in_features=768, out_features=768, bias=True)\n",
              "              (dropout): Dropout(p=0.1, inplace=False)\n",
              "              (prefix_tuning): PrefixTuningShim(\n",
              "                (pool): PrefixTuningPool(\n",
              "                  (prefix_tunings): ModuleDict()\n",
              "                )\n",
              "              )\n",
              "            )\n",
              "            (output): BertSelfOutput(\n",
              "              (dense): Linear(in_features=768, out_features=768, bias=True)\n",
              "              (LayerNorm): LayerNorm((768,), eps=1e-12, elementwise_affine=True)\n",
              "              (dropout): Dropout(p=0.1, inplace=False)\n",
              "              (adapters): ModuleDict()\n",
              "              (adapter_fusion_layer): ModuleDict()\n",
              "            )\n",
              "          )\n",
              "          (intermediate): BertIntermediate(\n",
              "            (dense): Linear(in_features=768, out_features=3072, bias=True)\n",
              "            (intermediate_act_fn): GELUActivation()\n",
              "          )\n",
              "          (output): BertOutput(\n",
              "            (dense): Linear(in_features=3072, out_features=768, bias=True)\n",
              "            (LayerNorm): LayerNorm((768,), eps=1e-12, elementwise_affine=True)\n",
              "            (dropout): Dropout(p=0.1, inplace=False)\n",
              "            (adapters): ModuleDict(\n",
              "              (sms): Adapter(\n",
              "                (non_linearity): Activation_Function_Class(\n",
              "                  (f): ReLU()\n",
              "                )\n",
              "                (adapter_down): Sequential(\n",
              "                  (0): Linear(in_features=768, out_features=48, bias=True)\n",
              "                  (1): Activation_Function_Class(\n",
              "                    (f): ReLU()\n",
              "                  )\n",
              "                )\n",
              "                (adapter_up): Linear(in_features=48, out_features=768, bias=True)\n",
              "              )\n",
              "            )\n",
              "            (adapter_fusion_layer): ModuleDict()\n",
              "          )\n",
              "        )\n",
              "        (7): BertLayer(\n",
              "          (attention): BertAttention(\n",
              "            (self): BertSelfAttention(\n",
              "              (query): Linear(in_features=768, out_features=768, bias=True)\n",
              "              (key): Linear(in_features=768, out_features=768, bias=True)\n",
              "              (value): Linear(in_features=768, out_features=768, bias=True)\n",
              "              (dropout): Dropout(p=0.1, inplace=False)\n",
              "              (prefix_tuning): PrefixTuningShim(\n",
              "                (pool): PrefixTuningPool(\n",
              "                  (prefix_tunings): ModuleDict()\n",
              "                )\n",
              "              )\n",
              "            )\n",
              "            (output): BertSelfOutput(\n",
              "              (dense): Linear(in_features=768, out_features=768, bias=True)\n",
              "              (LayerNorm): LayerNorm((768,), eps=1e-12, elementwise_affine=True)\n",
              "              (dropout): Dropout(p=0.1, inplace=False)\n",
              "              (adapters): ModuleDict()\n",
              "              (adapter_fusion_layer): ModuleDict()\n",
              "            )\n",
              "          )\n",
              "          (intermediate): BertIntermediate(\n",
              "            (dense): Linear(in_features=768, out_features=3072, bias=True)\n",
              "            (intermediate_act_fn): GELUActivation()\n",
              "          )\n",
              "          (output): BertOutput(\n",
              "            (dense): Linear(in_features=3072, out_features=768, bias=True)\n",
              "            (LayerNorm): LayerNorm((768,), eps=1e-12, elementwise_affine=True)\n",
              "            (dropout): Dropout(p=0.1, inplace=False)\n",
              "            (adapters): ModuleDict(\n",
              "              (sms): Adapter(\n",
              "                (non_linearity): Activation_Function_Class(\n",
              "                  (f): ReLU()\n",
              "                )\n",
              "                (adapter_down): Sequential(\n",
              "                  (0): Linear(in_features=768, out_features=48, bias=True)\n",
              "                  (1): Activation_Function_Class(\n",
              "                    (f): ReLU()\n",
              "                  )\n",
              "                )\n",
              "                (adapter_up): Linear(in_features=48, out_features=768, bias=True)\n",
              "              )\n",
              "            )\n",
              "            (adapter_fusion_layer): ModuleDict()\n",
              "          )\n",
              "        )\n",
              "        (8): BertLayer(\n",
              "          (attention): BertAttention(\n",
              "            (self): BertSelfAttention(\n",
              "              (query): Linear(in_features=768, out_features=768, bias=True)\n",
              "              (key): Linear(in_features=768, out_features=768, bias=True)\n",
              "              (value): Linear(in_features=768, out_features=768, bias=True)\n",
              "              (dropout): Dropout(p=0.1, inplace=False)\n",
              "              (prefix_tuning): PrefixTuningShim(\n",
              "                (pool): PrefixTuningPool(\n",
              "                  (prefix_tunings): ModuleDict()\n",
              "                )\n",
              "              )\n",
              "            )\n",
              "            (output): BertSelfOutput(\n",
              "              (dense): Linear(in_features=768, out_features=768, bias=True)\n",
              "              (LayerNorm): LayerNorm((768,), eps=1e-12, elementwise_affine=True)\n",
              "              (dropout): Dropout(p=0.1, inplace=False)\n",
              "              (adapters): ModuleDict()\n",
              "              (adapter_fusion_layer): ModuleDict()\n",
              "            )\n",
              "          )\n",
              "          (intermediate): BertIntermediate(\n",
              "            (dense): Linear(in_features=768, out_features=3072, bias=True)\n",
              "            (intermediate_act_fn): GELUActivation()\n",
              "          )\n",
              "          (output): BertOutput(\n",
              "            (dense): Linear(in_features=3072, out_features=768, bias=True)\n",
              "            (LayerNorm): LayerNorm((768,), eps=1e-12, elementwise_affine=True)\n",
              "            (dropout): Dropout(p=0.1, inplace=False)\n",
              "            (adapters): ModuleDict(\n",
              "              (sms): Adapter(\n",
              "                (non_linearity): Activation_Function_Class(\n",
              "                  (f): ReLU()\n",
              "                )\n",
              "                (adapter_down): Sequential(\n",
              "                  (0): Linear(in_features=768, out_features=48, bias=True)\n",
              "                  (1): Activation_Function_Class(\n",
              "                    (f): ReLU()\n",
              "                  )\n",
              "                )\n",
              "                (adapter_up): Linear(in_features=48, out_features=768, bias=True)\n",
              "              )\n",
              "            )\n",
              "            (adapter_fusion_layer): ModuleDict()\n",
              "          )\n",
              "        )\n",
              "        (9): BertLayer(\n",
              "          (attention): BertAttention(\n",
              "            (self): BertSelfAttention(\n",
              "              (query): Linear(in_features=768, out_features=768, bias=True)\n",
              "              (key): Linear(in_features=768, out_features=768, bias=True)\n",
              "              (value): Linear(in_features=768, out_features=768, bias=True)\n",
              "              (dropout): Dropout(p=0.1, inplace=False)\n",
              "              (prefix_tuning): PrefixTuningShim(\n",
              "                (pool): PrefixTuningPool(\n",
              "                  (prefix_tunings): ModuleDict()\n",
              "                )\n",
              "              )\n",
              "            )\n",
              "            (output): BertSelfOutput(\n",
              "              (dense): Linear(in_features=768, out_features=768, bias=True)\n",
              "              (LayerNorm): LayerNorm((768,), eps=1e-12, elementwise_affine=True)\n",
              "              (dropout): Dropout(p=0.1, inplace=False)\n",
              "              (adapters): ModuleDict()\n",
              "              (adapter_fusion_layer): ModuleDict()\n",
              "            )\n",
              "          )\n",
              "          (intermediate): BertIntermediate(\n",
              "            (dense): Linear(in_features=768, out_features=3072, bias=True)\n",
              "            (intermediate_act_fn): GELUActivation()\n",
              "          )\n",
              "          (output): BertOutput(\n",
              "            (dense): Linear(in_features=3072, out_features=768, bias=True)\n",
              "            (LayerNorm): LayerNorm((768,), eps=1e-12, elementwise_affine=True)\n",
              "            (dropout): Dropout(p=0.1, inplace=False)\n",
              "            (adapters): ModuleDict(\n",
              "              (sms): Adapter(\n",
              "                (non_linearity): Activation_Function_Class(\n",
              "                  (f): ReLU()\n",
              "                )\n",
              "                (adapter_down): Sequential(\n",
              "                  (0): Linear(in_features=768, out_features=48, bias=True)\n",
              "                  (1): Activation_Function_Class(\n",
              "                    (f): ReLU()\n",
              "                  )\n",
              "                )\n",
              "                (adapter_up): Linear(in_features=48, out_features=768, bias=True)\n",
              "              )\n",
              "            )\n",
              "            (adapter_fusion_layer): ModuleDict()\n",
              "          )\n",
              "        )\n",
              "        (10): BertLayer(\n",
              "          (attention): BertAttention(\n",
              "            (self): BertSelfAttention(\n",
              "              (query): Linear(in_features=768, out_features=768, bias=True)\n",
              "              (key): Linear(in_features=768, out_features=768, bias=True)\n",
              "              (value): Linear(in_features=768, out_features=768, bias=True)\n",
              "              (dropout): Dropout(p=0.1, inplace=False)\n",
              "              (prefix_tuning): PrefixTuningShim(\n",
              "                (pool): PrefixTuningPool(\n",
              "                  (prefix_tunings): ModuleDict()\n",
              "                )\n",
              "              )\n",
              "            )\n",
              "            (output): BertSelfOutput(\n",
              "              (dense): Linear(in_features=768, out_features=768, bias=True)\n",
              "              (LayerNorm): LayerNorm((768,), eps=1e-12, elementwise_affine=True)\n",
              "              (dropout): Dropout(p=0.1, inplace=False)\n",
              "              (adapters): ModuleDict()\n",
              "              (adapter_fusion_layer): ModuleDict()\n",
              "            )\n",
              "          )\n",
              "          (intermediate): BertIntermediate(\n",
              "            (dense): Linear(in_features=768, out_features=3072, bias=True)\n",
              "            (intermediate_act_fn): GELUActivation()\n",
              "          )\n",
              "          (output): BertOutput(\n",
              "            (dense): Linear(in_features=3072, out_features=768, bias=True)\n",
              "            (LayerNorm): LayerNorm((768,), eps=1e-12, elementwise_affine=True)\n",
              "            (dropout): Dropout(p=0.1, inplace=False)\n",
              "            (adapters): ModuleDict(\n",
              "              (sms): Adapter(\n",
              "                (non_linearity): Activation_Function_Class(\n",
              "                  (f): ReLU()\n",
              "                )\n",
              "                (adapter_down): Sequential(\n",
              "                  (0): Linear(in_features=768, out_features=48, bias=True)\n",
              "                  (1): Activation_Function_Class(\n",
              "                    (f): ReLU()\n",
              "                  )\n",
              "                )\n",
              "                (adapter_up): Linear(in_features=48, out_features=768, bias=True)\n",
              "              )\n",
              "            )\n",
              "            (adapter_fusion_layer): ModuleDict()\n",
              "          )\n",
              "        )\n",
              "        (11): BertLayer(\n",
              "          (attention): BertAttention(\n",
              "            (self): BertSelfAttention(\n",
              "              (query): Linear(in_features=768, out_features=768, bias=True)\n",
              "              (key): Linear(in_features=768, out_features=768, bias=True)\n",
              "              (value): Linear(in_features=768, out_features=768, bias=True)\n",
              "              (dropout): Dropout(p=0.1, inplace=False)\n",
              "              (prefix_tuning): PrefixTuningShim(\n",
              "                (pool): PrefixTuningPool(\n",
              "                  (prefix_tunings): ModuleDict()\n",
              "                )\n",
              "              )\n",
              "            )\n",
              "            (output): BertSelfOutput(\n",
              "              (dense): Linear(in_features=768, out_features=768, bias=True)\n",
              "              (LayerNorm): LayerNorm((768,), eps=1e-12, elementwise_affine=True)\n",
              "              (dropout): Dropout(p=0.1, inplace=False)\n",
              "              (adapters): ModuleDict()\n",
              "              (adapter_fusion_layer): ModuleDict()\n",
              "            )\n",
              "          )\n",
              "          (intermediate): BertIntermediate(\n",
              "            (dense): Linear(in_features=768, out_features=3072, bias=True)\n",
              "            (intermediate_act_fn): GELUActivation()\n",
              "          )\n",
              "          (output): BertOutput(\n",
              "            (dense): Linear(in_features=3072, out_features=768, bias=True)\n",
              "            (LayerNorm): LayerNorm((768,), eps=1e-12, elementwise_affine=True)\n",
              "            (dropout): Dropout(p=0.1, inplace=False)\n",
              "            (adapters): ModuleDict(\n",
              "              (sms): Adapter(\n",
              "                (non_linearity): Activation_Function_Class(\n",
              "                  (f): ReLU()\n",
              "                )\n",
              "                (adapter_down): Sequential(\n",
              "                  (0): Linear(in_features=768, out_features=48, bias=True)\n",
              "                  (1): Activation_Function_Class(\n",
              "                    (f): ReLU()\n",
              "                  )\n",
              "                )\n",
              "                (adapter_up): Linear(in_features=48, out_features=768, bias=True)\n",
              "              )\n",
              "            )\n",
              "            (adapter_fusion_layer): ModuleDict()\n",
              "          )\n",
              "        )\n",
              "      )\n",
              "    )\n",
              "    (pooler): BertPooler(\n",
              "      (dense): Linear(in_features=768, out_features=768, bias=True)\n",
              "      (activation): Tanh()\n",
              "    )\n",
              "    (prefix_tuning): PrefixTuningPool(\n",
              "      (prefix_tunings): ModuleDict()\n",
              "    )\n",
              "  )\n",
              "  (dropout): Dropout(p=0.1, inplace=False)\n",
              "  (classifier): Linear(in_features=768, out_features=2, bias=True)\n",
              ")"
            ]
          },
          "metadata": {},
          "execution_count": 41
        }
      ],
      "source": [
        "adapter_model"
      ]
    },
    {
      "cell_type": "code",
      "execution_count": 42,
      "id": "f08d5374-d0a5-4a81-8bde-d129f1ea3de2",
      "metadata": {
        "id": "f08d5374-d0a5-4a81-8bde-d129f1ea3de2"
      },
      "outputs": [],
      "source": [
        "adapter_model.train_adapter('sms')"
      ]
    },
    {
      "cell_type": "code",
      "execution_count": 43,
      "id": "a14ad222-f54b-49af-aeaf-94b516d67ec3",
      "metadata": {
        "id": "a14ad222-f54b-49af-aeaf-94b516d67ec3",
        "colab": {
          "base_uri": "https://localhost:8080/"
        },
        "outputId": "4b74e89b-890a-4166-cbf9-d7a711a3a0d6"
      },
      "outputs": [
        {
          "output_type": "stream",
          "name": "stdout",
          "text": [
            "Trainable parameters 896066/110378306\n"
          ]
        }
      ],
      "source": [
        "count_parameters(adapter_model)"
      ]
    },
    {
      "cell_type": "code",
      "source": [
        "batch = next(iter(train_dataloader))\n",
        "batch = {k: v.to(device) for k, v in batch.items()}\n",
        "adapter_model.to(device)\n",
        "outputs = adapter_model(**batch)\n",
        "outputs"
      ],
      "metadata": {
        "colab": {
          "base_uri": "https://localhost:8080/"
        },
        "id": "uhBjf91ysh4J",
        "outputId": "2de152cc-13ee-4803-eafb-03a05a526dfd"
      },
      "id": "uhBjf91ysh4J",
      "execution_count": 44,
      "outputs": [
        {
          "output_type": "execute_result",
          "data": {
            "text/plain": [
              "SequenceClassifierOutput([('loss',\n",
              "                           tensor(0.7119, device='cuda:0', grad_fn=<NllLossBackward0>)),\n",
              "                          ('logits', tensor([[ 0.0955, -0.0467],\n",
              "                                   [ 0.2030,  0.3017],\n",
              "                                   [ 0.0926, -0.0714],\n",
              "                                   [ 0.1796,  0.1817],\n",
              "                                   [ 0.1202,  0.3452],\n",
              "                                   [ 0.1365,  0.1817],\n",
              "                                   [ 0.1443,  0.2251],\n",
              "                                   [ 0.1555,  0.2766]], device='cuda:0', grad_fn=<AddmmBackward0>))])"
            ]
          },
          "metadata": {},
          "execution_count": 44
        }
      ]
    },
    {
      "cell_type": "markdown",
      "id": "a48cc37d-9af9-44bf-92b3-815a4879d16f",
      "metadata": {
        "id": "a48cc37d-9af9-44bf-92b3-815a4879d16f"
      },
      "source": [
        "Training"
      ]
    },
    {
      "cell_type": "code",
      "execution_count": 45,
      "id": "604a2acc-04e6-4800-bf54-22536ca7893e",
      "metadata": {
        "id": "604a2acc-04e6-4800-bf54-22536ca7893e"
      },
      "outputs": [],
      "source": [
        "from tqdm import tqdm\n",
        "loss_fn = nn.CrossEntropyLoss()\n",
        "num_labels = 2\n",
        "\n",
        "\n",
        "def validate_adapter(epoch, model):\n",
        "    loss_sum = 0\n",
        "    valid_size = len(valid_dataset)\n",
        "    with torch.no_grad():\n",
        "        for i, batch in enumerate(tqdm(valid_dataloader)):\n",
        "            batch = {k: v.to(device) for k, v in batch.items()}\n",
        "            logits = outputs.logits\n",
        "            loss = outputs.loss\n",
        "            loss_sum += loss.item()\n",
        "    loss_sum /= valid_size\n",
        "    print(f\"Valid loss: {loss_sum}\")\n",
        "    \n",
        "def train_adapter_one_epoch(epoch, model, optimizer):\n",
        "    plot_losses = []\n",
        "    for i, batch in enumerate(tqdm(train_dataloader)):\n",
        "        batch = {k: v.to(device) for k, v in batch.items()}\n",
        "        outputs = model(**batch)\n",
        "        logits = outputs.logits\n",
        "        loss = outputs.loss\n",
        "        # Backpropagation\n",
        "        optimizer.zero_grad()\n",
        "        loss.backward()\n",
        "        optimizer.step()\n",
        "        if i % 100 == 0:\n",
        "            print(f\"loss: {loss}\")\n",
        "            plot_losses.append(loss.cpu().item())\n",
        "    print(f\"loss: {loss}\")\n",
        "    validate_adapter(epoch, model)\n",
        "    return plot_losses"
      ]
    },
    {
      "cell_type": "code",
      "source": [
        "import time\n",
        "def train_adapter_iters(model, num_epochs=2, learning_rate=5e-5):\n",
        "  start = time.time()\n",
        "  optimizer = torch.optim.Adam(model.parameters(), lr=learning_rate)\n",
        "  plot_losses = []\n",
        "  for iter in range(1, num_epochs + 1):\n",
        "    losses = train_adapter_one_epoch(iter, model, optimizer)\n",
        "    plot_losses.extend(losses)\n",
        "  elapsed = time.time() - start\n",
        "  print(f\"Finish training in {elapsed} seconds ({time.strftime('%H:%M:%S', time.gmtime(elapsed))})\")\n",
        "  showPlot(plot_losses)\n"
      ],
      "metadata": {
        "id": "ufAYO-Ixlx0E"
      },
      "id": "ufAYO-Ixlx0E",
      "execution_count": 46,
      "outputs": []
    },
    {
      "cell_type": "code",
      "source": [
        "adapter_model.to(device)\n",
        "train_adapter_iters(adapter_model)"
      ],
      "metadata": {
        "colab": {
          "base_uri": "https://localhost:8080/",
          "height": 855
        },
        "id": "RfkfL9J7l74U",
        "outputId": "51f6b148-97de-4eed-b15d-96e201a8bff6"
      },
      "id": "RfkfL9J7l74U",
      "execution_count": null,
      "outputs": [
        {
          "output_type": "stream",
          "name": "stderr",
          "text": [
            "  0%|          | 2/1144 [00:00<04:18,  4.42it/s]"
          ]
        },
        {
          "output_type": "stream",
          "name": "stdout",
          "text": [
            "loss: 0.7726459503173828\n"
          ]
        },
        {
          "output_type": "stream",
          "name": "stderr",
          "text": [
            "  9%|▉         | 102/1144 [00:27<04:37,  3.76it/s]"
          ]
        },
        {
          "output_type": "stream",
          "name": "stdout",
          "text": [
            "loss: 0.11909793317317963\n"
          ]
        },
        {
          "output_type": "stream",
          "name": "stderr",
          "text": [
            " 18%|█▊        | 202/1144 [00:55<04:06,  3.82it/s]"
          ]
        },
        {
          "output_type": "stream",
          "name": "stdout",
          "text": [
            "loss: 0.024516820907592773\n"
          ]
        },
        {
          "output_type": "stream",
          "name": "stderr",
          "text": [
            " 26%|██▋       | 302/1144 [01:22<03:37,  3.87it/s]"
          ]
        },
        {
          "output_type": "stream",
          "name": "stdout",
          "text": [
            "loss: 0.013657861389219761\n"
          ]
        },
        {
          "output_type": "stream",
          "name": "stderr",
          "text": [
            " 35%|███▌      | 402/1144 [01:49<03:14,  3.81it/s]"
          ]
        },
        {
          "output_type": "stream",
          "name": "stdout",
          "text": [
            "loss: 0.8182166218757629\n"
          ]
        },
        {
          "output_type": "stream",
          "name": "stderr",
          "text": [
            " 44%|████▍     | 502/1144 [02:16<02:47,  3.83it/s]"
          ]
        },
        {
          "output_type": "stream",
          "name": "stdout",
          "text": [
            "loss: 0.014145995490252972\n"
          ]
        },
        {
          "output_type": "stream",
          "name": "stderr",
          "text": [
            " 53%|█████▎    | 602/1144 [02:43<02:21,  3.83it/s]"
          ]
        },
        {
          "output_type": "stream",
          "name": "stdout",
          "text": [
            "loss: 0.004147657658904791\n"
          ]
        },
        {
          "output_type": "stream",
          "name": "stderr",
          "text": [
            " 61%|██████▏   | 702/1144 [03:10<01:55,  3.83it/s]"
          ]
        },
        {
          "output_type": "stream",
          "name": "stdout",
          "text": [
            "loss: 0.010353734716773033\n"
          ]
        },
        {
          "output_type": "stream",
          "name": "stderr",
          "text": [
            " 70%|███████   | 802/1144 [03:38<01:29,  3.83it/s]"
          ]
        },
        {
          "output_type": "stream",
          "name": "stdout",
          "text": [
            "loss: 0.012379269115626812\n"
          ]
        },
        {
          "output_type": "stream",
          "name": "stderr",
          "text": [
            " 79%|███████▉  | 902/1144 [04:05<01:03,  3.83it/s]"
          ]
        },
        {
          "output_type": "stream",
          "name": "stdout",
          "text": [
            "loss: 0.008748413063585758\n"
          ]
        },
        {
          "output_type": "stream",
          "name": "stderr",
          "text": [
            " 88%|████████▊ | 1002/1144 [04:32<00:36,  3.84it/s]"
          ]
        },
        {
          "output_type": "stream",
          "name": "stdout",
          "text": [
            "loss: 0.011383628472685814\n"
          ]
        },
        {
          "output_type": "stream",
          "name": "stderr",
          "text": [
            " 96%|█████████▋| 1102/1144 [04:59<00:10,  3.83it/s]"
          ]
        },
        {
          "output_type": "stream",
          "name": "stdout",
          "text": [
            "loss: 0.00595221808180213\n"
          ]
        },
        {
          "output_type": "stream",
          "name": "stderr",
          "text": [
            "100%|██████████| 1144/1144 [05:11<00:00,  3.68it/s]\n"
          ]
        },
        {
          "output_type": "stream",
          "name": "stdout",
          "text": [
            "loss: 0.005703316070139408\n"
          ]
        },
        {
          "output_type": "stream",
          "name": "stderr",
          "text": [
            "100%|██████████| 250/250 [00:00<00:00, 559.57it/s]\n"
          ]
        },
        {
          "output_type": "stream",
          "name": "stdout",
          "text": [
            "Valid loss: 0.20562061667442322\n"
          ]
        },
        {
          "output_type": "stream",
          "name": "stderr",
          "text": [
            "  0%|          | 2/1144 [00:00<03:45,  5.07it/s]"
          ]
        },
        {
          "output_type": "stream",
          "name": "stdout",
          "text": [
            "loss: 0.0033437423408031464\n"
          ]
        },
        {
          "output_type": "stream",
          "name": "stderr",
          "text": [
            "  9%|▉         | 102/1144 [00:27<04:32,  3.83it/s]"
          ]
        },
        {
          "output_type": "stream",
          "name": "stdout",
          "text": [
            "loss: 0.0037111861165612936\n"
          ]
        },
        {
          "output_type": "stream",
          "name": "stderr",
          "text": [
            " 18%|█▊        | 202/1144 [00:54<04:06,  3.81it/s]"
          ]
        },
        {
          "output_type": "stream",
          "name": "stdout",
          "text": [
            "loss: 0.008923877030611038\n"
          ]
        },
        {
          "output_type": "stream",
          "name": "stderr",
          "text": [
            " 26%|██▋       | 302/1144 [01:21<03:40,  3.83it/s]"
          ]
        },
        {
          "output_type": "stream",
          "name": "stdout",
          "text": [
            "loss: 0.003330270294100046\n"
          ]
        },
        {
          "output_type": "stream",
          "name": "stderr",
          "text": [
            " 35%|███▌      | 402/1144 [01:49<03:12,  3.85it/s]"
          ]
        },
        {
          "output_type": "stream",
          "name": "stdout",
          "text": [
            "loss: 0.021935345605015755\n"
          ]
        },
        {
          "output_type": "stream",
          "name": "stderr",
          "text": [
            " 44%|████▍     | 502/1144 [02:16<02:47,  3.83it/s]"
          ]
        },
        {
          "output_type": "stream",
          "name": "stdout",
          "text": [
            "loss: 0.0027652315329760313\n"
          ]
        },
        {
          "output_type": "stream",
          "name": "stderr",
          "text": [
            " 53%|█████▎    | 602/1144 [02:43<02:20,  3.85it/s]"
          ]
        },
        {
          "output_type": "stream",
          "name": "stdout",
          "text": [
            "loss: 0.003273406531661749\n"
          ]
        },
        {
          "output_type": "stream",
          "name": "stderr",
          "text": [
            " 61%|██████▏   | 702/1144 [03:10<01:55,  3.83it/s]"
          ]
        },
        {
          "output_type": "stream",
          "name": "stdout",
          "text": [
            "loss: 0.006506465841084719\n"
          ]
        },
        {
          "output_type": "stream",
          "name": "stderr",
          "text": [
            " 70%|███████   | 802/1144 [03:37<01:29,  3.84it/s]"
          ]
        },
        {
          "output_type": "stream",
          "name": "stdout",
          "text": [
            "loss: 0.004990917164832354\n"
          ]
        },
        {
          "output_type": "stream",
          "name": "stderr",
          "text": [
            " 79%|███████▉  | 902/1144 [04:04<01:03,  3.83it/s]"
          ]
        },
        {
          "output_type": "stream",
          "name": "stdout",
          "text": [
            "loss: 0.00619067158550024\n"
          ]
        },
        {
          "output_type": "stream",
          "name": "stderr",
          "text": [
            " 88%|████████▊ | 1002/1144 [04:32<00:37,  3.84it/s]"
          ]
        },
        {
          "output_type": "stream",
          "name": "stdout",
          "text": [
            "loss: 0.003377852961421013\n"
          ]
        },
        {
          "output_type": "stream",
          "name": "stderr",
          "text": [
            " 96%|█████████▋| 1102/1144 [04:59<00:10,  3.82it/s]"
          ]
        },
        {
          "output_type": "stream",
          "name": "stdout",
          "text": [
            "loss: 0.005156002473086119\n"
          ]
        },
        {
          "output_type": "stream",
          "name": "stderr",
          "text": [
            "100%|██████████| 1144/1144 [05:10<00:00,  3.68it/s]\n"
          ]
        },
        {
          "output_type": "stream",
          "name": "stdout",
          "text": [
            "loss: 0.004065736662596464\n"
          ]
        },
        {
          "output_type": "stream",
          "name": "stderr",
          "text": [
            "100%|██████████| 250/250 [00:00<00:00, 590.12it/s]"
          ]
        },
        {
          "output_type": "stream",
          "name": "stdout",
          "text": [
            "Valid loss: 0.20562061667442322\n",
            "Finish training in 622.7439098358154 seconds (00:10:22)\n"
          ]
        },
        {
          "output_type": "stream",
          "name": "stderr",
          "text": [
            "\n"
          ]
        },
        {
          "output_type": "display_data",
          "data": {
            "text/plain": [
              "<Figure size 432x288 with 0 Axes>"
            ]
          },
          "metadata": {}
        },
        {
          "output_type": "display_data",
          "data": {
            "text/plain": [
              "<Figure size 432x288 with 1 Axes>"
            ],
            "image/png": "[encoded data removed]"
          },
          "metadata": {
            "needs_background": "light"
          }
        }
      ]
    },
    {
      "cell_type": "markdown",
      "source": [
        "## Exercises\n",
        "1. Calculate accuracy on validation set of Fully-finetune BERT, freeze some layer BERT and adapter models.\n",
        "2. Investigate the effect of freezing different layers, i.e. the bottom 3, 5, 7 or all 12 BERT layers on our spam detection classifier.\n",
        "3. Can we use our 'sms' adapter for spam detection of other dataset, e.g [Eron_spam](https://huggingface.co/datasets/SetFit/enron_spam)?"
      ],
      "metadata": {
        "id": "AoSxqnkOkqqC"
      },
      "id": "AoSxqnkOkqqC"
    }
  ],
  "metadata": {
    "kernelspec": {
      "display_name": "Python 3",
      "name": "python3"
    },
    "language_info": {
      "name": "python"
    },
    "colab": {
      "name": "bert.ipynb",
      "provenance": [],
      "collapsed_sections": [
        "df95d494-5070-492f-9322-7c7370ab232b",
        "7079adaf-f01d-46be-a836-d08a6da259ae"
      ]
    },
    "accelerator": "GPU",
    "widgets": {
      "application/vnd.jupyter.widget-state+json": {
        "6939e3087cb44a61887f56417ba5bee9": {
          "model_module": "@jupyter-widgets/controls",
          "model_name": "HBoxModel",
          "model_module_version": "1.5.0",
          "state": {
            "_dom_classes": [],
            "_model_module": "@jupyter-widgets/controls",
            "_model_module_version": "1.5.0",
            "_model_name": "HBoxModel",
            "_view_count": null,
            "_view_module": "@jupyter-widgets/controls",
            "_view_module_version": "1.5.0",
            "_view_name": "HBoxView",
            "box_style": "",
            "children": [
              "IPY_MODEL_446dae73310449f0a20596f778a6eefe",
              "IPY_MODEL_5f270115bc0845eba5f3b12a32b8eca3",
              "IPY_MODEL_bb913b90a8294b0292a86ea09431d838"
            ],
            "layout": "IPY_MODEL_f44007f0bc6c4233a589d3933d8e2c9a"
          }
        },
        "446dae73310449f0a20596f778a6eefe": {
          "model_module": "@jupyter-widgets/controls",
          "model_name": "HTMLModel",
          "model_module_version": "1.5.0",
          "state": {
            "_dom_classes": [],
            "_model_module": "@jupyter-widgets/controls",
            "_model_module_version": "1.5.0",
            "_model_name": "HTMLModel",
            "_view_count": null,
            "_view_module": "@jupyter-widgets/controls",
            "_view_module_version": "1.5.0",
            "_view_name": "HTMLView",
            "description": "",
            "description_tooltip": null,
            "layout": "IPY_MODEL_752561a7aab84e45bb32205c08adb6cb",
            "placeholder": "​",
            "style": "IPY_MODEL_70822781528b415395892f8903083740",
            "value": "100%"
          }
        },
        "5f270115bc0845eba5f3b12a32b8eca3": {
          "model_module": "@jupyter-widgets/controls",
          "model_name": "FloatProgressModel",
          "model_module_version": "1.5.0",
          "state": {
            "_dom_classes": [],
            "_model_module": "@jupyter-widgets/controls",
            "_model_module_version": "1.5.0",
            "_model_name": "FloatProgressModel",
            "_view_count": null,
            "_view_module": "@jupyter-widgets/controls",
            "_view_module_version": "1.5.0",
            "_view_name": "ProgressView",
            "bar_style": "success",
            "description": "",
            "description_tooltip": null,
            "layout": "IPY_MODEL_93f05d7ee4bf4f62a802e3edd096bf26",
            "max": 1,
            "min": 0,
            "orientation": "horizontal",
            "style": "IPY_MODEL_1d5ad1744cc5461a809ead02a4267da7",
            "value": 1
          }
        },
        "bb913b90a8294b0292a86ea09431d838": {
          "model_module": "@jupyter-widgets/controls",
          "model_name": "HTMLModel",
          "model_module_version": "1.5.0",
          "state": {
            "_dom_classes": [],
            "_model_module": "@jupyter-widgets/controls",
            "_model_module_version": "1.5.0",
            "_model_name": "HTMLModel",
            "_view_count": null,
            "_view_module": "@jupyter-widgets/controls",
            "_view_module_version": "1.5.0",
            "_view_name": "HTMLView",
            "description": "",
            "description_tooltip": null,
            "layout": "IPY_MODEL_c8e7683594134ee9834868bd1b473660",
            "placeholder": "​",
            "style": "IPY_MODEL_82557793e59e47b6bbe81b954f4fed7c",
            "value": " 1/1 [00:00&lt;00:00,  1.23ba/s]"
          }
        },
        "f44007f0bc6c4233a589d3933d8e2c9a": {
          "model_module": "@jupyter-widgets/base",
          "model_name": "LayoutModel",
          "model_module_version": "1.2.0",
          "state": {
            "_model_module": "@jupyter-widgets/base",
            "_model_module_version": "1.2.0",
            "_model_name": "LayoutModel",
            "_view_count": null,
            "_view_module": "@jupyter-widgets/base",
            "_view_module_version": "1.2.0",
            "_view_name": "LayoutView",
            "align_content": null,
            "align_items": null,
            "align_self": null,
            "border": null,
            "bottom": null,
            "display": null,
            "flex": null,
            "flex_flow": null,
            "grid_area": null,
            "grid_auto_columns": null,
            "grid_auto_flow": null,
            "grid_auto_rows": null,
            "grid_column": null,
            "grid_gap": null,
            "grid_row": null,
            "grid_template_areas": null,
            "grid_template_columns": null,
            "grid_template_rows": null,
            "height": null,
            "justify_content": null,
            "justify_items": null,
            "left": null,
            "margin": null,
            "max_height": null,
            "max_width": null,
            "min_height": null,
            "min_width": null,
            "object_fit": null,
            "object_position": null,
            "order": null,
            "overflow": null,
            "overflow_x": null,
            "overflow_y": null,
            "padding": null,
            "right": null,
            "top": null,
            "visibility": null,
            "width": null
          }
        },
        "752561a7aab84e45bb32205c08adb6cb": {
          "model_module": "@jupyter-widgets/base",
          "model_name": "LayoutModel",
          "model_module_version": "1.2.0",
          "state": {
            "_model_module": "@jupyter-widgets/base",
            "_model_module_version": "1.2.0",
            "_model_name": "LayoutModel",
            "_view_count": null,
            "_view_module": "@jupyter-widgets/base",
            "_view_module_version": "1.2.0",
            "_view_name": "LayoutView",
            "align_content": null,
            "align_items": null,
            "align_self": null,
            "border": null,
            "bottom": null,
            "display": null,
            "flex": null,
            "flex_flow": null,
            "grid_area": null,
            "grid_auto_columns": null,
            "grid_auto_flow": null,
            "grid_auto_rows": null,
            "grid_column": null,
            "grid_gap": null,
            "grid_row": null,
            "grid_template_areas": null,
            "grid_template_columns": null,
            "grid_template_rows": null,
            "height": null,
            "justify_content": null,
            "justify_items": null,
            "left": null,
            "margin": null,
            "max_height": null,
            "max_width": null,
            "min_height": null,
            "min_width": null,
            "object_fit": null,
            "object_position": null,
            "order": null,
            "overflow": null,
            "overflow_x": null,
            "overflow_y": null,
            "padding": null,
            "right": null,
            "top": null,
            "visibility": null,
            "width": null
          }
        },
        "70822781528b415395892f8903083740": {
          "model_module": "@jupyter-widgets/controls",
          "model_name": "DescriptionStyleModel",
          "model_module_version": "1.5.0",
          "state": {
            "_model_module": "@jupyter-widgets/controls",
            "_model_module_version": "1.5.0",
            "_model_name": "DescriptionStyleModel",
            "_view_count": null,
            "_view_module": "@jupyter-widgets/base",
            "_view_module_version": "1.2.0",
            "_view_name": "StyleView",
            "description_width": ""
          }
        },
        "93f05d7ee4bf4f62a802e3edd096bf26": {
          "model_module": "@jupyter-widgets/base",
          "model_name": "LayoutModel",
          "model_module_version": "1.2.0",
          "state": {
            "_model_module": "@jupyter-widgets/base",
            "_model_module_version": "1.2.0",
            "_model_name": "LayoutModel",
            "_view_count": null,
            "_view_module": "@jupyter-widgets/base",
            "_view_module_version": "1.2.0",
            "_view_name": "LayoutView",
            "align_content": null,
            "align_items": null,
            "align_self": null,
            "border": null,
            "bottom": null,
            "display": null,
            "flex": null,
            "flex_flow": null,
            "grid_area": null,
            "grid_auto_columns": null,
            "grid_auto_flow": null,
            "grid_auto_rows": null,
            "grid_column": null,
            "grid_gap": null,
            "grid_row": null,
            "grid_template_areas": null,
            "grid_template_columns": null,
            "grid_template_rows": null,
            "height": null,
            "justify_content": null,
            "justify_items": null,
            "left": null,
            "margin": null,
            "max_height": null,
            "max_width": null,
            "min_height": null,
            "min_width": null,
            "object_fit": null,
            "object_position": null,
            "order": null,
            "overflow": null,
            "overflow_x": null,
            "overflow_y": null,
            "padding": null,
            "right": null,
            "top": null,
            "visibility": null,
            "width": null
          }
        },
        "1d5ad1744cc5461a809ead02a4267da7": {
          "model_module": "@jupyter-widgets/controls",
          "model_name": "ProgressStyleModel",
          "model_module_version": "1.5.0",
          "state": {
            "_model_module": "@jupyter-widgets/controls",
            "_model_module_version": "1.5.0",
            "_model_name": "ProgressStyleModel",
            "_view_count": null,
            "_view_module": "@jupyter-widgets/base",
            "_view_module_version": "1.2.0",
            "_view_name": "StyleView",
            "bar_color": null,
            "description_width": ""
          }
        },
        "c8e7683594134ee9834868bd1b473660": {
          "model_module": "@jupyter-widgets/base",
          "model_name": "LayoutModel",
          "model_module_version": "1.2.0",
          "state": {
            "_model_module": "@jupyter-widgets/base",
            "_model_module_version": "1.2.0",
            "_model_name": "LayoutModel",
            "_view_count": null,
            "_view_module": "@jupyter-widgets/base",
            "_view_module_version": "1.2.0",
            "_view_name": "LayoutView",
            "align_content": null,
            "align_items": null,
            "align_self": null,
            "border": null,
            "bottom": null,
            "display": null,
            "flex": null,
            "flex_flow": null,
            "grid_area": null,
            "grid_auto_columns": null,
            "grid_auto_flow": null,
            "grid_auto_rows": null,
            "grid_column": null,
            "grid_gap": null,
            "grid_row": null,
            "grid_template_areas": null,
            "grid_template_columns": null,
            "grid_template_rows": null,
            "height": null,
            "justify_content": null,
            "justify_items": null,
            "left": null,
            "margin": null,
            "max_height": null,
            "max_width": null,
            "min_height": null,
            "min_width": null,
            "object_fit": null,
            "object_position": null,
            "order": null,
            "overflow": null,
            "overflow_x": null,
            "overflow_y": null,
            "padding": null,
            "right": null,
            "top": null,
            "visibility": null,
            "width": null
          }
        },
        "82557793e59e47b6bbe81b954f4fed7c": {
          "model_module": "@jupyter-widgets/controls",
          "model_name": "DescriptionStyleModel",
          "model_module_version": "1.5.0",
          "state": {
            "_model_module": "@jupyter-widgets/controls",
            "_model_module_version": "1.5.0",
            "_model_name": "DescriptionStyleModel",
            "_view_count": null,
            "_view_module": "@jupyter-widgets/base",
            "_view_module_version": "1.2.0",
            "_view_name": "StyleView",
            "description_width": ""
          }
        }
      }
    }
  },
  "nbformat": 4,
  "nbformat_minor": 5
}