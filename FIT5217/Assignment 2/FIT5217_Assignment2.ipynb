{
 "cells": [
  {
   "cell_type": "markdown",
   "id": "7d3712cd",
   "metadata": {},
   "source": [
    "**Neural Chef Assistance**  \n",
    "**Name: Darren Jer Shien Yee**  \n",
    "**Student ID: 31237223**"
   ]
  },
  {
   "cell_type": "markdown",
   "id": "448e2844",
   "metadata": {},
   "source": [
    "**Implementation of Baseline 1: RNN without Attention**"
   ]
  },
  {
   "cell_type": "code",
   "execution_count": 1,
   "id": "cd7c08dd",
   "metadata": {},
   "outputs": [
    {
     "name": "stdout",
     "output_type": "stream",
     "text": [
      "Requirement already satisfied: nltk in c:\\users\\manut\\anaconda3\\envs\\fit5217\\lib\\site-packages (3.8.1)\n",
      "Requirement already satisfied: click in c:\\users\\manut\\anaconda3\\envs\\fit5217\\lib\\site-packages (from nltk) (8.1.7)\n",
      "Requirement already satisfied: joblib in c:\\users\\manut\\anaconda3\\envs\\fit5217\\lib\\site-packages (from nltk) (1.4.2)\n",
      "Requirement already satisfied: regex>=2021.8.3 in c:\\users\\manut\\anaconda3\\envs\\fit5217\\lib\\site-packages (from nltk) (2024.5.10)\n",
      "Requirement already satisfied: tqdm in c:\\users\\manut\\anaconda3\\envs\\fit5217\\lib\\site-packages (from nltk) (4.66.4)\n",
      "Requirement already satisfied: colorama in c:\\users\\manut\\anaconda3\\envs\\fit5217\\lib\\site-packages (from click->nltk) (0.4.6)\n",
      "Requirement already satisfied: tensorboardX in c:\\users\\manut\\anaconda3\\envs\\fit5217\\lib\\site-packages (2.6.2.2)\n",
      "Requirement already satisfied: numpy in c:\\users\\manut\\anaconda3\\envs\\fit5217\\lib\\site-packages (from tensorboardX) (1.26.3)\n",
      "Requirement already satisfied: packaging in c:\\users\\manut\\anaconda3\\envs\\fit5217\\lib\\site-packages (from tensorboardX) (23.2)\n",
      "Requirement already satisfied: protobuf>=3.20 in c:\\users\\manut\\anaconda3\\envs\\fit5217\\lib\\site-packages (from tensorboardX) (5.26.1)\n",
      "cuda\n"
     ]
    }
   ],
   "source": [
    "## Requirements\n",
    "!pip3 install nltk\n",
    "!pip3 install tensorboardX\n",
    "from __future__ import unicode_literals, print_function, division\n",
    "from io import open\n",
    "import unicodedata\n",
    "import string\n",
    "import re\n",
    "import random\n",
    "\n",
    "import torch\n",
    "import torch.nn as nn\n",
    "from torch import optim\n",
    "import torch.nn.functional as F\n",
    "from torch.utils.data import Dataset, DataLoader\n",
    "from collections import Counter\n",
    "from nltk.tokenize import word_tokenize\n",
    "from tqdm import tqdm\n",
    "from tensorboardX import SummaryWriter\n",
    "import numpy as np\n",
    "import gensim.downloader as api\n",
    "word2vec_model = api.load('word2vec-google-news-300')\n",
    "device = torch.device(\"cuda\" if torch.cuda.is_available() else \"cpu\")\n",
    "print (device)"
   ]
  },
  {
   "cell_type": "markdown",
   "id": "1d788a9e-58f9-4882-b4b6-5bf045a8c55c",
   "metadata": {},
   "source": [
    "**Implementation of Baseline 1: Language Method imported from RNN code provided in tutorials**"
   ]
  },
  {
   "cell_type": "code",
   "execution_count": 2,
   "id": "66b0337d-7e9f-474f-bbd1-83b5c9b887c7",
   "metadata": {},
   "outputs": [],
   "source": [
    "SOS_token = 0\n",
    "EOS_token = 1\n",
    "\n",
    "\n",
    "class Lang:\n",
    "    def __init__(self, name):\n",
    "        self.name = name\n",
    "        self.word2index = {}\n",
    "        self.word2count = {}\n",
    "        self.index2word = {0: \"SOS\", 1: \"EOS\"}\n",
    "        self.n_words = 2 # Count SOS and EOS\n",
    "        self.unique_words = []\n",
    "\n",
    "    def addSentence(self, sentence):\n",
    "        for word in sentence.split(' '):\n",
    "            self.addWord(word)\n",
    "\n",
    "    def addWord(self, word):\n",
    "        if word not in self.word2index:\n",
    "            self.unique_words.append(word)\n",
    "            self.word2index[word] = self.n_words\n",
    "            self.word2count[word] = 1\n",
    "            self.index2word[self.n_words] = word\n",
    "            self.n_words += 1\n",
    "        else:\n",
    "            self.word2count[word] += 1"
   ]
  },
  {
   "cell_type": "markdown",
   "id": "21ef3c46-345e-4f6b-9fff-cff0800cd43c",
   "metadata": {},
   "source": [
    "**Implementation of Baseline 1: Unicode and ASCII method to preprocess data**"
   ]
  },
  {
   "cell_type": "code",
   "execution_count": 3,
   "id": "d787a58e-58ae-48f3-956c-fc7f98282e88",
   "metadata": {},
   "outputs": [],
   "source": [
    "# Turn a Unicode string to plain ASCII, thanks to\n",
    "# https://stackoverflow.com/a/518232/2809427\n",
    "def unicodeToAscii(s):\n",
    "    return ''.join(\n",
    "        c for c in unicodedata.normalize('NFD', s)\n",
    "        if unicodedata.category(c) != 'Mn'\n",
    "    )\n",
    "# Lowercase only (since numerical is crucial here as opposed to lab code)\n",
    "def normalizeString(s):\n",
    "    s = unicodeToAscii(s.lower().strip())\n",
    "    s = s.replace('\\t', ' ')\n",
    "    return s"
   ]
  },
  {
   "cell_type": "markdown",
   "id": "edbeb7d6-145e-4024-842e-ebc28427ad01",
   "metadata": {},
   "source": [
    "**Implementation of Baseline 1: Method to read data from provided CSV**"
   ]
  },
  {
   "cell_type": "code",
   "execution_count": 4,
   "id": "9ec3f0e9-c616-41d4-92d6-c0e3f6cac175",
   "metadata": {},
   "outputs": [],
   "source": [
    "import pandas as pd\n",
    "\n",
    "def readLangs(reverse=False):\n",
    "    # Read the CSV file\n",
    "    train_df = pd.read_csv('Cooking_Dataset/Cooking_Dataset/train.csv')\n",
    "    valid_df = pd.read_csv('Cooking_Dataset/Cooking_Dataset/dev.csv')\n",
    "    test_df = pd.read_csv('Cooking_Dataset/Cooking_Dataset/test.csv')\n",
    "    \n",
    "    train_df.fillna('', inplace=True)\n",
    "    valid_df.fillna('', inplace=True)\n",
    "    test_df.fillna('', inplace=True)\n",
    "    \n",
    "    train_ingredients = train_df['Ingredients']\n",
    "    train_recipes = train_df['Recipe']\n",
    "    valid_ingredients = valid_df['Ingredients']\n",
    "    valid_recipes = valid_df['Recipe']    \n",
    "    test_ingredients = test_df['Ingredients']\n",
    "    test_recipes = test_df['Recipe']\n",
    "    \n",
    "    train_pairs = [[normalizeString(ing), normalizeString(rec)] for ing, rec in zip(train_ingredients, train_recipes)]\n",
    "    valid_pairs = [[normalizeString(ing), normalizeString(rec)] for ing, rec in zip(valid_ingredients, valid_recipes)]\n",
    "    test_pairs = [[normalizeString(ing), normalizeString(rec)] for ing, rec in zip(test_ingredients, test_recipes)]\n",
    "    \n",
    "    if reverse:\n",
    "        pairs = [list(reversed(p)) for p in pairs]\n",
    "        input_lang = Lang('Recipe')\n",
    "        output_lang = Lang('Ingredients')\n",
    "    else:\n",
    "        input_lang = Lang('Ingredients')\n",
    "        output_lang = Lang('Recipe')\n",
    "    return input_lang, output_lang, train_pairs, valid_pairs, test_pairs"
   ]
  },
  {
   "cell_type": "markdown",
   "id": "f372752f-bdba-432c-9fa7-5fd32712487a",
   "metadata": {},
   "source": [
    "**Implementation of Baseline 1: Preprocess data and intialise language using the methods above**"
   ]
  },
  {
   "cell_type": "code",
   "execution_count": 5,
   "id": "add1f86a-2221-4fcd-a3ce-9181f68d197e",
   "metadata": {},
   "outputs": [
    {
     "name": "stdout",
     "output_type": "stream",
     "text": [
      "Read 101340 sentence pairs\n",
      "Trimmed to 79894 sentence pairs\n",
      "Counting words...\n",
      "Counted words:\n",
      "Ingredients 37056\n",
      "Recipe 35620\n",
      "['2 lg tomatoes, peeled and -seeded and chopped chopped.                           1 ts ground cumin 4    tomatillos, husked and 1 ts fresh lime juice chopped.                           1 ts sugar 2    fresh anaheim chiles, seeded 1 ts minced fresh cilantro and chopped.                     1/2 ts freshly ground black pepper 5    green onions, chopped. -(one half, not 1 to 2!) 2    fresh jalapeno pepper, 1/4 ts salt.', 'in lidded jar , combine all ingredients and marinate for at least one hour .']\n"
     ]
    }
   ],
   "source": [
    "MAX_LENGTH = 150\n",
    "def filterPair(p):\n",
    "    return len(p[0].split(' ')) < MAX_LENGTH and \\\n",
    "        len(p[1].split(' ')) < MAX_LENGTH\n",
    "\n",
    "def filterPairs(pairs):\n",
    "    return [pair for pair in pairs if filterPair(pair)]\n",
    "    \n",
    "def prepareData(lang1, lang2, reverse=False):\n",
    "    input_lang, output_lang, train_pairs, valid_pairs, test_pairs = readLangs(reverse)\n",
    "    print(\"Read %s sentence pairs\" % len(train_pairs))\n",
    "    train_pairs = filterPairs(train_pairs)\n",
    "    valid_pairs = filterPairs(valid_pairs)\n",
    "    test_pairs = filterPairs(test_pairs)\n",
    "    print(\"Trimmed to %s sentence pairs\" % len(train_pairs))\n",
    "    print(\"Counting words...\")\n",
    "    for pair in train_pairs:\n",
    "        input_lang.addSentence(pair[0])\n",
    "        output_lang.addSentence(pair[1])\n",
    "    for pair in valid_pairs:\n",
    "        input_lang.addSentence(pair[0])\n",
    "        output_lang.addSentence(pair[1])\n",
    "    for pair in test_pairs:\n",
    "        input_lang.addSentence(pair[0])\n",
    "        output_lang.addSentence(pair[1])\n",
    "    print(\"Counted words:\")\n",
    "    print(input_lang.name, input_lang.n_words)\n",
    "    print(output_lang.name, output_lang.n_words)\n",
    "    return input_lang, output_lang, train_pairs, valid_pairs, test_pairs\n",
    "\n",
    "input_lang, output_lang, train_pairs, valid_pairs, test_pairs = prepareData('ingredients', 'recipe', False)\n",
    "print(random.choice(train_pairs))"
   ]
  },
  {
   "cell_type": "markdown",
   "id": "23fa22b6-5890-459f-a0de-eca4d17645d0",
   "metadata": {},
   "source": [
    "**Implementation of Baseline 1: Encoder RNN for seq2seq model without attention**"
   ]
  },
  {
   "cell_type": "code",
   "execution_count": 6,
   "id": "bad39fb3",
   "metadata": {},
   "outputs": [],
   "source": [
    "class EncoderRNN(nn.Module):\n",
    "    def __init__(self, input_size, hidden_size):\n",
    "        super(EncoderRNN, self).__init__()\n",
    "        self.hidden_size = hidden_size\n",
    "\n",
    "        self.embedding = nn.Embedding(input_size, hidden_size)\n",
    "        self.gru = nn.GRU(hidden_size, hidden_size)\n",
    "\n",
    "    def forward(self, input, hidden):\n",
    "        embedded = self.embedding(input).view(1, 1, -1)\n",
    "        output = embedded\n",
    "        output, hidden = self.gru(output, hidden)\n",
    "        return output, hidden\n",
    "\n",
    "    def initHidden(self):\n",
    "        return torch.zeros(1, 1, self.hidden_size, device=device)"
   ]
  },
  {
   "cell_type": "markdown",
   "id": "170834eb-3f3b-466c-9fd2-76f05695b79a",
   "metadata": {},
   "source": [
    "**Implementation of Baseline 1: Decoder RNN for seq2seq model without attention**"
   ]
  },
  {
   "cell_type": "code",
   "execution_count": 7,
   "id": "b2c193b8",
   "metadata": {},
   "outputs": [],
   "source": [
    "class DecoderRNN(nn.Module):\n",
    "    def __init__(self, hidden_size, output_size):\n",
    "        super(DecoderRNN, self).__init__()\n",
    "        self.hidden_size = hidden_size\n",
    "\n",
    "        self.embedding = nn.Embedding(output_size, hidden_size)\n",
    "        self.gru = nn.GRU(hidden_size, hidden_size)\n",
    "        self.out = nn.Linear(hidden_size, output_size)\n",
    "        self.softmax = nn.LogSoftmax(dim=1)\n",
    "\n",
    "    def forward(self, input, hidden):\n",
    "        output = self.embedding(input).view(1, 1, -1)\n",
    "        output = F.relu(output)\n",
    "        output, hidden = self.gru(output, hidden)\n",
    "        output = self.softmax(self.out(output[0]))\n",
    "        return output, hidden\n",
    "\n",
    "    def initHidden(self):\n",
    "        return torch.zeros(1, 1, self.hidden_size, device=device)\n"
   ]
  },
  {
   "cell_type": "markdown",
   "id": "90864fb4-1563-4b30-9e67-d3da22fe4ad2",
   "metadata": {},
   "source": [
    "**Implementation of Baseline 1: Processing methods for train iter**"
   ]
  },
  {
   "cell_type": "code",
   "execution_count": 8,
   "id": "1296ff05",
   "metadata": {},
   "outputs": [],
   "source": [
    "def indexesFromSentence(lang, sentence):\n",
    "    return [lang.word2index[word] for word in sentence.split(' ')]\n",
    "\n",
    "\n",
    "def tensorFromSentence(lang, sentence):\n",
    "    indexes = indexesFromSentence(lang, sentence)\n",
    "    indexes.append(EOS_token)\n",
    "    return torch.tensor(indexes, dtype=torch.long, device=device).view(-1, 1)\n",
    "\n",
    "\n",
    "def tensorsFromPair(pair):\n",
    "    input_tensor = tensorFromSentence(input_lang, pair[0])\n",
    "    target_tensor = tensorFromSentence(output_lang, pair[1])\n",
    "    return (input_tensor, target_tensor)"
   ]
  },
  {
   "cell_type": "markdown",
   "id": "504668e0-5099-4670-b2b8-3688377eee99",
   "metadata": {},
   "source": [
    "**Implementation of Baseline 1: Train method for seq2seq model without attention**"
   ]
  },
  {
   "cell_type": "code",
   "execution_count": 9,
   "id": "93e74aa1-b285-459a-ae49-fb99cfd3d578",
   "metadata": {},
   "outputs": [],
   "source": [
    "teacher_forcing_ratio = 1\n",
    "\n",
    "\n",
    "def train(input_tensor, target_tensor, encoder, decoder, encoder_optimizer, decoder_optimizer, criterion, max_length=MAX_LENGTH):\n",
    "    encoder_hidden = encoder.initHidden()\n",
    "\n",
    "    encoder_optimizer.zero_grad()\n",
    "    decoder_optimizer.zero_grad()\n",
    "\n",
    "    input_length = input_tensor.size(0)\n",
    "    target_length = target_tensor.size(0)\n",
    "\n",
    "    encoder_outputs = torch.zeros(max_length, encoder.hidden_size, device=device)\n",
    "\n",
    "    loss = 0\n",
    "\n",
    "    for ei in range(input_length):\n",
    "        encoder_output, encoder_hidden = encoder(\n",
    "            input_tensor[ei], encoder_hidden)\n",
    "        encoder_outputs[ei] = encoder_output[0, 0]\n",
    "\n",
    "    decoder_input = torch.tensor([[SOS_token]], device=device)\n",
    "\n",
    "    decoder_hidden = encoder_hidden\n",
    "\n",
    "    use_teacher_forcing = True if random.random() < teacher_forcing_ratio else False\n",
    "\n",
    "    if use_teacher_forcing:\n",
    "        # Teacher forcing: Feed the target as the next input\n",
    "        for di in range(target_length):\n",
    "            decoder_output, decoder_hidden = decoder(\n",
    "                decoder_input, decoder_hidden)\n",
    "            loss += criterion(decoder_output, target_tensor[di])\n",
    "            decoder_input = target_tensor[di]  # Teacher forcing\n",
    "\n",
    "    else:\n",
    "        # Without teacher forcing: use its own predictions as the next input\n",
    "        for di in range(target_length):\n",
    "            decoder_output, decoder_hidden = decoder(\n",
    "                decoder_input, decoder_hidden)\n",
    "            topv, topi = decoder_output.topk(1)\n",
    "            decoder_input = topi.squeeze().detach()  # detach from history as input\n",
    "\n",
    "            loss += criterion(decoder_output, target_tensor[di])\n",
    "            if decoder_input.item() == EOS_token:\n",
    "                break\n",
    "\n",
    "    loss.backward()\n",
    "\n",
    "    encoder_optimizer.step()\n",
    "    decoder_optimizer.step()\n",
    "\n",
    "    return loss.item() / target_length\n"
   ]
  },
  {
   "cell_type": "code",
   "execution_count": 10,
   "id": "a4d24171-4687-48c5-be89-08cf770315be",
   "metadata": {},
   "outputs": [],
   "source": [
    "def valid(input_tensor, target_tensor, encoder, decoder, criterion, max_length=MAX_LENGTH):\n",
    "    encoder_hidden = encoder.initHidden()\n",
    "    input_length = input_tensor.size(0)\n",
    "    target_length = target_tensor.size(0)\n",
    "\n",
    "    encoder_outputs = torch.zeros(max_length, encoder.hidden_size, device=device)\n",
    "\n",
    "    loss = 0\n",
    "\n",
    "    for ei in range(input_length):\n",
    "        encoder_output, encoder_hidden = encoder(\n",
    "            input_tensor[ei], encoder_hidden)\n",
    "        encoder_outputs[ei] = encoder_output[0, 0]\n",
    "\n",
    "    decoder_input = torch.tensor([[SOS_token]], device=device)\n",
    "\n",
    "    decoder_hidden = encoder_hidden\n",
    "    for di in range(target_length):\n",
    "        decoder_output, decoder_hidden = decoder(\n",
    "            decoder_input, decoder_hidden)\n",
    "        topv, topi = decoder_output.topk(1)\n",
    "        decoder_input = topi.squeeze().detach()  # detach from history as input\n",
    "\n",
    "        loss += criterion(decoder_output, target_tensor[di])\n",
    "        if decoder_input.item() == EOS_token:\n",
    "            break\n",
    "\n",
    "    return loss.item() / target_length\n"
   ]
  },
  {
   "cell_type": "markdown",
   "id": "76e73517-c02f-44d4-a0e5-e45f6c0a3be3",
   "metadata": {},
   "source": [
    "**Implementation of Baseline 1: Time method for train iter method** "
   ]
  },
  {
   "cell_type": "code",
   "execution_count": 11,
   "id": "30717ca1-4e2b-4a59-bd84-5eb1e68ad82c",
   "metadata": {},
   "outputs": [],
   "source": [
    "import time\n",
    "import math\n",
    "\n",
    "\n",
    "def asMinutes(s):\n",
    "    m = math.floor(s / 60)\n",
    "    s -= m * 60\n",
    "    return '%dm %ds' % (m, s)\n",
    "\n",
    "\n",
    "def timeSince(since, percent):\n",
    "    now = time.time()\n",
    "    s = now - since\n",
    "    es = s / (percent)\n",
    "    rs = es - s\n",
    "    return '%s (- %s)' % (asMinutes(s), asMinutes(rs))"
   ]
  },
  {
   "cell_type": "markdown",
   "id": "e33c1ccc-4c8a-4e72-b752-f0a12edf9cb0",
   "metadata": {},
   "source": [
    "**Implementation of Baseline 1: Train iter method**"
   ]
  },
  {
   "cell_type": "code",
   "execution_count": 12,
   "id": "2c8c7ce3-911c-49f9-be91-524a542e7909",
   "metadata": {},
   "outputs": [],
   "source": [
    "def trainIters(encoder, decoder, n_iters,train_pairs,valid_pairs, print_every=1000, plot_every=100, learning_rate=0.001):\n",
    "    start = time.time()\n",
    "    plot_train_losses = []\n",
    "    plot_valid_losses = []\n",
    "    print_train_loss_total = 0  # Reset every print_every\n",
    "    plot_train_loss_total = 0  # Reset every plot_every\n",
    "    print_valid_loss_total = 0  # Reset every print_every\n",
    "    plot_valid_loss_total = 0  # Reset every plot_every\n",
    "\n",
    "    encoder_optimizer = optim.Adam(encoder.parameters(), lr=learning_rate)\n",
    "    decoder_optimizer = optim.Adam(decoder.parameters(), lr=learning_rate)\n",
    "    training_pairs = [tensorsFromPair(random.choice(train_pairs))\n",
    "                      for i in range(n_iters)]\n",
    "    valid_pairs = [tensorsFromPair(random.choice(valid_pairs))\n",
    "                      for i in range(n_iters)]\n",
    "    criterion = nn.NLLLoss()\n",
    "\n",
    "    for iter in range(1, n_iters + 1):\n",
    "        training_pair = training_pairs[iter - 1]\n",
    "        training_input_tensor = training_pair[0]\n",
    "        training_target_tensor = training_pair[1]\n",
    "\n",
    "        valid_pair = valid_pairs[iter - 1]\n",
    "        valid_input_tensor = valid_pair[0]\n",
    "        valid_target_tensor = valid_pair[1]\n",
    "\n",
    "        train_loss = train(training_input_tensor, training_target_tensor, encoder,\n",
    "                     decoder, encoder_optimizer, decoder_optimizer, criterion)\n",
    "        print_train_loss_total += train_loss\n",
    "        plot_train_loss_total += train_loss\n",
    "        \n",
    "        valid_loss = valid(valid_input_tensor, valid_target_tensor, encoder,\n",
    "             decoder, criterion)\n",
    "        print_valid_loss_total += valid_loss\n",
    "        plot_valid_loss_total += valid_loss\n",
    "\n",
    "        if iter % print_every == 0:\n",
    "            print_train_loss_avg = print_train_loss_total / print_every\n",
    "            print_train_loss_total = 0\n",
    "            print_valid_loss_avg = print_valid_loss_total / print_every\n",
    "            print_valid_loss_total = 0\n",
    "            print('%s (%d %d%%) Train Loss: %.4f | Validation Loss: %.4f' % (timeSince(start, iter / n_iters),\n",
    "                                                                             iter, iter / n_iters * 100,\n",
    "                                                                             print_train_loss_avg, print_valid_loss_avg))\n",
    "        if iter % plot_every == 0:\n",
    "            plot_train_loss_avg = plot_train_loss_total / plot_every\n",
    "            plot_train_losses.append(plot_train_loss_avg)\n",
    "            plot_train_loss_total = 0\n",
    "            \n",
    "            plot_valid_loss_avg = plot_valid_loss_total / plot_every\n",
    "            plot_valid_losses.append(plot_valid_loss_avg)\n",
    "            plot_valid_loss_total = 0\n",
    "    return plot_train_losses,plot_valid_losses\n"
   ]
  },
  {
   "cell_type": "markdown",
   "id": "96969eea-8ad7-4879-8fec-2e72756ae498",
   "metadata": {},
   "source": [
    "**Implementation of Baseline 1: Show Plot method**"
   ]
  },
  {
   "cell_type": "code",
   "execution_count": 13,
   "id": "70a09497-62ff-467c-8923-87e52b92fe58",
   "metadata": {},
   "outputs": [],
   "source": [
    "import matplotlib.pyplot as plt\n",
    "import matplotlib.ticker as ticker\n",
    "import numpy as np\n",
    "def showPlot(model_name,points1, points2, epochs, plot_every):\n",
    "    plt.figure()\n",
    "    fig, ax = plt.subplots()\n",
    "    # This locator puts ticks at regular intervals\n",
    "    loc = ticker.MultipleLocator(base=0.2)\n",
    "    ax.yaxis.set_major_locator(loc)\n",
    "    x_range = np.array(np.arange(0, epochs-1, plot_every))\n",
    "    plt.plot(x_range,points1, label='Train')  # Plot points1 with label 'Train'\n",
    "    plt.plot(x_range,points2, label='Valid')  # Plot points2 with label 'Valid'\n",
    "    plt.legend()  # Add legend\n",
    "    plt.xlabel('Epochs')  # Label x-axis\n",
    "    plt.ylabel('Loss')  # Label y-axis\n",
    "    plt.title(model_name+' Training and Validation Loss')  # Set title for the plot\n",
    "    plt.show()"
   ]
  },
  {
   "cell_type": "markdown",
   "id": "e60b9c14-0d88-4401-84f6-3641172bab96",
   "metadata": {},
   "source": [
    "**Implementation of Baseline 1: Evaluation methods to check performance of baseline 1**"
   ]
  },
  {
   "cell_type": "code",
   "execution_count": 14,
   "id": "05211516-e976-47d1-b914-449d0d3fb4ec",
   "metadata": {},
   "outputs": [],
   "source": [
    "def evaluate(encoder, decoder, sentence, max_length=MAX_LENGTH):\n",
    "    with torch.no_grad():\n",
    "        input_tensor = tensorFromSentence(input_lang, sentence)\n",
    "        input_length = input_tensor.size()[0]\n",
    "        encoder_hidden = encoder.initHidden()\n",
    "\n",
    "        encoder_outputs = torch.zeros(max_length, encoder.hidden_size, device=device)\n",
    "\n",
    "        for ei in range(input_length):\n",
    "            encoder_output, encoder_hidden = encoder(input_tensor[ei],\n",
    "                                                     encoder_hidden)\n",
    "            encoder_outputs[ei] += encoder_output[0, 0]\n",
    "\n",
    "        decoder_input = torch.tensor([[SOS_token]], device=device)  # SOS\n",
    "\n",
    "        decoder_hidden = encoder_hidden\n",
    "\n",
    "        decoded_words = []\n",
    "        decoder_attentions = torch.zeros(max_length, max_length)\n",
    "\n",
    "        for di in range(max_length):\n",
    "            decoder_output, decoder_hidden = decoder(\n",
    "                decoder_input, decoder_hidden)\n",
    "            topv, topi = decoder_output.data.topk(1)\n",
    "            if topi.item() == EOS_token:\n",
    "                decoded_words.append('<EOS>')\n",
    "                break\n",
    "            else:\n",
    "                decoded_words.append(output_lang.index2word[topi.item()])\n",
    "\n",
    "            decoder_input = topi.squeeze().detach()\n",
    "\n",
    "        return decoded_words"
   ]
  },
  {
   "cell_type": "code",
   "execution_count": 15,
   "id": "d6fbea66-faee-4cb0-b11a-bb5312664000",
   "metadata": {},
   "outputs": [],
   "source": [
    "def evaluateRandomly(encoder, decoder, n=10):\n",
    "    for i in range(n):\n",
    "        pair = random.choice(pairs)\n",
    "        print('>', pair[0])\n",
    "        print('=', pair[1])\n",
    "        output_words= evaluate(encoder, decoder, pair[0])\n",
    "        output_sentence = ' '.join(output_words)\n",
    "        print('<', output_sentence)\n",
    "        print('')"
   ]
  },
  {
   "cell_type": "markdown",
   "id": "92fdb0fe-aac9-48f4-b1fb-2e500d5b9c73",
   "metadata": {},
   "source": [
    "**Implementation of Baseline 1: Creating instance of baseline 1 and training**"
   ]
  },
  {
   "cell_type": "code",
   "execution_count": 16,
   "id": "69d95a1d-094a-44e8-a874-246e81ff79d8",
   "metadata": {},
   "outputs": [
    {
     "name": "stdout",
     "output_type": "stream",
     "text": [
      "3m 43s (- 33m 27s) (1000 10%) Train Loss: 5.2575 | Validation Loss: 5.8910\n",
      "7m 31s (- 30m 4s) (2000 20%) Train Loss: 4.2646 | Validation Loss: 7.4216\n",
      "11m 8s (- 25m 59s) (3000 30%) Train Loss: 4.0323 | Validation Loss: 7.0332\n",
      "14m 48s (- 22m 13s) (4000 40%) Train Loss: 3.8705 | Validation Loss: 7.1795\n",
      "18m 28s (- 18m 28s) (5000 50%) Train Loss: 3.7074 | Validation Loss: 7.1183\n",
      "22m 6s (- 14m 44s) (6000 60%) Train Loss: 3.6632 | Validation Loss: 6.8458\n",
      "25m 49s (- 11m 4s) (7000 70%) Train Loss: 3.6219 | Validation Loss: 6.8262\n",
      "29m 26s (- 7m 21s) (8000 80%) Train Loss: 3.4981 | Validation Loss: 6.6977\n",
      "33m 6s (- 3m 40s) (9000 90%) Train Loss: 3.5256 | Validation Loss: 7.0627\n",
      "36m 37s (- 0m 0s) (10000 100%) Train Loss: 3.4865 | Validation Loss: 6.7179\n"
     ]
    }
   ],
   "source": [
    "hidden_size = 256\n",
    "n_iter = 10000\n",
    "plot_every = 100\n",
    "print_every = 1000\n",
    "baseline1_encoder = EncoderRNN(input_lang.n_words, hidden_size).to(device)\n",
    "baseline1_decoder = DecoderRNN(hidden_size, output_lang.n_words).to(device)\n",
    "baseline1_plot_train_losses,baseline1_plot_valid_losses = trainIters(baseline1_encoder, baseline1_decoder, n_iter ,train_pairs,valid_pairs, print_every = print_every,plot_every=plot_every)"
   ]
  },
  {
   "cell_type": "code",
   "execution_count": 17,
   "id": "b73fdb58-f4b2-4987-b631-98a20ae95de0",
   "metadata": {},
   "outputs": [
    {
     "data": {
      "text/plain": [
       "<Figure size 640x480 with 0 Axes>"
      ]
     },
     "metadata": {},
     "output_type": "display_data"
    },
    {
     "data": {
      "image/png": "[encoded data removed]",
      "text/plain": [
       "<Figure size 640x480 with 1 Axes>"
      ]
     },
     "metadata": {},
     "output_type": "display_data"
    }
   ],
   "source": [
    "showPlot('Baseline 1',baseline1_plot_train_losses,baseline1_plot_valid_losses,n_iter,plot_every)"
   ]
  },
  {
   "cell_type": "markdown",
   "id": "94c35846-ac86-452b-9b8c-54f465a1f9ba",
   "metadata": {},
   "source": [
    "**Implementation of Baseline 2: RNN with Attention**"
   ]
  },
  {
   "cell_type": "code",
   "execution_count": 18,
   "id": "814880f7-ef67-460c-980c-09b6745faa9c",
   "metadata": {},
   "outputs": [],
   "source": [
    "class AttnDecoderRNN(nn.Module):\n",
    "    def __init__(self, hidden_size, output_size, dropout_p=0.1, max_length=MAX_LENGTH):\n",
    "        super(AttnDecoderRNN, self).__init__()\n",
    "        self.hidden_size = hidden_size\n",
    "        self.output_size = output_size\n",
    "        self.dropout_p = dropout_p\n",
    "        self.max_length = max_length\n",
    "\n",
    "        self.embedding = nn.Embedding(self.output_size, self.hidden_size)\n",
    "        # self.attn = nn.Linear(self.hidden_size * 2, self.max_length)\n",
    "        # self.attn_combine = nn.Linear(self.hidden_size * 2, self.hidden_size)\n",
    "        self.dropout = nn.Dropout(self.dropout_p)\n",
    "        self.gru = nn.GRU(self.hidden_size, self.hidden_size)\n",
    "        #self.out = nn.Linear(self.hidden_size, self.output_size)\n",
    "        self.out = nn.Linear(self.hidden_size*2, self.output_size)\n",
    "\n",
    "    def forward(self, input, hidden, encoder_outputs):\n",
    "        embedded = self.embedding(input).view(1, 1, -1)\n",
    "        embedded = self.dropout(embedded)\n",
    "\n",
    "        _, hidden = self.gru(embedded, hidden)\n",
    "\n",
    "        attn_weights = F.softmax(torch.bmm(hidden, encoder_outputs.T.unsqueeze(0)),dim=-1)\n",
    "        attn_output = torch.bmm(attn_weights, encoder_outputs.unsqueeze(0))\n",
    "\n",
    "        concat_output = torch.cat((attn_output[0], hidden[0]), 1)\n",
    "\n",
    "        output = F.log_softmax(self.out(concat_output), dim=1)\n",
    "\n",
    "        # attn_weights = F.softmax(\n",
    "        #     self.attn(torch.cat((embedded[0], hidden[0]), 1)), dim=1)\n",
    "        # attn_applied = torch.bmm(attn_weights.unsqueeze(0),\n",
    "        #                          encoder_outputs.unsqueeze(0))\n",
    "\n",
    "        # output = torch.cat((embedded[0], attn_applied[0]), 1)\n",
    "        # output = self.attn_combine(output).unsqueeze(0)\n",
    "\n",
    "        # output = F.relu(output)\n",
    "        # output, hidden = self.gru(output, hidden)\n",
    "\n",
    "        # output = F.log_softmax(self.out(output[0]), dim=1)\n",
    "        return output, hidden, attn_weights\n",
    "\n",
    "    def initHidden(self):\n",
    "        return torch.zeros(1, 1, self.hidden_size, device=device)\n"
   ]
  },
  {
   "cell_type": "markdown",
   "id": "75f95b7f-3c49-4a84-ade1-3242c219489f",
   "metadata": {},
   "source": [
    "**Implementation of Baseline 2: Train method for RNN with attention**"
   ]
  },
  {
   "cell_type": "code",
   "execution_count": 40,
   "id": "c7f5d38e-94a3-47d4-b987-b9769d95ce04",
   "metadata": {},
   "outputs": [],
   "source": [
    "teacher_forcing_ratio = 1.0\n",
    "\n",
    "\n",
    "def train_attn(input_tensor, target_tensor, encoder, decoder, encoder_optimizer, decoder_optimizer, criterion, max_length=MAX_LENGTH):\n",
    "    encoder_hidden = encoder.initHidden()\n",
    "\n",
    "    encoder_optimizer.zero_grad()\n",
    "    decoder_optimizer.zero_grad()\n",
    "\n",
    "    input_length = input_tensor.size(0)\n",
    "    target_length = target_tensor.size(0)\n",
    "\n",
    "    encoder_outputs = torch.zeros(max_length, encoder.hidden_size, device=device)\n",
    "\n",
    "    loss = 0\n",
    "\n",
    "    for ei in range(input_length):\n",
    "        encoder_output, encoder_hidden = encoder(\n",
    "            input_tensor[ei], encoder_hidden)\n",
    "        encoder_outputs[ei] = encoder_output[0, 0]\n",
    "\n",
    "    decoder_input = torch.tensor([[SOS_token]], device=device)\n",
    "\n",
    "    decoder_hidden = encoder_hidden\n",
    "\n",
    "    use_teacher_forcing = True if random.random() < teacher_forcing_ratio else False\n",
    "\n",
    "    if use_teacher_forcing:\n",
    "        # Teacher forcing: Feed the target as the next input\n",
    "        for di in range(target_length):\n",
    "            decoder_output, decoder_hidden, decoder_attention = decoder(\n",
    "                decoder_input, decoder_hidden, encoder_outputs)\n",
    "            loss += criterion(decoder_output, target_tensor[di])\n",
    "            decoder_input = target_tensor[di]  # Teacher forcing\n",
    "\n",
    "    else:\n",
    "        # Without teacher forcing: use its own predictions as the next input\n",
    "        for di in range(target_length):\n",
    "            decoder_output, decoder_hidden, decoder_attention = decoder(\n",
    "                decoder_input, decoder_hidden, encoder_outputs)\n",
    "            topv, topi = decoder_output.topk(1)\n",
    "            decoder_input = topi.squeeze().detach()  # detach from history as input\n",
    "\n",
    "            loss += criterion(decoder_output, target_tensor[di])\n",
    "            if decoder_input.item() == EOS_token:\n",
    "                break\n",
    "\n",
    "    loss.backward()\n",
    "\n",
    "    encoder_optimizer.step()\n",
    "    decoder_optimizer.step()\n",
    "\n",
    "    return loss.item() / target_length\n"
   ]
  },
  {
   "cell_type": "code",
   "execution_count": 20,
   "id": "5fabffd3-ee3e-4ffd-b360-9b7b1e0fcdf3",
   "metadata": {},
   "outputs": [],
   "source": [
    "teacher_forcing_ratio = 1.0\n",
    "def valid_attn(input_tensor, target_tensor, encoder, decoder, criterion, max_length=MAX_LENGTH):\n",
    "    encoder_hidden = encoder.initHidden()\n",
    "\n",
    "    input_length = input_tensor.size(0)\n",
    "    target_length = target_tensor.size(0)\n",
    "\n",
    "    encoder_outputs = torch.zeros(max_length, encoder.hidden_size, device=device)\n",
    "\n",
    "    loss = 0\n",
    "\n",
    "    for ei in range(input_length):\n",
    "        encoder_output, encoder_hidden = encoder(\n",
    "            input_tensor[ei], encoder_hidden)\n",
    "        encoder_outputs[ei] = encoder_output[0, 0]\n",
    "    decoder_input = torch.tensor([[SOS_token]], device=device)\n",
    "    decoder_hidden = encoder_hidden\n",
    "    for di in range(target_length):\n",
    "        decoder_output, decoder_hidden, decoder_attention = decoder(\n",
    "            decoder_input, decoder_hidden, encoder_outputs)\n",
    "        topv, topi = decoder_output.topk(1)\n",
    "        decoder_input = topi.squeeze().detach()  # detach from history as input\n",
    "\n",
    "        loss += criterion(decoder_output, target_tensor[di])\n",
    "        if decoder_input.item() == EOS_token:\n",
    "            break\n",
    "\n",
    "    return loss.item() / target_length\n"
   ]
  },
  {
   "cell_type": "markdown",
   "id": "b486009e-c90f-401d-ab3e-0423519d0b10",
   "metadata": {},
   "source": [
    "**Implementation of Baseline 2: Train iter method for RNN with attention**"
   ]
  },
  {
   "cell_type": "code",
   "execution_count": 21,
   "id": "e4ac4ebb-e010-4984-97d3-5b223b228062",
   "metadata": {},
   "outputs": [],
   "source": [
    "def trainIters_attn(encoder, decoder, n_iters,print_every=1000, plot_every=100, learning_rate=0.001):\n",
    "    start = time.time()\n",
    "    plot_train_losses = []\n",
    "    plot_valid_losses = []\n",
    "    print_train_loss_total = 0  # Reset every print_every\n",
    "    plot_train_loss_total = 0  # Reset every plot_every\n",
    "    print_valid_loss_total = 0  # Reset every print_every\n",
    "    plot_valid_loss_total = 0  # Reset every plot_every\n",
    "\n",
    "    encoder_optimizer = optim.Adam(encoder.parameters(), lr=learning_rate)\n",
    "    decoder_optimizer = optim.Adam(decoder.parameters(), lr=learning_rate)\n",
    "    training_pairs = [tensorsFromPair(random.choice(train_pairs))\n",
    "                      for i in range(n_iters)]\n",
    "    validation_pairs = [tensorsFromPair(random.choice(valid_pairs))\n",
    "                      for i in range(n_iters)]\n",
    "    criterion = nn.NLLLoss()\n",
    "\n",
    "    for iter in range(1, n_iters + 1):\n",
    "        training_pair = training_pairs[iter - 1]\n",
    "        training_input_tensor = training_pair[0]\n",
    "        training_target_tensor = training_pair[1]\n",
    "\n",
    "        valid_pair = validation_pairs[iter - 1]\n",
    "        valid_input_tensor = valid_pair[0]\n",
    "        valid_target_tensor = valid_pair[1]\n",
    "\n",
    "        train_loss = train_attn(training_input_tensor, training_target_tensor, encoder,\n",
    "                     decoder, encoder_optimizer, decoder_optimizer, criterion)\n",
    "        print_train_loss_total += train_loss\n",
    "        plot_train_loss_total += train_loss\n",
    "        \n",
    "        valid_loss = valid_attn(valid_input_tensor, valid_target_tensor, encoder,\n",
    "             decoder, criterion)\n",
    "        print_valid_loss_total += valid_loss\n",
    "        plot_valid_loss_total += valid_loss\n",
    "\n",
    "        if iter % print_every == 0:\n",
    "            print_train_loss_avg = print_train_loss_total / print_every\n",
    "            print_train_loss_total = 0\n",
    "            print_valid_loss_avg = print_valid_loss_total / print_every\n",
    "            print_valid_loss_total = 0\n",
    "            print('%s (%d %d%%) Train Loss: %.4f | Validation Loss: %.4f' % (timeSince(start, iter / n_iters),\n",
    "                                                                             iter, iter / n_iters * 100,\n",
    "                                                                             print_train_loss_avg, print_valid_loss_avg))\n",
    "        if iter % plot_every == 0:\n",
    "            plot_train_loss_avg = plot_train_loss_total / plot_every\n",
    "            plot_train_losses.append(plot_train_loss_avg)\n",
    "            plot_train_loss_total = 0\n",
    "            \n",
    "            plot_valid_loss_avg = plot_valid_loss_total / plot_every\n",
    "            plot_valid_losses.append(plot_valid_loss_avg)\n",
    "            plot_valid_loss_total = 0\n",
    "    return plot_train_losses,plot_valid_losses\n"
   ]
  },
  {
   "cell_type": "markdown",
   "id": "d942fc9b-e5f6-41cf-af02-116ca14b1874",
   "metadata": {},
   "source": [
    "**Implementation of Baseline 2: Initialising instance of RNN with attention**"
   ]
  },
  {
   "cell_type": "code",
   "execution_count": 22,
   "id": "735b4dee-5b75-4325-ae4a-267a1fb93592",
   "metadata": {},
   "outputs": [
    {
     "name": "stdout",
     "output_type": "stream",
     "text": [
      "4m 59s (- 44m 51s) (1000 10%) Train Loss: 5.0167 | Validation Loss: 5.7930\n",
      "10m 0s (- 40m 2s) (2000 20%) Train Loss: 4.1381 | Validation Loss: 7.4241\n",
      "14m 55s (- 34m 49s) (3000 30%) Train Loss: 3.9509 | Validation Loss: 7.1153\n",
      "19m 53s (- 29m 49s) (4000 40%) Train Loss: 3.7651 | Validation Loss: 6.9461\n",
      "24m 43s (- 24m 43s) (5000 50%) Train Loss: 3.7191 | Validation Loss: 6.3911\n",
      "29m 33s (- 19m 42s) (6000 60%) Train Loss: 3.7379 | Validation Loss: 6.6121\n",
      "34m 31s (- 14m 47s) (7000 70%) Train Loss: 3.5848 | Validation Loss: 6.7975\n",
      "39m 21s (- 9m 50s) (8000 80%) Train Loss: 3.5992 | Validation Loss: 6.8467\n",
      "44m 4s (- 4m 53s) (9000 90%) Train Loss: 3.5189 | Validation Loss: 6.7071\n",
      "48m 45s (- 0m 0s) (10000 100%) Train Loss: 3.4914 | Validation Loss: 6.4984\n"
     ]
    }
   ],
   "source": [
    "hidden_size = 256\n",
    "n_iter = 10000\n",
    "plot_every = 100\n",
    "print_every = 100\n",
    "baseline2_encoder = EncoderRNN(input_lang.n_words, hidden_size).to(device)\n",
    "baseline2_decoder = AttnDecoderRNN(hidden_size, output_lang.n_words, dropout_p=0.1).to(device)\n",
    "plot_train_losses,plot_valid_losses = trainIters_attn(baseline2_encoder, baseline2_decoder, 10000, print_every=1000)"
   ]
  },
  {
   "cell_type": "markdown",
   "id": "fa23e78a-7de0-4a1e-8f37-23c8d1d05668",
   "metadata": {},
   "source": [
    "**Implementation of Baseline 2: Evaluation method for RNN with Attention**"
   ]
  },
  {
   "cell_type": "code",
   "execution_count": 23,
   "id": "e16ce082-cf7e-471b-9488-615f4ddc8bc3",
   "metadata": {},
   "outputs": [],
   "source": [
    "def evaluate_attn(encoder, decoder, sentence, max_length=MAX_LENGTH):\n",
    "    with torch.no_grad():\n",
    "        input_tensor = tensorFromSentence(input_lang, sentence)\n",
    "        input_length = input_tensor.size()[0]\n",
    "        encoder_hidden = encoder.initHidden()\n",
    "\n",
    "        encoder_outputs = torch.zeros(max_length, encoder.hidden_size, device=device)\n",
    "\n",
    "        for ei in range(input_length):\n",
    "            encoder_output, encoder_hidden = encoder(input_tensor[ei],\n",
    "                                                     encoder_hidden)\n",
    "            encoder_outputs[ei] += encoder_output[0, 0]\n",
    "\n",
    "        decoder_input = torch.tensor([[SOS_token]], device=device)  # SOS\n",
    "\n",
    "        decoder_hidden = encoder_hidden\n",
    "\n",
    "        decoded_words = []\n",
    "        decoder_attentions = torch.zeros(max_length, max_length)\n",
    "\n",
    "        for di in range(max_length):\n",
    "            decoder_output, decoder_hidden, decoder_attention = decoder(\n",
    "                decoder_input, decoder_hidden, encoder_outputs)\n",
    "            decoder_attentions[di] = decoder_attention.data\n",
    "            topv, topi = decoder_output.data.topk(1)\n",
    "            if topi.item() == EOS_token:\n",
    "                decoded_words.append('<EOS>')\n",
    "                break\n",
    "            else:\n",
    "                decoded_words.append(output_lang.index2word[topi.item()])\n",
    "\n",
    "            decoder_input = topi.squeeze().detach()\n",
    "\n",
    "        return decoded_words, decoder_attentions[:di + 1]"
   ]
  },
  {
   "cell_type": "code",
   "execution_count": 24,
   "id": "d6af3899-43bc-409e-8303-d139e8d108c0",
   "metadata": {},
   "outputs": [],
   "source": [
    "def evaluateRandomly_attn(encoder, decoder, n=10):\n",
    "    for i in range(n):\n",
    "        pair = random.choice(train_pairs)\n",
    "        print('>', pair[0])\n",
    "        print('=', pair[1])\n",
    "        output_words, attention= evaluate_attn(encoder, decoder, pair[0])\n",
    "        output_sentence = ' '.join(output_words)\n",
    "        print('<', output_sentence)\n",
    "        print('')"
   ]
  },
  {
   "cell_type": "code",
   "execution_count": 255,
   "id": "48da6244-ed20-456d-bcfc-f3494ab6e6f7",
   "metadata": {},
   "outputs": [],
   "source": [
    "# evaluateRandomly_attn(baseline2_encoder, baseline2_decoder)"
   ]
  },
  {
   "cell_type": "markdown",
   "id": "b93235ea-8dcd-462d-945e-712849d4c172",
   "metadata": {},
   "source": [
    "**Extension 1: Data Preprocessing**"
   ]
  },
  {
   "cell_type": "code",
   "execution_count": null,
   "id": "ae78d933-7f59-4870-95ff-ccede0ff4b03",
   "metadata": {},
   "outputs": [],
   "source": [
    "# SOS_token = 0\n",
    "# EOS_token = 1\n",
    "# UNK_token = 2 \n",
    "\n",
    "# class Lang:\n",
    "#     def __init__(self, name, max_vocab_size = 300):\n",
    "#         self.name = name\n",
    "#         self.word2index = {}\n",
    "#         self.word2count = {}\n",
    "#         self.index2word = {0: \"SOS\", 1: \"EOS\", 2: \"UNK\"}  # Include UNK token\n",
    "#         self.n_words = 3  # Count SOS, EOS, and UNK\n",
    "#         self.unique_words = []\n",
    "#         self.max_vocab_size = max_vocab_size\n",
    "\n",
    "#     def addSentence(self, sentence):\n",
    "#         for word in sentence.split(' '):\n",
    "#             self.addWord(word)\n",
    "\n",
    "#     def addWord(self, word):\n",
    "#         if word not in self.word2index:\n",
    "#             self.unique_words.append(word)\n",
    "#             self.word2index[word] = self.n_words\n",
    "#             self.word2count[word] = 1\n",
    "#             self.index2word[self.n_words] = word\n",
    "#             self.n_words += 1\n",
    "#         else:\n",
    "#             self.word2count[word] += 1\n",
    "\n",
    "#     def trimVocab(self):\n",
    "#             # Sort words based on their counts in descending order\n",
    "#             sorted_words = sorted(self.word2count.items(), key=lambda x: x[1], reverse=True)\n",
    "#             # Select top max_vocab_size words\n",
    "#             top_words = [word for word, count in sorted_words[:self.max_vocab_size]]\n",
    "            \n",
    "#             # Replace less frequent words with UNK token\n",
    "#             for word in self.unique_words:\n",
    "#                 if word not in top_words:\n",
    "#                     self.word2index[word] = UNK_token\n",
    "#             self.n_words = len(set(self.word2index.values()))\n"
   ]
  },
  {
   "cell_type": "code",
   "execution_count": 27,
   "id": "9dc6c726-d186-4327-b401-9b31865fdc83",
   "metadata": {},
   "outputs": [
    {
     "name": "stdout",
     "output_type": "stream",
     "text": [
      "Read 101340 sentence pairs\n",
      "Trimmed to 79894 sentence pairs\n",
      "Counting words...\n",
      "Counted words:\n",
      "Ingredients 17277\n",
      "Recipe 30770\n",
      "['butter margarine dry mustard allpurpose flour shredded sharp milk cheddar cheese salt', 'melt butter in a quart glass measuring pitcher in microwave oven about seconds at high add flour blend to a smooth paste add milk gradually stirring constantly cook uncovered in microwave overn minutes at high until thickened stir vigously after minutes then every seconds add salt dry mustard cheese to sauce stir well cook uncovered in microwave oven minute at high stir adventures in microwave cooking']\n"
     ]
    }
   ],
   "source": [
    "MAX_LENGTH = 150\n",
    "import re\n",
    "def clean_text(text):\n",
    "    # Define regular expression pattern to match numeric values and units\n",
    "    amount_pattern = r'\\b[\\d.]+(?:\\s*(?:g|kg|l|ml|tsp|tbsp|cup|pint|quart|oz|c|tb|ts|b|ea|pk|t|can|cups|cn|ounce)\\b)?'\n",
    "    # Remove numeric values and units from the text\n",
    "    text = re.sub(amount_pattern, '', text)\n",
    "\n",
    "    # Remove irrelevant information like advertisements, website navigation elements, etc.\n",
    "    # Assuming such information may be enclosed within angle brackets or parentheses\n",
    "    bracket_pattern = r'<[^>]*>|(\\([^)]*\\))'\n",
    "    remove_words = r'-rrb-|-lrb-|medium|small|large|chopped|sliced|softened|or|and|lb'\n",
    "    # Remove text inside angle brackets and parentheses\n",
    "    cleaned_text = re.sub(bracket_pattern, '', text)\n",
    "    cleaned_text = re.sub(remove_words, '', cleaned_text)\n",
    "\n",
    "    # Handle missing data and standardize text format\n",
    "    cleaned_text = cleaned_text.lower()  # Convert text to lowercase\n",
    "    cleaned_text = re.sub(r'[^\\w\\s]', '', cleaned_text)  # Remove punctuation\n",
    "    cleaned_text = re.sub(r'\\s+', ' ', cleaned_text).strip()  # Remove extra whitespaces\n",
    "    return cleaned_text\n",
    "\n",
    "def filterPair(p):\n",
    "    return len(p[0].split(' ')) < MAX_LENGTH and \\\n",
    "        len(p[1].split(' ')) < MAX_LENGTH\n",
    "\n",
    "def filterPairs(pairs):\n",
    "    return [pair for pair in pairs if filterPair(pair)]\n",
    "\n",
    "def prepareData(lang1, lang2, reverse=False):\n",
    "    input_lang, output_lang, train_pairs, valid_pairs, test_pairs = readLangs(reverse)\n",
    "    print(\"Read %s sentence pairs\" % len(train_pairs))\n",
    "    train_pairs = filterPairs(train_pairs)\n",
    "    valid_pairs = filterPairs(valid_pairs)\n",
    "    test_pairs = filterPairs(test_pairs)\n",
    "    print(\"Trimmed to %s sentence pairs\" % len(train_pairs))\n",
    "    print(\"Counting words...\")\n",
    "    for pair in train_pairs:\n",
    "        pair[0] = clean_text(pair[0])\n",
    "        pair[1] = clean_text(pair[1])\n",
    "        input_lang.addSentence(pair[0])\n",
    "        output_lang.addSentence(pair[1])\n",
    "    for pair in valid_pairs:\n",
    "        pair[0] = clean_text(pair[0])\n",
    "        pair[1] = clean_text(pair[1])\n",
    "        input_lang.addSentence(pair[0])\n",
    "        output_lang.addSentence(pair[1])\n",
    "    for pair in test_pairs:\n",
    "        pair[0] = clean_text(pair[0])\n",
    "        pair[1] = clean_text(pair[1])\n",
    "        input_lang.addSentence(pair[0])\n",
    "        output_lang.addSentence(pair[1])\n",
    "    print(\"Counted words:\")\n",
    "    print(input_lang.name, input_lang.n_words)\n",
    "    print(output_lang.name, output_lang.n_words)\n",
    "    return input_lang, output_lang, train_pairs, valid_pairs, test_pairs\n",
    "\n",
    "input_lang, output_lang, train_pairs, valid_pairs, test_pairs = prepareData('ingredients', 'recipe', False)\n",
    "print(random.choice(train_pairs))"
   ]
  },
  {
   "cell_type": "code",
   "execution_count": 28,
   "id": "d7112d21-9cfc-4bcd-a2bf-2d46b78f0413",
   "metadata": {},
   "outputs": [
    {
     "name": "stdout",
     "output_type": "stream",
     "text": [
      "3m 6s (- 27m 58s) (1000 10%) Train Loss: 5.6433 | Validation Loss: 7.1666\n",
      "6m 5s (- 24m 22s) (2000 20%) Train Loss: 4.8312 | Validation Loss: 7.0344\n",
      "9m 2s (- 21m 5s) (3000 30%) Train Loss: 4.5183 | Validation Loss: 6.6910\n",
      "11m 57s (- 17m 55s) (4000 40%) Train Loss: 4.3713 | Validation Loss: 6.9389\n",
      "14m 55s (- 14m 55s) (5000 50%) Train Loss: 4.3046 | Validation Loss: 6.6119\n",
      "17m 48s (- 11m 52s) (6000 60%) Train Loss: 4.2013 | Validation Loss: 6.3562\n",
      "20m 47s (- 8m 54s) (7000 70%) Train Loss: 4.1882 | Validation Loss: 6.9355\n",
      "23m 41s (- 5m 55s) (8000 80%) Train Loss: 4.0764 | Validation Loss: 6.3158\n",
      "26m 33s (- 2m 57s) (9000 90%) Train Loss: 4.1135 | Validation Loss: 6.6523\n",
      "29m 27s (- 0m 0s) (10000 100%) Train Loss: 4.0802 | Validation Loss: 6.3868\n"
     ]
    }
   ],
   "source": [
    "hidden_size = 256\n",
    "n_iter = 10000\n",
    "plot_every = 100\n",
    "print_every = 100\n",
    "extension1_encoder = EncoderRNN(input_lang.n_words, hidden_size).to(device)\n",
    "extension1_decoder = AttnDecoderRNN(hidden_size, output_lang.n_words, dropout_p=0.1).to(device)\n",
    "plot_extension1_train_losses,plot_extension1_valid_losses = trainIters_attn(extension1_encoder, extension1_decoder, 10000, print_every=1000)"
   ]
  },
  {
   "cell_type": "code",
   "execution_count": 29,
   "id": "91d6132d-11ba-4093-9ece-9ec5a021e628",
   "metadata": {},
   "outputs": [
    {
     "data": {
      "text/plain": [
       "<Figure size 640x480 with 0 Axes>"
      ]
     },
     "metadata": {},
     "output_type": "display_data"
    },
    {
     "data": {
      "image/png": "[encoded data removed]",
      "text/plain": [
       "<Figure size 640x480 with 1 Axes>"
      ]
     },
     "metadata": {},
     "output_type": "display_data"
    }
   ],
   "source": [
    "showPlot('Extension 1',plot_extension1_train_losses,plot_extension1_valid_losses,n_iter,plot_every)"
   ]
  },
  {
   "cell_type": "code",
   "execution_count": 601,
   "id": "a6a5a192-5b6e-4cea-9923-6d7ffab74a21",
   "metadata": {},
   "outputs": [
    {
     "name": "stdout",
     "output_type": "stream",
     "text": [
      "> lean ground beef med onion carrots sliced celery sliced cabbage sliced tomato paste worcestershire sauce beef bouillon or stock\n",
      "= in skillet brown hamburger adn drain thoroughly add onion carrots celery and cabbage combine tomato paste worcestershire sauce and beef stockbouillon add to crock pot with hamburger an stir to blend cover and cook on low setting for to hours or high setting for to hours\n"
     ]
    },
    {
     "ename": "RuntimeError",
     "evalue": "CUDA error: device-side assert triggered\nCUDA kernel errors might be asynchronously reported at some other API call, so the stacktrace below might be incorrect.\nFor debugging consider passing CUDA_LAUNCH_BLOCKING=1.\nCompile with `TORCH_USE_CUDA_DSA` to enable device-side assertions.\n",
     "output_type": "error",
     "traceback": [
      "\u001b[1;31m---------------------------------------------------------------------------\u001b[0m",
      "\u001b[1;31mRuntimeError\u001b[0m                              Traceback (most recent call last)",
      "Cell \u001b[1;32mIn[601], line 1\u001b[0m\n\u001b[1;32m----> 1\u001b[0m evaluateRandomly_attn(extension1_encoder, extension1_decoder)\n",
      "Cell \u001b[1;32mIn[24], line 6\u001b[0m, in \u001b[0;36mevaluateRandomly_attn\u001b[1;34m(encoder, decoder, n)\u001b[0m\n\u001b[0;32m      4\u001b[0m \u001b[38;5;28mprint\u001b[39m(\u001b[38;5;124m'\u001b[39m\u001b[38;5;124m>\u001b[39m\u001b[38;5;124m'\u001b[39m, pair[\u001b[38;5;241m0\u001b[39m])\n\u001b[0;32m      5\u001b[0m \u001b[38;5;28mprint\u001b[39m(\u001b[38;5;124m'\u001b[39m\u001b[38;5;124m=\u001b[39m\u001b[38;5;124m'\u001b[39m, pair[\u001b[38;5;241m1\u001b[39m])\n\u001b[1;32m----> 6\u001b[0m output_words, attention\u001b[38;5;241m=\u001b[39m evaluate_attn(encoder, decoder, pair[\u001b[38;5;241m0\u001b[39m])\n\u001b[0;32m      7\u001b[0m output_sentence \u001b[38;5;241m=\u001b[39m \u001b[38;5;124m'\u001b[39m\u001b[38;5;124m \u001b[39m\u001b[38;5;124m'\u001b[39m\u001b[38;5;241m.\u001b[39mjoin(output_words)\n\u001b[0;32m      8\u001b[0m \u001b[38;5;28mprint\u001b[39m(\u001b[38;5;124m'\u001b[39m\u001b[38;5;124m<\u001b[39m\u001b[38;5;124m'\u001b[39m, output_sentence)\n",
      "Cell \u001b[1;32mIn[23], line 3\u001b[0m, in \u001b[0;36mevaluate_attn\u001b[1;34m(encoder, decoder, sentence, max_length)\u001b[0m\n\u001b[0;32m      1\u001b[0m \u001b[38;5;28;01mdef\u001b[39;00m \u001b[38;5;21mevaluate_attn\u001b[39m(encoder, decoder, sentence, max_length\u001b[38;5;241m=\u001b[39mMAX_LENGTH):\n\u001b[0;32m      2\u001b[0m     \u001b[38;5;28;01mwith\u001b[39;00m torch\u001b[38;5;241m.\u001b[39mno_grad():\n\u001b[1;32m----> 3\u001b[0m         input_tensor \u001b[38;5;241m=\u001b[39m tensorFromSentence(input_lang, sentence)\n\u001b[0;32m      4\u001b[0m         input_length \u001b[38;5;241m=\u001b[39m input_tensor\u001b[38;5;241m.\u001b[39msize()[\u001b[38;5;241m0\u001b[39m]\n\u001b[0;32m      5\u001b[0m         encoder_hidden \u001b[38;5;241m=\u001b[39m encoder\u001b[38;5;241m.\u001b[39minitHidden()\n",
      "Cell \u001b[1;32mIn[8], line 8\u001b[0m, in \u001b[0;36mtensorFromSentence\u001b[1;34m(lang, sentence)\u001b[0m\n\u001b[0;32m      6\u001b[0m indexes \u001b[38;5;241m=\u001b[39m indexesFromSentence(lang, sentence)\n\u001b[0;32m      7\u001b[0m indexes\u001b[38;5;241m.\u001b[39mappend(EOS_token)\n\u001b[1;32m----> 8\u001b[0m \u001b[38;5;28;01mreturn\u001b[39;00m torch\u001b[38;5;241m.\u001b[39mtensor(indexes, dtype\u001b[38;5;241m=\u001b[39mtorch\u001b[38;5;241m.\u001b[39mlong, device\u001b[38;5;241m=\u001b[39mdevice)\u001b[38;5;241m.\u001b[39mview(\u001b[38;5;241m-\u001b[39m\u001b[38;5;241m1\u001b[39m, \u001b[38;5;241m1\u001b[39m)\n",
      "\u001b[1;31mRuntimeError\u001b[0m: CUDA error: device-side assert triggered\nCUDA kernel errors might be asynchronously reported at some other API call, so the stacktrace below might be incorrect.\nFor debugging consider passing CUDA_LAUNCH_BLOCKING=1.\nCompile with `TORCH_USE_CUDA_DSA` to enable device-side assertions.\n"
     ]
    }
   ],
   "source": [
    "evaluateRandomly_attn(extension1_encoder, extension1_decoder)"
   ]
  },
  {
   "cell_type": "code",
   "execution_count": 31,
   "id": "7e7735bd-e1b0-4f65-8c60-6b92c7c844cf",
   "metadata": {},
   "outputs": [],
   "source": [
    "class EncoderRNN_Layers(nn.Module):\n",
    "    def __init__(self, input_size, hidden_size, num_layers=1):\n",
    "        super(EncoderRNN_Layers, self).__init__()\n",
    "        self.hidden_size = hidden_size\n",
    "        self.num_layers = num_layers\n",
    "        self.embedding = nn.Embedding(input_size, hidden_size)\n",
    "        self.gru = nn.GRU(hidden_size, hidden_size, num_layers=num_layers)\n",
    "\n",
    "    def forward(self, input, hidden):\n",
    "        embedded = self.embedding(input).view(1, 1, -1)\n",
    "        output = embedded\n",
    "        output, hidden = self.gru(output, hidden)\n",
    "        return output, hidden\n",
    "\n",
    "    def initHidden(self):\n",
    "        return torch.zeros(self.num_layers, 1, self.hidden_size, device=device)\n"
   ]
  },
  {
   "cell_type": "markdown",
   "id": "f4fac582-4b7a-4825-a9ec-54624622a757",
   "metadata": {},
   "source": [
    "**Extension 2: Stacking Layers**"
   ]
  },
  {
   "cell_type": "code",
   "execution_count": 32,
   "id": "49b5c256-36c8-4a1a-a8f5-186241e6fabc",
   "metadata": {},
   "outputs": [],
   "source": [
    "class AttnDecoderRNN_Layers(nn.Module):\n",
    "    def __init__(self, hidden_size, output_size,num_layers, dropout_p=0.1, max_length=200):\n",
    "        super(AttnDecoderRNN_Layers, self).__init__()\n",
    "        self.hidden_size = hidden_size\n",
    "        self.output_size = output_size\n",
    "        self.dropout_p = dropout_p\n",
    "        self.max_length = max_length\n",
    "        self.num_layers = num_layers\n",
    "\n",
    "        self.embedding = nn.Embedding(self.output_size, self.hidden_size)\n",
    "        self.dropout = nn.Dropout(self.dropout_p)\n",
    "        self.gru = nn.GRU(self.hidden_size, self.hidden_size, num_layers=self.num_layers)\n",
    "        self.out = nn.Linear(self.hidden_size*2, self.output_size)\n",
    "\n",
    "    def forward(self, input, hidden, encoder_outputs):\n",
    "        embedded = self.embedding(input).view(1, 1, -1)\n",
    "        embedded = self.dropout(embedded)\n",
    "        _, hidden = self.gru(embedded, hidden)\n",
    "        attn_weights = F.softmax(torch.bmm(hidden[-1].unsqueeze(0), encoder_outputs.T.unsqueeze(0)),dim=-1)\n",
    "        attn_output = torch.bmm(attn_weights, encoder_outputs.unsqueeze(0))\n",
    "\n",
    "        concat_output = torch.cat((attn_output[0], hidden[0]), 1)\n",
    "\n",
    "        output = F.log_softmax(self.out(concat_output), dim=1)\n",
    "        return output, hidden, attn_weights\n",
    "\n",
    "    def initHidden(self):\n",
    "        return torch.zeros(self.num_layers, 1, self.hidden_size, device=device)"
   ]
  },
  {
   "cell_type": "code",
   "execution_count": 33,
   "id": "4f1ea619-0229-4eb6-b10b-a41c8db578f7",
   "metadata": {},
   "outputs": [
    {
     "name": "stdout",
     "output_type": "stream",
     "text": [
      "2m 18s (- 20m 43s) (1000 10%) Train Loss: 5.9193 | Validation Loss: 6.8734\n",
      "4m 37s (- 18m 28s) (2000 20%) Train Loss: 4.9875 | Validation Loss: 6.3525\n",
      "7m 1s (- 16m 24s) (3000 30%) Train Loss: 4.7500 | Validation Loss: 6.7843\n",
      "9m 24s (- 14m 6s) (4000 40%) Train Loss: 4.6192 | Validation Loss: 6.8996\n",
      "11m 42s (- 11m 42s) (5000 50%) Train Loss: 4.4792 | Validation Loss: 6.8797\n",
      "14m 5s (- 9m 23s) (6000 60%) Train Loss: 4.4341 | Validation Loss: 6.9790\n",
      "16m 23s (- 7m 1s) (7000 70%) Train Loss: 4.3710 | Validation Loss: 7.3125\n",
      "18m 36s (- 4m 39s) (8000 80%) Train Loss: 4.2607 | Validation Loss: 6.7645\n",
      "20m 53s (- 2m 19s) (9000 90%) Train Loss: 4.2454 | Validation Loss: 6.8450\n",
      "23m 5s (- 0m 0s) (10000 100%) Train Loss: 4.2372 | Validation Loss: 6.9971\n"
     ]
    }
   ],
   "source": [
    "hidden_size = 128\n",
    "n_iter = 10000\n",
    "plot_every = 100\n",
    "print_every = 100\n",
    "extension2_encoder = EncoderRNN_Layers(input_lang.n_words, hidden_size, num_layers=2).to(device)\n",
    "extension2_decoder = AttnDecoderRNN_Layers(hidden_size, output_lang.n_words, num_layers=2, dropout_p=0.2).to(device)\n",
    "plot_extension2_train_losses,plot_extension2_valid_losses = trainIters_attn(extension2_encoder, extension2_decoder, 10000, print_every=1000)"
   ]
  },
  {
   "cell_type": "code",
   "execution_count": 253,
   "id": "4a7adec0-375a-4174-894e-e5e2371dcaf6",
   "metadata": {},
   "outputs": [],
   "source": [
    "# evaluateRandomly_attn(extension2_encoder, extension2_decoder)"
   ]
  },
  {
   "cell_type": "code",
   "execution_count": 35,
   "id": "71dead02-2480-4b86-a40c-28a95a4d4a4c",
   "metadata": {},
   "outputs": [],
   "source": [
    "def evaluateRandomly_attn_test(encoder, decoder, n=10):\n",
    "    for i in range(n):\n",
    "        pair = random.choice(test_pairs)\n",
    "        print('>', pair[0])\n",
    "        print('=', pair[1])\n",
    "        output_words, attention= evaluate_attn(encoder, decoder, pair[0])\n",
    "        output_sentence = ' '.join(output_words)\n",
    "        print('<', output_sentence)\n",
    "        print('')"
   ]
  },
  {
   "cell_type": "code",
   "execution_count": 252,
   "id": "d751dd84-af3d-4457-a6c5-300b984be6dd",
   "metadata": {},
   "outputs": [],
   "source": [
    "# evaluateRandomly_attn_test(extension2_encoder, extension2_decoder)"
   ]
  },
  {
   "cell_type": "markdown",
   "id": "c55aca6d-7b0e-4d06-b9df-a3b8867188dd",
   "metadata": {},
   "source": [
    "**Paper implementation: NN Swap baseline model implementation**"
   ]
  },
  {
   "cell_type": "code",
   "execution_count": 495,
   "id": "d12dcff5-648f-447d-a822-63f24a434234",
   "metadata": {},
   "outputs": [],
   "source": [
    "import numpy as np\n",
    "import torch\n",
    "from sklearn.neighbors import NearestNeighbors\n",
    "\n",
    "def fit_nearest_neighbor(train_pair, max_length=MAX_LENGTH):\n",
    "    # Precompute padded pairs and norms for all recipes in the dataset\n",
    "    padded_pairs = []\n",
    "    norms = []\n",
    "    for pair in train_pair:\n",
    "        # Convert sentence to tensor\n",
    "        current_pair = tensorFromSentence(input_lang, pair[0])\n",
    "        # Pad tensor\n",
    "        padding_length = max(0, max_length - len(current_pair))\n",
    "        padded_pair = torch.cat((current_pair.squeeze(), torch.zeros(padding_length, dtype=torch.long).to(device)))\n",
    "        # Append to list\n",
    "        padded_pairs.append(padded_pair)\n",
    "    \n",
    "    # Convert list of tensors to a single tensor\n",
    "    padded_pairs_tensor = torch.stack(padded_pairs)\n",
    "    \n",
    "    # Fit NearestNeighbors model\n",
    "    nn_model = NearestNeighbors(metric='cosine')\n",
    "    nn_model.fit(padded_pairs_tensor.cpu().numpy())  # Convert tensor to numpy array\n",
    "    return nn_model\n",
    "nn_model = fit_nearest_neighbor(train_pairs)\n"
   ]
  },
  {
   "cell_type": "code",
   "execution_count": 510,
   "id": "035c6b27-f557-4206-978d-d2b13671add2",
   "metadata": {},
   "outputs": [
    {
     "name": "stdout",
     "output_type": "stream",
     "text": [
      "olive oil dried thyme sm onion dried marjoram stalks celery beef stock garlic clove minced bay leaf bulgur parsley dried rubbed sage salt and pepper to taste\n",
      "paprika salt onion powder ground black pepper cayenne salt black pepper chili powder ketchup white vinegar water yellow onion diced sorghum molasses\n",
      "mix in jar cover and shake well to mix sprinkle rub liberally over and into the surface prepare smoker for long slow cooking using hickory mesquite is also very good combine all ingredients in a saucepan bring to a gentle simmer allow to cool for at least one hour to allow the flavors to blend\n"
     ]
    }
   ],
   "source": [
    "test = tensorFromSentence(input_lang, test_pairs[10][0])\n",
    "print(test_pairs[10][0])\n",
    "# Pad test tensor\n",
    "padding_length = max(0, MAX_LENGTH - len(test))\n",
    "test_padded = torch.cat((test.squeeze(), torch.zeros(padding_length, dtype=torch.long).to(device)))\n",
    "pred = nn_model.kneighbors([test_padded.cpu().numpy()], n_neighbors=4, return_distance=False)[0]\n",
    "print(train_pairs[pred[1]][0])\n",
    "print(train_pairs[pred[1]][1])"
   ]
  },
  {
   "cell_type": "code",
   "execution_count": 313,
   "id": "d3add45a-6f40-42c8-81df-817a1f4abede",
   "metadata": {},
   "outputs": [
    {
     "name": "stdout",
     "output_type": "stream",
     "text": [
      "Read 101340 sentence pairs\n",
      "Trimmed to 79894 sentence pairs\n",
      "Counting words...\n",
      "Counted words:\n",
      "Ingredients 17570\n",
      "Recipe 31182\n",
      "['pills crescent dinner roll cranberry cracker crumbs grated orange peel ginger', 'unroll dough separate into triangles combine remaining ingredients spread evenly over each triangle roll place and bake crescents as directed on package label']\n"
     ]
    }
   ],
   "source": [
    "MAX_LENGTH = 150\n",
    "import re\n",
    "def clean_text(text):\n",
    "    # Define regular expression pattern to match numeric values and units\n",
    "    amount_pattern = r'\\b[\\d.]+(?:\\s*(?:g|kg|l|ml|tsp|tbsp|cup|pint|quart|oz|c|tb|ts|b|ea|pk|t|can|cups|cn|ounce)\\b)?'\n",
    "    # Remove numeric values and units from the text\n",
    "    text = re.sub(amount_pattern, '', text)\n",
    "\n",
    "    # Remove irrelevant information like advertisements, website navigation elements, etc.\n",
    "    # Assuming such information may be enclosed within angle brackets or parentheses\n",
    "    bracket_pattern = r'<[^>]*>|(\\([^)]*\\))'\n",
    "    remove_words = r'-rrb-|-lrb-'\n",
    "    # Define the words to filter out\n",
    "    words_to_filter = ['medium', 'large', 'small','chopped','lb','finely','thinly','desired']\n",
    "    \n",
    "    # Create a regex pattern to match the specified words surrounded by spaces\n",
    "    pattern = r'\\b(?:' + '|'.join(re.escape(word) for word in words_to_filter) + r')\\b'\n",
    "\n",
    "    # Remove text inside angle brackets and parentheses\n",
    "    cleaned_text = re.sub(bracket_pattern, '', text)\n",
    "    cleaned_text = re.sub(remove_words, '', cleaned_text)\n",
    "    cleaned_text = re.sub(pattern, '', cleaned_text)\n",
    "\n",
    "    # Handle missing data and standardize text format\n",
    "    cleaned_text = cleaned_text.lower()  # Convert text to lowercase\n",
    "    cleaned_text = re.sub(r'[^\\w\\s]', '', cleaned_text)  # Remove punctuation\n",
    "    cleaned_text = re.sub(r'\\s+', ' ', cleaned_text).strip()  # Remove extra whitespaces\n",
    "    return cleaned_text\n",
    "\n",
    "def filterPair(p):\n",
    "    return len(p[0].split(' ')) < MAX_LENGTH and \\\n",
    "        len(p[1].split(' ')) < MAX_LENGTH\n",
    "\n",
    "def filterPairs(pairs):\n",
    "    return [pair for pair in pairs if filterPair(pair)]\n",
    "\n",
    "def prepareData(lang1, lang2, reverse=False):\n",
    "    input_lang, output_lang, train_pairs, valid_pairs, test_pairs = readLangs(reverse)\n",
    "    print(\"Read %s sentence pairs\" % len(train_pairs))\n",
    "    train_pairs = filterPairs(train_pairs)\n",
    "    valid_pairs = filterPairs(valid_pairs)\n",
    "    test_pairs = filterPairs(test_pairs)\n",
    "    print(\"Trimmed to %s sentence pairs\" % len(train_pairs))\n",
    "    print(\"Counting words...\")\n",
    "    for pair in train_pairs:\n",
    "        pair[0] = clean_text(pair[0])\n",
    "        pair[1] = clean_text(pair[1])\n",
    "        input_lang.addSentence(pair[0])\n",
    "        output_lang.addSentence(pair[1])\n",
    "    for pair in valid_pairs:\n",
    "        pair[0] = clean_text(pair[0])\n",
    "        pair[1] = clean_text(pair[1])\n",
    "        input_lang.addSentence(pair[0])\n",
    "        output_lang.addSentence(pair[1])\n",
    "    for pair in test_pairs:\n",
    "        pair[0] = clean_text(pair[0])\n",
    "        pair[1] = clean_text(pair[1])\n",
    "        input_lang.addSentence(pair[0])\n",
    "        output_lang.addSentence(pair[1])\n",
    "    print(\"Counted words:\")\n",
    "    print(input_lang.name, input_lang.n_words)\n",
    "    print(output_lang.name, output_lang.n_words)\n",
    "    return input_lang, output_lang, train_pairs, valid_pairs, test_pairs\n",
    "\n",
    "input_lang, output_lang, train_pairs, valid_pairs, test_pairs = prepareData('ingredients', 'recipe', False)\n",
    "print(random.choice(train_pairs))"
   ]
  },
  {
   "cell_type": "code",
   "execution_count": 384,
   "id": "43719fec-5b81-47c6-94fd-24531b0e8b1a",
   "metadata": {},
   "outputs": [],
   "source": [
    "# Recipe stopwords that commonly appear that do not represent any ingredients (used to preprocess it)\n",
    "# This list was generated by ChatGPT3.5\n",
    "recipe_stopwords = [\n",
    "    'preheat', 'oven', 'bake', 'baking', 'baked', 'bakes',\n",
    "    'minutes', 'hour', 'hours', 'minutes', 'second', 'seconds',\n",
    "    'degrees', 'celsius', 'fahrenheit',\n",
    "    'medium', 'low', 'high', 'heat','cold', 'stir', 'simmer', 'boil', 'cook', 'grill',\n",
    "    'whisk', 'mix', 'combine', 'fold', 'blend', 'puree', 'chop', 'dice', 'slice',\n",
    "    'peel', 'mince', 'drizzle', 'sprinkle', 'garnish', 'marinate', 'brush',\n",
    "    'refrigerate', 'chill', 'cool', 'freeze', 'thaw', 'room', 'temperature',\n",
    "    'bowl', 'plate', 'pan', 'pot', 'skillet', 'saucepan', 'baking', 'dish',\n",
    "    'tray', 'oven', 'sheet', 'foil', 'parchment', 'paper', 'whisk', 'spatula',\n",
    "    'spoon', 'knife', 'cutting', 'board', 'tongs', 'fork', 'mixer', 'blender',\n",
    "    'food', 'processor', 'grater', 'peeler', 'sifter', 'rolling', 'pin', 'oven', \n",
    "    'mitts', 'rack', 'cooling', 'wire', 'timer', 'timer', 'recipe', 'directions', \n",
    "    'ingredients', 'instructions', 'method', 'step', 'steps', 'serve', 'serving', \n",
    "    'makes', 'yield', 'yield:', 'yields', 'size', 'number', 'portion', 'portions', \n",
    "    'note', 'notes', 'tip', 'tips', 'variations', 'version', 'versions', 'credit', \n",
    "    'credits', 'source', 'sources', 'adapted', 'adaptation', 'adaptations', 'based', \n",
    "    'courtesy', 'original', 'author', 'authors', 'website', 'link', 'links', 'video', \n",
    "    'videos', 'facebook', 'instagram', 'twitter', 'pinterest', 'youtube', 'email', \n",
    "    'subscribe', 'rss', 'save', 'print', 'rate', 'comment', 'share', 'subscribe', \n",
    "    'like', 'love', 'follow', 'pin', 'pinning', 'tweet', 'email', 'yum', 'instagram', \n",
    "    'snapchat', 'facebook', 'twitter', 'pinterest', 'linkedin', 'reddit', 'tumblr', \n",
    "    'whatsapp', 'telegram', 'messenger', 'sms', 'message', 'chat', 'print', 'kitchen', \n",
    "    'tip', 'tips', 'trick', 'tricks', 'hack', 'hacks', 'kitchen', 'kitchens', 'home', \n",
    "    'homes', 'family', 'families', 'friend', 'friends', 'guest', 'guests', 'love', \n",
    "    'lover', 'lovers', 'party', 'parties', 'holiday', 'holidays', 'season', 'seasons', \n",
    "    'occasion', 'occasions', 'day', 'days', 'night', 'nights', 'morning', 'mornings', \n",
    "    'afternoon', 'afternoons', 'evening', 'evenings', 'week', 'weeks', 'month', 'months', \n",
    "    'year', 'years', 'today', 'tomorrow', 'yesterday', 'fresh', 'from', 'the', 'store', \n",
    "    'grocery', 'groceries', 'shop', 'shopping', 'shopping', 'list', 'lists', 'order', \n",
    "    'orders', 'online', 'offline', 'local', 'farm', 'market', 'markets', 'buy', 'purchase', \n",
    "    'sell', 'sold', 'sold', 'out', 'brand', 'brands', 'company', 'companies', 'product', \n",
    "    'products', 'item', 'items', 'stock', 'store', 'stores', 'store', 'cupboard', 'pantry', \n",
    "    'cabinet', 'cabinets', 'shelf', 'shelves', 'freezer', 'fridge', 'refrigerator', 'appliance', \n",
    "    'appliances', 'equipment', 'accessory', 'accessories', 'tool', 'tools', 'utensil', 'utensils', \n",
    "    'gadget', 'gadgets', 'ingredient', 'ingredients', 'shop', 'shopping', 'store', 'supermarket', \n",
    "    'grocery', 'groceries', 'product', 'products', 'item', 'items', 'market', 'markets', 'local', \n",
    "    'online', 'organic', 'fresh', 'best', 'quality', 'brand', 'brands', 'company', 'companies', \n",
    "    'sale', 'discount', 'offer', 'deal', 'special', 'new', 'hot', 'trend', 'trending', 'popular', \n",
    "    'favorite', 'essential', 'basic', 'must', 'need', 'want', 'buy', 'purchase', 'sell', 'sold', \n",
    "    'stock', 'top', 'high', 'low', 'price', 'cost', 'cheap', 'expensive', 'affordable', 'budget', \n",
    "    'value', 'range', 'selection', 'variety', 'choice', 'option', 'flavor', 'flavors', 'taste', \n",
    "    'tastes', 'texture', 'textures', 'aroma', 'aromas', 'color', 'colors', 'colour', 'colours', \n",
    "    'style', 'styles', 'type', 'types', 'kind', 'kinds', 'size', 'sizes', 'amount', 'portion', \n",
    "    'portions', 'quantity', 'measure', 'measures', 'weight', 'volume', 'piece', 'pieces', 'bit', \n",
    "    'bits', 'part', 'parts', 'whole', 'half', 'quarter', 'third', 'eighth', 'sixteenth', 'tablespoon', \n",
    "    'tablespoons', 'teaspoon', 'teaspoons', 'cup', 'cups', 'pint', 'pints', 'quart', 'quarts', \n",
    "    'gallon', 'gallons', 'ounce', 'ounces', 'pound', 'pounds', 'gram', 'grams', 'kilogram', \n",
    "    'kilograms', 'liter', 'liters', 'milliliter', 'milliliters', 'inch', 'inches', 'foot', \n",
    "    'feet', 'yard', 'yards', 'meter', 'meters', 'centimeter', 'centimeters', 'kilometer', \n",
    "    'kilometers', 'mile', 'miles', 'small', 'medium', 'large', 'size', 'sized', 'big', 'bigger', \n",
    "    'biggest', 'tiny', 'tinier', 'tiniest', 'mini', 'minis', 'miniature', 'micro', 'miniature', \n",
    "    'average', 'normal', 'standard', 'fine', 'finest', 'finer', 'best', 'better', 'worst', \n",
    "    'least', 'most', 'more', 'fewer', 'few', 'lots', 'plenty', 'ton', 'tons', 'great', 'greater', \n",
    "    'greatest', 'awesome', 'fantastic', 'amazing', 'good', 'better', 'best', 'excellent', \n",
    "    'wonderful', 'remarkable', 'outstanding', 'brilliant', 'superb', 'fabulous', 'terrific', \n",
    "    'exceptional', 'phenomenal', 'splendid', 'extraordinary', 'magnificent', 'top-notch', \n",
    "    'first-rate', 'high-quality', 'premium', 'deluxe', 'luxury', 'high-end', 'superior', \n",
    "    'supreme', 'ultimate', 'divine', 'heavenly', 'fab', 'fancy', 'lux', 'lush', 'posh', \n",
    "    'swanky', 'chic', 'classy', 'elegant', 'fashionable', 'stylish', 'trendy', 'up-to-date', \n",
    "    'hip', 'cool', 'trendsetting', 'cutting-edge', 'innovative', 'forward-thinking', \n",
    "    'progressive', 'modern', 'contemporary', 'sleek', 'chic', 'tasteful', 'sophisticated', \n",
    "    'cultured', 'polished', 'refined', 'classic', 'timeless', 'nostalgic', 'vintage']"
   ]
  },
  {
   "cell_type": "code",
   "execution_count": 417,
   "id": "6f07e16d-e64c-4dd0-a4da-080c22dcf806",
   "metadata": {},
   "outputs": [
    {
     "name": "stderr",
     "output_type": "stream",
     "text": [
      "[nltk_data] Downloading package stopwords to\n",
      "[nltk_data]     C:\\Users\\manut\\AppData\\Roaming\\nltk_data...\n",
      "[nltk_data]   Package stopwords is already up-to-date!\n"
     ]
    }
   ],
   "source": [
    "import string\n",
    "import nltk\n",
    "from nltk.tokenize import word_tokenize\n",
    "from nltk.corpus import stopwords\n",
    "from nltk import pos_tag\n",
    "nltk.download('stopwords')\n",
    "\n",
    "# Sample text\n",
    "text = ' '.join(pair[0] for pair in train_pairs)\n",
    "tokens = word_tokenize(text)\n",
    "# Remove stopwords\n",
    "stop_words = set(stopwords.words('english') + recipe_stopwords)\n",
    "tokens = [word for word in tokens if word not in stop_words]\n",
    "# Remove everything except for those that are Nouns\n",
    "pos_tags = pos_tag(tokens)\n",
    "tokens = [word for word, pos in pos_tags if pos == 'NN'or pos == 'NNS']"
   ]
  },
  {
   "cell_type": "code",
   "execution_count": 418,
   "id": "61cb7f07-aa2c-4b8b-9ddf-fc018b90bbc9",
   "metadata": {},
   "outputs": [],
   "source": [
    "from gensim.models import Phrases\n",
    "# Create phrases\n",
    "# Define phrases to be forced\n",
    "force_phrases = {\"seeds\", \"seed\",\"syrups\", \"syrup\", \"juice\", \"juices\",\"cream\",\"creams\",\"leaf\",\"leaves\",\"flavoured\",\"flavours\",\"cooled\",\"cool\",\"pieces\"}\n",
    "# Create phrases\n",
    "irrelevant_words = {'bring_boil','smooth','food','temperature','blender','let', 'well', 'along', 'cut','least', 'hours', 'desired', 'minutes', 'allow', 'remove', 'mixed', 'serve', 'bring', 'soften', 'fold', 'stirring', 'serving', 'simmer', 'sit', 'heat', 'stir', 'remove_heat', 'combine', 'pour', 'gently', 'blend', 'puree', 'chilled', 'freeze', 'container', 'room_temperature', 'saucepan', 'mixture', 'consistency','turn','mill','trays','bowls'}\n",
    "bigram = Phrases([tokens], min_count=5, threshold=3)\n",
    "from gensim.models.phrases import Phraser\n",
    "bigram_phraser = Phraser(bigram)\n",
    "tokens_with_phrases = bigram_phraser[tokens]\n",
    "token_counts = Counter(tokens_with_phrases)\n",
    "# Select top k tokens by occurrences\n",
    "k = 100000\n",
    "unique_tokens_with_phrases = [token for token, count in token_counts.most_common(k) if token not in force_phrases and token not in irrelevant_words]\n"
   ]
  },
  {
   "cell_type": "code",
   "execution_count": 419,
   "id": "440fd5a6-8faa-4e61-b64f-95a0dc9cfe92",
   "metadata": {},
   "outputs": [
    {
     "name": "stdout",
     "output_type": "stream",
     "text": [
      "{'lemon_juice', 'orange_juice', 'water', 'sugar', 'strawberries'}\n",
      "{'lemon_juice', 'orange_juice', 'water', 'sugar', 'strawberries'}\n",
      "{'vanilla_ice', 'lemon_juice', 'orange_juice', 'water', 'sugar', 'cantaloupe', 'strawberries'}\n"
     ]
    }
   ],
   "source": [
    "test_ing = clean_text('2 c sugar, 1/4 c lemon juice, 1 c water, 1/3 c orange juice, 8 c strawberries')\n",
    "gold_recipe = 'combine <sugar> and <water> in medium saucepan . Heat , stirring , until <sugar> dissolves , then boil 5 minutes . cool . force <strawberries> through food mill or blend in blender or food processor . strain to remove seeds , if desired . blend the puree and <lemon juice> and <orange juice> into syrup . pour into freezer trays and freeze . remove from freezer 20 minutes before serving . turn into bowl and stir until smooth .'\n",
    "generated_recipe = 'Combine <sugar> and <water> in a medium saucepan . Heat, stirring, until <sugar> dissolves . Bring to a boil and let simmer for 5 minutes . Remove from heat and allow to cool . In a blender or food processor , combine <strawberries> and <cantaloupe> . Blend until smooth . Strain the mixture to remove any seeds and fibers, if desired. Stir the puree into the cooled syrup along with the <lemon juice> and <orange juice> . Pour the mixture into a large bowl and gently fold in the <vanilla ice cream> until well mixed . Freeze in a container for at least 4 hours . Before serving , let it sit at room temperature for 20 minutes to soften . Stir well to achieve a smooth consistency and serve chilled .'\n",
    "\n",
    "def prerocess_for_count (sentence):\n",
    "    sentence_tokens = word_tokenize(sentence.lower())\n",
    "    return [word for word in sentence_tokens if word not in stop_words]\n",
    "\n",
    "sentence_tokens_test = prerocess_for_count(test_ing)\n",
    "sentence_tokens_gold_recipe = prerocess_for_count(gold_recipe)\n",
    "sentence_tokens_generated_recipe = prerocess_for_count(generated_recipe)\n",
    "\n",
    "matched_phrases = []\n",
    "# Iterate through the sentence tokens pairwise\n",
    "def count_ingredients(unique_tokens_with_phrases, sentence_tokens):\n",
    "    final_phrases = []\n",
    "    i = 0\n",
    "    while i < len(sentence_tokens):\n",
    "        phrase = '_'.join(sentence_tokens[i:i+2])\n",
    "        if phrase in unique_tokens_with_phrases:\n",
    "            final_phrases.append(phrase)\n",
    "            i += 2\n",
    "        elif sentence_tokens[i] in unique_tokens_with_phrases:\n",
    "            final_phrases.append(sentence_tokens[i])\n",
    "            i += 1\n",
    "        else:\n",
    "            phrase = '_'.join(sentence_tokens[i:i+4])\n",
    "            i += 1\n",
    "    return set(final_phrases)\n",
    "\n",
    "print (count_ingredients(unique_tokens_with_phrases,sentence_tokens_test))\n",
    "print(count_ingredients(unique_tokens_with_phrases,sentence_tokens_gold_recipe))\n",
    "print(count_ingredients(unique_tokens_with_phrases,sentence_tokens_generated_recipe))"
   ]
  },
  {
   "cell_type": "code",
   "execution_count": 533,
   "id": "cf48b28d-ae9e-4e04-8799-f41bf0fe60ef",
   "metadata": {},
   "outputs": [],
   "source": [
    "def eval_test(input_tensor, target_tensor, encoder, decoder, criterion, max_length=MAX_LENGTH):\n",
    "    encoder_hidden = encoder.initHidden()\n",
    "    input_length = input_tensor.size(0)\n",
    "    target_length = target_tensor.size(0)\n",
    "\n",
    "    encoder_outputs = torch.zeros(max_length, encoder.hidden_size, device=device)\n",
    "\n",
    "    loss = 0\n",
    "\n",
    "    for ei in range(input_length):\n",
    "        encoder_output, encoder_hidden = encoder(\n",
    "            input_tensor[ei], encoder_hidden)\n",
    "        encoder_outputs[ei] = encoder_output[0, 0]\n",
    "\n",
    "    decoder_input = torch.tensor([[SOS_token]], device=device)\n",
    "\n",
    "    decoder_hidden = encoder_hidden\n",
    "    for di in range(target_length):\n",
    "        decoder_output, decoder_hidden = decoder(\n",
    "            decoder_input, decoder_hidden)\n",
    "        topv, topi = decoder_output.topk(1)\n",
    "        decoder_input = topi.squeeze().detach()  # detach from history as input\n",
    "\n",
    "        loss += criterion(decoder_output, target_tensor[di])\n",
    "        if decoder_input.item() == EOS_token:\n",
    "            break\n",
    "\n",
    "    return loss.item() / target_length\n"
   ]
  },
  {
   "cell_type": "code",
   "execution_count": 534,
   "id": "9a0b1004-f89b-4cd8-ba86-e3ae37e6b54f",
   "metadata": {},
   "outputs": [],
   "source": [
    "def eval_test_atnn(input_tensor, target_tensor, encoder, decoder, criterion, max_length=MAX_LENGTH):\n",
    "    encoder_hidden = encoder.initHidden()\n",
    "\n",
    "    input_length = input_tensor.size(0)\n",
    "    target_length = target_tensor.size(0)\n",
    "\n",
    "    encoder_outputs = torch.zeros(max_length, encoder.hidden_size, device=device)\n",
    "\n",
    "    loss = 0\n",
    "\n",
    "    for ei in range(input_length):\n",
    "        encoder_output, encoder_hidden = encoder(\n",
    "            input_tensor[ei], encoder_hidden)\n",
    "        encoder_outputs[ei] = encoder_output[0, 0]\n",
    "    decoder_input = torch.tensor([[SOS_token]], device=device)\n",
    "    decoder_hidden = encoder_hidden\n",
    "    for di in range(target_length):\n",
    "        decoder_output, decoder_hidden, decoder_attention = decoder(\n",
    "            decoder_input, decoder_hidden, encoder_outputs)\n",
    "        topv, topi = decoder_output.topk(1)\n",
    "        decoder_input = topi.squeeze().detach()  # detach from history as input\n",
    "\n",
    "        loss += criterion(decoder_output, target_tensor[di])\n",
    "        if decoder_input.item() == EOS_token:\n",
    "            break\n",
    "\n",
    "    return loss.item() / target_length\n"
   ]
  },
  {
   "cell_type": "code",
   "execution_count": 589,
   "id": "7edcea08-a3ec-4af8-9a22-3ed67c8859a8",
   "metadata": {},
   "outputs": [],
   "source": [
    "def check_test_set(encoder, decoder,test_pairs,attention_status,unique_tokens_with_phrases):\n",
    "    start = time.time()\n",
    "    test_loss_total = 0  # Reset every print_every\n",
    "\n",
    "    testing_pairs = [tensorsFromPair(pair) for pair in test_pairs]\n",
    "    criterion = nn.NLLLoss()\n",
    "    avg_given = []\n",
    "    avg_extra = []\n",
    "\n",
    "    for i in range (len(testing_pairs)):\n",
    "        test_pair = testing_pairs[i]\n",
    "        test_input_tensor = test_pair[0]\n",
    "        test_target_tensor = test_pair[1]\n",
    "        if attention_status:\n",
    "            test_loss = eval_test_atnn(test_input_tensor, test_target_tensor, encoder,\n",
    "     decoder, criterion)\n",
    "            ingredients = count_ingredients(prerocess_for_count (test_pairs[i][0]),unique_tokens_with_phrases)\n",
    "            output_words, attention= evaluate_attn(encoder, decoder, test_pairs[i][0])\n",
    "            output_words=' '.join(output_words)\n",
    "            used_ingredients = count_ingredients(prerocess_for_count (output_words),unique_tokens_with_phrases)\n",
    "            ingredients_stated = max(1,len(ingredients))\n",
    "            used_given = len(used_ingredients & ingredients) / ingredients_stated\n",
    "            avg_given.append(used_given)\n",
    "            extra_items = max(0,len(used_ingredients) - len(ingredients))\n",
    "            avg_extra.append(extra_items)\n",
    "\n",
    "        else:\n",
    "            test_loss = eval_test(test_input_tensor, test_target_tensor, encoder,\n",
    "             decoder, criterion)\n",
    "            ingredients = count_ingredients(prerocess_for_count (test_pairs[i][0]),unique_tokens_with_phrases)\n",
    "            output_words=' '.join(evaluate(encoder, decoder, test_pairs[i][0]))\n",
    "            used_ingredients = count_ingredients(prerocess_for_count (output_words),unique_tokens_with_phrases)\n",
    "            ingredients_stated = max(1,len(ingredients))\n",
    "            used_given = len(used_ingredients & ingredients) / ingredients_stated\n",
    "            avg_given.append(used_given)\n",
    "            extra_items = max(0,len(used_ingredients) - len(ingredients))\n",
    "            avg_extra.append(extra_items)\n",
    "        \n",
    "        test_loss_total += test_loss\n",
    "    final_loss = test_loss_total / len(testing_pairs)\n",
    "    return final_loss,avg_given,avg_extra\n"
   ]
  },
  {
   "cell_type": "code",
   "execution_count": 590,
   "id": "cef8b34f-12b0-4436-be89-290cabf7d4d1",
   "metadata": {},
   "outputs": [
    {
     "ename": "KeyboardInterrupt",
     "evalue": "",
     "output_type": "error",
     "traceback": [
      "\u001b[1;31m---------------------------------------------------------------------------\u001b[0m",
      "\u001b[1;31mKeyboardInterrupt\u001b[0m                         Traceback (most recent call last)",
      "Cell \u001b[1;32mIn[590], line 1\u001b[0m\n\u001b[1;32m----> 1\u001b[0m final_loss,avg_given,avg_extra \u001b[38;5;241m=\u001b[39m check_test_set(baseline1_encoder, baseline1_decoder,test_pairs,\u001b[38;5;28;01mFalse\u001b[39;00m,unique_tokens_with_phrases)\n",
      "Cell \u001b[1;32mIn[589], line 31\u001b[0m, in \u001b[0;36mcheck_test_set\u001b[1;34m(encoder, decoder, test_pairs, attention_status, unique_tokens_with_phrases)\u001b[0m\n\u001b[0;32m     28\u001b[0m test_loss \u001b[38;5;241m=\u001b[39m eval_test(test_input_tensor, test_target_tensor, encoder,\n\u001b[0;32m     29\u001b[0m  decoder, criterion)\n\u001b[0;32m     30\u001b[0m ingredients \u001b[38;5;241m=\u001b[39m count_ingredients(prerocess_for_count (test_pairs[i][\u001b[38;5;241m0\u001b[39m]),unique_tokens_with_phrases)\n\u001b[1;32m---> 31\u001b[0m output_words\u001b[38;5;241m=\u001b[39m\u001b[38;5;124m'\u001b[39m\u001b[38;5;124m \u001b[39m\u001b[38;5;124m'\u001b[39m\u001b[38;5;241m.\u001b[39mjoin(evaluate(encoder, decoder, test_pairs[i][\u001b[38;5;241m0\u001b[39m]))\n\u001b[0;32m     32\u001b[0m used_ingredients \u001b[38;5;241m=\u001b[39m count_ingredients(prerocess_for_count (output_words),unique_tokens_with_phrases)\n\u001b[0;32m     33\u001b[0m ingredients_stated \u001b[38;5;241m=\u001b[39m \u001b[38;5;28mmax\u001b[39m(\u001b[38;5;241m1\u001b[39m,\u001b[38;5;28mlen\u001b[39m(ingredients))\n",
      "Cell \u001b[1;32mIn[14], line 25\u001b[0m, in \u001b[0;36mevaluate\u001b[1;34m(encoder, decoder, sentence, max_length)\u001b[0m\n\u001b[0;32m     22\u001b[0m decoder_output, decoder_hidden \u001b[38;5;241m=\u001b[39m decoder(\n\u001b[0;32m     23\u001b[0m     decoder_input, decoder_hidden)\n\u001b[0;32m     24\u001b[0m topv, topi \u001b[38;5;241m=\u001b[39m decoder_output\u001b[38;5;241m.\u001b[39mdata\u001b[38;5;241m.\u001b[39mtopk(\u001b[38;5;241m1\u001b[39m)\n\u001b[1;32m---> 25\u001b[0m \u001b[38;5;28;01mif\u001b[39;00m topi\u001b[38;5;241m.\u001b[39mitem() \u001b[38;5;241m==\u001b[39m EOS_token:\n\u001b[0;32m     26\u001b[0m     decoded_words\u001b[38;5;241m.\u001b[39mappend(\u001b[38;5;124m'\u001b[39m\u001b[38;5;124m<EOS>\u001b[39m\u001b[38;5;124m'\u001b[39m)\n\u001b[0;32m     27\u001b[0m     \u001b[38;5;28;01mbreak\u001b[39;00m\n",
      "\u001b[1;31mKeyboardInterrupt\u001b[0m: "
     ]
    }
   ],
   "source": [
    "final_loss,avg_given,avg_extra = check_test_set(baseline1_encoder, baseline1_decoder,test_pairs,False,unique_tokens_with_phrases)"
   ]
  },
  {
   "cell_type": "code",
   "execution_count": 585,
   "id": "b6f1a49f-7a45-4b21-97c7-d4d65d1a39c5",
   "metadata": {},
   "outputs": [
    {
     "name": "stdout",
     "output_type": "stream",
     "text": [
      "[0.0, 0.0, 0.0, 0.0, 0.05, 0.0, 0.0, 0.0, 0.08333333333333333, 0.0, 0.0, 0.05555555555555555, 0.045454545454545456, 0.0, 0.0, 0.0, 0.06666666666666667, 0.0, 0.0, 0.0, 0.14285714285714285, 0.14285714285714285, 0.038461538461538464, 0.0, 0.16666666666666666, 0.0, 0.1, 0.0, 0.125, 0.0, 0.0, 0.0, 0.0, 0.3333333333333333, 0.0, 0.0, 0.16666666666666666, 0.09090909090909091, 0.0, 0.0, 0.0, 0.0, 0.0, 0.0, 0.07142857142857142, 0.0, 0.0, 0.18181818181818182, 0.375, 0.0, 0.041666666666666664, 0.0, 0.0, 0.38461538461538464, 0.23076923076923078, 0.125, 0.0, 0.0, 0.0, 0.2, 0.0, 0.0, 0.0, 0.0, 0.0, 0.0, 0.0, 0.0, 0.0, 0.0, 0.0, 0.0, 0.0, 0.0, 0.07692307692307693, 0.0, 0.047619047619047616, 0.16666666666666666, 0.0, 0.06666666666666667, 0.3, 0.0, 0.3333333333333333, 0.0, 0.0, 0.23076923076923078, 0.045454545454545456, 0.0, 0.0, 0.058823529411764705, 0.0, 0.0625, 0.13333333333333333, 0.3333333333333333, 0.0, 0.05555555555555555, 0.0, 0.06666666666666667, 0.0, 0.0, 0.0, 0.0, 0.0, 0.07692307692307693, 0.1111111111111111, 0.0, 0.0, 0.08333333333333333, 0.0, 0.0, 0.1, 0.0, 0.0, 0.0, 0.0, 0.0, 0.0, 0.0, 0.0, 0.0, 0.14285714285714285, 0.07142857142857142, 0.125, 0.06666666666666667, 0.034482758620689655, 0.07692307692307693, 0.23076923076923078, 0.0, 0.0, 0.21428571428571427, 0.25, 0.0, 0.1111111111111111, 0.0, 0.0, 0.0, 0.0, 0.043478260869565216, 0.0, 0.045454545454545456, 0.0, 0.0, 0.0, 0.0, 0.0, 0.0, 0.0, 0.14285714285714285, 0.05263157894736842, 0.058823529411764705, 0.0, 0.3333333333333333, 0.0, 0.07142857142857142, 0.0, 0.0, 0.0, 0.0, 0.0, 0.0, 0.125, 0.125, 0.0, 0.0, 0.0, 0.0, 0.0, 0.1111111111111111, 0.0, 0.08333333333333333, 0.0, 0.3333333333333333, 0.037037037037037035, 0.0, 0.0, 0.0, 0.0, 0.09090909090909091, 0.0, 0.0, 0.0, 0.0, 0.0, 0.2222222222222222, 0.125, 0.05555555555555555, 0.0, 0.0, 0.0, 0.0, 0.0, 0.0, 0.0, 0.0, 0.0, 0.0, 0.25, 0.125, 0.16666666666666666, 0.0, 0.0, 0.14285714285714285, 0.07692307692307693, 0.0, 0.0, 0.0, 0.25, 0.0, 0.125, 0.0, 0.16666666666666666, 0.0, 0.09090909090909091, 0.125, 0.0, 0.0, 0.0, 0.14285714285714285, 0.0, 0.0, 0.09090909090909091, 0.0, 0.07692307692307693, 0.0, 0.0, 0.0, 0.0, 0.0, 0.0, 0.0, 0.125, 0.0, 0.0, 0.06666666666666667, 0.0, 0.0, 0.0, 0.0, 0.0, 0.0, 0.0625, 0.06666666666666667, 0.2222222222222222, 0.0, 0.0, 0.0, 0.0, 0.0, 0.05555555555555555, 0.09090909090909091, 0.0, 0.09090909090909091, 0.2857142857142857, 0.0, 0.0, 0.0, 0.0, 0.11764705882352941, 0.05555555555555555, 0.0, 0.0, 0.0, 0.0, 0.125, 0.0, 0.14285714285714285, 0.0, 0.07142857142857142, 0.0, 0.0, 0.0, 0.0, 0.1, 0.05, 0.0, 0.0, 0.0, 0.0, 0.07142857142857142, 0.0625, 0.0, 0.0, 0.06666666666666667, 0.2222222222222222, 0.034482758620689655, 0.125, 0.0, 0.0, 0.0, 0.0, 0.0, 0.0, 0.0, 0.0, 0.0, 0.0, 0.0, 0.0, 0.0, 0.0, 0.0, 0.0, 0.0, 0.0, 0.0, 0.045454545454545456, 0.0, 0.0, 0.1111111111111111, 0.0, 0.0, 0.0, 0.0, 0.18181818181818182, 0.13333333333333333, 0.3333333333333333, 0.2, 0.0, 0.0, 0.0, 0.0, 0.08333333333333333, 0.14285714285714285, 0.2, 0.0, 0.15384615384615385, 0.0, 0.1, 0.0, 0.16666666666666666, 0.0, 0.06666666666666667, 0.0, 0.0, 0.13333333333333333, 0.041666666666666664, 0.0, 0.0, 0.0, 0.07692307692307693, 0.0, 0.0, 0.0, 0.0, 0.0, 0.0, 0.16666666666666666, 0.1, 0.0, 0.0, 0.0, 0.0, 0.15384615384615385, 0.0, 0.0, 0.0, 0.0, 0.0, 0.0, 0.0, 0.0, 0.0, 0.2, 0.0, 0.0625, 0.0, 0.0, 0.0, 0.0, 0.043478260869565216, 0.0, 0.0, 0.0, 0.0, 0.0, 0.0, 0.0, 0.0, 0.0, 0.0, 0.0625, 0.0625, 0.1875, 0.0, 0.06666666666666667, 0.0, 0.14285714285714285, 0.0, 0.034482758620689655, 0.0, 0.0, 0.1875, 0.0625, 0.0, 0.2727272727272727, 0.0, 0.0, 0.2, 0.0, 0.0, 0.0, 0.0, 0.0, 0.0, 0.0, 0.043478260869565216, 0.0, 0.0, 0.0, 0.0, 0.07692307692307693, 0.08333333333333333, 0.06666666666666667, 0.0, 0.0, 0.0, 0.3333333333333333, 0.2, 0.0, 0.05263157894736842, 0.0, 0.0, 0.0, 0.09090909090909091, 0.0, 0.0, 0.0, 0.08333333333333333, 0.0, 0.0, 0.0, 0.0, 0.0, 0.0625, 0.0, 0.0, 0.0, 0.0, 0.0, 0.0, 0.09090909090909091, 0.0, 0.13333333333333333, 0.0, 0.05555555555555555, 0.058823529411764705, 0.0, 0.125, 0.0, 0.0, 0.0, 0.0, 0.0, 0.1111111111111111, 0.125, 0.18181818181818182, 0.0, 0.11764705882352941, 0.0, 0.0, 0.05263157894736842, 0.0, 0.1, 0.0, 0.125, 0.0, 0.0, 0.21428571428571427, 0.0, 0.0, 0.0, 0.0, 0.0, 0.0, 0.2, 0.13333333333333333, 0.11764705882352941, 0.05, 0.13333333333333333, 0.0, 0.0, 0.0, 0.03571428571428571, 0.0, 0.0, 0.0, 0.0, 0.0, 0.0, 0.125, 0.0, 0.07692307692307693, 0.1111111111111111, 0.1, 0.0, 0.0, 0.0, 0.0, 0.1, 0.3333333333333333, 0.1, 0.0, 0.0, 0.0, 0.0, 0.14285714285714285, 0.0, 0.0, 0.0, 0.0, 0.0, 0.125, 0.0, 0.0, 0.04, 0.0, 0.07142857142857142, 0.0, 0.0, 0.0, 0.0, 0.0, 0.0, 0.5, 0.0, 0.09090909090909091, 0.08333333333333333, 0.0, 0.1111111111111111, 0.0, 0.09090909090909091, 0.0, 0.15384615384615385, 0.0, 0.0, 0.0, 0.0, 0.05, 0.0, 0.0, 0.09090909090909091, 0.0, 0.0, 0.0625, 0.03571428571428571, 0.23076923076923078, 0.0, 0.0, 0.0, 0.2727272727272727, 0.058823529411764705, 0.05555555555555555, 0.1111111111111111, 0.1, 0.0, 0.06666666666666667, 0.0, 0.0, 0.1, 0.0, 0.0, 0.0, 0.0, 0.17647058823529413, 0.05263157894736842, 0.0, 0.0, 0.0, 0.0, 0.06666666666666667, 0.0, 0.0, 0.0, 0.05555555555555555, 0.0, 0.0, 0.0, 0.0, 0.36363636363636365, 0.0, 0.07692307692307693, 0.0, 0.08, 0.07142857142857142, 0.0, 0.07142857142857142, 0.07692307692307693, 0.0, 0.0, 0.0, 0.0, 0.0, 0.07692307692307693, 0.08333333333333333, 0.0, 0.2857142857142857, 0.0, 0.07692307692307693, 0.0, 0.0, 0.0, 0.0, 0.08333333333333333, 0.09090909090909091, 0.16666666666666666, 0.05263157894736842, 0.16666666666666666, 0.11764705882352941, 0.0, 0.0, 0.0, 0.0, 0.15384615384615385, 0.125, 0.0, 0.0, 0.0, 0.0, 0.0, 0.0, 0.0, 0.09090909090909091, 0.07692307692307693, 0.041666666666666664, 0.0, 0.0, 0.15384615384615385, 0.11764705882352941, 0.06666666666666667]\n"
     ]
    }
   ],
   "source": [
    "print (avg_given)"
   ]
  },
  {
   "cell_type": "code",
   "execution_count": 583,
   "id": "259de7a5-629b-4652-baf3-a4174881f8e8",
   "metadata": {},
   "outputs": [
    {
     "name": "stdout",
     "output_type": "stream",
     "text": [
      "0.04328700377772978\n"
     ]
    }
   ],
   "source": [
    "print (np.mean(avg_given))"
   ]
  },
  {
   "cell_type": "code",
   "execution_count": 584,
   "id": "e5a8380e-2b4a-4560-a8a3-5d09e70c2daf",
   "metadata": {},
   "outputs": [
    {
     "name": "stdout",
     "output_type": "stream",
     "text": [
      "0.9141494435612083\n"
     ]
    }
   ],
   "source": [
    "print (np.mean(avg_extra))"
   ]
  },
  {
   "cell_type": "code",
   "execution_count": 598,
   "id": "b926bbd4-998f-4771-a41b-d75a40068fe6",
   "metadata": {},
   "outputs": [
    {
     "ename": "RuntimeError",
     "evalue": "CUDA error: device-side assert triggered\nCUDA kernel errors might be asynchronously reported at some other API call, so the stacktrace below might be incorrect.\nFor debugging consider passing CUDA_LAUNCH_BLOCKING=1.\nCompile with `TORCH_USE_CUDA_DSA` to enable device-side assertions.\n",
     "output_type": "error",
     "traceback": [
      "\u001b[1;31m---------------------------------------------------------------------------\u001b[0m",
      "\u001b[1;31mRuntimeError\u001b[0m                              Traceback (most recent call last)",
      "Cell \u001b[1;32mIn[598], line 1\u001b[0m\n\u001b[1;32m----> 1\u001b[0m final_loss,avg_given,avg_extra \u001b[38;5;241m=\u001b[39m check_test_set(baseline2_encoder, baseline2_decoder,test_pairs,\u001b[38;5;28;01mTrue\u001b[39;00m,unique_tokens_with_phrases)\n",
      "Cell \u001b[1;32mIn[589], line 5\u001b[0m, in \u001b[0;36mcheck_test_set\u001b[1;34m(encoder, decoder, test_pairs, attention_status, unique_tokens_with_phrases)\u001b[0m\n\u001b[0;32m      2\u001b[0m start \u001b[38;5;241m=\u001b[39m time\u001b[38;5;241m.\u001b[39mtime()\n\u001b[0;32m      3\u001b[0m test_loss_total \u001b[38;5;241m=\u001b[39m \u001b[38;5;241m0\u001b[39m  \u001b[38;5;66;03m# Reset every print_every\u001b[39;00m\n\u001b[1;32m----> 5\u001b[0m testing_pairs \u001b[38;5;241m=\u001b[39m [tensorsFromPair(pair) \u001b[38;5;28;01mfor\u001b[39;00m pair \u001b[38;5;129;01min\u001b[39;00m test_pairs]\n\u001b[0;32m      6\u001b[0m criterion \u001b[38;5;241m=\u001b[39m nn\u001b[38;5;241m.\u001b[39mNLLLoss()\n\u001b[0;32m      7\u001b[0m avg_given \u001b[38;5;241m=\u001b[39m []\n",
      "Cell \u001b[1;32mIn[589], line 5\u001b[0m, in \u001b[0;36m<listcomp>\u001b[1;34m(.0)\u001b[0m\n\u001b[0;32m      2\u001b[0m start \u001b[38;5;241m=\u001b[39m time\u001b[38;5;241m.\u001b[39mtime()\n\u001b[0;32m      3\u001b[0m test_loss_total \u001b[38;5;241m=\u001b[39m \u001b[38;5;241m0\u001b[39m  \u001b[38;5;66;03m# Reset every print_every\u001b[39;00m\n\u001b[1;32m----> 5\u001b[0m testing_pairs \u001b[38;5;241m=\u001b[39m [tensorsFromPair(pair) \u001b[38;5;28;01mfor\u001b[39;00m pair \u001b[38;5;129;01min\u001b[39;00m test_pairs]\n\u001b[0;32m      6\u001b[0m criterion \u001b[38;5;241m=\u001b[39m nn\u001b[38;5;241m.\u001b[39mNLLLoss()\n\u001b[0;32m      7\u001b[0m avg_given \u001b[38;5;241m=\u001b[39m []\n",
      "Cell \u001b[1;32mIn[8], line 12\u001b[0m, in \u001b[0;36mtensorsFromPair\u001b[1;34m(pair)\u001b[0m\n\u001b[0;32m     11\u001b[0m \u001b[38;5;28;01mdef\u001b[39;00m \u001b[38;5;21mtensorsFromPair\u001b[39m(pair):\n\u001b[1;32m---> 12\u001b[0m     input_tensor \u001b[38;5;241m=\u001b[39m tensorFromSentence(input_lang, pair[\u001b[38;5;241m0\u001b[39m])\n\u001b[0;32m     13\u001b[0m     target_tensor \u001b[38;5;241m=\u001b[39m tensorFromSentence(output_lang, pair[\u001b[38;5;241m1\u001b[39m])\n\u001b[0;32m     14\u001b[0m     \u001b[38;5;28;01mreturn\u001b[39;00m (input_tensor, target_tensor)\n",
      "Cell \u001b[1;32mIn[8], line 8\u001b[0m, in \u001b[0;36mtensorFromSentence\u001b[1;34m(lang, sentence)\u001b[0m\n\u001b[0;32m      6\u001b[0m indexes \u001b[38;5;241m=\u001b[39m indexesFromSentence(lang, sentence)\n\u001b[0;32m      7\u001b[0m indexes\u001b[38;5;241m.\u001b[39mappend(EOS_token)\n\u001b[1;32m----> 8\u001b[0m \u001b[38;5;28;01mreturn\u001b[39;00m torch\u001b[38;5;241m.\u001b[39mtensor(indexes, dtype\u001b[38;5;241m=\u001b[39mtorch\u001b[38;5;241m.\u001b[39mlong, device\u001b[38;5;241m=\u001b[39mdevice)\u001b[38;5;241m.\u001b[39mview(\u001b[38;5;241m-\u001b[39m\u001b[38;5;241m1\u001b[39m, \u001b[38;5;241m1\u001b[39m)\n",
      "\u001b[1;31mRuntimeError\u001b[0m: CUDA error: device-side assert triggered\nCUDA kernel errors might be asynchronously reported at some other API call, so the stacktrace below might be incorrect.\nFor debugging consider passing CUDA_LAUNCH_BLOCKING=1.\nCompile with `TORCH_USE_CUDA_DSA` to enable device-side assertions.\n"
     ]
    }
   ],
   "source": [
    "final_loss,avg_given,avg_extra = check_test_set(baseline2_encoder, baseline2_decoder,test_pairs,True,unique_tokens_with_phrases)"
   ]
  },
  {
   "cell_type": "code",
   "execution_count": 592,
   "id": "f4f7978e-ea84-456d-83ba-8a780042179f",
   "metadata": {},
   "outputs": [
    {
     "name": "stdout",
     "output_type": "stream",
     "text": [
      "0.03678667109184106\n"
     ]
    }
   ],
   "source": [
    "print (np.mean(avg_given))"
   ]
  },
  {
   "cell_type": "code",
   "execution_count": 594,
   "id": "bf7389ca-82fc-43bf-8a88-2e34a8cb83c7",
   "metadata": {},
   "outputs": [
    {
     "name": "stdout",
     "output_type": "stream",
     "text": [
      "[0.0, 0.0, 0.0, 0.0, 0.0, 0.0, 0.14285714285714285, 0.0, 0.08333333333333333, 0.0, 0.0, 0.0, 0.0, 0.0, 0.0, 0.0, 0.0, 0.0, 0.0, 0.0, 0.07142857142857142, 0.14285714285714285, 0.11538461538461539, 0.2, 0.16666666666666666, 0.1111111111111111, 0.05, 0.0, 0.0, 0.0, 0.0, 0.0, 0.0, 0.16666666666666666, 0.0, 0.0, 0.08333333333333333, 0.18181818181818182, 0.0, 0.0, 0.0, 0.0, 0.1, 0.0, 0.14285714285714285, 0.0, 0.0, 0.13636363636363635, 0.25, 0.0, 0.041666666666666664, 0.0, 0.0, 0.15384615384615385, 0.15384615384615385, 0.25, 0.0, 0.0, 0.14285714285714285, 0.1, 0.08333333333333333, 0.0, 0.0, 0.0, 0.0, 0.0625, 0.0, 0.0, 0.0, 0.125, 0.0, 0.0, 0.0, 0.0, 0.0, 0.0, 0.047619047619047616, 0.16666666666666666, 0.0, 0.06666666666666667, 0.2, 0.0, 0.2222222222222222, 0.1, 0.0, 0.23076923076923078, 0.09090909090909091, 0.05263157894736842, 0.0, 0.11764705882352941, 0.0, 0.0625, 0.13333333333333333, 0.16666666666666666, 0.0, 0.05555555555555555, 0.0, 0.06666666666666667, 0.045454545454545456, 0.0, 0.0, 0.0, 0.0, 0.15384615384615385, 0.1111111111111111, 0.0, 0.0, 0.08333333333333333, 0.0, 0.0, 0.0, 0.0, 0.0, 0.0, 0.0, 0.0, 0.0, 0.07407407407407407, 0.0, 0.0, 0.0, 0.07142857142857142, 0.0, 0.06666666666666667, 0.06896551724137931, 0.15384615384615385, 0.23076923076923078, 0.0, 0.0, 0.07142857142857142, 0.16666666666666666, 0.0, 0.1111111111111111, 0.0, 0.0, 0.0, 0.0, 0.08695652173913043, 0.0, 0.0, 0.0, 0.0625, 0.16666666666666666, 0.07142857142857142, 0.1, 0.0, 0.0, 0.14285714285714285, 0.10526315789473684, 0.0, 0.09090909090909091, 0.0, 0.0, 0.0, 0.0, 0.0, 0.0, 0.0, 0.0, 0.0, 0.125, 0.125, 0.0, 0.0625, 0.0, 0.0, 0.0, 0.0, 0.0, 0.08333333333333333, 0.0, 0.0, 0.0, 0.1, 0.1, 0.0, 0.0, 0.09090909090909091, 0.0, 0.0, 0.0, 0.0, 0.0, 0.0, 0.0625, 0.1111111111111111, 0.0, 0.0, 0.1, 0.0, 0.0, 0.0, 0.0, 0.0, 0.0, 0.0, 0.16666666666666666, 0.0, 0.3333333333333333, 0.045454545454545456, 0.0, 0.07142857142857142, 0.07692307692307693, 0.0, 0.0, 0.0, 0.25, 0.0, 0.25, 0.14285714285714285, 0.0, 0.0, 0.18181818181818182, 0.0625, 0.0, 0.0, 0.0, 0.14285714285714285, 0.11764705882352941, 0.0, 0.09090909090909091, 0.0, 0.07692307692307693, 0.0, 0.0, 0.0, 0.0, 0.0, 0.0, 0.0, 0.0625, 0.0, 0.0, 0.06666666666666667, 0.0, 0.0, 0.0, 0.0, 0.0, 0.0, 0.125, 0.0, 0.1111111111111111, 0.18181818181818182, 0.0, 0.0, 0.0, 0.5, 0.1111111111111111, 0.09090909090909091, 0.0, 0.18181818181818182, 0.2857142857142857, 0.0, 0.0, 0.0, 0.0, 0.058823529411764705, 0.0, 0.0, 0.0, 0.0, 0.0, 0.125, 0.0, 0.0, 0.0, 0.07142857142857142, 0.0, 0.0, 0.0, 0.0, 0.0, 0.0, 0.09090909090909091, 0.0, 0.0, 0.0, 0.07142857142857142, 0.0, 0.0, 0.0, 0.13333333333333333, 0.2222222222222222, 0.0, 0.0625, 0.0, 0.0, 0.0, 0.0, 0.0, 0.0, 0.0, 0.0, 0.0, 0.0, 0.0, 0.0, 0.0, 0.0, 0.0, 0.0, 0.0, 0.0, 0.0, 0.045454545454545456, 0.0, 0.02127659574468085, 0.0, 0.08333333333333333, 0.0, 0.045454545454545456, 0.0, 0.09090909090909091, 0.06666666666666667, 0.0, 0.1, 0.0, 0.0, 0.0, 0.0, 0.0, 0.07142857142857142, 0.2, 0.0, 0.07692307692307693, 0.0, 0.0, 0.0, 0.0, 0.0, 0.0, 0.09090909090909091, 0.0, 0.0, 0.041666666666666664, 0.0, 0.1, 0.0, 0.07692307692307693, 0.0, 0.1111111111111111, 0.0, 0.0, 0.0, 0.0, 0.16666666666666666, 0.1, 0.0, 0.0, 0.0, 0.0, 0.07692307692307693, 0.0, 0.1111111111111111, 0.0, 0.0, 0.0625, 0.0, 0.0, 0.0, 0.0, 0.13333333333333333, 0.0, 0.1875, 0.0, 0.0, 0.0, 0.0, 0.0, 0.0, 0.0, 0.045454545454545456, 0.0, 0.0, 0.0, 0.06666666666666667, 0.0, 0.0, 0.0, 0.0, 0.0, 0.1875, 0.0, 0.0, 0.0, 0.0, 0.09090909090909091, 0.0, 0.0, 0.0, 0.125, 0.0, 0.1111111111111111, 0.09090909090909091, 0.0, 0.0, 0.0, 0.0, 0.0, 0.0, 0.0, 0.0, 0.0, 0.0, 0.043478260869565216, 0.0, 0.0, 0.0, 0.0, 0.07692307692307693, 0.0, 0.06666666666666667, 0.0, 0.0, 0.0, 0.16666666666666666, 0.2, 0.0, 0.05263157894736842, 0.0, 0.0, 0.0, 0.09090909090909091, 0.0, 0.0, 0.0, 0.08333333333333333, 0.0, 0.0, 0.0, 0.0, 0.0, 0.0, 0.0, 0.0, 0.0, 0.0, 0.0, 0.05555555555555555, 0.09090909090909091, 0.0, 0.06666666666666667, 0.0, 0.16666666666666666, 0.058823529411764705, 0.0, 0.0, 0.0, 0.0, 0.0, 0.0, 0.0, 0.1111111111111111, 0.125, 0.18181818181818182, 0.0, 0.058823529411764705, 0.0, 0.0, 0.10526315789473684, 0.0, 0.0, 0.0, 0.125, 0.0, 0.0, 0.14285714285714285, 0.0, 0.0, 0.0, 0.0, 0.0, 0.0, 0.1, 0.2, 0.17647058823529413, 0.15, 0.13333333333333333, 0.0, 0.0, 0.0, 0.0, 0.0, 0.0, 0.0, 0.0, 0.0, 0.0, 0.125, 0.0, 0.07692307692307693, 0.05555555555555555, 0.1, 0.0, 0.07692307692307693, 0.0, 0.0, 0.1, 0.16666666666666666, 0.0, 0.0, 0.0, 0.0, 0.0, 0.0, 0.0, 0.0, 0.0, 0.0, 0.0, 0.0, 0.0, 0.0, 0.0, 0.0, 0.07142857142857142, 0.07692307692307693, 0.2, 0.0, 0.0, 0.0, 0.0, 0.3333333333333333, 0.0, 0.09090909090909091, 0.0, 0.0, 0.1111111111111111, 0.16666666666666666, 0.0, 0.0, 0.0, 0.0, 0.09090909090909091, 0.07692307692307693, 0.0, 0.0, 0.0, 0.0, 0.0, 0.0, 0.0, 0.0625, 0.03571428571428571, 0.15384615384615385, 0.0, 0.0, 0.0, 0.09090909090909091, 0.058823529411764705, 0.0, 0.0, 0.0, 0.0, 0.06666666666666667, 0.0, 0.0, 0.1, 0.0, 0.0, 0.0, 0.0, 0.058823529411764705, 0.05263157894736842, 0.0, 0.0, 0.0, 0.0, 0.06666666666666667, 0.0, 0.0, 0.0, 0.05555555555555555, 0.0, 0.0, 0.0, 0.0, 0.09090909090909091, 0.0, 0.07692307692307693, 0.0, 0.04, 0.0, 0.0, 0.14285714285714285, 0.15384615384615385, 0.0, 0.0, 0.0, 0.0, 0.0, 0.0, 0.0, 0.0, 0.0, 0.058823529411764705, 0.15384615384615385, 0.0, 0.0, 0.0, 0.0, 0.0, 0.09090909090909091, 0.16666666666666666, 0.0, 0.08333333333333333, 0.058823529411764705, 0.0, 0.0, 0.0, 0.0, 0.07692307692307693, 0.125, 0.0, 0.0, 0.0, 0.125, 0.0, 0.08333333333333333, 0.09090909090909091, 0.0, 0.15384615384615385, 0.041666666666666664, 0.0, 0.0, 0.07692307692307693, 0.058823529411764705, 0.06666666666666667]\n"
     ]
    }
   ],
   "source": [
    "print (avg_given)"
   ]
  },
  {
   "cell_type": "code",
   "execution_count": 597,
   "id": "b0b4c3db-256f-4402-87b3-20e5661c575c",
   "metadata": {},
   "outputs": [
    {
     "name": "stdout",
     "output_type": "stream",
     "text": [
      "1.0476947535771066\n"
     ]
    }
   ],
   "source": [
    "print (np.mean(avg_extra))"
   ]
  },
  {
   "cell_type": "code",
   "execution_count": 600,
   "id": "24d62371-7b11-47b2-89d9-8ef4f043ee8c",
   "metadata": {},
   "outputs": [
    {
     "ename": "RuntimeError",
     "evalue": "CUDA error: device-side assert triggered\nCUDA kernel errors might be asynchronously reported at some other API call, so the stacktrace below might be incorrect.\nFor debugging consider passing CUDA_LAUNCH_BLOCKING=1.\nCompile with `TORCH_USE_CUDA_DSA` to enable device-side assertions.\n",
     "output_type": "error",
     "traceback": [
      "\u001b[1;31m---------------------------------------------------------------------------\u001b[0m",
      "\u001b[1;31mRuntimeError\u001b[0m                              Traceback (most recent call last)",
      "Cell \u001b[1;32mIn[600], line 1\u001b[0m\n\u001b[1;32m----> 1\u001b[0m final_loss,avg_given,avg_extra \u001b[38;5;241m=\u001b[39m check_test_set(extension2_encoder, extension2_decoder,test_pairs,\u001b[38;5;28;01mTrue\u001b[39;00m,unique_tokens_with_phrases)\n",
      "Cell \u001b[1;32mIn[589], line 5\u001b[0m, in \u001b[0;36mcheck_test_set\u001b[1;34m(encoder, decoder, test_pairs, attention_status, unique_tokens_with_phrases)\u001b[0m\n\u001b[0;32m      2\u001b[0m start \u001b[38;5;241m=\u001b[39m time\u001b[38;5;241m.\u001b[39mtime()\n\u001b[0;32m      3\u001b[0m test_loss_total \u001b[38;5;241m=\u001b[39m \u001b[38;5;241m0\u001b[39m  \u001b[38;5;66;03m# Reset every print_every\u001b[39;00m\n\u001b[1;32m----> 5\u001b[0m testing_pairs \u001b[38;5;241m=\u001b[39m [tensorsFromPair(pair) \u001b[38;5;28;01mfor\u001b[39;00m pair \u001b[38;5;129;01min\u001b[39;00m test_pairs]\n\u001b[0;32m      6\u001b[0m criterion \u001b[38;5;241m=\u001b[39m nn\u001b[38;5;241m.\u001b[39mNLLLoss()\n\u001b[0;32m      7\u001b[0m avg_given \u001b[38;5;241m=\u001b[39m []\n",
      "Cell \u001b[1;32mIn[589], line 5\u001b[0m, in \u001b[0;36m<listcomp>\u001b[1;34m(.0)\u001b[0m\n\u001b[0;32m      2\u001b[0m start \u001b[38;5;241m=\u001b[39m time\u001b[38;5;241m.\u001b[39mtime()\n\u001b[0;32m      3\u001b[0m test_loss_total \u001b[38;5;241m=\u001b[39m \u001b[38;5;241m0\u001b[39m  \u001b[38;5;66;03m# Reset every print_every\u001b[39;00m\n\u001b[1;32m----> 5\u001b[0m testing_pairs \u001b[38;5;241m=\u001b[39m [tensorsFromPair(pair) \u001b[38;5;28;01mfor\u001b[39;00m pair \u001b[38;5;129;01min\u001b[39;00m test_pairs]\n\u001b[0;32m      6\u001b[0m criterion \u001b[38;5;241m=\u001b[39m nn\u001b[38;5;241m.\u001b[39mNLLLoss()\n\u001b[0;32m      7\u001b[0m avg_given \u001b[38;5;241m=\u001b[39m []\n",
      "Cell \u001b[1;32mIn[8], line 12\u001b[0m, in \u001b[0;36mtensorsFromPair\u001b[1;34m(pair)\u001b[0m\n\u001b[0;32m     11\u001b[0m \u001b[38;5;28;01mdef\u001b[39;00m \u001b[38;5;21mtensorsFromPair\u001b[39m(pair):\n\u001b[1;32m---> 12\u001b[0m     input_tensor \u001b[38;5;241m=\u001b[39m tensorFromSentence(input_lang, pair[\u001b[38;5;241m0\u001b[39m])\n\u001b[0;32m     13\u001b[0m     target_tensor \u001b[38;5;241m=\u001b[39m tensorFromSentence(output_lang, pair[\u001b[38;5;241m1\u001b[39m])\n\u001b[0;32m     14\u001b[0m     \u001b[38;5;28;01mreturn\u001b[39;00m (input_tensor, target_tensor)\n",
      "Cell \u001b[1;32mIn[8], line 8\u001b[0m, in \u001b[0;36mtensorFromSentence\u001b[1;34m(lang, sentence)\u001b[0m\n\u001b[0;32m      6\u001b[0m indexes \u001b[38;5;241m=\u001b[39m indexesFromSentence(lang, sentence)\n\u001b[0;32m      7\u001b[0m indexes\u001b[38;5;241m.\u001b[39mappend(EOS_token)\n\u001b[1;32m----> 8\u001b[0m \u001b[38;5;28;01mreturn\u001b[39;00m torch\u001b[38;5;241m.\u001b[39mtensor(indexes, dtype\u001b[38;5;241m=\u001b[39mtorch\u001b[38;5;241m.\u001b[39mlong, device\u001b[38;5;241m=\u001b[39mdevice)\u001b[38;5;241m.\u001b[39mview(\u001b[38;5;241m-\u001b[39m\u001b[38;5;241m1\u001b[39m, \u001b[38;5;241m1\u001b[39m)\n",
      "\u001b[1;31mRuntimeError\u001b[0m: CUDA error: device-side assert triggered\nCUDA kernel errors might be asynchronously reported at some other API call, so the stacktrace below might be incorrect.\nFor debugging consider passing CUDA_LAUNCH_BLOCKING=1.\nCompile with `TORCH_USE_CUDA_DSA` to enable device-side assertions.\n"
     ]
    }
   ],
   "source": [
    "final_loss,avg_given,avg_extra = check_test_set(extension2_encoder, extension2_decoder,test_pairs,True,unique_tokens_with_phrases)"
   ]
  },
  {
   "cell_type": "code",
   "execution_count": null,
   "id": "878b3cd7-55bd-49b1-a889-0b4d06b3cce4",
   "metadata": {},
   "outputs": [],
   "source": []
  }
 ],
 "metadata": {
  "kernelspec": {
   "display_name": "Python 3 (ipykernel)",
   "language": "python",
   "name": "python3"
  },
  "language_info": {
   "codemirror_mode": {
    "name": "ipython",
    "version": 3
   },
   "file_extension": ".py",
   "mimetype": "text/x-python",
   "name": "python",
   "nbconvert_exporter": "python",
   "pygments_lexer": "ipython3",
   "version": "3.11.9"
  }
 },
 "nbformat": 4,
 "nbformat_minor": 5
}
