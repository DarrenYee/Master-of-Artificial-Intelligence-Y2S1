{
 "cells": [
  {
   "cell_type": "markdown",
   "id": "7d3712cd",
   "metadata": {},
   "source": [
    "**Neural Chef Assistance**  \n",
    "**Name: Darren Jer Shien Yee**  \n",
    "**Student ID: 31237223**"
   ]
  },
  {
   "cell_type": "markdown",
   "id": "448e2844",
   "metadata": {},
   "source": [
    "**Implementation of Baseline 1: RNN without Attention**"
   ]
  },
  {
   "cell_type": "code",
   "execution_count": 70,
   "id": "cd7c08dd",
   "metadata": {},
   "outputs": [
    {
     "name": "stdout",
     "output_type": "stream",
     "text": [
      "Requirement already satisfied: nltk in c:\\users\\manut\\anaconda3\\envs\\fit5217\\lib\\site-packages (3.8.1)\n",
      "Requirement already satisfied: click in c:\\users\\manut\\anaconda3\\envs\\fit5217\\lib\\site-packages (from nltk) (8.1.7)\n",
      "Requirement already satisfied: joblib in c:\\users\\manut\\anaconda3\\envs\\fit5217\\lib\\site-packages (from nltk) (1.4.0)\n",
      "Requirement already satisfied: regex>=2021.8.3 in c:\\users\\manut\\anaconda3\\envs\\fit5217\\lib\\site-packages (from nltk) (2024.5.10)\n",
      "Requirement already satisfied: tqdm in c:\\users\\manut\\anaconda3\\envs\\fit5217\\lib\\site-packages (from nltk) (4.66.4)\n",
      "Requirement already satisfied: colorama in c:\\users\\manut\\anaconda3\\envs\\fit5217\\lib\\site-packages (from click->nltk) (0.4.6)\n",
      "Requirement already satisfied: tensorboardX in c:\\users\\manut\\anaconda3\\envs\\fit5217\\lib\\site-packages (2.6.2.2)\n",
      "Requirement already satisfied: numpy in c:\\users\\manut\\anaconda3\\envs\\fit5217\\lib\\site-packages (from tensorboardX) (1.26.3)\n",
      "Requirement already satisfied: packaging in c:\\users\\manut\\anaconda3\\envs\\fit5217\\lib\\site-packages (from tensorboardX) (23.2)\n",
      "Requirement already satisfied: protobuf>=3.20 in c:\\users\\manut\\anaconda3\\envs\\fit5217\\lib\\site-packages (from tensorboardX) (5.26.1)\n",
      "cuda\n"
     ]
    }
   ],
   "source": [
    "## Requirements\n",
    "!pip3 install nltk\n",
    "!pip3 install tensorboardX\n",
    "from __future__ import unicode_literals, print_function, division\n",
    "from io import open\n",
    "import unicodedata\n",
    "import string\n",
    "import re\n",
    "import random\n",
    "\n",
    "import torch\n",
    "import torch.nn as nn\n",
    "from torch import optim\n",
    "import torch.nn.functional as F\n",
    "from torch.utils.data import Dataset, DataLoader\n",
    "from collections import Counter\n",
    "from nltk.tokenize import word_tokenize\n",
    "from tqdm import tqdm\n",
    "from tensorboardX import SummaryWriter\n",
    "import numpy as np\n",
    "import gensim.downloader as api\n",
    "word2vec_model = api.load('word2vec-google-news-300')\n",
    "device = torch.device(\"cuda\" if torch.cuda.is_available() else \"cpu\")\n",
    "print (device)"
   ]
  },
  {
   "cell_type": "markdown",
   "id": "1d788a9e-58f9-4882-b4b6-5bf045a8c55c",
   "metadata": {},
   "source": [
    "**Implementation of Baseline 1: Language Method imported from RNN code provided in tutorials**"
   ]
  },
  {
   "cell_type": "code",
   "execution_count": 71,
   "id": "66b0337d-7e9f-474f-bbd1-83b5c9b887c7",
   "metadata": {},
   "outputs": [],
   "source": [
    "SOS_token = 0\n",
    "EOS_token = 1\n",
    "\n",
    "\n",
    "class Lang:\n",
    "    def __init__(self, name):\n",
    "        self.name = name\n",
    "        self.word2index = {}\n",
    "        self.word2count = {}\n",
    "        self.index2word = {0: \"SOS\", 1: \"EOS\"}\n",
    "        self.n_words = 2 # Count SOS and EOS\n",
    "        self.unique_words = []\n",
    "\n",
    "    def addSentence(self, sentence):\n",
    "        for word in sentence.split(' '):\n",
    "            self.addWord(word)\n",
    "\n",
    "    def addWord(self, word):\n",
    "        if word not in self.word2index:\n",
    "            self.unique_words.append(word)\n",
    "            self.word2index[word] = self.n_words\n",
    "            self.word2count[word] = 1\n",
    "            self.index2word[self.n_words] = word\n",
    "            self.n_words += 1\n",
    "        else:\n",
    "            self.word2count[word] += 1"
   ]
  },
  {
   "cell_type": "markdown",
   "id": "21ef3c46-345e-4f6b-9fff-cff0800cd43c",
   "metadata": {},
   "source": [
    "**Implementation of Baseline 1: Unicode and ASCII method to preprocess data**"
   ]
  },
  {
   "cell_type": "code",
   "execution_count": 72,
   "id": "d787a58e-58ae-48f3-956c-fc7f98282e88",
   "metadata": {},
   "outputs": [],
   "source": [
    "# Turn a Unicode string to plain ASCII, thanks to\n",
    "# https://stackoverflow.com/a/518232/2809427\n",
    "def unicodeToAscii(s):\n",
    "    return ''.join(\n",
    "        c for c in unicodedata.normalize('NFD', s)\n",
    "        if unicodedata.category(c) != 'Mn'\n",
    "    )\n",
    "# Lowercase only (since numerical is crucial here as opposed to lab code)\n",
    "def normalizeString(s):\n",
    "    s = unicodeToAscii(s.lower().strip())\n",
    "    s = s.replace('\\t', ' ')\n",
    "    return s"
   ]
  },
  {
   "cell_type": "markdown",
   "id": "edbeb7d6-145e-4024-842e-ebc28427ad01",
   "metadata": {},
   "source": [
    "**Implementation of Baseline 1: Method to read data from provided CSV**"
   ]
  },
  {
   "cell_type": "code",
   "execution_count": 213,
   "id": "9ec3f0e9-c616-41d4-92d6-c0e3f6cac175",
   "metadata": {},
   "outputs": [],
   "source": [
    "import pandas as pd\n",
    "\n",
    "def readLangs(reverse=False):\n",
    "    # Read the CSV file\n",
    "    train_df = pd.read_csv('Cooking_Dataset/Cooking_Dataset/train.csv')\n",
    "    valid_df = pd.read_csv('Cooking_Dataset/Cooking_Dataset/dev.csv')\n",
    "    test_df = pd.read_csv('Cooking_Dataset/Cooking_Dataset/test.csv')\n",
    "    \n",
    "    train_df.fillna('', inplace=True)\n",
    "    valid_df.fillna('', inplace=True)\n",
    "    test_df.fillna('', inplace=True)\n",
    "    \n",
    "    train_ingredients = train_df['Ingredients']\n",
    "    train_recipes = train_df['Recipe']\n",
    "    valid_ingredients = valid_df['Ingredients']\n",
    "    valid_recipes = valid_df['Recipe']    \n",
    "    test_ingredients = test_df['Ingredients']\n",
    "    test_recipes = test_df['Recipe']\n",
    "    \n",
    "    train_pairs = [[normalizeString(ing), normalizeString(rec)] for ing, rec in zip(train_ingredients, train_recipes)]\n",
    "    valid_pairs = [[normalizeString(ing), normalizeString(rec)] for ing, rec in zip(valid_ingredients, valid_recipes)]\n",
    "    test_pairs = [[normalizeString(ing), normalizeString(rec)] for ing, rec in zip(test_ingredients, test_recipes)]\n",
    "    \n",
    "    if reverse:\n",
    "        pairs = [list(reversed(p)) for p in pairs]\n",
    "        input_lang = Lang('Recipe')\n",
    "        output_lang = Lang('Ingredients')\n",
    "    else:\n",
    "        input_lang = Lang('Ingredients')\n",
    "        output_lang = Lang('Recipe')\n",
    "    return input_lang, output_lang, train_pairs, valid_pairs, test_pairs"
   ]
  },
  {
   "cell_type": "markdown",
   "id": "f372752f-bdba-432c-9fa7-5fd32712487a",
   "metadata": {},
   "source": [
    "**Implementation of Baseline 1: Preprocess data and intialise language using the methods above**"
   ]
  },
  {
   "cell_type": "code",
   "execution_count": 214,
   "id": "add1f86a-2221-4fcd-a3ce-9181f68d197e",
   "metadata": {},
   "outputs": [
    {
     "name": "stdout",
     "output_type": "stream",
     "text": [
      "Read 101340 sentence pairs\n",
      "Trimmed to 79894 sentence pairs\n",
      "Counting words...\n",
      "Counted words:\n",
      "Ingredients 37056\n",
      "Recipe 35620\n",
      "['12 oz cream cheese, softened 3/4 c  sugar 1    yolk, slightly beaten', \"blend the sugar with the softened cream cheese until thoroughly combined . do n't overbeat or aerate . mix in the yolk . chill until firm .\"]\n"
     ]
    }
   ],
   "source": [
    "MAX_LENGTH = 150\n",
    "def filterPair(p):\n",
    "    return len(p[0].split(' ')) < MAX_LENGTH and \\\n",
    "        len(p[1].split(' ')) < MAX_LENGTH\n",
    "\n",
    "def filterPairs(pairs):\n",
    "    return [pair for pair in pairs if filterPair(pair)]\n",
    "    \n",
    "def prepareData(lang1, lang2, reverse=False):\n",
    "    input_lang, output_lang, train_pairs, valid_pairs, test_pairs = readLangs(reverse)\n",
    "    print(\"Read %s sentence pairs\" % len(train_pairs))\n",
    "    train_pairs = filterPairs(train_pairs)\n",
    "    valid_pairs = filterPairs(valid_pairs)\n",
    "    test_pairs = filterPairs(test_pairs)\n",
    "    print(\"Trimmed to %s sentence pairs\" % len(train_pairs))\n",
    "    print(\"Counting words...\")\n",
    "    for pair in train_pairs:\n",
    "        input_lang.addSentence(pair[0])\n",
    "        output_lang.addSentence(pair[1])\n",
    "    for pair in valid_pairs:\n",
    "        input_lang.addSentence(pair[0])\n",
    "        output_lang.addSentence(pair[1])\n",
    "    for pair in test_pairs:\n",
    "        input_lang.addSentence(pair[0])\n",
    "        output_lang.addSentence(pair[1])\n",
    "    print(\"Counted words:\")\n",
    "    print(input_lang.name, input_lang.n_words)\n",
    "    print(output_lang.name, output_lang.n_words)\n",
    "    return input_lang, output_lang, train_pairs, valid_pairs, test_pairs\n",
    "\n",
    "input_lang, output_lang, train_pairs, valid_pairs, test_pairs = prepareData('ingredients', 'recipe', False)\n",
    "print(random.choice(train_pairs))"
   ]
  },
  {
   "cell_type": "markdown",
   "id": "23fa22b6-5890-459f-a0de-eca4d17645d0",
   "metadata": {},
   "source": [
    "**Implementation of Baseline 1: Encoder RNN for seq2seq model without attention**"
   ]
  },
  {
   "cell_type": "code",
   "execution_count": 75,
   "id": "bad39fb3",
   "metadata": {},
   "outputs": [],
   "source": [
    "class EncoderRNN(nn.Module):\n",
    "    def __init__(self, input_size, hidden_size):\n",
    "        super(EncoderRNN, self).__init__()\n",
    "        self.hidden_size = hidden_size\n",
    "\n",
    "        self.embedding = nn.Embedding(input_size, hidden_size)\n",
    "        self.gru = nn.GRU(hidden_size, hidden_size)\n",
    "\n",
    "    def forward(self, input, hidden):\n",
    "        embedded = self.embedding(input).view(1, 1, -1)\n",
    "        output = embedded\n",
    "        output, hidden = self.gru(output, hidden)\n",
    "        return output, hidden\n",
    "\n",
    "    def initHidden(self):\n",
    "        return torch.zeros(1, 1, self.hidden_size, device=device)"
   ]
  },
  {
   "cell_type": "markdown",
   "id": "170834eb-3f3b-466c-9fd2-76f05695b79a",
   "metadata": {},
   "source": [
    "**Implementation of Baseline 1: Decoder RNN for seq2seq model without attention**"
   ]
  },
  {
   "cell_type": "code",
   "execution_count": 76,
   "id": "b2c193b8",
   "metadata": {},
   "outputs": [],
   "source": [
    "class DecoderRNN(nn.Module):\n",
    "    def __init__(self, hidden_size, output_size):\n",
    "        super(DecoderRNN, self).__init__()\n",
    "        self.hidden_size = hidden_size\n",
    "\n",
    "        self.embedding = nn.Embedding(output_size, hidden_size)\n",
    "        self.gru = nn.GRU(hidden_size, hidden_size)\n",
    "        self.out = nn.Linear(hidden_size, output_size)\n",
    "        self.softmax = nn.LogSoftmax(dim=1)\n",
    "\n",
    "    def forward(self, input, hidden):\n",
    "        output = self.embedding(input).view(1, 1, -1)\n",
    "        output = F.relu(output)\n",
    "        output, hidden = self.gru(output, hidden)\n",
    "        output = self.softmax(self.out(output[0]))\n",
    "        return output, hidden\n",
    "\n",
    "    def initHidden(self):\n",
    "        return torch.zeros(1, 1, self.hidden_size, device=device)\n"
   ]
  },
  {
   "cell_type": "markdown",
   "id": "90864fb4-1563-4b30-9e67-d3da22fe4ad2",
   "metadata": {},
   "source": [
    "**Implementation of Baseline 1: Processing methods for train iter**"
   ]
  },
  {
   "cell_type": "code",
   "execution_count": 77,
   "id": "1296ff05",
   "metadata": {},
   "outputs": [],
   "source": [
    "def indexesFromSentence(lang, sentence):\n",
    "    return [lang.word2index[word] for word in sentence.split(' ')]\n",
    "\n",
    "\n",
    "def tensorFromSentence(lang, sentence):\n",
    "    indexes = indexesFromSentence(lang, sentence)\n",
    "    indexes.append(EOS_token)\n",
    "    return torch.tensor(indexes, dtype=torch.long, device=device).view(-1, 1)\n",
    "\n",
    "\n",
    "def tensorsFromPair(pair):\n",
    "    input_tensor = tensorFromSentence(input_lang, pair[0])\n",
    "    target_tensor = tensorFromSentence(output_lang, pair[1])\n",
    "    return (input_tensor, target_tensor)"
   ]
  },
  {
   "cell_type": "markdown",
   "id": "504668e0-5099-4670-b2b8-3688377eee99",
   "metadata": {},
   "source": [
    "**Implementation of Baseline 1: Train method for seq2seq model without attention**"
   ]
  },
  {
   "cell_type": "code",
   "execution_count": 78,
   "id": "93e74aa1-b285-459a-ae49-fb99cfd3d578",
   "metadata": {},
   "outputs": [],
   "source": [
    "teacher_forcing_ratio = 1\n",
    "\n",
    "\n",
    "def train(input_tensor, target_tensor, encoder, decoder, encoder_optimizer, decoder_optimizer, criterion, max_length=MAX_LENGTH):\n",
    "    encoder_hidden = encoder.initHidden()\n",
    "\n",
    "    encoder_optimizer.zero_grad()\n",
    "    decoder_optimizer.zero_grad()\n",
    "\n",
    "    input_length = input_tensor.size(0)\n",
    "    target_length = target_tensor.size(0)\n",
    "\n",
    "    encoder_outputs = torch.zeros(max_length, encoder.hidden_size, device=device)\n",
    "\n",
    "    loss = 0\n",
    "\n",
    "    for ei in range(input_length):\n",
    "        encoder_output, encoder_hidden = encoder(\n",
    "            input_tensor[ei], encoder_hidden)\n",
    "        encoder_outputs[ei] = encoder_output[0, 0]\n",
    "\n",
    "    decoder_input = torch.tensor([[SOS_token]], device=device)\n",
    "\n",
    "    decoder_hidden = encoder_hidden\n",
    "\n",
    "    use_teacher_forcing = True if random.random() < teacher_forcing_ratio else False\n",
    "\n",
    "    if use_teacher_forcing:\n",
    "        # Teacher forcing: Feed the target as the next input\n",
    "        for di in range(target_length):\n",
    "            decoder_output, decoder_hidden = decoder(\n",
    "                decoder_input, decoder_hidden)\n",
    "            loss += criterion(decoder_output, target_tensor[di])\n",
    "            decoder_input = target_tensor[di]  # Teacher forcing\n",
    "\n",
    "    else:\n",
    "        # Without teacher forcing: use its own predictions as the next input\n",
    "        for di in range(target_length):\n",
    "            decoder_output, decoder_hidden = decoder(\n",
    "                decoder_input, decoder_hidden)\n",
    "            topv, topi = decoder_output.topk(1)\n",
    "            decoder_input = topi.squeeze().detach()  # detach from history as input\n",
    "\n",
    "            loss += criterion(decoder_output, target_tensor[di])\n",
    "            if decoder_input.item() == EOS_token:\n",
    "                break\n",
    "\n",
    "    loss.backward()\n",
    "\n",
    "    encoder_optimizer.step()\n",
    "    decoder_optimizer.step()\n",
    "\n",
    "    return loss.item() / target_length\n"
   ]
  },
  {
   "cell_type": "code",
   "execution_count": 79,
   "id": "a4d24171-4687-48c5-be89-08cf770315be",
   "metadata": {},
   "outputs": [],
   "source": [
    "def valid(input_tensor, target_tensor, encoder, decoder, criterion, max_length=MAX_LENGTH):\n",
    "    encoder_hidden = encoder.initHidden()\n",
    "    input_length = input_tensor.size(0)\n",
    "    target_length = target_tensor.size(0)\n",
    "\n",
    "    encoder_outputs = torch.zeros(max_length, encoder.hidden_size, device=device)\n",
    "\n",
    "    loss = 0\n",
    "\n",
    "    for ei in range(input_length):\n",
    "        encoder_output, encoder_hidden = encoder(\n",
    "            input_tensor[ei], encoder_hidden)\n",
    "        encoder_outputs[ei] = encoder_output[0, 0]\n",
    "\n",
    "    decoder_input = torch.tensor([[SOS_token]], device=device)\n",
    "\n",
    "    decoder_hidden = encoder_hidden\n",
    "    for di in range(target_length):\n",
    "        decoder_output, decoder_hidden = decoder(\n",
    "            decoder_input, decoder_hidden)\n",
    "        topv, topi = decoder_output.topk(1)\n",
    "        decoder_input = topi.squeeze().detach()  # detach from history as input\n",
    "\n",
    "        loss += criterion(decoder_output, target_tensor[di])\n",
    "        if decoder_input.item() == EOS_token:\n",
    "            break\n",
    "\n",
    "    return loss.item() / target_length\n"
   ]
  },
  {
   "cell_type": "markdown",
   "id": "76e73517-c02f-44d4-a0e5-e45f6c0a3be3",
   "metadata": {},
   "source": [
    "**Implementation of Baseline 1: Time method for train iter method** "
   ]
  },
  {
   "cell_type": "code",
   "execution_count": 80,
   "id": "30717ca1-4e2b-4a59-bd84-5eb1e68ad82c",
   "metadata": {},
   "outputs": [],
   "source": [
    "import time\n",
    "import math\n",
    "\n",
    "\n",
    "def asMinutes(s):\n",
    "    m = math.floor(s / 60)\n",
    "    s -= m * 60\n",
    "    return '%dm %ds' % (m, s)\n",
    "\n",
    "\n",
    "def timeSince(since, percent):\n",
    "    now = time.time()\n",
    "    s = now - since\n",
    "    es = s / (percent)\n",
    "    rs = es - s\n",
    "    return '%s (- %s)' % (asMinutes(s), asMinutes(rs))"
   ]
  },
  {
   "cell_type": "markdown",
   "id": "e33c1ccc-4c8a-4e72-b752-f0a12edf9cb0",
   "metadata": {},
   "source": [
    "**Implementation of Baseline 1: Train iter method**"
   ]
  },
  {
   "cell_type": "code",
   "execution_count": 81,
   "id": "2c8c7ce3-911c-49f9-be91-524a542e7909",
   "metadata": {},
   "outputs": [],
   "source": [
    "def trainIters(encoder, decoder, n_iters,train_pairs,valid_pairs, print_every=1000, plot_every=100, learning_rate=0.001):\n",
    "    start = time.time()\n",
    "    plot_train_losses = []\n",
    "    plot_valid_losses = []\n",
    "    print_train_loss_total = 0  # Reset every print_every\n",
    "    plot_train_loss_total = 0  # Reset every plot_every\n",
    "    print_valid_loss_total = 0  # Reset every print_every\n",
    "    plot_valid_loss_total = 0  # Reset every plot_every\n",
    "\n",
    "    encoder_optimizer = optim.Adam(encoder.parameters(), lr=learning_rate)\n",
    "    decoder_optimizer = optim.Adam(decoder.parameters(), lr=learning_rate)\n",
    "    training_pairs = [tensorsFromPair(random.choice(train_pairs))\n",
    "                      for i in range(n_iters)]\n",
    "    valid_pairs = [tensorsFromPair(random.choice(valid_pairs))\n",
    "                      for i in range(n_iters)]\n",
    "    criterion = nn.NLLLoss()\n",
    "\n",
    "    for iter in range(1, n_iters + 1):\n",
    "        training_pair = training_pairs[iter - 1]\n",
    "        training_input_tensor = training_pair[0]\n",
    "        training_target_tensor = training_pair[1]\n",
    "\n",
    "        valid_pair = valid_pairs[iter - 1]\n",
    "        valid_input_tensor = valid_pair[0]\n",
    "        valid_target_tensor = valid_pair[1]\n",
    "\n",
    "        train_loss = train(training_input_tensor, training_target_tensor, encoder,\n",
    "                     decoder, encoder_optimizer, decoder_optimizer, criterion)\n",
    "        print_train_loss_total += train_loss\n",
    "        plot_train_loss_total += train_loss\n",
    "        \n",
    "        valid_loss = valid(valid_input_tensor, valid_target_tensor, encoder,\n",
    "             decoder, criterion)\n",
    "        print_valid_loss_total += valid_loss\n",
    "        plot_valid_loss_total += valid_loss\n",
    "\n",
    "        if iter % print_every == 0:\n",
    "            print_train_loss_avg = print_train_loss_total / print_every\n",
    "            print_train_loss_total = 0\n",
    "            print_valid_loss_avg = print_valid_loss_total / print_every\n",
    "            print_valid_loss_total = 0\n",
    "            print('%s (%d %d%%) Train Loss: %.4f | Validation Loss: %.4f' % (timeSince(start, iter / n_iters),\n",
    "                                                                             iter, iter / n_iters * 100,\n",
    "                                                                             print_train_loss_avg, print_valid_loss_avg))\n",
    "        if iter % plot_every == 0:\n",
    "            plot_train_loss_avg = plot_train_loss_total / plot_every\n",
    "            plot_train_losses.append(plot_train_loss_avg)\n",
    "            plot_train_loss_total = 0\n",
    "            \n",
    "            plot_valid_loss_avg = plot_valid_loss_total / plot_every\n",
    "            plot_valid_losses.append(plot_valid_loss_avg)\n",
    "            plot_valid_loss_total = 0\n",
    "    return plot_train_losses,plot_valid_losses\n"
   ]
  },
  {
   "cell_type": "markdown",
   "id": "96969eea-8ad7-4879-8fec-2e72756ae498",
   "metadata": {},
   "source": [
    "**Implementation of Baseline 1: Show Plot method**"
   ]
  },
  {
   "cell_type": "code",
   "execution_count": 82,
   "id": "70a09497-62ff-467c-8923-87e52b92fe58",
   "metadata": {},
   "outputs": [],
   "source": [
    "import matplotlib.pyplot as plt\n",
    "import matplotlib.ticker as ticker\n",
    "import numpy as np\n",
    "def showPlot(model_name,points1, points2, epochs, plot_every):\n",
    "    plt.figure()\n",
    "    fig, ax = plt.subplots()\n",
    "    # This locator puts ticks at regular intervals\n",
    "    loc = ticker.MultipleLocator(base=0.2)\n",
    "    ax.yaxis.set_major_locator(loc)\n",
    "    x_range = np.array(np.arange(0, epochs-1, plot_every))\n",
    "    plt.plot(x_range,points1, label='Train')  # Plot points1 with label 'Train'\n",
    "    plt.plot(x_range,points2, label='Valid')  # Plot points2 with label 'Valid'\n",
    "    plt.legend()  # Add legend\n",
    "    plt.xlabel('Epochs')  # Label x-axis\n",
    "    plt.ylabel('Loss')  # Label y-axis\n",
    "    plt.title(model_name+' Training and Validation Loss')  # Set title for the plot\n",
    "    plt.show()"
   ]
  },
  {
   "cell_type": "markdown",
   "id": "e60b9c14-0d88-4401-84f6-3641172bab96",
   "metadata": {},
   "source": [
    "**Implementation of Baseline 1: Evaluation methods to check performance of baseline 1**"
   ]
  },
  {
   "cell_type": "code",
   "execution_count": 83,
   "id": "05211516-e976-47d1-b914-449d0d3fb4ec",
   "metadata": {},
   "outputs": [],
   "source": [
    "def evaluate(encoder, decoder, sentence, max_length=MAX_LENGTH):\n",
    "    with torch.no_grad():\n",
    "        input_tensor = tensorFromSentence(input_lang, sentence)\n",
    "        input_length = input_tensor.size()[0]\n",
    "        encoder_hidden = encoder.initHidden()\n",
    "\n",
    "        encoder_outputs = torch.zeros(max_length, encoder.hidden_size, device=device)\n",
    "\n",
    "        for ei in range(input_length):\n",
    "            encoder_output, encoder_hidden = encoder(input_tensor[ei],\n",
    "                                                     encoder_hidden)\n",
    "            encoder_outputs[ei] += encoder_output[0, 0]\n",
    "\n",
    "        decoder_input = torch.tensor([[SOS_token]], device=device)  # SOS\n",
    "\n",
    "        decoder_hidden = encoder_hidden\n",
    "\n",
    "        decoded_words = []\n",
    "        decoder_attentions = torch.zeros(max_length, max_length)\n",
    "\n",
    "        for di in range(max_length):\n",
    "            decoder_output, decoder_hidden = decoder(\n",
    "                decoder_input, decoder_hidden)\n",
    "            topv, topi = decoder_output.data.topk(1)\n",
    "            if topi.item() == EOS_token:\n",
    "                decoded_words.append('<EOS>')\n",
    "                break\n",
    "            else:\n",
    "                decoded_words.append(output_lang.index2word[topi.item()])\n",
    "\n",
    "            decoder_input = topi.squeeze().detach()\n",
    "\n",
    "        return decoded_words"
   ]
  },
  {
   "cell_type": "code",
   "execution_count": 84,
   "id": "d6fbea66-faee-4cb0-b11a-bb5312664000",
   "metadata": {},
   "outputs": [],
   "source": [
    "def evaluateRandomly(encoder, decoder, n=10):\n",
    "    for i in range(n):\n",
    "        pair = random.choice(train_pairs)\n",
    "        print('>', pair[0])\n",
    "        print('=', pair[1])\n",
    "        output_words= evaluate(encoder, decoder, pair[0])\n",
    "        output_sentence = ' '.join(output_words)\n",
    "        print('<', output_sentence)\n",
    "        print('')"
   ]
  },
  {
   "cell_type": "markdown",
   "id": "92fdb0fe-aac9-48f4-b1fb-2e500d5b9c73",
   "metadata": {},
   "source": [
    "**Implementation of Baseline 1: Creating instance of baseline 1 and training**"
   ]
  },
  {
   "cell_type": "code",
   "execution_count": 85,
   "id": "69d95a1d-094a-44e8-a874-246e81ff79d8",
   "metadata": {},
   "outputs": [
    {
     "name": "stdout",
     "output_type": "stream",
     "text": [
      "3m 35s (- 32m 15s) (1000 10%) Train Loss: 5.3061 | Validation Loss: 5.8772\n",
      "7m 12s (- 28m 51s) (2000 20%) Train Loss: 4.3281 | Validation Loss: 7.2412\n",
      "10m 41s (- 24m 56s) (3000 30%) Train Loss: 4.0184 | Validation Loss: 6.9017\n",
      "14m 15s (- 21m 22s) (4000 40%) Train Loss: 3.8610 | Validation Loss: 7.2029\n",
      "17m 43s (- 17m 43s) (5000 50%) Train Loss: 3.7582 | Validation Loss: 6.6766\n",
      "21m 13s (- 14m 8s) (6000 60%) Train Loss: 3.6577 | Validation Loss: 6.6476\n",
      "24m 40s (- 10m 34s) (7000 70%) Train Loss: 3.6346 | Validation Loss: 6.9202\n",
      "28m 2s (- 7m 0s) (8000 80%) Train Loss: 3.5513 | Validation Loss: 6.4409\n",
      "31m 24s (- 3m 29s) (9000 90%) Train Loss: 3.5201 | Validation Loss: 6.4810\n",
      "34m 48s (- 0m 0s) (10000 100%) Train Loss: 3.5008 | Validation Loss: 6.7579\n"
     ]
    }
   ],
   "source": [
    "hidden_size = 256\n",
    "n_iter = 10000\n",
    "plot_every = 100\n",
    "print_every = 1000\n",
    "baseline1_encoder = EncoderRNN(input_lang.n_words, hidden_size).to(device)\n",
    "baseline1_decoder = DecoderRNN(hidden_size, output_lang.n_words).to(device)\n",
    "baseline1_plot_train_losses,baseline1_plot_valid_losses = trainIters(baseline1_encoder, baseline1_decoder, n_iter ,train_pairs,valid_pairs, print_every = print_every,plot_every=plot_every)"
   ]
  },
  {
   "cell_type": "code",
   "execution_count": 86,
   "id": "b73fdb58-f4b2-4987-b631-98a20ae95de0",
   "metadata": {},
   "outputs": [
    {
     "data": {
      "text/plain": [
       "<Figure size 640x480 with 0 Axes>"
      ]
     },
     "metadata": {},
     "output_type": "display_data"
    },
    {
     "data": {
      "image/png": "[encoded data removed]",
      "text/plain": [
       "<Figure size 640x480 with 1 Axes>"
      ]
     },
     "metadata": {},
     "output_type": "display_data"
    }
   ],
   "source": [
    "showPlot('Baseline 1',baseline1_plot_train_losses,baseline1_plot_valid_losses,n_iter,plot_every)"
   ]
  },
  {
   "cell_type": "code",
   "execution_count": 87,
   "id": "5d2b16c5-8737-4ed1-adef-4db6cd8eebcb",
   "metadata": {},
   "outputs": [
    {
     "name": "stdout",
     "output_type": "stream",
     "text": [
      "> 1 lb orange slice candy, cut up 2 c  pecans; chopped 8 oz dates; cut up 1 c  coconut, grated 2 c  flour; divided 1 c  butter 1 1/2 c  sugar 4    eggs 1 ts vanilla 1 ts baking soda 1/2 ts salt 1/2 c  buttermilk 1/4 c  orange juice 1/4 c  lemon juice 1/4 c  sugar 1/4 c  butter\n",
      "= preheat the oven to 300 f. generously grease and flour a tube pan ; set aside . mix together the candy , pecans , dates , coconut and 1/4 cup of the flour ; set aside . cream the butter and sugar until fluffy . beat in the eggs , one at a time . stir in the vanilla . mix together the baking soda , salt and remaining 13/4 cup flour ; add alternately with the buttermilk to the butter mixture . add the nut mixture ; mix well . pour the batter into a prepared pan and bake for two hours ; remove from the oven . in a small saucepan , combine the orange juice , lemon juice , sugar and butter . cook until the sugar is dissolved . spoon the glaze over the warm cake .\n",
      "< combine all ingredients in a bowl . mix well . add to creamed mixture . mix well . add to creamed mixture . mix well . add to creamed mixture . mix well . add to creamed mixture . mix well . add to creamed mixture . mix well . add to creamed mixture . mix well . add to creamed mixture . bake in a preheated 375 degree oven for 45 minutes . cool . <EOS>\n",
      "\n",
      "> 1 lb bulk sausage 3 c  milk 10 c  fresh bread cubes 1 c  miracle whip 10 oz chopped broccoli -- 2 tb flour thawed and drained                 1 tb dry mustard 4 oz mushroom -- drained 2 ts dried basil 8 oz cheddar cheese -- shredded 1 ts salt 6    eggs -- beaten\n",
      "= brown sausage ; drain . add bread cubes , broccoli , mushrooms and cheese ; mix lightly . spoon into 13 x 9 baking dish . pour combined eggs , milk , dressing , flour and seasonings over bread mixture ; cover . refrigerate 1 hour or overnight . heat oven to 375 . bake , uncovered , 1 hour .\n",
      "< cut beef into 1 '' pieces . place in a shallow baking dish . sprinkle with cheese . bake in a preheated 350 degree oven for 30 minutes . sprinkle with cheese . bake in a preheated 350 degree oven for 30 minutes . sprinkle with cheese . bake in a preheated 350 degree oven for 30 minutes . sprinkle with cheese . bake in a preheated 350 degree oven for 30 minutes . sprinkle with cheese . bake in a preheated 350 degree oven for 30 minutes . sprinkle with cheese . bake in a preheated 350 degree oven for 30 minutes . sprinkle with cheese . bake in a preheated 350 degree oven for 30 minutes . sprinkle with cheese . bake in a preheated 350 degree oven for 30 minutes . sprinkle with cheese . bake in a preheated 350 degree oven for 30 minutes . sprinkle\n",
      "\n",
      "> 24 oz chicken breasts -- skinned boned (6 oz each) 4 ts lemon juice 4 ds salt -- optional 4 ts soybean oil 4 ds pepper -- optional 2 ts sesame seeds\n",
      "= heat nonstick skillet -lrb- if using electric skillet , set at 350 degrees -rrb- . add oil to heated skillet . cut chicken breast into bite-size pieces and sprinkle with salt and pepper if desired . dip chicken in benihana magic mustard sauce .\n",
      "< combine the marinade ingredients in a bowl . mix well . cover and refrigerate overnight . place chicken pieces on a rack in a shallow baking dish . cover and bake at 350 degrees for 45 minutes . remove chicken from marinade and cool . cut chicken pieces into 4 pieces . place chicken pieces on a platter . cover and cook on low for about 2 minutes . remove chicken from marinade and cool . place chicken pieces on a rack in a shallow baking dish . cover and refrigerate until ready to serve . <EOS>\n",
      "\n",
      "> 2 lb lean, boneless lamb - cut in 1\" cubes 1/3 c  olive oil 1/2 c  fresh lemon juice 2    garlic cloves - peeled, cut in quarters 1 ts chopped fresh thyme 1 ts chopped fresh oregano or hopped fresh marjoram fresh ground pepper to taste 2    spanish onions; cut in thinly sliced rings 24 sm romaine lettuce leaves - washed and dried 6 lg pita bread rounds 3 md ripe tomatoes 2 c  plain yogurt 1    garlic clove - peeled and minced 1 ts chopped fresh oregano or hopped fresh marjoram 1 tb fresh lemon juice 1 ts olive oil salt and pepper; to taste\n",
      "= remove about 1/4 cup to mix with the onions . place lamb cubes in bowl with remaining marinade ; toss to coat well . place onions in small bowl and toss with reserved marinade . cover with plastic wrap and chill , up to several hours , turning several times . meanwhile , make yogurt sauce by lining a medium bowl with cheesecloth and spooning in the yogurt . tie up edges of cheesecloth with string to form a pouch . suspend over bowl -lrb- tying from refrigerator rack above bowl -rrb- , or place in a colander over bowl and let stand to drain several hours . mix drained yogurt with minced garlic , chopped herbs , lemon juice , oil , salt and pepper . cover and chill .\n",
      "< cut chicken pieces into 1 '' pieces . place chicken pieces in a shallow dish . cover and cook on low heat for 2 to 3 minutes . remove chicken from marinade and keep warm . place chicken in a shallow baking dish . sprinkle with salt and pepper . cover and cook over medium heat for 2 minutes . remove chicken from marinade and keep warm . place chicken in a shallow baking dish . cover and cook on low heat for about 2 minutes . remove chicken from marinade and keep warm . place chicken pieces on grill . cover and cook over medium heat for about 2 minutes . remove chicken from marinade and keep warm . place chicken pieces on grill . cover and cook on low heat for about 2 minutes . remove chicken from marinade and keep warm . place chicken pieces on grill\n",
      "\n",
      "> 1 pk white cake mix 3 3/4 oz chocolate pudding mix 1 c  oil 1/4 c  hot water 4 lg eggs 1/3 c  kahlua coffee liqueur 1/4 c  kahlua coffee liqueur 1/2 c  sifted powdered sugar\n",
      "= preheat oven to 350 f. grease and flour a bundt cake pan , shake out excess flour . combine first six ingredients in a large bowl and beat thoroughly . pour into pan . bake until tester inserted in center comes out clean , -lrb- about 50 to 60 minutes -rrb- . let cool 5 minutes in pan , then invert onto rack . blend 1/4 cup kahlua coffee liqueur and powdered sugar in a small bowl until smooth . drizzle evenly over warm cake . cool completely .\n",
      "< preheat oven to 350 f. cut the dough into 1 inch pieces . place the yeast in a bowl and let rise until doubled in bulk . mix the flour , sugar , salt and baking powder . add the flour and mix well . add the flour and mix well . add the flour and mix well . add the flour and mix well . add the flour and mix well . add the flour and mix well . add the flour and mix well . add the flour and mix well . add the flour and mix well . add the flour and mix well . add the flour and mix well . add the flour and mix well . add the flour and mix well . add the flour and mix well . add the flour and mix well . add the flour and mix well .\n",
      "\n",
      "> 1 lb maryland backfin crabmeat 1    egg, beaten 1/4    finely chopped green pepper 1 sl white bread, cubed 1 ts worcestershire sauce 1 ts prepared mustard 1 ts lemon juice 1/4 ts salt 1/4 ts pepper fat or oil for frying\n",
      "= remove cartilage from crabmeat . in a large bowl , mix well all ingredients except crabmeat and oil , then gently fold in crabmeat . form into six cakes . fry in just enough oil to prevent sticking til brown .\n",
      "< cut the chicken pieces into thin strips . place the onion in a large bowl . add the garlic , salt and pepper . mix well . add the remaining ingredients . cover and cook over low heat for about 2 minutes . add the chicken and cook , stirring occasionally , until the meat is just tender . add the chicken and cook , stirring occasionally , until the meat is just tender . add the chicken and cook , stirring occasionally , until the meat is just tender . add the chicken and cook , stirring occasionally , until the meat is just tender . add the chicken and cook , stirring occasionally , until the meat is just tender . add the chicken and cook , stirring occasionally , until the meat is just tender . add the chicken and cook , stirring occasionally , until the\n",
      "\n",
      "> 1/4 cup      1/2 cup     1 c\n",
      "= walnuts 1 oz 2 oz 4 oz vegetables small medium large zucchini -lrb- each -rrb- ----- lb 3/4 lb yield 1/3 cup loosely packed grated cheese shrimp large jumbo 12 to 15 count per pound tomatoes 10 medium tomatoes chopped tomato\n",
      "< combine all ingredients in a blender or food processor . blend well . add to creamed mixture . cover and chill . <EOS>\n",
      "\n",
      "> 1    yellow cake mix 1 pk lemon pudding; 3-oz size 4    eggs 3/4 c  water 1/2 c  oil 2 c  powdered sugar 1/3 c  lemon juice\n",
      "= mix together cake mix , pudding , eggs , water , and oil . bake in an oblong cake pan at 350 degrees 45 minutes . mix together powdered sugar and lemon juice . poke holes in the hot cake with a fork . pour glaze over the top of the cake letting it run into the holes .\n",
      "< mix flour , sugar , salt and baking powder . add to creamed mixture alternately with the milk . add the flour and mix well . add the flour and mix well . add the flour and mix well . add the flour and mix well . add the flour and mix well . add the flour and mix well . add the flour and mix well . add the flour and mix well . add the flour and mix well . add the flour and mix well . add the flour and mix well . add the flour and mix well . add the flour and mix well . add the flour and mix well . add the flour and mix well . add the flour and mix well . add the flour and mix well . add the flour and mix well . add the flour and mix\n",
      "\n",
      "> 20 oz almonds, blanched (can use whole or pieces) 3 1/2 c  confectioner's sugar 3 lg egg whites, lightly beaten 1 1/2 c  sugar 1 1/2 c  confectioner's sugar 1 pk coconut, sweetened (large) 1 x  almond paste, broken into chunks 1 tb vanilla extract salt 6 lg egg whites\n",
      "= process almonds in food processer until finely chopped , almost almond butter . add confectioners ' sugar and process till smooth . add egg whites . mixture should become very stiff and form a ball in the machine . divide the well-blended paste into three equal batches . -lrb- can wrap well at this point to refrigerate , up to a week .\n",
      "< preheat oven to 350 f. combine flour , sugar , baking soda , salt and pepper in a bowl . beat until light and fluffy . add flour , soda , and salt . mix well . add 2 cups of water . mix well . add 2 cups of water . mix well . add 2 cups of water . mix well . add 2 cups of water . mix well . add 2 cups of water . cover and cook over low heat for 10 minutes . add the remaining ingredients and cook until the mixture comes to a boil . add the remaining ingredients and cook until thickened , stirring occasionally . add the sugar and cook until the mixture comes to a boil . add the vanilla and cook , stirring constantly , until the mixture comes to a boil . add the vanilla and cook\n",
      "\n",
      "> 1 pk chicken breasts  parmesan cheese 1 cn italian tomato sauce  2 c  flour 2 tb olive oil 1/2 ts salt mozzarella cheese 1/4 ts pepper\n",
      "= heavy skillet . place chicken in skillet and brown for 2-3 mins on each side -lrb- longer if chicken is thicker -rrb- . after they are browned , remove them from skillet and drain on paper towel . pour the tomato sauce in the skillet and heat it until it is gently bubbling . return chicken to the pan and allow to cook for 2-3 mins more , turning chicken to coat well . sprinkle mozzarella and parmesan cheese all over the top and cover skillet . allow this to cook until cheese begins to melt . serve alone or over spaghetti or linguine .\n",
      "< preheat oven to 350 degrees . combine chicken , onion , garlic , salt and pepper . mix well . add chicken and chicken and cook , stirring occasionally , until chicken is tender . add chicken and cook , stirring occasionally , until chicken is tender . add chicken and cook , stirring occasionally , until chicken is tender . add chicken and cook , stirring occasionally , until chicken is tender . add chicken and cook , stirring occasionally , until chicken is tender . add chicken and cook , stirring occasionally , until chicken is tender . remove from heat and let stand for 10 minutes . add chicken and cook , stirring occasionally , until chicken is cooked . add chicken and cook , stirring occasionally , until chicken is cooked . add chicken and cook , stirring occasionally , until the chicken is cooked ,\n",
      "\n"
     ]
    }
   ],
   "source": [
    "evaluateRandomly(baseline1_encoder, baseline1_decoder, n=10)"
   ]
  },
  {
   "cell_type": "markdown",
   "id": "94c35846-ac86-452b-9b8c-54f465a1f9ba",
   "metadata": {},
   "source": [
    "**Implementation of Baseline 2: RNN with Attention**"
   ]
  },
  {
   "cell_type": "code",
   "execution_count": 88,
   "id": "814880f7-ef67-460c-980c-09b6745faa9c",
   "metadata": {},
   "outputs": [],
   "source": [
    "class AttnDecoderRNN(nn.Module):\n",
    "    def __init__(self, hidden_size, output_size, dropout_p=0.1, max_length=MAX_LENGTH):\n",
    "        super(AttnDecoderRNN, self).__init__()\n",
    "        self.hidden_size = hidden_size\n",
    "        self.output_size = output_size\n",
    "        self.dropout_p = dropout_p\n",
    "        self.max_length = max_length\n",
    "\n",
    "        self.embedding = nn.Embedding(self.output_size, self.hidden_size)\n",
    "        self.dropout = nn.Dropout(self.dropout_p)\n",
    "        self.gru = nn.GRU(self.hidden_size, self.hidden_size)\n",
    "        self.out = nn.Linear(self.hidden_size*2, self.output_size)\n",
    "\n",
    "    def forward(self, input, hidden, encoder_outputs):\n",
    "        embedded = self.embedding(input).view(1, 1, -1)\n",
    "        embedded = self.dropout(embedded)\n",
    "\n",
    "        _, hidden = self.gru(embedded, hidden)\n",
    "\n",
    "        attn_weights = F.softmax(torch.bmm(hidden, encoder_outputs.T.unsqueeze(0)),dim=-1)\n",
    "        attn_output = torch.bmm(attn_weights, encoder_outputs.unsqueeze(0))\n",
    "\n",
    "        concat_output = torch.cat((attn_output[0], hidden[0]), 1)\n",
    "\n",
    "        output = F.log_softmax(self.out(concat_output), dim=1)\n",
    "\n",
    "        return output, hidden, attn_weights\n",
    "\n",
    "    def initHidden(self):\n",
    "        return torch.zeros(1, 1, self.hidden_size, device=device)\n"
   ]
  },
  {
   "cell_type": "markdown",
   "id": "75f95b7f-3c49-4a84-ade1-3242c219489f",
   "metadata": {},
   "source": [
    "**Implementation of Baseline 2: Train method for RNN with attention**"
   ]
  },
  {
   "cell_type": "code",
   "execution_count": 89,
   "id": "c7f5d38e-94a3-47d4-b987-b9769d95ce04",
   "metadata": {},
   "outputs": [],
   "source": [
    "teacher_forcing_ratio = 1.0\n",
    "\n",
    "\n",
    "def train_attn(input_tensor, target_tensor, encoder, decoder, encoder_optimizer, decoder_optimizer, criterion, max_length=MAX_LENGTH):\n",
    "    encoder_hidden = encoder.initHidden()\n",
    "\n",
    "    encoder_optimizer.zero_grad()\n",
    "    decoder_optimizer.zero_grad()\n",
    "\n",
    "    input_length = input_tensor.size(0)\n",
    "    target_length = target_tensor.size(0)\n",
    "\n",
    "    encoder_outputs = torch.zeros(max_length, encoder.hidden_size, device=device)\n",
    "\n",
    "    loss = 0\n",
    "\n",
    "    for ei in range(input_length):\n",
    "        encoder_output, encoder_hidden = encoder(\n",
    "            input_tensor[ei], encoder_hidden)\n",
    "        encoder_outputs[ei] = encoder_output[0, 0]\n",
    "\n",
    "    decoder_input = torch.tensor([[SOS_token]], device=device)\n",
    "\n",
    "    decoder_hidden = encoder_hidden\n",
    "\n",
    "    use_teacher_forcing = True if random.random() < teacher_forcing_ratio else False\n",
    "\n",
    "    if use_teacher_forcing:\n",
    "        # Teacher forcing: Feed the target as the next input\n",
    "        for di in range(target_length):\n",
    "            decoder_output, decoder_hidden, decoder_attention = decoder(\n",
    "                decoder_input, decoder_hidden, encoder_outputs)\n",
    "            loss += criterion(decoder_output, target_tensor[di])\n",
    "            decoder_input = target_tensor[di]  # Teacher forcing\n",
    "\n",
    "    else:\n",
    "        # Without teacher forcing: use its own predictions as the next input\n",
    "        for di in range(target_length):\n",
    "            decoder_output, decoder_hidden, decoder_attention = decoder(\n",
    "                decoder_input, decoder_hidden, encoder_outputs)\n",
    "            topv, topi = decoder_output.topk(1)\n",
    "            decoder_input = topi.squeeze().detach()  # detach from history as input\n",
    "\n",
    "            loss += criterion(decoder_output, target_tensor[di])\n",
    "            if decoder_input.item() == EOS_token:\n",
    "                break\n",
    "\n",
    "    loss.backward()\n",
    "\n",
    "    encoder_optimizer.step()\n",
    "    decoder_optimizer.step()\n",
    "\n",
    "    return loss.item() / target_length\n"
   ]
  },
  {
   "cell_type": "code",
   "execution_count": 91,
   "id": "5fabffd3-ee3e-4ffd-b360-9b7b1e0fcdf3",
   "metadata": {},
   "outputs": [],
   "source": [
    "teacher_forcing_ratio = 1.0\n",
    "def valid_attn(input_tensor, target_tensor, encoder, decoder, criterion, max_length=MAX_LENGTH):\n",
    "    encoder_hidden = encoder.initHidden()\n",
    "\n",
    "    input_length = input_tensor.size(0)\n",
    "    target_length = target_tensor.size(0)\n",
    "\n",
    "    encoder_outputs = torch.zeros(max_length, encoder.hidden_size, device=device)\n",
    "\n",
    "    loss = 0\n",
    "\n",
    "    for ei in range(input_length):\n",
    "        encoder_output, encoder_hidden = encoder(\n",
    "            input_tensor[ei], encoder_hidden)\n",
    "        encoder_outputs[ei] = encoder_output[0, 0]\n",
    "    decoder_input = torch.tensor([[SOS_token]], device=device)\n",
    "    decoder_hidden = encoder_hidden\n",
    "    for di in range(target_length):\n",
    "        decoder_output, decoder_hidden, decoder_attention = decoder(\n",
    "            decoder_input, decoder_hidden, encoder_outputs)\n",
    "        topv, topi = decoder_output.topk(1)\n",
    "        decoder_input = topi.squeeze().detach()  # detach from history as input\n",
    "\n",
    "        loss += criterion(decoder_output, target_tensor[di])\n",
    "        if decoder_input.item() == EOS_token:\n",
    "            break\n",
    "\n",
    "    return loss.item() / target_length\n"
   ]
  },
  {
   "cell_type": "markdown",
   "id": "b486009e-c90f-401d-ab3e-0423519d0b10",
   "metadata": {},
   "source": [
    "**Implementation of Baseline 2: Train iter method for RNN with attention**"
   ]
  },
  {
   "cell_type": "code",
   "execution_count": 92,
   "id": "e4ac4ebb-e010-4984-97d3-5b223b228062",
   "metadata": {},
   "outputs": [],
   "source": [
    "def trainIters_attn(encoder, decoder, n_iters,print_every=1000, plot_every=100, learning_rate=0.001):\n",
    "    start = time.time()\n",
    "    plot_train_losses = []\n",
    "    plot_valid_losses = []\n",
    "    print_train_loss_total = 0  # Reset every print_every\n",
    "    plot_train_loss_total = 0  # Reset every plot_every\n",
    "    print_valid_loss_total = 0  # Reset every print_every\n",
    "    plot_valid_loss_total = 0  # Reset every plot_every\n",
    "\n",
    "    encoder_optimizer = optim.Adam(encoder.parameters(), lr=learning_rate)\n",
    "    decoder_optimizer = optim.Adam(decoder.parameters(), lr=learning_rate)\n",
    "    training_pairs = [tensorsFromPair(random.choice(train_pairs))\n",
    "                      for i in range(n_iters)]\n",
    "    validation_pairs = [tensorsFromPair(random.choice(valid_pairs))\n",
    "                      for i in range(n_iters)]\n",
    "    criterion = nn.NLLLoss()\n",
    "\n",
    "    for iter in range(1, n_iters + 1):\n",
    "        training_pair = training_pairs[iter - 1]\n",
    "        training_input_tensor = training_pair[0]\n",
    "        training_target_tensor = training_pair[1]\n",
    "\n",
    "        valid_pair = validation_pairs[iter - 1]\n",
    "        valid_input_tensor = valid_pair[0]\n",
    "        valid_target_tensor = valid_pair[1]\n",
    "\n",
    "        train_loss = train_attn(training_input_tensor, training_target_tensor, encoder,\n",
    "                     decoder, encoder_optimizer, decoder_optimizer, criterion)\n",
    "        print_train_loss_total += train_loss\n",
    "        plot_train_loss_total += train_loss\n",
    "        \n",
    "        valid_loss = valid_attn(valid_input_tensor, valid_target_tensor, encoder,\n",
    "             decoder, criterion)\n",
    "        print_valid_loss_total += valid_loss\n",
    "        plot_valid_loss_total += valid_loss\n",
    "\n",
    "        if iter % print_every == 0:\n",
    "            print_train_loss_avg = print_train_loss_total / print_every\n",
    "            print_train_loss_total = 0\n",
    "            print_valid_loss_avg = print_valid_loss_total / print_every\n",
    "            print_valid_loss_total = 0\n",
    "            print('%s (%d %d%%) Train Loss: %.4f | Validation Loss: %.4f' % (timeSince(start, iter / n_iters),\n",
    "                                                                             iter, iter / n_iters * 100,\n",
    "                                                                             print_train_loss_avg, print_valid_loss_avg))\n",
    "        if iter % plot_every == 0:\n",
    "            plot_train_loss_avg = plot_train_loss_total / plot_every\n",
    "            plot_train_losses.append(plot_train_loss_avg)\n",
    "            plot_train_loss_total = 0\n",
    "            \n",
    "            plot_valid_loss_avg = plot_valid_loss_total / plot_every\n",
    "            plot_valid_losses.append(plot_valid_loss_avg)\n",
    "            plot_valid_loss_total = 0\n",
    "    return plot_train_losses,plot_valid_losses\n"
   ]
  },
  {
   "cell_type": "markdown",
   "id": "d942fc9b-e5f6-41cf-af02-116ca14b1874",
   "metadata": {},
   "source": [
    "**Implementation of Baseline 2: Initialising instance of RNN with attention**"
   ]
  },
  {
   "cell_type": "code",
   "execution_count": 93,
   "id": "735b4dee-5b75-4325-ae4a-267a1fb93592",
   "metadata": {},
   "outputs": [
    {
     "name": "stdout",
     "output_type": "stream",
     "text": [
      "4m 46s (- 43m 1s) (1000 10%) Train Loss: 5.0191 | Validation Loss: 5.5488\n",
      "9m 53s (- 39m 33s) (2000 20%) Train Loss: 4.1724 | Validation Loss: 7.5875\n",
      "14m 54s (- 34m 47s) (3000 30%) Train Loss: 4.0042 | Validation Loss: 7.3723\n",
      "19m 33s (- 29m 19s) (4000 40%) Train Loss: 3.8231 | Validation Loss: 6.8138\n",
      "24m 12s (- 24m 12s) (5000 50%) Train Loss: 3.7011 | Validation Loss: 6.6873\n",
      "28m 51s (- 19m 14s) (6000 60%) Train Loss: 3.6967 | Validation Loss: 6.7131\n",
      "33m 28s (- 14m 20s) (7000 70%) Train Loss: 3.6414 | Validation Loss: 6.4232\n",
      "38m 11s (- 9m 32s) (8000 80%) Train Loss: 3.5757 | Validation Loss: 6.6934\n",
      "42m 53s (- 4m 45s) (9000 90%) Train Loss: 3.5985 | Validation Loss: 6.9902\n",
      "47m 38s (- 0m 0s) (10000 100%) Train Loss: 3.5372 | Validation Loss: 6.4692\n"
     ]
    }
   ],
   "source": [
    "hidden_size = 256\n",
    "n_iter = 10000\n",
    "plot_every = 100\n",
    "print_every = 100\n",
    "baseline2_encoder = EncoderRNN(input_lang.n_words, hidden_size).to(device)\n",
    "baseline2_decoder = AttnDecoderRNN(hidden_size, output_lang.n_words, dropout_p=0.1).to(device)\n",
    "plot_train_losses,plot_valid_losses = trainIters_attn(baseline2_encoder, baseline2_decoder, 10000, print_every=1000)"
   ]
  },
  {
   "cell_type": "markdown",
   "id": "fa23e78a-7de0-4a1e-8f37-23c8d1d05668",
   "metadata": {},
   "source": [
    "**Implementation of Baseline 2: Evaluation method for RNN with Attention**"
   ]
  },
  {
   "cell_type": "code",
   "execution_count": 94,
   "id": "e16ce082-cf7e-471b-9488-615f4ddc8bc3",
   "metadata": {},
   "outputs": [],
   "source": [
    "def evaluate_attn(encoder, decoder, sentence, max_length=MAX_LENGTH):\n",
    "    with torch.no_grad():\n",
    "        input_tensor = tensorFromSentence(input_lang, sentence)\n",
    "        input_length = input_tensor.size()[0]\n",
    "        encoder_hidden = encoder.initHidden()\n",
    "\n",
    "        encoder_outputs = torch.zeros(max_length, encoder.hidden_size, device=device)\n",
    "\n",
    "        for ei in range(input_length):\n",
    "            encoder_output, encoder_hidden = encoder(input_tensor[ei],\n",
    "                                                     encoder_hidden)\n",
    "            encoder_outputs[ei] += encoder_output[0, 0]\n",
    "\n",
    "        decoder_input = torch.tensor([[SOS_token]], device=device)  # SOS\n",
    "\n",
    "        decoder_hidden = encoder_hidden\n",
    "\n",
    "        decoded_words = []\n",
    "        decoder_attentions = torch.zeros(max_length, max_length)\n",
    "\n",
    "        for di in range(max_length):\n",
    "            decoder_output, decoder_hidden, decoder_attention = decoder(\n",
    "                decoder_input, decoder_hidden, encoder_outputs)\n",
    "            decoder_attentions[di] = decoder_attention.data\n",
    "            topv, topi = decoder_output.data.topk(1)\n",
    "            if topi.item() == EOS_token:\n",
    "                decoded_words.append('<EOS>')\n",
    "                break\n",
    "            else:\n",
    "                decoded_words.append(output_lang.index2word[topi.item()])\n",
    "\n",
    "            decoder_input = topi.squeeze().detach()\n",
    "\n",
    "        return decoded_words, decoder_attentions[:di + 1]"
   ]
  },
  {
   "cell_type": "code",
   "execution_count": 95,
   "id": "d6af3899-43bc-409e-8303-d139e8d108c0",
   "metadata": {},
   "outputs": [],
   "source": [
    "def evaluateRandomly_attn(encoder, decoder, n=10):\n",
    "    for i in range(n):\n",
    "        pair = random.choice(train_pairs)\n",
    "        print('>', pair[0])\n",
    "        print('=', pair[1])\n",
    "        output_words, attention= evaluate_attn(encoder, decoder, pair[0])\n",
    "        output_sentence = ' '.join(output_words)\n",
    "        print('<', output_sentence)\n",
    "        print('')"
   ]
  },
  {
   "cell_type": "code",
   "execution_count": 96,
   "id": "48da6244-ed20-456d-bcfc-f3494ab6e6f7",
   "metadata": {},
   "outputs": [
    {
     "name": "stdout",
     "output_type": "stream",
     "text": [
      "> 1 c  chopped onion 14 oz canned chopped green chiles - drained 1/2 ts ground cumin 1/2 ts oregano 15 oz tomato sauce 1/2 c  chicken broth 2 c  cooked chicken breast chunks 3 c  cooked rice 1 c  dairy sour cream 8 oz cheddar cheese, shredded - (divided) 1 1/2 c  crushed corn chips\n",
      "= combine onions , chiles , oregano , tomato sauce , and broth in 1-1/2 quart microproof baking dish . cover and cook on high -lrb- maximum power -rrb- 10 minutes ; stir after 5 minutes . add chicken ; stir . set aside . combine rice and sour cream in shallow greased 2-1/2 quart microproof baking dish . sprinkle with 1 cup cheddar cheese ; pour chicken mixture over cheese . top with remaining 1 cup cheddar cheese . cook uncovered on high 5 minutes .\n",
      "< combine all ingredients in a large bowl . cover and refrigerate . <EOS>\n",
      "\n",
      "> 1 lb ground pork clove garlic; crushed 2    green onions; chopped 1 lg egg 1 tb soy sauce 1 tb cornstarch 2 ts dry sherry 1/4 ts salt 1 ts sesame oil 1/4 ts pepper 1/2 ts fresh ginger; grated 1 pk wonton wrappers\n",
      "= mix all ingredients together , by hand , in large bowl . fill wonton wrappers with approximately 1 11/2 teaspoons filling and press firmly in wonton press . -lrb- moisten edges for better adhering -rrb- . saute in vegetable oil -lrb- you might want to add 1 drop of sesame oil -rrb- on medium heat till bottoms are golden . add enough chicken broth to barely cover wontons . cover and simmer approximately 8-10 minutes . 2 parts soy sauce , 1 part rice vinegar , a little grated ginger and some chopped green onion . enjoy !\n",
      "< heat the oil in a large skillet . add the onion and cook until golden brown . add the chicken , mushrooms , and brown sugar . add the chicken and cook until the meat is brown . add the sesame seeds and stir until the meat is browned . add the sesame seeds and stir until the meat is browned . add the sesame seeds and stir until the meat is browned . add the sesame seeds and stir in the sesame seeds . add the sesame seeds , and stir until the meat is dissolved . add the chicken and cook until the chicken is done . add the sesame seeds , and stir until the meat is dissolved . add the chicken and cook until the meat is brown and the meat is browned . add the sesame seeds and stir until the meat is browned .\n",
      "\n",
      "> 2 c  milk 1/4 ts salt 4 tb cocoa, sifted 3/4    stick margarine or butter 3    eggs, divided 3/4 c  sugar 1/2 ts vanilla 1/4 c  flour, sifted meringue: 3    egg whites 6 tb sugar 1/2 ts vanilla\n",
      "= combine all ingredients except egg whites . cook over low heat stirring frequently until thick . pour into cooked pie shell & top with meringue . beat egg whites until they start to peak . add sugar gradually while beating until all is used . add vanilla . spread over pie & bake in 350 degree oven until lightly browned .\n",
      "< combine sugar and milk in a large bowl . beat until creamy . add sugar and vanilla . beat until creamy . add vanilla and beat until foamy . add vanilla and vanilla . beat until foamy . add vanilla and vanilla . beat until creamy . add vanilla and beat until creamy . add vanilla and vanilla . beat until foamy . add vanilla and vanilla . beat in egg whites . add vanilla and vanilla . beat until creamy . add vanilla and vanilla . beat until creamy . add vanilla and vanilla . beat until foamy . add vanilla and vanilla . beat until creamy . add vanilla and nuts . pour into well-oiled pan . bake at 350 degrees f. for 45 minutes . <EOS>\n",
      "\n",
      "> 1 lb round or flank steak 3 tb soy sauce 3 tb rice wine or sherry 3    cloves garlic, finely chopped 2 tb finely chopped ginger 1/2 ts dried hot chili pepper\n",
      "= cut steak across the grain into 1/4 inch slices . in a shallow casserole , mix together remaining ingredients . add meat , cover and refrigerate for at least 4 hours , overnight if possible . soak bamboo skewers in water for 30 minutes before threading with meat . remove meat and reserve marinade . thread each slice lengthwise onto a bamboo skewer , in an interlacing fashion . broil ribbons or grill on a hot barbecue for 3-4 minutes per side , basting with reserved marinade .\n",
      "< in a large skillet , heat the oil in a large skillet . add the meat and cook for 2 minutes . add the meat , ginger , garlic , ginger , garlic , ginger , garlic , ginger , and salt . cover and simmer for 2 hours . strain the meat and add the meat . add the meat and cook for 2 minutes . add the rice , ginger , and red pepper . simmer for 2 hours . strain the meat and add the meat , ginger , carrots , and green onions . add the meat and cook for 2 minutes . add the meat and cook for 2 minutes . add the meat and cook for 2 minutes . add the rice , chili powder , and salt . bring to a boil . reduce heat and simmer for 2 hours . strain the\n",
      "\n",
      "> 1 1/2 c  cooked rice [short grain makes it creamier] 2 c  milk, divided 1/3 c  sugar 1/4 ts salt 1    egg, beaten 2/3 c  golden raisins 1 tb butter 1/2 ts vanilla\n",
      "= combine rice , 11/2 c milk , sugar , and salt in heavy saucepan . cook over medium heat , stirring occasionally , until thick and creamy , 15-20 min . blend remaining 1/2 c milk and egg . stir into rice mixture . add raisins . cook 2 min , stirring occasionally . add butter and vanilla . spoon into serving dishes . sprinkle with nutmeg or cinnamon .\n",
      "< combine butter , sugar , salt , and pepper . add sifted dry ingredients . add to the egg mixture . cover and simmer for 2 minutes . add the raisins , lemon juice , basil , and salt . cover and simmer for 2 minutes . add the sugar , beating until the mixture is smooth . add the raisins , basil , and salt . cover and simmer for 2 minutes . add the butter and cook for 2 minutes . add the butter and cook for 2 minutes . add the sugar , and stir until the mixture is dissolved . add the sugar , vanilla , and raisins . simmer for 2 minutes . add the sugar , salt , and pepper . cover and simmer for 2 minutes . add the raisins , raisins , and nuts . cover and simmer for 2 minutes .\n",
      "\n",
      "> 1 lb fresh mushroom 1 c  white vinegar 2 c  water 1/2 c  sliced carrots 1/2 c  diced celery 1/2 c  green peppers strips 1/2 c  red pepper strips 1/3 c  olive oil 1 ts oregano leaves, crushed 3/4 ts salt 1/4 ts garlic powder 1/4 ts black pepper\n",
      "= rince , pat dry and slice mushrooms . in a medium saucepan combine vinegar and mushrooms ; bring to a boil . reduce heat and simmer , covered for 2 mins . drain mushrooms ; set aside to cool . in a small saucepan bring water to boil . add carrots & celery ; return to boil . reduce heat and simmer covered for 3 mins . add red , green peppers ; cover and simmer for 3 mins or until tender . drain and set aside to cool . in medium bowl mix olive oil , oregano & salt , black pepper ; let stand 10 mins . stir in mishrooms , carrots , and other vegetables . mix well . cover and refrigerate at least 2 hrs . before serving . lucinda hollace berry , `` 300 sensational salads ''\n",
      "< in a large bowl , combine all ingredients , except the dressing . cover and refrigerate for at least 1 hour . <EOS>\n",
      "\n",
      "> 1 c  cornmeal 1/2 c  flour {i used whole wheat} 3 tb baking powder 3 tb sugar 1/2 ts salt (optional) 1    apple made into applesauce or nsweetened applesauce 3/4 c  skim milk {i used soy milk} 2    egg whites {i used egg replacer equivalent}\n",
      "= preheat oven to 425 degrees . mix all ingredients , put batter into heated pan and bake for 20 mins .\n",
      "< preheat oven to 350 degrees . mix together dry ingredients . add egg whites and milk . add egg whites and milk to make a soft dough . knead well in a greased baking dish . bake at 350 degrees for 45 minutes . <EOS>\n",
      "\n",
      "> 4 ea orange spice tea bags 1 ea cinnamon stick, (about 2 6 c  boiling water -inches) 2 c  orange juice 1/2 c  fresh cranberries 1 qt cranberry juice 1 1/2 c  grand marnier or other 2 tb honey orange liqueur\n",
      "= place the tea bags in the bottom of a large pot or kettle . cover with the boiling water and steep for 5 mins . remove and discard the tea bags . add the orange juice , cranberry juice , honey , cinnamon stick , and whole cranberries to the pot of tea . bring just to a boil , then simmer 15 mins . stir in the grand marnier and serve at once ladled into mugs .\n",
      "< combine all ingredients except ice cubes in a large bowl . add enough water to make a paste . add enough water to make a paste . add enough water to make a paste . add enough water to make a paste . add enough water to make 1/2 cup of the mixture . stir in the orange juice . pour into prepared pan . bake at 350 degrees for 45 minutes . <EOS>\n",
      "\n",
      "> 1 lg bottle gallo burgundy 1/2    bottle light rum (\"small bottle\") 4    shots cointreau 6    shots vodka 4    shots grand marnier 1 l  seltzer 1    pineapple (sliced) 4    tart apples (granny smith) (sliced) 6    oranges (sliced) 1 qt applejuice or pineapple juice 1 qt orange juice 2    limes (sliced) sugar (to taste)\n",
      "= slice fruit and place on bottom of large container/bucket -lrb- with attachable lid -rrb- . add juice . add alcohol and sugar . just before serving add ice and seltzer . keep refrigerated and covered . best when made a day or two in advance . enjoy !\n",
      "< combine all ingredients in a large bowl . toss well . cover and refrigerate at least 1 hour before serving . <EOS>\n",
      "\n",
      "> 2 x  chicken cutlets 2 ts tobasco sauce (to taste) 2 tb sesame oil 1 x  flour 2 ts sugar\n",
      "= marinate chicken cutlets in sesame oil , sugar , and tobasco sauce . dredge in flour . spray med skillet with pam . place chicken cutlets in hot pan , and brown slightly on both sides .\n",
      "< cut chicken into strips . cut in half . place in a shallow roasting pan . cover and cook on high for 2 to 3 hours . remove chicken and cut into strips . add chicken , mushrooms , and chicken , and stir-fry for 2 minutes . add flour and stir until well blended . add chicken and mushrooms . pour into a greased shallow pan . bake at 350 degrees f. for 25 to 30 minutes . <EOS>\n",
      "\n"
     ]
    }
   ],
   "source": [
    "evaluateRandomly_attn(baseline2_encoder, baseline2_decoder)"
   ]
  },
  {
   "cell_type": "markdown",
   "id": "b93235ea-8dcd-462d-945e-712849d4c172",
   "metadata": {},
   "source": [
    "**Extension 1: Data Preprocessing**"
   ]
  },
  {
   "cell_type": "code",
   "execution_count": 256,
   "id": "6ec7e651-b192-4a8a-b43f-e54f3ae5d236",
   "metadata": {},
   "outputs": [],
   "source": [
    "# Recipe stopwords that commonly appear that do not represent any ingredients (used to preprocess it)\n",
    "# This list was generated by ChatGPT3.5 + some of the words are added based on my experiments\n",
    "recipe_stopwords = [\n",
    "    'preheat', 'oven', 'bake', 'baking', 'baked', 'bakes',\n",
    "    'minutes', 'hour', 'hours', 'minutes', 'second', 'seconds',\n",
    "    'degrees', 'celsius', 'fahrenheit',\n",
    "    'medium', 'low', 'high', 'heat','cold', 'stir', 'simmer', 'boil', 'cook', 'grill',\n",
    "    'whisk', 'mix', 'combine', 'fold', 'blend', 'puree', 'chop', 'dice', 'slice',\n",
    "    'peel', 'mince', 'drizzle', 'sprinkle', 'garnish', 'marinate', 'brush',\n",
    "    'refrigerate', 'chill', 'cool', 'freeze', 'thaw', 'room', 'temperature',\n",
    "    'bowl', 'plate', 'pan', 'pot', 'skillet', 'saucepan', 'baking', 'dish',\n",
    "    'tray', 'oven', 'sheet', 'foil', 'parchment', 'paper', 'whisk', 'spatula',\n",
    "    'spoon', 'knife', 'cutting', 'board', 'tongs', 'fork', 'mixer', 'blender',\n",
    "    'food', 'processor', 'grater', 'peeler', 'sifter', 'rolling', 'pin', 'oven', \n",
    "    'mitts', 'rack', 'cooling', 'wire', 'timer', 'timer', 'recipe', 'directions', \n",
    "    'ingredients', 'instructions', 'method', 'step', 'steps', 'serve', 'serving', \n",
    "    'makes', 'yield', 'yield:', 'yields', 'size', 'number', 'portion', 'portions', \n",
    "    'note', 'notes', 'tip', 'tips', 'variations', 'version', 'versions', 'credit', \n",
    "    'credits', 'source', 'sources', 'adapted', 'adaptation', 'adaptations', 'based', \n",
    "    'courtesy', 'original', 'author', 'authors', 'website', 'link', 'links', 'video', \n",
    "    'videos', 'facebook', 'instagram', 'twitter', 'pinterest', 'youtube', 'email', \n",
    "    'subscribe', 'rss', 'save', 'print', 'rate', 'comment', 'share', 'subscribe', \n",
    "    'like', 'love', 'follow', 'pin', 'pinning', 'tweet', 'email', 'yum', 'instagram', \n",
    "    'snapchat', 'facebook', 'twitter', 'pinterest', 'linkedin', 'reddit', 'tumblr', \n",
    "    'whatsapp', 'telegram', 'messenger', 'sms', 'message', 'chat', 'print', 'kitchen', \n",
    "    'tip', 'tips', 'trick', 'tricks', 'hack', 'hacks', 'kitchen', 'kitchens', 'home', \n",
    "    'homes', 'family', 'families', 'friend', 'friends', 'guest', 'guests', 'love', \n",
    "    'lover', 'lovers', 'party', 'parties', 'holiday', 'holidays', 'season', 'seasons', \n",
    "    'occasion', 'occasions', 'day', 'days', 'night', 'nights', 'morning', 'mornings', \n",
    "    'afternoon', 'afternoons', 'evening', 'evenings', 'week', 'weeks', 'month', 'months', \n",
    "    'year', 'years', 'today', 'tomorrow', 'yesterday', 'fresh', 'from', 'the', 'store', \n",
    "    'grocery', 'groceries', 'shop', 'shopping', 'shopping', 'list', 'lists', 'order', \n",
    "    'orders', 'online', 'offline', 'local', 'farm', 'market', 'markets', 'buy', 'purchase', \n",
    "    'sell', 'sold', 'sold', 'out', 'brand', 'brands', 'company', 'companies', 'product', \n",
    "    'products', 'item', 'items', 'stock', 'store', 'stores', 'store', 'cupboard', 'pantry', \n",
    "    'cabinet', 'cabinets', 'shelf', 'shelves', 'freezer', 'fridge', 'refrigerator', 'appliance', \n",
    "    'appliances', 'equipment', 'accessory', 'accessories', 'tool', 'tools', 'utensil', 'utensils', \n",
    "    'gadget', 'gadgets', 'ingredient', 'ingredients', 'shop', 'shopping', 'store', 'supermarket', \n",
    "    'grocery', 'groceries', 'product', 'products', 'item', 'items', 'market', 'markets', 'local', \n",
    "    'online', 'organic', 'fresh', 'best', 'quality', 'brand', 'brands', 'company', 'companies', \n",
    "    'sale', 'discount', 'offer', 'deal', 'special', 'new', 'hot', 'trend', 'trending', 'popular', \n",
    "    'favorite', 'essential', 'basic', 'must', 'need', 'want', 'buy', 'purchase', 'sell', 'sold', \n",
    "    'stock', 'top', 'high', 'low', 'price', 'cost', 'cheap', 'expensive', 'affordable', 'budget', \n",
    "    'value', 'range', 'selection', 'variety', 'choice', 'option', 'flavor', 'flavors', 'taste', \n",
    "    'tastes', 'texture', 'textures', 'aroma', 'aromas', 'color', 'colors', 'colour', 'colours', \n",
    "    'style', 'styles', 'type', 'types', 'kind', 'kinds', 'size', 'sizes', 'amount', 'portion', \n",
    "    'portions', 'quantity', 'measure', 'measures', 'weight', 'volume', 'piece', 'pieces', 'bit', \n",
    "    'bits', 'part', 'parts', 'whole', 'half', 'quarter', 'third', 'eighth', 'sixteenth', 'tablespoon', \n",
    "    'tablespoons', 'teaspoon', 'teaspoons', 'cup', 'cups', 'pint', 'pints', 'quart', 'quarts', \n",
    "    'gallon', 'gallons', 'ounce', 'ounces', 'pound', 'pounds', 'gram', 'grams', 'kilogram', \n",
    "    'kilograms', 'liter', 'liters', 'milliliter', 'milliliters', 'inch', 'inches', 'foot', \n",
    "    'feet', 'yard', 'yards', 'meter', 'meters', 'centimeter', 'centimeters', 'kilometer', \n",
    "    'kilometers', 'mile', 'miles', 'small', 'medium', 'large', 'size', 'sized', 'big', 'bigger', \n",
    "    'biggest', 'tiny', 'tinier', 'tiniest', 'mini', 'minis', 'miniature', 'micro', 'miniature', \n",
    "    'average', 'normal', 'standard', 'fine', 'finest', 'finer', 'best', 'better', 'worst', \n",
    "    'least', 'most', 'more', 'fewer', 'few', 'lots', 'plenty', 'ton', 'tons', 'great', 'greater', \n",
    "    'greatest', 'awesome', 'fantastic', 'amazing', 'good', 'better', 'best', 'excellent', \n",
    "    'wonderful', 'remarkable', 'outstanding', 'brilliant', 'superb', 'fabulous', 'terrific', \n",
    "    'exceptional', 'phenomenal', 'splendid', 'extraordinary', 'magnificent', 'top-notch', \n",
    "    'first-rate', 'high-quality', 'premium', 'deluxe', 'luxury', 'high-end', 'superior', \n",
    "    'supreme', 'ultimate', 'divine', 'heavenly', 'fab', 'fancy', 'lux', 'lush', 'posh', \n",
    "    'swanky', 'chic', 'classy', 'elegant', 'fashionable', 'stylish', 'trendy', 'up-to-date', \n",
    "    'hip', 'cool', 'trendsetting', 'cutting-edge', 'innovative', 'forward-thinking', \n",
    "    'progressive', 'modern', 'contemporary', 'sleek', 'chic', 'tasteful', 'sophisticated', \n",
    "    'cultured', 'polished', 'refined', 'classic', 'timeless', 'nostalgic', 'vintage','medium', \n",
    "    'large', 'small','chopped','lb','finely','thinly','desired','lg','md','each','or','can','delicious','bout','for','as']\n"
   ]
  },
  {
   "cell_type": "code",
   "execution_count": 257,
   "id": "9dc6c726-d186-4327-b401-9b31865fdc83",
   "metadata": {},
   "outputs": [],
   "source": [
    "MAX_LENGTH = 150\n",
    "import re\n",
    "def clean_text(text,stopwords,ingredients = False):\n",
    "    # Define regular expression pattern to match numeric values and units\n",
    "    amount_pattern = r'\\b[\\d.]+(?:\\s*(?:g|kg|l|ml|tsp|tbsp|cup|pint|quart|oz|c|tb|ts|b|ea|pk|t|can|cups|cn|ounce)\\b)?'\n",
    "    # Remove numeric values and units from the text\n",
    "    text = re.sub(amount_pattern, '', text)\n",
    "\n",
    "    # Remove irrelevant information like advertisements, website navigation elements, etc.\n",
    "    # Assuming such information may be enclosed within angle brackets or parentheses\n",
    "    bracket_pattern = r'<[^>]*>|(\\([^)]*\\))'\n",
    "    remove_words = r'-rrb-|-lrb-'\n",
    "    # Remove text inside angle brackets and parentheses\n",
    "    cleaned_text = re.sub(bracket_pattern, '', text)\n",
    "    cleaned_text = re.sub(remove_words, '', cleaned_text)\n",
    "    # Create a regex pattern to match the specified stopwords surrounded by spaces\n",
    "    if ingredients:\n",
    "        pattern = r'\\b(?:' + '|'.join(re.escape(word) for word in stopwords) + r')\\b'\n",
    "        cleaned_text = re.sub(pattern, '', cleaned_text)\n",
    "\n",
    "    # Handle missing data and standardize text format\n",
    "    cleaned_text = cleaned_text.lower()  # Convert text to lowercase\n",
    "    cleaned_text = re.sub(r'[^\\w\\s]', '', cleaned_text)  # Remove punctuation\n",
    "    cleaned_text = re.sub(r'\\s+', ' ', cleaned_text).strip()  # Remove extra whitespaces\n",
    "    return cleaned_text"
   ]
  },
  {
   "cell_type": "code",
   "execution_count": 258,
   "id": "ae6270e0-2f7a-499d-ba51-90e8050eff3c",
   "metadata": {},
   "outputs": [],
   "source": [
    "def filterPair(p):\n",
    "    return len(p[0].split(' ')) < MAX_LENGTH and \\\n",
    "        len(p[1].split(' ')) < MAX_LENGTH\n",
    "\n",
    "def filterPairs(pairs):\n",
    "    return [pair for pair in pairs if filterPair(pair)]\n",
    "\n",
    "def average_length (pairs):\n",
    "    ing_len = []\n",
    "    rec_len = []\n",
    "    for pair in pairs:\n",
    "        ing_len.append(len(pair[0]))\n",
    "        \n",
    "        \n",
    "\n",
    "def filterPairs_test(pairs):\n",
    "    filtered_pairs = []\n",
    "    saved_indices = []\n",
    "    for i, pair in enumerate(pairs):\n",
    "        if filterPair(pair):\n",
    "            filtered_pairs.append(pair)\n",
    "            saved_indices.append(i)\n",
    "    return filtered_pairs, saved_indices"
   ]
  },
  {
   "cell_type": "code",
   "execution_count": 254,
   "id": "9c5d80f6-18e0-4031-8485-69ac412a6d26",
   "metadata": {},
   "outputs": [
    {
     "name": "stdout",
     "output_type": "stream",
     "text": [
      "Read 101340 sentence pairs\n",
      "Trimmed to 79894 sentence train pairs\n",
      "Trimmed to 629 sentence test pairs\n",
      "Trimmed to 644 sentence dev pairs\n",
      "Counting words...\n",
      "Counted words:\n",
      "Ingredients 16435\n",
      "Recipe 31230\n",
      "['flour salt clarified butter melted yogurt water filling oil for frying', 'sift together flour and salt add melted butter yogurt and water to make a stiff dough knead until smooth and elastic roll out very thin on floured board cut into to inch circles place a small amount of filling in center leaving edges free fold in half and seal edges heat oil and fry curry puffs until golden drain and serve with mint or coriander leaf chutney']\n"
     ]
    }
   ],
   "source": [
    "def prepareData(lang1, lang2, reverse=False):\n",
    "    input_lang, output_lang, train_pairs, valid_pairs, test_pairs = readLangs(reverse)\n",
    "    print(\"Read %s sentence pairs\" % len(train_pairs))\n",
    "    train_pairs = filterPairs(train_pairs)\n",
    "    valid_pairs = filterPairs(valid_pairs)\n",
    "    test_pairs, test_indices = filterPairs_test(test_pairs)\n",
    "    print(\"Trimmed to %s sentence train pairs\" % len(train_pairs))\n",
    "    print(\"Trimmed to %s sentence test pairs\" % len(test_pairs))\n",
    "    print(\"Trimmed to %s sentence dev pairs\" % len(valid_pairs))\n",
    "    print(\"Counting words...\")\n",
    "    for pair in train_pairs:\n",
    "        pair[0] = clean_text(pair[0],recipe_stopwords,True)\n",
    "        pair[1] = clean_text(pair[1],recipe_stopwords,False)\n",
    "        input_lang.addSentence(pair[0])\n",
    "        output_lang.addSentence(pair[1])\n",
    "    for pair in valid_pairs:\n",
    "        pair[0] = clean_text(pair[0],recipe_stopwords,True)\n",
    "        pair[1] = clean_text(pair[1],recipe_stopwords,False)\n",
    "        input_lang.addSentence(pair[0])\n",
    "        output_lang.addSentence(pair[1])\n",
    "    for pair in test_pairs:\n",
    "        pair[0] = clean_text(pair[0],recipe_stopwords,True)\n",
    "        pair[1] = clean_text(pair[1],recipe_stopwords,False)\n",
    "        input_lang.addSentence(pair[0])\n",
    "        output_lang.addSentence(pair[1])\n",
    "    print(\"Counted words:\")\n",
    "    print(input_lang.name, input_lang.n_words)\n",
    "    print(output_lang.name, output_lang.n_words)\n",
    "    return input_lang, output_lang, train_pairs, valid_pairs, test_pairs, test_indices\n",
    "\n",
    "input_lang, output_lang, train_pairs, valid_pairs, test_pairs ,test_indices= prepareData('ingredients', 'recipe', False)\n",
    "print(random.choice(train_pairs))"
   ]
  },
  {
   "cell_type": "code",
   "execution_count": 225,
   "id": "d7112d21-9cfc-4bcd-a2bf-2d46b78f0413",
   "metadata": {},
   "outputs": [
    {
     "name": "stdout",
     "output_type": "stream",
     "text": [
      "3m 13s (- 29m 0s) (1000 10%) Train Loss: 5.4755 | Validation Loss: 6.9626\n",
      "6m 18s (- 25m 13s) (2000 20%) Train Loss: 4.5847 | Validation Loss: 6.7204\n",
      "9m 21s (- 21m 51s) (3000 30%) Train Loss: 4.3709 | Validation Loss: 6.5502\n",
      "12m 22s (- 18m 33s) (4000 40%) Train Loss: 4.2365 | Validation Loss: 6.3733\n",
      "15m 24s (- 15m 24s) (5000 50%) Train Loss: 4.1431 | Validation Loss: 6.5894\n",
      "18m 36s (- 12m 24s) (6000 60%) Train Loss: 4.1167 | Validation Loss: 6.8025\n",
      "21m 42s (- 9m 18s) (7000 70%) Train Loss: 4.0555 | Validation Loss: 6.7621\n",
      "24m 43s (- 6m 10s) (8000 80%) Train Loss: 3.9978 | Validation Loss: 6.4334\n",
      "27m 50s (- 3m 5s) (9000 90%) Train Loss: 4.0285 | Validation Loss: 6.7790\n",
      "30m 56s (- 0m 0s) (10000 100%) Train Loss: 3.9457 | Validation Loss: 6.9520\n"
     ]
    }
   ],
   "source": [
    "hidden_size = 256\n",
    "n_iter = 10000\n",
    "plot_every = 100\n",
    "print_every = 100\n",
    "extension1_encoder = EncoderRNN(input_lang.n_words, hidden_size).to(device)\n",
    "extension1_decoder = AttnDecoderRNN(hidden_size, output_lang.n_words, dropout_p=0.1).to(device)\n",
    "plot_extension1_train_losses,plot_extension1_valid_losses = trainIters_attn(extension1_encoder, extension1_decoder, 10000, print_every=1000)"
   ]
  },
  {
   "cell_type": "code",
   "execution_count": 226,
   "id": "91d6132d-11ba-4093-9ece-9ec5a021e628",
   "metadata": {},
   "outputs": [
    {
     "data": {
      "text/plain": [
       "<Figure size 640x480 with 0 Axes>"
      ]
     },
     "metadata": {},
     "output_type": "display_data"
    },
    {
     "data": {
      "image/png": "[encoded data removed]",
      "text/plain": [
       "<Figure size 640x480 with 1 Axes>"
      ]
     },
     "metadata": {},
     "output_type": "display_data"
    }
   ],
   "source": [
    "showPlot('Extension 1',plot_extension1_train_losses,plot_extension1_valid_losses,n_iter,plot_every)"
   ]
  },
  {
   "cell_type": "code",
   "execution_count": 227,
   "id": "a6a5a192-5b6e-4cea-9923-6d7ffab74a21",
   "metadata": {},
   "outputs": [
    {
     "name": "stdout",
     "output_type": "stream",
     "text": [
      "> coarsely sweet onion such as vidalia cold chicken broth all fat removed thoroughly ripe avocados buttermilk dr almond extract pn of sugar salt to taste jalapeno peppers seeds and veins removed cut into very dice to tablespoons minced cilantro crisp tortilla chips to accompany\n",
      "= place the onions in a blender or processor and add of the puree as fine as possible peel and chunk in of the avocados reserving the remaining half for garnish puree again adding broth as necessary transfer the soup to a bowl add any remaining broth the buttermilk to the blender and whir briefly to pick as much avocado as possible add to the soup along with the extract and sugar if stir well taste and adjust the salt peel the remaining half avocado cut into very thin slices divide soupamong six serving bowls and top with the sliced avocado and coriander serve accompanied by the tortilla chips\n",
      "< in a saucepan combine all ingredients except the chicken and bring to a boil reduce heat and simmer for minutes or until the chicken is tender and the liquid is absorbed and the liquid is absorbed remove from the heat and add the chicken broth and bring to a boil reduce heat and simmer for minutes or until the chicken is tender and the liquid is absorbed and the liquid is absorbed remove from heat and allow to cool to room temperature before serving <EOS>\n",
      "\n",
      "> turkey breast fillets dry marsala dried basil squid for sandy dried oregano pn of pepper allpurpose flour fresh parsley butter\n",
      "= lay each turkey slice between pieces of waxed paper and pound thin with flat side of a knife dip into a mixture of basil oregano and flour heat butter to sizzling in skillet saute turkey breasts until golden brown to minutes on each side add marsala stock and salt and pepper cook uncovered about minutes turning once pour pan juices over garnish with parsley and serve immediately serves\n",
      "< melt butter in a skillet over heat add onion and cook until turkey is tender stir in remaining ingredients except parsley and cook until turkey is thick and bubbly add remaining ingredients except parsley and cook until mixture is thick and bubbly add remaining ingredients and cook until thick and bubbly add sauce and cook until thick and clear add sauce and cook until mixture is thick and bubbly add remaining ingredients and cook until mixture is thick and bubbly stir in remaining ingredients except parsley and cook until mixture is thick and bubbly add remaining ingredients and cook until mixture is smooth <EOS>\n",
      "\n",
      "> fresh mint olive oil lemon juice ground cumin garlic clove minced lg zucchini lg sweet redyellow pepper sm red onion pn salt pn pepper\n",
      "= in bowl whisk together mint olive oil lemon juice cumin and garlic set aside cut zucchini red pepper and onion into inch chunks thread chunks onto eight inch presoaked wooden skewers place on greased grill over high heat cover and cook turning and basting often with sauce for about minutes or until tender season with salt and pepper\n",
      "< cut the kidneys lengthwise into pieces and dice the olive oil in a bowl add the olive oil and lemon juice and pepper to taste add the olive oil and lemon juice to the mixture mixture toss well add the olive oil and lemon juice and heat to boiling point and simmer for minutes or until the mixture is thick and smooth stir in the mint leaves and salt and pepper to taste serve immediately <EOS>\n",
      "\n",
      "> minced onions chicken fat ground cooked meat cooked rice egg salt pepper\n",
      "= lightly brown the onions in the fat add the meat rice egg salt and pepper mixing until smooth place on dough\n",
      "< cook onions in butter until tender drain and reserve liquid evaporates add water to cover and cook over low heat until tender about minutes add chicken broth and salt and pepper cook over low heat until thickened and bubbly stir in rice and cook until thick and smooth are tender stir in sour cream and salt and pepper to taste serve immediately <EOS>\n",
      "\n",
      "> lean ground beef fresh bread crumbs md onion hunts tomato sauce egg salt pepper water brown sugar packed prepared mustard vinegar\n",
      "= in a bowl lightly mix the beef bread crumbs onion of the can of hunt s tomato sauce egg salt and pepper shape into a loaf in a shallow baking dish combine remaining ingredients and pour over the loaf bake at f for hours baste loaf several times\n",
      "< mix all ingredients together and allow to stand for to hours before serving <EOS>\n",
      "\n",
      "> brie cheese blueberries onion fresh gingerroot grated brown sugar packed cider vinegar cornstarch salt cinnamon stick\n",
      "= in saucepan combine all chutney ingredients mix well bring to a boil over heat stirring frequently boil minute remove cinnamon stick cover refrigerate minutes or until completely cooled heat oven to place cheese on ungreased ookie sheet bake at for minutes or until softened place on serving plate top with cold chutney serve as spread for crackers place cheese on microsafe serving plate microwave on high for to minutes or until wrm rotating plate turn once halfway through cooking top with cold chutney\n",
      "< in a saucepan combine the cornstarch and sugar bring to a boil reduce heat and simmer covered minutes or until the cheese is melted and tender add the remaining ingredients and cook until the mixture is thick and bubbly add the sauce and simmer for minutes longer serve with hot cooked rice <EOS>\n",
      "\n",
      "> carrots peeled or scrubbed and chicken stock salt md potato onion cloves garlic walnuts yogurt fresh ginger root sherry\n",
      "= carrot soup place carrots stock salt and potato in a saucepan bring to a boil cover and simmer to minutes let cool to room temperature saute onions and garlic in a little butter or margarine until the onions are clear puree everything in the food processor until smooth return to the kettle add the nuts and then whisk in the yogurt heat very slowly add the sherry and heat a little longer courtesy of shareware recipe clipper\n",
      "< in a bowl combine all ingredients except the liquids and mix well pour over the chicken cover and refrigerate for hours or overnight serve with fresh vegetables <EOS>\n",
      "\n",
      "> garlic clove crushed tofu firm drained water lemon juice fresh soy sauce tahini dill fresh maple syrup fresh ground black pepper\n",
      "= place all the ingredients together in a food processor or blender process until smooth and creamy\n",
      "< in a bowl combine the soy sauce and water in a bowl mix well pour into a mold and chill until firm <EOS>\n",
      "\n",
      "> pork tenderloin trimmed of all fat and sinew bn basil scallions peanut oil cloves garlic hot red or green chiles sliced fish sauce soy sauce sugar chicken stock or water\n",
      "= slice the pork across the grain wash dry and stem the basil mince the white part of the scallion cut the green part into inch pieces heat the wok over a high flame swirl in the oil and heat almost to smoking add the garlic chilies and white part of scallions and cook for seconds add the pork and stir fry for minute add the fish sauce soy sauce sugar stock and green part of scallions and bring mixture to a boil stir in the basil and cook for seconds or until the leaves are wilted and the pork is cooked serve at once with rice or noodles fragrant dish noe of the glories of thai street food\n",
      "< in a bowl combine the soy sauce sugar and pepper add the chicken stock and the stock mix well add the chicken stock and cook for minutes or until the mixture is thick and bubbly add the chicken stock and cook until the mixture is thick and bubbly add the sauce and water and cook until it is tender about minutes add the chicken stock and cook the rice until it is dissolved add the chicken stock and cook for minutes or until the sauce is tender stir in the cornstarch and cook until it is thick and bubbly add the sauce and cook until it is thick and smooth add the sauce and cook until it is thick and smooth add the sauce and cook until it is thick about minutes add the chicken stock and simmer for minutes add the chicken stock and simmer for minutes add the\n",
      "\n",
      "> green apples see note candied ginger root juice of limes calvados apple brandy pt apple juice juice of orange white wine riesling golden raisins cream plain yogurt fresh mint each cumin allspice nutme\n",
      "= remove apples from water and place in quart stock pot with half the reisling half the calvados and all remaining ingredients except the cream and yogurt bring to a boil and reduce to a simmer cook for minutes remove from heat and force contents of pot through strainer puree ingredients that remain in strainer and return to the liquid chill soup over ice whisk in yogurt and cream and serve in iced glasses\n",
      "< in a bowl combine the yogurt and lemon juice and puree to taste add the yogurt and puree to the puree and puree the yogurt and puree the yogurt and puree until smooth and puree in blender puree the yogurt and puree in a blender puree puree in a blender puree until smooth add the yogurt and puree to the puree and puree the mixture in a blender puree the yogurt and puree in a blender puree the puree until thick add the yogurt and puree to the puree and puree the yogurt and puree until smooth add the yogurt and puree to the mixture puree the yogurt and puree in a blender puree the yogurt and puree until thick add the yogurt and puree to the mixture puree the yogurt and puree in blender puree puree the yogurt and puree in a blender puree until thick add the yogurt\n",
      "\n"
     ]
    }
   ],
   "source": [
    "evaluateRandomly_attn(extension1_encoder, extension1_decoder)"
   ]
  },
  {
   "cell_type": "markdown",
   "id": "f4fac582-4b7a-4825-a9ec-54624622a757",
   "metadata": {},
   "source": [
    "**Extension 2: Stacking Layers**"
   ]
  },
  {
   "cell_type": "code",
   "execution_count": 222,
   "id": "7e7735bd-e1b0-4f65-8c60-6b92c7c844cf",
   "metadata": {},
   "outputs": [],
   "source": [
    "class EncoderRNN_Layers(nn.Module):\n",
    "    def __init__(self, input_size, hidden_size, num_layers=1):\n",
    "        super(EncoderRNN_Layers, self).__init__()\n",
    "        self.hidden_size = hidden_size\n",
    "        self.num_layers = num_layers\n",
    "        self.embedding = nn.Embedding(input_size, hidden_size)\n",
    "        self.gru = nn.GRU(hidden_size, hidden_size, num_layers=num_layers)\n",
    "\n",
    "    def forward(self, input, hidden):\n",
    "        embedded = self.embedding(input).view(1, 1, -1)\n",
    "        output = embedded\n",
    "        output, hidden = self.gru(output, hidden)\n",
    "        return output, hidden\n",
    "\n",
    "    def initHidden(self):\n",
    "        return torch.zeros(self.num_layers, 1, self.hidden_size, device=device)\n"
   ]
  },
  {
   "cell_type": "code",
   "execution_count": 223,
   "id": "49b5c256-36c8-4a1a-a8f5-186241e6fabc",
   "metadata": {},
   "outputs": [],
   "source": [
    "class AttnDecoderRNN_Layers(nn.Module):\n",
    "    def __init__(self, hidden_size, output_size,num_layers, dropout_p=0.1, max_length=200):\n",
    "        super(AttnDecoderRNN_Layers, self).__init__()\n",
    "        self.hidden_size = hidden_size\n",
    "        self.output_size = output_size\n",
    "        self.dropout_p = dropout_p\n",
    "        self.max_length = max_length\n",
    "        self.num_layers = num_layers\n",
    "\n",
    "        self.embedding = nn.Embedding(self.output_size, self.hidden_size)\n",
    "        self.dropout = nn.Dropout(self.dropout_p)\n",
    "        self.gru = nn.GRU(self.hidden_size, self.hidden_size, num_layers=self.num_layers)\n",
    "        self.out = nn.Linear(self.hidden_size*2, self.output_size)\n",
    "\n",
    "    def forward(self, input, hidden, encoder_outputs):\n",
    "        embedded = self.embedding(input).view(1, 1, -1)\n",
    "        embedded = self.dropout(embedded)\n",
    "        _, hidden = self.gru(embedded, hidden)\n",
    "        attn_weights = F.softmax(torch.bmm(hidden[-1].unsqueeze(0), encoder_outputs.T.unsqueeze(0)),dim=-1)\n",
    "        attn_output = torch.bmm(attn_weights, encoder_outputs.unsqueeze(0))\n",
    "\n",
    "        concat_output = torch.cat((attn_output[0], hidden[0]), 1)\n",
    "\n",
    "        output = F.log_softmax(self.out(concat_output), dim=1)\n",
    "        return output, hidden, attn_weights\n",
    "\n",
    "    def initHidden(self):\n",
    "        return torch.zeros(self.num_layers, 1, self.hidden_size, device=device)"
   ]
  },
  {
   "cell_type": "code",
   "execution_count": 228,
   "id": "4f1ea619-0229-4eb6-b10b-a41c8db578f7",
   "metadata": {},
   "outputs": [
    {
     "ename": "KeyboardInterrupt",
     "evalue": "",
     "output_type": "error",
     "traceback": [
      "\u001b[1;31m---------------------------------------------------------------------------\u001b[0m",
      "\u001b[1;31mKeyboardInterrupt\u001b[0m                         Traceback (most recent call last)",
      "Cell \u001b[1;32mIn[228], line 7\u001b[0m\n\u001b[0;32m      5\u001b[0m extension2_encoder \u001b[38;5;241m=\u001b[39m EncoderRNN_Layers(input_lang\u001b[38;5;241m.\u001b[39mn_words, hidden_size, num_layers\u001b[38;5;241m=\u001b[39m\u001b[38;5;241m2\u001b[39m)\u001b[38;5;241m.\u001b[39mto(device)\n\u001b[0;32m      6\u001b[0m extension2_decoder \u001b[38;5;241m=\u001b[39m AttnDecoderRNN_Layers(hidden_size, output_lang\u001b[38;5;241m.\u001b[39mn_words, num_layers\u001b[38;5;241m=\u001b[39m\u001b[38;5;241m2\u001b[39m, dropout_p\u001b[38;5;241m=\u001b[39m\u001b[38;5;241m0.1\u001b[39m)\u001b[38;5;241m.\u001b[39mto(device)\n\u001b[1;32m----> 7\u001b[0m plot_extension2_train_losses,plot_extension2_valid_losses \u001b[38;5;241m=\u001b[39m trainIters_attn(extension2_encoder, extension2_decoder, \u001b[38;5;241m10000\u001b[39m, print_every\u001b[38;5;241m=\u001b[39m\u001b[38;5;241m1000\u001b[39m)\n",
      "Cell \u001b[1;32mIn[92], line 27\u001b[0m, in \u001b[0;36mtrainIters_attn\u001b[1;34m(encoder, decoder, n_iters, print_every, plot_every, learning_rate)\u001b[0m\n\u001b[0;32m     24\u001b[0m valid_input_tensor \u001b[38;5;241m=\u001b[39m valid_pair[\u001b[38;5;241m0\u001b[39m]\n\u001b[0;32m     25\u001b[0m valid_target_tensor \u001b[38;5;241m=\u001b[39m valid_pair[\u001b[38;5;241m1\u001b[39m]\n\u001b[1;32m---> 27\u001b[0m train_loss \u001b[38;5;241m=\u001b[39m train_attn(training_input_tensor, training_target_tensor, encoder,\n\u001b[0;32m     28\u001b[0m              decoder, encoder_optimizer, decoder_optimizer, criterion)\n\u001b[0;32m     29\u001b[0m print_train_loss_total \u001b[38;5;241m+\u001b[39m\u001b[38;5;241m=\u001b[39m train_loss\n\u001b[0;32m     30\u001b[0m plot_train_loss_total \u001b[38;5;241m+\u001b[39m\u001b[38;5;241m=\u001b[39m train_loss\n",
      "Cell \u001b[1;32mIn[89], line 48\u001b[0m, in \u001b[0;36mtrain_attn\u001b[1;34m(input_tensor, target_tensor, encoder, decoder, encoder_optimizer, decoder_optimizer, criterion, max_length)\u001b[0m\n\u001b[0;32m     45\u001b[0m         \u001b[38;5;28;01mif\u001b[39;00m decoder_input\u001b[38;5;241m.\u001b[39mitem() \u001b[38;5;241m==\u001b[39m EOS_token:\n\u001b[0;32m     46\u001b[0m             \u001b[38;5;28;01mbreak\u001b[39;00m\n\u001b[1;32m---> 48\u001b[0m loss\u001b[38;5;241m.\u001b[39mbackward()\n\u001b[0;32m     50\u001b[0m encoder_optimizer\u001b[38;5;241m.\u001b[39mstep()\n\u001b[0;32m     51\u001b[0m decoder_optimizer\u001b[38;5;241m.\u001b[39mstep()\n",
      "File \u001b[1;32m~\\anaconda3\\envs\\fit5217\\Lib\\site-packages\\torch\\_tensor.py:525\u001b[0m, in \u001b[0;36mTensor.backward\u001b[1;34m(self, gradient, retain_graph, create_graph, inputs)\u001b[0m\n\u001b[0;32m    515\u001b[0m \u001b[38;5;28;01mif\u001b[39;00m has_torch_function_unary(\u001b[38;5;28mself\u001b[39m):\n\u001b[0;32m    516\u001b[0m     \u001b[38;5;28;01mreturn\u001b[39;00m handle_torch_function(\n\u001b[0;32m    517\u001b[0m         Tensor\u001b[38;5;241m.\u001b[39mbackward,\n\u001b[0;32m    518\u001b[0m         (\u001b[38;5;28mself\u001b[39m,),\n\u001b[1;32m   (...)\u001b[0m\n\u001b[0;32m    523\u001b[0m         inputs\u001b[38;5;241m=\u001b[39minputs,\n\u001b[0;32m    524\u001b[0m     )\n\u001b[1;32m--> 525\u001b[0m torch\u001b[38;5;241m.\u001b[39mautograd\u001b[38;5;241m.\u001b[39mbackward(\n\u001b[0;32m    526\u001b[0m     \u001b[38;5;28mself\u001b[39m, gradient, retain_graph, create_graph, inputs\u001b[38;5;241m=\u001b[39minputs\n\u001b[0;32m    527\u001b[0m )\n",
      "File \u001b[1;32m~\\anaconda3\\envs\\fit5217\\Lib\\site-packages\\torch\\autograd\\__init__.py:267\u001b[0m, in \u001b[0;36mbackward\u001b[1;34m(tensors, grad_tensors, retain_graph, create_graph, grad_variables, inputs)\u001b[0m\n\u001b[0;32m    262\u001b[0m     retain_graph \u001b[38;5;241m=\u001b[39m create_graph\n\u001b[0;32m    264\u001b[0m \u001b[38;5;66;03m# The reason we repeat the same comment below is that\u001b[39;00m\n\u001b[0;32m    265\u001b[0m \u001b[38;5;66;03m# some Python versions print out the first line of a multi-line function\u001b[39;00m\n\u001b[0;32m    266\u001b[0m \u001b[38;5;66;03m# calls in the traceback and some print out the last line\u001b[39;00m\n\u001b[1;32m--> 267\u001b[0m _engine_run_backward(\n\u001b[0;32m    268\u001b[0m     tensors,\n\u001b[0;32m    269\u001b[0m     grad_tensors_,\n\u001b[0;32m    270\u001b[0m     retain_graph,\n\u001b[0;32m    271\u001b[0m     create_graph,\n\u001b[0;32m    272\u001b[0m     inputs,\n\u001b[0;32m    273\u001b[0m     allow_unreachable\u001b[38;5;241m=\u001b[39m\u001b[38;5;28;01mTrue\u001b[39;00m,\n\u001b[0;32m    274\u001b[0m     accumulate_grad\u001b[38;5;241m=\u001b[39m\u001b[38;5;28;01mTrue\u001b[39;00m,\n\u001b[0;32m    275\u001b[0m )\n",
      "File \u001b[1;32m~\\anaconda3\\envs\\fit5217\\Lib\\site-packages\\torch\\autograd\\graph.py:744\u001b[0m, in \u001b[0;36m_engine_run_backward\u001b[1;34m(t_outputs, *args, **kwargs)\u001b[0m\n\u001b[0;32m    742\u001b[0m     unregister_hooks \u001b[38;5;241m=\u001b[39m _register_logging_hooks_on_whole_graph(t_outputs)\n\u001b[0;32m    743\u001b[0m \u001b[38;5;28;01mtry\u001b[39;00m:\n\u001b[1;32m--> 744\u001b[0m     \u001b[38;5;28;01mreturn\u001b[39;00m Variable\u001b[38;5;241m.\u001b[39m_execution_engine\u001b[38;5;241m.\u001b[39mrun_backward(  \u001b[38;5;66;03m# Calls into the C++ engine to run the backward pass\u001b[39;00m\n\u001b[0;32m    745\u001b[0m         t_outputs, \u001b[38;5;241m*\u001b[39margs, \u001b[38;5;241m*\u001b[39m\u001b[38;5;241m*\u001b[39mkwargs\n\u001b[0;32m    746\u001b[0m     )  \u001b[38;5;66;03m# Calls into the C++ engine to run the backward pass\u001b[39;00m\n\u001b[0;32m    747\u001b[0m \u001b[38;5;28;01mfinally\u001b[39;00m:\n\u001b[0;32m    748\u001b[0m     \u001b[38;5;28;01mif\u001b[39;00m attach_logging_hooks:\n",
      "\u001b[1;31mKeyboardInterrupt\u001b[0m: "
     ]
    }
   ],
   "source": [
    "hidden_size = 256\n",
    "n_iter = 10000\n",
    "plot_every = 100\n",
    "print_every = 100\n",
    "extension2_encoder = EncoderRNN_Layers(input_lang.n_words, hidden_size, num_layers=2).to(device)\n",
    "extension2_decoder = AttnDecoderRNN_Layers(hidden_size, output_lang.n_words, num_layers=2, dropout_p=0.1).to(device)\n",
    "plot_extension2_train_losses,plot_extension2_valid_losses = trainIters_attn(extension2_encoder, extension2_decoder, 10000, print_every=1000)"
   ]
  },
  {
   "cell_type": "code",
   "execution_count": null,
   "id": "4a7adec0-375a-4174-894e-e5e2371dcaf6",
   "metadata": {},
   "outputs": [],
   "source": [
    "# evaluateRandomly_attn(extension2_encoder, extension2_decoder)"
   ]
  },
  {
   "cell_type": "code",
   "execution_count": null,
   "id": "71dead02-2480-4b86-a40c-28a95a4d4a4c",
   "metadata": {},
   "outputs": [],
   "source": [
    "def evaluateRandomly_attn_test(encoder, decoder, n=10):\n",
    "    for i in range(n):\n",
    "        pair = random.choice(test_pairs)\n",
    "        print('>', pair[0])\n",
    "        print('=', pair[1])\n",
    "        output_words, attention= evaluate_attn(encoder, decoder, pair[0])\n",
    "        output_sentence = ' '.join(output_words)\n",
    "        print('<', output_sentence)\n",
    "        print('')"
   ]
  },
  {
   "cell_type": "code",
   "execution_count": null,
   "id": "d751dd84-af3d-4457-a6c5-300b984be6dd",
   "metadata": {},
   "outputs": [],
   "source": [
    "# evaluateRandomly_attn_test(extension2_encoder, extension2_decoder)"
   ]
  },
  {
   "cell_type": "markdown",
   "id": "c55aca6d-7b0e-4d06-b9df-a3b8867188dd",
   "metadata": {},
   "source": [
    "**Paper implementation: NN Swap baseline model implementation**"
   ]
  },
  {
   "cell_type": "code",
   "execution_count": 221,
   "id": "d12dcff5-648f-447d-a822-63f24a434234",
   "metadata": {},
   "outputs": [],
   "source": [
    "import numpy as np\n",
    "import torch\n",
    "from sklearn.neighbors import NearestNeighbors\n",
    "\n",
    "def fit_nearest_neighbor(train_pair, max_length=MAX_LENGTH):\n",
    "    # Precompute padded pairs and norms for all recipes in the dataset\n",
    "    padded_pairs = []\n",
    "    norms = []\n",
    "    for pair in train_pair:\n",
    "        # Convert sentence to tensor\n",
    "        current_pair = tensorFromSentence(input_lang, pair[0])\n",
    "        # Pad tensor\n",
    "        padding_length = max(0, max_length - len(current_pair))\n",
    "        padded_pair = torch.cat((current_pair.squeeze(), torch.zeros(padding_length, dtype=torch.long).to(device)))\n",
    "        # Append to list\n",
    "        padded_pairs.append(padded_pair)\n",
    "    \n",
    "    # Convert list of tensors to a single tensor\n",
    "    padded_pairs_tensor = torch.stack(padded_pairs)\n",
    "    \n",
    "    # Fit NearestNeighbors model\n",
    "    nn_model = NearestNeighbors(metric='cosine')\n",
    "    nn_model.fit(padded_pairs_tensor.cpu().numpy())  # Convert tensor to numpy array\n",
    "    return nn_model\n",
    "nn_model = fit_nearest_neighbor(train_pairs)\n"
   ]
  },
  {
   "cell_type": "code",
   "execution_count": 219,
   "id": "035c6b27-f557-4206-978d-d2b13671add2",
   "metadata": {},
   "outputs": [
    {
     "name": "stdout",
     "output_type": "stream",
     "text": [
      "2 ts olive oil 1/2 ts dried thyme 1 sm onion(s), chopped 1/2 ts dried marjoram 2    stalks celery, chopped 1 3/4 c  beef stock 2    garlic clove(s), minced 1    bay leaf 1 c  bulgur 1 tb parsley, chopped 1/2 ts dried rubbed sage salt and pepper to taste\n",
      "3/4 cn brown rice; uncooked 1/2 c  dried lentils; rinsed 1/2 c  chopped onions 1/2 c  sliced celery 1/2 c  sliced carrots 1/4 c  snipped fresh parsley 1 ts italian seasoning 1    garlic clove; minced 1    bay leaf 2 1/2 c  [stock] 14 1/2 oz canned tomatoes, peeled; cut 1 tb cider vinegar\n",
      "combine all ingredients in dutch oven or large saucepan ; bring to a boil . reduce heat and simmer , uncovered , stirring occasionally , for 55 minutes to 1 hour , or until rice is tender . remove and discard bay leaf .\n"
     ]
    }
   ],
   "source": [
    "test = tensorFromSentence(input_lang, test_pairs[10][0])\n",
    "print(test_pairs[10][0])\n",
    "# Pad test tensor\n",
    "padding_length = max(0, MAX_LENGTH - len(test))\n",
    "test_padded = torch.cat((test.squeeze(), torch.zeros(padding_length, dtype=torch.long).to(device)))\n",
    "pred = nn_model.kneighbors([test_padded.cpu().numpy()], n_neighbors=4, return_distance=False)[0]\n",
    "print(train_pairs[pred[1]][0])"
   ]
  },
  {
   "cell_type": "markdown",
   "id": "ef61a3fe-03f3-4262-8cd9-c42ddfe8b023",
   "metadata": {},
   "source": [
    "**Ingredients Extraction from Recipe**"
   ]
  },
  {
   "cell_type": "code",
   "execution_count": 33,
   "id": "6f07e16d-e64c-4dd0-a4da-080c22dcf806",
   "metadata": {},
   "outputs": [
    {
     "name": "stderr",
     "output_type": "stream",
     "text": [
      "[nltk_data] Downloading package stopwords to\n",
      "[nltk_data]     C:\\Users\\manut\\AppData\\Roaming\\nltk_data...\n",
      "[nltk_data]   Package stopwords is already up-to-date!\n"
     ]
    }
   ],
   "source": [
    "import string\n",
    "import nltk\n",
    "from nltk.tokenize import word_tokenize\n",
    "from nltk.corpus import stopwords\n",
    "from nltk import pos_tag\n",
    "nltk.download('stopwords')\n",
    "\n",
    "# Sample text\n",
    "text = ' '.join(pair[0] for pair in train_pairs)\n",
    "tokens = word_tokenize(text)\n",
    "# Remove stopwords\n",
    "stop_words = set(stopwords.words('english') + recipe_stopwords)\n",
    "tokens = [word for word in tokens if word not in stop_words]\n",
    "# Remove everything except for those that are Nouns\n",
    "pos_tags = pos_tag(tokens)\n",
    "tokens = [word for word, pos in pos_tags if pos == 'NN'or pos == 'NNS']"
   ]
  },
  {
   "cell_type": "code",
   "execution_count": 34,
   "id": "61cb7f07-aa2c-4b8b-9ddf-fc018b90bbc9",
   "metadata": {},
   "outputs": [],
   "source": [
    "from gensim.models import Phrases\n",
    "# Create phrases\n",
    "# Define phrases to be forced\n",
    "force_phrases = {\"seeds\", \"seed\",\"syrups\", \"syrup\", \"juice\", \"juices\",\"cream\",\"creams\",\"leaf\",\"leaves\",\"flavoured\",\"flavours\",\"cooled\",\"cool\",\"pieces\"}\n",
    "# Create phrases\n",
    "irrelevant_words = {'bring_boil','smooth','food','temperature','blender','let', 'well', 'along', 'cut','least', 'hours', 'desired', 'minutes', 'allow', 'remove', 'mixed', 'serve', 'bring', 'soften', 'fold', 'stirring', 'serving', 'simmer', 'sit', 'heat', 'stir', 'remove_heat', 'combine', 'pour', 'gently', 'blend', 'puree', 'chilled', 'freeze', 'container', 'room_temperature', 'saucepan', 'mixture', 'consistency','turn','mill','trays','bowls'}\n",
    "bigram = Phrases([tokens], min_count=5, threshold=3)\n",
    "from gensim.models.phrases import Phraser\n",
    "bigram_phraser = Phraser(bigram)\n",
    "tokens_with_phrases = bigram_phraser[tokens]\n",
    "token_counts = Counter(tokens_with_phrases)\n",
    "# Select top k tokens by occurrences\n",
    "k = 10000\n",
    "unique_tokens_with_phrases = [token for token, count in token_counts.most_common(k) if token not in force_phrases and token not in irrelevant_words]\n"
   ]
  },
  {
   "cell_type": "code",
   "execution_count": 36,
   "id": "440fd5a6-8faa-4e61-b64f-95a0dc9cfe92",
   "metadata": {},
   "outputs": [],
   "source": [
    "def prerocess_for_count (sentence):\n",
    "    sentence_tokens = word_tokenize(sentence.lower())\n",
    "    return [word for word in sentence_tokens if word not in stop_words]\n",
    "\n",
    "def count_ingredients(unique_tokens_with_phrases, sentence_tokens):\n",
    "    final_phrases = []\n",
    "    i = 0\n",
    "    while i < len(sentence_tokens):\n",
    "        phrase = '_'.join(sentence_tokens[i:i+2])\n",
    "        if phrase in unique_tokens_with_phrases:\n",
    "            final_phrases.append(phrase)\n",
    "            i += 2\n",
    "        elif sentence_tokens[i] in unique_tokens_with_phrases:\n",
    "            final_phrases.append(sentence_tokens[i])\n",
    "            i += 1\n",
    "        else:\n",
    "            phrase = '_'.join(sentence_tokens[i:i+4])\n",
    "            i += 1\n",
    "    return set(final_phrases)\n"
   ]
  },
  {
   "cell_type": "code",
   "execution_count": 37,
   "id": "7d7640c3-66a6-405b-989b-f15193acb6ed",
   "metadata": {},
   "outputs": [
    {
     "name": "stdout",
     "output_type": "stream",
     "text": [
      "{'strawberries', 'sugar', 'lemon_juice', 'water', 'orange_juice'}\n",
      "{'strawberries', 'sugar', 'lemon_juice', 'water', 'orange_juice'}\n",
      "{'strawberries', 'sugar', 'lemon_juice', 'cantaloupe', 'vanilla_ice', 'water', 'orange_juice'}\n"
     ]
    }
   ],
   "source": [
    "test_ing = clean_text('2 c sugar, 1/4 c lemon juice, 1 c water, 1/3 c orange juice, 8 c strawberries')\n",
    "gold_recipe = 'combine <sugar> and <water> in medium saucepan . Heat , stirring , until <sugar> dissolves , then boil 5 minutes . cool . force <strawberries> through food mill or blend in blender or food processor . strain to remove seeds , if desired . blend the puree and <lemon juice> and <orange juice> into syrup . pour into freezer trays and freeze . remove from freezer 20 minutes before serving . turn into bowl and stir until smooth .'\n",
    "generated_recipe = 'Combine <sugar> and <water> in a medium saucepan . Heat, stirring, until <sugar> dissolves . Bring to a boil and let simmer for 5 minutes . Remove from heat and allow to cool . In a blender or food processor , combine <strawberries> and <cantaloupe> . Blend until smooth . Strain the mixture to remove any seeds and fibers, if desired. Stir the puree into the cooled syrup along with the <lemon juice> and <orange juice> . Pour the mixture into a large bowl and gently fold in the <vanilla ice cream> until well mixed . Freeze in a container for at least 4 hours . Before serving , let it sit at room temperature for 20 minutes to soften . Stir well to achieve a smooth consistency and serve chilled .'\n",
    "\n",
    "sentence_tokens_test = prerocess_for_count(test_ing)\n",
    "sentence_tokens_gold_recipe = prerocess_for_count(gold_recipe)\n",
    "sentence_tokens_generated_recipe = prerocess_for_count(generated_recipe)\n",
    "\n",
    "print (count_ingredients(unique_tokens_with_phrases,sentence_tokens_test))\n",
    "print(count_ingredients(unique_tokens_with_phrases,sentence_tokens_gold_recipe))\n",
    "print(count_ingredients(unique_tokens_with_phrases,sentence_tokens_generated_recipe))"
   ]
  },
  {
   "cell_type": "code",
   "execution_count": 38,
   "id": "cf48b28d-ae9e-4e04-8799-f41bf0fe60ef",
   "metadata": {},
   "outputs": [],
   "source": [
    "def eval_test(input_tensor, target_tensor, encoder, decoder, criterion, max_length=MAX_LENGTH):\n",
    "    encoder_hidden = encoder.initHidden()\n",
    "    input_length = input_tensor.size(0)\n",
    "    target_length = target_tensor.size(0)\n",
    "\n",
    "    encoder_outputs = torch.zeros(max_length, encoder.hidden_size, device=device)\n",
    "\n",
    "    loss = 0\n",
    "\n",
    "    for ei in range(input_length):\n",
    "        encoder_output, encoder_hidden = encoder(\n",
    "            input_tensor[ei], encoder_hidden)\n",
    "        encoder_outputs[ei] = encoder_output[0, 0]\n",
    "\n",
    "    decoder_input = torch.tensor([[SOS_token]], device=device)\n",
    "\n",
    "    decoder_hidden = encoder_hidden\n",
    "    for di in range(target_length):\n",
    "        decoder_output, decoder_hidden = decoder(\n",
    "            decoder_input, decoder_hidden)\n",
    "        topv, topi = decoder_output.topk(1)\n",
    "        decoder_input = topi.squeeze().detach()  # detach from history as input\n",
    "\n",
    "        loss += criterion(decoder_output, target_tensor[di])\n",
    "        if decoder_input.item() == EOS_token:\n",
    "            break\n",
    "\n",
    "    return loss.item() / target_length\n"
   ]
  },
  {
   "cell_type": "code",
   "execution_count": 39,
   "id": "9a0b1004-f89b-4cd8-ba86-e3ae37e6b54f",
   "metadata": {},
   "outputs": [],
   "source": [
    "def eval_test_atnn(input_tensor, target_tensor, encoder, decoder, criterion, max_length=MAX_LENGTH):\n",
    "    encoder_hidden = encoder.initHidden()\n",
    "\n",
    "    input_length = input_tensor.size(0)\n",
    "    target_length = target_tensor.size(0)\n",
    "\n",
    "    encoder_outputs = torch.zeros(max_length, encoder.hidden_size, device=device)\n",
    "\n",
    "    loss = 0\n",
    "\n",
    "    for ei in range(input_length):\n",
    "        encoder_output, encoder_hidden = encoder(\n",
    "            input_tensor[ei], encoder_hidden)\n",
    "        encoder_outputs[ei] = encoder_output[0, 0]\n",
    "    decoder_input = torch.tensor([[SOS_token]], device=device)\n",
    "    decoder_hidden = encoder_hidden\n",
    "    for di in range(target_length):\n",
    "        decoder_output, decoder_hidden, decoder_attention = decoder(\n",
    "            decoder_input, decoder_hidden, encoder_outputs)\n",
    "        topv, topi = decoder_output.topk(1)\n",
    "        decoder_input = topi.squeeze().detach()  # detach from history as input\n",
    "\n",
    "        loss += criterion(decoder_output, target_tensor[di])\n",
    "        if decoder_input.item() == EOS_token:\n",
    "            break\n",
    "\n",
    "    return loss.item() / target_length\n"
   ]
  },
  {
   "cell_type": "code",
   "execution_count": 210,
   "id": "7edcea08-a3ec-4af8-9a22-3ed67c8859a8",
   "metadata": {},
   "outputs": [
    {
     "name": "stderr",
     "output_type": "stream",
     "text": [
      "[nltk_data] Downloading package wordnet to\n",
      "[nltk_data]     C:\\Users\\manut\\AppData\\Roaming\\nltk_data...\n",
      "[nltk_data]   Package wordnet is already up-to-date!\n"
     ]
    }
   ],
   "source": [
    "from nltk.translate.bleu_score import corpus_bleu\n",
    "from nltk.translate.meteor_score import meteor_score\n",
    "nltk.download('wordnet')\n",
    "\n",
    "def check_test_set(encoder, decoder,test_pairs,attention_status,unique_tokens_with_phrases):\n",
    "    start = time.time()\n",
    "    test_loss_total = 0  # Reset every print_every\n",
    "\n",
    "    testing_pairs = [tensorsFromPair(pair) for pair in test_pairs]\n",
    "    criterion = nn.NLLLoss()\n",
    "    avg_given = []\n",
    "    avg_extra = []\n",
    "    bleu_scores = []\n",
    "    meteor_scores = []\n",
    "    generated_words = []\n",
    "    for i in range (len(testing_pairs)):\n",
    "        test_pair = testing_pairs[i]\n",
    "        test_input_tensor = test_pair[0]\n",
    "        test_target_tensor = test_pair[1]\n",
    "        if attention_status:\n",
    "            test_loss = eval_test_atnn(test_input_tensor, test_target_tensor, encoder,\n",
    "            decoder, criterion)\n",
    "            ingredients = count_ingredients(prerocess_for_count (test_pairs[i][0]),unique_tokens_with_phrases)\n",
    "            output_words, attention= evaluate_attn(encoder, decoder, test_pairs[i][0])\n",
    "            output_words=' '.join(output_words)\n",
    "            generated_words.append(output_words)\n",
    "            used_ingredients = count_ingredients(prerocess_for_count (output_words),unique_tokens_with_phrases)\n",
    "            ingredients_stated = max(1,len(ingredients))\n",
    "            used_given = len(used_ingredients & ingredients) / ingredients_stated\n",
    "            avg_given.append(used_given)\n",
    "            extra_items = max(0,len(used_ingredients) - len(ingredients))\n",
    "            avg_extra.append(extra_items)\n",
    "\n",
    "        else:\n",
    "            test_loss = eval_test(test_input_tensor, test_target_tensor, encoder,\n",
    "             decoder, criterion)\n",
    "            ingredients = count_ingredients(prerocess_for_count (test_pairs[i][0]),unique_tokens_with_phrases)\n",
    "            output_words=' '.join(evaluate(encoder, decoder, test_pairs[i][0]))\n",
    "            generated_words.append(output_words)\n",
    "            used_ingredients = count_ingredients(prerocess_for_count (output_words),unique_tokens_with_phrases)\n",
    "            ingredients_stated = max(1,len(ingredients))\n",
    "            used_given = len(used_ingredients & ingredients) / ingredients_stated\n",
    "            avg_given.append(used_given)\n",
    "            extra_items = max(0,len(used_ingredients) - len(ingredients))\n",
    "            avg_extra.append(extra_items)\n",
    "\n",
    "        # Calculate BLEU Score\n",
    "        reference = [test_pairs[i][1].split()]  # Assuming pair[1] is the target sentence\n",
    "        hypothesis = [output_words.split()]\n",
    "        bleu_score = corpus_bleu(reference, hypothesis)\n",
    "        bleu_scores.append(bleu_score)\n",
    "        # Calculate METEOR score\n",
    "        metor_reference = test_pairs[i][1].split()\n",
    "        if attention_status:\n",
    "            meteor_hypothesis, _ = evaluate_attn(encoder, decoder, test_pairs[i][0])\n",
    "        else:\n",
    "            meteor_hypothesis = evaluate(encoder, decoder, test_pairs[i][0])\n",
    "        meteor_score_value = meteor_score([metor_reference], meteor_hypothesis)\n",
    "        meteor_scores.append(meteor_score_value)\n",
    "        test_loss_total += test_loss\n",
    "    final_loss = test_loss_total / len(testing_pairs)\n",
    "    return final_loss,avg_given,avg_extra,bleu_scores,meteor_scores,generated_words\n"
   ]
  },
  {
   "cell_type": "markdown",
   "id": "8b4f9310-04b5-4f3f-b6d2-3adf9a45fa6f",
   "metadata": {},
   "source": [
    "**Performance Evaluation for Baseline 1**"
   ]
  },
  {
   "cell_type": "code",
   "execution_count": 182,
   "id": "cef8b34f-12b0-4436-be89-290cabf7d4d1",
   "metadata": {},
   "outputs": [],
   "source": [
    "final_loss,avg_given,avg_extra,bleu_scores,meteor_scores,generated_words= check_test_set(baseline1_encoder, baseline1_decoder,test_pairs,False,unique_tokens_with_phrases)"
   ]
  },
  {
   "cell_type": "code",
   "execution_count": 164,
   "id": "259de7a5-629b-4652-baf3-a4174881f8e8",
   "metadata": {},
   "outputs": [
    {
     "name": "stdout",
     "output_type": "stream",
     "text": [
      "0.1601545863980096\n"
     ]
    }
   ],
   "source": [
    "print (np.mean(meteor_scores))"
   ]
  },
  {
   "cell_type": "code",
   "execution_count": 165,
   "id": "e5a8380e-2b4a-4560-a8a3-5d09e70c2daf",
   "metadata": {},
   "outputs": [
    {
     "name": "stdout",
     "output_type": "stream",
     "text": [
      "8.265853442317835e-232\n"
     ]
    }
   ],
   "source": [
    "print (np.mean(bleu_scores))"
   ]
  },
  {
   "cell_type": "code",
   "execution_count": 183,
   "id": "c52f917a-f1ae-4bba-9c19-21038519e18e",
   "metadata": {},
   "outputs": [
    {
     "name": "stdout",
     "output_type": "stream",
     "text": [
      "as eggs combine minutes have bread grease dough flour or stirring combined blend hot grease sugar if whites and improvise blend cookie crumbs blend hot grease temperature over blend cookie crumbs blend form and batte loaves cups tearing blend to flour or run edge beat eggs occasionally on ingredients blend batte corn combine one hour blend <EOS>\n"
     ]
    }
   ],
   "source": [
    "print (generated_words[0])"
   ]
  },
  {
   "cell_type": "code",
   "execution_count": 215,
   "id": "b926bbd4-998f-4771-a41b-d75a40068fe6",
   "metadata": {},
   "outputs": [
    {
     "name": "stderr",
     "output_type": "stream",
     "text": [
      "C:\\Users\\manut\\anaconda3\\envs\\fit5217\\Lib\\site-packages\\nltk\\translate\\bleu_score.py:552: UserWarning: \n",
      "The hypothesis contains 0 counts of 2-gram overlaps.\n",
      "Therefore the BLEU score evaluates to 0, independently of\n",
      "how many N-gram overlaps of lower order it contains.\n",
      "Consider using lower n-gram order or use SmoothingFunction()\n",
      "  warnings.warn(_msg)\n",
      "C:\\Users\\manut\\anaconda3\\envs\\fit5217\\Lib\\site-packages\\nltk\\translate\\bleu_score.py:552: UserWarning: \n",
      "The hypothesis contains 0 counts of 3-gram overlaps.\n",
      "Therefore the BLEU score evaluates to 0, independently of\n",
      "how many N-gram overlaps of lower order it contains.\n",
      "Consider using lower n-gram order or use SmoothingFunction()\n",
      "  warnings.warn(_msg)\n",
      "C:\\Users\\manut\\anaconda3\\envs\\fit5217\\Lib\\site-packages\\nltk\\translate\\bleu_score.py:552: UserWarning: \n",
      "The hypothesis contains 0 counts of 4-gram overlaps.\n",
      "Therefore the BLEU score evaluates to 0, independently of\n",
      "how many N-gram overlaps of lower order it contains.\n",
      "Consider using lower n-gram order or use SmoothingFunction()\n",
      "  warnings.warn(_msg)\n"
     ]
    }
   ],
   "source": [
    "final_loss,avg_given,avg_extra,bleu_scores,meteor_scores,generated_words= check_test_set(baseline2_encoder, baseline2_decoder,test_pairs,True,unique_tokens_with_phrases)"
   ]
  },
  {
   "cell_type": "code",
   "execution_count": 216,
   "id": "f4f7978e-ea84-456d-83ba-8a780042179f",
   "metadata": {},
   "outputs": [
    {
     "name": "stdout",
     "output_type": "stream",
     "text": [
      "0.16283798307453887\n"
     ]
    }
   ],
   "source": [
    "print (np.mean(meteor_scores))"
   ]
  },
  {
   "cell_type": "code",
   "execution_count": 217,
   "id": "bf7389ca-82fc-43bf-8a88-2e34a8cb83c7",
   "metadata": {},
   "outputs": [
    {
     "name": "stdout",
     "output_type": "stream",
     "text": [
      "8.824007937036293e-232\n"
     ]
    }
   ],
   "source": [
    "print (np.mean(bleu_scores))"
   ]
  },
  {
   "cell_type": "code",
   "execution_count": null,
   "id": "b0b4c3db-256f-4402-87b3-20e5661c575c",
   "metadata": {},
   "outputs": [],
   "source": [
    "print (np.mean(avg_extra))"
   ]
  },
  {
   "cell_type": "code",
   "execution_count": null,
   "id": "24d62371-7b11-47b2-89d9-8ef4f043ee8c",
   "metadata": {},
   "outputs": [],
   "source": [
    "final_loss,avg_given,avg_extra = check_test_set(extension2_encoder, extension2_decoder,test_pairs,True,unique_tokens_with_phrases)"
   ]
  },
  {
   "cell_type": "code",
   "execution_count": 176,
   "id": "878b3cd7-55bd-49b1-a889-0b4d06b3cce4",
   "metadata": {},
   "outputs": [
    {
     "name": "stdout",
     "output_type": "stream",
     "text": [
      "[0, 1, 2, 4, 5, 6, 7, 8, 9, 10, 12, 15, 16, 17, 19, 20, 21, 22, 27, 29, 30, 31, 33, 34, 36, 37, 38, 39, 40, 41, 42, 43, 44, 46, 47, 48, 49, 51, 52, 53, 54, 55, 57, 58, 60, 61, 62, 63, 65, 66, 69, 70, 71, 72, 73, 74, 75, 77, 80, 81, 82, 83, 85, 86, 87, 89, 91, 93, 95, 97, 99, 100, 101, 102, 103, 104, 105, 106, 107, 108, 109, 110, 111, 112, 114, 115, 116, 117, 118, 119, 120, 121, 122, 123, 124, 125, 126, 128, 131, 132, 133, 134, 135, 138, 140, 141, 142, 143, 144, 145, 146, 147, 148, 149, 150, 151, 152, 153, 154, 155, 156, 157, 158, 159, 160, 161, 162, 163, 164, 165, 167, 169, 170, 171, 172, 173, 175, 176, 177, 178, 179, 180, 182, 183, 184, 185, 186, 187, 188, 189, 190, 191, 192, 193, 194, 196, 197, 198, 199, 200, 202, 203, 205, 206, 207, 208, 211, 212, 213, 214, 215, 216, 217, 218, 220, 222, 225, 226, 227, 228, 229, 230, 231, 232, 234, 236, 238, 239, 240, 241, 242, 243, 244, 246, 247, 248, 249, 250, 251, 252, 253, 254, 255, 256, 257, 258, 259, 261, 262, 265, 266, 268, 269, 270, 271, 273, 274, 275, 276, 277, 278, 279, 280, 281, 282, 283, 284, 285, 286, 287, 289, 291, 292, 293, 294, 295, 297, 298, 299, 300, 302, 303, 304, 305, 306, 307, 308, 309, 311, 312, 313, 314, 315, 317, 318, 319, 320, 322, 324, 325, 327, 328, 330, 331, 333, 336, 337, 338, 339, 340, 341, 342, 343, 345, 346, 348, 349, 352, 353, 354, 355, 357, 358, 359, 360, 361, 362, 363, 364, 365, 366, 368, 369, 370, 371, 372, 374, 375, 376, 378, 379, 380, 382, 383, 385, 386, 387, 389, 390, 391, 392, 393, 394, 396, 397, 398, 399, 401, 403, 404, 405, 407, 409, 410, 412, 413, 414, 416, 417, 418, 419, 420, 421, 422, 423, 425, 426, 427, 428, 429, 430, 431, 432, 433, 434, 435, 437, 438, 439, 440, 441, 442, 446, 448, 449, 450, 451, 452, 453, 454, 457, 458, 459, 460, 462, 463, 465, 466, 467, 468, 469, 470, 471, 472, 473, 474, 475, 476, 480, 481, 482, 485, 488, 489, 490, 491, 492, 493, 494, 496, 499, 502, 503, 504, 505, 506, 507, 508, 509, 510, 511, 512, 513, 514, 515, 516, 517, 518, 519, 520, 521, 522, 524, 526, 527, 528, 530, 531, 532, 533, 534, 536, 537, 539, 541, 542, 543, 544, 545, 546, 547, 548, 549, 550, 551, 554, 556, 557, 558, 559, 560, 561, 562, 564, 565, 566, 567, 568, 569, 570, 571, 572, 573, 574, 575, 576, 577, 578, 579, 580, 581, 583, 584, 585, 586, 587, 588, 589, 590, 591, 592, 593, 594, 595, 596, 597, 598, 599, 601, 602, 603, 604, 605, 606, 607, 608, 609, 610, 611, 612, 613, 614, 615, 617, 618, 619, 620, 621, 622, 623, 624, 625, 626, 627, 628, 629, 630, 631, 632, 633, 634, 635, 636, 637, 638, 639, 641, 643, 644, 645, 646, 647, 648, 649, 650, 651, 652, 653, 654, 655, 657, 658, 660, 661, 662, 664, 665, 667, 669, 670, 671, 672, 673, 674, 676, 678, 679, 681, 682, 683, 684, 686, 687, 688, 690, 691, 694, 695, 696, 698, 699, 700, 701, 702, 704, 705, 706, 708, 709, 710, 711, 712, 713, 714, 715, 716, 717, 718, 720, 721, 722, 723, 724, 725, 726, 727, 728, 731, 732, 733, 734, 735, 737, 738, 739, 740, 741, 742, 743, 744, 745, 746, 747, 748, 750, 751, 752, 753, 754, 755, 756, 757, 758, 760, 761, 762, 764, 765, 766, 767, 768, 769, 770, 771, 772, 773, 774, 775, 776]\n"
     ]
    }
   ],
   "source": [
    "print (test_indices)"
   ]
  },
  {
   "cell_type": "code",
   "execution_count": 209,
   "id": "7bf03d48-064c-49b2-9078-b4ff9f9b2872",
   "metadata": {},
   "outputs": [],
   "source": [
    "test_indices_excel = []\n",
    "for i in range (len(test_indices)):\n",
    "    test_indices_excel.append(test_indices[i] + 1)\n",
    "\n",
    "import csv\n",
    "def write_to_excel(file_name, column_name, data, indices):\n",
    "    # Open the existing Excel file in read mode\n",
    "    with open(file_name, 'r') as file:\n",
    "        reader = csv.reader(file)\n",
    "        rows = list(reader)\n",
    "\n",
    "    # Find the column index of the specified column name\n",
    "    header = rows[0]\n",
    "    try:\n",
    "        column_index = header.index(column_name)\n",
    "    except ValueError:\n",
    "        print(f\"Column '{column_name}' not found in the Excel file.\")\n",
    "        return\n",
    "\n",
    "    # Write data into the specified column at the specified indices\n",
    "    for i, index in enumerate(indices):\n",
    "        if index < len(rows):\n",
    "            row_index = index + 1  # Adjust for header row\n",
    "            row = rows[row_index]\n",
    "            row[column_index] = str(data[i])  # Convert data to string\n",
    "\n",
    "    # Write the modified rows back to the Excel file\n",
    "    with open(file_name, 'w', newline='') as file:\n",
    "        writer = csv.writer(file)\n",
    "        writer.writerows(rows)\n",
    "\n",
    "\n",
    "# Example usage:\n",
    "file_name = \"generated_012345678.csv\"\n",
    "column_name = \"Generated Recipe - Baseline 1\"\n",
    "write_to_excel(file_name, column_name, generated_words, test_indices_excel)\n"
   ]
  },
  {
   "cell_type": "code",
   "execution_count": null,
   "id": "39d69267-ca9b-46ee-bbd2-80e997fc5f24",
   "metadata": {},
   "outputs": [],
   "source": []
  }
 ],
 "metadata": {
  "kernelspec": {
   "display_name": "Python 3 (ipykernel)",
   "language": "python",
   "name": "python3"
  },
  "language_info": {
   "codemirror_mode": {
    "name": "ipython",
    "version": 3
   },
   "file_extension": ".py",
   "mimetype": "text/x-python",
   "name": "python",
   "nbconvert_exporter": "python",
   "pygments_lexer": "ipython3",
   "version": "3.11.9"
  }
 },
 "nbformat": 4,
 "nbformat_minor": 5
}
