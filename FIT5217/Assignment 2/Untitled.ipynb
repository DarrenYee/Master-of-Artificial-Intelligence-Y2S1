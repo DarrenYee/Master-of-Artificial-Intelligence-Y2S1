{
 "cells": [
  {
   "cell_type": "markdown",
   "id": "7d3712cd",
   "metadata": {},
   "source": [
    "**Neural Chef Assistance**  \n",
    "**Name: Darren Jer Shien Yee**  \n",
    "**Student ID: 31237223**"
   ]
  },
  {
   "cell_type": "markdown",
   "id": "448e2844",
   "metadata": {},
   "source": [
    "**RNN without Attention**"
   ]
  },
  {
   "cell_type": "code",
   "execution_count": 1,
   "id": "cd7c08dd",
   "metadata": {},
   "outputs": [
    {
     "name": "stdout",
     "output_type": "stream",
     "text": [
      "cpu\n"
     ]
    }
   ],
   "source": [
    "## Requirements\n",
    "from __future__ import unicode_literals, print_function, division\n",
    "from io import open\n",
    "import unicodedata\n",
    "import string\n",
    "import re\n",
    "import random\n",
    "\n",
    "import torch\n",
    "import torch.nn as nn\n",
    "from torch import optim\n",
    "import torch.nn.functional as F\n",
    "\n",
    "device = torch.device(\"cuda\" if torch.cuda.is_available() else \"cpu\")\n",
    "print (device)"
   ]
  },
  {
   "cell_type": "code",
   "execution_count": 4,
   "id": "bad39fb3",
   "metadata": {},
   "outputs": [],
   "source": [
    "class EncoderRNN(nn.Module):\n",
    "    def __init__(self, input_size, hidden_size):\n",
    "        super(EncoderRNN, self).__init__()\n",
    "        self.hidden_size = hidden_size\n",
    "\n",
    "        self.embedding = nn.Embedding(input_size, hidden_size)\n",
    "        self.gru = nn.GRU(hidden_size, hidden_size)\n",
    "\n",
    "    def forward(self, input, hidden):\n",
    "        embedded = self.embedding(input).view(1, 1, -1)\n",
    "        output = embedded\n",
    "        output, hidden = self.gru(output, hidden)\n",
    "        return output, hidden\n",
    "\n",
    "    def initHidden(self):\n",
    "        return torch.zeros(1, 1, self.hidden_size, device=device)"
   ]
  },
  {
   "cell_type": "code",
   "execution_count": 5,
   "id": "b2c193b8",
   "metadata": {},
   "outputs": [],
   "source": [
    "class DecoderRNN(nn.Module):\n",
    "    def __init__(self, hidden_size, output_size):\n",
    "        super(DecoderRNN, self).__init__()\n",
    "        self.hidden_size = hidden_size\n",
    "\n",
    "        self.embedding = nn.Embedding(output_size, hidden_size)\n",
    "        self.gru = nn.GRU(hidden_size, hidden_size)\n",
    "        self.out = nn.Linear(hidden_size, output_size)\n",
    "        self.softmax = nn.LogSoftmax(dim=1)\n",
    "\n",
    "    def forward(self, input, hidden):\n",
    "        output = self.embedding(input).view(1, 1, -1)\n",
    "        output = F.relu(output)\n",
    "        output, hidden = self.gru(output, hidden)\n",
    "        output = self.softmax(self.out(output[0]))\n",
    "        return output, hidden\n",
    "\n",
    "    def initHidden(self):\n",
    "        return torch.zeros(1, 1, self.hidden_size, device=device)\n"
   ]
  },
  {
   "cell_type": "code",
   "execution_count": 9,
   "id": "9ec3f0e9-c616-41d4-92d6-c0e3f6cac175",
   "metadata": {},
   "outputs": [
    {
     "name": "stdout",
     "output_type": "stream",
     "text": [
      "                   Title                        Categories     Servings  \\\n",
      "0             cocoa bars                           cookies      24 bars   \n",
      "1    cocoa bourbon balls         christmas\\tcookies\\tm. c.   1 servings   \n",
      "2  cocoa branana muffins          breakfast\\tmuffins\\tgood  12 servings   \n",
      "3            cocoa bread                            breads   6 servings   \n",
      "4    cocoa bread pudding  chocolate\\tpuddings\\tlow-fat/low   6 servings   \n",
      "\n",
      "                                         Ingredients  \\\n",
      "0  6 tb butter or margarine - softened\\t3/4 c  c ...   \n",
      "1  1 c  vanilla wafer cookies, finely crushed\\t1 ...   \n",
      "2  1 c  all-purpose flour\\t1/2 c  sugar\\t2 ts bak...   \n",
      "3  5 1/2 c  flour\\t1    cake compressed yeast\\tor...   \n",
      "4  bread -- to fill dish 2/3\\tful\\t2 c  skim milk...   \n",
      "\n",
      "                                              Recipe  \n",
      "0  cream together butter and powdered sugar . ble...  \n",
      "1  combine dry ingredients and mix well . add cor...  \n",
      "2  kellogg 's all-bran 1 . stir together flour , ...  \n",
      "3  soften yeast and dissolve 1 tablespoon sugar i...  \n",
      "4  into a greased casserole dish break up enough ...  \n",
      "<class 'pandas.core.frame.DataFrame'>\n",
      "RangeIndex: 101340 entries, 0 to 101339\n",
      "Data columns (total 5 columns):\n",
      " #   Column       Non-Null Count   Dtype \n",
      "---  ------       --------------   ----- \n",
      " 0   Title        101339 non-null  object\n",
      " 1   Categories   100932 non-null  object\n",
      " 2   Servings     101336 non-null  object\n",
      " 3   Ingredients  101340 non-null  object\n",
      " 4   Recipe       101338 non-null  object\n",
      "dtypes: object(5)\n",
      "memory usage: 3.9+ MB\n",
      "None\n",
      "                 Title Categories    Servings Ingredients  \\\n",
      "count           101339     100932      101336      101340   \n",
      "unique           70226      29486        2905       91263   \n",
      "top     barbecue sauce     breads  4 servings   text only   \n",
      "freq                28       2316       20750         149   \n",
      "\n",
      "                                      Recipe  \n",
      "count                                 101338  \n",
      "unique                                 72823  \n",
      "top     combine all ingredients in a bowl .   \n",
      "freq                                      32  \n"
     ]
    }
   ],
   "source": [
    "import pandas as pd\n",
    "df = pd.read_csv('Cooking_Dataset/Cooking_Dataset/train.csv')\n",
    "print(df.head())  # Display first few rows\n",
    "print(df.info())  # Summary information about the DataFrame\n",
    "print(df.describe())  # Summary statistics for numerical columns"
   ]
  },
  {
   "cell_type": "code",
   "execution_count": null,
   "id": "93e74aa1-b285-459a-ae49-fb99cfd3d578",
   "metadata": {},
   "outputs": [],
   "source": []
  }
 ],
 "metadata": {
  "kernelspec": {
   "display_name": "Python 3 (ipykernel)",
   "language": "python",
   "name": "python3"
  },
  "language_info": {
   "codemirror_mode": {
    "name": "ipython",
    "version": 3
   },
   "file_extension": ".py",
   "mimetype": "text/x-python",
   "name": "python",
   "nbconvert_exporter": "python",
   "pygments_lexer": "ipython3",
   "version": "3.11.8"
  }
 },
 "nbformat": 4,
 "nbformat_minor": 5
}
