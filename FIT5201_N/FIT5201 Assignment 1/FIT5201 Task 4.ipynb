{
 "cells": [
  {
   "cell_type": "markdown",
   "id": "ab8d0cdb",
   "metadata": {},
   "source": [
    "**Task 2 Probability**"
   ]
  },
  {
   "cell_type": "markdown",
   "id": "189c9a63",
   "metadata": {},
   "source": [
    "**Question 4.1 Fruits Experiment Python Implementation**"
   ]
  },
  {
   "cell_type": "code",
   "execution_count": 1,
   "id": "8dd4c6d4",
   "metadata": {},
   "outputs": [],
   "source": [
    "import numpy as np\n",
    "\n",
    "def construct_boxes (boxes,card):\n",
    "    temp = []\n",
    "    for i in range (len(card)):\n",
    "        temp.append (['apple']*card[i][0] + ['orange']*card[i][1])\n",
    "    return temp\n",
    "\n",
    "def fruits_experiment (num):\n",
    "    boxes = ['red','blue','green']\n",
    "    card = [[3,8],[4,4],[9,1]]\n",
    "    contents = construct_boxes(boxes,card)\n",
    "    rng = np.random.default_rng()\n",
    "    boxes_picked = []\n",
    "    fruits_picked = []\n",
    "    for i in range (num):\n",
    "        box_picked = rng.integers(len(boxes))\n",
    "        fruit_picked = rng.integers(len(contents[box_picked]))\n",
    "        boxes_picked.append(boxes[box_picked])\n",
    "        fruits_picked.append(contents[box_picked][fruit_picked])\n",
    "    return np.array(boxes_picked), np.array(fruits_picked)\n",
    "    "
   ]
  },
  {
   "cell_type": "code",
   "execution_count": 2,
   "id": "455e5bf2",
   "metadata": {},
   "outputs": [
    {
     "name": "stdout",
     "output_type": "stream",
     "text": [
      "(array(['red', 'red', 'blue', 'blue', 'blue'], dtype='<U4'), array(['apple', 'orange', 'apple', 'orange', 'apple'], dtype='<U6'))\n"
     ]
    }
   ],
   "source": [
    "print (fruits_experiment(5))"
   ]
  },
  {
   "cell_type": "markdown",
   "id": "025fa8dd",
   "metadata": {},
   "source": [
    "**Question 4.2 Probability Calculation**"
   ]
  },
  {
   "cell_type": "markdown",
   "id": "71ee33f2",
   "metadata": {},
   "source": [
    "To calculate the probability of picking from Yellow Box given the fruit picked was an apple, we first denote:  \n",
    "\n",
    "Y = **Picking Yellow Box**, A = **Picking an Apple**\n",
    "\n",
    "where $P(\\text{Y} | \\text{A})$ = $\\frac{P(A|Y) \\cdot P(Y)}{P(A)}$ according to Bayes Rule\n",
    "\n",
    "Firstly, we derive $P(\\text{A} | \\text{Y})$ =$\\frac{9}{10}$ according to the given data and $P(\\text{Y}) = \\frac{1}{3}$ derived from question due to uniform nature  \n",
    "\n",
    "\n",
    "Then, we can derive $P(A) = P(\\text{A}|\\text{Y}) \\cdot P(\\text{Y}) + P(A|\\text{not Y}) \\cdot P(\\text{not Y})$\n",
    "\n",
    "$P(\\text{A}|\\text{not Y}) = \\frac{7}{16}$  \n",
    "\n",
    "$P(\\text{not Y}) = \\frac{2}{3}$\n",
    "\n",
    "So $P(A) = \\frac{9}{10} \\cdot \\frac{1}{3} + \\frac{7}{16} \\cdot \\frac{2}{3} = \\frac{71}{124}$\n",
    "\n",
    "$P(\\text{A} | \\text{B})$ = $\\frac{\\frac{9}{10} \\cdot \\frac{1}{3}}{\\frac{71}{124}}$ \n",
    "\n",
    "Final Probability of $P(\\text{A} | \\text{B}) = 0.524$\n",
    "\n",
    "\n",
    "\n"
   ]
  },
  {
   "cell_type": "markdown",
   "id": "570d9121",
   "metadata": {},
   "source": [
    "**Question 5.1 Die Experiment Python Implementation**"
   ]
  },
  {
   "cell_type": "code",
   "execution_count": 11,
   "id": "1b74b8ea",
   "metadata": {},
   "outputs": [],
   "source": [
    "def die_experiment (reps):\n",
    "    final_results = []\n",
    "    for _ in range (reps):\n",
    "        Z = 0\n",
    "        rng = np.random.default_rng()\n",
    "        X1 = rng.integers(1,7)\n",
    "        X2 = rng.integers(1,7)\n",
    "        Y = X1 + X2\n",
    "        for _ in range (Y):\n",
    "            Z += rng.integers(1,7)\n",
    "        final_results.append(Z)\n",
    "    return final_results "
   ]
  },
  {
   "cell_type": "code",
   "execution_count": 12,
   "id": "0618876d",
   "metadata": {},
   "outputs": [],
   "source": [
    "reps = 10000\n",
    "experiment = die_experiment(10000)"
   ]
  },
  {
   "cell_type": "markdown",
   "id": "62b6c52f",
   "metadata": {},
   "source": [
    "**Question 5.2 Die Experiment Expeced Value Confidence Interval Calculation**"
   ]
  },
  {
   "cell_type": "code",
   "execution_count": 13,
   "id": "f180e588",
   "metadata": {},
   "outputs": [
    {
     "name": "stdout",
     "output_type": "stream",
     "text": [
      "24.26447642007537\n"
     ]
    }
   ],
   "source": [
    "expected = np.mean(experiment) - ((1.96*np.std(experiment))/np.sqrt(reps))\n",
    "print (expected)\n"
   ]
  },
  {
   "cell_type": "markdown",
   "id": "8cf7747e",
   "metadata": {},
   "source": []
  }
 ],
 "metadata": {
  "kernelspec": {
   "display_name": "Python 3 (ipykernel)",
   "language": "python",
   "name": "python3"
  },
  "language_info": {
   "codemirror_mode": {
    "name": "ipython",
    "version": 3
   },
   "file_extension": ".py",
   "mimetype": "text/x-python",
   "name": "python",
   "nbconvert_exporter": "python",
   "pygments_lexer": "ipython3",
   "version": "3.11.5"
  }
 },
 "nbformat": 4,
 "nbformat_minor": 5
}
