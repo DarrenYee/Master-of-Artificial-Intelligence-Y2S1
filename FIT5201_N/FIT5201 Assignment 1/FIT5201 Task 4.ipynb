{
 "cells": [
  {
   "cell_type": "code",
   "execution_count": 23,
   "id": "8dd4c6d4",
   "metadata": {},
   "outputs": [],
   "source": [
    "import numpy as np\n",
    "\n",
    "def construct_boxes (boxes,card):\n",
    "    temp = []\n",
    "    for i in range (len(card)):\n",
    "        temp.append (['apple']*card[i][0] + ['orange']*card[i][1])\n",
    "    return temp\n",
    "\n",
    "def fruits_experiment (num):\n",
    "    boxes = ['red','blue','green']\n",
    "    card = [[3,8],[4,4],[9,1]]\n",
    "    contents = construct_boxes(boxes,card)\n",
    "    rng = np.random.default_rng()\n",
    "    boxes_picked = []\n",
    "    fruits_picked = []\n",
    "    for i in range (num):\n",
    "        box_picked = rng.integers(len(boxes))\n",
    "        fruit_picked = rng.integers(len(contents[box_picked]))\n",
    "        boxes_picked.append(boxes[box_picked])\n",
    "        fruits_picked.append(contents[box_picked][fruit_picked])\n",
    "    return np.array(boxes_picked), np.array(fruits_picked)\n",
    "    "
   ]
  },
  {
   "cell_type": "code",
   "execution_count": 24,
   "id": "455e5bf2",
   "metadata": {},
   "outputs": [
    {
     "name": "stdout",
     "output_type": "stream",
     "text": [
      "(array(['blue', 'red', 'red', 'blue', 'blue'], dtype='<U4'), array(['orange', 'orange', 'apple', 'orange', 'apple'], dtype='<U6'))\n"
     ]
    }
   ],
   "source": [
    "print (fruits_experiment(5) )"
   ]
  },
  {
   "cell_type": "code",
   "execution_count": 49,
   "id": "1b74b8ea",
   "metadata": {},
   "outputs": [],
   "source": [
    "def die_experiment (reps):\n",
    "    final_results = []\n",
    "    for i in range (reps):\n",
    "        Z = 0\n",
    "        rng = np.random.default_rng()\n",
    "        X1 = rng.integers(1,7)\n",
    "        X2 = rng.integers(1,7)\n",
    "        Y = X1 + X2\n",
    "        for i in range (Y):\n",
    "            Z += rng.integers(1,7)\n",
    "        final_results.append(Z)\n",
    "    return final_results "
   ]
  },
  {
   "cell_type": "code",
   "execution_count": 50,
   "id": "0618876d",
   "metadata": {},
   "outputs": [],
   "source": [
    "reps = 10000\n",
    "experiment = die_experiment(10000)"
   ]
  },
  {
   "cell_type": "code",
   "execution_count": 51,
   "id": "f180e588",
   "metadata": {},
   "outputs": [
    {
     "name": "stdout",
     "output_type": "stream",
     "text": [
      "24.546172710383424\n"
     ]
    }
   ],
   "source": [
    "# m +- 1.96s/ sqrt(R)\n",
    "\n",
    "# m = sample mean \n",
    "# s = standard deviation \n",
    "# R = reps\n",
    "\n",
    "expected = np.mean(experiment) + ((1.96*np.std(experiment))/reps)\n",
    "print (expected)\n"
   ]
  },
  {
   "cell_type": "code",
   "execution_count": null,
   "id": "929c6aef",
   "metadata": {},
   "outputs": [],
   "source": []
  }
 ],
 "metadata": {
  "kernelspec": {
   "display_name": "Python 3 (ipykernel)",
   "language": "python",
   "name": "python3"
  },
  "language_info": {
   "codemirror_mode": {
    "name": "ipython",
    "version": 3
   },
   "file_extension": ".py",
   "mimetype": "text/x-python",
   "name": "python",
   "nbconvert_exporter": "python",
   "pygments_lexer": "ipython3",
   "version": "3.11.5"
  }
 },
 "nbformat": 4,
 "nbformat_minor": 5
}
