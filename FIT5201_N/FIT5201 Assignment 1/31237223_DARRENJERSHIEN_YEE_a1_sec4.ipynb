{
 "cells": [
  {
   "cell_type": "markdown",
   "id": "ff03bf6b",
   "metadata": {},
   "source": [
    "**Assignment 1 Task 4: Logistic Regression versus Bayes Classifier**  \n",
    "**Student ID = 31237223**  \n",
    "**Name = Yee Darren Jer Shien**"
   ]
  },
  {
   "cell_type": "markdown",
   "id": "8061c0ac",
   "metadata": {},
   "source": [
    "**Question 7: Load Breast Cancer Database**"
   ]
  },
  {
   "cell_type": "code",
   "execution_count": 1,
   "id": "83f1568e",
   "metadata": {},
   "outputs": [
    {
     "data": {
      "text/plain": [
       "((569, 30),\n",
       " (569,),\n",
       " array(['mean radius', 'mean texture', 'mean perimeter', 'mean area',\n",
       "        'mean smoothness', 'mean compactness', 'mean concavity',\n",
       "        'mean concave points', 'mean symmetry', 'mean fractal dimension',\n",
       "        'radius error', 'texture error', 'perimeter error', 'area error',\n",
       "        'smoothness error', 'compactness error', 'concavity error',\n",
       "        'concave points error', 'symmetry error',\n",
       "        'fractal dimension error', 'worst radius', 'worst texture',\n",
       "        'worst perimeter', 'worst area', 'worst smoothness',\n",
       "        'worst compactness', 'worst concavity', 'worst concave points',\n",
       "        'worst symmetry', 'worst fractal dimension'], dtype='<U23'))"
      ]
     },
     "execution_count": 1,
     "metadata": {},
     "output_type": "execute_result"
    }
   ],
   "source": [
    "from sklearn.datasets import load_breast_cancer\n",
    "import numpy as np\n",
    "\n",
    "cancer = load_breast_cancer()\n",
    "cancer.data.shape, cancer.target.shape, cancer.feature_names"
   ]
  },
  {
   "cell_type": "markdown",
   "id": "9a23d09a",
   "metadata": {},
   "source": [
    "**Question 7: Train Test Split**"
   ]
  },
  {
   "cell_type": "code",
   "execution_count": 2,
   "id": "e49bf886",
   "metadata": {},
   "outputs": [],
   "source": [
    "from sklearn.model_selection import train_test_split"
   ]
  },
  {
   "cell_type": "code",
   "execution_count": 3,
   "id": "4f6a77ba",
   "metadata": {},
   "outputs": [],
   "source": [
    "x_train_cancer, x_test_cancer, y_train_cancer, y_test_cancer = train_test_split(cancer.data, cancer.target, train_size=0.8, random_state=1)"
   ]
  },
  {
   "cell_type": "markdown",
   "id": "169db10e",
   "metadata": {},
   "source": [
    "**Question 7: Bayes Classifier Imported from Activity 3.3**"
   ]
  },
  {
   "cell_type": "code",
   "execution_count": 4,
   "id": "e7926d58",
   "metadata": {},
   "outputs": [],
   "source": [
    "from scipy.stats import multivariate_normal\n",
    "\n",
    "class BayesianClassifier:\n",
    "\n",
    "    def __init__(self, shared_cov=True, cond_ind=True):\n",
    "        self.shared_cov=shared_cov\n",
    "        self.cond_ind=cond_ind\n",
    "\n",
    "    def fit(self, x, y):\n",
    "        self.classes_, class_counts = np.unique(y, return_counts=True)\n",
    "        self.n_ , self.p_ = x.shape\n",
    "        self.k_ = len(self.classes_)\n",
    "        self.cond_means_ = np.zeros(shape=(self.k_, self.p_))\n",
    "        self.cond_covs_ = np.zeros(shape=(self.k_, self.p_, self.p_))\n",
    "        \n",
    "        self.class_priors_ = class_counts/len(y)\n",
    "        for c in range(self.k_):\n",
    "            c_rows = y==c\n",
    "            self.cond_means_[c, :] = x[c_rows].mean(axis=0)\n",
    "            if self.cond_ind:\n",
    "                np.fill_diagonal(self.cond_covs_[c, :, :], x[c_rows].var(axis=0))\n",
    "            else:\n",
    "                self.cond_covs_[c, :, :] = np.cov(x[c_rows].T, bias=True)\n",
    "\n",
    "        if self.shared_cov:\n",
    "            shared_cov = np.moveaxis(self.cond_covs_, 0, -1).dot(self.class_priors_)\n",
    "            self.cond_covs_[:] = shared_cov\n",
    "\n",
    "        return self\n",
    "\n",
    "    def predict_proba(self, x):\n",
    "        m, _ = x.shape\n",
    "        cond_probs = np.zeros(shape=(m, self.k_))\n",
    "        for c in range(self.k_):\n",
    "            # find p(x | c_k)\n",
    "            # singular covariance matrices could happen (e.g., through inaccurate estimation)\n",
    "            cond_probs[:, c] = multivariate_normal.pdf(x, \n",
    "                                                       self.cond_means_[c],\n",
    "                                                       self.cond_covs_[c],\n",
    "                                                       allow_singular=True)\n",
    "        # find marginal probabilities p(x) by summing all the conditionals weighted by the priors\n",
    "        marginal_probs = cond_probs.dot(self.class_priors_)\n",
    "\n",
    "        # find probability vector (p(c1 | x), ..., p(ck | x)) via p(ci | x)=p(x | ci) / p(x)\n",
    "        # however, p(x) might have been rounded to 0\n",
    "        # thus, compute via case distinction\n",
    "        probs = np.divide((cond_probs*self.class_priors_).T,\n",
    "                          marginal_probs,\n",
    "                          where=marginal_probs>0, out=np.zeros(shape=(self.k_, m))).T\n",
    "        return probs\n",
    "\n",
    "    def predict(self, x):\n",
    "        return np.argmax(self.predict_proba(x), axis=1)\n",
    "\n",
    "    def decision_function(self, x):\n",
    "        probs = self.predict_proba(x)\n",
    "        if self.k_ == 2:\n",
    "            return np.log(probs[:, 1]/probs[:, 0])\n",
    "        else:\n",
    "            res = np.zeros(len(x), self.k_)\n",
    "            for c in range(self.k_):\n",
    "                res[:, c]=np.log(probs[:, c]/(1-probs[:, c]))\n",
    "            return res\n",
    "        \n",
    "    def generate(self, n, c, random_state=None):\n",
    "        return multivariate_normal.rvs(self.cond_means_[c], self.cond_covs_[c], size=n, random_state=random_state)"
   ]
  },
  {
   "cell_type": "markdown",
   "id": "5fba9d05",
   "metadata": {},
   "source": [
    "**Question 7: Import Logistic Regression**"
   ]
  },
  {
   "cell_type": "code",
   "execution_count": 5,
   "id": "ea1b3538",
   "metadata": {},
   "outputs": [],
   "source": [
    "from sklearn.linear_model import LogisticRegression"
   ]
  },
  {
   "cell_type": "markdown",
   "id": "34746ccf",
   "metadata": {},
   "source": [
    "**Question 7: Evaluate Performance**"
   ]
  },
  {
   "cell_type": "code",
   "execution_count": 6,
   "id": "5f68ce9e",
   "metadata": {},
   "outputs": [
    {
     "data": {
      "image/png": "[encoded data removed]",
      "text/plain": [
       "<Figure size 500x300 with 1 Axes>"
      ]
     },
     "metadata": {},
     "output_type": "display_data"
    }
   ],
   "source": [
    "from sklearn.metrics import zero_one_loss, log_loss\n",
    "from matplotlib import pyplot as plt\n",
    "import warnings\n",
    "warnings.filterwarnings('ignore', message='The y_pred values do not sum to one. Starting from 1.5 thiswill result in an error.')\n",
    "\n",
    "def plot_model_performances(models, model_names, x_train, y_train, x_test, y_test):\n",
    "    train_01_losses = []\n",
    "    train_log_losses = []\n",
    "    test_01_losses = []\n",
    "    test_log_losses = []\n",
    "    \n",
    "    for i, model in enumerate(models):\n",
    "        train_01_losses.append(zero_one_loss(y_train, model.predict(x_train)))\n",
    "        train_log_losses.append(log_loss(y_train, model.predict_proba(x_train)))\n",
    "        test_01_losses.append(zero_one_loss(y_test, model.predict(x_test)))\n",
    "        test_log_losses.append(log_loss(y_test, model.predict_proba(x_test)))\n",
    "\n",
    "    xx = np.arange(len(models))\n",
    "    bar_width = 1/(len(models)+1)\n",
    "    group_width = len(models)*bar_width\n",
    "    plt.bar(xx-group_width/2, train_log_losses, width=bar_width, label='log loss (train)')\n",
    "    plt.bar(xx-group_width/2 + bar_width, test_log_losses, width=bar_width, label='log loss (test)')\n",
    "    plt.bar(xx-group_width/2 + 2*bar_width, train_01_losses, width=bar_width, label='0/1 loss (train)')\n",
    "    plt.bar(xx-group_width/2 +3*bar_width, test_01_losses, width=bar_width, label='0/1 loss (test)')\n",
    "    plt.xticks(xx, model_names)\n",
    "\n",
    "logistic = LogisticRegression(random_state=1,max_iter = 10000).fit(x_train_cancer,y_train_cancer)\n",
    "nb = BayesianClassifier(shared_cov=False, cond_ind=True).fit(x_train_cancer, y_train_cancer)\n",
    "bc_shared = BayesianClassifier(shared_cov=True, cond_ind=False).fit(x_train_cancer, y_train_cancer)\n",
    "bc = BayesianClassifier(shared_cov=False, cond_ind=False).fit(x_train_cancer, y_train_cancer)\n",
    "\n",
    "models = [logistic, nb, bc_shared, bc]\n",
    "model_names = ['LR', 'NB', 'BC (shared)', 'BC']\n",
    "\n",
    "plt.subplots(1, 1, figsize=(5, 3))\n",
    "plot_model_performances(models, model_names, x_train_cancer, y_train_cancer, x_test_cancer, y_test_cancer)\n",
    "plt.legend()\n",
    "plt.show()\n"
   ]
  },
  {
   "cell_type": "markdown",
   "id": "454dae53",
   "metadata": {},
   "source": [
    "**Question 7.2 Evaluate performance based on different N**"
   ]
  },
  {
   "cell_type": "code",
   "execution_count": 7,
   "id": "d87b4321",
   "metadata": {},
   "outputs": [],
   "source": [
    "def generate_model_performance ():\n",
    "    model_names = ['LR', 'NB', 'BC (shared)', 'BC']\n",
    "    N_list = list(range(5, 501, 5))\n",
    "    model_rest_log = []\n",
    "    model_rest_nb = []\n",
    "    model_rest_bc_shared= []\n",
    "    model_rest_bc = []\n",
    "\n",
    "    for N in N_list:\n",
    "        train_01_losses = [[] for _ in range (len(model_names))]\n",
    "        train_log_losses = [[] for _ in range (len(model_names))]\n",
    "        test_01_losses = [[] for _ in range (len(model_names))]\n",
    "        test_log_losses = [[] for _ in range (len(model_names))]\n",
    "        for it in range (10):\n",
    "            x_train_cancer, x_test_cancer, y_train_cancer, y_test_cancer = train_test_split(cancer.data, cancer.target, train_size = N,random_state = it)\n",
    "            while (len(np.unique(y_train_cancer)) == 1):\n",
    "                    x_train_cancer, x_test_cancer, y_train_cancer, y_test_cancer = train_test_split(cancer.data, cancer.target, train_size = 5)\n",
    "            logistic = LogisticRegression(random_state=1,max_iter = 5000).fit(x_train_cancer,y_train_cancer)\n",
    "            nb = BayesianClassifier(shared_cov=False, cond_ind=True).fit(x_train_cancer, y_train_cancer)\n",
    "            bc_shared = BayesianClassifier(shared_cov=True, cond_ind=False).fit(x_train_cancer, y_train_cancer)\n",
    "            bc = BayesianClassifier(shared_cov=False, cond_ind=False).fit(x_train_cancer, y_train_cancer)\n",
    "            models = [logistic, nb, bc_shared, bc]\n",
    "            for i, model in enumerate(models):\n",
    "                train_01_losses[i].append(zero_one_loss(y_train_cancer, model.predict(x_train_cancer)))\n",
    "                train_log_losses[i].append(log_loss(y_train_cancer, model.predict_proba(x_train_cancer)))\n",
    "                test_01_losses[i].append(zero_one_loss(y_test_cancer, model.predict(x_test_cancer)))\n",
    "                test_log_losses[i].append(log_loss(y_test_cancer, model.predict_proba(x_test_cancer)))\n",
    "        train_01_losses_agg = [np.mean(sublist) for sublist in train_01_losses]\n",
    "        train_log_losses_agg = [np.mean(sublist) for sublist in train_log_losses]\n",
    "        test_01_losses_agg = [np.mean(sublist) for sublist in test_01_losses]\n",
    "        test_log_losses_agg = [np.mean(sublist) for sublist in test_log_losses]\n",
    "        model_rest_log.append([train_01_losses_agg[0],train_log_losses_agg[0],test_01_losses_agg[0],test_log_losses_agg[0]])\n",
    "        model_rest_nb.append([train_01_losses_agg[1],train_log_losses_agg[1],test_01_losses_agg[1],test_log_losses_agg[1]])\n",
    "        model_rest_bc_shared.append([train_01_losses_agg[2],train_log_losses_agg[2],test_01_losses_agg[2],test_log_losses_agg[2]])\n",
    "        model_rest_bc.append([train_01_losses_agg[3],train_log_losses_agg[3],test_01_losses_agg[3],test_log_losses_agg[3]])\n",
    "    return model_rest_log,model_rest_nb,model_rest_bc_shared,model_rest_bc"
   ]
  },
  {
   "cell_type": "markdown",
   "id": "49994ad7-5250-41e1-9f25-0fb5f4ac743e",
   "metadata": {},
   "source": [
    "**Question 7.2 Method to plot performance for data evauluation method above**"
   ]
  },
  {
   "cell_type": "code",
   "execution_count": 8,
   "id": "5d035f04-cecb-4cb1-bbc9-cbe93abaa501",
   "metadata": {},
   "outputs": [],
   "source": [
    "def plot_model_performances_N(model_rest_log,model_rest_nb,model_rest_bc_shared,model_rest_bc, type):\n",
    "    n_list = [f'{n}' for n in range(5, 501, 5)]\n",
    "    model_rest_log = np.array(model_rest_log)\n",
    "    model_rest_nb = np.array(model_rest_nb)\n",
    "    model_rest_bc_shared = np.array(model_rest_bc_shared)\n",
    "    model_rest_bc = np.array(model_rest_bc)\n",
    "\n",
    "    train_01_losses_log = model_rest_log[:, 0]\n",
    "    train_log_losses_log = model_rest_log[:, 1]\n",
    "    test_01_losses_log = model_rest_log[:, 2]\n",
    "    test_log_losses_log = model_rest_log[:, 3]\n",
    "    train_01_losses_nb = model_rest_nb[:, 0]\n",
    "    train_log_losses_nb = model_rest_nb[:, 1]\n",
    "    test_01_losses_nb = model_rest_nb[:, 2]\n",
    "    test_log_losses_nb = model_rest_nb[:, 3]\n",
    "    train_01_losses_bc_shared = model_rest_bc_shared[:, 0]\n",
    "    train_log_losses_bc_shared = model_rest_bc_shared[:, 1]\n",
    "    test_01_losses_bc_shared = model_rest_bc_shared[:, 2]\n",
    "    test_log_losses_bc_shared = model_rest_bc_shared[:, 3]\n",
    "    train_01_losses_bc = model_rest_bc[:, 0]\n",
    "    train_log_losses_bc = model_rest_bc[:, 1]\n",
    "    test_01_losses_bc = model_rest_bc[:, 2]\n",
    "    test_log_losses_bc = model_rest_bc[:, 3]\n",
    "    \n",
    "    xx = np.arange(len(n_list))\n",
    "    bar_width = 0.2\n",
    "    plt.figure(figsize=(12, 8))\n",
    "    if type == 1:\n",
    "        plt.title('Train 01 Losses for Each N')\n",
    "        plt.plot(xx - 2, train_01_losses_log, label='0/1 loss (train) Logistic Regression', color='b', marker='o')\n",
    "        plt.plot(xx - 2, train_01_losses_nb, label='0/1 loss (train) Naive Bayes', color='g', marker='o')\n",
    "        plt.plot(xx - 2, train_01_losses_bc_shared, label='0/1 loss (train) Bayes Shared Covariance', color='r', marker='o')\n",
    "        plt.plot(xx - 2, train_01_losses_bc, label='0/1 loss (train) Bayes No Shared Covariance', color='y', marker='o')\n",
    "\n",
    "    elif type == 2:\n",
    "        plt.title('Log Train Losses for Each N')\n",
    "        plt.plot(xx - 2, train_log_losses_log, label='log loss (train) Logistic Regression', color='b', marker='o')\n",
    "        plt.plot(xx - 2, train_log_losses_nb, label='log loss (train) Naive Bayes', color='g', marker='o')\n",
    "        plt.plot(xx - 2, train_log_losses_bc_shared, label='log loss (train) Bayes Shared Covariance', color='r', marker='o')\n",
    "        plt.plot(xx - 2, train_log_losses_bc, label='log loss (train) Bayes No Shared Covariance', color='y', marker='o')    \n",
    "    \n",
    "    elif type == 3:\n",
    "        plt.title('Test 01 Losses for Each N')\n",
    "        plt.plot(xx - 2, test_01_losses_log, label='0/1 loss (test) Logistic Regression', color='b', marker='o')\n",
    "        plt.plot(xx - 2, test_01_losses_nb, label='0/1 loss (test) Naive Bayes', color='g', marker='o')\n",
    "        plt.plot(xx - 2, test_01_losses_bc_shared, label='0/1 loss (test) Bayes Shared Covariance', color='r', marker='o')\n",
    "        plt.plot(xx - 2, test_01_losses_bc, label='0/1 loss (test) Bayes No Shared Covariance', color='y', marker='o')\n",
    "    else:\n",
    "        plt.title('Log Test Losses for Each N')\n",
    "        plt.plot(xx - 2, test_log_losses_log, label='log loss (test) Logistic Regression', color='b', marker='o')\n",
    "        plt.plot(xx - 2, test_log_losses_nb, label='log loss (test) Naive Bayes', color='g', marker='o')\n",
    "        plt.plot(xx - 2, test_log_losses_bc_shared, label='log loss (test) Bayes Shared Covariance', color='r', marker='o')\n",
    "        plt.plot(xx - 2, test_log_losses_bc, label='log loss (test) Bayes No Shared Covariance', color='y', marker='o')\n",
    "        \n",
    "    plt.xticks(xx, n_list, fontsize=8,rotation=90)\n",
    "    plt.xlabel('N')\n",
    "    plt.ylabel('Loss')\n",
    "    plt.legend()\n",
    "    plt.tight_layout()\n",
    "    plt.show()"
   ]
  },
  {
   "cell_type": "markdown",
   "id": "8e60a059-b6d8-468e-bd77-c1c4f01d4137",
   "metadata": {},
   "source": [
    "**Question 7.2 Generate Model Performance Data**"
   ]
  },
  {
   "cell_type": "code",
   "execution_count": null,
   "id": "de26bb60-2ce8-450f-9a1d-5b3436e4c356",
   "metadata": {},
   "outputs": [],
   "source": [
    "model_rest_log,model_rest_nb,model_rest_bc_shared,model_rest_bc = generate_model_performance()"
   ]
  },
  {
   "cell_type": "markdown",
   "id": "2c025e46-d7fe-4090-b24c-da39064f3a6b",
   "metadata": {},
   "source": [
    "**Question 7.3 Plot Model Performance for the four losses for Logistic Regression**"
   ]
  },
  {
   "cell_type": "code",
   "execution_count": null,
   "id": "3c901993",
   "metadata": {},
   "outputs": [],
   "source": [
    "plot_model_performances_N (model_rest_log,model_rest_nb,model_rest_bc_shared,model_rest_bc,1)"
   ]
  },
  {
   "cell_type": "code",
   "execution_count": null,
   "id": "1fd5d695",
   "metadata": {},
   "outputs": [],
   "source": [
    "plot_model_performances_N (model_rest_log,model_rest_nb,model_rest_bc_shared,model_rest_bc,2)"
   ]
  },
  {
   "cell_type": "code",
   "execution_count": null,
   "id": "1b2e20a6",
   "metadata": {},
   "outputs": [],
   "source": [
    "plot_model_performances_N (model_rest_log,model_rest_nb,model_rest_bc_shared,model_rest_bc,3)"
   ]
  },
  {
   "cell_type": "code",
   "execution_count": null,
   "id": "940db3e0",
   "metadata": {},
   "outputs": [],
   "source": [
    "plot_model_performances_N (model_rest_log,model_rest_nb,model_rest_bc_shared,model_rest_bc,4)"
   ]
  },
  {
   "cell_type": "markdown",
   "id": "6af06f55-8e15-46ae-b7a8-a6a5c46e6b7c",
   "metadata": {},
   "source": [
    "**Question 7.4 Analysis**"
   ]
  },
  {
   "cell_type": "markdown",
   "id": "8615212d-04a4-4781-b8c7-84737173f7e9",
   "metadata": {},
   "source": [
    "A) For **Logistic Regression**, we can observe that small training sizes means that it has **low log train loss and essentially 0 0/1 train loss**. This means that it is able to correctly classify each training data by fully fitting it and only has **high confidence in its predictions (through the low log loss)**. The log and 0/1 losses for test data tells a different story as it **remains high throughout the small training sizes** which indicates the model's lack of ability to predict for unseen data (**a telltale sign of overfitting**). As the training data size increases, we can see a steady increase in 0/1 train loss which indicates the model is performing worse when the training data is large (**which might mean that the model is learning the noise from training data instead of useful features**) while log train loss stays relatively similar. However, the test log losses and test 0/1 losses see a steady decrease as training size is larger which also indicates that the model complexity is increasing with the larger training size, thus allowing it to capture more underlying patterns in the data and perform better on unseen data.  \n",
    "\n",
    "As for **Naive Bayes**, it seems to struggle when training size is small since **three out of four losses for both training and testing are significantly higher than any other models at any stage** which means that is produces unreliable results and is unable to capture any useful patterns (**possibly due to the low model complexity stemming from the conditional independence assumption for Naive Bayes**). As the training size increases, we can see a steady decrease in training 0/1 loss and log loss **but it is still extremely high and stagnates at around 0.07 and 1.4 respectively**. However, the model's testing log and 0/1 losses gets surprisingly low which may indicate that the **conditional independence assumption is reaping its benefits since it helps to ignore irrelevant features and noise, which might be present in this dataset given its large amount of features**.  \n",
    "\n",
    "Then, we have **Bayes Classifier without a shared covariance matrix** where the log and 0/1 training loss **starts off low and decreases during the initial N increases of the training data** which indicates it's ability to capture the patterns of the training data. However, the testing loss tells a different story where 0/1 loss decreases while log loss increases steadily even during the inital N sizes of training data which seems to tell us that **the model is able to correctly predict the right labels but the confidence in prediction is ldecreasing into a value closer further from 1 and closer to 0.5**. Once the training data size is increase, the log and 0/1 train loss decreases and stagnates and similarly to **Logistic Regression**, the testing log and 0/1 losses also decreases steadily due to the increased model complexity.\n",
    "\n",
    "Last but not least, we have the **Bayes Cassifier with a shared covariance matrix** where 0/1 and log train loss is extremely low for low training data able to fit and predict its given data relatively accurately. The test log and 0/1 losses however shows high values in initial N size training data sets showing signs of **overfitting and that model complexity is still too high which causes it to capture noise instead**. As we increase the training data, the log and 0/1 train losses see an decrease which is a phenomenon we have seen in the other models. The testing 0/1 and log losses also show a steady decrease which means that our model is able to capture more patterns within the dataset. \n",
    "\n",
    "B) According to my observation, I personally think its between Logistic Regression or Bayes Classifier with shared covariance for cases where training size is small because both performs similarly on training data with one having higher log loss (**Logistic Regression**) and one having higher 0/1 loss (**Bayes Classifier with shared covariance**). When looking at test performance, Logistic Regression easily beats out Bayes Classifier which makes it a better choice. This can be attributed to Logistic Regression being a simplier model compared to a Bayesian Model which will allow it to perform better on limited data as more complicated models such as Bayes **have a tendency to overfit when dataset is small and learn useless features / noise**. With a simplier model in Logistic Regression, we can generalize much better on unseen data which can be seen in the test performance as indicated above.\n",
    "\n",
    "As for larger datasets, I think the choice becomes more muddled as Logistic Regression and Bayes Classifier with shared covariance shows similar performances as N increase. Ultimately, **Bayes Classifier with shared covariance** showed the lowest final log and 0/1 test losses which makes it a good choice since it indicates that the model is a perfect balance between being complex enough to capture the underlying pattern (**along with the interrelationship between the features**) while also being simple enough such that it does not capture too much noise as we can see in the **non-shared covariance** Bayes Classifier model."
   ]
  }
 ],
 "metadata": {
  "kernelspec": {
   "display_name": "Python 3 (ipykernel)",
   "language": "python",
   "name": "python3"
  },
  "language_info": {
   "codemirror_mode": {
    "name": "ipython",
    "version": 3
   },
   "file_extension": ".py",
   "mimetype": "text/x-python",
   "name": "python",
   "nbconvert_exporter": "python",
   "pygments_lexer": "ipython3",
   "version": "3.11.5"
  }
 },
 "nbformat": 4,
 "nbformat_minor": 5
}
