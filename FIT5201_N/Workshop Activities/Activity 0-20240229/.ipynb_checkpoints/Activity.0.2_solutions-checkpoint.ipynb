{
 "cells": [
  {
   "attachments": {},
   "cell_type": "markdown",
   "metadata": {},
   "source": [
    "# Activity 0.2. Probability\n",
    "(last modified 8 March 2023)\n",
    "\n",
    "### Learning Outcomes\n",
    "\n",
    "In this activity we learn how to:\n",
    "\n",
    "- use numpy `ufunc` to implement probability density functions\n",
    "- use the density function of the exponential distribution to find probabilities\n",
    "- compute the expected value of an exponentially distributed random variable using integration by parts\n",
    "- apply maximum likelihood parameter estimation to infer the parameter of an exponential random variable from data\n",
    "\n",
    "Prerequisites\n",
    "\n",
    "- Calculus (integration and differentiation)\n",
    "- Basic probability concepts (as recapped in Lecture 2)\n"
   ]
  },
  {
   "attachments": {},
   "cell_type": "markdown",
   "metadata": {},
   "source": [
    "### The Density Function of the Exponential Distribution\n",
    "\n",
    "Lecture 2 uses an example of modelling the time until one receives ones first email during a work day via an **exponential distribution**. Exponentially distributed random variables are continuous random variables $X$ with domain $D_X=[0, \\infty)$ and a probabiloty density function (pdf) of the form\n",
    "\n",
    "\\begin{equation*}\n",
    "p(x) = w\\exp(-wx)\n",
    "\\end{equation*}\n",
    "\n",
    "where the parameter $w$ is known as the **rate parameter**. Let us implement this density function to visualise it and to understand the influence of the rate parameter.\n",
    "\n",
    "#### Task A: Implement the exponential pdf\n",
    "\n",
    "**Finish the implementation below**"
   ]
  },
  {
   "cell_type": "code",
   "execution_count": 40,
   "metadata": {},
   "outputs": [
    {
     "data": {
      "text/plain": [
       "0.1353352832366127"
      ]
     },
     "execution_count": 40,
     "metadata": {},
     "output_type": "execute_result"
    }
   ],
   "source": [
    "import numpy as np\n",
    "from numpy import exp\n",
    "\n",
    "def expon_pdf(y, w=1):\n",
    "    return w*exp(-w*y)\n",
    "\n",
    "expon_pdf(2)"
   ]
  },
  {
   "attachments": {},
   "cell_type": "markdown",
   "metadata": {},
   "source": [
    "The `numpy` function `exp` is a universal function (or [ufunc](https://numpy.org/doc/stable/user/basics.ufuncs.html#ufuncs-basics)), which means that it can, e.g., be called with array arguments and it will be applied element-wise. With our implementation we should have inherited this behaviour for our implementation of the exponential pdf, which is very useful for plotting."
   ]
  },
  {
   "cell_type": "code",
   "execution_count": 42,
   "metadata": {},
   "outputs": [
    {
     "data": {
      "text/plain": [
       "array([2.        , 1.60147481, 1.28236078, 1.02683424, 0.82222458,\n",
       "       0.65838598, 0.52719428, 0.42214418, 0.33802663, 0.27067057])"
      ]
     },
     "execution_count": 42,
     "metadata": {},
     "output_type": "execute_result"
    }
   ],
   "source": [
    "y = np.linspace(0, 1, 10)\n",
    "expon_pdf(y, 2)"
   ]
  },
  {
   "attachments": {},
   "cell_type": "markdown",
   "metadata": {},
   "source": [
    "Let us use now plot the pdf for different values of the rate parameter. Before you run this the next cell, answer the following question.\n",
    "\n",
    "#### Task B: What is the influence of the rate parameter on the pdf?\n",
    "\n",
    "*The higher the rate the faster the probability mass drops to 0, i.e., the more mass is shifted to the left.*"
   ]
  },
  {
   "cell_type": "code",
   "execution_count": 45,
   "metadata": {},
   "outputs": [
    {
     "data": {
      "image/png": "[encoded data removed]",
      "text/plain": [
       "<Figure size 324x252 with 1 Axes>"
      ]
     },
     "metadata": {
      "needs_background": "light"
     },
     "output_type": "display_data"
    }
   ],
   "source": [
    "from matplotlib import pyplot as plt\n",
    "\n",
    "y = np.linspace(0, 3, 200)\n",
    "ws = [0.5, 1, 2]\n",
    "\n",
    "font = {'size': 'large'}\n",
    "plt.figure(figsize=(4.5, 3.5))\n",
    "for w in ws:\n",
    "    plt.plot(y, expon_pdf(y, w), label=f'$w={w}$')\n",
    "plt.ylabel('$p(x)$', fontdict=font)\n",
    "plt.xlabel('$x$', fontdict=font)\n",
    "plt.margins(x=0, y=0)\n",
    "plt.legend()\n",
    "plt.show()\n"
   ]
  },
  {
   "attachments": {},
   "cell_type": "markdown",
   "metadata": {},
   "source": [
    "### Computing Probabilities from Densities\n",
    "\n",
    "Probability densities encode probabilities of an event like $X \\in [a, b]$ as the area under the curve of the density function between $a$ and $b$, i.e., via integration:\n",
    "$$\n",
    "\\Pr(X \\in [a, b]) = \\int_{a}^b p(x) dx .\n",
    "$$\n",
    "For example if I know that the arrival time of my first email is exponentially distributed with rate parameter $w=1.5$ and I want to know what is the probability of receiving my first email within my second hour of work, I can compute\n",
    "$$\n",
    "\\Pr(X \\in [1, 2]) = \\int_{1}^2 p(x) dx = \\int_{1}^2 1.5\\exp(-1.5x) dx \\enspace.\n",
    "$$\n",
    "\n",
    "Let us visualise the area under the curve that corresponds to that probability."
   ]
  },
  {
   "cell_type": "code",
   "execution_count": 46,
   "metadata": {},
   "outputs": [
    {
     "data": {
      "image/png": "[encoded data removed]",
      "text/plain": [
       "<Figure size 324x252 with 1 Axes>"
      ]
     },
     "metadata": {
      "needs_background": "light"
     },
     "output_type": "display_data"
    }
   ],
   "source": [
    "w = 1.5\n",
    "plt.figure(figsize=(4.5, 3.5))\n",
    "plt.plot(y, expon_pdf(y, w), label='$w=0.5$')\n",
    "plt.ylabel('$p(x)$', fontdict=font)\n",
    "plt.xlabel('$x$', fontdict=font)\n",
    "plt.margins(x=0, y=0)\n",
    "plt.fill_between(np.linspace(1, 2, 50), expon_pdf(np.linspace(1, 2, 50), w), alpha=0.3)\n",
    "plt.vlines(1, 0, expon_pdf(1, w), linestyles='--')\n",
    "plt.vlines(2, 0, expon_pdf(2, w), linestyles='--')\n",
    "plt.show()"
   ]
  },
  {
   "attachments": {},
   "cell_type": "markdown",
   "metadata": {},
   "source": [
    "By the fundamental theorem of calculus we can compute definite integrals of a function $f$ via\n",
    "$$\n",
    "\\int_a^b f(x)dx = F(b) - F(a) = [F(x)]_a^b\n",
    "$$\n",
    "where $F$ is an anti-deriviative of $f$, i.e., any function $F$ that satisfies\n",
    "$$\n",
    "\\frac{d}{dx} F(x) = f(x) \\enspace .\n",
    "$$\n",
    "\n",
    "Thus, we can compute probabilities for an exponentially distributed random variable, if we can find an anti-derivative of the density, i.e., a function $P(x)$ with the property that its derivative is given as \n",
    "$$\n",
    "    \\frac{d}{dx}P(x)=p(x)=w\\exp(-wx) \\enspace .\n",
    "$$\n",
    "\n",
    "#### Task C: Find an anti-derivative of the exponential pdf\n",
    "\n",
    "Hint: Remember the chain rule for derivatives and that the derivative of the exponential function is the exponential function itself, i.e., $d\\exp(x)/dx=\\exp(x)$.\n",
    "\n",
    "\\begin{equation*}\n",
    "P(x) = -\\exp(-wx)\n",
    "\\end{equation*}"
   ]
  },
  {
   "cell_type": "code",
   "execution_count": 48,
   "metadata": {},
   "outputs": [
    {
     "data": {
      "text/plain": [
       "0.17334309178056587"
      ]
     },
     "execution_count": 48,
     "metadata": {},
     "output_type": "execute_result"
    }
   ],
   "source": [
    "exp(-w*1)-exp(-w*2)"
   ]
  },
  {
   "attachments": {},
   "cell_type": "markdown",
   "metadata": {},
   "source": [
    "### Expected Value\n",
    "\n",
    "The expected value (or mean value) of a continuous random variable $X$ with domain $D_X$ is defined as\n",
    "$$\n",
    "\\mathbb{E}[X] = \\int_{D_x} x\\, p(x) dx \\enspace .\n",
    "$$\n",
    "\n",
    "This means for our case of an exponentially distributed $X$ with rate parameter $w$ that\n",
    "$$\n",
    "\\mathbb{E}[X] = \\int_0^\\infty x w \\exp(-wx) dx \\enspace .\n",
    "$$\n",
    "\n",
    "Let us see what is the value of the expected value in terms of the rate parameter. Solving this integral will be a bit more challenging and we have to use an advanced integration technique: integration by parts.\n",
    "\n",
    "Integration by parts is an integration rule that allows us to simplify integrals over products of functions (like in our case the product of $x$ and $w\\exp(-wx)$). The rule is\n",
    "$$\n",
    "\\int_a^b f(x)g'(x)dx = [f(x)g(x)]_a^b - \\int_a^b f'(x)g(x) dx\n",
    "$$\n",
    "with where $f'(x)$ and $g'(x)$ denote the derivatives of functions $f$ and $g$, respectively. \n",
    "\n",
    "When you see this for the first time it might not seem very useful. However, note that this formula allows us to simplify our task substantially if we choose\n",
    "\\begin{align*}\n",
    "f(x) &= x \\\\\n",
    "g'(x) &= w\\exp(-wx)\n",
    "\\end{align*}\n",
    "because with this choice $f'(x)$ simply becomes the constant $1$ and, by observing that $g$ is our exponential density $p$, we already know the anti-derivative $g(x)$. Let us use this to find the expected value.\n",
    "\n",
    "#### Task D: Find the expected value in terms of the rate parameter\n",
    "\n",
    "**Finish the derivation below and then compute the expected value for $w=1.5$ in the subsequent visualisation code.**\n",
    "\n",
    "Hint: The only thing that remains to be done is to find an anti-derivative of $\\exp(-wx)$ to solve the remaining integral. Recall from above, how we can find anti-derivatives of exponential functions using the chain rule.\n",
    "\n",
    "\\begin{align*}\n",
    "\\int_{0}^\\infty x w\\exp(-wx)dx &= [-x\\exp(-wx)]_0^\\infty - \\int_0^\\infty \\exp(-wx)\\\\\n",
    "&=0 - 0 - \\left[-\\frac{1}{w}\\exp(-wx)\\right]_0^\\infty\\\\\n",
    "&=\\frac{1}{w}\n",
    "\\end{align*}"
   ]
  },
  {
   "cell_type": "code",
   "execution_count": 53,
   "metadata": {},
   "outputs": [
    {
     "data": {
      "image/png": "[encoded data removed]",
      "text/plain": [
       "<Figure size 324x252 with 1 Axes>"
      ]
     },
     "metadata": {
      "needs_background": "light"
     },
     "output_type": "display_data"
    }
   ],
   "source": [
    "w = 1.5\n",
    "mean_value = 1/w\n",
    "\n",
    "plt.figure(figsize=(4.5, 3.5))\n",
    "plt.plot(y, expon_pdf(y, w))\n",
    "plt.axvline(mean_value, color='black', linestyle='--', label = 'E[X]')\n",
    "plt.ylabel('$p(x)$', fontdict=font)\n",
    "plt.xlabel('$x$', fontdict=font)\n",
    "plt.margins(x=0, y=0)\n",
    "plt.legend()\n",
    "plt.show()"
   ]
  },
  {
   "attachments": {},
   "cell_type": "markdown",
   "metadata": {},
   "source": [
    "### Maximum Likelihood Parameter Estimation\n",
    "\n",
    "Finally, let us estimate the rate parameter of an exponential distribution given training data. To generate the data, we will use the implementation of the exponential distribution in the `scipy.stats` module called `expon`. In particular, we use the method `rvs` to generate a number $n=20$ of independent realisations of the random variable. \n",
    "\n",
    "Note that the scipy implementation of the exponential distribution uses a different parameterisation where we have to specifiy instead of the rate parameter its inverse, i.e., the mean."
   ]
  },
  {
   "cell_type": "code",
   "execution_count": 83,
   "metadata": {},
   "outputs": [
    {
     "data": {
      "text/plain": [
       "array([0.53058301, 0.83728718, 0.6154821 , 0.52480077, 0.36736566,\n",
       "       0.6921062 , 0.38367947, 1.48234961, 2.20994145, 0.3224014 ,\n",
       "       1.04593076, 0.50178274, 0.5596219 , 1.73216944, 0.04912357,\n",
       "       0.06077402, 0.01361706, 1.19165845, 1.00385615, 1.36020952])"
      ]
     },
     "execution_count": 83,
     "metadata": {},
     "output_type": "execute_result"
    }
   ],
   "source": [
    "from scipy.stats import expon\n",
    "\n",
    "w_true = 1.5\n",
    "n = 20\n",
    "x = expon.rvs(0, 1/w_true, size=n, random_state=0)\n",
    "x"
   ]
  },
  {
   "cell_type": "code",
   "execution_count": 89,
   "metadata": {},
   "outputs": [
    {
     "data": {
      "image/png": "[encoded data removed]",
      "text/plain": [
       "<Figure size 432x288 with 1 Axes>"
      ]
     },
     "metadata": {
      "needs_background": "light"
     },
     "output_type": "display_data"
    }
   ],
   "source": [
    "plt.hist(x, density=True, bins=10)\n",
    "xx = np.linspace(0, 4)\n",
    "plt.plot(xx, expon_pdf(xx, w_true), color='black', label='$w$')\n",
    "plt.margins(x=0)\n",
    "plt.legend()\n",
    "plt.ylabel('$p(x)$', fontdict=font)\n",
    "plt.xlabel('$x$', fontdict=font)\n",
    "plt.show()"
   ]
  },
  {
   "attachments": {},
   "cell_type": "markdown",
   "metadata": {},
   "source": [
    "The principle of maximum likelihood estimation (MLE) is to maximise the likelihood function, i.e., the probability of the observed data (assuming our model) as a function of the parameter:\n",
    "$$\n",
    "p(x_1, \\dots, x_N | w) = \\prod_{n=1}^N p(x_n | w)\n",
    "$$\n",
    "where the equality holds because we assume that the individual data points have been generated independently of each other. \n",
    "\n",
    "To optimise the function, we can as usually use the derivative criterion. However, this is going to be hard to apply with the product. Hence, one typically resorts to maximising the log-transformed likelhihood function instead. \n",
    "\n",
    "In short, the recipe for finding the maximum likelihood paramaters is:\n",
    "\n",
    "1. Write down the log likelihood function\n",
    "2. Form the derivative in the parameters\n",
    "3. Set to 0 and solve\n",
    "\n",
    "#### Task E: Derivate and implement MLE for the exponential distribution\n",
    "\n",
    "**Finish the derivation below. Afterwards implement the maximum likelihood estimator in the following code cell.** \n",
    "\n",
    "Step 1\n",
    "\\begin{align*}\n",
    "\\log \\prod_{n=1}^N p(x_n | w) &= \\sum_{n=1}^N \\log p(x_n | w)\\\\\n",
    "&= \\sum_{n=1}^N \\log w\\exp(-wx_n)\\\\\n",
    "&= N\\log w - w\\sum_{n=1}^N x_n\n",
    "\\end{align*}\n",
    "\n",
    "Step 2\n",
    "\\begin{align*}\n",
    "\\frac{d}{dw} \\log \\prod_{n=1}^N p(x_n | w) &= \\frac{d}{dw} \\left (N\\log w - w\\sum_{n=1}^N x_n\\right )\\\\\n",
    "&=\\frac{N}{w} - \\sum_{n=1}^N x_n\n",
    "\\end{align*}\n",
    "\n",
    "Step 3\n",
    "$$\n",
    "\\frac{N}{w} - \\sum_{n=1}^N x_n = 0 \\Rightarrow w = N/\\sum_{n=1}^N x_n\n",
    "$$\n"
   ]
  },
  {
   "cell_type": "code",
   "execution_count": 90,
   "metadata": {},
   "outputs": [],
   "source": [
    "def expon_mle(x):\n",
    "    return len(x) / sum(x)"
   ]
  },
  {
   "cell_type": "code",
   "execution_count": 91,
   "metadata": {},
   "outputs": [
    {
     "data": {
      "image/png": "[encoded data removed]",
      "text/plain": [
       "<Figure size 432x288 with 1 Axes>"
      ]
     },
     "metadata": {
      "needs_background": "light"
     },
     "output_type": "display_data"
    }
   ],
   "source": [
    "w_ml = expon_mle(x)\n",
    "\n",
    "plt.hist(x, density=True, bins=10, label='sample')\n",
    "xx = np.linspace(0, 4)\n",
    "plt.plot(xx, expon_pdf(xx, w_true), color='black', label='$w$')\n",
    "plt.plot(xx, expon_pdf(xx, w_ml), label='$w_\\mathrm{ML}$')\n",
    "plt.margins(x=0)\n",
    "plt.legend()\n",
    "plt.ylabel('$p(x)$', fontdict=font)\n",
    "plt.xlabel('$x$', fontdict=font)\n",
    "plt.show()"
   ]
  }
 ],
 "metadata": {
  "kernelspec": {
   "display_name": "Python 3",
   "language": "python",
   "name": "python3"
  },
  "language_info": {
   "codemirror_mode": {
    "name": "ipython",
    "version": 3
   },
   "file_extension": ".py",
   "mimetype": "text/x-python",
   "name": "python",
   "nbconvert_exporter": "python",
   "pygments_lexer": "ipython3",
   "version": "3.9.10"
  },
  "orig_nbformat": 4,
  "vscode": {
   "interpreter": {
    "hash": "aee8b7b246df8f9039afb4144a1f6fd8d2ca17a180786b69acc140d282b71a49"
   }
  }
 },
 "nbformat": 4,
 "nbformat_minor": 2
}
