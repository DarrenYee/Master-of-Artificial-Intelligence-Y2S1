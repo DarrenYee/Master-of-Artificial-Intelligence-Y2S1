{
 "cells": [
  {
   "cell_type": "markdown",
   "metadata": {},
   "source": [
    "# Activity 5.2. Autoencoder\n",
    "\n",
    "(Last Modified September 7th 2023)\n",
    "\n",
    "This Laboratory should take approximately two hours to complete. "
   ]
  },
  {
   "cell_type": "markdown",
   "metadata": {},
   "source": [
    "# Learning Outcomes\n",
    "\n",
    "In this activity you will learn to: \n",
    "- Install and use the Pytorch library\n",
    "- Fit deep autoencoder networks and interpret their results\n",
    "- Use dimensionality reduction techniques like PCA to aid in model comparison. "
   ]
  },
  {
   "cell_type": "markdown",
   "metadata": {},
   "source": [
    "# Prerequisites\n",
    "\n",
    "- Lecture 10\n",
    "- Activity 4.2\n",
    "- Activity 5.1\n",
    "- pyTorch\n",
    "\n",
    "You can install pyTorch in the terminal with the command\n",
    "'pip3 install torch'"
   ]
  },
  {
   "cell_type": "markdown",
   "metadata": {},
   "source": [
    "# Autoencoder\n",
    "\n",
    "In Activity 5.1 we implemented a three layer Neural Network. In this lab we will use a more sophisticated form of Neural Network called a deep Autoencoder. Rather than creating our own implementation, we will use the python library Torch to get all the functions we need to fit our model. The train_autoencoder function in the Activity5.py file call functions from Torch to do this for us. "
   ]
  },
  {
   "cell_type": "markdown",
   "metadata": {},
   "source": [
    "## MINST Dataset\n",
    "MINST is a large dataset of handwritten digits that can be downloded from: https://www.kaggle.com/c/digit-recognizer/data?train.csv. The train set contains 42K images, where each of them is of size 28 by 28 pixels. Each row of the `train.csv` file represents one of the vectorized images as well as its label. Therefore, the dataset has 785 columns = 1 + 28 x 28. Here, we use a subset of images (only digits 0 to 3) that are stored in `train_0_3.csv`. If you find that the code takes a long time to run on your laptop, feel free to use `train_0_3_small.csv` which is just a smaller subsample of `train_0_3.csv`.\n",
    "\n",
    "We provide some helper functions written for you to not let you worry about the implementation details of pytorch. If you are interested, it is highly recommended that you read more about Pytorch and try to edit the code and implement more advanced features. A good place to start is [here](https://pytorch.org/tutorials/?utm_source=Google&utm_medium=PaidSearch&utm_campaign=%2A%2ALP+-+TM+-+General+-+HV+-+AU&utm_adgroup=PyTorch+Tutorials&utm_keyword=pytorch%20tutorials&utm_offering=AI&utm_Product=PyTorch&gclid=EAIaIQobChMI1sqWlaKF6gIV2gorCh1d9g_7EAAYASAAEgKzkvD_BwE)."
   ]
  },
  {
   "cell_type": "code",
   "execution_count": 1,
   "metadata": {},
   "outputs": [],
   "source": [
    "import torch"
   ]
  },
  {
   "cell_type": "code",
   "execution_count": 45,
   "metadata": {},
   "outputs": [],
   "source": [
    "import numpy as np\n",
    "import pandas as pd\n",
    "from matplotlib import pyplot as plt\n",
    "from matplotlib import cm as cm\n",
    "from sklearn.decomposition import PCA\n",
    "from Activity5 import *    "
   ]
  },
  {
   "cell_type": "code",
   "execution_count": 151,
   "metadata": {},
   "outputs": [
    {
     "data": {
      "text/plain": [
       "(1000, 785)"
      ]
     },
     "execution_count": 151,
     "metadata": {},
     "output_type": "execute_result"
    }
   ],
   "source": [
    "# read data and take a look\n",
    "data = pd.read_csv('train_0_3_small.csv')\n",
    "# data = pd.read_csv('train_0_3.csv')\n",
    "\n",
    "data.head()\n",
    "data.shape"
   ]
  },
  {
   "cell_type": "code",
   "execution_count": 152,
   "metadata": {},
   "outputs": [],
   "source": [
    "# label is in first column and the remaining columns are the image itself\n",
    "# split into X and Y\n",
    "X = np.array(data.iloc[:,1:])\n",
    "Y = np.array(data.iloc[:,0])"
   ]
  },
  {
   "cell_type": "code",
   "execution_count": 153,
   "metadata": {},
   "outputs": [
    {
     "name": "stderr",
     "output_type": "stream",
     "text": [
      "/home/simon/Documents/Teaching/2023 - S2/FIT5201/Module 5/Activity5.py:62: MatplotlibDeprecationWarning: Passing non-integers as three-element position specification is deprecated since 3.3 and will be removed two minor releases later.\n",
      "  a = fig.add_subplot(rows, np.ceil(n_images/float(rows)), n + 1)\n"
     ]
    },
    {
     "data": {
      "image/png": "[encoded data removed]",
      "text/plain": [
       "<Figure size 1036.8x691.2 with 12 Axes>"
      ]
     },
     "metadata": {
      "needs_background": "light"
     },
     "output_type": "display_data"
    }
   ],
   "source": [
    "#visualize some samples\n",
    "show_images(X[:12], Y[:12],rows=3, scale=5)"
   ]
  },
  {
   "cell_type": "markdown",
   "metadata": {},
   "source": [
    "## Initialization\n",
    "\n",
    "**Note:** If your machine is not powerful enough, you may use `train_0_3_small.csv` instead of `train_0_3.csv` which has only `1000` images. However, this few number of images might not be enough to train a deep autoencoder."
   ]
  },
  {
   "cell_type": "markdown",
   "metadata": {},
   "source": [
    "## Autoencoder\n",
    "From previous chapter, recall that an autoencoder is a neural network that maps input datapoints to lower dimension spaces, then tries to reconstruct them from these low dimensional feature vectors. In the next few tasks we will explore the effect of changing the number of hidden layers and the depth of our layers. \n",
    "\n",
    "Additionally, we can visualize the feature vectors from the middle hidden layer (which we delibrately choose to have only two units) and compare them with the first two priciple components that we obtained by running a simple PCA. This will allow us to compare autoencoders and PCA as tools for dimensionality reduction. \n",
    "\n",
    "To train a deep autoencoder, we call `train_autoencoder` function, which is implemented in Activity5.py while specifying the number of units in each layer using `hidden` argument. For example, `hidden = [100, 2, 100]` means we intend to build an autoencoder with three hidden layers where the first and the last one have `100` units and the the middle one has only `2` units. "
   ]
  },
  {
   "cell_type": "markdown",
   "metadata": {},
   "source": [
    "## Task A: Fit an autoencoder\n",
    "\n",
    "Fit an autoencoder with a learning rate of 0.0001, an activation function 'Tahn', which will run for a maximum of 10 epochs, and which has three hidden layers, with 100, 2 and 100 nodes in each layer respectively. "
   ]
  },
  {
   "cell_type": "code",
   "execution_count": null,
   "metadata": {},
   "outputs": [],
   "source": [
    "epochs = 10\n",
    "lr = 0.001\n",
    "activation = 'Tanh'\n",
    "hidden = [100, 2, 100]\n",
    "\n",
    "AE_model, losses = train_autoencoder(    \n",
    "    X_train = , # training data\n",
    "    hidden = , # number of layers and their units\n",
    "    epochs = , # maximum number of epoches  \n",
    "    activation = , # activation function\n",
    "    lr =    #learning rate\n",
    ")"
   ]
  },
  {
   "cell_type": "markdown",
   "metadata": {},
   "source": [
    "## Task B: Plot fit quality over time\n",
    "\n",
    "Plot how the mean squared error varies during the fitting procedure. What do you observe?"
   ]
  },
  {
   "cell_type": "code",
   "execution_count": null,
   "metadata": {},
   "outputs": [],
   "source": [
    "fig, axs = plt.subplots(1, 1)\n",
    "fig.set_figheight(6)\n",
    "fig.set_figwidth(8)\n",
    "\n",
    "axs.plot(range(len(losses)), losses, label='Hidden={0}'.format(str(hidden)))\n",
    "\n",
    "axs.legend()\n",
    "axs.set_xlabel('epoch')\n",
    "axs.set_ylabel('Mean Squared Error')\n",
    "axs.set_title('Model performance over fitting procedure')"
   ]
  },
  {
   "cell_type": "markdown",
   "metadata": {},
   "source": [
    "Now, our model is built and saved in `AE_model` variable. As mentioned before, we want to visualize the middle hidden layer which for all the model we chose to have only two units. The `get_deepfeatures` function helps us to get access to these values. Note that the index of the middle layer varies in each model (as they have different number of layers). To know how to decide which layer number you want to examine, try to print the model object."
   ]
  },
  {
   "cell_type": "code",
   "execution_count": null,
   "metadata": {},
   "outputs": [],
   "source": [
    "print(AE_model)\n",
    "project = get_deepfeatures(AE_model,X, layer_number=2)"
   ]
  },
  {
   "cell_type": "markdown",
   "metadata": {},
   "source": [
    "Now that the two dimensional reduction from our autoencoder has been retrieved we can perform principal component analysis and maintain two features to compare to our autoencoder."
   ]
  },
  {
   "cell_type": "markdown",
   "metadata": {},
   "source": [
    "## Task C: Plot Dimensionality Reduction\n",
    "\n",
    "Create a scatter plot for both the autoencoder and the PCA dimensionality reductions. The x and y axis should be the two variables that have created during the dimensionality reduction procedure. The datapoints should be colored based on their true class. You can use matplotlib's cmap argument to help with this. "
   ]
  },
  {
   "cell_type": "code",
   "execution_count": 157,
   "metadata": {},
   "outputs": [],
   "source": [
    "## perform pca\n",
    "pca = PCA(n_components=2)\n",
    "_2D_features = pca.fit_transform(normalize(X))"
   ]
  },
  {
   "cell_type": "code",
   "execution_count": null,
   "metadata": {},
   "outputs": [],
   "source": [
    "fig, axs = plt.subplots(1, 2, figsize=(10,10))\n",
    "fig.set_figheight(5)\n",
    "fig.set_figheight(5)\n",
    "\n",
    "\n",
    "classes = np.unique(Y)\n",
    "\n",
    "axs[0].scatter\n",
    "axs[1].scatter\n",
    "\n",
    "axs[0].set_xlabel('X1')\n",
    "axs[1].set_xlabel('X1')\n",
    "axs[0].set_ylabel('X2')\n",
    "axs[1].set_ylabel('X2')\n",
    "axs[0].set_title(str(hidden))\n",
    "axs[1].set_title('PCA')\n",
    "axs[0].legend()"
   ]
  },
  {
   "cell_type": "markdown",
   "metadata": {},
   "source": [
    "## What Autoencoder to use?\n",
    "\n",
    "Now that we have compared one autoencoder with PCA, the question of how to tune the model width and depth naturally arises. We will try to solve these questions in isolation first, and then combine them to find the best autoencoder we can get. "
   ]
  },
  {
   "cell_type": "markdown",
   "metadata": {},
   "source": [
    "## Task D: Width Optimisation\n",
    "\n",
    "Write a loop that tries to find the best model width. Start with our model from the begining of the lab, and each time you widen the model, add a layer of nodes to the left and to the right. Record the final loss value for each model so that we can plot a learning curve over the model width. For a model class like a neural network this can be very expensive, so we will only perform one repetition, can keep the size of our sweep fairly limited for the purposes of finishing this lab in a timely manner. \n",
    "\n",
    "Note that in the standard autoencoder architecture, the number of nodes in a hidden layer is inversely proportional to that layer's distance fromthe centre. That is, the hidden layer will have the fewest nodes, layers one away from the centre will have the second least nodes, and so on. Additionally the network will be symetric about the central node, in terms of the number of layers and depth of layers. \n",
    "\n",
    "For this reason, as we add layers to the left and right, let us also increase the depth of these new layers by 50 each time. We will try and optimise this depth increase as well as we progress in the lab. \n",
    "\n",
    "When you look at the plot comparing number of layers to mean squared error, what do you think is the impact of adding more layers to the network?"
   ]
  },
  {
   "cell_type": "code",
   "execution_count": null,
   "metadata": {},
   "outputs": [],
   "source": [
    "epochs = 10\n",
    "lr = 0.001\n",
    "activation = 'Tanh'\n",
    "max_iter = 5\n",
    "final_lossses = []\n",
    "hidden = [2]\n",
    "model_loss = []\n",
    "for i in range(max_iter):\n",
    "    hidden = \n",
    "    print('Hidden={0}'.format(hidden))\n",
    "    \n",
    "    res = train_autoencoder(    \n",
    "            X_train = , # training data\n",
    "            hidden = , # number of layers and their units\n",
    "            epochs = , # maximum number of epoches  \n",
    "            activation = , # activation function\n",
    "            lr = ,   #learning rate\n",
    "            trace=False)\n",
    "\n",
    "    final_loss = res[1][-1]\n",
    "    final_lossses += [final_loss]\n",
    "    print('final loss = {0}'.format(final_loss))\n"
   ]
  },
  {
   "cell_type": "code",
   "execution_count": null,
   "metadata": {},
   "outputs": [],
   "source": [
    "plt.plot(range(3, max_iter+3), final_lossses)"
   ]
  },
  {
   "cell_type": "markdown",
   "metadata": {},
   "source": [
    "## Task E: Depth Optimisation\n",
    "\n",
    "Next, write a loop that tries to find the best model depth. Start with our model from the begining of the lab, and each time you deepen the model, add 100 nodes the left and right layers. Record the final loss value for each model so that we can plot a learning curve over the model width.\n",
    "\n",
    "When you look at the plot comparing the depth of the deepest layer to mean squared error, what do you think is the impact of adding more neurons to a layer?"
   ]
  },
  {
   "cell_type": "code",
   "execution_count": null,
   "metadata": {},
   "outputs": [],
   "source": [
    "epochs = 10\n",
    "lr = 0.001\n",
    "activation = 'Tanh'\n",
    "max_iter = 5\n",
    "final_lossses = []\n",
    "\n",
    "model_loss = []\n",
    "for i in range(max_iter):\n",
    "    hidden = \n",
    "    print('Hidden={0}'.format(hidden))\n",
    "    \n",
    "    res = train_autoencoder(    \n",
    "            X_train = , # training data\n",
    "            hidden = , # number of layers and their units\n",
    "            epochs = , # maximum number of epoches  \n",
    "            activation = , # activation function\n",
    "            lr = ,   #learning rate\n",
    "            trace=False)\n",
    "\n",
    "    final_loss = res[1][-1]\n",
    "    final_lossses += [final_loss]\n",
    "\n",
    "    print('final loss = {0}'.format(final_loss))"
   ]
  },
  {
   "cell_type": "code",
   "execution_count": null,
   "metadata": {},
   "outputs": [],
   "source": [
    "plt.plot(range(100, (max_iter+1)*(100), 100), final_lossses)"
   ]
  },
  {
   "cell_type": "markdown",
   "metadata": {},
   "source": [
    "## Depth and Width Optimisation\n",
    "\n",
    "Next, let's try and find the optimal tradeoff between the depth of our autoencoder layers and the number of layers. "
   ]
  },
  {
   "cell_type": "markdown",
   "metadata": {},
   "source": [
    "## Task F: Optimal Autoencoder\n",
    "\n",
    "Find the optimal tradeoff between number of nodes in the deepest layer and number of layers. Keep track of the number of layers and maximum depth and the plot a heatmap of this tradeoff. In all cases, use our standard `hidden = [100, 2, 100]` as the starting point. Even with the `train_0_3_small.csv` dataset this can take a few minutes. "
   ]
  },
  {
   "cell_type": "code",
   "execution_count": null,
   "metadata": {},
   "outputs": [],
   "source": [
    "epochs = 10\n",
    "lr = 0.001\n",
    "activation = 'Tanh'\n",
    "\n",
    "depth_increment = [25, 50, 100, 200]\n",
    "max_layers = 5\n",
    "\n",
    "models = np.empty(shape=(len(depth_increment), max_layers), dtype=object)\n",
    "losses = np.zeros(shape=(len(depth_increment), max_layers))\n",
    "hidden_layers = np.empty(shape=(len(depth_increment), max_layers), dtype=list)\n",
    "for i, d_i in enumerate(depth_increment):\n",
    "    hidden = \n",
    "    for j in range(max_layers):\n",
    "        print('Hidden={0}'.format(hidden))\n",
    "                \n",
    "        res = train_autoencoder(    \n",
    "                        X_train = , # training data\n",
    "                        hidden = , # number of layers and their units\n",
    "                        epochs = , # maximum number of epoches  \n",
    "                        activation = , # activation function\n",
    "                        lr = ,   #learning rate\n",
    "                        trace=False)\n",
    "                       \n",
    "        model, loss_traj = res\n",
    "\n",
    "        models[i, j] = model\n",
    "        losses[i, j] = loss_traj[-1]\n",
    "        hidden_layers[i, j] = hidden\n",
    "\n",
    "        hidden = \n",
    "\n",
    "    print('final loss = {0}'.format(loss_traj[-1]))"
   ]
  },
  {
   "cell_type": "markdown",
   "metadata": {},
   "source": [
    "## Task G: Compare Dimensionality Reduction\n",
    "\n",
    "Let us return to the dimensionality reduction plots we looked at in Task C, but now compare every choice of model we have seen so far. \n",
    "Complete the code below to create a grid of plots comparing the model performance with the various hyperparameter chocies we made. Which set of hyperparameters do you think works best? How does this compare to our PCA result?"
   ]
  },
  {
   "cell_type": "code",
   "execution_count": null,
   "metadata": {},
   "outputs": [],
   "source": [
    "fig, axs = plt.subplots(len(depth_increment), max_layers)\n",
    "fig.set_figheight(6*len(depth_increment))\n",
    "fig.set_figwidth(6*max_layers)\n",
    "\n",
    "for i, d_e in enumerate(depth_increment):\n",
    "    for j in range(max_layers):\n",
    "        hidden = hidden_layers[i, j]\n",
    "        model = models[i, j]\n",
    "        loss = losses[i, j]\n",
    "        if (i==0 and j ==0) or j!=0:\n",
    "            mid = \n",
    "            project = \n",
    "            axs[i, j]\n",
    "            axs[i, j].set_xlabel('X1')\n",
    "            axs[i, j].set_ylabel('X2')\n",
    "            axs[i, j].set_title(str(hidden))\n",
    "\n",
    "## perform pca\n",
    "pca = PCA(n_components=2)\n",
    "_2D_features = pca.fit_transform(normalize(X))\n",
    "axs[-1, 0].\n",
    "axs[-1, 0].set_xlabel('X1')\n",
    "axs[-1, 0].set_ylabel('X2')\n",
    "axs[-1, 0].set_title('PCA')"
   ]
  },
  {
   "cell_type": "markdown",
   "metadata": {},
   "source": [
    "## Task G: Examples of Model Output\n",
    "\n",
    "Let's conclude this lab by using the `show_images` function from Activity5.py. This will give us a visual illustration of how well our model did at fitting the data. "
   ]
  },
  {
   "cell_type": "code",
   "execution_count": 168,
   "metadata": {},
   "outputs": [],
   "source": [
    "X_pre = get_dataloader(X,autoencoder=True,return_dataset=True)[1].tensors[0]"
   ]
  },
  {
   "cell_type": "markdown",
   "metadata": {},
   "source": [
    "We can look directly at our data to see what the true classes are:"
   ]
  },
  {
   "cell_type": "code",
   "execution_count": null,
   "metadata": {},
   "outputs": [],
   "source": [
    "show_images(X[:10], Y[:10])"
   ]
  },
  {
   "cell_type": "markdown",
   "metadata": {},
   "source": [
    "Or we can test how well our model with hidden layers `[100, 2, 100]` performed:"
   ]
  },
  {
   "cell_type": "code",
   "execution_count": null,
   "metadata": {},
   "outputs": [],
   "source": [
    "with torch.no_grad():\n",
    "    out = models[0, 0](X_pre)\n",
    "show_images(out[:10])"
   ]
  },
  {
   "cell_type": "markdown",
   "metadata": {},
   "source": [
    "With this visual inspection of our results, which model do you think reconstructed the truth best?"
   ]
  },
  {
   "cell_type": "code",
   "execution_count": null,
   "metadata": {},
   "outputs": [],
   "source": [
    "print('True Data')\n",
    "show_images(X[:10], Y[:10])\n",
    "\n",
    "with torch.no_grad():\n",
    "    for i, d_e in enumerate(depth_increment):\n",
    "        for j in range(max_layers):\n",
    "            if (i==0 and j == 0) or j!=0:\n",
    "                hidden = hidden_layers[i, j]\n",
    "                print(hidden)\n",
    "                out = models[i, j](X_pre)\n",
    "                show_images(out[:10])\n"
   ]
  },
  {
   "cell_type": "markdown",
   "metadata": {},
   "source": [
    "## Discussions\n",
    "1- Does increasing the number of layers help us creating more discreminative features? \n",
    "\n",
    "2- In general, how the number of hidden layers (i.e., the depth of the autoencoder) affects the performance of the network (in terms of reconstruction accuracy and time complexity)?\n",
    "\n",
    "3- In typical problems, what factors prevent us from building very deep networks (with hundreds of layers)?\n",
    "\n",
    "4- What would be the effect of increasing the maximum number of epochs?"
   ]
  }
 ],
 "metadata": {
  "kernelspec": {
   "display_name": "Python 3",
   "language": "python",
   "name": "python3"
  },
  "language_info": {
   "codemirror_mode": {
    "name": "ipython",
    "version": 3
   },
   "file_extension": ".py",
   "mimetype": "text/x-python",
   "name": "python",
   "nbconvert_exporter": "python",
   "pygments_lexer": "ipython3",
   "version": "3.8.10"
  }
 },
 "nbformat": 4,
 "nbformat_minor": 4
}
