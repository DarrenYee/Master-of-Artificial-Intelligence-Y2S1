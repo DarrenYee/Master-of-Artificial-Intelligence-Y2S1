{
 "cells": [
  {
   "cell_type": "markdown",
   "metadata": {},
   "source": [
    "# Activity 5.1 Neural Network\n",
    "\n",
    "(Last Modified September 4th 2023)\n",
    "\n",
    "This Laboratory activity should take approximately two hours to complete."
   ]
  },
  {
   "cell_type": "markdown",
   "metadata": {},
   "source": [
    "## Learning Outcomes\n",
    "\n",
    "In this activity you will learn to:\n",
    "- Implement a simple three layer Neural Network for the classification classification problem\n",
    "- Explore the effect of initialization on model selection. \n"
   ]
  },
  {
   "cell_type": "markdown",
   "metadata": {},
   "source": [
    "## Prerequisites\n",
    "\n",
    "- Lecture 9\n",
    "- Module 3"
   ]
  },
  {
   "cell_type": "markdown",
   "metadata": {},
   "source": [
    "# Linearly Separable Classes\n",
    "## Synthetic Data Generation \n",
    "Here we follow an approach similar to what we took to produce the datasets for classification problems in Module 3."
   ]
  },
  {
   "cell_type": "code",
   "execution_count": 5,
   "metadata": {},
   "outputs": [
    {
     "ename": "ModuleNotFoundError",
     "evalue": "No module named 'Activity5'",
     "output_type": "error",
     "traceback": [
      "\u001b[1;31m---------------------------------------------------------------------------\u001b[0m",
      "\u001b[1;31mModuleNotFoundError\u001b[0m                       Traceback (most recent call last)",
      "Cell \u001b[1;32mIn[5], line 1\u001b[0m\n\u001b[1;32m----> 1\u001b[0m \u001b[38;5;28;01mfrom\u001b[39;00m \u001b[38;5;21;01mActivity5\u001b[39;00m \u001b[38;5;28;01mimport\u001b[39;00m make_gaussian_mixture_data\n\u001b[0;32m      2\u001b[0m \u001b[38;5;28;01mimport\u001b[39;00m \u001b[38;5;21;01mnumpy\u001b[39;00m \u001b[38;5;28;01mas\u001b[39;00m \u001b[38;5;21;01mnp\u001b[39;00m\n\u001b[0;32m      4\u001b[0m \u001b[38;5;66;03m## Generative parameters\u001b[39;00m\n",
      "\u001b[1;31mModuleNotFoundError\u001b[0m: No module named 'Activity5'"
     ]
    }
   ],
   "source": [
    "from Activity5 import make_gaussian_mixture_data\n",
    "import numpy as np\n",
    "\n",
    "## Generative parameters\n",
    "c0 = 0; c1 = 1 # class labels\n",
    "mu0 = [4.5, 0.5]; p0 = 0.60\n",
    "mu1 = [1.0, 4.0]; p1 = 1 - p0\n",
    "sigma =  np.eye(2) # shared covariance matrix\n",
    "sigma0 = sigma;   sigma1 = sigma\n",
    "\n",
    "covs = np.array([sigma0, sigma1])\n",
    "means = np.array([mu0, mu1])\n",
    "class_probs = np.array([p0, p1])\n",
    "\n",
    "random_state = 123\n",
    "n = 100\n",
    "\n",
    "X, y = make_gaussian_mixture_data(n=n, means=means, covs=covs, class_probs=class_probs, random_state=random_state)\n",
    "\n",
    "N0 = np.sum(y==0)\n",
    "N1 = n - N0"
   ]
  },
  {
   "cell_type": "code",
   "execution_count": 6,
   "metadata": {},
   "outputs": [
    {
     "ename": "ModuleNotFoundError",
     "evalue": "No module named 'Activity5'",
     "output_type": "error",
     "traceback": [
      "\u001b[1;31m---------------------------------------------------------------------------\u001b[0m",
      "\u001b[1;31mModuleNotFoundError\u001b[0m                       Traceback (most recent call last)",
      "Cell \u001b[1;32mIn[6], line 2\u001b[0m\n\u001b[0;32m      1\u001b[0m \u001b[38;5;28;01mimport\u001b[39;00m \u001b[38;5;21;01mmatplotlib\u001b[39;00m\u001b[38;5;21;01m.\u001b[39;00m\u001b[38;5;21;01mpyplot\u001b[39;00m \u001b[38;5;28;01mas\u001b[39;00m \u001b[38;5;21;01mplt\u001b[39;00m\n\u001b[1;32m----> 2\u001b[0m \u001b[38;5;28;01mfrom\u001b[39;00m \u001b[38;5;21;01mActivity5\u001b[39;00m \u001b[38;5;28;01mimport\u001b[39;00m plot_scatter_by_label\n\u001b[0;32m      4\u001b[0m plot_scatter_by_label(X\u001b[38;5;241m=\u001b[39mX, y\u001b[38;5;241m=\u001b[39my)\n",
      "\u001b[1;31mModuleNotFoundError\u001b[0m: No module named 'Activity5'"
     ]
    }
   ],
   "source": [
    "import matplotlib.pyplot as plt\n",
    "from Activity5 import plot_scatter_by_label\n",
    "\n",
    "plot_scatter_by_label(X=X, y=y)"
   ]
  },
  {
   "cell_type": "markdown",
   "metadata": {},
   "source": [
    "## Neural Network\n",
    "In this example we implement a simple 3-layer (i.e., the input layer, one hidden layer and the output layer) network with sigmoid as the activation function. \n",
    "\n",
    "Note that the implementation below is not a modular implementation (i.e. it is only for a 3-layer neural network with a sigmoid activation), a good exercise would be to think how to modularize this implementation to any number of hidden layers and any type of activations."
   ]
  },
  {
   "cell_type": "markdown",
   "metadata": {},
   "source": [
    "### Auxiliary Functions\n",
    "We need to define some auxiliary functions. In particular, we need to implement an activation function `h` and its derivitive `h_d`. Finally, we implement `accuracy` function that calculates the accuracy percentage.\n"
   ]
  },
  {
   "cell_type": "markdown",
   "metadata": {},
   "source": [
    "### Task A: Activation Function\n",
    "\n",
    "Use the chain rule to compute the derivative of the activation function and then implement a to compute it."
   ]
  },
  {
   "cell_type": "code",
   "execution_count": 7,
   "metadata": {},
   "outputs": [],
   "source": [
    "# auxiliary functions \n",
    "## the activation function (sigmoid here)\n",
    "def h(z):\n",
    "    return (1/(1+np.exp(-3*z)))\n",
    "\n",
    "## the derivitive of the activation function (sigmoid here)\n",
    "def h_d(z):\n",
    "    return (h(z)*(1-h(z)))\n",
    "\n",
    "## Accuracy\n",
    "def accuracy(pred, label):\n",
    "    return (pred == label).mean()"
   ]
  },
  {
   "cell_type": "markdown",
   "metadata": {},
   "source": [
    "### Name Conventions\n",
    "We choose variable names to be close to the math terms in Chapter 2. Form now on, `N` referes to the number of training data. `X1` and `T1` indicate to train data and labels, while `X2` and `T2` refer to test data and labels, respectively.\n",
    "\n",
    "`Wn` and `bn` are refereing to weight matrix and bias term for layer `n` (here `n` is either `1` or `2`), and `_d` stands for delta. Finally, `an` and `zn` are denoting the total weighted sum activation and its activation value (here `n` is in `[0:2]`).\n",
    "\n",
    "The following code splits the data sample into a train and test split using the names described above."
   ]
  },
  {
   "cell_type": "code",
   "execution_count": 8,
   "metadata": {},
   "outputs": [
    {
     "ename": "NameError",
     "evalue": "name 'X' is not defined",
     "output_type": "error",
     "traceback": [
      "\u001b[1;31m---------------------------------------------------------------------------\u001b[0m",
      "\u001b[1;31mNameError\u001b[0m                                 Traceback (most recent call last)",
      "Cell \u001b[1;32mIn[8], line 4\u001b[0m\n\u001b[0;32m      1\u001b[0m \u001b[38;5;28;01mfrom\u001b[39;00m \u001b[38;5;21;01msklearn\u001b[39;00m\u001b[38;5;21;01m.\u001b[39;00m\u001b[38;5;21;01mmodel_selection\u001b[39;00m \u001b[38;5;28;01mimport\u001b[39;00m train_test_split\n\u001b[0;32m      3\u001b[0m train_size\u001b[38;5;241m=\u001b[39m\u001b[38;5;241m0.5\u001b[39m\n\u001b[1;32m----> 4\u001b[0m X1, X2, T1, T2 \u001b[38;5;241m=\u001b[39m train_test_split(X, y, train_size\u001b[38;5;241m=\u001b[39mtrain_size, random_state\u001b[38;5;241m=\u001b[39mrandom_state)\n\u001b[0;32m      5\u001b[0m N \u001b[38;5;241m=\u001b[39m X1\u001b[38;5;241m.\u001b[39mshape[\u001b[38;5;241m0\u001b[39m]\n\u001b[0;32m      6\u001b[0m D \u001b[38;5;241m=\u001b[39m X1\u001b[38;5;241m.\u001b[39mshape[\u001b[38;5;241m1\u001b[39m]\n",
      "\u001b[1;31mNameError\u001b[0m: name 'X' is not defined"
     ]
    }
   ],
   "source": [
    "from sklearn.model_selection import train_test_split\n",
    "\n",
    "train_size=0.5\n",
    "X1, X2, T1, T2 = train_test_split(X, y, train_size=train_size, random_state=random_state)\n",
    "N = X1.shape[0]\n",
    "D = X1.shape[1]\n",
    "\n",
    "T1 = T1.reshape(-1, 1)\n",
    "T2 = T2.reshape(-1, 1)\n",
    "\n",
    "N, D"
   ]
  },
  {
   "cell_type": "markdown",
   "metadata": {},
   "source": [
    "### Feedforward Function\n",
    "The following function perform one feedforward pass for a 3-layer feedforward network. We will call this function in a loop to train our network.\n",
    "\n",
    "In each layer we are taking a linear combination of a nonlinear transformation on the data, which is then fed into the next layer. \n",
    "\n",
    "The full transformation we are applying is:\n",
    "\\begin{equation}\n",
    "z_3 = a_2 W_2 + b_2\n",
    "\\end{equation}\n",
    "\n",
    "\\begin{equation}\n",
    "a_3 = h(z_3)\n",
    "\\end{equation}\n",
    "\n",
    "Where\n",
    "\n",
    "\\begin{equation}\n",
    "a_2 = h(z_2)\n",
    "\\end{equation}\n",
    "\n",
    "\\begin{equation}\n",
    "z_2 = a_1 W_1 + b_1\n",
    "\\end{equation}\n",
    "\n",
    "and \n",
    "\n",
    "\\begin{equation}\n",
    "a_1 = X_i\n",
    "\\end{equation}"
   ]
  },
  {
   "cell_type": "markdown",
   "metadata": {},
   "source": [
    "### Task B: Feedforward\n",
    "\n",
    "Complete the feedforward function below using the transformations described above."
   ]
  },
  {
   "cell_type": "code",
   "execution_count": 9,
   "metadata": {},
   "outputs": [],
   "source": [
    "def feedforward(Xi, Ti, W1, b1, W2, b2):\n",
    "    ### 1st (input) layer \n",
    "    a1 = Xi                           \n",
    "    y = Ti                          \n",
    "    ### 2nd (hidden) layer\n",
    "    z2 = a1 @ W1 + b1                            \n",
    "    a2 = h(z2)                                  \n",
    "    ### 3rd (output) layer\n",
    "    z3 = a2 @ W2 + b2                         \n",
    "    a3 = h(z3)                            \n",
    "    return(a1, a2, a3, y, z2, z3)"
   ]
  },
  {
   "cell_type": "markdown",
   "metadata": {},
   "source": [
    "### Backpropagation Function\n",
    "The following function performs one backpropagation pass for a 3-layer feedforward network. We will call this function after each feedforward step..\n",
    "\n",
    "We make use of the chain rule to calculate an update value for our weight vectors. \n",
    "\n",
    "\\begin{equation}\n",
    "d_3 = -(T_i-a_3)\\frac{dh}{dz}(z_3)\n",
    "\\end{equation}\n",
    "\n",
    "\\begin{equation}\n",
    "d_2 =  d_3 W_2^T \\frac{dh}{dz}(z2)                          \n",
    "\\end{equation}\n"
   ]
  },
  {
   "cell_type": "markdown",
   "metadata": {},
   "source": [
    "### Task C: Backpropagation\n",
    "\n",
    "Complete the Backpropagation function below using the transformations described above."
   ]
  },
  {
   "cell_type": "code",
   "execution_count": 10,
   "metadata": {},
   "outputs": [],
   "source": [
    "def backpropagation(Ti, W2, z2, z3, a3):\n",
    "    ### 3rd (output) layer\n",
    "    d3 = -(Ti-a3) * h_d(z3)                          \n",
    "    ### 2nd (hidden) layer\n",
    "    d2 =  (d3 @ W2.T) * h_d(z2)                          \n",
    "    return(d2,d3)\n"
   ]
  },
  {
   "cell_type": "markdown",
   "metadata": {},
   "source": [
    "**Note 1:** Since the output of our neural network is the probability of class `c1`, we classify the points with any probability larger than `0.5` as a member of `c1`. All the other points will be labeled as `c0`. `c1` and `c0` in our case are `1` and `0` respectively."
   ]
  },
  {
   "cell_type": "code",
   "execution_count": 4,
   "metadata": {},
   "outputs": [],
   "source": [
    "# one more aux functions before we start\n",
    "def prediction(X, W1, W2, b1, b2, threshold=0.5):\n",
    "    # we use the feedforward network we defined to obtain output activation (a3), we don't care about the\n",
    "    # rest so we use _ to store them. We also don't need to send T so we just send 1 instead\n",
    "    _,_, a3,_,_,_ = feedforward(X, 1,W1,b1, W2, b2)\n",
    "    return np.array([1 if above_thresh else 0 for above_thresh in (a3 >= threshold)]).reshape(-1,1)\n",
    "    "
   ]
  },
  {
   "cell_type": "markdown",
   "metadata": {},
   "source": [
    "### Initialization\n",
    "Like any other algorithms, NN starts with some parameter settings and initializations. Here, `K` indicates the number of units (neurons) in the hidden layer."
   ]
  },
  {
   "cell_type": "code",
   "execution_count": 8,
   "metadata": {},
   "outputs": [],
   "source": [
    "# Setting parameters\n",
    "K = 3 # number of units in the hidden layer\n",
    "epoch_max = 1000 # maximum number of iterations\n",
    "eta = 0.1 # learning rate\n",
    "alpha = 0.0001 # regularization term\n",
    "\n",
    "# initialization\n",
    "epoch = 1 # epoch (iteration) counter\n",
    "terminate = False   # termination criteria\n",
    "\n",
    "## weight vectors/matrices initialization\n",
    "### w stands for weight and b for bias\n",
    "### the number after the letters indicates the layer number\n",
    "W1 = np.random.normal(scale=0.5, size=(D,K)) * 0.01\n",
    "b1 = np.zeros((1,K))\n",
    "W2 = np.random.normal(scale=0.5, size=(K,1)) * 0.01\n",
    "b2 = np.zeros((1,1))\n",
    "## tracing accuracy of the model \n",
    "train_accuracy = []"
   ]
  },
  {
   "cell_type": "markdown",
   "metadata": {},
   "source": [
    "### Main Loop\n",
    "Now it's time to iteratively run the feed-forward and back-propagation passes."
   ]
  },
  {
   "cell_type": "markdown",
   "metadata": {},
   "source": [
    "### Task D: Training Loop\n",
    "\n",
    "Use the feedforward and backpropagation functions to complete the training loop below. Use the output of these functions to compute updates to the weight and bias terms of each layer. "
   ]
  },
  {
   "cell_type": "code",
   "execution_count": 9,
   "metadata": {},
   "outputs": [
    {
     "name": "stdout",
     "output_type": "stream",
     "text": [
      "Done!\n"
     ]
    }
   ],
   "source": [
    "# main loop\n",
    "while (not terminate):\n",
    "    \n",
    "    ## delta vectors/matrices initialization (for batch backpropagation)\n",
    "    ### _d stands for delta - we use zeros_like function to maintain the dimensions\n",
    "    W1_d = np.zeros_like(W1)\n",
    "    b1_d = np.zeros_like(b1)\n",
    "    W2_d = np.zeros_like(W2)\n",
    "    b2_d = np.zeros_like(b2)\n",
    "    \n",
    "    ## inner loop for each train sample (do we really need this loop or can we use vectorized notation)\n",
    "    # try to remove this loop and you will get a significant speed up\n",
    "    for i in range(N):\n",
    "        ## Feedforward:\n",
    "        a1, a2, a3, y, z2, z3 = feedforward(X1[i,None], T1[i], W1, b1, W2, b2)\n",
    "\n",
    "        ## Backpropagation:\n",
    "        d2, d3 = backpropagation(T1[i], W2, z2, z3, a3)\n",
    "\n",
    "        ## calculate the delta values\n",
    "        ### 1st layer\n",
    "        W1_d = W1_d + a1.T @ d2\n",
    "        b1_d = b1_d + d2\n",
    "        ### 2nd layer\n",
    "        W2_d = W2_d + a2.T @ d3\n",
    "        b2_d = b2_d + d3\n",
    "\n",
    "\n",
    "    \n",
    "    ## update weight vectors and matrices\n",
    "    ### 1st (input) layer\n",
    "    W1 = W1 - eta * (W1_d/N + alpha*W1)\n",
    "    b1 = b1 - eta * (b1_d/N)\n",
    "    ### 2nd (hidden) layer\n",
    "    W2 = W2 - eta * (W2_d/N + alpha*W2)\n",
    "    b2 = b2 - eta * (b2_d/N)\n",
    "\n",
    "    ## trace train accuracy\n",
    "    train_accuracy.append(accuracy(prediction(X1, W1, W2, b1, b2), T1))\n",
    "    \n",
    "    ## increase the iteration counter\n",
    "    epoch = epoch + 1\n",
    "    \n",
    "    ## check the termination criteria\n",
    "    if (epoch >= epoch_max) or train_accuracy[-1]==1: terminate = True\n",
    "print('Done!')"
   ]
  },
  {
   "cell_type": "markdown",
   "metadata": {},
   "source": [
    "### Evaluation\n",
    "Let's visualize the classification accuracy trend as the training goes on:"
   ]
  },
  {
   "cell_type": "code",
   "execution_count": 10,
   "metadata": {},
   "outputs": [
    {
     "data": {
      "text/plain": [
       "Text(0.5, 1.0, 'Training Accuracy during training')"
      ]
     },
     "execution_count": 10,
     "metadata": {},
     "output_type": "execute_result"
    },
    {
     "data": {
      "image/png": "[encoded data removed]",
      "text/plain": [
       "<Figure size 432x288 with 1 Axes>"
      ]
     },
     "metadata": {
      "needs_background": "light"
     },
     "output_type": "display_data"
    }
   ],
   "source": [
    "## Train Accuracy\n",
    "plt.plot(train_accuracy)\n",
    "plt.xlabel('Epochs')\n",
    "plt.ylabel('Accruacy')\n",
    "plt.title('Training Accuracy during training')"
   ]
  },
  {
   "cell_type": "markdown",
   "metadata": {},
   "source": [
    "# Linearly Non-separable Classes\n",
    "## Synthetic Data Generation \n",
    "The dataset we generated for the previous experiemnts is rather easily separable using a linear model. One can modify the data generator code and repeat the experiments on more difficult samples (i.g., closer $\\mu$, non-shared and identical $\\Sigma$, or very imbalanced class sizes). Another approach to challenge our NN is to apply it on linearly non-separable classes where at least one of the classes is multi-modal (like two or more separate islands). The code below produces this sort of data."
   ]
  },
  {
   "cell_type": "code",
   "execution_count": 11,
   "metadata": {},
   "outputs": [
    {
     "data": {
      "text/plain": [
       "<AxesSubplot:title={'center':'Gaussian Mixture'}, xlabel='X0', ylabel='X1'>"
      ]
     },
     "execution_count": 11,
     "metadata": {},
     "output_type": "execute_result"
    },
    {
     "data": {
      "image/png": "[encoded data removed]",
      "text/plain": [
       "<Figure size 576x432 with 1 Axes>"
      ]
     },
     "metadata": {
      "needs_background": "light"
     },
     "output_type": "display_data"
    }
   ],
   "source": [
    "# Set the parameters:\n",
    "n2 = 1000 # number of samples\n",
    "K = 3    # number of clusters\n",
    "D = 2    # number of dimensions\n",
    "\n",
    "# Initializations:\n",
    "# Psi(k) indicates the fraction of samples that are from cluster k\n",
    "Psi = np.array([0.5,0.3,0.2]) \n",
    "# initiate  the effective number of points assigned to each cluster\n",
    "Nk = np.zeros(K,dtype='int')    \n",
    "# initiate the centriods (means) of the clusters (randomly chosen)\n",
    "Mu = np.array([[4.5,0.5],[1,4],[3,-3]])\n",
    "# initiate the covariance matrices   \n",
    "Sigma = np.array([np.eye(D) for _ in range(K)])\n",
    "\n",
    "X, y = make_gaussian_mixture_data(n=n2, means=Mu, covs=Sigma, class_probs=Psi, random_state=random_state)\n",
    "\n",
    "# Generate data:\n",
    "feat_names= ['x%d'%(i+1) for i in range(D)]\n",
    "\n",
    "plot_scatter_by_label(X, y)"
   ]
  },
  {
   "cell_type": "code",
   "execution_count": 12,
   "metadata": {},
   "outputs": [
    {
     "data": {
      "text/plain": [
       "(500, 2)"
      ]
     },
     "execution_count": 12,
     "metadata": {},
     "output_type": "execute_result"
    }
   ],
   "source": [
    "train_size=0.5\n",
    "X1, X2, T1, T2 = train_test_split(X, y, train_size=train_size, random_state=random_state)\n",
    "N = X1.shape[0]\n",
    "D = X1.shape[1]\n",
    "\n",
    "T1 = T1.reshape(-1, 1)\n",
    "T2 = T2.reshape(-1, 1)\n",
    "\n",
    "N, D"
   ]
  },
  {
   "cell_type": "markdown",
   "metadata": {},
   "source": [
    "Now, we can repeat the above experiments on this linearly non-separable dataset. However, let's first put the pieces of the above code togather to define a function which trains a 3-layer NN with `K` units in the hiden layer, and returns the training and testing accuracies."
   ]
  },
  {
   "cell_type": "code",
   "execution_count": 13,
   "metadata": {},
   "outputs": [],
   "source": [
    "def NN(K, X1, T1, X2, T2, epoch_max=500, seed=None):\n",
    "    if seed is not None: np.random.seed(seed)\n",
    "    # Setting parameters\n",
    "    eta = 0.1 # learning rate\n",
    "    alpha = 0.0001 # regularization term\n",
    "    N,D = X1.shape\n",
    "\n",
    "    # initialization\n",
    "    epoch = 1 # epoch (iteration) counter\n",
    "    terminate = False   # termination criteria\n",
    "\n",
    "    ## weight vectors/matrices initialization\n",
    "    ### w stands for weight and b for bias\n",
    "    ### the numbers after the letters indicates the layer number\n",
    "    W1 = np.random.normal(scale=0.5, size=(D,K)) * 0.01\n",
    "    b1 = np.zeros((1,K))\n",
    "    W2 = np.random.normal(scale=0.5, size=(K,1)) * 0.01\n",
    "    b2 = np.zeros((1,1))\n",
    "    ## tracing accuracy of the model \n",
    "    train_accuracy = []\n",
    "    test_accuracy = []\n",
    "    \n",
    "    # main loop\n",
    "    while (not terminate):\n",
    "\n",
    "        # note that this is the vectorised implementaion so it slightly differs from the above implementation\n",
    "        # try to spot and rationalize the differences.\n",
    "        ## Feedforward:\n",
    "        a1, a2, a3, y, z2, z3 = feedforward(X1, T1, W1, b1, W2, b2)\n",
    "\n",
    "        ## Backpropagation:\n",
    "        d2, d3 = backpropagation(T1, W2, z2, z3, a3)\n",
    "\n",
    "        ## calculate the delta values\n",
    "        ### 1st layer\n",
    "        W1_d = a1.T @ d2\n",
    "        b1_d = d2\n",
    "        ### 2nd layer\n",
    "        W2_d = a2.T @ d3\n",
    "        b2_d = d3\n",
    "\n",
    "        ## update weight vectors and matrices\n",
    "        ### 1st (input) layer\n",
    "        W1 = W1 - eta * (W1_d/N + alpha*W1)\n",
    "        b1 = b1 - eta * (b1_d.mean(axis=0, keepdims=True))\n",
    "        ### 2nd (hidden) layer\n",
    "        W2 = W2 - eta * (W2_d/N + alpha*W2)\n",
    "        b2 = b2 - eta * (b2_d.mean(axis=0, keepdims=True))\n",
    "\n",
    "        ## trace train  and test accuracy\n",
    "        train_accuracy.append(accuracy(prediction(X1, W1, W2, b1, b2), T1))\n",
    "        test_accuracy.append(accuracy(prediction(X2, W1, W2, b1, b2), T2))\n",
    "        ## increase the iteration counter\n",
    "        epoch = epoch + 1\n",
    "\n",
    "        ## check the termination criteria\n",
    "        if (epoch >= epoch_max): terminate = True\n",
    "        \n",
    "    return (train_accuracy,test_accuracy)\n"
   ]
  },
  {
   "cell_type": "markdown",
   "metadata": {},
   "source": [
    "Now we train our network and plot the training accuracy."
   ]
  },
  {
   "cell_type": "code",
   "execution_count": 14,
   "metadata": {},
   "outputs": [],
   "source": [
    "train,test = NN(3,X1, T1, X2, T2, epoch_max = 2500)"
   ]
  },
  {
   "cell_type": "code",
   "execution_count": 15,
   "metadata": {},
   "outputs": [
    {
     "data": {
      "text/plain": [
       "<matplotlib.legend.Legend at 0x7f0a3c461cd0>"
      ]
     },
     "execution_count": 15,
     "metadata": {},
     "output_type": "execute_result"
    },
    {
     "data": {
      "image/png": "[encoded data removed]",
      "text/plain": [
       "<Figure size 576x432 with 1 Axes>"
      ]
     },
     "metadata": {
      "needs_background": "light"
     },
     "output_type": "display_data"
    }
   ],
   "source": [
    "fig, axs = plt.subplots(1, 1)\n",
    "fig.set_figwidth(8)\n",
    "fig.set_figheight(6)\n",
    "\n",
    "axs.plot(range(len(train)), train, label='Train Accuracy')\n",
    "axs.plot(range(len(test)), test, label='Test Accuracy')\n",
    "axs.set_xlabel('Epochs')\n",
    "axs.set_ylabel('Accuracy')\n",
    "axs.grid()\n",
    "axs.legend()"
   ]
  },
  {
   "cell_type": "markdown",
   "metadata": {},
   "source": [
    "## Model Selection\n",
    "In Modules 2 and 3 we learned that models may have different levels of generalization according to their complexities. We also know that the number of units in the hidden layer has a direct effect on the model complexity. Therefore, we intend to study the effect of the hidden layer size on the neural network performance. To perform such study, we repeat the above experiment several times (every time with a different subset of training samples) for different values of `neuron_count`. Then, we draw a boxplot to show the results."
   ]
  },
  {
   "cell_type": "markdown",
   "metadata": {},
   "source": [
    "### Task E: Hyperparameter Sweep\n",
    "\n",
    "Complete the function below which tests a range of neurons in the hidden layer, accross a number of repetitions of random data samples, and returns the train and test accuracy in a 3 dimensional matrix. "
   ]
  },
  {
   "cell_type": "code",
   "execution_count": 36,
   "metadata": {},
   "outputs": [
    {
     "name": "stdout",
     "output_type": "stream",
     "text": [
      "neurons=5, rep=0, train=0.456, test=0.5\n",
      "neurons=5, rep=1, train=0.472, test=0.451\n",
      "neurons=5, rep=2, train=0.522, test=0.514\n",
      "neurons=5, rep=3, train=0.453, test=0.411\n",
      "neurons=5, rep=4, train=0.468, test=0.47\n",
      "neurons=10, rep=0, train=0.533, test=0.56\n",
      "neurons=10, rep=1, train=0.574, test=0.558\n",
      "neurons=10, rep=2, train=0.573, test=0.556\n",
      "neurons=10, rep=3, train=0.557, test=0.581\n",
      "neurons=10, rep=4, train=0.511, test=0.533\n",
      "neurons=50, rep=0, train=0.607, test=0.614\n",
      "neurons=50, rep=1, train=0.597, test=0.587\n",
      "neurons=50, rep=2, train=0.639, test=0.637\n",
      "neurons=50, rep=3, train=0.66, test=0.651\n",
      "neurons=50, rep=4, train=0.631, test=0.629\n",
      "neurons=100, rep=0, train=0.654, test=0.632\n",
      "neurons=100, rep=1, train=0.644, test=0.67\n",
      "neurons=100, rep=2, train=0.655, test=0.659\n",
      "neurons=100, rep=3, train=0.624, test=0.624\n",
      "neurons=100, rep=4, train=0.629, test=0.622\n"
     ]
    }
   ],
   "source": [
    "def hyperparam_sweep(neuron_count, reps, n, epoch_max):\n",
    "    res = np.zeros(shape=(len(neuron_count), reps, 2))\n",
    "    for i, k in enumerate(neuron_count):\n",
    "        for j in range(reps):\n",
    "            print('neurons={0}, rep={1}, '.format(k, j), end='')\n",
    "\n",
    "            X1, T1 = make_gaussian_mixture_data(n=n, means=Mu, covs=Sigma, class_probs=Psi, random_state=None)\n",
    "            X2, T2 = make_gaussian_mixture_data(n=n, means=Mu, covs=Sigma, class_probs=Psi, random_state=None)\n",
    "\n",
    "            T1 = T1.reshape(-1, 1)\n",
    "            T2 = T2.reshape(-1, 1)\n",
    "\n",
    "            train, test = NN(k, X1, T1, X2, T2, epoch_max=600)\n",
    "\n",
    "            print('train={0}, test={1}'.format(train[-1], test[-1]))\n",
    "\n",
    "            res[i, j, :] = np.array([train[-1], test[-1]])\n",
    "    return res\n",
    "\n",
    "neuron_count = [5,10,50,100]\n",
    "reps = 5\n",
    "n = 1000\n",
    "\n",
    "epoch_max = 600\n",
    "res = hyperparam_sweep(neuron_count=neuron_count, reps=reps, n=n, epoch_max=epoch_max)"
   ]
  },
  {
   "cell_type": "markdown",
   "metadata": {},
   "source": [
    "### Task F: Model Selection\n",
    "\n",
    "Plot the train and test accuracy over the neuron choices used above. Include error bars which describe a 95% confidence interval. "
   ]
  },
  {
   "cell_type": "code",
   "execution_count": 34,
   "metadata": {},
   "outputs": [
    {
     "data": {
      "text/plain": [
       "Text(0.5, 1.0, 'Accuracy vs Number of Neurons in Hidden Layer')"
      ]
     },
     "execution_count": 34,
     "metadata": {},
     "output_type": "execute_result"
    },
    {
     "data": {
      "image/png": "[encoded data removed]",
      "text/plain": [
       "<Figure size 720x432 with 1 Axes>"
      ]
     },
     "metadata": {
      "needs_background": "light"
     },
     "output_type": "display_data"
    }
   ],
   "source": [
    "fig, axs = plt.subplots(1, 1)\n",
    "fig.set_figheight(6)\n",
    "fig.set_figwidth(10)\n",
    "res.shape\n",
    "\n",
    "mu_s = res.mean(axis=1)\n",
    "ste_s = 1.96*res.std(axis=1)/np.sqrt(reps)\n",
    "\n",
    "axs.errorbar(x=neuron_count, y=mu_s[:, 0], yerr=ste_s[:, 0], label='Train Accuracy', c='b')\n",
    "axs.errorbar(x=neuron_count, y=mu_s[:, 1], yerr=ste_s[:, 1], label='Train Accuracy', c='r')\n",
    "axs.legend()\n",
    "axs.grid()\n",
    "axs.set_xlabel('Neurons')\n",
    "axs.set_ylabel('Accuracy')\n",
    "axs.set_title('Accuracy vs Number of Neurons in Hidden Layer')"
   ]
  }
 ],
 "metadata": {
  "kernelspec": {
   "display_name": "Python 3 (ipykernel)",
   "language": "python",
   "name": "python3"
  },
  "language_info": {
   "codemirror_mode": {
    "name": "ipython",
    "version": 3
   },
   "file_extension": ".py",
   "mimetype": "text/x-python",
   "name": "python",
   "nbconvert_exporter": "python",
   "pygments_lexer": "ipython3",
   "version": "3.11.8"
  }
 },
 "nbformat": 4,
 "nbformat_minor": 4
}
